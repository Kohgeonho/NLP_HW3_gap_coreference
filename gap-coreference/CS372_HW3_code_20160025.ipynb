{
 "metadata": {
  "language_info": {
   "codemirror_mode": {
    "name": "ipython",
    "version": 3
   },
   "file_extension": ".py",
   "mimetype": "text/x-python",
   "name": "python",
   "nbconvert_exporter": "python",
   "pygments_lexer": "ipython3",
   "version": "3.8.10"
  },
  "orig_nbformat": 2,
  "kernelspec": {
   "name": "python3810jvsc74a57bd038e31c96aac6b52bfd92a03a517d6944ec75782017e4445807e0cb0d41655b05",
   "display_name": "Python 3.8.10 64-bit (windows store)"
  },
  "metadata": {
   "interpreter": {
    "hash": "38e31c96aac6b52bfd92a03a517d6944ec75782017e4445807e0cb0d41655b05"
   }
  }
 },
 "nbformat": 4,
 "nbformat_minor": 2,
 "cells": [
  {
   "cell_type": "code",
   "execution_count": 1,
   "metadata": {},
   "outputs": [],
   "source": [
    "from helper import *\n",
    "from funcs import *"
   ]
  },
  {
   "source": [
    "**tf.tsv**\n",
    "\n",
    "always predict A-coref as True and B-coref as False"
   ],
   "cell_type": "markdown",
   "metadata": {}
  },
  {
   "cell_type": "code",
   "execution_count": 2,
   "metadata": {},
   "outputs": [],
   "source": [
    "f_test = open(\"gap-test.tsv\", \"r\")\n",
    "result = open(\"tf.tsv\", 'w')\n",
    "test_data = f_test.readlines()\n",
    "\n",
    "for line in test_data[1:]:\n",
    "    attrs = line.split('\\t')\n",
    "    result.write(\"\\t\".join([attrs[0]] + ['True', 'False']) + \"\\n\")\n",
    "\n",
    "f_test.close()\n",
    "result.close()"
   ]
  },
  {
   "cell_type": "code",
   "execution_count": 3,
   "metadata": {},
   "outputs": [
    {
     "output_type": "stream",
     "name": "stdout",
     "text": [
      "Overall recall: 51.8 precision: 45.9 f1: 48.7gap_scorer.py:126: DeprecationWarning: 'U' mode is deprecated\n",
      "  with open(filename, 'rU') as f:\n",
      "\n",
      "\t\ttp 918\tfp 1082\n",
      "\t\tfn 855\ttn 1145\n",
      "Masculine recall: 51.0 precision: 45.3 f1: 48.0\n",
      "\t\ttp 453\tfp 547\n",
      "\t\tfn 436\ttn 564\n",
      "Feminine recall: 52.6 precision: 46.5 f1: 49.4\n",
      "\t\ttp 465\tfp 535\n",
      "\t\tfn 419\ttn 581\n",
      "Bias (F/M): 1.03\n",
      "\n"
     ]
    }
   ],
   "source": [
    "!python gap_scorer.py --gold_ts=gap-test.tsv --system_tsv=tf.tsv"
   ]
  },
  {
   "source": [
    "**closer.tsv**\n",
    "\n",
    "Predict closer coreference to pronoun as True"
   ],
   "cell_type": "markdown",
   "metadata": {}
  },
  {
   "cell_type": "code",
   "execution_count": 4,
   "metadata": {
    "tags": []
   },
   "outputs": [],
   "source": [
    "f_test = open(\"gap-test.tsv\", \"r\")\n",
    "result = open(\"closer.tsv\", 'w')\n",
    "test_data = f_test.readlines()\n",
    "\n",
    "for line in test_data[1:]:\n",
    "    attrs = line.split('\\t')\n",
    "    tf = ['True', 'False']\n",
    "    if abs(int(attrs[3]) - int(attrs[5])) > abs(int(attrs[3]) - int(attrs[8])):\n",
    "        tf = ['False', 'True']\n",
    "\n",
    "    result.write(\"\\t\".join([attrs[0]] + tf) + \"\\n\")\n",
    "\n",
    "f_test.close()\n",
    "result.close()"
   ]
  },
  {
   "cell_type": "code",
   "execution_count": 5,
   "metadata": {},
   "outputs": [
    {
     "output_type": "stream",
     "name": "stdout",
     "text": [
      "Overall recall: 50.1 precision: 44.4 f1: 47.1\n",
      "\t\ttp 888\tfp 1112\n",
      "\t\tfn 885\ttn 1115\n",
      "Masculine recall: 51.6 precision: 45.9 f1: 48.6\n",
      "\t\ttp 459\tfp 541\n",
      "\t\tfn 430\ttn 570\n",
      "Feminine recall: 48.5 precision: 42.9 f1: 45.5\n",
      "\t\ttp 429\tfp 571\n",
      "\t\tfn 455\ttn 545\n",
      "Bias (F/M): 0.94\n",
      "\n",
      "gap_scorer.py:126: DeprecationWarning: 'U' mode is deprecated\n",
      "  with open(filename, 'rU') as f:\n"
     ]
    }
   ],
   "source": [
    "!python gap_scorer.py --gold_ts=gap-test.tsv --system_tsv=closer.tsv"
   ]
  },
  {
   "cell_type": "code",
   "execution_count": 6,
   "metadata": {
    "tags": []
   },
   "outputs": [
    {
     "output_type": "stream",
     "name": "stdout",
     "text": [
      "development-352 Stuart was devastated by Tom's disappearance and renounced his Catholic faith and his plans to become a priest. Alex and Stuart had a brief flirtation, but Alex eventually remarried Michael. Meanwhile, Rachel and Stuart's relationship had progressed. Eventually though, \u001b[92mRachel\u001b[0m became jealous of his friendship with \u001b[91mKirsty\u001b[0m, and was stunned when \u001b[94mshe\u001b[0m learned that Stuart had initially been more interested in her mother, Alex.\n\ndevelopment-1188 When Mashiro was feeling depressed due to Takumi's words, Chie suggested to Aoi to bring in Arika to cheer her up which works and pulls both out of their depression. \u001b[92mChie\u001b[0m was also aware that Tomoe Marguerite was involved in numerous plots to take out \u001b[91mArika Yumemiya\u001b[0m but rather than report Tomoe \u001b[94mshe\u001b[0m orders her to stop it.\n\ndevelopment-734 He is drawn badly and always wears a pair of glasses. First introduced in Volume 6. Tachibana (**) Rito's junior from his middleschool and also attending to Sainan High. He admires Rito's ``how to get girls' attention'' and asks Rito to help \u001b[94mhim\u001b[0m be \u001b[91mHaruna\u001b[0m's 'man-in-thought', also \u001b[91mYui\u001b[0m's.\n\ndevelopment-510 She is best known for a series of well-regarded television roles including Virginia Braithwaite, daughter of a lottery winning family in the comedy drama At Home with the Braithwaites. Sparkhouse (Red Production Company / BBC 2002); and her appearance in Jane Hall (Red Production Company / ITV1 2006) marked a fruitful link between \u001b[92mSmart\u001b[0m and television writer \u001b[91mSally Wainwright\u001b[0m. Between 2008 and 2010, \u001b[94mshe\u001b[0m featured as Anne-Britt Hoglund in Wallander, six feature-length adaptations of Henning Mankell 's Wallander novels, for the BBC.\n\ndevelopment-537 The work debuted with three of the movements on March 7, 1937 by the Milwaukee Symphonic Band, a group composed of members from several bands including the Blatz Brewery and Pabst Blue Ribbon beer factory worker bands in Milwaukee, Wisconsin. Unlike other composers that attempted to alter and modernize folk music for band, such as \u001b[91mRalph Vaughan Williams\u001b[0m, \u001b[92mGrainger\u001b[0m wished to maintain the exact sense of stylizing that \u001b[94mhe\u001b[0m experienced from the singers.\n\ndevelopment-1641 ``I'll Remember'' earned nominations for Best Song Written Specifically for a Motion Picture or for Television at the 37th Grammy Awards and Best Original Song at the 52nd Golden Globe Awards. Robbie Daw from Idolator listed it as one of ``\u001b[91mMadonna\u001b[0m's 10 Best Songs That Radio Forgot'', saying that ``\u001b[92mMadge\u001b[0m has lost many friends and lovers over the years, but here \u001b[94mshe\u001b[0m turns lemons into lemonade by cherishing the good times and learning from 'the way that you changed me'.''\n\ndevelopment-1563 He only played for 30 minutes but was offered a contract on the spot. Here he settled into a midfield role. Dutton was released by Cambridge and returned to Pickering Town for the start of the 2004--05 season. Brian Dutton was invited to go on trial with Weymouth manager \u001b[91mSteve Johnson\u001b[0m signing \u001b[92mDutton\u001b[0m, who had decided \u001b[94mhe\u001b[0m wanted to return to the game.\n\ndevelopment-835 The 2017 Daytona 500 was first time the ``stage format'' was used in the Daytona 500; it was set up in three stages similar to the all star race (but without the requirement to pit), where drivers are given an chance to pit if they wish to do so. Kyle Busch won the first stage earning \u001b[94mhim\u001b[0m ten points in the new points format, \u001b[91mKevin Harvick\u001b[0m won the second stage and \u001b[91mKurt Busch\u001b[0m won the final stage in a dramatic last lap pass (passing Kyle Larson who ran out of gas) to win the race.\n\ndevelopment-733 Cobra, co-written by Christos Gage and \u001b[91mMike Costa\u001b[0m and drawn by \u001b[91mAntonio Fuso\u001b[0m, was a four-issue mini-series that started in March 2009 and focused on the inner working of the Cobra Organization as viewed through the eyes of undercover G.I. Joe agent Chuckles. By the end of the series, Chuckles is forced to kill \u001b[94mhis\u001b[0m handler, Jinx, and loses contact with his Joe superiors.\n\ndevelopment-1670 In November 2016 Schneider signed for Bellator. She made her debut against Chrissie Daniels at Bellator 170 on January 21, 2017. She won the fight via anaconda choke submission in the first round. \u001b[92mSchneider\u001b[0m faced \u001b[91mKate Jackson\u001b[0m at Bellator 182 on August 25, 2017. \u001b[94mShe\u001b[0m lost the fight via TKO due to injury at the end of the first round.\n\n"
     ]
    }
   ],
   "source": [
    "print_sents(random=True)"
   ]
  },
  {
   "cell_type": "code",
   "execution_count": 7,
   "metadata": {},
   "outputs": [],
   "source": [
    "import pandas as pd"
   ]
  },
  {
   "cell_type": "code",
   "execution_count": 8,
   "metadata": {},
   "outputs": [
    {
     "output_type": "stream",
     "name": "stdout",
     "text": [
      "<class 'pandas.core.frame.DataFrame'>\nRangeIndex: 2000 entries, 0 to 1999\nData columns (total 11 columns):\n #   Column          Non-Null Count  Dtype \n---  ------          --------------  ----- \n 0   ID              2000 non-null   object\n 1   Text            2000 non-null   object\n 2   Pronoun         2000 non-null   object\n 3   Pronoun-offset  2000 non-null   int64 \n 4   A               2000 non-null   object\n 5   A-offset        2000 non-null   int64 \n 6   A-coref         2000 non-null   bool  \n 7   B               2000 non-null   object\n 8   B-offset        2000 non-null   int64 \n 9   B-coref         2000 non-null   bool  \n 10  URL             2000 non-null   object\ndtypes: bool(2), int64(3), object(6)\nmemory usage: 144.7+ KB\n"
     ]
    }
   ],
   "source": [
    "train_data = pd.read_csv('gap-development.tsv', sep='\\t')\n",
    "test_data = pd.read_csv('gap-test.tsv', sep='\\t')\n",
    "test_data.info()"
   ]
  },
  {
   "source": [
    "**subject.tsv**\n",
    "\n",
    "Predict farther coreference pronoun as True when pronoun is subject pronoun (he, she).\n",
    "Predict closer coreference pronoun as True when pronoun is not subject pronoun, which is object or possessive pronoun(her, his, him)."
   ],
   "cell_type": "markdown",
   "metadata": {}
  },
  {
   "cell_type": "code",
   "execution_count": 9,
   "metadata": {},
   "outputs": [
    {
     "output_type": "execute_result",
     "data": {
      "text/plain": [
       "{'He', 'Her', 'His', 'She', 'he', 'her', 'him', 'his', 'she'}"
      ]
     },
     "metadata": {},
     "execution_count": 9
    }
   ],
   "source": [
    "pronouns = set(train_data['Pronoun'])\n",
    "pronouns"
   ]
  },
  {
   "cell_type": "code",
   "execution_count": 10,
   "metadata": {
    "tags": []
   },
   "outputs": [],
   "source": [
    "result = open(\"subject.tsv\", 'w')\n",
    "\n",
    "for attrs in test_data.iloc:\n",
    "    pro, pro_id = attrs[2:4]\n",
    "    A, A_id = attrs[4:6]\n",
    "    B, B_id = attrs[7:9]\n",
    "\n",
    "    if pro.lower() in ['he', 'she']:\n",
    "        if abs(pro_id - A_id) > abs(pro_id - B_id):\n",
    "            tf = ['TRUE', 'FALSE']\n",
    "        else:\n",
    "            tf = ['FALSE', 'TRUE']\n",
    "    else:\n",
    "        if abs(pro_id - A_id) > abs(pro_id - B_id):\n",
    "            tf = ['FALSE', 'TRUE']\n",
    "        else:\n",
    "            tf = ['TRUE', 'FALSE']\n",
    "\n",
    "    result.write(\"\\t\".join([attrs[0]] + tf) + \"\\n\")\n",
    "\n",
    "f_test.close()\n",
    "result.close()"
   ]
  },
  {
   "cell_type": "code",
   "execution_count": 11,
   "metadata": {},
   "outputs": [
    {
     "output_type": "stream",
     "name": "stdout",
     "text": [
      "Overall recall: 58.3 precision: 51.6 f1: 54.8\n",
      "\t\ttp 1033\tfp 967\n",
      "\t\tfn 740\ttn 1260\n",
      "Masculine recall: 59.4 precision: 52.8 f1: 55.9\n",
      "\t\ttp 528\tfp 472\n",
      "gap_scorer.py:126: DeprecationWarning: 'U' mode is deprecated\n",
      "  with open(filename, 'rU') as f:\n",
      "\t\tfn 361\ttn 639\n",
      "Feminine recall: 57.1 precision: 50.5 f1: 53.6\n",
      "\t\ttp 505\tfp 495\n",
      "\t\tfn 379\ttn 621\n",
      "Bias (F/M): 0.96\n",
      "\n"
     ]
    }
   ],
   "source": [
    "!python gap_scorer.py --gold_ts=gap-test.tsv --system_tsv=subject.tsv"
   ]
  },
  {
   "cell_type": "code",
   "execution_count": 12,
   "metadata": {},
   "outputs": [
    {
     "output_type": "execute_result",
     "data": {
      "text/plain": [
       "0.1135"
      ]
     },
     "metadata": {},
     "execution_count": 12
    }
   ],
   "source": [
    "false_case = 0\n",
    "for attrs in test_data.iloc:\n",
    "    if attrs[6] == attrs[9]:\n",
    "        false_case += 1\n",
    "\n",
    "false_case/len(test_data)"
   ]
  },
  {
   "source": [
    "# subject.tsv\n",
    "\n",
    "draw a relation between two proper nouns with sentence structure\n",
    "\n",
    "(e.g. Which one is the subject?)"
   ],
   "cell_type": "markdown",
   "metadata": {}
  },
  {
   "cell_type": "code",
   "execution_count": 13,
   "metadata": {},
   "outputs": [],
   "source": [
    "import nltk\n",
    "sent = \"In the next pair, Mikhaylov equalled Grishin's time and they shared Olympic gold.\"\n",
    "tagged_sent = nltk.pos_tag(nltk.word_tokenize(sent))"
   ]
  },
  {
   "source": [
    "Classify train_data into several categories\n",
    "\n",
    "1. When words are inside parenthesis\n",
    "2. When words appear after the pronoun\n",
    " * When the pronoun is subject pronoun\n",
    " * When the pronoun is object/possessive pronoun\n",
    "3. When the both coreferences are false\n",
    "4. When only one word is subject\n",
    "5. When the both words are subject\n",
    "6. When none of the words are subject\n",
    "    "
   ],
   "cell_type": "markdown",
   "metadata": {}
  },
  {
   "cell_type": "code",
   "execution_count": 14,
   "metadata": {},
   "outputs": [],
   "source": [
    "import pandas as pd \n",
    "\n",
    "train_data = pd.read_csv('gap-development.tsv', sep='\\t')"
   ]
  },
  {
   "source": [
    "## 1. When words are inside parenthesis\n",
    "Assume when word is inside parenthesis, coreference is always false"
   ],
   "cell_type": "markdown",
   "metadata": {}
  },
  {
   "cell_type": "code",
   "execution_count": 15,
   "metadata": {
    "tags": []
   },
   "outputs": [],
   "source": [
    "parenthesis_data = []\n",
    "\n",
    "def isparenthesis(row):\n",
    "    sent = row['Text']\n",
    "    A = row['A']\n",
    "    A_id = row['A-offset']\n",
    "    B = row['B']\n",
    "    B_id = row['B-offset']\n",
    "\n",
    "    return (not (sent[A_id-1] == \"(\" and sent[A_id+len(A)] == \")\"),\n",
    "            not (sent[B_id-1] == \"(\" and sent[B_id+len(B)] == \")\"))\n",
    "\n",
    "def only_parenthesis(row):\n",
    "    return sum(isparenthesis(row)) == 1"
   ]
  },
  {
   "cell_type": "code",
   "execution_count": 16,
   "metadata": {},
   "outputs": [],
   "source": [
    "parenthesis_data = pd.DataFrame(parenthesis_data, columns=train_data.columns)"
   ]
  },
  {
   "cell_type": "code",
   "execution_count": 17,
   "metadata": {},
   "outputs": [],
   "source": [
    "print_sents(datas={'manual':True, 'data':parenthesis_data}, num_lines = 10)"
   ]
  },
  {
   "source": [
    "result : 22 out of 31 sentences are predicted correct --> accuracy : 71%"
   ],
   "cell_type": "markdown",
   "metadata": {}
  },
  {
   "source": [
    "## 2. When words appear after the pronoun\n",
    "Assume coreference of words coming after the pronoun is false"
   ],
   "cell_type": "markdown",
   "metadata": {}
  },
  {
   "cell_type": "code",
   "execution_count": 18,
   "metadata": {},
   "outputs": [],
   "source": [
    "after_pronoun = []\n",
    "\n",
    "for row in train_data.iloc:\n",
    "    if row['Pronoun-offset'] < row['A-offset'] or row['Pronoun-offset'] < row['B-offset']:\n",
    "        after_pronoun.append(row)\n",
    "\n",
    "after_pronoun = pd.DataFrame(after_pronoun, columns=train_data.columns)"
   ]
  },
  {
   "cell_type": "code",
   "execution_count": 19,
   "metadata": {},
   "outputs": [],
   "source": [
    "after_subject_pronoun = after_pronoun[after_pronoun['Pronoun'].isin(['he', 'she', 'He', 'She'])]\n",
    "after_other_pronoun = after_pronoun[after_pronoun['Pronoun'].isin(['his', 'her', 'him', 'His', 'Her', 'Him'])]"
   ]
  },
  {
   "cell_type": "code",
   "execution_count": 20,
   "metadata": {},
   "outputs": [
    {
     "output_type": "stream",
     "name": "stdout",
     "text": [
      "development-429 Robinson composed An American Requiem, which had its New England Premiere under the direction of Dr. Robert Russell and the USM Chorale. He also wrote ``Driving Old Memories'' with his father \u001b[91mErvin Robinson\u001b[0m, and the country song ``Momma Never Had Life Easy -- So She Made Life Easy for Me''. In 2012 \u001b[94mhe\u001b[0m wrote the music for the independent documentary In the Shadows of Grey Gardens In an article entitled ``Robinson and Ragtime'', \u001b[91mDavid Welker\u001b[0m called him ``one of today's leading proponents of early jazz and ragtime music''.\n\ndevelopment-983 Will's sheep's milk gnudi scored over Carrie's chicken fried ribeye (as she put sugar in the mashed potato she used), Amanda's eggplant rollatini and Brendan's salmon both scored a point, Jennifer's pork scored over Jonathon's ``punch-drunk'' chicken (he was even threatened with elimination on the spot after he revealed to Ramsay that he used canned pineapple slices for his dish and claimed he had ``limited time''), Paul's eggplant involtini scored over Krupa's stuffed naan, neither Jamie's lamb lollipops nor Steven's seared diver scallops earned a point (Ramsay even compared Steven's scallops to dinosaur toenails), Elise's scallops scored over Chino's dish as \u001b[94mhe\u001b[0m used too much miso, Monterray's sea bass and Natalie's lamb both scored a point, both Elizabeth and \u001b[91mTommy\u001b[0m earned a point for their dishes, and finally Gina's pan-roasted pistachio scallops lost to \u001b[91mJason\u001b[0m's pork tacos as the scallops were burnt on the top.\n\ndevelopment-1091 The Aftermath is a collection of songs released following the 'aftermath' of the Thing a Week project by comedy rock musician Jonathan Coulton. The project was originally intended to be Coulton's eighth studio album. After \u001b[94mhe\u001b[0m was convinced to start recording in a professional studio by \u001b[91mJohn Flansburgh\u001b[0m, however, \u001b[92mCoulton\u001b[0m decided to scrap this project and start anew for his next album, which would later become Artificial Heart.\n\ndevelopment-669 Newton had been urged to make a new edition of the Principia since the early 1690s, partly because copies of the first edition had already become very rare and expensive within a few years after 1687. Newton referred to his plans for a second edition in correspondence with Flamsteed in November 1694: Newton also maintained annotated copies of the first edition specially bound up with interleaves on which he could note his revisions; two of these copies still survive: but \u001b[94mhe\u001b[0m had not completed the revisions by 1708, and of two would-be editors, Newton had almost severed connections with one, \u001b[91mNicolas Fatio de Duillier\u001b[0m, and the other, \u001b[91mDavid Gregory\u001b[0m seems not to have met with Newton's approval and was also terminally ill, dying later in 1708.\n\ndevelopment-1575 Crime boss Rusty Pirone (Armand Assante) is about to stand trial again and Daniel Graham (Gabriel Byrne) of the district attorney's office is determined this time to put him behind bars. Pirone sends one of his henchmen, a burned-out ex-cop named Tommy Vesey (William Hurt), to threaten Valerie Alston (\u001b[91mJoanne Whalley-Kilmer\u001b[0m), a juror. Unless \u001b[94mshe\u001b[0m cooperates by finding Pirone innocent and deadlocking the jury, Vesey intends to do harm to \u001b[92mValerie\u001b[0m's young son.\n\ndevelopment-1780 \u001b[92mJeanine Basinger\u001b[0m (born 3 February 1936), a film historian, is Corwin-Fuller Professor of Film Studies and Founder and Curator of The Cinema Archives at Wesleyan University, Middletown, Connecticut. \u001b[94mShe\u001b[0m is also a \u001b[91mTrustee\u001b[0m of the American Film Institute (which awarded her an honorary degree, a Doctorate of Humane Letters, on June 7, 2006 ), a member of the Steering Committee of the National Center for Film and Video Preservation, and one of the Board of Advisors for the Association of Independent Video and Filmmakers.\n\ndevelopment-1596 His father, the owner of an appliance store and record shop, exposed him as a young boy to prominent jazz musicians like King Oliver and Louis Armstrong, who inspired his 2014 release, Ske-Dat-De-Dat: The Spirit of Satch. Throughout his adolescence his father's connections enabled him access to the recording rooms of burgeoning rock artists such as Little Richard and Guitar Slim. From these exposures he advanced into clubs and onto the stage with varying local artists, most notably, Professor Longhair. When \u001b[94mhe\u001b[0m was about 13 or 14 years old, \u001b[92mRebennack\u001b[0m met \u001b[91mProfessor Longhair\u001b[0m, which started a period in his life that would mark rapid growth as a musician and the beginnings of his entry into professional music.\n\ndevelopment-1028 Kaori tells him that the reason she does not want to get close with Shiori is that she does not want to feel the intense pain that will result from Shiori's death. Kaori breaks down after saying this, crying on Yuichi and lamenting the pointlessness of Shiori's birth. After this point, Kaori starts to avoid \u001b[91mShiori\u001b[0m even more than usual. When confronted by Yuichi about how \u001b[94mshe\u001b[0m has been acting, \u001b[92mKaori\u001b[0m tells him that she has no younger sister.\n\ndevelopment-1479 He brings part of the Great Hall down on her and Uwe, who lives just long enough to reveal the plot to Benno and the court. At the lake, von Rothbart taunts Siegfried and Odette, while \u001b[92mOdile\u001b[0m watches from concealment. At a crucial moment, \u001b[94mshe\u001b[0m kills him with his own dagger, then rescues \u001b[91mOdette\u001b[0m and Siegfried, who have jumped into the lake to drown together rather than be separated.\n\ndevelopment-1488 Released in November 1987, the album was produced by Peter Cetera and would be her last for 17 years. Recorded mainly in Los Angeles and Malibu, California, I Stand Alone was produced by \u001b[92mPeter Cetera\u001b[0m, the former singer and bass guitar player with American rock band Chicago. \u001b[94mHe\u001b[0m duetted with F*ltskog on the track ``I Wasn't the One (Who Said Goodbye)'', (No.93 Billboard Hot 100 and No.19 Adult Contemporary in the U.S.) The co-producer of the album was \u001b[91mBruce Gaitsch\u001b[0m, with whom F*ltskog was in a relationship at the time.\n\n"
     ]
    }
   ],
   "source": [
    "print_sents(datas={'manual':True, 'data':after_subject_pronoun}, num_lines = 10)"
   ]
  },
  {
   "cell_type": "code",
   "execution_count": 21,
   "metadata": {},
   "outputs": [],
   "source": [
    "def after_pronoun_predict(data):\n",
    "    A_pred = []\n",
    "    B_pred = []\n",
    "    for row in data.iloc:\n",
    "        A_value = False if row['A-offset'] > row['Pronoun-offset'] else True\n",
    "        B_value = False if row['B-offset'] > row['Pronoun-offset'] else True\n",
    "\n",
    "        A_pred.append(A_value)\n",
    "        B_pred.append(B_value)\n",
    "\n",
    "    data['A-pred'] = A_pred\n",
    "    data['B-pred'] = B_pred"
   ]
  },
  {
   "cell_type": "code",
   "execution_count": 22,
   "metadata": {},
   "outputs": [
    {
     "output_type": "stream",
     "name": "stderr",
     "text": [
      "<ipython-input-21-ceb8dec2fe17>:11: SettingWithCopyWarning: \nA value is trying to be set on a copy of a slice from a DataFrame.\nTry using .loc[row_indexer,col_indexer] = value instead\n\nSee the caveats in the documentation: https://pandas.pydata.org/pandas-docs/stable/user_guide/indexing.html#returning-a-view-versus-a-copy\n  data['A-pred'] = A_pred\n<ipython-input-21-ceb8dec2fe17>:12: SettingWithCopyWarning: \nA value is trying to be set on a copy of a slice from a DataFrame.\nTry using .loc[row_indexer,col_indexer] = value instead\n\nSee the caveats in the documentation: https://pandas.pydata.org/pandas-docs/stable/user_guide/indexing.html#returning-a-view-versus-a-copy\n  data['B-pred'] = B_pred\n"
     ]
    }
   ],
   "source": [
    "after_pronoun_predict(after_subject_pronoun)\n",
    "after_pronoun_predict(after_other_pronoun)"
   ]
  },
  {
   "cell_type": "code",
   "execution_count": 23,
   "metadata": {},
   "outputs": [
    {
     "output_type": "stream",
     "name": "stdout",
     "text": [
      "0.411214953271028\n0.2133676092544987\n"
     ]
    }
   ],
   "source": [
    "print(accuracy(after_subject_pronoun))\n",
    "print(accuracy(after_other_pronoun))"
   ]
  },
  {
   "source": [
    "Result : It doesn't really matter whether a word comes after the pronoun or not"
   ],
   "cell_type": "markdown",
   "metadata": {}
  },
  {
   "source": [
    "## 3. When the both word coreference is false\n",
    "\n",
    "Let's find out what they have in common."
   ],
   "cell_type": "markdown",
   "metadata": {}
  },
  {
   "cell_type": "code",
   "execution_count": 24,
   "metadata": {},
   "outputs": [
    {
     "output_type": "stream",
     "name": "stdout",
     "text": [
      "0.1005\n",
      "201\n"
     ]
    }
   ],
   "source": [
    "false_cases = 0\n",
    "for row in train_data.iloc:\n",
    "    if row['A-coref'] == row['B-coref']:\n",
    "        false_cases += 1\n",
    "\n",
    "print(false_cases/len(train_data))\n",
    "print(false_cases)"
   ]
  },
  {
   "source": [
    "There are more than 10 percent of these kind of cases"
   ],
   "cell_type": "markdown",
   "metadata": {}
  },
  {
   "cell_type": "code",
   "execution_count": 25,
   "metadata": {},
   "outputs": [],
   "source": [
    "falses_data = train_data[(train_data['A-coref'] == False) & (train_data['B-coref'] == False)]"
   ]
  },
  {
   "cell_type": "code",
   "execution_count": 26,
   "metadata": {},
   "outputs": [
    {
     "output_type": "stream",
     "name": "stdout",
     "text": [
      "development-255 Emma then walks out and Hook follows her, taking the fairytale book with him. Meanwhile, Regina, David, \u001b[91mBelle\u001b[0m, Gold, Robin, and \u001b[91mMary Margaret\u001b[0m visit the jail to see if Zelena had died around the same time as the portal's opening. They see on the jail's surveillance video that \u001b[94mshe\u001b[0m committed suicide, but are unaware that Gold altered the video to make it look like she killed herself.\n\ndevelopment-873 In late 1515, Manuel sent it as a gift, the famous D*rer's Rhinoceros to \u001b[91mPope Leo X. D*rer\u001b[0m never saw the actual rhinoceros, which was the first living example seen in Europe since Roman times, as it drowned in shipwreck. After a short stay in M*lwa, thinking it mean to take advantage of the distracted condition of Mahm*d of M*lwa, who was at war with \u001b[94mhis\u001b[0m nobles, \u001b[91mMuzaffar\u001b[0m returned to Muhammad*b*d (Champaner).\n\ndevelopment-1829 Later in the night, as part of Volume 24, she lost to Serena Deeb. On June 3, as part of Volume 25, she was able to score her second victory in Shimmer by defeating \u001b[91mRachel Summerlyn\u001b[0m, in a match that also involved Ariel and \u001b[91mKellie Skater\u001b[0m. After missing Volume 26 \u001b[94mshe\u001b[0m came back on November 8, 2009, as part of the Volume 27, where she defeated Portuguese Princess Ariel in a re-match from Volume 18 with Daizee Haze as special guest referee.\n\ndevelopment-999 Francis I of France restored its usual name early in the 16th century and it then took the nickname ``le bistourn*'' (``the twice-turned (church)''), later bowdlerised into ``le bestourn*'', possibly to bring it back closer to its old name. One of the church's chaplains was Guillaume de Villon, tutor to \u001b[91mFran*ois Villon\u001b[0m, and \u001b[91mCharles Perrault\u001b[0m was buried in the church. In the Middle Ages the church housed an altar of Maturinus, patron of the mad and possessed, around which a devotion to \u001b[94mhim\u001b[0m sprang up and to which many ill people were brought in hope of a cure.\n\ndevelopment-1089 They circled back east in Spring of 1999 and moved into a farmhouse on Beech Mountain, near Boone, North Carolina. They were embraced by the Appalachian community, and their repertoire of old-time songs grew as they played with local musicians. `` After being discovered busking in Boone, North Carolina by \u001b[91mDoc Watson\u001b[0m--while ''playing on \u001b[91mDoc\u001b[0m's old corner`` where \u001b[94mhe\u001b[0m'd ''started playing in the 1950s`` on King Street.\n\ndevelopment-657 She was born in Paris, the non-marital daughter of the Mexican artist Diego Rivera and his mistress, the Russian-born painter Marie Vorobieff-Stebelska (``Marevna''). \u001b[91mRivera\u001b[0m, who was married to \u001b[91mAngelina Beloff\u001b[0m at the time, did not accept his daughter. So \u001b[94mshe\u001b[0m grew up under the care of her mother.\n\ndevelopment-1922 Following this, the Victoria Women's Cricket Association was founded in 1905 and the Australian Women's Cricket Association in 1931. The current competition is run by the Women's National Cricket League. The Ladies' Grammar School and Kindergarten moved to Albuera Street, Battery Point, in 1898 and was run by Nellie Poulett-Harris until \u001b[94mher\u001b[0m retirement in December 1919, whilst \u001b[91mLily\u001b[0m's twin, \u001b[91mViolet\u001b[0m, went on to become a relatively well-known actress on the Australian theatre circuit, under the stage name Mary Milward.\n\ndevelopment-56 Many guests, both European and native, were invited. On approach of the May Frere at port of Bhavnagar, \u001b[91mColonel Barton\u001b[0m (the political Agent), Major Woodhouse (the Assistant Political Agent) and \u001b[91mDiwan Sahib Samaldas\u001b[0m went in a steam launch and brought the Governor and \u001b[94mhis\u001b[0m party ashore.\n\ndevelopment-983 Will's sheep's milk gnudi scored over Carrie's chicken fried ribeye (as she put sugar in the mashed potato she used), Amanda's eggplant rollatini and Brendan's salmon both scored a point, Jennifer's pork scored over Jonathon's ``punch-drunk'' chicken (he was even threatened with elimination on the spot after he revealed to Ramsay that he used canned pineapple slices for his dish and claimed he had ``limited time''), Paul's eggplant involtini scored over Krupa's stuffed naan, neither Jamie's lamb lollipops nor Steven's seared diver scallops earned a point (Ramsay even compared Steven's scallops to dinosaur toenails), Elise's scallops scored over Chino's dish as \u001b[94mhe\u001b[0m used too much miso, Monterray's sea bass and Natalie's lamb both scored a point, both Elizabeth and \u001b[91mTommy\u001b[0m earned a point for their dishes, and finally Gina's pan-roasted pistachio scallops lost to \u001b[91mJason\u001b[0m's pork tacos as the scallops were burnt on the top.\n\ndevelopment-662 Tom's father, Warwick, turns up and asks his son to lease the family's wine vineyard to a mining company. Maggie tries to stay out of it, but ends up telling Warwick a few home truths. Carlos and \u001b[91mGrace\u001b[0m each try to help Rob and \u001b[91mColette\u001b[0m. Rob meets a surfer on the South Coast and almost has sex with \u001b[94mher\u001b[0m, before returning home.\n\n"
     ]
    }
   ],
   "source": [
    "print_sents(datas={'manual':True, 'data':falses_data}, num_lines = 10)"
   ]
  },
  {
   "source": [
    "We can see that there are some patterns in both false sentences\n",
    "\n",
    "1. There is another pronoun appeared before.\n",
    "2. when both word is behind the pronoun, and the subject of the sentence is NNP."
   ],
   "cell_type": "markdown",
   "metadata": {}
  },
  {
   "source": [
    "1. There is another pronoun appeared before"
   ],
   "cell_type": "markdown",
   "metadata": {}
  },
  {
   "cell_type": "code",
   "execution_count": 27,
   "metadata": {},
   "outputs": [],
   "source": [
    "def prior_pronoun(row):\n",
    "    token_dict = tokenized_index(row)\n",
    "\n",
    "    words = token_dict['words']\n",
    "    word_index = token_dict['word_index']\n",
    "\n",
    "    male = ['He', 'His', 'Him', 'he', 'his', 'him']\n",
    "    female = ['She', 'Her', 'she', 'her']\n",
    "\n",
    "    pro_id = word_index[row['Pronoun-offset']]\n",
    "\n",
    "    if row['Pronoun'] in male:\n",
    "        for word in words[:pro_id]:\n",
    "            if word in male:\n",
    "                return True\n",
    "        return False\n",
    "    elif row['Pronoun'] in female:\n",
    "        for word in words[:pro_id]:\n",
    "            if word in female:\n",
    "                return True\n",
    "        return False\n",
    "\n",
    "    else:\n",
    "        print(\"Unexpected pronoun : {}\", row['Pronoun'])"
   ]
  },
  {
   "cell_type": "code",
   "execution_count": 28,
   "metadata": {},
   "outputs": [
    {
     "output_type": "stream",
     "name": "stdout",
     "text": [
      "1141 0.10429447852760736\n"
     ]
    }
   ],
   "source": [
    "prior_pronoun_data = apply_model(train_data, [prior_pronoun], lambda x: (False, False))"
   ]
  },
  {
   "cell_type": "code",
   "execution_count": 29,
   "metadata": {},
   "outputs": [],
   "source": [
    "def another_subject(row):\n",
    "    token_dict = tokenized_index(row)\n",
    "\n",
    "    tagged_sents = token_dict['tagged_sents']\n",
    "    sents = token_dict['sents']\n",
    "    word_index = token_dict['word_index']\n",
    "    sent_index = token_dict['sent_index']\n",
    "\n",
    "    pro_sent_id = sent_index[word_index[row['Pronoun-offset']]]\n",
    "\n",
    "    def first_noun(sent):\n",
    "        for word, tag in sent:\n",
    "            if tag.startswith('NN') or tag.startswith('PR'):\n",
    "                return (word, tag)\n",
    "\n",
    "    word, tag = first_noun(tagged_sents[pro_sent_id])\n",
    "    if tag.startswith('NNP') and not word in [row['A'].split()[0], row['B'].split()[0]]:\n",
    "        return True\n",
    "\n",
    "    return False"
   ]
  },
  {
   "cell_type": "code",
   "execution_count": 30,
   "metadata": {},
   "outputs": [],
   "source": [
    "def both_latter(row):\n",
    "    if row['A-offset'] > row['Pronoun-offset'] and row['B-offset'] > row['Pronoun-offset']:\n",
    "        return True\n",
    "\n",
    "    return False\n",
    "\n",
    "mask = train_data.apply(both_latter, axis=1)\n",
    "both_latter_data = train_data[mask]"
   ]
  },
  {
   "cell_type": "code",
   "execution_count": 31,
   "metadata": {},
   "outputs": [
    {
     "output_type": "stream",
     "name": "stdout",
     "text": [
      "48 0.5833333333333334\n"
     ]
    }
   ],
   "source": [
    "another_subject_data = apply_model(train_data, [both_latter, another_subject], lambda x: (False, False))"
   ]
  },
  {
   "cell_type": "code",
   "execution_count": 32,
   "metadata": {},
   "outputs": [
    {
     "output_type": "stream",
     "name": "stdout",
     "text": [
      "development-986 Batman is forced to fight his beloved sidekick and cures him back at the Batcave, following Two Face to the casino where he is in fact revealed to be Dent, having suppressed his bad side (* la Dr Jekyll and Mr. Hyde). Once the Dynamic Duo are strapped to a large silver dollar, \u001b[94mhe\u001b[0m unmasks \u001b[91mBatman\u001b[0m and deduces Robin's true identity, then \u001b[92mTwo Face\u001b[0m invites the Joker, Penguin, Riddler, Mr. Freeze, Egghead, Shame, Clock King and Catwoman to an auction for the highest bidder of Batman's true identity.\n\ndevelopment-835 The 2017 Daytona 500 was first time the ``stage format'' was used in the Daytona 500; it was set up in three stages similar to the all star race (but without the requirement to pit), where drivers are given an chance to pit if they wish to do so. Kyle Busch won the first stage earning \u001b[94mhim\u001b[0m ten points in the new points format, \u001b[91mKevin Harvick\u001b[0m won the second stage and \u001b[91mKurt Busch\u001b[0m won the final stage in a dramatic last lap pass (passing Kyle Larson who ran out of gas) to win the race.\n\ndevelopment-785 But the Jewish men of letters who lived in Alexandria were by no means satisfied with the idea that Moses acquired the wisdom of the Egyptians; they claimed for him the merit of having given to Egypt, Phoenicia, and Hellas all their culture. He taught the Jews the letters, and they then became the teachers of the Phoenicians and, indirectly, of the Greeks, says Eupolemus. Artapanus of Alexandria, in \u001b[94mhis\u001b[0m history of the Jews, went so far as to identify \u001b[91mMoses\u001b[0m with Tot-Hermes (the Egyptian messenger and scribe of the gods, who invented the letters, the various arts of peace and of war, as well as philosophy), and with the Greek Musaeus, ``the teacher of \u001b[91mOrpheus\u001b[0m.''\n\ndevelopment-1608 Licence to Kill is one of the best of the recent Bonds.'' Jack Kroll, writing in Newsweek described Licence to Kill as ``a pure, rousingly entertaining action movie''. Kroll was mixed in his appraisal of Dalton, calling him ``a fine actor who hasn't yet stamped Bond with \u001b[94mhis\u001b[0m own personality'', observing ``Director \u001b[91mJohn Glen\u001b[0m is the \u001b[91mBusby Berkeley\u001b[0m of action flicks, and his chorus line is the legendary team of Bond stunt-persons who are at their death-defying best here''.\n\ndevelopment-1653 Claire finds herself enmeshed in a deep relationship with Gabe, but it may be shallower than she thinks when he lies to her about going to visit his father, who Claire later finds out died when Gabe was four. David fires Angela for breaking one of his mother's wine glasses, and on \u001b[94mher\u001b[0m way out, \u001b[92mAngela\u001b[0m reveals to \u001b[91mRuth\u001b[0m that her son is gay.\n\n"
     ]
    }
   ],
   "source": [
    "print_sents(datas={'manual':True, 'data':another_subject_data}, num_lines = 5)"
   ]
  },
  {
   "source": [
    "## 4. When only one word is subject\n",
    "Assume that subject word is always true, and other word is always false"
   ],
   "cell_type": "markdown",
   "metadata": {}
  },
  {
   "cell_type": "code",
   "execution_count": 33,
   "metadata": {},
   "outputs": [
    {
     "output_type": "stream",
     "name": "stdout",
     "text": [
      "801\n1199\n"
     ]
    }
   ],
   "source": [
    "subject_data = train_data[train_data['Pronoun'].isin(['he', 'she', 'He', 'She'])]\n",
    "other_data = train_data[train_data['Pronoun'].isin(['his', 'him', 'her', 'His', 'Him', 'Her'])]\n",
    "print(len(subject_data))\n",
    "print(len(other_data))"
   ]
  },
  {
   "cell_type": "code",
   "execution_count": 104,
   "metadata": {},
   "outputs": [
    {
     "output_type": "stream",
     "name": "stderr",
     "text": [
      "100%|██████████| 9/9 [00:31<00:00,  3.45s/it]\n"
     ]
    },
    {
     "output_type": "execute_result",
     "data": {
      "text/plain": [
       "  Pronoun  Length  Accuracy0  Accuracy1\n",
       "0      He      87   0.885057   0.241379\n",
       "1     She     115   0.921739   0.208696\n",
       "2     His      18   0.777778   0.388889\n",
       "3     Her      19   0.736842   0.210526\n",
       "4      he     139   0.791367   0.374101\n",
       "5     she     147   0.768707   0.435374\n",
       "6     his     306   0.767974   0.535948\n",
       "7     him      58   0.431034   0.534483\n",
       "8     her     270   0.648148   0.607407\n",
       "9   total    1159   0.749784   0.458154"
      ],
      "text/html": "<div>\n<style scoped>\n    .dataframe tbody tr th:only-of-type {\n        vertical-align: middle;\n    }\n\n    .dataframe tbody tr th {\n        vertical-align: top;\n    }\n\n    .dataframe thead th {\n        text-align: right;\n    }\n</style>\n<table border=\"1\" class=\"dataframe\">\n  <thead>\n    <tr style=\"text-align: right;\">\n      <th></th>\n      <th>Pronoun</th>\n      <th>Length</th>\n      <th>Accuracy0</th>\n      <th>Accuracy1</th>\n    </tr>\n  </thead>\n  <tbody>\n    <tr>\n      <th>0</th>\n      <td>He</td>\n      <td>87</td>\n      <td>0.885057</td>\n      <td>0.241379</td>\n    </tr>\n    <tr>\n      <th>1</th>\n      <td>She</td>\n      <td>115</td>\n      <td>0.921739</td>\n      <td>0.208696</td>\n    </tr>\n    <tr>\n      <th>2</th>\n      <td>His</td>\n      <td>18</td>\n      <td>0.777778</td>\n      <td>0.388889</td>\n    </tr>\n    <tr>\n      <th>3</th>\n      <td>Her</td>\n      <td>19</td>\n      <td>0.736842</td>\n      <td>0.210526</td>\n    </tr>\n    <tr>\n      <th>4</th>\n      <td>he</td>\n      <td>139</td>\n      <td>0.791367</td>\n      <td>0.374101</td>\n    </tr>\n    <tr>\n      <th>5</th>\n      <td>she</td>\n      <td>147</td>\n      <td>0.768707</td>\n      <td>0.435374</td>\n    </tr>\n    <tr>\n      <th>6</th>\n      <td>his</td>\n      <td>306</td>\n      <td>0.767974</td>\n      <td>0.535948</td>\n    </tr>\n    <tr>\n      <th>7</th>\n      <td>him</td>\n      <td>58</td>\n      <td>0.431034</td>\n      <td>0.534483</td>\n    </tr>\n    <tr>\n      <th>8</th>\n      <td>her</td>\n      <td>270</td>\n      <td>0.648148</td>\n      <td>0.607407</td>\n    </tr>\n    <tr>\n      <th>9</th>\n      <td>total</td>\n      <td>1159</td>\n      <td>0.749784</td>\n      <td>0.458154</td>\n    </tr>\n  </tbody>\n</table>\n</div>"
     },
     "metadata": {},
     "execution_count": 104
    }
   ],
   "source": [
    "overall_analysis(train_data, [only_subject], [word_subject, latter_word])"
   ]
  },
  {
   "source": [
    "## 5. When both words are subject\n",
    "Assume that latter word is True, while the other is False"
   ],
   "cell_type": "markdown",
   "metadata": {}
  },
  {
   "cell_type": "code",
   "execution_count": 35,
   "metadata": {},
   "outputs": [
    {
     "output_type": "execute_result",
     "data": {
      "text/plain": [
       "202"
      ]
     },
     "metadata": {},
     "execution_count": 35
    }
   ],
   "source": [
    "both_subject_data = train_data.apply(both_subject, axis=1)\n",
    "both_subject_data = train_data[both_subject_data]\n",
    "len(both_subject_data)"
   ]
  },
  {
   "cell_type": "code",
   "execution_count": 36,
   "metadata": {
    "tags": []
   },
   "outputs": [
    {
     "output_type": "stream",
     "name": "stdout",
     "text": [
      "development-254 In the present day, \u001b[91mEmma\u001b[0m looks happy and sees \u001b[92mMary Margaret\u001b[0m holding \u001b[94mher\u001b[0m baby boy as she prepares for the upcoming coronation even though they haven't named him yet.\n\ndevelopment-1330 It is up to Sauvage to continue the fight, which means bringing in a reinforcement in his friend Casey Bledsoe (Mark Griffin), and training some new recruits not of his choosing. Intending to give back to the streets that taught him toughness, \u001b[91mBarclay\u001b[0m insists that \u001b[92mSauvage\u001b[0m compose \u001b[94mhis\u001b[0m team of bodyguards by hiring people from Barclay's gym.\n\ndevelopment-1034 Illinois' Governor Pat Quinn, reacting to public outrage, signed House Bill 4021 into law in August 2009 addressing many of the legal issues that grew out of the contaminated water scandal in Crestwood. WLS TV's \u001b[91mPaul Miencke\u001b[0m reported on August 23, 2009 ``Gov. \u001b[92mPat Quinn\u001b[0m signed a bill Sunday that \u001b[94mhe\u001b[0m says will help ensure Illinois citizens have safe, clean drinking water.\n\ndevelopment-1576 Frost was a coach on the Australian national teams for the 1995, 1997 and 1999 Pan-Pacific Games; the 1998 Swimming World Championship and Commonwealth Games teams and the 2000 Sydney Olympic Games team. He has been a director at the Australian Swim Coaches Association since 1989 and at the Doug Frost Swim School since 1978. After \u001b[91mThorpe\u001b[0m controversially changed coaches, \u001b[92mFrost\u001b[0m left the Sutherland club to start afresh in Southport, Queensland. In May 2005, \u001b[94mhe\u001b[0m was appointed the head coach of the swimming program at the Australian Institute of Sport.\n\ndevelopment-804 She decided to visit a relative in the Netherlands, and to seek help after arrival and claim asylum. Her first autobiography, Infidel (2006), was published in English in 2007. In a review, American Enterprise Institute fellow Joshua Muravchik described the book as ``simply a great work of literature,'' and compared her to novelist Joseph Conrad. In \u001b[94mher\u001b[0m second autobiography, Nomad (2010, in English), \u001b[92mHirsi Ali\u001b[0m wrote that in early 2006, \u001b[91mRita Verdonk\u001b[0m had personally approached her to ask for her public support in Verdonk's campaign to run for party leader of the VVD.\n\ndevelopment-1143 Lynn wrote a letter to the other woman, who promptly showed it to Doolittle, who confronted Lynn, telling her to stay out of his business and that any love he had for her was gone. Lynn wrote that his statement broke her heart, and the experience eventually led her to write ``Fist City'' and the similar ``You Ain't Woman Enough''. Admitting that \u001b[94mshe\u001b[0m was tenaciously jealous and \u001b[91mDoolittle\u001b[0m sometimes did not spurn the advances of other women, \u001b[92mLynn\u001b[0m penned the song as a warning, later reflecting in her 2001 autobiography, ``I've been in a couple of fights in my life.\n\ndevelopment-1561 This claim was contested by Richard Worsley, half-brother of James, in the Court of Wards and Liveries in 1563, when it was awarded that Sir Robert was to take a third, afterwards known as the manor of Ryde, while Richard was to have the part which had been bequeathed by Giles to his widow Margaret, comprising the site of the manor. Richard Worsley died at Ashey 31 August 1599, when the manor came to his son Bowyer, afterwards knighted by James I. According to his contemporary, Sir John Oglander, \u001b[92mSir Bowyer Worsley\u001b[0m was a reckless, improvident man. \u001b[94mHis\u001b[0m son \u001b[91mJohn\u001b[0m having predeceased him, he sold Ashey in 1624 to Thomas Cotele.\n\ndevelopment-833 He used a traditional guitar style to play modern-based compositions in an extended way. And his liner notes were way cool. ' The press garnered by Death Chants was enough to get Fahey his first paying gig--a weeklong engagement at Boston's Odyssey Coffeehouse in the summer of '65.'' In \u001b[94mhis\u001b[0m 1992 article ``Reinventing the Steel'' for Acoustic Guitar, \u001b[92mDale Miller\u001b[0m described the liner notes that \u001b[91mFahey\u001b[0m began including on his releases as ``hilarious yet profound and somewhat disturbing phony folklorical ramblings that spoofed the pedantic notes on many folk releases of the day.''\n\ndevelopment-766 Riggs received his elementary training in a Baltimore private school and later attended St. Paul's School, a private preparatory school in Concord, New Hampshire. After completing his studies at St. Paul's, Riggs enrolled at Princeton University. He followed his older brother, Jesse Riggs, to Princeton. \u001b[91mJesse\u001b[0m had been an All-American for Princeton's football team, and \u001b[92mDudley\u001b[0m followed in \u001b[94mhis\u001b[0m older brother's footsteps by joining the Princeton football team.\n\ndevelopment-1100 Myra had her second daughter with Billy a year later and named her Mercedes. Billy left Myra and his daughters soon after Mercedes was born. At aged 19, \u001b[92mMyra\u001b[0m gave birth to \u001b[91mTina\u001b[0m following a one-night stand with a married man named Marvin Bassman who refused to be involved in his daughter's life. \u001b[94mShe\u001b[0m named her daughter after Tina Turner.\n\n"
     ]
    }
   ],
   "source": [
    "print_sents(datas={'manual':True, 'data':both_subject_data}, num_lines = 10)"
   ]
  },
  {
   "cell_type": "code",
   "execution_count": 37,
   "metadata": {},
   "outputs": [
    {
     "output_type": "stream",
     "name": "stderr",
     "text": [
      "100%|██████████| 9/9 [00:14<00:00,  1.64s/it]\n"
     ]
    },
    {
     "output_type": "execute_result",
     "data": {
      "text/plain": [
       "  Pronoun  Length  Accuracy0  Accuracy1  Accuracy2  Accuracy3\n",
       "0      He      10   0.500000   0.400000   0.500000   0.400000\n",
       "1     She      14   0.571429   0.428571   0.500000   0.500000\n",
       "2     His       4   0.750000   0.250000   0.750000   0.250000\n",
       "3     Her       0   0.000000   0.000000   0.000000   0.000000\n",
       "4      he      18   0.833333   0.055556   0.833333   0.055556\n",
       "5     she      25   0.640000   0.200000   0.640000   0.200000\n",
       "6     his      42   0.690476   0.261905   0.690476   0.261905\n",
       "7     him      22   0.181818   0.681818   0.181818   0.681818\n",
       "8     her      67   0.597015   0.358209   0.611940   0.343284\n",
       "9   total     202   0.594059   0.331683   0.594059   0.331683"
      ],
      "text/html": "<div>\n<style scoped>\n    .dataframe tbody tr th:only-of-type {\n        vertical-align: middle;\n    }\n\n    .dataframe tbody tr th {\n        vertical-align: top;\n    }\n\n    .dataframe thead th {\n        text-align: right;\n    }\n</style>\n<table border=\"1\" class=\"dataframe\">\n  <thead>\n    <tr style=\"text-align: right;\">\n      <th></th>\n      <th>Pronoun</th>\n      <th>Length</th>\n      <th>Accuracy0</th>\n      <th>Accuracy1</th>\n      <th>Accuracy2</th>\n      <th>Accuracy3</th>\n    </tr>\n  </thead>\n  <tbody>\n    <tr>\n      <th>0</th>\n      <td>He</td>\n      <td>10</td>\n      <td>0.500000</td>\n      <td>0.400000</td>\n      <td>0.500000</td>\n      <td>0.400000</td>\n    </tr>\n    <tr>\n      <th>1</th>\n      <td>She</td>\n      <td>14</td>\n      <td>0.571429</td>\n      <td>0.428571</td>\n      <td>0.500000</td>\n      <td>0.500000</td>\n    </tr>\n    <tr>\n      <th>2</th>\n      <td>His</td>\n      <td>4</td>\n      <td>0.750000</td>\n      <td>0.250000</td>\n      <td>0.750000</td>\n      <td>0.250000</td>\n    </tr>\n    <tr>\n      <th>3</th>\n      <td>Her</td>\n      <td>0</td>\n      <td>0.000000</td>\n      <td>0.000000</td>\n      <td>0.000000</td>\n      <td>0.000000</td>\n    </tr>\n    <tr>\n      <th>4</th>\n      <td>he</td>\n      <td>18</td>\n      <td>0.833333</td>\n      <td>0.055556</td>\n      <td>0.833333</td>\n      <td>0.055556</td>\n    </tr>\n    <tr>\n      <th>5</th>\n      <td>she</td>\n      <td>25</td>\n      <td>0.640000</td>\n      <td>0.200000</td>\n      <td>0.640000</td>\n      <td>0.200000</td>\n    </tr>\n    <tr>\n      <th>6</th>\n      <td>his</td>\n      <td>42</td>\n      <td>0.690476</td>\n      <td>0.261905</td>\n      <td>0.690476</td>\n      <td>0.261905</td>\n    </tr>\n    <tr>\n      <th>7</th>\n      <td>him</td>\n      <td>22</td>\n      <td>0.181818</td>\n      <td>0.681818</td>\n      <td>0.181818</td>\n      <td>0.681818</td>\n    </tr>\n    <tr>\n      <th>8</th>\n      <td>her</td>\n      <td>67</td>\n      <td>0.597015</td>\n      <td>0.358209</td>\n      <td>0.611940</td>\n      <td>0.343284</td>\n    </tr>\n    <tr>\n      <th>9</th>\n      <td>total</td>\n      <td>202</td>\n      <td>0.594059</td>\n      <td>0.331683</td>\n      <td>0.594059</td>\n      <td>0.331683</td>\n    </tr>\n  </tbody>\n</table>\n</div>"
     },
     "metadata": {},
     "execution_count": 37
    }
   ],
   "source": [
    "overall_analysis(train_data, [both_subject], [latter_word, former_word, closer_word, farther_word])"
   ]
  },
  {
   "source": [
    "## 6. When both words are not subject\n"
   ],
   "cell_type": "markdown",
   "metadata": {}
  },
  {
   "cell_type": "code",
   "execution_count": 38,
   "metadata": {},
   "outputs": [
    {
     "output_type": "execute_result",
     "data": {
      "text/plain": [
       "639"
      ]
     },
     "metadata": {},
     "execution_count": 38
    }
   ],
   "source": [
    "none_subject_data = train_data.apply(none_subject, axis=1)\n",
    "none_subject_data = train_data[none_subject_data]\n",
    "len(none_subject_data)"
   ]
  },
  {
   "cell_type": "code",
   "execution_count": 39,
   "metadata": {},
   "outputs": [
    {
     "output_type": "stream",
     "name": "stderr",
     "text": [
      "100%|██████████| 9/9 [00:15<00:00,  1.77s/it]\n"
     ]
    },
    {
     "output_type": "execute_result",
     "data": {
      "text/plain": [
       "  Pronoun  Length  Accuracy0  Accuracy1  Accuracy2  Accuracy3\n",
       "0      He      41   0.390244   0.463415   0.439024   0.414634\n",
       "1     She      50   0.280000   0.420000   0.240000   0.460000\n",
       "2     His      11   0.181818   0.454545   0.181818   0.454545\n",
       "3     Her      19   0.368421   0.368421   0.368421   0.368421\n",
       "4      he      78   0.423077   0.371795   0.423077   0.371795\n",
       "5     she      77   0.337662   0.402597   0.324675   0.415584\n",
       "6     his     148   0.452703   0.290541   0.506757   0.236486\n",
       "7     him      18   0.555556   0.222222   0.555556   0.222222\n",
       "8     her     197   0.502538   0.319797   0.507614   0.314721\n",
       "9   total     639   0.428795   0.347418   0.441315   0.334898"
      ],
      "text/html": "<div>\n<style scoped>\n    .dataframe tbody tr th:only-of-type {\n        vertical-align: middle;\n    }\n\n    .dataframe tbody tr th {\n        vertical-align: top;\n    }\n\n    .dataframe thead th {\n        text-align: right;\n    }\n</style>\n<table border=\"1\" class=\"dataframe\">\n  <thead>\n    <tr style=\"text-align: right;\">\n      <th></th>\n      <th>Pronoun</th>\n      <th>Length</th>\n      <th>Accuracy0</th>\n      <th>Accuracy1</th>\n      <th>Accuracy2</th>\n      <th>Accuracy3</th>\n    </tr>\n  </thead>\n  <tbody>\n    <tr>\n      <th>0</th>\n      <td>He</td>\n      <td>41</td>\n      <td>0.390244</td>\n      <td>0.463415</td>\n      <td>0.439024</td>\n      <td>0.414634</td>\n    </tr>\n    <tr>\n      <th>1</th>\n      <td>She</td>\n      <td>50</td>\n      <td>0.280000</td>\n      <td>0.420000</td>\n      <td>0.240000</td>\n      <td>0.460000</td>\n    </tr>\n    <tr>\n      <th>2</th>\n      <td>His</td>\n      <td>11</td>\n      <td>0.181818</td>\n      <td>0.454545</td>\n      <td>0.181818</td>\n      <td>0.454545</td>\n    </tr>\n    <tr>\n      <th>3</th>\n      <td>Her</td>\n      <td>19</td>\n      <td>0.368421</td>\n      <td>0.368421</td>\n      <td>0.368421</td>\n      <td>0.368421</td>\n    </tr>\n    <tr>\n      <th>4</th>\n      <td>he</td>\n      <td>78</td>\n      <td>0.423077</td>\n      <td>0.371795</td>\n      <td>0.423077</td>\n      <td>0.371795</td>\n    </tr>\n    <tr>\n      <th>5</th>\n      <td>she</td>\n      <td>77</td>\n      <td>0.337662</td>\n      <td>0.402597</td>\n      <td>0.324675</td>\n      <td>0.415584</td>\n    </tr>\n    <tr>\n      <th>6</th>\n      <td>his</td>\n      <td>148</td>\n      <td>0.452703</td>\n      <td>0.290541</td>\n      <td>0.506757</td>\n      <td>0.236486</td>\n    </tr>\n    <tr>\n      <th>7</th>\n      <td>him</td>\n      <td>18</td>\n      <td>0.555556</td>\n      <td>0.222222</td>\n      <td>0.555556</td>\n      <td>0.222222</td>\n    </tr>\n    <tr>\n      <th>8</th>\n      <td>her</td>\n      <td>197</td>\n      <td>0.502538</td>\n      <td>0.319797</td>\n      <td>0.507614</td>\n      <td>0.314721</td>\n    </tr>\n    <tr>\n      <th>9</th>\n      <td>total</td>\n      <td>639</td>\n      <td>0.428795</td>\n      <td>0.347418</td>\n      <td>0.441315</td>\n      <td>0.334898</td>\n    </tr>\n  </tbody>\n</table>\n</div>"
     },
     "metadata": {},
     "execution_count": 39
    }
   ],
   "source": [
    "overall_analysis(train_data, [none_subject], [latter_word, former_word, closer_word, farther_word])"
   ]
  },
  {
   "cell_type": "code",
   "execution_count": 40,
   "metadata": {},
   "outputs": [
    {
     "output_type": "stream",
     "name": "stderr",
     "text": [
      "100%|██████████| 9/9 [00:14<00:00,  1.65s/it]\n"
     ]
    },
    {
     "output_type": "execute_result",
     "data": {
      "text/plain": [
       "  Pronoun  Length  Accuracy0\n",
       "0      He       0   0.000000\n",
       "1     She       0   0.000000\n",
       "2     His       0   0.000000\n",
       "3     Her       0   0.000000\n",
       "4      he       2   0.500000\n",
       "5     she       2   1.000000\n",
       "6     his      13   0.692308\n",
       "7     him       0   0.000000\n",
       "8     her       4   0.750000\n",
       "9   total      21   0.714286"
      ],
      "text/html": "<div>\n<style scoped>\n    .dataframe tbody tr th:only-of-type {\n        vertical-align: middle;\n    }\n\n    .dataframe tbody tr th {\n        vertical-align: top;\n    }\n\n    .dataframe thead th {\n        text-align: right;\n    }\n</style>\n<table border=\"1\" class=\"dataframe\">\n  <thead>\n    <tr style=\"text-align: right;\">\n      <th></th>\n      <th>Pronoun</th>\n      <th>Length</th>\n      <th>Accuracy0</th>\n    </tr>\n  </thead>\n  <tbody>\n    <tr>\n      <th>0</th>\n      <td>He</td>\n      <td>0</td>\n      <td>0.000000</td>\n    </tr>\n    <tr>\n      <th>1</th>\n      <td>She</td>\n      <td>0</td>\n      <td>0.000000</td>\n    </tr>\n    <tr>\n      <th>2</th>\n      <td>His</td>\n      <td>0</td>\n      <td>0.000000</td>\n    </tr>\n    <tr>\n      <th>3</th>\n      <td>Her</td>\n      <td>0</td>\n      <td>0.000000</td>\n    </tr>\n    <tr>\n      <th>4</th>\n      <td>he</td>\n      <td>2</td>\n      <td>0.500000</td>\n    </tr>\n    <tr>\n      <th>5</th>\n      <td>she</td>\n      <td>2</td>\n      <td>1.000000</td>\n    </tr>\n    <tr>\n      <th>6</th>\n      <td>his</td>\n      <td>13</td>\n      <td>0.692308</td>\n    </tr>\n    <tr>\n      <th>7</th>\n      <td>him</td>\n      <td>0</td>\n      <td>0.000000</td>\n    </tr>\n    <tr>\n      <th>8</th>\n      <td>her</td>\n      <td>4</td>\n      <td>0.750000</td>\n    </tr>\n    <tr>\n      <th>9</th>\n      <td>total</td>\n      <td>21</td>\n      <td>0.714286</td>\n    </tr>\n  </tbody>\n</table>\n</div>"
     },
     "metadata": {},
     "execution_count": 40
    }
   ],
   "source": [
    "overall_analysis(train_data, [none_subject, both_latter, another_subject], [lambda x: (False, False)])"
   ]
  },
  {
   "cell_type": "code",
   "execution_count": 41,
   "metadata": {},
   "outputs": [
    {
     "output_type": "stream",
     "name": "stdout",
     "text": [
      "development-1487 New York Times. May 7, 1947. Retrieved 2014-12-02. Mme. \u001b[92mLouise Homer\u001b[0m, noted contralto, who thrilled Metropolitan Opera audiences as Amneris in '\u001b[91mAida\u001b[0m' and in other famous roles, died here this afternoon of a heart ailment at the age of 76. \u001b[94mShe\u001b[0m had been in ill health since the death of her youngest daughter, Joy, on Oct.\n\ndevelopment-763 Let Go by Avril Lavigne is the 2nd best selling debut album by a \u001b[91mFemale Artist\u001b[0m of the new millennium with more than 20 million copies sold worldwide \u001b[92mLavigne\u001b[0m ``The Best Damn Thing'' is one the best selling Pop Punk album of the decade with sales over 8 million copies sold worldwide The songs ``Complicated'' and ``Girlfriend'' were ranked as one of the Billboard Hot 100 singles of the decade. \u001b[94mHer\u001b[0m single ``Girlfriend'' was the best selling song of 2007 worldwide with over 10 million copies sold to date.\n\ndevelopment-1066 Alessandro Turchi worked briefly under him. As the most talented member of his father's workshop, he undoubtedly executed many works that are attributed to his father. Works that have been clearly isolated as \u001b[92mCarlo\u001b[0m's own are more precise and delicate, both technically and in the physical types; they lack \u001b[91mVeronese\u001b[0m's bravura, whether in the line and wash of a chiaroscuro drawing or in the richly layered pigments that make an embroidered drape. \u001b[94mHis\u001b[0m early signed works show the influence of both his father and the Bassano family by whom he was trained.\n\ndevelopment-173 On March 21, 2006, Murray was fired by the Kings and was replaced on an interim basis by John Torchetti. He provided colour commentary for the Canadian Broadcasting Corporation during their Hockey Night in Canada telecasts of the 2006 Stanley Cup playoffs. On December 11, 2006, the Blues hired \u001b[92mMurray\u001b[0m to replace \u001b[91mMike Kitchen\u001b[0m as head coach after a seven game losing streak. \u001b[94mHe\u001b[0m coached the Blues to a record of 33--36--13 in his first full season as coach in 2007--2008.\n\ndevelopment-1348 The historical context of creating a grotto in the Vatican Gardens is that on 8 December 1854 the dogma of the Immaculate Conception was proclaimed by Pope Pius IX at a column of the Piazza di Spagna adorned with a statue of the Madonna or Virgin Mary. The context of the dogma was further accentuated by the visionary message given by the \u001b[91mMadonna\u001b[0m to \u001b[92mBernadette Soubirous\u001b[0m, a young girl of 14, that ``\u001b[94mShe\u001b[0m'' was the ``Immaculate Conception'' and that a shrine should be established for her at Massabielle near Lourdes.\n\ndevelopment-1986 Her personal best for long jump is 6.55 m set in Bangalore on 5 June 2010 during the second Indian Grand Prix. She became only the fourth Indian woman to cross 6.50 m, joining \u001b[91mAnju Bobby George\u001b[0m (6.83 m), J.J. Shobha (6.66 m), and \u001b[91mPramila Aiyappa\u001b[0m. \u001b[94mShe\u001b[0m won the gold medal for her effort.\n\ndevelopment-1496 Born in Omaha in 1953, Buffett, commonly called \u001b[92mSusie\u001b[0m, is the eldest child of Warren Buffett and his first wife, \u001b[91mSusan Thompson Buffett\u001b[0m. \u001b[94mHer\u001b[0m parents separated in the late 1970s (though they remained married until her mother's death in 2004).\n\ndevelopment-280 When Gao received this news, he became even more respectful of Liang. In the aftermaths of Emperor Zhuangzong's death, Emperor Zhuangzong's adoptive brother Li Siyuan claimed imperial title (as Emperor Mingzong). Meanwhile, Gao Jixing prepared his fleet and wanted to attack \u001b[91mChu\u001b[0m. \u001b[94mHis\u001b[0m official \u001b[91mSun Guangxian\u001b[0m, whom Liang Zhen had recommended to him to be his scribe, pointed out that Jingnan had barely recovered from the wars, and if it were engaged in a war with Chu, other states might take advantage and attack Jingnan.\n\ndevelopment-1944 In the inn, the adults examine the goo covering only the blade of an ax and find out that the goo is an alien bacteria that feeds off metal, sucking the metal from human blood (humans have metal/iron in their blood) and killing them. Outside, Iron puts himself back together, and Claire and Max are still locked in \u001b[91mJenny\u001b[0m's dead car (it was revealed that Iron causes static electricity and effect electronics which make the car inoperable) as Iron tries to grab \u001b[92mClaire\u001b[0m. \u001b[94mShe\u001b[0m is touched, but not harmed.\n\ndevelopment-1573 A notable theme running through his work (most notably the 'Dead' trilogy) is agalmatophilia c male lust for young female gynoid s, as well as the darker undercurrents of British national culture. His novels and stories have links and plot overlaps between one another, and together form a mythos. His ``epic masterpiece'' (``Reading \u001b[91mRichard Calder\u001b[0m'', \u001b[92mClaude Lalumi*re\u001b[0m) is said to be Malignos (2000). \u001b[94mHe\u001b[0m cites as inspirations Angela Carter and Georges Bataille, among others.\n\n"
     ]
    }
   ],
   "source": [
    "print_sents(datas={'manual':True, 'data':none_subject_data[none_subject_data.apply(lambda row: row['Pronoun'] in ['He','She','His','Her'], axis=1)]}, num_lines = 10)"
   ]
  },
  {
   "source": [
    "1. when two words are close to each other, referred words are more likely to be coreferred word.\n",
    "\n",
    " * {True word} (,?) and {Pronoun}\n"
   ],
   "cell_type": "markdown",
   "metadata": {}
  },
  {
   "cell_type": "code",
   "execution_count": 42,
   "metadata": {},
   "outputs": [],
   "source": [
    "def CC_pronoun(row):\n",
    "    token_dict = tokenized_index(row)\n",
    "\n",
    "    tagged_words = token_dict['tagged_words']\n",
    "    word_index = token_dict['word_index']\n",
    "\n",
    "    pro_index = word_index[row['Pronoun-offset']]\n",
    "    A_index = word_index[row['A-offset']]\n",
    "    B_index = word_index[row['B-offset']]\n",
    "\n",
    "    def coref(index):\n",
    "        if index+5 >= len(tagged_words):\n",
    "            return False\n",
    "        return (tagged_words[index+1][1] == 'CC' and pro_index == index + 2) or \\\n",
    "               (tagged_words[index+2][1] == 'CC' and pro_index == index + 3)\n",
    "\n",
    "    return coref(A_index), coref(B_index)\n",
    "\n",
    "def exist_CC_pronoun(row):\n",
    "    return sum(CC_pronoun(row)) == 1"
   ]
  },
  {
   "cell_type": "code",
   "execution_count": 43,
   "metadata": {},
   "outputs": [
    {
     "output_type": "stream",
     "name": "stdout",
     "text": [
      "15 0.9333333333333333\n"
     ]
    },
    {
     "output_type": "execute_result",
     "data": {
      "text/plain": [
       "                    ID                                               Text  \\\n",
       "478    development-479  Sarah Wadsworth (17 Mar 1649 - ) m. Jonathan A...   \n",
       "535    development-536  The orchestra moved on to the Mound Club in St...   \n",
       "607    development-608  Little Fish is a 2005 Australian film directed...   \n",
       "633    development-634  The royalties from the performances of the wor...   \n",
       "694    development-695  They moved to Go**bki near Warsaw with their t...   \n",
       "756    development-757  Immediately after Blackwood's penalty, wide re...   \n",
       "778    development-779  Not only was it the first scholarly edition of...   \n",
       "1212  development-1213  Truth or Dare by Madonna is a lifestyle brand ...   \n",
       "1320  development-1321  However, Archie Mitchell uses Suzy to plant DN...   \n",
       "1468  development-1469  He declared that if James were dead, he would ...   \n",
       "1511  development-1512  He is a well known expert, consultant and auth...   \n",
       "1873  development-1874  The novel is set in Bath, Somerset and centres...   \n",
       "1902  development-1903  William A. Tudor (born 1964) and ex- wife Moni...   \n",
       "1976  development-1977  ``Don't Cry Your Heart Out'' was radio-friendl...   \n",
       "1981  development-1982  The Season Nine DVD contains a number of delet...   \n",
       "\n",
       "     Pronoun  Pronoun-offset                     A  A-offset  A-coref  \\\n",
       "478      his             260               William       222    False   \n",
       "535      His             267          George Burns       237    False   \n",
       "607      her             276             Liz Watts       222    False   \n",
       "633      his             310         Frankie Laine       277    False   \n",
       "694      her             289      Krystyna Izbicki       256    False   \n",
       "756       he             332             Theismann       277    False   \n",
       "778      Her             290        Mary Lascelles       257     True   \n",
       "1212     her             321         Material Girl       258    False   \n",
       "1320     she             317        Queen Victoria       278    False   \n",
       "1468     his             313                 James       232    False   \n",
       "1511     his             593       Rodolfo de Anda       506    False   \n",
       "1873     her             225      Abigail Wendover        76    False   \n",
       "1902     her             310  Michelle H. Jennings       167    False   \n",
       "1976     her             320            Deasismont       206    False   \n",
       "1981     her             285               Phyllis       211    False   \n",
       "\n",
       "                    B  B-offset  B-coref  \\\n",
       "478    John Wadsworth       242     True   \n",
       "535         Tal Henry       253     True   \n",
       "607    Cate Blanchett       257     True   \n",
       "633       Paul Weston       296     True   \n",
       "694        Anna Zofia       274     True   \n",
       "756           Garrett       319     True   \n",
       "778       Jane Austen       274    False   \n",
       "1212          Madonna       309     True   \n",
       "1320             Suzy       308     True   \n",
       "1468         Brokesby       300     True   \n",
       "1511  Antonio Aguilar       573     True   \n",
       "1873           Stacey       213     True   \n",
       "1902    Holly Hathorn       292     True   \n",
       "1976              Amy       312     True   \n",
       "1981             Erin       276     True   \n",
       "\n",
       "                                                    URL  A-pred  B-pred  \n",
       "478   http://en.wikipedia.org/wiki/William_Wadsworth...   False    True  \n",
       "535              http://en.wikipedia.org/wiki/Tal_Henry   False    True  \n",
       "607     http://en.wikipedia.org/wiki/Little_Fish_(film)   False    True  \n",
       "633   http://en.wikipedia.org/wiki/Jalousie_'Tango_T...   False    True  \n",
       "694   http://en.wikipedia.org/wiki/Jerzy_and_Irena_K...   False    True  \n",
       "756        http://en.wikipedia.org/wiki/Super_Bowl_XVII   False    True  \n",
       "778            http://en.wikipedia.org/wiki/Jane_Austen   False    True  \n",
       "1212  http://en.wikipedia.org/wiki/Truth_or_Dare_by_...   False    True  \n",
       "1320         http://en.wikipedia.org/wiki/Suzy_Branning   False    True  \n",
       "1468      http://en.wikipedia.org/wiki/Francis_Brokesby   False    True  \n",
       "1511  http://en.wikipedia.org/wiki/Million_Dollar_Th...   False    True  \n",
       "1873   http://en.wikipedia.org/wiki/Black_Sheep_(novel)   False    True  \n",
       "1902           http://en.wikipedia.org/wiki/Buddy_Tudor   False    True  \n",
       "1976        http://en.wikipedia.org/wiki/Amy_Deasismont   False    True  \n",
       "1981   http://en.wikipedia.org/wiki/Finale_(The_Office)   False    True  "
      ],
      "text/html": "<div>\n<style scoped>\n    .dataframe tbody tr th:only-of-type {\n        vertical-align: middle;\n    }\n\n    .dataframe tbody tr th {\n        vertical-align: top;\n    }\n\n    .dataframe thead th {\n        text-align: right;\n    }\n</style>\n<table border=\"1\" class=\"dataframe\">\n  <thead>\n    <tr style=\"text-align: right;\">\n      <th></th>\n      <th>ID</th>\n      <th>Text</th>\n      <th>Pronoun</th>\n      <th>Pronoun-offset</th>\n      <th>A</th>\n      <th>A-offset</th>\n      <th>A-coref</th>\n      <th>B</th>\n      <th>B-offset</th>\n      <th>B-coref</th>\n      <th>URL</th>\n      <th>A-pred</th>\n      <th>B-pred</th>\n    </tr>\n  </thead>\n  <tbody>\n    <tr>\n      <th>478</th>\n      <td>development-479</td>\n      <td>Sarah Wadsworth (17 Mar 1649 - ) m. Jonathan A...</td>\n      <td>his</td>\n      <td>260</td>\n      <td>William</td>\n      <td>222</td>\n      <td>False</td>\n      <td>John Wadsworth</td>\n      <td>242</td>\n      <td>True</td>\n      <td>http://en.wikipedia.org/wiki/William_Wadsworth...</td>\n      <td>False</td>\n      <td>True</td>\n    </tr>\n    <tr>\n      <th>535</th>\n      <td>development-536</td>\n      <td>The orchestra moved on to the Mound Club in St...</td>\n      <td>His</td>\n      <td>267</td>\n      <td>George Burns</td>\n      <td>237</td>\n      <td>False</td>\n      <td>Tal Henry</td>\n      <td>253</td>\n      <td>True</td>\n      <td>http://en.wikipedia.org/wiki/Tal_Henry</td>\n      <td>False</td>\n      <td>True</td>\n    </tr>\n    <tr>\n      <th>607</th>\n      <td>development-608</td>\n      <td>Little Fish is a 2005 Australian film directed...</td>\n      <td>her</td>\n      <td>276</td>\n      <td>Liz Watts</td>\n      <td>222</td>\n      <td>False</td>\n      <td>Cate Blanchett</td>\n      <td>257</td>\n      <td>True</td>\n      <td>http://en.wikipedia.org/wiki/Little_Fish_(film)</td>\n      <td>False</td>\n      <td>True</td>\n    </tr>\n    <tr>\n      <th>633</th>\n      <td>development-634</td>\n      <td>The royalties from the performances of the wor...</td>\n      <td>his</td>\n      <td>310</td>\n      <td>Frankie Laine</td>\n      <td>277</td>\n      <td>False</td>\n      <td>Paul Weston</td>\n      <td>296</td>\n      <td>True</td>\n      <td>http://en.wikipedia.org/wiki/Jalousie_'Tango_T...</td>\n      <td>False</td>\n      <td>True</td>\n    </tr>\n    <tr>\n      <th>694</th>\n      <td>development-695</td>\n      <td>They moved to Go**bki near Warsaw with their t...</td>\n      <td>her</td>\n      <td>289</td>\n      <td>Krystyna Izbicki</td>\n      <td>256</td>\n      <td>False</td>\n      <td>Anna Zofia</td>\n      <td>274</td>\n      <td>True</td>\n      <td>http://en.wikipedia.org/wiki/Jerzy_and_Irena_K...</td>\n      <td>False</td>\n      <td>True</td>\n    </tr>\n    <tr>\n      <th>756</th>\n      <td>development-757</td>\n      <td>Immediately after Blackwood's penalty, wide re...</td>\n      <td>he</td>\n      <td>332</td>\n      <td>Theismann</td>\n      <td>277</td>\n      <td>False</td>\n      <td>Garrett</td>\n      <td>319</td>\n      <td>True</td>\n      <td>http://en.wikipedia.org/wiki/Super_Bowl_XVII</td>\n      <td>False</td>\n      <td>True</td>\n    </tr>\n    <tr>\n      <th>778</th>\n      <td>development-779</td>\n      <td>Not only was it the first scholarly edition of...</td>\n      <td>Her</td>\n      <td>290</td>\n      <td>Mary Lascelles</td>\n      <td>257</td>\n      <td>True</td>\n      <td>Jane Austen</td>\n      <td>274</td>\n      <td>False</td>\n      <td>http://en.wikipedia.org/wiki/Jane_Austen</td>\n      <td>False</td>\n      <td>True</td>\n    </tr>\n    <tr>\n      <th>1212</th>\n      <td>development-1213</td>\n      <td>Truth or Dare by Madonna is a lifestyle brand ...</td>\n      <td>her</td>\n      <td>321</td>\n      <td>Material Girl</td>\n      <td>258</td>\n      <td>False</td>\n      <td>Madonna</td>\n      <td>309</td>\n      <td>True</td>\n      <td>http://en.wikipedia.org/wiki/Truth_or_Dare_by_...</td>\n      <td>False</td>\n      <td>True</td>\n    </tr>\n    <tr>\n      <th>1320</th>\n      <td>development-1321</td>\n      <td>However, Archie Mitchell uses Suzy to plant DN...</td>\n      <td>she</td>\n      <td>317</td>\n      <td>Queen Victoria</td>\n      <td>278</td>\n      <td>False</td>\n      <td>Suzy</td>\n      <td>308</td>\n      <td>True</td>\n      <td>http://en.wikipedia.org/wiki/Suzy_Branning</td>\n      <td>False</td>\n      <td>True</td>\n    </tr>\n    <tr>\n      <th>1468</th>\n      <td>development-1469</td>\n      <td>He declared that if James were dead, he would ...</td>\n      <td>his</td>\n      <td>313</td>\n      <td>James</td>\n      <td>232</td>\n      <td>False</td>\n      <td>Brokesby</td>\n      <td>300</td>\n      <td>True</td>\n      <td>http://en.wikipedia.org/wiki/Francis_Brokesby</td>\n      <td>False</td>\n      <td>True</td>\n    </tr>\n    <tr>\n      <th>1511</th>\n      <td>development-1512</td>\n      <td>He is a well known expert, consultant and auth...</td>\n      <td>his</td>\n      <td>593</td>\n      <td>Rodolfo de Anda</td>\n      <td>506</td>\n      <td>False</td>\n      <td>Antonio Aguilar</td>\n      <td>573</td>\n      <td>True</td>\n      <td>http://en.wikipedia.org/wiki/Million_Dollar_Th...</td>\n      <td>False</td>\n      <td>True</td>\n    </tr>\n    <tr>\n      <th>1873</th>\n      <td>development-1874</td>\n      <td>The novel is set in Bath, Somerset and centres...</td>\n      <td>her</td>\n      <td>225</td>\n      <td>Abigail Wendover</td>\n      <td>76</td>\n      <td>False</td>\n      <td>Stacey</td>\n      <td>213</td>\n      <td>True</td>\n      <td>http://en.wikipedia.org/wiki/Black_Sheep_(novel)</td>\n      <td>False</td>\n      <td>True</td>\n    </tr>\n    <tr>\n      <th>1902</th>\n      <td>development-1903</td>\n      <td>William A. Tudor (born 1964) and ex- wife Moni...</td>\n      <td>her</td>\n      <td>310</td>\n      <td>Michelle H. Jennings</td>\n      <td>167</td>\n      <td>False</td>\n      <td>Holly Hathorn</td>\n      <td>292</td>\n      <td>True</td>\n      <td>http://en.wikipedia.org/wiki/Buddy_Tudor</td>\n      <td>False</td>\n      <td>True</td>\n    </tr>\n    <tr>\n      <th>1976</th>\n      <td>development-1977</td>\n      <td>``Don't Cry Your Heart Out'' was radio-friendl...</td>\n      <td>her</td>\n      <td>320</td>\n      <td>Deasismont</td>\n      <td>206</td>\n      <td>False</td>\n      <td>Amy</td>\n      <td>312</td>\n      <td>True</td>\n      <td>http://en.wikipedia.org/wiki/Amy_Deasismont</td>\n      <td>False</td>\n      <td>True</td>\n    </tr>\n    <tr>\n      <th>1981</th>\n      <td>development-1982</td>\n      <td>The Season Nine DVD contains a number of delet...</td>\n      <td>her</td>\n      <td>285</td>\n      <td>Phyllis</td>\n      <td>211</td>\n      <td>False</td>\n      <td>Erin</td>\n      <td>276</td>\n      <td>True</td>\n      <td>http://en.wikipedia.org/wiki/Finale_(The_Office)</td>\n      <td>False</td>\n      <td>True</td>\n    </tr>\n  </tbody>\n</table>\n</div>"
     },
     "metadata": {},
     "execution_count": 43
    }
   ],
   "source": [
    "apply_model(train_data, [none_subject, exist_CC_pronoun], CC_pronoun)"
   ]
  },
  {
   "source": [
    "2. Located in the beggining of a sentence."
   ],
   "cell_type": "markdown",
   "metadata": {}
  },
  {
   "cell_type": "code",
   "execution_count": null,
   "metadata": {},
   "outputs": [],
   "source": [
    "def begin_sentence(row):\n",
    "\n",
    "    token_dict = tokenized_index(row)\n",
    "    tagged_sents = token_dict['tagged_sents']\n",
    "\n",
    "    Subjects = []\n",
    "\n",
    "    def first_NP(sent):\n",
    "\n",
    "        first_np = \"\"\n",
    "        index=0\n",
    "        while sent[index][1].startswith('NN') or sent[index][1].startswith('W') or sent[index][1] in [\"'s\", 'DT', 'IN', 'CD']:\n",
    "            while sent[index][1].startswith('NNP'):\n",
    "                first_np += sent[index][0] + \" \"\n",
    "                if index < len(sent) - 1:\n",
    "                    index += 1\n",
    "                else:\n",
    "                    break\n",
    "\n",
    "            if len(first_np) > 0:\n",
    "                Subjects.append(first_np)\n",
    "\n",
    "            if index < len(sent) - 1:\n",
    "                index += 1\n",
    "            else:\n",
    "                break\n",
    "\n",
    "    def tagged_split(tagged_sent):\n",
    "        splitted = []\n",
    "        index = 0\n",
    "        \n",
    "        while(index < len(tagged_sent)):\n",
    "            try:\n",
    "                new_index = tagged_sent[index:].index((',',','))\n",
    "                splitted.append(tagged_sent[index:index+new_index])\n",
    "                index += new_index+1\n",
    "            except:\n",
    "                splitted.append(tagged_sent[index:])\n",
    "                return splitted\n",
    "\n",
    "    for sent in tagged_sents:\n",
    "        for sub_sent in tagged_split(sent):\n",
    "        \n",
    "            first_np = first_NP(sub_sent)\n",
    "\n",
    "    def exist(word):\n",
    "        for first_word in Subjects:\n",
    "            if word in first_word:\n",
    "                return True\n",
    "            elif first_word in word:\n",
    "                return True\n",
    "        return False\n",
    "\n",
    "    return (exist(row['A']), exist(row['B']))\n",
    "\n",
    "def begin_sentence_word(row):\n",
    "    return sum(begin_sentence(row)) == 1"
   ]
  },
  {
   "cell_type": "code",
   "execution_count": 85,
   "metadata": {},
   "outputs": [],
   "source": [
    "def tagged_split(tagged_sent):\n",
    "    splitted = []\n",
    "    index = 0\n",
    "    \n",
    "    while(index < len(tagged_sent)):\n",
    "        try:\n",
    "            new_index = tagged_sent[index:].index((',',','))\n",
    "            splitted.append(tagged_sent[index:index+new_index])\n",
    "            index += new_index+1\n",
    "        except:\n",
    "            splitted.append(tagged_sent[index:])\n",
    "            return splitted"
   ]
  },
  {
   "cell_type": "code",
   "execution_count": 90,
   "metadata": {},
   "outputs": [
    {
     "output_type": "execute_result",
     "data": {
      "text/plain": [
       "[[('Sojeong', 'NNP')],\n",
       " [('who', 'WP'), ('likes', 'VBZ'), ('sweet', 'JJ'), ('thing', 'NN')],\n",
       " [('always', 'RB'), ('go', 'VBP'), ('to', 'TO'), ('Subway', 'NNP')],\n",
       " [('.', '.')]]"
      ]
     },
     "metadata": {},
     "execution_count": 90
    }
   ],
   "source": [
    "tagged_split(nltk.pos_tag(nltk.word_tokenize(\"Sojeong, who likes sweet thing, always go to Subway,.\")))"
   ]
  },
  {
   "cell_type": "code",
   "execution_count": 64,
   "metadata": {},
   "outputs": [],
   "source": [
    "def most_occurance(row):\n",
    "\n",
    "    token_dict = tokenized_index(row)\n",
    "    tagged_words = token_dict['tagged_words']\n",
    "\n",
    "    index=0\n",
    "    NPs = []\n",
    "    NP_dict = {}\n",
    "\n",
    "    while index < len(tagged_words):\n",
    "        np = \"\"\n",
    "        while index < len(tagged_words) and tagged_words[index][1].startswith('NNP'):\n",
    "            np += tagged_words[index][0] + \" \"\n",
    "            index += 1\n",
    "        \n",
    "        if len(np) > 0:\n",
    "            NPs.append(np[:-1])\n",
    "\n",
    "        index += 1\n",
    "\n",
    "    def occurance(word):\n",
    "        occ = 0\n",
    "        for w in NPs:\n",
    "            if w in word:\n",
    "                occ += 1\n",
    "\n",
    "        return occ\n",
    "\n",
    "    for word in set(NPs):\n",
    "        NP_dict[word] = occurance(word)\n",
    "\n",
    "    max_occ = sorted(NP_dict.items(), key = (lambda x: x[1]), reverse=True)[0]\n",
    "\n",
    "    if max_occ[1] > 1:\n",
    "        return [NP for NP in NP_dict if NP_dict[NP] == max_occ[1]]\n",
    "    else:\n",
    "        return None\n",
    "\n",
    "def more_occurance(row):\n",
    "\n",
    "    most_occs = most_occurance(row)\n",
    "\n",
    "    if most_occs == None:\n",
    "        return (True, True)\n",
    "\n",
    "    def exist(word, words):\n",
    "        for w in words:\n",
    "            if word in w or w in word:\n",
    "                return True\n",
    "        return False\n",
    "\n",
    "    return (exist(row['A'], most_occs), exist(row['B'], most_occs))\n",
    "\n",
    "def only_most_occurance(row):\n",
    "    return sum(more_occurance(row)) == 1\n",
    "\n",
    "def none_most_occurance(row):\n",
    "    return sum(more_occurance(row)) == 0\n",
    "\n",
    "def both_most_occurance(row):\n",
    "    return more_occurance(row) == (True, True)"
   ]
  },
  {
   "cell_type": "code",
   "execution_count": 46,
   "metadata": {},
   "outputs": [
    {
     "output_type": "stream",
     "name": "stderr",
     "text": [
      "100%|██████████| 9/9 [00:22<00:00,  2.51s/it]\n"
     ]
    },
    {
     "output_type": "execute_result",
     "data": {
      "text/plain": [
       "  Pronoun  Length  Accuracy0\n",
       "0      He      20   0.700000\n",
       "1     She      16   0.562500\n",
       "2     His       4   0.750000\n",
       "3     Her       9   0.555556\n",
       "4      he      26   0.653846\n",
       "5     she      34   0.441176\n",
       "6     his      59   0.576271\n",
       "7     him       9   0.555556\n",
       "8     her      92   0.597826\n",
       "9   total     269   0.583643"
      ],
      "text/html": "<div>\n<style scoped>\n    .dataframe tbody tr th:only-of-type {\n        vertical-align: middle;\n    }\n\n    .dataframe tbody tr th {\n        vertical-align: top;\n    }\n\n    .dataframe thead th {\n        text-align: right;\n    }\n</style>\n<table border=\"1\" class=\"dataframe\">\n  <thead>\n    <tr style=\"text-align: right;\">\n      <th></th>\n      <th>Pronoun</th>\n      <th>Length</th>\n      <th>Accuracy0</th>\n    </tr>\n  </thead>\n  <tbody>\n    <tr>\n      <th>0</th>\n      <td>He</td>\n      <td>20</td>\n      <td>0.700000</td>\n    </tr>\n    <tr>\n      <th>1</th>\n      <td>She</td>\n      <td>16</td>\n      <td>0.562500</td>\n    </tr>\n    <tr>\n      <th>2</th>\n      <td>His</td>\n      <td>4</td>\n      <td>0.750000</td>\n    </tr>\n    <tr>\n      <th>3</th>\n      <td>Her</td>\n      <td>9</td>\n      <td>0.555556</td>\n    </tr>\n    <tr>\n      <th>4</th>\n      <td>he</td>\n      <td>26</td>\n      <td>0.653846</td>\n    </tr>\n    <tr>\n      <th>5</th>\n      <td>she</td>\n      <td>34</td>\n      <td>0.441176</td>\n    </tr>\n    <tr>\n      <th>6</th>\n      <td>his</td>\n      <td>59</td>\n      <td>0.576271</td>\n    </tr>\n    <tr>\n      <th>7</th>\n      <td>him</td>\n      <td>9</td>\n      <td>0.555556</td>\n    </tr>\n    <tr>\n      <th>8</th>\n      <td>her</td>\n      <td>92</td>\n      <td>0.597826</td>\n    </tr>\n    <tr>\n      <th>9</th>\n      <td>total</td>\n      <td>269</td>\n      <td>0.583643</td>\n    </tr>\n  </tbody>\n</table>\n</div>"
     },
     "metadata": {},
     "execution_count": 46
    }
   ],
   "source": [
    "overall_analysis(train_data, [none_subject, only_most_occurance], [more_occurance])"
   ]
  },
  {
   "cell_type": "code",
   "execution_count": 47,
   "metadata": {},
   "outputs": [],
   "source": [
    "none_occurance_data = none_subject_data[none_subject_data.apply(none_most_occurance, axis=1)]"
   ]
  },
  {
   "cell_type": "code",
   "execution_count": 48,
   "metadata": {},
   "outputs": [],
   "source": [
    "both_occurance_data = none_subject_data[none_subject_data.apply(both_most_occurance, axis=1)]"
   ]
  },
  {
   "cell_type": "code",
   "execution_count": 49,
   "metadata": {},
   "outputs": [
    {
     "output_type": "stream",
     "name": "stdout",
     "text": [
      "200\n170\n"
     ]
    }
   ],
   "source": [
    "print(len(none_occurance_data))\n",
    "print(len(both_occurance_data))"
   ]
  },
  {
   "cell_type": "code",
   "execution_count": 103,
   "metadata": {},
   "outputs": [
    {
     "output_type": "stream",
     "name": "stdout",
     "text": [
      "development-1487 New York Times. May 7, 1947. Retrieved 2014-12-02. Mme. \u001b[92mLouise Homer\u001b[0m, noted contralto, who thrilled Metropolitan Opera audiences as Amneris in '\u001b[91mAida\u001b[0m' and in other famous roles, died here this afternoon of a heart ailment at the age of 76. \u001b[94mShe\u001b[0m had been in ill health since the death of her youngest daughter, Joy, on Oct.\n\ndevelopment-962 After Dark Shadows ended in 1971, she had a brief stint as reporter Marge Grey on All My Children (1973). She continued acting on stage as \u001b[92mWarda\u001b[0m in Jean Genet's The Screens (1971--72) and The Lady in Gray/The Fly in Happy End (1977) which co-starred \u001b[91mMeryl Streep\u001b[0m and Christopher Lloyd. \u001b[94mShe\u001b[0m appeared in the Broadway premiere of The Suicide (1980) with Derek Jacobi, and appeared opposite Geraldine Page, Carrie Nye and Madeline Sherwood in an off-Broadway revival of The Madwoman of Chaillot.\n\ndevelopment-1230 Ang Lalaking Nagmahal Sa Akin by \u001b[91mVanessa\u001b[0m, a romance writer from PHR, is the story of \u001b[92mFlor\u001b[0m who moves from the province to the city to in a hotel. \u001b[94mShe\u001b[0m falls in love with the owner of the hotel, Zephy.\n\ndevelopment-35 Kevin John Coyne of Country Universe gave the song a B rating, saying that ``does breakup about as good as anybody'' and that he doesn't believe Keith is ``capable of turning in a weak vocal performance.'' \u001b[92mBobby Peacock\u001b[0m of Roughstock gave the song a 3.5/5 rating, saying that the production is ``looser and funkier'' than on \u001b[91mKeith\u001b[0m's other songs. \u001b[94mHe\u001b[0m goes on to say that it ``contrasts with the more downbeat lyrics of a fairly standard broken-heart song.''\n\ndevelopment-160 He was promoted to major on 14 August 1790, and to lieutenant-colonel on 9 December 1793. On 4 July 1785 at Barnes in Surrey, he married \u001b[92mHenrietta Anne Hoare\u001b[0m, a daughter of Sir Richard Hoare, 1st Baronet of Barn Elms, a partner in the City of London banking firm C. Hoare & Co, and \u001b[91mFrances Anne Acland\u001b[0m. \u001b[94mShe\u001b[0m survived him and in 1795 remarried to Captain the Hon. Matthew Fortescue (1754--1842), Royal Navy, younger brother of Hugh Fortescue, 1st Earl Fortescue of Castle Hill, Filleigh, Devon.\n\ndevelopment-1259 Close starred in Things You Can Tell Just by Looking at Her in the same year, this would be one of many future collaborations with director Rodrigo Garcia. In 2004, she played \u001b[92mClaire Wellington\u001b[0m, an uptight socialite in the comedy The Stepford Wives opposite \u001b[91mNicole Kidman\u001b[0m and Christopher Walken. \u001b[94mShe\u001b[0m provided the voice of the Blue Fairy in the English version of Pinocchio (2002) and Granny in the animated film Hoodwinked (2005).\n\ndevelopment-837 Lawrence asks Nefarious for his employ again and the two take the ship, flying off into space. A clear parody of \u001b[91mBritney Spears\u001b[0m, Courtney Gears (voiced by \u001b[92mMelissa Disney\u001b[0m in Up Your Arsenal, Nika Futterman in Ratchet: Deadlocked) is a female pop star robot who occasionally gives out prizes on the show, Annihilation Nation. \u001b[94mHer\u001b[0m music and videos are popular in the Solana Galaxy.\n\ndevelopment-529 In 1927, she won a cash prize for her designs, from the Rondith Corporation. Muir focused on designing modern private homes, especially for clients in Malibu, Pacific Palisades, and other affluent Southern California communities. Among her celebrity clients were \u001b[91mShirley Temple\u001b[0m, Robert Taylor and \u001b[91mBarbara Stanwyck\u001b[0m. \u001b[94mShe\u001b[0m earned her architecture license in 1934, and continued at the Byers office until 1942.\n\ndevelopment-1066 Alessandro Turchi worked briefly under him. As the most talented member of his father's workshop, he undoubtedly executed many works that are attributed to his father. Works that have been clearly isolated as \u001b[92mCarlo\u001b[0m's own are more precise and delicate, both technically and in the physical types; they lack \u001b[91mVeronese\u001b[0m's bravura, whether in the line and wash of a chiaroscuro drawing or in the richly layered pigments that make an embroidered drape. \u001b[94mHis\u001b[0m early signed works show the influence of both his father and the Bassano family by whom he was trained.\n\ndevelopment-1986 Her personal best for long jump is 6.55 m set in Bangalore on 5 June 2010 during the second Indian Grand Prix. She became only the fourth Indian woman to cross 6.50 m, joining \u001b[91mAnju Bobby George\u001b[0m (6.83 m), J.J. Shobha (6.66 m), and \u001b[91mPramila Aiyappa\u001b[0m. \u001b[94mShe\u001b[0m won the gold medal for her effort.\n\n"
     ]
    }
   ],
   "source": [
    "print_sents(datas={'manual':True, 'data':both_occurance_data[both_occurance_data.apply(lambda row: row['Pronoun'] in ['He','She','His','Her'], axis=1)]}, num_lines = 10)"
   ]
  },
  {
   "cell_type": "code",
   "execution_count": 106,
   "metadata": {},
   "outputs": [
    {
     "output_type": "stream",
     "name": "stderr",
     "text": [
      "100%|██████████| 9/9 [00:18<00:00,  2.10s/it]\n"
     ]
    },
    {
     "output_type": "execute_result",
     "data": {
      "text/plain": [
       "  Pronoun  Length  Accuracy0  Accuracy1  Accuracy2  Accuracy3  Accuracy4\n",
       "0      He       9   0.555556   0.444444   0.444444   0.555556   0.000000\n",
       "1     She      21   0.428571   0.142857   0.142857   0.428571   0.428571\n",
       "2     His       2   0.500000   0.000000   0.000000   0.500000   0.500000\n",
       "3     Her       3   0.000000   1.000000   1.000000   0.000000   0.000000\n",
       "4      he      23   0.478261   0.217391   0.260870   0.434783   0.304348\n",
       "5     she      20   0.400000   0.400000   0.350000   0.450000   0.200000\n",
       "6     his      39   0.128205   0.615385   0.564103   0.179487   0.256410\n",
       "7     him       3   0.000000   0.666667   0.666667   0.000000   0.333333\n",
       "8     her      50   0.280000   0.560000   0.560000   0.280000   0.160000\n",
       "9   total     170   0.311765   0.452941   0.441176   0.323529   0.235294"
      ],
      "text/html": "<div>\n<style scoped>\n    .dataframe tbody tr th:only-of-type {\n        vertical-align: middle;\n    }\n\n    .dataframe tbody tr th {\n        vertical-align: top;\n    }\n\n    .dataframe thead th {\n        text-align: right;\n    }\n</style>\n<table border=\"1\" class=\"dataframe\">\n  <thead>\n    <tr style=\"text-align: right;\">\n      <th></th>\n      <th>Pronoun</th>\n      <th>Length</th>\n      <th>Accuracy0</th>\n      <th>Accuracy1</th>\n      <th>Accuracy2</th>\n      <th>Accuracy3</th>\n      <th>Accuracy4</th>\n    </tr>\n  </thead>\n  <tbody>\n    <tr>\n      <th>0</th>\n      <td>He</td>\n      <td>9</td>\n      <td>0.555556</td>\n      <td>0.444444</td>\n      <td>0.444444</td>\n      <td>0.555556</td>\n      <td>0.000000</td>\n    </tr>\n    <tr>\n      <th>1</th>\n      <td>She</td>\n      <td>21</td>\n      <td>0.428571</td>\n      <td>0.142857</td>\n      <td>0.142857</td>\n      <td>0.428571</td>\n      <td>0.428571</td>\n    </tr>\n    <tr>\n      <th>2</th>\n      <td>His</td>\n      <td>2</td>\n      <td>0.500000</td>\n      <td>0.000000</td>\n      <td>0.000000</td>\n      <td>0.500000</td>\n      <td>0.500000</td>\n    </tr>\n    <tr>\n      <th>3</th>\n      <td>Her</td>\n      <td>3</td>\n      <td>0.000000</td>\n      <td>1.000000</td>\n      <td>1.000000</td>\n      <td>0.000000</td>\n      <td>0.000000</td>\n    </tr>\n    <tr>\n      <th>4</th>\n      <td>he</td>\n      <td>23</td>\n      <td>0.478261</td>\n      <td>0.217391</td>\n      <td>0.260870</td>\n      <td>0.434783</td>\n      <td>0.304348</td>\n    </tr>\n    <tr>\n      <th>5</th>\n      <td>she</td>\n      <td>20</td>\n      <td>0.400000</td>\n      <td>0.400000</td>\n      <td>0.350000</td>\n      <td>0.450000</td>\n      <td>0.200000</td>\n    </tr>\n    <tr>\n      <th>6</th>\n      <td>his</td>\n      <td>39</td>\n      <td>0.128205</td>\n      <td>0.615385</td>\n      <td>0.564103</td>\n      <td>0.179487</td>\n      <td>0.256410</td>\n    </tr>\n    <tr>\n      <th>7</th>\n      <td>him</td>\n      <td>3</td>\n      <td>0.000000</td>\n      <td>0.666667</td>\n      <td>0.666667</td>\n      <td>0.000000</td>\n      <td>0.333333</td>\n    </tr>\n    <tr>\n      <th>8</th>\n      <td>her</td>\n      <td>50</td>\n      <td>0.280000</td>\n      <td>0.560000</td>\n      <td>0.560000</td>\n      <td>0.280000</td>\n      <td>0.160000</td>\n    </tr>\n    <tr>\n      <th>9</th>\n      <td>total</td>\n      <td>170</td>\n      <td>0.311765</td>\n      <td>0.452941</td>\n      <td>0.441176</td>\n      <td>0.323529</td>\n      <td>0.235294</td>\n    </tr>\n  </tbody>\n</table>\n</div>"
     },
     "metadata": {},
     "execution_count": 106
    }
   ],
   "source": [
    "overall_analysis(train_data, [none_subject, both_most_occurance], [former_word, latter_word, closer_word, farther_word, lambda row: (False, False)])"
   ]
  },
  {
   "cell_type": "code",
   "execution_count": 56,
   "metadata": {},
   "outputs": [
    {
     "output_type": "stream",
     "name": "stdout",
     "text": [
      "95 0.6\n"
     ]
    },
    {
     "output_type": "execute_result",
     "data": {
      "text/plain": [
       "                    ID                                               Text  \\\n",
       "3        development-4  The current members of Crime have also perform...   \n",
       "6        development-7  Reb Chaim Yaakov's wife is the sister of Rabbi...   \n",
       "10      development-11  William Shatner portraying writer Mark Twain; ...   \n",
       "13      development-14  ARTA driver Vitantonio Liuzzi will be replaced...   \n",
       "25      development-26  They were broadly positive, though they stoppe...   \n",
       "...                ...                                                ...   \n",
       "1923  development-1924  The concept of WAS is an adult parallel to the...   \n",
       "1935  development-1936  He also wrote and produced several songs for i...   \n",
       "1976  development-1977  ``Don't Cry Your Heart Out'' was radio-friendl...   \n",
       "1988  development-1989  Burnett Stone (Peter Fonda) is Lily's grandfat...   \n",
       "1996  development-1997  The plot of the film focuses on the life of a ...   \n",
       "\n",
       "     Pronoun  Pronoun-offset                   A  A-offset  A-coref  \\\n",
       "3        his             321                Hell       174    False   \n",
       "6        his             273           Reb Asher       152    False   \n",
       "10       his             300    Peter Mansbridge       168    False   \n",
       "13       his             340     Kazuki Nakajima       275     True   \n",
       "25       his             299  Michael Billington        92    False   \n",
       "...      ...             ...                 ...       ...      ...   \n",
       "1923     her             267        Dorothy Gael       169     True   \n",
       "1935     her             266             Estelle       162    False   \n",
       "1976     her             320          Deasismont       206    False   \n",
       "1988     her              81                Lily        31     True   \n",
       "1996     her             246           Doris Chu       111    False   \n",
       "\n",
       "                    B  B-offset  B-coref  \\\n",
       "3     Henry Rosenthal       336     True   \n",
       "6         Akiva Eiger       253    False   \n",
       "10        David Onley       212     True   \n",
       "13      Oliver Jarvis       297    False   \n",
       "25             Martin       266     True   \n",
       "...               ...       ...      ...   \n",
       "1923       Aunt Emily       234    False   \n",
       "1935    Nelly Furtado       190     True   \n",
       "1976              Amy       312     True   \n",
       "1988             Lady        54    False   \n",
       "1996              Mei       215     True   \n",
       "\n",
       "                                                    URL  A-pred  B-pred  \n",
       "3             http://en.wikipedia.org/wiki/Crime_(band)   False    True  \n",
       "6             http://en.wikipedia.org/wiki/Asher_Arieli   False    True  \n",
       "10       http://en.wikipedia.org/wiki/Murdoch_Mysteries   False    True  \n",
       "13    http://en.wikipedia.org/wiki/2015_Super_GT_Series   False    True  \n",
       "25           http://en.wikipedia.org/wiki/Life_and_Beth   False    True  \n",
       "...                                                 ...     ...     ...  \n",
       "1923           http://en.wikipedia.org/wiki/Was_(novel)   False    True  \n",
       "1935             http://en.wikipedia.org/wiki/Di_Genius   False    True  \n",
       "1976        http://en.wikipedia.org/wiki/Amy_Deasismont   False    True  \n",
       "1988  http://en.wikipedia.org/wiki/Thomas_the_Tank_E...   False    True  \n",
       "1996              http://en.wikipedia.org/wiki/Two_Lies   False    True  \n",
       "\n",
       "[95 rows x 13 columns]"
      ],
      "text/html": "<div>\n<style scoped>\n    .dataframe tbody tr th:only-of-type {\n        vertical-align: middle;\n    }\n\n    .dataframe tbody tr th {\n        vertical-align: top;\n    }\n\n    .dataframe thead th {\n        text-align: right;\n    }\n</style>\n<table border=\"1\" class=\"dataframe\">\n  <thead>\n    <tr style=\"text-align: right;\">\n      <th></th>\n      <th>ID</th>\n      <th>Text</th>\n      <th>Pronoun</th>\n      <th>Pronoun-offset</th>\n      <th>A</th>\n      <th>A-offset</th>\n      <th>A-coref</th>\n      <th>B</th>\n      <th>B-offset</th>\n      <th>B-coref</th>\n      <th>URL</th>\n      <th>A-pred</th>\n      <th>B-pred</th>\n    </tr>\n  </thead>\n  <tbody>\n    <tr>\n      <th>3</th>\n      <td>development-4</td>\n      <td>The current members of Crime have also perform...</td>\n      <td>his</td>\n      <td>321</td>\n      <td>Hell</td>\n      <td>174</td>\n      <td>False</td>\n      <td>Henry Rosenthal</td>\n      <td>336</td>\n      <td>True</td>\n      <td>http://en.wikipedia.org/wiki/Crime_(band)</td>\n      <td>False</td>\n      <td>True</td>\n    </tr>\n    <tr>\n      <th>6</th>\n      <td>development-7</td>\n      <td>Reb Chaim Yaakov's wife is the sister of Rabbi...</td>\n      <td>his</td>\n      <td>273</td>\n      <td>Reb Asher</td>\n      <td>152</td>\n      <td>False</td>\n      <td>Akiva Eiger</td>\n      <td>253</td>\n      <td>False</td>\n      <td>http://en.wikipedia.org/wiki/Asher_Arieli</td>\n      <td>False</td>\n      <td>True</td>\n    </tr>\n    <tr>\n      <th>10</th>\n      <td>development-11</td>\n      <td>William Shatner portraying writer Mark Twain; ...</td>\n      <td>his</td>\n      <td>300</td>\n      <td>Peter Mansbridge</td>\n      <td>168</td>\n      <td>False</td>\n      <td>David Onley</td>\n      <td>212</td>\n      <td>True</td>\n      <td>http://en.wikipedia.org/wiki/Murdoch_Mysteries</td>\n      <td>False</td>\n      <td>True</td>\n    </tr>\n    <tr>\n      <th>13</th>\n      <td>development-14</td>\n      <td>ARTA driver Vitantonio Liuzzi will be replaced...</td>\n      <td>his</td>\n      <td>340</td>\n      <td>Kazuki Nakajima</td>\n      <td>275</td>\n      <td>True</td>\n      <td>Oliver Jarvis</td>\n      <td>297</td>\n      <td>False</td>\n      <td>http://en.wikipedia.org/wiki/2015_Super_GT_Series</td>\n      <td>False</td>\n      <td>True</td>\n    </tr>\n    <tr>\n      <th>25</th>\n      <td>development-26</td>\n      <td>They were broadly positive, though they stoppe...</td>\n      <td>his</td>\n      <td>299</td>\n      <td>Michael Billington</td>\n      <td>92</td>\n      <td>False</td>\n      <td>Martin</td>\n      <td>266</td>\n      <td>True</td>\n      <td>http://en.wikipedia.org/wiki/Life_and_Beth</td>\n      <td>False</td>\n      <td>True</td>\n    </tr>\n    <tr>\n      <th>...</th>\n      <td>...</td>\n      <td>...</td>\n      <td>...</td>\n      <td>...</td>\n      <td>...</td>\n      <td>...</td>\n      <td>...</td>\n      <td>...</td>\n      <td>...</td>\n      <td>...</td>\n      <td>...</td>\n      <td>...</td>\n      <td>...</td>\n    </tr>\n    <tr>\n      <th>1923</th>\n      <td>development-1924</td>\n      <td>The concept of WAS is an adult parallel to the...</td>\n      <td>her</td>\n      <td>267</td>\n      <td>Dorothy Gael</td>\n      <td>169</td>\n      <td>True</td>\n      <td>Aunt Emily</td>\n      <td>234</td>\n      <td>False</td>\n      <td>http://en.wikipedia.org/wiki/Was_(novel)</td>\n      <td>False</td>\n      <td>True</td>\n    </tr>\n    <tr>\n      <th>1935</th>\n      <td>development-1936</td>\n      <td>He also wrote and produced several songs for i...</td>\n      <td>her</td>\n      <td>266</td>\n      <td>Estelle</td>\n      <td>162</td>\n      <td>False</td>\n      <td>Nelly Furtado</td>\n      <td>190</td>\n      <td>True</td>\n      <td>http://en.wikipedia.org/wiki/Di_Genius</td>\n      <td>False</td>\n      <td>True</td>\n    </tr>\n    <tr>\n      <th>1976</th>\n      <td>development-1977</td>\n      <td>``Don't Cry Your Heart Out'' was radio-friendl...</td>\n      <td>her</td>\n      <td>320</td>\n      <td>Deasismont</td>\n      <td>206</td>\n      <td>False</td>\n      <td>Amy</td>\n      <td>312</td>\n      <td>True</td>\n      <td>http://en.wikipedia.org/wiki/Amy_Deasismont</td>\n      <td>False</td>\n      <td>True</td>\n    </tr>\n    <tr>\n      <th>1988</th>\n      <td>development-1989</td>\n      <td>Burnett Stone (Peter Fonda) is Lily's grandfat...</td>\n      <td>her</td>\n      <td>81</td>\n      <td>Lily</td>\n      <td>31</td>\n      <td>True</td>\n      <td>Lady</td>\n      <td>54</td>\n      <td>False</td>\n      <td>http://en.wikipedia.org/wiki/Thomas_the_Tank_E...</td>\n      <td>False</td>\n      <td>True</td>\n    </tr>\n    <tr>\n      <th>1996</th>\n      <td>development-1997</td>\n      <td>The plot of the film focuses on the life of a ...</td>\n      <td>her</td>\n      <td>246</td>\n      <td>Doris Chu</td>\n      <td>111</td>\n      <td>False</td>\n      <td>Mei</td>\n      <td>215</td>\n      <td>True</td>\n      <td>http://en.wikipedia.org/wiki/Two_Lies</td>\n      <td>False</td>\n      <td>True</td>\n    </tr>\n  </tbody>\n</table>\n<p>95 rows × 13 columns</p>\n</div>"
     },
     "metadata": {},
     "execution_count": 56
    }
   ],
   "source": [
    "apply_model(train_data, [none_subject, both_most_occurance, lambda row: row['Pronoun'] in ['Her','his','him','her']], latter_word)"
   ]
  },
  {
   "cell_type": "code",
   "execution_count": 113,
   "metadata": {},
   "outputs": [
    {
     "output_type": "stream",
     "name": "stdout",
     "text": [
      "development-1474 Later Glenn helps Michonne cut off Tyreese's arm when he is bitten and tries to haul him to safety, briefly being delayed by a truck opening and letting out numerous walker bodies with no arms and legs with ``w''s cut into their foreheads, but Tyreese dies from blood loss and Glenn stands over his service. In the episode ``Them,'' Glenn tries to comfort a grieving \u001b[92mMaggie\u001b[0m, still distraught over \u001b[91mBeth\u001b[0m's death, after \u001b[94mshe\u001b[0m begins to doubt if she wants to live anymore.\n\ndevelopment-1299 In 1920, Jakac returned to Novo Mesto and became the bearer of The Spring of Novo Mesto, an avant-garde movement in literature and fine arts, which included also the poets Miran Jarc and \u001b[91mAnton Podbev*ek\u001b[0m, the painter \u001b[91mIvan *argo\u001b[0m and the composer Marij Kogoj. In 1924, \u001b[94mhe\u001b[0m settled in Ljubljana.\n\ndevelopment-1619 St John's Church has special association with the activity of individuals within the South Sea Islander community and Anglican Church whose activities have been significant within the history of the region and state of Queensland, including Bishop George Halford, consecrated as Anglican Bishop of Rockhampton in 1909, who was greatly respected for \u001b[94mhis\u001b[0m long and active support of the South Sea Islander community; and \u001b[91mFrank Solomon\u001b[0m, the South Sea Islander community's \u001b[91mVicar\u001b[0m's representative on the first St John's Mission Church Committee, who dedicated his life to this church.\n\ndevelopment-1858 One More Drifter in the Snow is the sixth album and first Christmas album by Aimee Mann, released by SuperEgo Records in the United States on October 31, 2006 (see 2006 in music). It was produced by Paul Bryan and comprises covers of ``standard great Christmas classics'' and two original compositions: ``Christmastime'', written by \u001b[92mMann\u001b[0m's husband Michael Penn, and ``Calling on \u001b[91mMary\u001b[0m''. Grant-Lee Phillips sings with \u001b[94mher\u001b[0m on the track ``You're a Mean One, Mr. Grinch''.\n\ndevelopment-1507 Frederick Magnus (13 January 1672 -- 24 February 1672) Frederica Augusta (21 June 1673 -- 24 July 1674) Christina Sophia (17 December 1674 -- 22 January 1676) Klaudia Magdalene Elisabeth (15 November 1675 -- 18 April 1676) Catherine (10 October 1677 -- 11 August 1746), in 1701 she married Count Johann Friedrich von Leiningen-Hartenburg Charles III William, Margrave of Baden-Durlach (17 January 1679 -- 12 May 1738), he married Magdalena Wilhelmine of W*rttemberg Johanna Elisabeth (3 October 1680 -- 2 July 1757), in 1697 she married Eberhard Louis, Duke of W*rttemberg Albertine Frederica (3 July 1682 -- 22 December 1755), in 1704 \u001b[94mshe\u001b[0m married Christian August of Holstein-Gottorp, Prince of Eutin Christopher (9 October 1684 -- 2 May 1723), he married \u001b[91mMarie Christine Felizitas\u001b[0m zu Leiningen-Dagsburg-Falkenburg-Heidesheim Charlotte Sophia (1 March 1686 -- 5 October 1689) \u001b[91mMarie Anna\u001b[0m (9 July 1688 -- 8 March 1689)\n\ndevelopment-1766 In the fifth season, following a five-year time jump, Karl reveals that Marissa has left him and their son, Evan (Sawyer Church), because of the stresses of motherhood. \u001b[92mBree Hodge\u001b[0m (Marcia Cross), \u001b[91mSusan\u001b[0m's friend and neighbor, hires Karl as \u001b[94mher\u001b[0m divorce lawyer.\n\ndevelopment-1870 As well he reported that she ``admitted to Bersih receiving some money from two US organisations -- the National Democratic Institute (NDI) and Open Society Institute (OSI) -- for other projects, which she stressed were unrelated to the July 9 march.'' It is believed that former US ambassador to Malaysia had lobbied strongly the Neo Cons including Al Gore, Paul Wolfowitz and Madeline Albright to award Sreenevasan the 'Woman of Courage' award from \u001b[91mHillary Clinton\u001b[0m and First Lady \u001b[91mMichelle Obama\u001b[0m. \u001b[94mShe\u001b[0m is a member of the Malaysian Intellectual Property Association, the International Association for the Protection of Intellectual Property (AIPPI), as well as the Asian Patent Attorneys Association (APPA).\n\ndevelopment-1923 Cops arrested Gore and rescued Martin, who was found in the attic naked, handcuffed, and with electrical cords tied around her legs. On December 7, 1983, Gore led police to the remains of three of his six murder victims. These victims were \u001b[91mBarbara Ann Byer\u001b[0m, \u001b[92mHsiang Huang Ling\u001b[0m and \u001b[94mher\u001b[0m daughter, Ying Hua Ling.\n\ndevelopment-1640 On 9 April, Kralji* performed during the Eurovision in Concert event which was held at the Melkweg venue in Amsterdam, Netherlands and hosted by Cornald Maas and Hera Bj*rk. On 17 April, \u001b[92mKralji*\u001b[0m performed during the London Eurovision Party, which was held at the Caf* de Paris venue in London, United Kingdom and hosted by \u001b[91mNicki French\u001b[0m and Paddy O'Connell. In addition to \u001b[94mher\u001b[0m international appearances, Nina Kralji* performed ``Lighthouse'' as a musical guest during the 2016 Miss Universe Croatia pageant in Zagreb on 15 April and she also performed the song as a guest during the HRT 1 programme The Voice --\n\ndevelopment-2000 Watkins was a close friend of Hess' first wife, Katherine Hawley. She was one of the first to send sympathy when Hawley was thrown from a horse and killed. Watkins and Hess had a son, Adam Hess, who was an attorney and secretary for the Aetna until his death in 1969; he left three daughters, \u001b[91mElizabeth\u001b[0m, Faye, and Emily, the only grandchildren of \u001b[92mWatkins\u001b[0m. Watkins obtained \u001b[94mher\u001b[0m release from Fox prior to her marriage.\n\n"
     ]
    }
   ],
   "source": [
    "print_sents(datas={'manual':True, 'data':none_occurance_data}, num_lines = 10)"
   ]
  },
  {
   "cell_type": "code",
   "execution_count": 105,
   "metadata": {},
   "outputs": [
    {
     "output_type": "stream",
     "name": "stderr",
     "text": [
      "100%|██████████| 9/9 [00:19<00:00,  2.12s/it]\n"
     ]
    },
    {
     "output_type": "execute_result",
     "data": {
      "text/plain": [
       "  Pronoun  Length  Accuracy0  Accuracy1  Accuracy2  Accuracy3  Accuracy4\n",
       "0      He      12   0.333333   0.250000   0.250000   0.333333   0.416667\n",
       "1     She      13   0.461538   0.230769   0.153846   0.538462   0.307692\n",
       "2     His       5   0.600000   0.000000   0.000000   0.600000   0.400000\n",
       "3     Her       7   0.285714   0.142857   0.142857   0.285714   0.571429\n",
       "4      he      29   0.379310   0.379310   0.379310   0.379310   0.241379\n",
       "5     she      23   0.391304   0.304348   0.260870   0.434783   0.304348\n",
       "6     his      50   0.260000   0.340000   0.420000   0.180000   0.400000\n",
       "7     him       6   0.166667   0.500000   0.500000   0.166667   0.333333\n",
       "8     her      55   0.418182   0.345455   0.345455   0.418182   0.236364\n",
       "9   total     200   0.360000   0.320000   0.330000   0.350000   0.320000"
      ],
      "text/html": "<div>\n<style scoped>\n    .dataframe tbody tr th:only-of-type {\n        vertical-align: middle;\n    }\n\n    .dataframe tbody tr th {\n        vertical-align: top;\n    }\n\n    .dataframe thead th {\n        text-align: right;\n    }\n</style>\n<table border=\"1\" class=\"dataframe\">\n  <thead>\n    <tr style=\"text-align: right;\">\n      <th></th>\n      <th>Pronoun</th>\n      <th>Length</th>\n      <th>Accuracy0</th>\n      <th>Accuracy1</th>\n      <th>Accuracy2</th>\n      <th>Accuracy3</th>\n      <th>Accuracy4</th>\n    </tr>\n  </thead>\n  <tbody>\n    <tr>\n      <th>0</th>\n      <td>He</td>\n      <td>12</td>\n      <td>0.333333</td>\n      <td>0.250000</td>\n      <td>0.250000</td>\n      <td>0.333333</td>\n      <td>0.416667</td>\n    </tr>\n    <tr>\n      <th>1</th>\n      <td>She</td>\n      <td>13</td>\n      <td>0.461538</td>\n      <td>0.230769</td>\n      <td>0.153846</td>\n      <td>0.538462</td>\n      <td>0.307692</td>\n    </tr>\n    <tr>\n      <th>2</th>\n      <td>His</td>\n      <td>5</td>\n      <td>0.600000</td>\n      <td>0.000000</td>\n      <td>0.000000</td>\n      <td>0.600000</td>\n      <td>0.400000</td>\n    </tr>\n    <tr>\n      <th>3</th>\n      <td>Her</td>\n      <td>7</td>\n      <td>0.285714</td>\n      <td>0.142857</td>\n      <td>0.142857</td>\n      <td>0.285714</td>\n      <td>0.571429</td>\n    </tr>\n    <tr>\n      <th>4</th>\n      <td>he</td>\n      <td>29</td>\n      <td>0.379310</td>\n      <td>0.379310</td>\n      <td>0.379310</td>\n      <td>0.379310</td>\n      <td>0.241379</td>\n    </tr>\n    <tr>\n      <th>5</th>\n      <td>she</td>\n      <td>23</td>\n      <td>0.391304</td>\n      <td>0.304348</td>\n      <td>0.260870</td>\n      <td>0.434783</td>\n      <td>0.304348</td>\n    </tr>\n    <tr>\n      <th>6</th>\n      <td>his</td>\n      <td>50</td>\n      <td>0.260000</td>\n      <td>0.340000</td>\n      <td>0.420000</td>\n      <td>0.180000</td>\n      <td>0.400000</td>\n    </tr>\n    <tr>\n      <th>7</th>\n      <td>him</td>\n      <td>6</td>\n      <td>0.166667</td>\n      <td>0.500000</td>\n      <td>0.500000</td>\n      <td>0.166667</td>\n      <td>0.333333</td>\n    </tr>\n    <tr>\n      <th>8</th>\n      <td>her</td>\n      <td>55</td>\n      <td>0.418182</td>\n      <td>0.345455</td>\n      <td>0.345455</td>\n      <td>0.418182</td>\n      <td>0.236364</td>\n    </tr>\n    <tr>\n      <th>9</th>\n      <td>total</td>\n      <td>200</td>\n      <td>0.360000</td>\n      <td>0.320000</td>\n      <td>0.330000</td>\n      <td>0.350000</td>\n      <td>0.320000</td>\n    </tr>\n  </tbody>\n</table>\n</div>"
     },
     "metadata": {},
     "execution_count": 105
    }
   ],
   "source": [
    "overall_analysis(train_data, [none_subject, none_most_occurance], [former_word, latter_word, closer_word, farther_word, lambda row: (False, False)])"
   ]
  },
  {
   "cell_type": "code",
   "execution_count": 112,
   "metadata": {},
   "outputs": [
    {
     "output_type": "stream",
     "name": "stdout",
     "text": [
      "200 0.35\n"
     ]
    }
   ],
   "source": [
    "rest = apply_model(train_data, [none_subject, none_most_occurance], begin_sentence)"
   ]
  },
  {
   "cell_type": "code",
   "execution_count": null,
   "metadata": {},
   "outputs": [],
   "source": []
  }
 ]
}