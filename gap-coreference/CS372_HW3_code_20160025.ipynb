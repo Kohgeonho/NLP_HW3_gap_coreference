{
 "metadata": {
  "language_info": {
   "codemirror_mode": {
    "name": "ipython",
    "version": 3
   },
   "file_extension": ".py",
   "mimetype": "text/x-python",
   "name": "python",
   "nbconvert_exporter": "python",
   "pygments_lexer": "ipython3",
   "version": "3.8.10"
  },
  "orig_nbformat": 2,
  "kernelspec": {
   "name": "python3810jvsc74a57bd038e31c96aac6b52bfd92a03a517d6944ec75782017e4445807e0cb0d41655b05",
   "display_name": "Python 3.8.10 64-bit (windows store)"
  },
  "metadata": {
   "interpreter": {
    "hash": "38e31c96aac6b52bfd92a03a517d6944ec75782017e4445807e0cb0d41655b05"
   }
  }
 },
 "nbformat": 4,
 "nbformat_minor": 2,
 "cells": [
  {
   "cell_type": "code",
   "execution_count": 2,
   "metadata": {},
   "outputs": [],
   "source": [
    "from helper import print_sents, accuracy, tokenized_word_sets"
   ]
  },
  {
   "source": [
    "**tf.tsv**\n",
    "\n",
    "always predict A-coref as True and B-coref as False"
   ],
   "cell_type": "markdown",
   "metadata": {}
  },
  {
   "cell_type": "code",
   "execution_count": 3,
   "metadata": {},
   "outputs": [],
   "source": [
    "f_test = open(\"gap-test.tsv\", \"r\")\n",
    "result = open(\"tf.tsv\", 'w')\n",
    "test_data = f_test.readlines()\n",
    "\n",
    "for line in test_data[1:]:\n",
    "    attrs = line.split('\\t')\n",
    "    result.write(\"\\t\".join([attrs[0]] + ['True', 'False']) + \"\\n\")\n",
    "\n",
    "f_test.close()\n",
    "result.close()"
   ]
  },
  {
   "cell_type": "code",
   "execution_count": 4,
   "metadata": {},
   "outputs": [
    {
     "output_type": "stream",
     "name": "stdout",
     "text": [
      "Overall recall: 51.8 precision: 45.9 f1: 48.7\n",
      "\t\ttp 918\tfp 1082\n",
      "\t\tfn 855\ttn 1145\n",
      "Masculine recall: 51.0 precision: 45.3 f1: 48.0\n",
      "\t\ttp 453\tfp 547\n",
      "\t\tfn 436\ttn 564\n",
      "Feminine recall: 52.6 precision: 46.5 f1: 49.4\n",
      "\t\ttp 465\tfp 535\n",
      "\t\tfn 419\ttn 581\n",
      "Bias (F/M): 1.03\n",
      "\n",
      "gap_scorer.py:126: DeprecationWarning: 'U' mode is deprecated\n",
      "  with open(filename, 'rU') as f:\n"
     ]
    }
   ],
   "source": [
    "!python gap_scorer.py --gold_ts=gap-test.tsv --system_tsv=tf.tsv"
   ]
  },
  {
   "source": [
    "**closer.tsv**\n",
    "\n",
    "Predict closer coreference to pronoun as True"
   ],
   "cell_type": "markdown",
   "metadata": {}
  },
  {
   "cell_type": "code",
   "execution_count": 5,
   "metadata": {
    "tags": []
   },
   "outputs": [],
   "source": [
    "f_test = open(\"gap-test.tsv\", \"r\")\n",
    "result = open(\"closer.tsv\", 'w')\n",
    "test_data = f_test.readlines()\n",
    "\n",
    "for line in test_data[1:]:\n",
    "    attrs = line.split('\\t')\n",
    "    tf = ['True', 'False']\n",
    "    if abs(int(attrs[3]) - int(attrs[5])) > abs(int(attrs[3]) - int(attrs[8])):\n",
    "        tf = ['False', 'True']\n",
    "\n",
    "    result.write(\"\\t\".join([attrs[0]] + tf) + \"\\n\")\n",
    "\n",
    "f_test.close()\n",
    "result.close()"
   ]
  },
  {
   "cell_type": "code",
   "execution_count": 6,
   "metadata": {},
   "outputs": [
    {
     "output_type": "stream",
     "name": "stdout",
     "text": [
      "Overall recall: 50.1 precision: 44.4 f1: 47.1\n",
      "\t\ttp 888\tfp 1112\n",
      "\t\tfn 885\ttn 1115\n",
      "Masculine recall: 51.6 precision: 45.9 f1: 48.6\n",
      "\t\ttp 459\tfp 541\n",
      "\t\tfn 430\ttn 570\n",
      "Feminine recall: 48.5 precision: 42.9 f1: 45.5\n",
      "\t\ttp 429\tfp 571\n",
      "\t\tfn 455\ttn 545\n",
      "Bias (F/M): 0.94\n",
      "\n",
      "gap_scorer.py:126: DeprecationWarning: 'U' mode is deprecated\n",
      "  with open(filename, 'rU') as f:\n"
     ]
    }
   ],
   "source": [
    "!python gap_scorer.py --gold_ts=gap-test.tsv --system_tsv=closer.tsv"
   ]
  },
  {
   "cell_type": "code",
   "execution_count": 7,
   "metadata": {
    "tags": []
   },
   "outputs": [
    {
     "output_type": "stream",
     "name": "stdout",
     "text": [
      "Pratt claims that her parents turned a blind eye on her addiction issues. In 2017, Pratt launched her own collection for Goddiva. \u001b[92mPratt\u001b[0m is the younger sister of Spencer Pratt, and the sister-in-law of \u001b[91mHeidi Montag\u001b[0m (both of whom are on The Hills). \u001b[94mShe\u001b[0m has struggled with bulimia in the past due to the pressure to be thin stemming from appearing alongside very thin co-stars on the show.\n\nHe missed weeks 6 through 8 with a sprained ankle. In week 11 against St. Louis, Williams filled in for Foster, who had injured his elbow, and totaled 20 carries for 114 yards. In a Monday Night Football game against the Philadelphia Eagles, \u001b[92mWilliams\u001b[0m started for an injured \u001b[91mDeShaun Foster\u001b[0m and managed 74 rushing yards on 17 carries and an impressive 101 receiving yards on 7 catches with a touchdown. \u001b[94mHe\u001b[0m had 501 rushing yards and 1 touchdown on the year.\n\nSarah Wigglesworth MBE RDI is a British award-winning architect and Professor of Architecture at the University of Sheffield. \u001b[92mWigglesworth\u001b[0m founded \u001b[91mSarah Wigglesworth Architects\u001b[0m in 1994. \u001b[94mHer\u001b[0m practice has a reputation for sustainable architecture and an interest in using alternative, low energy materials.\n\nDuring the aftermath of her apartment being blown up, Beckett stays at Castle's apartment, where she makes him breakfast. Her relationship with Castle is further demonstrated by her closeness to Alexis Castle, his daughter. \u001b[91mAlexis\u001b[0m looks up to \u001b[92mBeckett\u001b[0m and sees \u001b[94mher\u001b[0m as a friend and surrogate mother at times, even asking her advice on a foreign exchange program to France;\n\nThe film was Fox's first real talkie, using the Movietone sound system which had been used for sound effects in Sunrise, although it still contained silent sections. The sound sections were directed by actor Charles Judels. The film starred \u001b[92mMadge Bellamy\u001b[0m, with \u001b[91mLouise Dresser\u001b[0m as \u001b[94mher\u001b[0m domineering mother, Barry Norton, and Albert Gran.\n\nAsha Randall Asha Randall (born 6 April 1990) is an English synchronised swimmer who represented Great Britain in the team event at the 2012 London Olympics. \u001b[92mAsha\u001b[0m is the younger sister of synchronized swimmer \u001b[91mJenna Randall\u001b[0m. Since announcing \u001b[94mher\u001b[0m retirement in 2013 from the sport along with her sister and other member of the London 2012 team, Asha has been performing as part Aquabatix, a synchronized swimming act which featured on Britain's Got Talent.\n\nIn 2016 Wellington artist Erica van Zon produced a body of work in homage to Hitchings, titled Coffee Perhaps. The work was displayed at The Dowse Art Museum. The archives of the Helen Hitchings Gallery are held in the Te Papa archives. \u001b[91mJustine Olsen\u001b[0m, curator of Decorative and Applied Arts at Te Papa, was interviewed about \u001b[92mHelen Hitchings\u001b[0m and the influence of \u001b[94mher\u001b[0m gallery in 2015.\n\nShe considered the cover to be a healthy ``feminist statement.'' In 2007, Moore stated that the picture was not originally intended for publication. She had posed in a personal photo session, not a cover shoot. \u001b[91mLeibovitz\u001b[0m has had personal photo sessions of \u001b[92mMoore\u001b[0m and all of \u001b[94mher\u001b[0m daughters.\n\nA week later, Julia defeated World No. 3 Am*lie Mauresmo at the Qatar Telecom German Open in Berlin 2--6, 6--1, 6--2 (her career best) and then defeated Dinara Safina 6--3, 5--7, 6--3 to earn a spot in the semifinals against Ana Ivanovi*. On August 28, 2007, in the first round of the US Open, \u001b[92mJulia\u001b[0m defeated number nine seed \u001b[91mDaniela Hantuchov*\u001b[0m 6--4, 3--6, 6--1. \u001b[94mShe\u001b[0m eventually reached the fourth round, her best performance at a major yet, before falling to *gnes Sz*vay.\n\nIn 1222, Constantine had Vahram murdered, Raymond-Roupen either died in battle or died in prison and Alice was imprisoned and later exiled. Raymond-Roupen left Alice with a granddaughter, Maria of Antioch-Armenia, who succeeded as Lady of Toron and unsuccessfully claimed Armenia. \u001b[91mIsabelle\u001b[0m was then left as the legitimate heir to the throne. After \u001b[94mher\u001b[0m release, \u001b[92mAlice\u001b[0m turned to her inheritance rights in Palestine.\n\n"
     ]
    }
   ],
   "source": [
    "print_sents(random=True)"
   ]
  },
  {
   "cell_type": "code",
   "execution_count": 8,
   "metadata": {},
   "outputs": [],
   "source": [
    "import pandas as pd"
   ]
  },
  {
   "cell_type": "code",
   "execution_count": 9,
   "metadata": {},
   "outputs": [
    {
     "output_type": "stream",
     "name": "stdout",
     "text": [
      "<class 'pandas.core.frame.DataFrame'>\nRangeIndex: 2000 entries, 0 to 1999\nData columns (total 11 columns):\n #   Column          Non-Null Count  Dtype \n---  ------          --------------  ----- \n 0   ID              2000 non-null   object\n 1   Text            2000 non-null   object\n 2   Pronoun         2000 non-null   object\n 3   Pronoun-offset  2000 non-null   int64 \n 4   A               2000 non-null   object\n 5   A-offset        2000 non-null   int64 \n 6   A-coref         2000 non-null   bool  \n 7   B               2000 non-null   object\n 8   B-offset        2000 non-null   int64 \n 9   B-coref         2000 non-null   bool  \n 10  URL             2000 non-null   object\ndtypes: bool(2), int64(3), object(6)\nmemory usage: 144.7+ KB\n"
     ]
    }
   ],
   "source": [
    "train_data = pd.read_csv('gap-development.tsv', sep='\\t')\n",
    "test_data = pd.read_csv('gap-test.tsv', sep='\\t')\n",
    "test_data.info()"
   ]
  },
  {
   "source": [
    "**subject.tsv**\n",
    "\n",
    "Predict farther coreference pronoun as True when pronoun is subject pronoun (he, she).\n",
    "Predict closer coreference pronoun as True when pronoun is not subject pronoun, which is object or possessive pronoun(her, his, him)."
   ],
   "cell_type": "markdown",
   "metadata": {}
  },
  {
   "cell_type": "code",
   "execution_count": 10,
   "metadata": {},
   "outputs": [
    {
     "output_type": "execute_result",
     "data": {
      "text/plain": [
       "{'He', 'Her', 'His', 'She', 'he', 'her', 'him', 'his', 'she'}"
      ]
     },
     "metadata": {},
     "execution_count": 10
    }
   ],
   "source": [
    "pronouns = set(train_data['Pronoun'])\n",
    "pronouns"
   ]
  },
  {
   "cell_type": "code",
   "execution_count": 11,
   "metadata": {
    "tags": []
   },
   "outputs": [],
   "source": [
    "result = open(\"subject.tsv\", 'w')\n",
    "\n",
    "for attrs in test_data.iloc:\n",
    "    pro, pro_id = attrs[2:4]\n",
    "    A, A_id = attrs[4:6]\n",
    "    B, B_id = attrs[7:9]\n",
    "\n",
    "    if pro.lower() in ['he', 'she']:\n",
    "        if abs(pro_id - A_id) > abs(pro_id - B_id):\n",
    "            tf = ['TRUE', 'FALSE']\n",
    "        else:\n",
    "            tf = ['FALSE', 'TRUE']\n",
    "    else:\n",
    "        if abs(pro_id - A_id) > abs(pro_id - B_id):\n",
    "            tf = ['FALSE', 'TRUE']\n",
    "        else:\n",
    "            tf = ['TRUE', 'FALSE']\n",
    "\n",
    "    result.write(\"\\t\".join([attrs[0]] + tf) + \"\\n\")\n",
    "\n",
    "f_test.close()\n",
    "result.close()"
   ]
  },
  {
   "cell_type": "code",
   "execution_count": 12,
   "metadata": {},
   "outputs": [
    {
     "output_type": "stream",
     "name": "stdout",
     "text": [
      "Overall recall: 58.3 precision: 51.6 f1: 54.8\n",
      "\t\ttp 1033\tfp 967\n",
      "\t\tfn 740\ttn 1260\n",
      "Masculine recall: 59.4 precision: 52.8 f1: 55.9\n",
      "\t\ttp 528\tfp 472\n",
      "\t\tfn 361\ttn 639\n",
      "Feminine recall: 57.1 precision: 50.5 f1: 53.6\n",
      "\t\ttp 505\tfp 495\n",
      "\t\tfn 379\ttn 621\n",
      "Bias (F/M): 0.96\n",
      "\n",
      "gap_scorer.py:126: DeprecationWarning: 'U' mode is deprecated\n",
      "  with open(filename, 'rU') as f:\n"
     ]
    }
   ],
   "source": [
    "!python gap_scorer.py --gold_ts=gap-test.tsv --system_tsv=subject.tsv"
   ]
  },
  {
   "cell_type": "code",
   "execution_count": 13,
   "metadata": {},
   "outputs": [
    {
     "output_type": "execute_result",
     "data": {
      "text/plain": [
       "0.1135"
      ]
     },
     "metadata": {},
     "execution_count": 13
    }
   ],
   "source": [
    "false_case = 0\n",
    "for attrs in test_data.iloc:\n",
    "    if attrs[6] == attrs[9]:\n",
    "        false_case += 1\n",
    "\n",
    "false_case/len(test_data)"
   ]
  },
  {
   "source": [
    "# relation.tsv\n",
    "\n",
    "draw a relation between two proper nouns with sentence structure\n",
    "\n",
    "(e.g. Which one is the subject?)"
   ],
   "cell_type": "markdown",
   "metadata": {}
  },
  {
   "cell_type": "code",
   "execution_count": 14,
   "metadata": {},
   "outputs": [],
   "source": [
    "import nltk\n",
    "sent = \"In the next pair, Mikhaylov equalled Grishin's time and they shared Olympic gold.\"\n",
    "tagged_sent = nltk.pos_tag(nltk.word_tokenize(sent))"
   ]
  },
  {
   "source": [
    "Classify train_data into several categories\n",
    "\n",
    "1. When words are inside parenthesis\n",
    "2. When words appear after the pronoun\n",
    " * When the pronoun is subject pronoun\n",
    " * When the pronoun is object/possessive pronoun\n",
    "3. When the both word coreference is false\n",
    "4. When the pronoun is subject pronoun\n",
    "\n",
    " * When only one word is subject\n",
    " * When both words are subject\n",
    " * When both words are not subject\n",
    "\n",
    "5. When the pronoun is object/possessive pronoun\n",
    " * When the pronoun and words are in different sentence\n",
    " * When the pronoun and words are in same sentence\n",
    " * When only one word is in same sentence with the pronoun\n",
    "    "
   ],
   "cell_type": "markdown",
   "metadata": {}
  },
  {
   "cell_type": "code",
   "execution_count": 15,
   "metadata": {},
   "outputs": [],
   "source": [
    "import pandas as pd \n",
    "\n",
    "train_data = pd.read_csv('gap-development.tsv', sep='\\t')"
   ]
  },
  {
   "source": [
    "## 1. When words are inside parenthesis\n",
    "Assume when word is inside parenthesis, coreference is always false"
   ],
   "cell_type": "markdown",
   "metadata": {}
  },
  {
   "cell_type": "code",
   "execution_count": 16,
   "metadata": {
    "tags": []
   },
   "outputs": [],
   "source": [
    "parenthesis_data = []\n",
    "\n",
    "def isparenthesis(sent, word, offset):\n",
    "    if sent[offset-1] == \"(\" and sent[offset+len(word)] == \")\":\n",
    "        return True\n",
    "    else:\n",
    "        return False\n",
    "\n",
    "for row in train_data.iloc:\n",
    "    if isparenthesis(row['Text'], row['A'], row['A-offset']) or \\\n",
    "       isparenthesis(row['Text'], row['B'], row['B-offset']):\n",
    "            parenthesis_data.append(row)"
   ]
  },
  {
   "cell_type": "code",
   "execution_count": 17,
   "metadata": {},
   "outputs": [],
   "source": [
    "parenthesis_data = pd.DataFrame(parenthesis_data, columns=train_data.columns)"
   ]
  },
  {
   "cell_type": "code",
   "execution_count": 18,
   "metadata": {},
   "outputs": [
    {
     "output_type": "stream",
     "name": "stdout",
     "text": [
      "Alf and Else's daughter Rita (Una Stubbs) now lives with her husband Mike in his hometown of Liverpool and often visits her parents, although Mike does not appear (as Antony Booth had no interest in reprising the role). Usually, Alf is seen drinking with his friend Arthur (\u001b[91mArthur English\u001b[0m) in the local pub. Although \u001b[94mhis\u001b[0m beloved Conservative Party has returned to power, \u001b[92mAlf\u001b[0m is not happy with Margaret Thatcher being Prime Minister because, according to him, ``a woman's place is in the home''.\n\nRoscoe and his wife had seven sons and three daughters, including William Stanley Roscoe (1782--1843), a poet, Thomas Roscoe (1791--1871), translator from Italian, and Henry (1800--1836), a legal writer who wrote his father's biography. Henry's wife, Maria Roscoe (\u001b[91mn*e Fletcher\u001b[0m) (1798-1885), was the author of \u001b[92mVittoria Colonna\u001b[0m: \u001b[94mHer\u001b[0m Life and Times, and their son Henry Enfield Roscoe (1833--1915) was a chemist and vice-chancellor of the University of London.\n\nCrime boss Rusty Pirone (Armand Assante) is about to stand trial again and Daniel Graham (Gabriel Byrne) of the district attorney's office is determined this time to put him behind bars. Pirone sends one of his henchmen, a burned-out ex-cop named Tommy Vesey (William Hurt), to threaten Valerie Alston (\u001b[91mJoanne Whalley-Kilmer\u001b[0m), a juror. Unless \u001b[94mshe\u001b[0m cooperates by finding Pirone innocent and deadlocking the jury, Vesey intends to do harm to \u001b[92mValerie\u001b[0m's young son.\n\nWhile discussing Hodgson iIn December 1942, then General, Eisenhower stated, ``The four years we spent in the same room more than a quarter of a century ago are still one of my most treasured memories.'' While P.A., (\u001b[92mHodgson\u001b[0m), was talking with \u001b[91mEisenhower\u001b[0m about running in the 1948 US Presidential Election, \u001b[94mhe\u001b[0m said to Ike, ``I think you'd make an excellent President, but am not sure you'd be very happy doing it''.\n\nOnce believed lost, The Shakedown was discovered and restored by the staff of the George Eastman House in 1998. Director William Wyler made the move up to talking pictures with this blend of action and comedy. \u001b[92mDave Roberts\u001b[0m (\u001b[91mJames Murray\u001b[0m) is a professional boxer better at losing in fixed matches than in knocking out \u001b[94mhis\u001b[0m opponents.\n\nLance is in a non-committal relationship with a younger teacher named Claire (Alexie Gilmore), who is spending time with a fellow teacher named Mike (\u001b[91mHenry Simmons\u001b[0m), whose writing class is more successful than \u001b[92mLance\u001b[0m's. On nights when Claire cancels their dates and \u001b[94mhe\u001b[0m is alone, Lance bonds with his elderly neighbor Bonnie (Mitzi McCall).\n\nGrant played the part in Trevor Nunn's movie adaptation of Twelfth Night, dancing dreadfully in front of Mel Smith's Sir Toby, getting his sword caught in a branch of a tree and being kicked in the groin during his duel with ``Cesario'' (Imogen Stubbs). When \u001b[92mMaria\u001b[0m (\u001b[91mImelda Staunton\u001b[0m) tricks Malvolio (Nigel Hawthorne) into wearing yellow stockings, \u001b[94mshe\u001b[0m reveals to her fellow conspirators that ``'tis a colour (my lady Olivia) abhors''.\n\nRocky intervenes, and after seemingly beating the living daylights out of the supposed thugs (the scene is similar to Jean-Claude Van Damme's introductory action sequence from Hard Target (1993)), introduces himself to Natasha, and proceeds to show himself off as a charming professional with a heart of gold. Somewhat awed, Natasha offers Rocky an invitation for tea later in the evening, which he accepts. When Rocky arrives at \u001b[94mher\u001b[0m villa later in the evening, he is confronted by several obstacles, \u001b[92mNatasha\u001b[0m's sister Sweety (\u001b[91mSupriya Pilgaonkar\u001b[0m), the jealous Tommy and the family's pet dog.\n\nDugan, he humorously blows on his nose and lets him drop to the ground (in the same style that Mr. Miyagi defeated Kreese at the start of the second movie) where his students look down at him with disappointing looks. Louisa Pierce (\u001b[92mConstance Towers\u001b[0m) \u001b[91mJulie\u001b[0m's grandmother and only known living family member. \u001b[94mShe\u001b[0m and Mr.\n\nHe was named to the NCAA All-Tournament team in 1980, and two first All Star teams in 1981. He began his playing career with the Pittsburgh Penguins who drafted him in the 6th round of the 1979 NHL Entry Draft. \u001b[92mChorney\u001b[0m was traded to the Los Angeles Kings for a 6th round choice (\u001b[91mStuart Marston\u001b[0m) in the 1985 NHL Entry Draft. After spending a season with the Kings, \u001b[94mhe\u001b[0m was signed by the Washington Capitals but failed to earn a spot on the roster.\n\n"
     ]
    }
   ],
   "source": [
    "print_sents(datas={'manual':True, 'data':parenthesis_data}, num_lines = 10)"
   ]
  },
  {
   "source": [
    "result : 22 out of 31 sentences are predicted correct --> accuracy : 71%"
   ],
   "cell_type": "markdown",
   "metadata": {}
  },
  {
   "source": [
    "## 2. When words appear after the pronoun\n",
    "Assume coreference of words coming after the pronoun is false"
   ],
   "cell_type": "markdown",
   "metadata": {}
  },
  {
   "cell_type": "code",
   "execution_count": 19,
   "metadata": {},
   "outputs": [],
   "source": [
    "after_pronoun = []\n",
    "\n",
    "for row in train_data.iloc:\n",
    "    if row['Pronoun-offset'] < row['A-offset'] or row['Pronoun-offset'] < row['B-offset']:\n",
    "        after_pronoun.append(row)\n",
    "\n",
    "after_pronoun = pd.DataFrame(after_pronoun, columns=train_data.columns)"
   ]
  },
  {
   "cell_type": "code",
   "execution_count": 20,
   "metadata": {},
   "outputs": [],
   "source": [
    "after_subject_pronoun = after_pronoun[after_pronoun['Pronoun'].isin(['he', 'she', 'He', 'She'])]\n",
    "after_other_pronoun = after_pronoun[after_pronoun['Pronoun'].isin(['his', 'her', 'him', 'His', 'Her', 'Him'])]"
   ]
  },
  {
   "cell_type": "code",
   "execution_count": 21,
   "metadata": {},
   "outputs": [
    {
     "output_type": "stream",
     "name": "stdout",
     "text": [
      "Kaori tells him that the reason she does not want to get close with Shiori is that she does not want to feel the intense pain that will result from Shiori's death. Kaori breaks down after saying this, crying on Yuichi and lamenting the pointlessness of Shiori's birth. After this point, Kaori starts to avoid \u001b[91mShiori\u001b[0m even more than usual. When confronted by Yuichi about how \u001b[94mshe\u001b[0m has been acting, \u001b[92mKaori\u001b[0m tells him that she has no younger sister.\n\nIsabel Walker is a twenty-something American film-school dropout who decides to visit her step-sister Roxanne, a poet who now lives in France. Isabel believes that she is there to help Roxanne during her pregnancy with her toddler infant, but later realizes that her father and step-mother sent her there so that Roxanne would help the shiftless Isabel gain some direction in life. Shortly after \u001b[94mshe\u001b[0m arrives, \u001b[92mRoxanne\u001b[0m confides in \u001b[91mIsabel\u001b[0m that her French husband, Claude-Henri has left her.\n\nFarrar also had a bad day, finishing with the second group on the road and dropping well away from any chance of holding the pink jersey. Millar, however, ended the day in fifth in the overall standings, six seconds behind race leader \u001b[91mAlexander Vinokourov\u001b[0m, giving the squad a chance to hold the pink jersey after all. If \u001b[94mhe\u001b[0m took the jersey, \u001b[92mMillar\u001b[0m would become the first British rider ever to be race leader for all three Grand Tours in his career.\n\nThe album's front cover features artwork by Glasgow writer and artist Alasdair Gray. Guitarist Chris Connick notes that: Our friend \u001b[92mSorcha Dallas\u001b[0m (and wife-to-be of Robert Johnson from Life Without Buildings, who played on our album) is an art dealer and gallery owner based in Glasgow. \u001b[94mShe\u001b[0m helped put us in touch with Alasdair regards the cover art. Being a huge fan of Alasdair's writing and in particular books such as Lanark and 1982, \u001b[91mJanine\u001b[0m, I was really excited and a bit scared when the sittings for the portrait came around.\n\nHe got a Shiva temple and a tank constructed at Jagdishpur. He was an admirer and a patron of men well versed in martial sports, such as riding, shooting, archery etc. He invited such experts to Jagdishpur and retained them for long periods to train his men in those arts. \u001b[94mHe\u001b[0m married the daughter of \u001b[91mRaja Fateh Narain Singh\u001b[0m of \u001b[91mDeo\u001b[0m, a wealthy zamindar of Gaya district, and had issue.Even today, the Victory day of Babu Veer Kunwar Singh is celebrated in Jagdispur every year on 23 April.\n\nVangsness' work has been published in the Los Angeles Times. Since 2014, \u001b[92mVangsness\u001b[0m has co-written three episodes of Criminal Minds. In 2014 \u001b[94mshe\u001b[0m co-wrote ``Nelson's Sparrow'' with Executive Producer, \u001b[91mErica Messer\u001b[0m, in 2015 she co-wrote ``A Beautiful Disaster'' once again with Messer and in 2016 she co-wrote ``Spencer'' with Messer.\n\nShe tells him that she will make sure that the baby is never born. Dolores convinces Wesley to go for a drive with her to Tiger Lily Hill, where there is good deep spirit and where answers can be found. Dolores ends up calming him down and tells him that someone will need to be a father. When \u001b[94mshe\u001b[0m returns to the caf*, \u001b[92mDolores\u001b[0m notices that \u001b[91mTessie\u001b[0m, the dog, has been sick all over the yard.\n\nIt is revealed that all superpowers come from Compound V, a drug invented by Nazi scientists; a low-powered version mixed with cocaine is called Blue, and it is used to attain a singular, powerful high (or, as revealed during the surveillance, allows prostitutes to endure or recover from sex with superhumans), but it carries a risk of spontaneous and horrifying mutations. Judging that \u001b[94mhe\u001b[0m is suitable to join the team, \u001b[91mButcher\u001b[0m injects \u001b[92mHughie\u001b[0m with a specially formulated mix of V that gives him super-strength and durability--much to Hughie's chagrin.\n\nChallenge of the Masters (Chinese: *******) is a 1976 martial arts-action film released in Hong Kong by Shaw Brothers, and directed by Lau Kar Leung. After his father refuses to teach him kung fu and \u001b[94mhe\u001b[0m is constantly being beaten by rival school students, a young Wong Fei Hung (\u001b[92mGordon Liu\u001b[0m) must train under Luk Ah Choy (\u001b[91mChen Kuan Tai\u001b[0m) to avenge the evils being done by the rival school.\n\nHomer's epics stand at the beginning of the western canon of literature, exerting enormous influence on the history of fiction and literature in general. Alexander the Great (356BC-323BC) was a Greek king of Macedon and the creator of one of the largest empires in ancient history. \u001b[94mHe\u001b[0m was tutored by the philosopher \u001b[91mAristotle\u001b[0m and, as ruler, broke the power of Persia, overthrew the Persian king \u001b[91mDarius III\u001b[0m and conquered the Persian Empire.\n\n"
     ]
    }
   ],
   "source": [
    "print_sents(datas={'manual':True, 'data':after_subject_pronoun}, num_lines = 10)"
   ]
  },
  {
   "cell_type": "code",
   "execution_count": 22,
   "metadata": {},
   "outputs": [],
   "source": [
    "def after_pronoun_predict(data):\n",
    "    A_pred = []\n",
    "    B_pred = []\n",
    "    for row in data.iloc:\n",
    "        A_value = False if row['A-offset'] > row['Pronoun-offset'] else True\n",
    "        B_value = False if row['B-offset'] > row['Pronoun-offset'] else True\n",
    "\n",
    "        A_pred.append(A_value)\n",
    "        B_pred.append(B_value)\n",
    "\n",
    "    data['A-pred'] = A_pred\n",
    "    data['B-pred'] = B_pred"
   ]
  },
  {
   "cell_type": "code",
   "execution_count": 23,
   "metadata": {},
   "outputs": [
    {
     "output_type": "stream",
     "name": "stderr",
     "text": [
      "<ipython-input-22-ceb8dec2fe17>:11: SettingWithCopyWarning: \nA value is trying to be set on a copy of a slice from a DataFrame.\nTry using .loc[row_indexer,col_indexer] = value instead\n\nSee the caveats in the documentation: https://pandas.pydata.org/pandas-docs/stable/user_guide/indexing.html#returning-a-view-versus-a-copy\n  data['A-pred'] = A_pred\n<ipython-input-22-ceb8dec2fe17>:12: SettingWithCopyWarning: \nA value is trying to be set on a copy of a slice from a DataFrame.\nTry using .loc[row_indexer,col_indexer] = value instead\n\nSee the caveats in the documentation: https://pandas.pydata.org/pandas-docs/stable/user_guide/indexing.html#returning-a-view-versus-a-copy\n  data['B-pred'] = B_pred\n"
     ]
    }
   ],
   "source": [
    "after_pronoun_predict(after_subject_pronoun)\n",
    "after_pronoun_predict(after_other_pronoun)"
   ]
  },
  {
   "cell_type": "code",
   "execution_count": 24,
   "metadata": {},
   "outputs": [
    {
     "output_type": "stream",
     "name": "stdout",
     "text": [
      "0.411214953271028\n0.2133676092544987\n"
     ]
    }
   ],
   "source": [
    "print(accuracy(after_subject_pronoun))\n",
    "print(accuracy(after_other_pronoun))"
   ]
  },
  {
   "source": [
    "Result : It doesn't really matter whether a word comes after the pronoun or not"
   ],
   "cell_type": "markdown",
   "metadata": {}
  },
  {
   "source": [
    "## 3. When the both word coreference is false\n",
    "\n",
    "Let's find out what they have in common."
   ],
   "cell_type": "markdown",
   "metadata": {}
  },
  {
   "cell_type": "code",
   "execution_count": 25,
   "metadata": {},
   "outputs": [
    {
     "output_type": "stream",
     "name": "stdout",
     "text": [
      "0.1005\n",
      "201\n"
     ]
    }
   ],
   "source": [
    "false_cases = 0\n",
    "for row in train_data.iloc:\n",
    "    if row['A-coref'] == row['B-coref']:\n",
    "        false_cases += 1\n",
    "\n",
    "print(false_cases/len(train_data))\n",
    "print(false_cases)"
   ]
  },
  {
   "source": [
    "There are more than 10 percent of these kind of cases"
   ],
   "cell_type": "markdown",
   "metadata": {}
  },
  {
   "cell_type": "code",
   "execution_count": 26,
   "metadata": {},
   "outputs": [],
   "source": [
    "falses_data = train_data[(train_data['A-coref'] == False) & (train_data['B-coref'] == False)]"
   ]
  },
  {
   "cell_type": "code",
   "execution_count": 27,
   "metadata": {},
   "outputs": [
    {
     "output_type": "stream",
     "name": "stdout",
     "text": [
      "Mac Akasaka, rare earths trader, perennial candidate in Japanese elections Ichiro Fujisaki, former Japanese ambassador to the United States, currently member of the Board of Directors of Itochu Hiroyuki Nagahama, member of the House of Representatives and Environment Minister in 2012, worked for Itochu early in \u001b[94mhis\u001b[0m professional career \u001b[91mUichiro Niwa\u001b[0m, president from 1998 to 2004, later Japanese ambassador to China Ry*z* Sejima, chairman from 1978 to 1981, Kwantung Army staff officer during World War II \u001b[91mToshiyuki Takano\u001b[0m, retired diplomat, currently executive advisor to Itochu Tsuneharu Takeda, former Imperial prince and later ambassador to Bulgaria, worked at Itochu from 1967 to 2005 and served as head of its subsidiaries in Australia and New Zealand.\n\nIn this episode, his character's last name is Peters (later Hale). With Becky going back to work, Jesse becomes ``Mr. Mom'', while also trying to pursue a record deal. Meanwhile, Danny deals with \u001b[91mVicki\u001b[0m leaving, and \u001b[91mStephanie\u001b[0m accidentally stains D.J's sweater, which \u001b[94mshe\u001b[0m had told her not to wear.\n\nIt was written by William M. Conselman, Mary Kelly, Nat Perrin, Arthur Sheekman, Harry Tugend and Jack Yellen, and was directed by David Butler. The cast includes Stuart Erwin (in an Oscar-nominated performance), Jack Haley, Patsy Kelly, \u001b[91mArline Judge\u001b[0m, Dixie Dunbar, Johnny Downs, \u001b[91mBetty Grable\u001b[0m, Tony Martin and, in \u001b[94mher\u001b[0m feature film debut, 14-year-old Judy Garland.\n\nShe meets Todd when he detects her silence (on New World, women have no Noise) and they end up traveling together to warn the incoming settlers about the Mayor's gathering army. She later becomes one of the narrating characters starting from book two. Manchee: Manchee is Todd's pet dog. A gift from \u001b[91mCillian\u001b[0m for \u001b[91mTodd\u001b[0m's twelfth birthday, \u001b[94mhis\u001b[0m thoughts are audible because of the Noise germ.\n\nPublisher Flores Raras published a compilation of poems that Sor Juana dedicated to the virreina entitled ``Un ardiente amor'' (An ardent love) edited by Sergio T*llez-Pon. Dona Maria Luisa also appears as a character in the movie ``Yo, la peor de todas'' (I, the worst of all) by \u001b[91mMaria Luisa Bemberg\u001b[0m and in the fiction ``\u001b[91mJuana Ines\u001b[0m'' aired on Canal Once. Sor Juana presented \u001b[94mher\u001b[0m play ``Los empe*os de una casa'' (The Pawns of a House) for Maria Luisa and her husband, as well as perhaps for Archbishop Francisco de Aguiar y Seijas.\n\nIn 1988, Race suffered an abdominal injury and during his absence his manager Bobby ``the Brain'' Heenan awarded the crown to Haku in July, rechristening him King Haku, even though \u001b[91mRandy Savage\u001b[0m had won the tournament by that point and \u001b[91mTed DiBiase\u001b[0m would also win the tournament during this storyline. Race eventually returned from \u001b[94mhis\u001b[0m injury and briefly feuded with King Haku, but was unable to regain the crown at the 1989 Royal Rumble.\n\nTom's father, Warwick, turns up and asks his son to lease the family's wine vineyard to a mining company. Maggie tries to stay out of it, but ends up telling Warwick a few home truths. Carlos and \u001b[91mGrace\u001b[0m each try to help Rob and \u001b[91mColette\u001b[0m. Rob meets a surfer on the South Coast and almost has sex with \u001b[94mher\u001b[0m, before returning home.\n\nAfter a succession of short-lived residents, the estate was eventually purchased by John Paulet, 5th Marquess of Winchester, famous for his Civil War defence of Basing House in Hampshire. He retired to Englefield at the Restoration and is buried in the parish church. From \u001b[94mhis\u001b[0m \u001b[91mPaulet\u001b[0m descendants, the house passed, through marriage, to the \u001b[91mBenyon\u001b[0m family.\n\nShe is not always adept with everyday female bonding, and this creates a bit of distance between her and the other females in the group, though they generally bond. In ``Aerodynamics of Gender'' Britta, \u001b[91mShirley\u001b[0m, \u001b[91mAnnie\u001b[0m, and Abed cohere in collective mean-girl catty behavior, until Abed teaches them a lesson in civilized comportment. While \u001b[94mher\u001b[0m friends do not question her place within the group, they often denigrate Britta as a ``buzzkill'' and the group's least ``fun'' member, something Britta generally takes in stride, though she occasionally reacts in exasperation.\n\nLopes Cardoso ran a time of 55.08 seconds, a season's best for him, to finish last in the seven-man heat. He was 5.17 seconds behind the heat winner, \u001b[91mMatzinger\u001b[0m, and 3.56 seconds behind the second-last finisher, Russian \u001b[91mAlexey Kotlov\u001b[0m. Lopes Cardoso's was the slowest overall in the heat round and \u001b[94mhe\u001b[0m did not progress to the final.\n\n"
     ]
    }
   ],
   "source": [
    "print_sents(datas={'manual':True, 'data':falses_data}, num_lines = 10)"
   ]
  },
  {
   "source": [
    "## 4. When the pronoun is subject pronoun\n",
    "\n",
    "### * And when only one word is subject"
   ],
   "cell_type": "markdown",
   "metadata": {}
  },
  {
   "cell_type": "code",
   "execution_count": 28,
   "metadata": {},
   "outputs": [
    {
     "output_type": "execute_result",
     "data": {
      "text/plain": [
       "801"
      ]
     },
     "metadata": {},
     "execution_count": 28
    }
   ],
   "source": [
    "subject_data = train_data[train_data['Pronoun'].isin(['he', 'she', 'He', 'She'])]\n",
    "len(subject_data)"
   ]
  },
  {
   "cell_type": "code",
   "execution_count": 29,
   "metadata": {},
   "outputs": [
    {
     "output_type": "stream",
     "name": "stdout",
     "text": [
      "Carmen Frei Ruiz-Tagle (born June 22, 1938) is a Chile an politician and teacher. She served as Senator from 1990 to 2006. \u001b[92mFrei\u001b[0m was born in Santiago, the eldest child to Eduardo Frei Montalva and \u001b[91mMar*a Ruiz-Tagle Jim*nez\u001b[0m. \u001b[94mShe\u001b[0m studied at the Colegio Universitario Ingl*s; and later graduated as a teacher (specializing in infants) from the Universidad de Chile.\n\nDuring the next two years she was in the chorus of the Vari*t*s and the Folies Berg*re. In 1905 \u001b[92mDelysia\u001b[0m was one of the French ``Gibson Girls'' in The Catch of the Season at Daly's Theatre, New York, with \u001b[91mEdna May\u001b[0m in the leading role. \u001b[94mShe\u001b[0m moved to London, where she continued to appear on the stage until 1909, when she temporarily abandoned the theatrical profession.\n\nShe is best known for a series of well-regarded television roles including Virginia Braithwaite, daughter of a lottery winning family in the comedy drama At Home with the Braithwaites. Sparkhouse (Red Production Company / BBC 2002); and her appearance in Jane Hall (Red Production Company / ITV1 2006) marked a fruitful link between \u001b[92mSmart\u001b[0m and television writer \u001b[91mSally Wainwright\u001b[0m. Between 2008 and 2010, \u001b[94mshe\u001b[0m featured as Anne-Britt Hoglund in Wallander, six feature-length adaptations of Henning Mankell 's Wallander novels, for the BBC.\n\nLike many other religious houses, they profited by the embarrassment of lesser barons and knights, and in 1232 were able to purchase the greater part of the manor of Alvingham from John de Melsa, his father and mother, by paying off their debt of 871*2 marks to certain Jews. Their claim to two parts of the church of St. Andrew, Market Stainton, involved them in a struggle with \u001b[92mRobert Grosteste\u001b[0m, bishop of Lincoln, in the reign of \u001b[91mHenry III\u001b[0m. \u001b[94mHe\u001b[0m revoked the appropriation made by his predecessor, but in 1245 the priory's appeal to Pope Innocent IV was finally successful.\n\nThe Children of the Shadow, who have been plotting the destruction of anyone using protoculture, specifically the Invid and now the Humans. Scott meets up with Marcus Rush, Marlene's brother and is disturbed by Marcus' consuming hatred of the Invid. When Ariel is revealed to be an Invid, \u001b[92mScott\u001b[0m tries to convince \u001b[91mMarcus\u001b[0m and the REF that Ariel is not the enemy and that a new threat is about to manifest itself, but \u001b[94mhe\u001b[0m initial pleas are ignored and he is placed in confinement on suspicion of being a traitor.\n\nFeeling himself in an ignominious position, Joseph then proposed his own abdication from the Spanish throne, hoping that Napoleon would sanction his return to the Neapolitan Throne he had formerly occupied. \u001b[92mNapoleon\u001b[0m dismissed \u001b[91mJoseph\u001b[0m's misgivings out of hand; and, to back up the raw and ill-trained levies \u001b[94mhe\u001b[0m had initially allocated to Spain--the Emperor sent heavy French reinforcements to assist Joseph in maintaining his position as king of Spain.\n\nIn 1980, Burke was defeated in her bid for a full term in the seat by Republican Deane Dana. In 1982, Brown again appointed her to the Regents. In 1992, Burke ran for the Los Angeles County Board of Supervisors. After a hard-fought campaign that often turned negative, \u001b[92mBurke\u001b[0m defeated State Senator \u001b[91mDiane Watson\u001b[0m. In 2007, \u001b[94mshe\u001b[0m announced that she would retire when her term expired in 2008.\n\nAccording to princess \u001b[92mAnna Komnene\u001b[0m, daughter of emperor Alexios Komnenos who was under care of \u001b[91mMaria\u001b[0m, despite all the influence the empress wielded at the court, \u001b[94mshe\u001b[0m remained dissatisfied with Nikephoros' refusal to name her son Constantine as an heir: ``(Nikephoros) would have ensured his own safety to the end... the empress, moreover, would have had more confidence in him; she would have been more loyal.\n\nBen Severson is a pioneer in the sport of bodyboarding and Sandy Beach local. Oahu lifeguard and former rival of \u001b[91mMike Stewart\u001b[0m for more than 15 years, \u001b[92mBen\u001b[0m is a fast, perfectly trained and precise prone rider who excels at tube riding. \u001b[94mHe\u001b[0m quickly gained recognition by winning a world title at the beginning of his career.\n\nHer personal best for long jump is 6.55 m set in Bangalore on 5 June 2010 during the second Indian Grand Prix. She became only the fourth Indian woman to cross 6.50 m, joining \u001b[91mAnju Bobby George\u001b[0m (6.83 m), J.J. Shobha (6.66 m), and \u001b[91mPramila Aiyappa\u001b[0m. \u001b[94mShe\u001b[0m won the gold medal for her effort.\n\n"
     ]
    }
   ],
   "source": [
    "print_sents(datas={'manual':True, 'data':subject_data}, num_lines = 10)"
   ]
  },
  {
   "cell_type": "code",
   "execution_count": 30,
   "metadata": {},
   "outputs": [
    {
     "output_type": "execute_result",
     "data": {
      "text/plain": [
       "ID                                                  development-509\n",
       "Text              At his trial Jonah Anguka had based his defenc...\n",
       "Pronoun                                                          he\n",
       "Pronoun-offset                                                  583\n",
       "A                                                             Cohen\n",
       "A-offset                                                        479\n",
       "A-coref                                                       False\n",
       "B                                                            Anguka\n",
       "B-offset                                                        510\n",
       "B-coref                                                        True\n",
       "URL                       http://en.wikipedia.org/wiki/Jonah_Anguka\n",
       "Name: 508, dtype: object"
      ]
     },
     "metadata": {},
     "execution_count": 30
    }
   ],
   "source": [
    "subject_data.iloc[204]"
   ]
  },
  {
   "cell_type": "code",
   "execution_count": 31,
   "metadata": {},
   "outputs": [
    {
     "output_type": "stream",
     "name": "stdout",
     "text": [
      "By the 1970s Bergman had already received two Academy Awards from five nominations, but went on to be nominated twice more, winning for a third time, this time in the category of Best Supporting Actress, for 1974's Murder on the Orient Express, based on the Agatha Christie novel of the same name, for which she also received her first and only BAFTA.\n[('Watkins', 'NNS'), ('was', 'VBD'), ('a', 'DT'), ('close', 'JJ'), ('friend', 'NN'), ('of', 'IN'), ('Hess', 'NNP'), (\"'\", 'POS'), ('first', 'JJ'), ('wife', 'NN'), (',', ','), ('Katherine', 'NNP'), ('Hawley', 'NNP'), ('.', '.'), ('She', 'PRP'), ('was', 'VBD'), ('one', 'CD'), ('of', 'IN'), ('the', 'DT'), ('first', 'JJ'), ('to', 'TO'), ('send', 'VB'), ('sympathy', 'NN'), ('when', 'WRB'), ('Hawley', 'NNP'), ('was', 'VBD'), ('thrown', 'VBN'), ('from', 'IN'), ('a', 'DT'), ('horse', 'NN'), ('and', 'CC'), ('killed', 'VBN'), ('.', '.'), ('Watkins', 'NNS'), ('and', 'CC'), ('Hess', 'NNP'), ('had', 'VBD'), ('a', 'DT'), ('son', 'NN'), (',', ','), ('Adam', 'NNP'), ('Hess', 'NNP'), (',', ','), ('who', 'WP'), ('was', 'VBD'), ('an', 'DT'), ('attorney', 'NN'), ('and', 'CC'), ('secretary', 'NN'), ('for', 'IN'), ('the', 'DT'), ('Aetna', 'NNP'), ('until', 'IN'), ('his', 'PRP$'), ('death', 'NN'), ('in', 'IN'), ('1969', 'CD'), (';', ':'), ('he', 'PRP'), ('left', 'VBD'), ('three', 'CD'), ('daughters', 'NNS'), (',', ','), ('Elizabeth', 'NNP'), (',', ','), ('Faye', 'NNP'), (',', ','), ('and', 'CC'), ('Emily', 'RB'), (',', ','), ('the', 'DT'), ('only', 'JJ'), ('grandchildren', 'NN'), ('of', 'IN'), ('Watkins', 'NNP'), ('.', '.'), ('Watkins', 'NNS'), ('obtained', 'VBD'), ('her', 'PRP$'), ('release', 'NN'), ('from', 'IN'), ('Fox', 'NNP'), ('prior', 'RB'), ('to', 'TO'), ('her', 'PRP$'), ('marriage', 'NN'), ('.', '.')]\n"
     ]
    }
   ],
   "source": [
    "print(subject_data.iloc[203]['Text'])\n",
    "words, tagged_words, word_index = tokenized_word_sets(row)\n",
    "print(tagged_words)"
   ]
  },
  {
   "cell_type": "code",
   "execution_count": 47,
   "metadata": {},
   "outputs": [],
   "source": [
    "def word_subject(row):\n",
    "    raw = row['Text']\n",
    "    words, tagged_words, word_index = tokenized_word_sets(row)\n",
    "\n",
    "    A_id = row['A-offset']\n",
    "    B_id = row['B-offset']\n",
    "\n",
    "    A_tokens = len(row['A'].split())\n",
    "    B_tokens = len(row['B'].split())\n",
    "\n",
    "    if tagged_words[word_index[A_id]+A_tokens][1].startswith('V'):\n",
    "        if tagged_words[word_index[B_id]+B_tokens][1].startswith('V'):\n",
    "            return (True, True)\n",
    "        else:\n",
    "            return (True, False)\n",
    "    else:\n",
    "        if tagged_words[word_index[B_id]+B_tokens][1].startswith('V'):\n",
    "            return (False, True)\n",
    "        else:\n",
    "            return (False, False)\n",
    "\n",
    "def only_subject(row):\n",
    "    return sum(word_subject(row))%2 == 1"
   ]
  },
  {
   "cell_type": "code",
   "execution_count": 48,
   "metadata": {
    "tags": []
   },
   "outputs": [
    {
     "output_type": "execute_result",
     "data": {
      "text/plain": [
       "447"
      ]
     },
     "metadata": {},
     "execution_count": 48
    }
   ],
   "source": [
    "only_subject_data = subject_data.apply(only_subject, axis=1)\n",
    "only_subject_data = subject_data[only_subject_data]\n",
    "len(only_subject_data)"
   ]
  },
  {
   "cell_type": "code",
   "execution_count": 49,
   "metadata": {},
   "outputs": [
    {
     "output_type": "stream",
     "name": "stderr",
     "text": [
      "<ipython-input-49-146d5bf28ab4>:1: SettingWithCopyWarning: \n",
      "A value is trying to be set on a copy of a slice from a DataFrame.\n",
      "Try using .loc[row_indexer,col_indexer] = value instead\n",
      "\n",
      "See the caveats in the documentation: https://pandas.pydata.org/pandas-docs/stable/user_guide/indexing.html#returning-a-view-versus-a-copy\n",
      "  only_subject_data['A-pred'] = only_subject_data.apply(lambda row: word_subject(row)[0], axis=1)\n",
      "<ipython-input-49-146d5bf28ab4>:2: SettingWithCopyWarning: \n",
      "A value is trying to be set on a copy of a slice from a DataFrame.\n",
      "Try using .loc[row_indexer,col_indexer] = value instead\n",
      "\n",
      "See the caveats in the documentation: https://pandas.pydata.org/pandas-docs/stable/user_guide/indexing.html#returning-a-view-versus-a-copy\n",
      "  only_subject_data['B-pred'] = only_subject_data.apply(lambda row: word_subject(row)[1], axis=1)\n"
     ]
    }
   ],
   "source": [
    "only_subject_data['A-pred'] = only_subject_data.apply(lambda row: word_subject(row)[0], axis=1)\n",
    "only_subject_data['B-pred'] = only_subject_data.apply(lambda row: word_subject(row)[1], axis=1)"
   ]
  },
  {
   "cell_type": "code",
   "execution_count": 50,
   "metadata": {},
   "outputs": [
    {
     "output_type": "execute_result",
     "data": {
      "text/plain": [
       "0.8165548098434005"
      ]
     },
     "metadata": {},
     "execution_count": 50
    }
   ],
   "source": [
    "accuracy(only_subject_data)"
   ]
  },
  {
   "source": [
    "### * And when both words are subject"
   ],
   "cell_type": "markdown",
   "metadata": {}
  },
  {
   "cell_type": "code",
   "execution_count": 51,
   "metadata": {},
   "outputs": [],
   "source": [
    "def both_subject(row):\n",
    "    return word_subject(row) == (True, True)"
   ]
  },
  {
   "cell_type": "code",
   "execution_count": 52,
   "metadata": {},
   "outputs": [
    {
     "output_type": "execute_result",
     "data": {
      "text/plain": [
       "53"
      ]
     },
     "metadata": {},
     "execution_count": 52
    }
   ],
   "source": [
    "both_subject_data = subject_data.apply(both_subject, axis=1)\n",
    "both_subject_data = subject_data[both_subject_data]\n",
    "len(both_subject_data)"
   ]
  },
  {
   "cell_type": "code",
   "execution_count": 54,
   "metadata": {
    "tags": []
   },
   "outputs": [
    {
     "output_type": "stream",
     "name": "stdout",
     "text": [
      "Alice went to live with Nick's sister Kathy, who desperatley tried to contact Elsa but was shocked to discover she'd moved to Australia without telling anyone. Relising \u001b[94mshe\u001b[0m was all \u001b[91mAlice\u001b[0m had left and just how selfish and uncaring \u001b[91mElsa\u001b[0m was, Kathy took custody of Alice.\n\nNicholas Rogers as Tarabas role also caused problems, as has declared during his audition that he was able to ride horses but as soon as the shooting began, he could not even mount a horse. It was then soon realized he was also not good at acting; \u001b[91mBava\u001b[0m said that for the scene where \u001b[92mRogers\u001b[0m has to say ``I love you'', they had to make three shots and then combine them later. \u001b[94mHe\u001b[0m also injured himself on the set and had to be taken to hospital while still wearing his costume.\n\nOn January 17, 2014, Brigman was selected in the second round (17th overall pick) of the 2014 NWSL College Draft by Seattle Reign FC. In March, the Reign signed her to the team. Of her signing, head coach \u001b[91mLaura Harvey\u001b[0m said, ``\u001b[92mMegan\u001b[0m was someone that we watched carefully last season and hoped would be available with our second pick. \u001b[94mShe\u001b[0m has done very well in preseason training and we believe she has the potential to develop into a successful professional player.''\n\nGloucestershire Gladiators crashed back into the relegation zone with a defeat against Glamorgan Dragons at Sophia Gardens, succumbing to medium pace bowler David Harrison, who bowled four maiden overs to end with bowling figures of 9-4-16-2. Despite half-centuries from Kabir Ali and Alex Gidman, who looked to give the visitors a comfortable target after moving to 103 for 3, \u001b[91mDean Cosker\u001b[0m ripped out three quick wickets, and \u001b[92mGidman\u001b[0m was forced to consolidate. \u001b[94mHe\u001b[0m did top score with 62, but Glamorgan were set a rather modest target of 195 to win.\n\nMary Poppins also had a very similar attitude while actively encouraging positive imagination (Susan tends to say things like ``Real children don't go hoppity-skip unless they're on drugs''), took children on magical adventures (Susan does so to teach geography), introduced children to supernatural creatures (Susan employs such beings as guest speakers, including her own grandfather), and had a magic umbrella (which, while not used as a blunt object, was magical much like Death's scythe). Neither character openly acknowledges her magical powers. Both tend toward being actively insulted when reminded of their use. The link between Susan and \u001b[91mMary Poppins\u001b[0m is explicitly alluded to in Hogfather, when \u001b[92mSusan\u001b[0m states that ``\u001b[94mShe\u001b[0m'd sworn that if she did indeed ever find herself dancing on rooftops with chimney sweeps, she'd beat herself to death with her own umbrella.''\n\nBefore the situation can escalate, the 4400 start to become seriously ill, and are ordered back into quarantine, a move resisted by Richard who has taken over the 4400 Center following Shawn's illness. When the crisis is resolved due to Isabelle's blood being used to develop a cure, Lily discovers Isabelle is missing. After discovering that \u001b[91mIsabelle\u001b[0m is missing, \u001b[92mLily\u001b[0m is found unconscious by Richard. As \u001b[94mshe\u001b[0m awakes she is horrified to discover she has aged around fifty years.\n\nMartha tells Ted he values the wrong things and Ted calls Martha a freeloader. That night she attempts to contact the cult but is greeted by a girl named Marlene Miller. Martha loses her nerve and hangs up. In a flashback at the cult, \u001b[92mMartha\u001b[0m helps a girl named \u001b[91mSally\u001b[0m integrate into the cult. \u001b[94mShe\u001b[0m helps Patrick drug and rape Sally, as had been done to her.\n\nThe scene was first intended for the season's twenty-second episode, ``Women's Appreciation'', before it was moved to ``Product Recall'' due to time constraints. The third season DVD contains several scenes that were deleted from the final cut of the episode. These include Kelly annoyingly answering calls with the same response, \u001b[91mDwight\u001b[0m contacting CNN, Kelly training the accountants, \u001b[92mCreed\u001b[0m admitting that \u001b[94mhe\u001b[0m faked his own death for tax reasons, Michael explaining his apology to angry business owner Barbara Allen, Angela Martin (Angela Kinsey) and Kelly arguing, Jim talking to a high school student, and more scenes of Michael filming his apology video.\n\nPlessy then appealed the case to the Louisiana Supreme Court, which affirmed the decision that the Louisiana law was constitutional. \u001b[91mPlessy\u001b[0m petitioned for a writ of error from the Supreme Court of the United States where Judge \u001b[92mJohn Howard Ferguson\u001b[0m was named in the case brought before the United States Supreme Court because \u001b[94mhe\u001b[0m had been named in the petition to the Louisiana Supreme Court.\n\nDuring this period, Heffron had lost over 100 pounds of weight. His gimmick was that of an arrogant stud who would insult the looks and weight of fans and other wrestlers, in an ironic twist. \u001b[92mHeffron\u001b[0m wrestled at Hardcore Homecoming against Tracy Smothers in what commentator \u001b[91mJoey Styles\u001b[0m called a ``Comedy Match'', and also appeared with Raven during the Raven vs. Sandman Match. \u001b[94mHe\u001b[0m would also be used at WWE's ECW One Night Stand pay-per-view on June 12, 2005.\n\nThe man threatened Elizabeth with a knife (which Mary Katherine thought was a gun at the time) When Elizabeth said ``ouch'' after stubbing her toe on a chair, Mitchell said something that sounded like: ``You better be quiet, and I won't hurt you.'' \u001b[94mShe\u001b[0m heard \u001b[91mElizabeth\u001b[0m ask ``Why are you doing this?'' and though the answer was not clear, \u001b[92mMary Katherine\u001b[0m thought the answer might have been ``for ransom.''\n\nIllinois' Governor Pat Quinn, reacting to public outrage, signed House Bill 4021 into law in August 2009 addressing many of the legal issues that grew out of the contaminated water scandal in Crestwood. WLS TV's \u001b[91mPaul Miencke\u001b[0m reported on August 23, 2009 ``Gov. \u001b[92mPat Quinn\u001b[0m signed a bill Sunday that \u001b[94mhe\u001b[0m says will help ensure Illinois citizens have safe, clean drinking water.\n\nAn underground DVD edition has however been made available on Swedish markets by the distributor Horsecreek Entertainment, whose CEO Charles Aperia also served as the movie's producer. The DVD edition is uncut and features dubbed English audio with optional Swedish subtitles. \u001b[91mBo F Munthe\u001b[0m stated that \u001b[92mCharles Aperia\u001b[0m got the idea for the film after \u001b[94mhe\u001b[0m saw a brief draft for a novel Munthe he was working on, entitled Ninja-m*rdare i svart (Ninja Assassin in Black).\n\nTina Charles of TV Guide also welcomed the character back, and enjoyed how Ellen's initial reaction to Dean Winchester--hugging and then slapping him--was ``very much in character''. Regarding the character's death, \u001b[91mCharles\u001b[0m noted that ``when \u001b[92mEllen\u001b[0m went down in 'Abandon All Hope' like \u001b[94mshe\u001b[0m did, I felt it.\n\nUpon confronting him, she realizes that the man (Philippe Nicaud) is not Lalemand, and she leaves soon afterwards to return to his residence. There, she finds out that the real Lalemand is an acquaintance to Flor*s and Daisy, who have given a false statement when Lalemand was still a suspect. \u001b[91mVirginie\u001b[0m is told that \u001b[92mAnita\u001b[0m was Lelemand's father's mistress and that \u001b[94mshe\u001b[0m had permission to profit from Lelemand's $50 million inheritance while she was still alive.\n\nHe hosted the William B. Williams Show in the morning hours, and Music in a Sentimental Mood in the afternoon from 1:00 to 2:00 p.m. In 1954, the originator of the Make Believe Ballroom program in New York, Martin Block, left WNEW for a new job at ABC Radio. \u001b[91mJerry Marshall\u001b[0m took over the show for three years, after which \u001b[92mWilliams\u001b[0m was tapped to host the program. \u001b[94mHe\u001b[0m marked the broadcast as his own, using the distinctive sign-on, ``Hello, world'', and occasionally identifying himself as ``Guilliermo B. Guilliermos'' or ``Wolfgang B. Wolfgang,'' although to listeners and friends he was known simply as ``Willie B.''\n\nGwen remains monogamous during the second series and ``fights every day to be with (Rhys)'' even though Jack remains ``a huge temptation''. Her suspension between Jack and Rhys becomes a central theme; \u001b[92mValerie Frankel\u001b[0m believes that \u001b[91mGwen\u001b[0m is caught between ``Rhys, the sweet, kind handsome prince, and Jack, the compelling trickster''. \u001b[94mShe\u001b[0m suggests that Jack is not mature enough to occupy the role of ``steady prince'' for Gwen.\n\nHe directed the White House Climate Change Task Force and spent time as a senior member of various United States delegations, including the 1997 delegation that negotiated the Kyoto Protocol. \u001b[92mGardiner\u001b[0m served the Clinton administrator for almost the entire 8 years that \u001b[91mBill Clinton\u001b[0m was President. \u001b[94mHe\u001b[0m is currently the President of an environmental consultancy company, David Gardiner & Associates.\n\nRangers played a total of 52 competitive matches during the 1997--98 season. They went into the season in pursuit of a record tenth consecutive league title. The early season form of new signing \u001b[91mMarco Negri\u001b[0m gave the team fresh imputous but when the then manager \u001b[92mWalter Smith\u001b[0m announced that \u001b[94mhe\u001b[0m would leave the club at the end of the season the side's form dipped.\n\nSmith it has a new purpose: to safeguard planet Earth. The Moon returns to its original position, K-9 goes back to the safe to guard the black hole and the Slitheen return to Raxacoricofallapatorius. As Sarah Jane, Maria, Luke, Clyde, Alan and \u001b[91mChrissie\u001b[0m watch the ship leave, \u001b[92mSarah Jane\u001b[0m reflects how \u001b[94mshe\u001b[0m never thought she could be part of a family.\n\nAlthough she publicly supported the policy of VVD minister Rita Verdonk to limit immigration, privately she was not supportive, as she explained in a June 2006 interview for Opzij. This was given after she resigned from Parliament and shortly after she had moved to the United States of America. In parliament, \u001b[92mHirsi Ali\u001b[0m had supported the way \u001b[91mVerdonk\u001b[0m handled the Pasic case, although privately \u001b[94mshe\u001b[0m felt that Pasic should have been allowed to stay.\n\nOn the October 5, 2009 edition of Raw, Cena challenged Orton to one last rematch for the title, this time a 60-minute Iron Man match where the competitor with the most decisions at the end of that time would be named the victor. In order to accept the challenge, \u001b[91mOrton\u001b[0m added two more conditions to the match--if \u001b[92mCena\u001b[0m loses, \u001b[94mhe\u001b[0m would leave Raw and that the match would be ``anything goes''.\n\nGooden claimed that an enraged Mitchell held him hostage during the alleged cat incident. Mitchell responded to Gooden's accusations by accusing Gooden of fabricating the stories in an attempt to divert attention away from Gooden's personal problems. In the famous tenth inning of Game 6 of the 1986 World Series, after Wally Backman and \u001b[91mKeith Hernandez\u001b[0m had been retired for the first two outs, \u001b[92mMitchell\u001b[0m went to the clubhouse to make plane reservations for home in San Diego. However, \u001b[94mhe\u001b[0m was called to pinch hit for reliever Rick Aguilera after Gary Carter, the next hitter after Hernandez, singled.\n\nAt the 2008 Tour de Romandie, Cavendish won the prologue time-trial, beating compatriot Bradley Wiggins and emphasising his short-distance time-trial abilities. Cavendish's 2009 season began at the 2009 Tour of Qatar, where he renewed his rivalry with Tom Boonen. \u001b[91mBoonen\u001b[0m won the race and one stage, though \u001b[92mCavendish\u001b[0m took two stages; \u001b[94mhe\u001b[0m also won two stages at the 2009 Tour of California, again beating Boonen in the sprint finishes.\n\nIn 1977, Ellis came out of retirement to play for Canada at the world hockey championships and then decided to resume his NHL career with the Leafs in 1977--78. \u001b[91mPunch Imlach\u001b[0m was hired to run the Leafs for the 1979--80 season and didn't feel that \u001b[92mEllis\u001b[0m was worth the money \u001b[94mhe\u001b[0m was being paid.\n\nAs of June 2014 she has played 136 domestic limited-overs matches including 82 Women's National Cricket League games for the New South Wales Breakers. Blackwell along with \u001b[92mKaren Rolton\u001b[0m holds the record for the highest 4th wicket runstand in WT20I history(sharing 147*) When asked about the frequent comparisons in the Australian media of the \u001b[91mBlackwell\u001b[0m twins to male cricketers, \u001b[94mshe\u001b[0m said, ``We look up to them a lot, but female cricketers should be recognized for themselves, not as the equivalent of Mark Waugh or Steve Waugh or Matthew Hayden or anybody.''\n\nThe two reconcile after that, but a Negative Zone creature attacks them. They manage to defeat the creature, but Lyja passes out from her injuries. A bit later, when the ``new'' Fantastic Four fly off to the prison, Franklin and \u001b[91mValeria\u001b[0m are grabbed by Negative Zone creatures, but \u001b[92mLyja\u001b[0m saves them. \u001b[94mShe\u001b[0m tells Johnny that she was working in a book store when a Skrull approached her, telling her to join them.\n\nAfter it becomes clear to her that Judah will not end his marriage, Dolores threatens to disclose the affair to Judah's wife, Miriam (Claire Bloom). Dolores's letter to \u001b[91mMiriam\u001b[0m is intercepted and destroyed by Judah, but \u001b[92mDolores\u001b[0m sustains the pressure on him with threats of revelation. \u001b[94mShe\u001b[0m is also aware of some questionable financial deals Judah has made, which adds to his stress.\n\nPorter worked to raise the standards of the US Navy in the position of superintendent of the Naval Academy when it was restored to Annapolis. He initiated reforms in the curriculum to increase professionalism. In the early days of President Grant's administration, Porter was de facto Secretary of the Navy. When his adoptive brother David G. Farragut was advanced from rank of vice-admiral to admiral, Porter took his previous position; likewise, when \u001b[91mFarragut\u001b[0m retired, \u001b[92mPorter\u001b[0m became the second man to hold the newly created rank of admiral. \u001b[94mHe\u001b[0m gathered a corps of like-minded officers devoted to naval reform.\n\nThey had three children: Timothy Boyle (born 1949); Kathy Boyle (born 1952); and Sally Boyle (born 1958). As of 2013, her son Tim is the CEO of Columbia; \u001b[91mKathy\u001b[0m is an artist and real estate saleswoman; and \u001b[92mSally\u001b[0m is the co-owner of Moonstruck Chocolates, an upscale chocolatier. In 2010, \u001b[94mshe\u001b[0m was tied up at gunpoint by an armed robber in her home in West Linn, Oregon.\n\n"
     ]
    }
   ],
   "source": [
    "print_sents(datas={'manual':True, 'data':both_subject_data}, num_lines = 30)"
   ]
  },
  {
   "source": [
    "Assume when both words are subject, closer word is True, the other is False\n",
    "--> accuracy = 22/30 = 73.3%"
   ],
   "cell_type": "markdown",
   "metadata": {}
  },
  {
   "source": [
    "### * And when both words are not subject"
   ],
   "cell_type": "markdown",
   "metadata": {}
  },
  {
   "cell_type": "code",
   "execution_count": 55,
   "metadata": {},
   "outputs": [],
   "source": [
    "def none_subject(row):\n",
    "    return word_subject(row) == (False, False)"
   ]
  },
  {
   "cell_type": "code",
   "execution_count": 56,
   "metadata": {},
   "outputs": [
    {
     "output_type": "execute_result",
     "data": {
      "text/plain": [
       "301"
      ]
     },
     "metadata": {},
     "execution_count": 56
    }
   ],
   "source": [
    "none_subject_data = subject_data.apply(none_subject, axis=1)\n",
    "none_subject_data = subject_data[none_subject_data]\n",
    "len(none_subject_data)"
   ]
  },
  {
   "cell_type": "code",
   "execution_count": 57,
   "metadata": {},
   "outputs": [
    {
     "output_type": "stream",
     "name": "stdout",
     "text": [
      "As part of his breeding and training programs he was part owner (with Harold Syner of Wajima fame) of Alamare Farm in Lexington, Kentucky and joint owner of Meadow Wood Training Center in Ocala, Florida. DiMauro is responsible for mentoring and developing many of the horsemen involved in Thoroughbred racing today. His experience and insight into the sport has earned him much respect among many. \u001b[94mHe\u001b[0m gave \u001b[91mRichard Migliore\u001b[0m a chance, and \u001b[91mRichard ``The Mig\u001b[0m,'' was a well-known jockey for many years until his retirement in June 2010, and is still involved in the sport with the New York Racing Association.\n\nContemporary analysis reveals that Perot could have won the election if the polls prior to the election had shown the candidate with a larger share, preventing the wasted vote mindset. Republicans, including Vice President \u001b[91mDan Quayle\u001b[0m, blamed \u001b[92mPerot\u001b[0m for their defeat, claiming that \u001b[94mhe\u001b[0m won votes that would have otherwise gone to Bush.\n\nIn 1915, while studying at the Chicago Art Institute, he won the American Prix de Rome in painting, enabling him to study at the American Academy in Rome, where he received a bachelor of arts degree. Later he received bachelor (1924) and master of fine arts degrees from Yale, where he taught for twenty-eight years. While acting as a member of the Fine Arts committee of the American Academy in Rome, he ensured, though not a member of the jury, that a generation of winning artists were painting in the manner of \u001b[91mThomas Hart Benton\u001b[0m or \u001b[92mSavage\u001b[0m himself. \u001b[94mHe\u001b[0m became an Associate Member of the National Academy of Design, 1924 and National Academician, 1926.\n\nAt home wife is in charge, outside men whatever is making whatever he is bringing home and we both got together, husband and wife, to raise the family.'' Trump's comments sparked widespread outrage and condemnation from both Democrats and Republicans, and were widely reported in the press. Prominently, Republican Senator \u001b[92mJohn McCain\u001b[0m of Arizona, who Khizr says was a hero to \u001b[91mHumayun\u001b[0m, issued a statement about what \u001b[94mhe\u001b[0m called his ``most severe disagreement'' with Trump, saying ``While our party has bestowed upon him the nomination, it is not accompanied by unfettered license to defame those who are the best among us.''\n\nVermont's 2008 state general election was held on November 4, 2008 and coincided with the 2008 US Presidential Elections. The state's primary election was held on September 9, 2008. In 2008, the Democrats, in charge of the House, appointed \u001b[92mRichard Westman\u001b[0m, a Republican, to chair the Transportation Committee. When \u001b[94mhe\u001b[0m resigned in 2009 to accept a post elsewhere, the leadership appointed another Republican, \u001b[91mPatrick M. Brennan\u001b[0m to that chair.\n\n\u001b[92mSylvia Kay\u001b[0m, (born 1936 Altrincham, Cheshire) is an English character actress, who has had many roles in British television programmes, most notably as \u001b[91mDaphne Warrender\u001b[0m in the BBC Sitcom Just Good Friends. \u001b[94mShe\u001b[0m has also appeared in the 1971 feature film Wake in Fright (directed by her husband Ted Kotcheff), and the television dramas Dalziel and Pascoe, Shelley, Z-Cars, Minder, Jeeves and Wooster and The Professionals (TV Series).\n\nOn one hand, it is possible that, following William's death, Hagrold seized control of parts of the Cotentin with foreign support, and extended his authority to Bayeux. On the other hand, Hagrold may have operated in the context of aiding the Normans of Rouen to oppose the Franks. Although he likely defended Bayeux from Louis and \u001b[91mHugh\u001b[0m in 944, Hagrold's capture of \u001b[91mLouis\u001b[0m the following years suggests that \u001b[94mhe\u001b[0m volunteered to assist Hugh against the king.\n\nThe family is financially supported by Cedric's late wife's domineering and nearsighted aunt Lady Adelaide Stitch, who demands custody over one of the children. She first wants Christianna (\u001b[91mChrissie\u001b[0m), one of the daughters, but \u001b[92mEvangeline\u001b[0m, Cedric's uneducated scullery maid, volunteers and Adelaide agrees, assuming \u001b[94mshe\u001b[0m is one of the daughters.\n\nThe press release was coincidental with the chair of the All-party parliamentary group on Russia being due for renewal. Shortly afterwards, Sir \u001b[92mMalcolm Rifkind\u001b[0m, who had served as a minister under Prime Ministers Margaret Thatcher and \u001b[91mJohn Major\u001b[0m, and was then chairman of the Intelligence and Security Committee, resigned from the group, saying \u001b[94mhe\u001b[0m had been unhappy for some time about the group's behaviour and ``political direction''.\n\nRino Kawashima (PC), Kei Mizusawa (Drama CD/PSP/anime) Machi is a female teacher who teaches Japanese at Yuihime Girls' Academy. She is the homeroom teacher of Shingo's class, 2-T; Airi, \u001b[91mAngelina\u001b[0m, \u001b[91mSana\u001b[0m and Hayata are also in the same class. \u001b[94mShe\u001b[0m is shy and is not good at talking with young men, but she actually likes boys' love.\n\n"
     ]
    }
   ],
   "source": [
    "print_sents(datas={'manual':True, 'data':none_subject_data}, num_lines = 10)"
   ]
  },
  {
   "cell_type": "code",
   "execution_count": null,
   "metadata": {},
   "outputs": [],
   "source": []
  }
 ]
}