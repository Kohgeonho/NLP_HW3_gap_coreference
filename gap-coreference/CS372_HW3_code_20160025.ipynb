{
 "metadata": {
  "language_info": {
   "codemirror_mode": {
    "name": "ipython",
    "version": 3
   },
   "file_extension": ".py",
   "mimetype": "text/x-python",
   "name": "python",
   "nbconvert_exporter": "python",
   "pygments_lexer": "ipython3",
   "version": "3.8.10"
  },
  "orig_nbformat": 2,
  "kernelspec": {
   "name": "python3810jvsc74a57bd038e31c96aac6b52bfd92a03a517d6944ec75782017e4445807e0cb0d41655b05",
   "display_name": "Python 3.8.10 64-bit (windows store)"
  },
  "metadata": {
   "interpreter": {
    "hash": "38e31c96aac6b52bfd92a03a517d6944ec75782017e4445807e0cb0d41655b05"
   }
  }
 },
 "nbformat": 4,
 "nbformat_minor": 2,
 "cells": [
  {
   "cell_type": "code",
   "execution_count": 1,
   "metadata": {},
   "outputs": [],
   "source": [
    "from helper import print_sents, accuracy, tokenized_word_sets"
   ]
  },
  {
   "source": [
    "**tf.tsv**\n",
    "\n",
    "always predict A-coref as True and B-coref as False"
   ],
   "cell_type": "markdown",
   "metadata": {}
  },
  {
   "cell_type": "code",
   "execution_count": 2,
   "metadata": {},
   "outputs": [],
   "source": [
    "f_test = open(\"gap-test.tsv\", \"r\")\n",
    "result = open(\"tf.tsv\", 'w')\n",
    "test_data = f_test.readlines()\n",
    "\n",
    "for line in test_data[1:]:\n",
    "    attrs = line.split('\\t')\n",
    "    result.write(\"\\t\".join([attrs[0]] + ['True', 'False']) + \"\\n\")\n",
    "\n",
    "f_test.close()\n",
    "result.close()"
   ]
  },
  {
   "cell_type": "code",
   "execution_count": 3,
   "metadata": {},
   "outputs": [
    {
     "output_type": "stream",
     "name": "stdout",
     "text": [
      "Overall recall: 51.8 precision: 45.9 f1: 48.7\n",
      "\t\ttp 918\tfp 1082\n",
      "\t\tfn 855\ttn 1145\n",
      "Masculine recall: 51.0 precision: 45.3 f1: 48.0\n",
      "\t\ttp 453\tfp 547\n",
      "\t\tfn 436\ttn 564\n",
      "Feminine recall: 52.6 precision: 46.5 f1: 49.4\n",
      "\t\ttp 465\tfp 535\n",
      "\t\tfn 419\ttn 581\n",
      "Bias (F/M): 1.03\n",
      "\n",
      "gap_scorer.py:126: DeprecationWarning: 'U' mode is deprecated\n",
      "  with open(filename, 'rU') as f:\n"
     ]
    }
   ],
   "source": [
    "!python gap_scorer.py --gold_ts=gap-test.tsv --system_tsv=tf.tsv"
   ]
  },
  {
   "source": [
    "**closer.tsv**\n",
    "\n",
    "Predict closer coreference to pronoun as True"
   ],
   "cell_type": "markdown",
   "metadata": {}
  },
  {
   "cell_type": "code",
   "execution_count": 4,
   "metadata": {
    "tags": []
   },
   "outputs": [],
   "source": [
    "f_test = open(\"gap-test.tsv\", \"r\")\n",
    "result = open(\"closer.tsv\", 'w')\n",
    "test_data = f_test.readlines()\n",
    "\n",
    "for line in test_data[1:]:\n",
    "    attrs = line.split('\\t')\n",
    "    tf = ['True', 'False']\n",
    "    if abs(int(attrs[3]) - int(attrs[5])) > abs(int(attrs[3]) - int(attrs[8])):\n",
    "        tf = ['False', 'True']\n",
    "\n",
    "    result.write(\"\\t\".join([attrs[0]] + tf) + \"\\n\")\n",
    "\n",
    "f_test.close()\n",
    "result.close()"
   ]
  },
  {
   "cell_type": "code",
   "execution_count": 5,
   "metadata": {},
   "outputs": [
    {
     "output_type": "stream",
     "name": "stdout",
     "text": [
      "Overall recall: 50.1 precision: 44.4 f1: 47.1gap_scorer.py:126: DeprecationWarning: 'U' mode is deprecated\n",
      "\t\ttp 888\tfp 1112\n",
      "\t\tfn 885\ttn 1115\n",
      "Masculine recall: 51.6 precision: 45.9 f1: 48.6\n",
      "\t\ttp 459\tfp 541\n",
      "\t\tfn 430\ttn 570\n",
      "Feminine recall: 48.5 precision: 42.9 f1: 45.5\n",
      "\t\ttp 429\tfp 571\n",
      "\t\tfn 455\ttn 545\n",
      "Bias (F/M): 0.94\n",
      "\n",
      "\n",
      "  with open(filename, 'rU') as f:\n"
     ]
    }
   ],
   "source": [
    "!python gap_scorer.py --gold_ts=gap-test.tsv --system_tsv=closer.tsv"
   ]
  },
  {
   "cell_type": "code",
   "execution_count": 6,
   "metadata": {
    "tags": []
   },
   "outputs": [
    {
     "output_type": "stream",
     "name": "stdout",
     "text": [
      "Buck and Annie had been praying for her younger siblings for quite a while, so for the two children to come live with the couple was ``a foregone conclusion.`` There was some conflict as the two families tried to merge. Soon after Nelly and Matthew came to live with the Herrings, the three siblings began singing together. Annie usually sang lead, Matthew harmonized, and \u001b[91mNelly\u001b[0m's rich alto voice found the missing notes between the two. Although \u001b[94mshe\u001b[0m rarely sang lead, \u001b[92mGreisen\u001b[0m's harmonies tended to be more complicated than her brother's.\n\nFirst George Holley beat both amateur wing halves to open the scoring, the second came from Harold Fleming's ``splendid left-foot shot'', and Harry Hampton converted a corner. The half finished 4--0, after Hampton converted a penalty awarded against \u001b[92mArthur Knight\u001b[0m for handball when \u001b[91mFleming\u001b[0m's powerful shot struck \u001b[94mhis\u001b[0m arm.\n\nJudy Pace appeared in film and TV, appearing in the TV show The Young Lawyers and the film Frogs, and Cleavon Little made nightclub performances plus films afterwards: the most famous role he did was as \u001b[91mBart\u001b[0m in the \u001b[91mMel Brooks\u001b[0m comedy Blazing Saddles. Another person who debuted was Redd Foxx, and \u001b[94mhe\u001b[0m proved that even a veteran night club star up in age can do movies as well, leading him to be considered for the TV Show Sanford and Son.\n\nBut after a few months, Ard missed the dynamic of the combination of song and dance, and auditioned for a Broadway show for which he was selected, Cats (musical), Starlight Express, Song and Dance, Jelly's Last Jam and Smokey Joe's Cafe. As an actor Ken played the role of Wilbur as one of the murdered husbands in the Film Chicago (2002 film), with \u001b[91mAnthony Quinn\u001b[0m the European cultfilm Seven Servants (1996) and many American TV series and commercials. With Holland as \u001b[94mhis\u001b[0m base \u001b[92mKen\u001b[0m has collaborated with many of Europe's notable jazz artists.\n\nBorn into a sporting family, Makarov's father, Aleksandr Makarov, won the silver medal in javelin throw at the 1980 Summer Olympics. Makarov's personal best of 92.61 metres was achieved in 2002 in Sheffield. Facing tough competition from Jan *elezn*, \u001b[91mSteve Backley\u001b[0m and others, \u001b[92mMakarov\u001b[0m did not win any major competition until 2003, when \u001b[94mhe\u001b[0m became world champion at the age of 30.\n\nOn completion of the initial version, David immediately began work on the second version which was finished on 25 May, the date of Bonaparte's inspection of the portraits at David's Louvre workshop. Two of David's pupils assisted him in producing the different versions: J*r*me-Martin Langlois worked primarily on the first two portraits, and \u001b[91mGeorge Rouget\u001b[0m produced the copy for Les Invalides. In contrast to \u001b[94mhis\u001b[0m predecessors \u001b[91mFran*ois Boucher\u001b[0m and Jean-Honor* Fragonard, who employed a red or grey undercoat as a base colour on which to build up the painting, David employed the white background of the canvas directly underneath his colours, as some of his unfinished works show, such as his first attempt at a portrait of Bonaparte or his sketch of the Tennis Court Oath.\n\nAfter meeting Narin he began to fall in love with her and brings back his kinder self though at first he just tries to blackmail and use Narin as a revenge to Leela, Narin's sister and his father's new wife who has a romantic feelings for him. \u001b[92mAnn Thongprasom\u001b[0m as Narin - the loving sister of \u001b[91mLeela\u001b[0m and the only one who tries to back talk and fight with Kawee, but after Kawee raped \u001b[94mher\u001b[0m and get pregnant with their child, Narin distance herself from her family and tries not to worry them.\n\nCountess Yekaterina Petrovna Rostopchina (Russian: ********* ******** **********; 1776 -- 14 September 1859) was a Russian aristocrat and writer. She was married to Fyodor Rostopchin, who served as governor of Moscow during the French Invasion of Russia. \u001b[92mYekaterina\u001b[0m was the second of five daughters born to Senator Lieutenant General Pyotr S. Protasov (d. 1794) and his wife \u001b[91mAlexandra Ivanovna\u001b[0m (d. 1782). \u001b[94mShe\u001b[0m had four sisters:\n\nThey captured the tag team titles on February 7, 2009, by defeating the Beatdown Betties (Roxie Cotton and Annie Social). On April 11, \u001b[92mMiss April\u001b[0m and Jay Lethal won the 2009 WSU/NWS King and Queen of the Ring tournament, defeating \u001b[91mJana\u001b[0m and Danny Demanto in the final. In May, \u001b[94mshe\u001b[0m left WSU upon signing with World Wrestling Entertainment (WWE) and relinquished her WSU Tag Team Championship.\n\nOne Night Surprise (Chinese: ****) is a 2013 romantic-comedy film directed and written by Eva Jin and starring Fan Bingbing, Aarif Rahman, Pace Wu, Jiang Jinfu and Daniel Henney. At \u001b[94mher\u001b[0m \u001b[91mMarie Antoinette\u001b[0m-themed birthday bash, \u001b[92mMichelle\u001b[0m loses her head after a few drinks and wakes up dishevelled in a hotel room.\n\n"
     ]
    }
   ],
   "source": [
    "print_sents(random=True)"
   ]
  },
  {
   "cell_type": "code",
   "execution_count": 7,
   "metadata": {},
   "outputs": [],
   "source": [
    "import pandas as pd"
   ]
  },
  {
   "cell_type": "code",
   "execution_count": 8,
   "metadata": {},
   "outputs": [
    {
     "output_type": "stream",
     "name": "stdout",
     "text": [
      "<class 'pandas.core.frame.DataFrame'>\nRangeIndex: 2000 entries, 0 to 1999\nData columns (total 11 columns):\n #   Column          Non-Null Count  Dtype \n---  ------          --------------  ----- \n 0   ID              2000 non-null   object\n 1   Text            2000 non-null   object\n 2   Pronoun         2000 non-null   object\n 3   Pronoun-offset  2000 non-null   int64 \n 4   A               2000 non-null   object\n 5   A-offset        2000 non-null   int64 \n 6   A-coref         2000 non-null   bool  \n 7   B               2000 non-null   object\n 8   B-offset        2000 non-null   int64 \n 9   B-coref         2000 non-null   bool  \n 10  URL             2000 non-null   object\ndtypes: bool(2), int64(3), object(6)\nmemory usage: 144.7+ KB\n"
     ]
    }
   ],
   "source": [
    "train_data = pd.read_csv('gap-development.tsv', sep='\\t')\n",
    "test_data = pd.read_csv('gap-test.tsv', sep='\\t')\n",
    "test_data.info()"
   ]
  },
  {
   "source": [
    "**subject.tsv**\n",
    "\n",
    "Predict farther coreference pronoun as True when pronoun is subject pronoun (he, she).\n",
    "Predict closer coreference pronoun as True when pronoun is not subject pronoun, which is object or possessive pronoun(her, his, him)."
   ],
   "cell_type": "markdown",
   "metadata": {}
  },
  {
   "cell_type": "code",
   "execution_count": 9,
   "metadata": {},
   "outputs": [
    {
     "output_type": "execute_result",
     "data": {
      "text/plain": [
       "{'He', 'Her', 'His', 'She', 'he', 'her', 'him', 'his', 'she'}"
      ]
     },
     "metadata": {},
     "execution_count": 9
    }
   ],
   "source": [
    "pronouns = set(train_data['Pronoun'])\n",
    "pronouns"
   ]
  },
  {
   "cell_type": "code",
   "execution_count": 10,
   "metadata": {
    "tags": []
   },
   "outputs": [],
   "source": [
    "result = open(\"subject.tsv\", 'w')\n",
    "\n",
    "for attrs in test_data.iloc:\n",
    "    pro, pro_id = attrs[2:4]\n",
    "    A, A_id = attrs[4:6]\n",
    "    B, B_id = attrs[7:9]\n",
    "\n",
    "    if pro.lower() in ['he', 'she']:\n",
    "        if abs(pro_id - A_id) > abs(pro_id - B_id):\n",
    "            tf = ['TRUE', 'FALSE']\n",
    "        else:\n",
    "            tf = ['FALSE', 'TRUE']\n",
    "    else:\n",
    "        if abs(pro_id - A_id) > abs(pro_id - B_id):\n",
    "            tf = ['FALSE', 'TRUE']\n",
    "        else:\n",
    "            tf = ['TRUE', 'FALSE']\n",
    "\n",
    "    result.write(\"\\t\".join([attrs[0]] + tf) + \"\\n\")\n",
    "\n",
    "f_test.close()\n",
    "result.close()"
   ]
  },
  {
   "cell_type": "code",
   "execution_count": 11,
   "metadata": {},
   "outputs": [
    {
     "output_type": "stream",
     "name": "stdout",
     "text": [
      "Overall recall: 58.3 precision: 51.6 f1: 54.8\n",
      "\t\ttp 1033\tfp 967\n",
      "\t\tfn 740\ttn 1260\n",
      "Masculine recall: 59.4 precision: 52.8 f1: 55.9\n",
      "\t\ttp 528\tfp 472\n",
      "\t\tfn 361\ttn 639\n",
      "Feminine recall: 57.1 precision: 50.5 f1: 53.6\n",
      "\t\ttp 505\tfp 495\n",
      "\t\tfn 379\ttn 621\n",
      "Bias (F/M): 0.96\n",
      "\n",
      "gap_scorer.py:126: DeprecationWarning: 'U' mode is deprecated\n",
      "  with open(filename, 'rU') as f:\n"
     ]
    }
   ],
   "source": [
    "!python gap_scorer.py --gold_ts=gap-test.tsv --system_tsv=subject.tsv"
   ]
  },
  {
   "cell_type": "code",
   "execution_count": 12,
   "metadata": {},
   "outputs": [
    {
     "output_type": "execute_result",
     "data": {
      "text/plain": [
       "0.1135"
      ]
     },
     "metadata": {},
     "execution_count": 12
    }
   ],
   "source": [
    "false_case = 0\n",
    "for attrs in test_data.iloc:\n",
    "    if attrs[6] == attrs[9]:\n",
    "        false_case += 1\n",
    "\n",
    "false_case/len(test_data)"
   ]
  },
  {
   "source": [
    "# subject.tsv\n",
    "\n",
    "draw a relation between two proper nouns with sentence structure\n",
    "\n",
    "(e.g. Which one is the subject?)"
   ],
   "cell_type": "markdown",
   "metadata": {}
  },
  {
   "cell_type": "code",
   "execution_count": 13,
   "metadata": {},
   "outputs": [],
   "source": [
    "import nltk\n",
    "sent = \"In the next pair, Mikhaylov equalled Grishin's time and they shared Olympic gold.\"\n",
    "tagged_sent = nltk.pos_tag(nltk.word_tokenize(sent))"
   ]
  },
  {
   "source": [
    "Classify train_data into several categories\n",
    "\n",
    "1. When words are inside parenthesis\n",
    "2. When words appear after the pronoun\n",
    " * When the pronoun is subject pronoun\n",
    " * When the pronoun is object/possessive pronoun\n",
    "3. When the both word coreference is false\n",
    "4. When the pronoun is subject pronoun\n",
    "\n",
    " * When only one word is subject\n",
    " * When both words are subject\n",
    " * When both words are not subject\n",
    "\n",
    "5. When the pronoun is object/possessive pronoun\n",
    " * When the pronoun and words are in different sentence\n",
    " * When the pronoun and words are in same sentence\n",
    " * When only one word is in same sentence with the pronoun\n",
    "    "
   ],
   "cell_type": "markdown",
   "metadata": {}
  },
  {
   "cell_type": "code",
   "execution_count": 14,
   "metadata": {},
   "outputs": [],
   "source": [
    "import pandas as pd \n",
    "\n",
    "train_data = pd.read_csv('gap-development.tsv', sep='\\t')"
   ]
  },
  {
   "source": [
    "## 1. When words are inside parenthesis\n",
    "Assume when word is inside parenthesis, coreference is always false"
   ],
   "cell_type": "markdown",
   "metadata": {}
  },
  {
   "cell_type": "code",
   "execution_count": 15,
   "metadata": {
    "tags": []
   },
   "outputs": [],
   "source": [
    "parenthesis_data = []\n",
    "\n",
    "def isparenthesis(sent, word, offset):\n",
    "    if sent[offset-1] == \"(\" and sent[offset+len(word)] == \")\":\n",
    "        return True\n",
    "    else:\n",
    "        return False\n",
    "\n",
    "for row in train_data.iloc:\n",
    "    if isparenthesis(row['Text'], row['A'], row['A-offset']) or \\\n",
    "       isparenthesis(row['Text'], row['B'], row['B-offset']):\n",
    "            parenthesis_data.append(row)"
   ]
  },
  {
   "cell_type": "code",
   "execution_count": 16,
   "metadata": {},
   "outputs": [],
   "source": [
    "parenthesis_data = pd.DataFrame(parenthesis_data, columns=train_data.columns)"
   ]
  },
  {
   "cell_type": "code",
   "execution_count": 17,
   "metadata": {},
   "outputs": [
    {
     "output_type": "stream",
     "name": "stdout",
     "text": [
      "Once believed lost, The Shakedown was discovered and restored by the staff of the George Eastman House in 1998. Director William Wyler made the move up to talking pictures with this blend of action and comedy. \u001b[92mDave Roberts\u001b[0m (\u001b[91mJames Murray\u001b[0m) is a professional boxer better at losing in fixed matches than in knocking out \u001b[94mhis\u001b[0m opponents.\n\nDugan, he humorously blows on his nose and lets him drop to the ground (in the same style that Mr. Miyagi defeated Kreese at the start of the second movie) where his students look down at him with disappointing looks. Louisa Pierce (\u001b[92mConstance Towers\u001b[0m) \u001b[91mJulie\u001b[0m's grandmother and only known living family member. \u001b[94mShe\u001b[0m and Mr.\n\nRinkie is about to get married to Vicky (Sharad Kapoor) but she is unaware of his drug dealings. Raju gives Rajesh eight days to break the news to his family and call Raju his son or he'll tell the family himself. After he leaves, Rajesh gets afraid, and hires gangsters to attack him. On \u001b[94mhis\u001b[0m way out, \u001b[92mRaju\u001b[0m gets beat up by the hired gangsters, though later rescued by Shera (\u001b[91mSanjay Dutt\u001b[0m), also an Indian living in London.\n\nThe family is financially supported by Cedric's late wife's domineering and nearsighted aunt Lady Adelaide Stitch, who demands custody over one of the children. She first wants Christianna (\u001b[91mChrissie\u001b[0m), one of the daughters, but \u001b[92mEvangeline\u001b[0m, Cedric's uneducated scullery maid, volunteers and Adelaide agrees, assuming \u001b[94mshe\u001b[0m is one of the daughters.\n\nAnd the Lord said to him, ``How can you say, 'I have fulfilled the Law and the Prophets', when it is written in the Law: 'You shall love your neighbor as yourself', and many of your brothers, sons of \u001b[91mAbraham\u001b[0m, are covered with filth, dying of hunger, and your house is full of many good things, none of which goes out to them?'' And \u001b[94mhe\u001b[0m (\u001b[92mJesus\u001b[0m) turned and said to Simon his disciple, who was sitting by him, ``Simon son of John, it is easier for a camel to go through the eye of a needle than for the rich to enter into the Kingdom of Heaven.''(\n\nCrime boss Rusty Pirone (Armand Assante) is about to stand trial again and Daniel Graham (Gabriel Byrne) of the district attorney's office is determined this time to put him behind bars. Pirone sends one of his henchmen, a burned-out ex-cop named Tommy Vesey (William Hurt), to threaten Valerie Alston (\u001b[91mJoanne Whalley-Kilmer\u001b[0m), a juror. Unless \u001b[94mshe\u001b[0m cooperates by finding Pirone innocent and deadlocking the jury, Vesey intends to do harm to \u001b[92mValerie\u001b[0m's young son.\n\nLady Xun (*, personal name unknown) (died 335), formally \u001b[92mLady\u001b[0m of Yuzhang (***), was a concubine of Emperor Yuan of Jin (\u001b[91mSima Rui\u001b[0m) while he was the Prince of Langye. Initially, he favored \u001b[94mher\u001b[0m greatly, and she bore him two sons --\n\nDonald (Kevin Dobson) and Maureen (Dee Wallace) are a married couple who get horrible news: their son was involved in a car accident and has died. Liddy (\u001b[92mTracey Gold\u001b[0m), his wife, has never met Donald and \u001b[91mMaureen\u001b[0m. Despite that, they take \u001b[94mher\u001b[0m in, because she is all alone.\n\nGris exhibited with the painters of the Puteaux Group in the Salon de la Section d'Or in 1912. His preference for clarity and order influenced the Purist style of Am*d*e Ozenfant and Charles Edouard Jeanneret (\u001b[91mLe Corbusier\u001b[0m), and made \u001b[92mGris\u001b[0m an important exemplar of the post-war ``return to order'' movement. In 1915 \u001b[94mhe\u001b[0m was painted by his friend, Amedeo Modigliani.\n\nThe film starred Tarun Chandra and Radhika Pandit in leading roles. The music of the film was composed by Joshua Sridhar. Kushi (\u001b[92mRadhika Pandit\u001b[0m), Pratham (Tarun) and \u001b[91mSharan\u001b[0m attend an interview where all the 3 are selected. Pratham starts loving Kushi and proposes \u001b[94mher\u001b[0m but everyone thinks he was trying to fool her as it was 1 April.\n\n"
     ]
    }
   ],
   "source": [
    "print_sents(datas={'manual':True, 'data':parenthesis_data}, num_lines = 10)"
   ]
  },
  {
   "source": [
    "result : 22 out of 31 sentences are predicted correct --> accuracy : 71%"
   ],
   "cell_type": "markdown",
   "metadata": {}
  },
  {
   "source": [
    "## 2. When words appear after the pronoun\n",
    "Assume coreference of words coming after the pronoun is false"
   ],
   "cell_type": "markdown",
   "metadata": {}
  },
  {
   "cell_type": "code",
   "execution_count": 18,
   "metadata": {},
   "outputs": [],
   "source": [
    "after_pronoun = []\n",
    "\n",
    "for row in train_data.iloc:\n",
    "    if row['Pronoun-offset'] < row['A-offset'] or row['Pronoun-offset'] < row['B-offset']:\n",
    "        after_pronoun.append(row)\n",
    "\n",
    "after_pronoun = pd.DataFrame(after_pronoun, columns=train_data.columns)"
   ]
  },
  {
   "cell_type": "code",
   "execution_count": 19,
   "metadata": {},
   "outputs": [],
   "source": [
    "after_subject_pronoun = after_pronoun[after_pronoun['Pronoun'].isin(['he', 'she', 'He', 'She'])]\n",
    "after_other_pronoun = after_pronoun[after_pronoun['Pronoun'].isin(['his', 'her', 'him', 'His', 'Her', 'Him'])]"
   ]
  },
  {
   "cell_type": "code",
   "execution_count": 20,
   "metadata": {},
   "outputs": [
    {
     "output_type": "stream",
     "name": "stdout",
     "text": [
      "Crime boss Rusty Pirone (Armand Assante) is about to stand trial again and Daniel Graham (Gabriel Byrne) of the district attorney's office is determined this time to put him behind bars. Pirone sends one of his henchmen, a burned-out ex-cop named Tommy Vesey (William Hurt), to threaten Valerie Alston (\u001b[91mJoanne Whalley-Kilmer\u001b[0m), a juror. Unless \u001b[94mshe\u001b[0m cooperates by finding Pirone innocent and deadlocking the jury, Vesey intends to do harm to \u001b[92mValerie\u001b[0m's young son.\n\nLivsey eventually cracks under the pressure and insists that she will reveal the truth to anyone other than Jasper Pine. Archie convinces her to accompany him to the brownstone for her protection, where Wolfe summons Cecily Pine by informing her that he knows who the murderer is. When \u001b[94mshe\u001b[0m arrives, \u001b[92mCecily Pine\u001b[0m confirms \u001b[91mWolfe\u001b[0m's suspicions--the murderer was her husband, Jasper Pine.\n\nThe album's front cover features artwork by Glasgow writer and artist Alasdair Gray. Guitarist Chris Connick notes that: Our friend \u001b[92mSorcha Dallas\u001b[0m (and wife-to-be of Robert Johnson from Life Without Buildings, who played on our album) is an art dealer and gallery owner based in Glasgow. \u001b[94mShe\u001b[0m helped put us in touch with Alasdair regards the cover art. Being a huge fan of Alasdair's writing and in particular books such as Lanark and 1982, \u001b[91mJanine\u001b[0m, I was really excited and a bit scared when the sittings for the portrait came around.\n\nIn the prequel comic to Injustice: Gods Among Us, Helena is a member of Batman's insurgency , that combats Superman's One-Earth regime, \u001b[94mshe\u001b[0m was very close to \u001b[91mKate Kane\u001b[0m and \u001b[91mRenee Montoya\u001b[0m , Helena is killed in a battle against Wonder Woman , thus angering Kate and strengthening her resolve to fight the regime.\n\nShe kept her head down, tried to make amends with her friends and steered clear of men but she wasn't alone for long. When she met police officer Martin Crowe at a kid's judo class, Louise felt a frisson of attraction. They became friends and after a while, romance blossomed. However, Louise was taking on Martin's daughter, \u001b[91mKayleigh\u001b[0m, too. As \u001b[94mshe\u001b[0m didn't have children, \u001b[92mLouise\u001b[0m didn't know how to behave around Kayleigh -- who worshipped her from the start.\n\nHer mother gave different ages for Pauline depending on the requirements of the role, leaving her confused about her actual age, which she only learned in 1998. Curley's first motion picture was Tangled Relations (1912). She played one of the children in a movie which starred Florence Lawrence and Owen Moore. For an audition for The Straight Road in 1914, \u001b[92mPauline\u001b[0m was dressed as a boy to land a part as an orphan; a variety of such roles followed, ``cornering the market in orphans and waifs''. In 1915 \u001b[94mshe\u001b[0m played the ingenue \u001b[91mClaudia Frawley\u001b[0m in Life Without Soul, an adaptation of Mary Shelley 's Frankenstein.\n\nBatman is forced to fight his beloved sidekick and cures him back at the Batcave, following Two Face to the casino where he is in fact revealed to be Dent, having suppressed his bad side (* la Dr Jekyll and Mr. Hyde). Once the Dynamic Duo are strapped to a large silver dollar, \u001b[94mhe\u001b[0m unmasks \u001b[91mBatman\u001b[0m and deduces Robin's true identity, then \u001b[92mTwo Face\u001b[0m invites the Joker, Penguin, Riddler, Mr. Freeze, Egghead, Shame, Clock King and Catwoman to an auction for the highest bidder of Batman's true identity.\n\nSince EDS had its own stock, there was an inherent conflict of interest between the companies- an EDS employee working in Detroit at a GM plant was not primarily concerned about GM's performance, but about EDS performance, so they had a blank check to throw money at problems, bill GM, and watch their EDS stock go up. Finally, as Lee quotes Perot - ``GM doesn't honor its contracts'' - Smith had said \u001b[94mhe\u001b[0m would not interfere with \u001b[91mPerot\u001b[0m, but the relationship fractured from the start, with conflicts over promised compensation to EDS executives being rejected by \u001b[92mSmith\u001b[0m, who also sent auditors to EDS to irritate Perot.\n\n\u001b[92mJeanine Basinger\u001b[0m (born 3 February 1936), a film historian, is Corwin-Fuller Professor of Film Studies and Founder and Curator of The Cinema Archives at Wesleyan University, Middletown, Connecticut. \u001b[94mShe\u001b[0m is also a \u001b[91mTrustee\u001b[0m of the American Film Institute (which awarded her an honorary degree, a Doctorate of Humane Letters, on June 7, 2006 ), a member of the Steering Committee of the National Center for Film and Video Preservation, and one of the Board of Advisors for the Association of Independent Video and Filmmakers.\n\nAmy arrives at the house looking for Esme to find Frank poring over various books and documents, Evelyn sleeping across the room in a wheelchair. Esme arrives not long after Amy, but is surprised to see her. It seems clear that they have not spoken for quite some time, and Esme is so glad to finally see her daughter again that she begins to weep as she hugs \u001b[91mAmy\u001b[0m. Once \u001b[94mshe\u001b[0m has recovered, we learn that \u001b[92mEsme\u001b[0m has been acting as a nurse on a television show, and that Frank had been trying to marry Esme practically since the last time Amy had visited.\n\n"
     ]
    }
   ],
   "source": [
    "print_sents(datas={'manual':True, 'data':after_subject_pronoun}, num_lines = 10)"
   ]
  },
  {
   "cell_type": "code",
   "execution_count": 21,
   "metadata": {},
   "outputs": [],
   "source": [
    "def after_pronoun_predict(data):\n",
    "    A_pred = []\n",
    "    B_pred = []\n",
    "    for row in data.iloc:\n",
    "        A_value = False if row['A-offset'] > row['Pronoun-offset'] else True\n",
    "        B_value = False if row['B-offset'] > row['Pronoun-offset'] else True\n",
    "\n",
    "        A_pred.append(A_value)\n",
    "        B_pred.append(B_value)\n",
    "\n",
    "    data['A-pred'] = A_pred\n",
    "    data['B-pred'] = B_pred"
   ]
  },
  {
   "cell_type": "code",
   "execution_count": 22,
   "metadata": {},
   "outputs": [
    {
     "output_type": "stream",
     "name": "stderr",
     "text": [
      "<ipython-input-21-ceb8dec2fe17>:11: SettingWithCopyWarning: \nA value is trying to be set on a copy of a slice from a DataFrame.\nTry using .loc[row_indexer,col_indexer] = value instead\n\nSee the caveats in the documentation: https://pandas.pydata.org/pandas-docs/stable/user_guide/indexing.html#returning-a-view-versus-a-copy\n  data['A-pred'] = A_pred\n<ipython-input-21-ceb8dec2fe17>:12: SettingWithCopyWarning: \nA value is trying to be set on a copy of a slice from a DataFrame.\nTry using .loc[row_indexer,col_indexer] = value instead\n\nSee the caveats in the documentation: https://pandas.pydata.org/pandas-docs/stable/user_guide/indexing.html#returning-a-view-versus-a-copy\n  data['B-pred'] = B_pred\n"
     ]
    }
   ],
   "source": [
    "after_pronoun_predict(after_subject_pronoun)\n",
    "after_pronoun_predict(after_other_pronoun)"
   ]
  },
  {
   "cell_type": "code",
   "execution_count": 23,
   "metadata": {},
   "outputs": [
    {
     "output_type": "stream",
     "name": "stdout",
     "text": [
      "0.411214953271028\n0.2133676092544987\n"
     ]
    }
   ],
   "source": [
    "print(accuracy(after_subject_pronoun))\n",
    "print(accuracy(after_other_pronoun))"
   ]
  },
  {
   "source": [
    "Result : It doesn't really matter whether a word comes after the pronoun or not"
   ],
   "cell_type": "markdown",
   "metadata": {}
  },
  {
   "source": [
    "## 3. When the both word coreference is false\n",
    "\n",
    "Let's find out what they have in common."
   ],
   "cell_type": "markdown",
   "metadata": {}
  },
  {
   "cell_type": "code",
   "execution_count": 24,
   "metadata": {},
   "outputs": [
    {
     "output_type": "stream",
     "name": "stdout",
     "text": [
      "0.1005\n",
      "201\n"
     ]
    }
   ],
   "source": [
    "false_cases = 0\n",
    "for row in train_data.iloc:\n",
    "    if row['A-coref'] == row['B-coref']:\n",
    "        false_cases += 1\n",
    "\n",
    "print(false_cases/len(train_data))\n",
    "print(false_cases)"
   ]
  },
  {
   "source": [
    "There are more than 10 percent of these kind of cases"
   ],
   "cell_type": "markdown",
   "metadata": {}
  },
  {
   "cell_type": "code",
   "execution_count": 25,
   "metadata": {},
   "outputs": [],
   "source": [
    "falses_data = train_data[(train_data['A-coref'] == False) & (train_data['B-coref'] == False)]"
   ]
  },
  {
   "cell_type": "code",
   "execution_count": 26,
   "metadata": {},
   "outputs": [
    {
     "output_type": "stream",
     "name": "stdout",
     "text": [
      "However, Arjun manages to escape and is rescued by Guru Bahula,the royal priest of Bali. Bahula manages to escape with Arjun and hide in a cave. Arjun is found unconscious lying on a bed. He soon wakes up and addresses Bheem and friends as mere kids. Chutki and \u001b[91mRaju\u001b[0m feel that they shouldn't help \u001b[91mArjun\u001b[0m at all. Bheem explains \u001b[94mhis\u001b[0m friends to keep patience and asks them not to leave Arjun in this dangerous situation.\n\nHe drew obsessively from childhood obsessed, both from his own imagination and by copying images that particularly pleased him. 1913 after his return from Ascona, he attended painting school in Munich for a total of eight days. But doubt in his ability was so strong that he hid his work from all but \u001b[94mhis\u001b[0m friend, the writer \u001b[91mOskar Maria Graf\u001b[0m (as \u001b[91mSchrimpf\u001b[0m former baker).\n\nShe shifted to high school, working in Gu*nica between 1942 and 1957. In 1947 and again in 1955, she served as acting school principal. Her first marriage ended in divorce and on December 25, 1944, she married Ismael Olivieri. The couple subsequently had two daughters, \u001b[91mAntonia\u001b[0m and \u001b[91mRebeca Olivieri Figueroa\u001b[0m. In 1947, \u001b[94mshe\u001b[0m published her first book of poetry Acridulces, which was described by critics as neo-Romantic, but which placed her within the first generation of academic and professional Puerto Ricans known as the Generation of the 50s.\n\nAfter a fourth-place finish in his seasonal debut, owner Don Dizney decided to give First Dude ``a change of scenery'' and moved him to Southern California-based trainer Bob Baffert. First Dude made his first start for Baffert in the Santa Anita Handicap, but finished sixth behind stablemate Game On Dude after battling for the lead. \u001b[91mBaffert\u001b[0m then decided to school First Dude and told jockey \u001b[91mMartin Garcia\u001b[0m to keep First Dude off the pace and let \u001b[94mhim\u001b[0m make his own moves.\n\nEventually she overheard the ``off-button'' code of the monster Three-Willied Seth and proceeded to free herself. She literally took the heads of the television mogul and his software billionaire co-conspirator. She also saved her friend \u001b[91mAngela Spica\u001b[0m, the Engineer, and killed the man who had been abusing \u001b[91mAngela\u001b[0m. Originally drawn flat-chested, as a plot point in the series \u001b[94mshe\u001b[0m rapidly ``developed'' a more pronounced, archetypal superheroine bust size.\n\nWilliam Fane de Salis was an uncle, Lord Bishop Foster a great-grandfather, and John Francis Charles, 7th Count de Salis-Soglio was a first cousin once removed. His names Charles and Fane were derived from \u001b[94mhis\u001b[0m ancestor \u001b[91mCharles\u001b[0m, 1st \u001b[91mViscount Fane\u001b[0m.\n\nHer unmarried brother Richard Peirson became a lawyer and landowner. They had seven children, including: Herbert (born 1650), Thomasine (born 1652) \u001b[91mDorothy\u001b[0m (born 1659) \u001b[91mArabella\u001b[0m (born about 1655), the only one known to have married and had children, who married \u001b[94mher\u001b[0m first cousin Ralph Whitfield (about 1651--1694).\n\nSakamoto then married popular Japanese pianist and singer Akiko Yano in 1982, following several musical collaborations with her, including touring work with the Yellow Magic Orchestra. Sakamoto's second marriage ended in August 2006, 14 years after a mutual decision to live separately-- \u001b[91mYano\u001b[0m and Sakamoto raised one daughter, J-pop singer \u001b[91mMiu Sakamoto\u001b[0m. He has lived with his manager since around 1990 and has two children with \u001b[94mher\u001b[0m.\n\nThe babies have an awards show, and the awards go to all of the others (Stu, Fluffy, and almost Angelica). The babies fear Dil is stronger than they are. Chas thinks of a name for the puppy. Phil and Lil think a visiting friend is a disaster. Tommy, \u001b[91mAngelica\u001b[0m, and \u001b[91mSusie\u001b[0m compete in a pet show. Tommy misunderstands Taffy when he hears \u001b[94mher\u001b[0m say she doesn't want pickles on her burger, thinking that she is referring to Dil when she says ``I don't like dill pickles''.\n\nAll Tsukushi judokas are topranked blackbelts, which frighten Fujiko, but not the confident Paddy-field, who promises to beat 3 on her own. Kyon-kyon took very detailed notes on the rivals, which may come into use; she is revealed to be a smart learner. \u001b[91mOda Mari\u001b[0m takes on the first opponent and is defeated in a flash, and so is \u001b[91mSayuri\u001b[0m. Kyon-Kyon tells Yawara \u001b[94mshe\u001b[0m wants to win, as she has never felt more alive and excited.\n\n"
     ]
    }
   ],
   "source": [
    "print_sents(datas={'manual':True, 'data':falses_data}, num_lines = 10)"
   ]
  },
  {
   "source": [
    "## 4. When the pronoun is subject pronoun\n",
    "\n",
    "### * And when only one word is subject"
   ],
   "cell_type": "markdown",
   "metadata": {}
  },
  {
   "cell_type": "code",
   "execution_count": 61,
   "metadata": {},
   "outputs": [
    {
     "output_type": "stream",
     "name": "stdout",
     "text": [
      "801\n1101\n"
     ]
    }
   ],
   "source": [
    "subject_data = train_data[train_data['Pronoun'].isin(['he', 'she', 'He', 'She'])]\n",
    "other_data = train_data[train_data['Pronoun'].isin(['his', 'hin', 'her', 'His', 'Him', 'Her'])]\n",
    "print(len(subject_data))\n",
    "print(len(other_data))"
   ]
  },
  {
   "cell_type": "code",
   "execution_count": 28,
   "metadata": {},
   "outputs": [
    {
     "output_type": "stream",
     "name": "stdout",
     "text": [
      "By the end of the series, Jeri snaps out her depression, thanks to Takato and Calumon, and realizes that humans can make their own destiny and that she was never meant to be alone. It was never stated but certainly Implied that Calumon was her second partner. \u001b[92mJeri\u001b[0m not only attended \u001b[91mRika\u001b[0m's birthday, but \u001b[94mshe\u001b[0m along with Calumon also helped Rika's grandmother, Seiko Hata with all the decorations as well.\n\nFtorek was one of the top scorers in the league but Messier managed to get only two goals. He would play 47 games for the Stingers tallying only one goal and ten assists. While in Cincinnati, Messier was teammates with Mike Gartner, Barry Melrose and \u001b[91mPaul Stewart\u001b[0m. When \u001b[94mhe\u001b[0m retired, \u001b[92mMessier\u001b[0m was the last former WHA player still active on the ice as a player.\n\nLike many other religious houses, they profited by the embarrassment of lesser barons and knights, and in 1232 were able to purchase the greater part of the manor of Alvingham from John de Melsa, his father and mother, by paying off their debt of 871*2 marks to certain Jews. Their claim to two parts of the church of St. Andrew, Market Stainton, involved them in a struggle with \u001b[92mRobert Grosteste\u001b[0m, bishop of Lincoln, in the reign of \u001b[91mHenry III\u001b[0m. \u001b[94mHe\u001b[0m revoked the appropriation made by his predecessor, but in 1245 the priory's appeal to Pope Innocent IV was finally successful.\n\nRe-elected in the 2007 election, she was re-named the Minister of International Relations, La Francophonie and for the Estrie Region as well as the Vice-Chair of the Treasury Board. Following her 2008 re-election, \u001b[92mGagnon-Tremblay\u001b[0m gave up for portfolio of International Relations to Pierre Arcand but was given the position of President of the Treasury Board previously occupied by \u001b[91mMonique Jerome-Forget\u001b[0m who was also responsible for the portfolio of finances. \u001b[94mShe\u001b[0m was given Jerome-Forget's government administration portfolio duties until 2010.\n\nRoman Steinberg (April 5, 1900 -- April 16, 1928) from Tallinn, Estonia, was a Greco-Roman wrestling bronze medal winner in middleweight class at the 1924 Summer Olympics in Paris, France. \u001b[92mSteinberg\u001b[0m was also three times Estonian wrestling champion 1921-1923, coached by \u001b[91mRobert Oksa\u001b[0m. \u001b[94mHe\u001b[0m died during illness, age 28.\n\nWilliam Henry Goss (30 July 1833 London - 4 January 1906 Stoke upon Trent) was an English potter notable for having started the souvenir trade in pottery. Born in London to \u001b[91mRichard Goss\u001b[0m and Sophia Mann, \u001b[92mWilliam\u001b[0m was a student at the School of Design at Somerset House in London, from where in 1857 \u001b[94mhe\u001b[0m was employed as chief artist of the Stoke upon Trent firm of William Taylor Copeland.\n\nA prodigious ball-winner and noted passer of the ball, John reached (but lost) the FA Cup Final with Arsenal in 1926-27, after a mistake by his compatriot and close friend Dan Lewis; it was John who consoled Lewis after the final whistle, assuring him he would get another chance to a win a medal (although Lewis never did). \u001b[92mJohn\u001b[0m remained in the Arsenal side through the first half of the 1930s, despite competition from the likes of \u001b[91mCharlie Jones\u001b[0m. \u001b[94mHe\u001b[0m finally won some silverware with an FA Cup win in 1929-30, followed by three First Division titles, in 1930-31, 1932-33 and 1933-34.\n\nOn 2 December 1781, the ship, now commanded by Captain Henry Cromwell and bearing the flag of Rear Admiral Richard Kempenfelt, sailed with eleven other ships of the line, a 50-gun fourth-rate, and five frigates, to intercept a French convoy that had sailed from Brest on 10 December. Not knowing that the convoy was protected by twenty-one ships of the line under the command of \u001b[91mLuc Urbain de Bouexic, comte de Guichen\u001b[0m, \u001b[92mKempenfelt\u001b[0m ordered a chase when they were sighted on 12 December and began the battle. When \u001b[94mhe\u001b[0m noted the French superiority, he contented himself with capturing fifteen sail of the convoy.\n\nHe had eleven siblings, and his father, Primitivo, fought against Pancho Villa in 1916 and was granted immunity to enter the United States. While playing football at UCLA, he was known as the ``Calexico Kid.'' \u001b[92mVillanueva\u001b[0m played halfback for coach \u001b[91mRed Sanders\u001b[0m at UCLA from 1952-1954. \u001b[94mHe\u001b[0m was a member of the Bruins team that won the 1954 Rose Bowl and was named that year's FWAA & UPI National Champions.\n\nIt will find nourishment in every prison camp and in every family when it discovers the ultimate reason for the sacrifices it has to make. And the hour will come when the most evil universal enemy of all time will be finished, as least for a thousand years. During the war, \u001b[92mGoebbels\u001b[0m often published articles which included \u001b[91mHitler\u001b[0m's prophecy of 1939, in 1943 \u001b[94mhe\u001b[0m published an article entitled ``The War and the Jews'' which stated:\n\n"
     ]
    }
   ],
   "source": [
    "print_sents(datas={'manual':True, 'data':subject_data}, num_lines = 10)"
   ]
  },
  {
   "cell_type": "code",
   "execution_count": 29,
   "metadata": {},
   "outputs": [
    {
     "output_type": "execute_result",
     "data": {
      "text/plain": [
       "ID                                                  development-509\n",
       "Text              At his trial Jonah Anguka had based his defenc...\n",
       "Pronoun                                                          he\n",
       "Pronoun-offset                                                  583\n",
       "A                                                             Cohen\n",
       "A-offset                                                        479\n",
       "A-coref                                                       False\n",
       "B                                                            Anguka\n",
       "B-offset                                                        510\n",
       "B-coref                                                        True\n",
       "URL                       http://en.wikipedia.org/wiki/Jonah_Anguka\n",
       "Name: 508, dtype: object"
      ]
     },
     "metadata": {},
     "execution_count": 29
    }
   ],
   "source": [
    "subject_data.iloc[204]"
   ]
  },
  {
   "cell_type": "code",
   "execution_count": 30,
   "metadata": {},
   "outputs": [
    {
     "output_type": "stream",
     "name": "stdout",
     "text": [
      "By the 1970s Bergman had already received two Academy Awards from five nominations, but went on to be nominated twice more, winning for a third time, this time in the category of Best Supporting Actress, for 1974's Murder on the Orient Express, based on the Agatha Christie novel of the same name, for which she also received her first and only BAFTA.\n[('Watkins', 'NNS'), ('was', 'VBD'), ('a', 'DT'), ('close', 'JJ'), ('friend', 'NN'), ('of', 'IN'), ('Hess', 'NNP'), (\"'\", 'POS'), ('first', 'JJ'), ('wife', 'NN'), (',', ','), ('Katherine', 'NNP'), ('Hawley', 'NNP'), ('.', '.'), ('She', 'PRP'), ('was', 'VBD'), ('one', 'CD'), ('of', 'IN'), ('the', 'DT'), ('first', 'JJ'), ('to', 'TO'), ('send', 'VB'), ('sympathy', 'NN'), ('when', 'WRB'), ('Hawley', 'NNP'), ('was', 'VBD'), ('thrown', 'VBN'), ('from', 'IN'), ('a', 'DT'), ('horse', 'NN'), ('and', 'CC'), ('killed', 'VBN'), ('.', '.'), ('Watkins', 'NNS'), ('and', 'CC'), ('Hess', 'NNP'), ('had', 'VBD'), ('a', 'DT'), ('son', 'NN'), (',', ','), ('Adam', 'NNP'), ('Hess', 'NNP'), (',', ','), ('who', 'WP'), ('was', 'VBD'), ('an', 'DT'), ('attorney', 'NN'), ('and', 'CC'), ('secretary', 'NN'), ('for', 'IN'), ('the', 'DT'), ('Aetna', 'NNP'), ('until', 'IN'), ('his', 'PRP$'), ('death', 'NN'), ('in', 'IN'), ('1969', 'CD'), (';', ':'), ('he', 'PRP'), ('left', 'VBD'), ('three', 'CD'), ('daughters', 'NNS'), (',', ','), ('Elizabeth', 'NNP'), (',', ','), ('Faye', 'NNP'), (',', ','), ('and', 'CC'), ('Emily', 'RB'), (',', ','), ('the', 'DT'), ('only', 'JJ'), ('grandchildren', 'NN'), ('of', 'IN'), ('Watkins', 'NNP'), ('.', '.'), ('Watkins', 'NNS'), ('obtained', 'VBD'), ('her', 'PRP$'), ('release', 'NN'), ('from', 'IN'), ('Fox', 'NNP'), ('prior', 'RB'), ('to', 'TO'), ('her', 'PRP$'), ('marriage', 'NN'), ('.', '.')]\n"
     ]
    }
   ],
   "source": [
    "print(subject_data.iloc[203]['Text'])\n",
    "words, tagged_words, word_index = tokenized_word_sets(row)\n",
    "print(tagged_words)"
   ]
  },
  {
   "cell_type": "code",
   "execution_count": 50,
   "metadata": {},
   "outputs": [],
   "source": [
    "def word_subject(row):\n",
    "    raw = row['Text']\n",
    "    words, tagged_words, word_index = tokenized_word_sets(row)\n",
    "\n",
    "    A_id = row['A-offset']\n",
    "    B_id = row['B-offset']\n",
    "\n",
    "    def next_word(word):\n",
    "\n",
    "        tokens = len(row[word].split())\n",
    "        id = row[word+'-offset']\n",
    "        index = word_index[id] + tokens\n",
    "\n",
    "        if tagged_words[index] == ('(', '('):\n",
    "            close = tagged_words[index:].index((')', ')'))\n",
    "            if index + close + 1 >= len(tagged_words):\n",
    "                return tagged_words[index]\n",
    "            return tagged_words[index + close + 1]\n",
    "        \n",
    "        return tagged_words[index]\n",
    "\n",
    "    if next_word('A')[1].startswith('V'):\n",
    "        if next_word('B')[1].startswith('V'):\n",
    "            return (True, True)\n",
    "        else:\n",
    "            return (True, False)\n",
    "    else:\n",
    "        if next_word('B')[1].startswith('V'):\n",
    "            return (False, True)\n",
    "        else:\n",
    "            return (False, False)\n",
    "\n",
    "def only_subject(row):\n",
    "    return sum(word_subject(row))%2 == 1"
   ]
  },
  {
   "cell_type": "code",
   "execution_count": 51,
   "metadata": {
    "tags": []
   },
   "outputs": [
    {
     "output_type": "execute_result",
     "data": {
      "text/plain": [
       "462"
      ]
     },
     "metadata": {},
     "execution_count": 51
    }
   ],
   "source": [
    "only_subject_data = subject_data.apply(only_subject, axis=1)\n",
    "only_subject_data = subject_data[only_subject_data]\n",
    "len(only_subject_data)"
   ]
  },
  {
   "cell_type": "code",
   "execution_count": 52,
   "metadata": {},
   "outputs": [
    {
     "output_type": "stream",
     "name": "stderr",
     "text": [
      "<ipython-input-52-146d5bf28ab4>:1: SettingWithCopyWarning: \n",
      "A value is trying to be set on a copy of a slice from a DataFrame.\n",
      "Try using .loc[row_indexer,col_indexer] = value instead\n",
      "\n",
      "See the caveats in the documentation: https://pandas.pydata.org/pandas-docs/stable/user_guide/indexing.html#returning-a-view-versus-a-copy\n",
      "  only_subject_data['A-pred'] = only_subject_data.apply(lambda row: word_subject(row)[0], axis=1)\n",
      "<ipython-input-52-146d5bf28ab4>:2: SettingWithCopyWarning: \n",
      "A value is trying to be set on a copy of a slice from a DataFrame.\n",
      "Try using .loc[row_indexer,col_indexer] = value instead\n",
      "\n",
      "See the caveats in the documentation: https://pandas.pydata.org/pandas-docs/stable/user_guide/indexing.html#returning-a-view-versus-a-copy\n",
      "  only_subject_data['B-pred'] = only_subject_data.apply(lambda row: word_subject(row)[1], axis=1)\n"
     ]
    }
   ],
   "source": [
    "only_subject_data['A-pred'] = only_subject_data.apply(lambda row: word_subject(row)[0], axis=1)\n",
    "only_subject_data['B-pred'] = only_subject_data.apply(lambda row: word_subject(row)[1], axis=1)"
   ]
  },
  {
   "cell_type": "code",
   "execution_count": 53,
   "metadata": {},
   "outputs": [
    {
     "output_type": "execute_result",
     "data": {
      "text/plain": [
       "0.8246753246753247"
      ]
     },
     "metadata": {},
     "execution_count": 53
    }
   ],
   "source": [
    "accuracy(only_subject_data)"
   ]
  },
  {
   "source": [
    "### * And when both words are subject"
   ],
   "cell_type": "markdown",
   "metadata": {}
  },
  {
   "cell_type": "code",
   "execution_count": 54,
   "metadata": {},
   "outputs": [],
   "source": [
    "def both_subject(row):\n",
    "    return word_subject(row) == (True, True)"
   ]
  },
  {
   "cell_type": "code",
   "execution_count": 55,
   "metadata": {},
   "outputs": [
    {
     "output_type": "execute_result",
     "data": {
      "text/plain": [
       "54"
      ]
     },
     "metadata": {},
     "execution_count": 55
    }
   ],
   "source": [
    "both_subject_data = subject_data.apply(both_subject, axis=1)\n",
    "both_subject_data = subject_data[both_subject_data]\n",
    "len(both_subject_data)"
   ]
  },
  {
   "cell_type": "code",
   "execution_count": 56,
   "metadata": {
    "tags": []
   },
   "outputs": [
    {
     "output_type": "stream",
     "name": "stdout",
     "text": [
      "After it becomes clear to her that Judah will not end his marriage, Dolores threatens to disclose the affair to Judah's wife, Miriam (Claire Bloom). Dolores's letter to \u001b[91mMiriam\u001b[0m is intercepted and destroyed by Judah, but \u001b[92mDolores\u001b[0m sustains the pressure on him with threats of revelation. \u001b[94mShe\u001b[0m is also aware of some questionable financial deals Judah has made, which adds to his stress.\n\nThe two reconcile after that, but a Negative Zone creature attacks them. They manage to defeat the creature, but Lyja passes out from her injuries. A bit later, when the ``new'' Fantastic Four fly off to the prison, Franklin and \u001b[91mValeria\u001b[0m are grabbed by Negative Zone creatures, but \u001b[92mLyja\u001b[0m saves them. \u001b[94mShe\u001b[0m tells Johnny that she was working in a book store when a Skrull approached her, telling her to join them.\n\nHe came back every year to Le Mans, fourteen times in total, where he won in 1968 with Belgian driver Lucien Bianchi in a Ford GT40 of the Wyer -- Gulf team. In 1962, \u001b[91mRicardo\u001b[0m died in a horrific accident while practicing for the Mexican Grand Prix, and \u001b[92mPedro\u001b[0m considered retiring from racing. However, in 1963 \u001b[94mhe\u001b[0m won at Daytona International Speedway and took part in his first Grand Prix for Lotus in the USA and Mexico.\n\nGooden claimed that an enraged Mitchell held him hostage during the alleged cat incident. Mitchell responded to Gooden's accusations by accusing Gooden of fabricating the stories in an attempt to divert attention away from Gooden's personal problems. In the famous tenth inning of Game 6 of the 1986 World Series, after Wally Backman and \u001b[91mKeith Hernandez\u001b[0m had been retired for the first two outs, \u001b[92mMitchell\u001b[0m went to the clubhouse to make plane reservations for home in San Diego. However, \u001b[94mhe\u001b[0m was called to pinch hit for reliever Rick Aguilera after Gary Carter, the next hitter after Hernandez, singled.\n\nAfter the team celebrates their apparent victory, she stalks them in their hotel, and they do not recognize her. Arden, who is upset at being single, walks into his room to find Sil waiting there. She has intercourse with Arden, then kills him when he realizes who she is. \u001b[92mDan\u001b[0m senses that \u001b[91mSil\u001b[0m is in the hotel and \u001b[94mhe\u001b[0m alerts Preston, Laura, and the rest of the team.\n\nAs Thomas tries to get the two engines' attention, several rocks fall, forming a barrier between him and the two engines. Suddenly, James sees a dinosaur skull, which he believes to be the head of a monster. Frightened, he tries to reverse, but gets stuck. Percy urges James to go forward, and after \u001b[91mJames\u001b[0m is hesitant to do so, \u001b[92mPercy\u001b[0m decides that \u001b[94mhe\u001b[0m must be brave as he buffers up to James to get him to safety.\n\nHe hosted the William B. Williams Show in the morning hours, and Music in a Sentimental Mood in the afternoon from 1:00 to 2:00 p.m. In 1954, the originator of the Make Believe Ballroom program in New York, Martin Block, left WNEW for a new job at ABC Radio. \u001b[91mJerry Marshall\u001b[0m took over the show for three years, after which \u001b[92mWilliams\u001b[0m was tapped to host the program. \u001b[94mHe\u001b[0m marked the broadcast as his own, using the distinctive sign-on, ``Hello, world'', and occasionally identifying himself as ``Guilliermo B. Guilliermos'' or ``Wolfgang B. Wolfgang,'' although to listeners and friends he was known simply as ``Willie B.''\n\nGwen remains monogamous during the second series and ``fights every day to be with (Rhys)'' even though Jack remains ``a huge temptation''. Her suspension between Jack and Rhys becomes a central theme; \u001b[92mValerie Frankel\u001b[0m believes that \u001b[91mGwen\u001b[0m is caught between ``Rhys, the sweet, kind handsome prince, and Jack, the compelling trickster''. \u001b[94mShe\u001b[0m suggests that Jack is not mature enough to occupy the role of ``steady prince'' for Gwen.\n\nIllinois' Governor Pat Quinn, reacting to public outrage, signed House Bill 4021 into law in August 2009 addressing many of the legal issues that grew out of the contaminated water scandal in Crestwood. WLS TV's \u001b[91mPaul Miencke\u001b[0m reported on August 23, 2009 ``Gov. \u001b[92mPat Quinn\u001b[0m signed a bill Sunday that \u001b[94mhe\u001b[0m says will help ensure Illinois citizens have safe, clean drinking water.\n\nPorter worked to raise the standards of the US Navy in the position of superintendent of the Naval Academy when it was restored to Annapolis. He initiated reforms in the curriculum to increase professionalism. In the early days of President Grant's administration, Porter was de facto Secretary of the Navy. When his adoptive brother David G. Farragut was advanced from rank of vice-admiral to admiral, Porter took his previous position; likewise, when \u001b[91mFarragut\u001b[0m retired, \u001b[92mPorter\u001b[0m became the second man to hold the newly created rank of admiral. \u001b[94mHe\u001b[0m gathered a corps of like-minded officers devoted to naval reform.\n\nIn 1977, Ellis came out of retirement to play for Canada at the world hockey championships and then decided to resume his NHL career with the Leafs in 1977--78. \u001b[91mPunch Imlach\u001b[0m was hired to run the Leafs for the 1979--80 season and didn't feel that \u001b[92mEllis\u001b[0m was worth the money \u001b[94mhe\u001b[0m was being paid.\n\n``Kruse was having an incredibly difficult time simply trying to dress himself. He put his climbing harness on inside out, threaded it through the fly of his wind suit, and failed to fasten the buckle; fortunately, Fisher and Neal Beidleman noticed the screwup before Kruse started to descend. ``If he'd tried to rappel down the ropes like that,'' says Beidleman, ``he would have immediately popped out of his harness and fallen to the bottom of the Lhotse Face.`` ``''It was like I was very drunk,`` Kruse recollects. ''I couldn't walk without stumbling, and completely lost the ability to think or speak. It was a really strange feeling. I'd have some word in my mind, but I couldn't figure out how to bring it to my lips. So Scott and Neal had to get me dressed and make sure my harness was on correctly, then \u001b[91mScott\u001b[0m lowered me down the fixed ropes.`` By the time \u001b[92mKruse\u001b[0m arrived in Base Camp, \u001b[94mhe\u001b[0m says, ''it was still another three or four days before I could walk from my tent to the mess tent without stumbling all over the place.``''\n\nThe scene was first intended for the season's twenty-second episode, ``Women's Appreciation'', before it was moved to ``Product Recall'' due to time constraints. The third season DVD contains several scenes that were deleted from the final cut of the episode. These include Kelly annoyingly answering calls with the same response, \u001b[91mDwight\u001b[0m contacting CNN, Kelly training the accountants, \u001b[92mCreed\u001b[0m admitting that \u001b[94mhe\u001b[0m faked his own death for tax reasons, Michael explaining his apology to angry business owner Barbara Allen, Angela Martin (Angela Kinsey) and Kelly arguing, Jim talking to a high school student, and more scenes of Michael filming his apology video.\n\nSandra Collins is an American DJ. She got her start on the West Coast of the U.S. in Phoenix, Arizona and into residencies in Los Angeles, and eventually moved towards trance. She used American producers to give herself a unique sound. \u001b[92mCollins\u001b[0m performed for an estimated 80,000 people on the first night of Woodstock '99, and was the first female \u001b[91mDJ\u001b[0m featured in the Tranceport series of influential recordings. \u001b[94mShe\u001b[0m recently has released two CD mixes under Paul Oakenfold's Perfecto label.\n\nDuring this period, Heffron had lost over 100 pounds of weight. His gimmick was that of an arrogant stud who would insult the looks and weight of fans and other wrestlers, in an ironic twist. \u001b[92mHeffron\u001b[0m wrestled at Hardcore Homecoming against Tracy Smothers in what commentator \u001b[91mJoey Styles\u001b[0m called a ``Comedy Match'', and also appeared with Raven during the Raven vs. Sandman Match. \u001b[94mHe\u001b[0m would also be used at WWE's ECW One Night Stand pay-per-view on June 12, 2005.\n\nA week later, Julia defeated World No. 3 Am*lie Mauresmo at the Qatar Telecom German Open in Berlin 2--6, 6--1, 6--2 (her career best) and then defeated Dinara Safina 6--3, 5--7, 6--3 to earn a spot in the semifinals against Ana Ivanovi*. On August 28, 2007, in the first round of the US Open, \u001b[92mJulia\u001b[0m defeated number nine seed \u001b[91mDaniela Hantuchov*\u001b[0m 6--4, 3--6, 6--1. \u001b[94mShe\u001b[0m eventually reached the fourth round, her best performance at a major yet, before falling to *gnes Sz*vay.\n\nAt the 2008 Tour de Romandie, Cavendish won the prologue time-trial, beating compatriot Bradley Wiggins and emphasising his short-distance time-trial abilities. Cavendish's 2009 season began at the 2009 Tour of Qatar, where he renewed his rivalry with Tom Boonen. \u001b[91mBoonen\u001b[0m won the race and one stage, though \u001b[92mCavendish\u001b[0m took two stages; \u001b[94mhe\u001b[0m also won two stages at the 2009 Tour of California, again beating Boonen in the sprint finishes.\n\nRangers played a total of 52 competitive matches during the 1997--98 season. They went into the season in pursuit of a record tenth consecutive league title. The early season form of new signing \u001b[91mMarco Negri\u001b[0m gave the team fresh imputous but when the then manager \u001b[92mWalter Smith\u001b[0m announced that \u001b[94mhe\u001b[0m would leave the club at the end of the season the side's form dipped.\n\n\u001b[92mEve Brent\u001b[0m (September 11, 1929 -- August 27, 2011) was a \u001b[91mSaturn Award\u001b[0m -winning American actress. \u001b[94mShe\u001b[0m was often billed as Jean Lewis.\n\nTina Charles of TV Guide also welcomed the character back, and enjoyed how Ellen's initial reaction to Dean Winchester--hugging and then slapping him--was ``very much in character''. Regarding the character's death, \u001b[91mCharles\u001b[0m noted that ``when \u001b[92mEllen\u001b[0m went down in 'Abandon All Hope' like \u001b[94mshe\u001b[0m did, I felt it.\n\nEllen gets off on the wrong foot with her new neighbors, the Patels, an immigrant couple from India, when a variety of circumstances conspire to make Ellen look like a fool in front of them. After an accident, Spence imagines a parallel Earth in which gays are the norm. Spence rejects Joe's advances because he's straight. \u001b[92mEllen\u001b[0m goes to the hospital after getting the news \u001b[91mLaurie\u001b[0m was in an accident. There, \u001b[94mshe\u001b[0m meets Laurie's ex, Karen (Anne Heche).\n\nThey had three children: Timothy Boyle (born 1949); Kathy Boyle (born 1952); and Sally Boyle (born 1958). As of 2013, her son Tim is the CEO of Columbia; \u001b[91mKathy\u001b[0m is an artist and real estate saleswoman; and \u001b[92mSally\u001b[0m is the co-owner of Moonstruck Chocolates, an upscale chocolatier. In 2010, \u001b[94mshe\u001b[0m was tied up at gunpoint by an armed robber in her home in West Linn, Oregon.\n\nShe stated that she had arranged for her husband to get a better job and then she offered to take Mary Agnes to a nearby store and buy her some clothes and shoes. Eventually, Catherine gave her consent. Later, \u001b[91mCatherine\u001b[0m commented that \u001b[92mMary Agnes\u001b[0m sobbed and refused to go with the woman, but \u001b[94mshe\u001b[0m was taken anyway.\n\n``Constantius gave over to his most inveterate enemies, his own cousin, the Caesar, his sister's husband, the father of his niece, the man whose own sister he had himself married in earlier days''. Gallus was a son of Julius Constantius and his first wife Galla. She is assumed to be a full sister of Gallus. \u001b[92mJulius Constantius\u001b[0m was a son of Constantius Chlorus and Flavia Maximiana Theodora. \u001b[94mHe\u001b[0m was a paternal half-brother of Constantine I. In 337, \u001b[91mConstantine I\u001b[0m died.\n\nAs of June 2014 she has played 136 domestic limited-overs matches including 82 Women's National Cricket League games for the New South Wales Breakers. Blackwell along with \u001b[92mKaren Rolton\u001b[0m holds the record for the highest 4th wicket runstand in WT20I history(sharing 147*) When asked about the frequent comparisons in the Australian media of the \u001b[91mBlackwell\u001b[0m twins to male cricketers, \u001b[94mshe\u001b[0m said, ``We look up to them a lot, but female cricketers should be recognized for themselves, not as the equivalent of Mark Waugh or Steve Waugh or Matthew Hayden or anybody.''\n\nRod Gilmore, the game's analyst, described Jackson's prospects for the 2014 NFL Draft as follows: ``Gabe Jackson will be playing on Sundays, guaranteed. The only question is how high he goes in the NFL Draft.'' \u001b[91mChris Low\u001b[0m commented, ``The top guard in the SEC going into the season, the 6-foot-4, 335-pound \u001b[92mJackson\u001b[0m is a true road-grader. \u001b[94mHe\u001b[0m combines size, power and strength and has been a fixture at left guard for the Bulldogs since his redshirt freshman season.''\n\nAlice went to live with Nick's sister Kathy, who desperatley tried to contact Elsa but was shocked to discover she'd moved to Australia without telling anyone. Relising \u001b[94mshe\u001b[0m was all \u001b[91mAlice\u001b[0m had left and just how selfish and uncaring \u001b[91mElsa\u001b[0m was, Kathy took custody of Alice.\n\nNicholas Rogers as Tarabas role also caused problems, as has declared during his audition that he was able to ride horses but as soon as the shooting began, he could not even mount a horse. It was then soon realized he was also not good at acting; \u001b[91mBava\u001b[0m said that for the scene where \u001b[92mRogers\u001b[0m has to say ``I love you'', they had to make three shots and then combine them later. \u001b[94mHe\u001b[0m also injured himself on the set and had to be taken to hospital while still wearing his costume.\n\nAll of this attention is hurting Elsie's feelings. Eddie resolves the dilemma by sticking by Elsie which shows to Tom that he is learning responsibility. He understands from Mrs. Livingston's haiku that \u001b[91mMargaret\u001b[0m is unattainable while \u001b[91mElsie\u001b[0m is ``touchable''. ``It's really love if \u001b[94mshe\u001b[0m doesn't have real long brown hair or anything 'cept you still think she's real neat.''\n\nChristine eventually got out of the street when she was promoted at Miami Modes and butted heads with Elsie and Dot, who didn't like the way she used her newfound authority. Christine was transferred, and moved out of Weatherfield for good. Christine sent a telegram to congratulate Elsie and Steve Tanner on their wedding day in 1967. In 1984, \u001b[91mElsie Tanner\u001b[0m informed Ken Barlow that \u001b[92mChristine\u001b[0m had died of liver failure after becoming an alcoholic in the late 1970s. \u001b[94mShe\u001b[0m has never been mentioned again.\n\n"
     ]
    }
   ],
   "source": [
    "print_sents(datas={'manual':True, 'data':both_subject_data}, num_lines = 30)"
   ]
  },
  {
   "source": [
    "Assume when both words are subject, closer word is True, the other is False\n",
    "--> accuracy = 22/30 = 73.3%"
   ],
   "cell_type": "markdown",
   "metadata": {}
  },
  {
   "source": [
    "### * And when both words are not subject"
   ],
   "cell_type": "markdown",
   "metadata": {}
  },
  {
   "cell_type": "code",
   "execution_count": 57,
   "metadata": {},
   "outputs": [],
   "source": [
    "def none_subject(row):\n",
    "    return word_subject(row) == (False, False)"
   ]
  },
  {
   "cell_type": "code",
   "execution_count": 58,
   "metadata": {},
   "outputs": [
    {
     "output_type": "execute_result",
     "data": {
      "text/plain": [
       "285"
      ]
     },
     "metadata": {},
     "execution_count": 58
    }
   ],
   "source": [
    "none_subject_data = subject_data.apply(none_subject, axis=1)\n",
    "none_subject_data = subject_data[none_subject_data]\n",
    "len(none_subject_data)"
   ]
  },
  {
   "cell_type": "code",
   "execution_count": 59,
   "metadata": {},
   "outputs": [
    {
     "output_type": "stream",
     "name": "stdout",
     "text": [
      "Lapid's spy-themed literature is especially popular in Israel. She is the creator of the character \u001b[91mLizzy Bdihi\u001b[0m, who is featured in six of \u001b[92mLapid\u001b[0m's thriller novels. Bdihi is a journalist at a Beersheba Local Newspaper called Hazman Darom (literally ``The Southern Times''), and in each book \u001b[94mshe\u001b[0m stubbornly insists on dealing with a detective mystery no one asked her to solve.\n\nShe hosted Lancaster, California radio station KVVS's show, Maximum Rotation. She has performed all over the world, including, Detroit, Michigan, Cambridge, Singapore, Calgary, Hollywood, Montreal, and Omaha. She has been compared to \u001b[91mKylie Minogue\u001b[0m and \u001b[91mDeborah Harry\u001b[0m. \u001b[94mShe\u001b[0m's also been called Om Records' First Lady of House.\n\nThrosby's third album, ``A Loud Call'', was recorded in Nashville by Mark Nevers (Lambchop, Andrew Bird) with string and horn arrangements recorded in the Kangaroo Valley, NSW, by Dupe. Featuring guest vocals by Will Oldham a.k.a. \u001b[91mBonnie 'Prince' Billy\u001b[0m and guest musicians fromLambchop and Silver Jews, ``A Loud Call'' was hailed by the Australian and the British press as \u001b[92mThrosby\u001b[0m's strongest work. On 10 September \u001b[94mshe\u001b[0m was nominated for the second time for ARIA Award's ``Best Female Artist''.\n\n^ Oxford English Dictionary, 2nd ed., character, n., 19. ^ \u001b[92mSusan King\u001b[0m, May 28, 2010, Los Angeles Times, Hats off to the Wicked Witch of the West and \u001b[91mMargaret Hamilton\u001b[0m, Retrieved September 2, 2015, ``...became one of Hollywood's most dependable supporting actresses playing, as \u001b[94mshe\u001b[0m once described, ``women with a heart of gold and a corset of steel.''\n\nThe film was on the ``Best Films'' list of over 20 national critics and was nominated for a Spirit Award for Best Screenplay by Savoca and Guay. Savoca cast many favorite New York City actors for the film which was shot in DeLaurentis/Carolco (now EUE Screen Gems) Studios in Wilmington, North Carolina. The film reunited \u001b[92mLili Taylor\u001b[0m with \u001b[91mSavoca\u001b[0m, with whom \u001b[94mshe\u001b[0m'd previously worked on Dogfight, and Vincent D'Onofrio, with whom she'd appeared in 1988's Mystic Pizza.\n\nChen, who comes from the city of Xiangtan in Hunan, played on the WTA Tour in the 1990s and won one title, the doubles at the 1994 China Open, with Li Fang as her partner. In 1996 she was runner-up in the women's singles at the 1996 Nokia Open in Beijing. En route to the final, which she lost to Wang Shi-ting, she accounted for three seeded players, \u001b[91mFrancesca Lubiani\u001b[0m, Yayuk Basuki and \u001b[91mSandrine Testud\u001b[0m. \u001b[94mShe\u001b[0m competed as a wildcard at the 1997 Australian Open and was beaten in the first round by Natalia Medvedeva.\n\nHarriet Candace ``Rose'' Clark was born in 1852 in La Port, Indiana. She was trained as a painter and taught painting and drawing in the 1880s at Saint Margaret's School in Buffalo, New York. One of her students was Mabel Dodge Luhan, and \u001b[92mClark\u001b[0m later designed and restored \u001b[91mLuhan\u001b[0m's villa in Florence, Italy. Beginning in 1890 \u001b[94mshe\u001b[0m became active as a photographer and worked independently until 1898.\n\nVybz Kartel started his career as a teenager in 1993 with his first recording ``Love Fat Woman'', released on Alvin Reid's label ``One Heart'', using the moniker ``Adi Banton'', as homage to Buju Banton. Palmer was later part of the three-member group ``\u001b[91mVybz Cartel\u001b[0m'', keeping the name after the group split up, and became a protege of \u001b[91mBounty Killer\u001b[0m, for whom \u001b[94mhe\u001b[0m claims to have written nearly 30 songs, including ``Gal Clown''.\n\nHe was the nephew of literary critic Korehito Kurahara, and older brother of film director Koretsugu Kurahara. His son \u001b[92mJun Iwasaki\u001b[0m, a former producer for Ishihara International Productions Inc., is currently secretary to politician \u001b[91mNobuteru Ishihara\u001b[0m. While a film student at Nihon University College of Art, \u001b[94mhe\u001b[0m became a live-in student of Kajiro Yamamoto at the introduction of Ishir* Honda.\n\nHe was promoted to major on 14 August 1790, and to lieutenant-colonel on 9 December 1793. On 4 July 1785 at Barnes in Surrey, he married \u001b[92mHenrietta Anne Hoare\u001b[0m, a daughter of Sir Richard Hoare, 1st Baronet of Barn Elms, a partner in the City of London banking firm C. Hoare & Co, and \u001b[91mFrances Anne Acland\u001b[0m. \u001b[94mShe\u001b[0m survived him and in 1795 remarried to Captain the Hon. Matthew Fortescue (1754--1842), Royal Navy, younger brother of Hugh Fortescue, 1st Earl Fortescue of Castle Hill, Filleigh, Devon.\n\n"
     ]
    }
   ],
   "source": [
    "print_sents(datas={'manual':True, 'data':none_subject_data}, num_lines = 10)"
   ]
  },
  {
   "source": [
    "## 5. When the pronoun is object/possessive pronoun\n",
    "\n",
    "### * And when all words are in different sentence with the pronoun"
   ],
   "cell_type": "markdown",
   "metadata": {}
  },
  {
   "cell_type": "code",
   "execution_count": 60,
   "metadata": {},
   "outputs": [],
   "source": [
    "def different_sents(row):\n",
    "    raw = row['Text']\n",
    "    words, tagged_words, word_index = tokenized_word_sets(row)\n",
    "\n",
    "    dots = [i for i, w in enumerate(words) if w == '.']\n",
    "\n",
    "    pro_id = word_index[row['Pronoun-offset']]\n",
    "    A_id = word_index[row['A-offset']]\n",
    "    B_id = word_index[row['B-offset']]\n",
    "\n",
    "    def between(id1, id2):\n",
    "        if id1 > id2:\n",
    "            id1, id2 = id2, id1\n",
    "        dots = [i for i, w in enumerate(words[id1:id2]) if w == '.']\n",
    "        if len(dots) > 0:\n",
    "            return True\n",
    "        else:\n",
    "            return False\n",
    "\n",
    "    return (between(pro_id, A_id), between(pro_id, B_id))\n",
    "\n",
    "def both_different_sents(row):\n",
    "    return different_sents(row) == (True, True)\n",
    "    "
   ]
  },
  {
   "cell_type": "code",
   "execution_count": 63,
   "metadata": {},
   "outputs": [
    {
     "output_type": "execute_result",
     "data": {
      "text/plain": [
       "205"
      ]
     },
     "metadata": {},
     "execution_count": 63
    }
   ],
   "source": [
    "both_different = other_data.apply(both_different_sents, axis=1)\n",
    "both_different = other_data[both_different]\n",
    "len(both_different)"
   ]
  },
  {
   "cell_type": "code",
   "execution_count": 64,
   "metadata": {},
   "outputs": [
    {
     "output_type": "stream",
     "name": "stdout",
     "text": [
      "Louisa Yeomans was born on 17 October 1863 in Washington, New Jersey, the third of five children of Alfred and \u001b[91mElizabeth Blythe\u001b[0m (Ramsay) \u001b[91mYeomans\u001b[0m. \u001b[94mHer\u001b[0m father was a Presbyterian minister.\n\nShe played as one of the children of Carding (played by Ronald Corveau) and Luisa (played by Marianne dela Riva) of Gulong Ng Palad on television. She became a famous child star of the '80s along with Lady Lee, RR Herrera, Chuckie Dreyfus, Jaypee de Guzman, \u001b[91mRose Ann Gonzales\u001b[0m, Glaiza Herradura, Matet de Leon, and \u001b[91mAiza Seguerra\u001b[0m, among others. \u001b[94mHer\u001b[0m other projects were Barbi: Maid In The Philippines (1989) with Joey de Leon and Petrang Kabayo And Pilyang Kuting (1990) with Roderick Paulate, among others.\n\nHe became head of the Department of Anthropology at Mexico City College, which position he held at the time of his passing on January 2, 1951. According to fellow anthropologist \u001b[91mCharles E. Dibble\u001b[0m, ``In the brief span of a decade, \u001b[92mBarlow\u001b[0m gave Middle American research an impetus and perspective of enduring consequence. \u001b[94mHis\u001b[0m contributions in Mexican archaeology, classical and modern Nahuatl, Mexican colonial history, and what he preferred to call ''Bilderhandschriften`` are of lasting importance.''\n\nOn 30 July 1966, Ramsey's promise was fulfilled as England became the World Champions by beating West Germany in a thrilling final. A lot of Ramsey's tactics and decisions proved their worth in this final. Ramsey came under pressure to restore the fit-again Jimmy Greaves to the side: but he stuck to his guns and kept faith with \u001b[91mGreaves\u001b[0m's replacement, Geoff Hurst, who vindicated \u001b[92mRamsey\u001b[0m's judgement by scoring a hat-trick in a 4--2 win (after extra time) at Wembley. Filling \u001b[94mhis\u001b[0m side with a good balance of experience and youth proved vital when the gruelling final went to extra time.\n\nAsha Randall Asha Randall (born 6 April 1990) is an English synchronised swimmer who represented Great Britain in the team event at the 2012 London Olympics. \u001b[92mAsha\u001b[0m is the younger sister of synchronized swimmer \u001b[91mJenna Randall\u001b[0m. Since announcing \u001b[94mher\u001b[0m retirement in 2013 from the sport along with her sister and other member of the London 2012 team, Asha has been performing as part Aquabatix, a synchronized swimming act which featured on Britain's Got Talent.\n\nMales from the northern group, led by the alpha male \u001b[91mDarius\u001b[0m, start patrolling into the southerners' territory and then start to kill, with extreme cruelty, the rival males - one an old chimpanzee called Mr \u001b[91mJeb\u001b[0m, and the other Muffin, an adolescent. What she sees brings Hope herself into conflict with Mallabar, and threatens the very existence of Grosso Arvore research project and \u001b[94mhis\u001b[0m lifelong study of primates.\n\nHe is allied with the main Starfleet characters against the Maquis rebels in ``The Maquis'' and ``Defiant'' and against the Klingons when they invade Cardassia in ``The Way of the Warrior''. In the season 4 episode ``Indiscretion'', \u001b[91mKira Nerys\u001b[0m accompanies Gul Dukat on a search for a lost Cardassian starship, where it is revealed he is trying to track down and kill his illegitimate half-Bajoran daughter \u001b[92mTora Ziyal\u001b[0m. He ultimately resolves to take \u001b[94mher\u001b[0m home with him.\n\nIn 1955 she added two roles to her Met repertoire: Marguerite in Charles Gounod's Faust with Thomas Hayward in the title role and Zdenka in Arabella with Eleanor Steber in the title role. After a two year absence from the Met, \u001b[92mFenn\u001b[0m returned in April 1959 to portray Rosalinde in Die Fledermaus with Theodor Uppman as Eisenstein and \u001b[91mLaurel Hurley\u001b[0m as Adele. That role along with Mussetta became \u001b[94mher\u001b[0m bread and butter at the house.\n\nJohnny, enraged at being betrayed and deceived again by Lyja, broke things off with her again. However, still in love with Johnny, \u001b[92mLyja\u001b[0m stalked him while as a human, \u001b[91mLaura Green\u001b[0m. Johnny was initially interested in a fellow college student but when he realized nothing was going to materialize with \u001b[94mher\u001b[0m his focus shifted to Laura/Lyja.\n\nGovernor Bullock and his lieutenant governor, John Walsh, were sworn in on January 7, 2013. Bullock later appointed Walsh to become the new Senator from Montana to replace Max Baucus, who'd been appointed Ambassador to China. Bullock then appointed \u001b[92mAngela McLean\u001b[0m to replace \u001b[91mWalsh\u001b[0m as lieutenant governor. In November 2015, McLean announced \u001b[94mher\u001b[0m resignation as lieutenant governor, effective upon the appointment of her successor, in order to accept the position of director of American Indian and minority achievement in the office of the state commissioner of higher education.\n\n"
     ]
    }
   ],
   "source": [
    "print_sents(datas={'manual':True, 'data':both_different}, num_lines = 10)"
   ]
  },
  {
   "cell_type": "code",
   "execution_count": null,
   "metadata": {},
   "outputs": [],
   "source": []
  }
 ]
}