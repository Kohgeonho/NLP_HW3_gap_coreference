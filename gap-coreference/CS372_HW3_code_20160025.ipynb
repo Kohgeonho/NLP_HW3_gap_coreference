{
 "metadata": {
  "language_info": {
   "codemirror_mode": {
    "name": "ipython",
    "version": 3
   },
   "file_extension": ".py",
   "mimetype": "text/x-python",
   "name": "python",
   "nbconvert_exporter": "python",
   "pygments_lexer": "ipython3",
   "version": "3.8.5"
  },
  "orig_nbformat": 2,
  "kernelspec": {
   "name": "python385jvsc74a57bd08235b21b7e4ccb1a631c75a86bc50b1a38dfb6faace30e871c40999987116d9b",
   "display_name": "Python 3.8.5 64-bit ('base': conda)"
  },
  "metadata": {
   "interpreter": {
    "hash": "38e31c96aac6b52bfd92a03a517d6944ec75782017e4445807e0cb0d41655b05"
   }
  }
 },
 "nbformat": 4,
 "nbformat_minor": 2,
 "cells": [
  {
   "cell_type": "code",
   "execution_count": 3,
   "metadata": {},
   "outputs": [],
   "source": [
    "from helper import *\n",
    "from funcs import *"
   ]
  },
  {
   "cell_type": "code",
   "execution_count": 4,
   "metadata": {},
   "outputs": [],
   "source": [
    "import pandas as pd \n",
    "\n",
    "train_data = pd.read_csv('gap-development.tsv', sep='\\t')\n",
    "test_data  = pd.read_csv('gap-test.tsv', sep='\\t')"
   ]
  },
  {
   "source": [
    "**tf.tsv**\n",
    "\n",
    "always predict A-coref as True and B-coref as False"
   ],
   "cell_type": "markdown",
   "metadata": {}
  },
  {
   "cell_type": "code",
   "execution_count": 5,
   "metadata": {},
   "outputs": [],
   "source": [
    "f_test = open(\"gap-test.tsv\", \"r\")\n",
    "result = open(\"tf.tsv\", 'w')\n",
    "test_data = f_test.readlines()\n",
    "\n",
    "for line in test_data[1:]:\n",
    "    attrs = line.split('\\t')\n",
    "    result.write(\"\\t\".join([attrs[0]] + ['True', 'False']) + \"\\n\")\n",
    "\n",
    "f_test.close()\n",
    "result.close()"
   ]
  },
  {
   "cell_type": "code",
   "execution_count": 6,
   "metadata": {},
   "outputs": [
    {
     "output_type": "stream",
     "name": "stdout",
     "text": [
      "gap_scorer.py:126: DeprecationWarning: 'U' mode is deprecated\n",
      "  with open(filename, 'rU') as f:\n",
      "Overall recall: 51.8 precision: 45.9 f1: 48.7\n",
      "\t\ttp 918\tfp 1082\n",
      "\t\tfn 855\ttn 1145\n",
      "Masculine recall: 51.0 precision: 45.3 f1: 48.0\n",
      "\t\ttp 453\tfp 547\n",
      "\t\tfn 436\ttn 564\n",
      "Feminine recall: 52.6 precision: 46.5 f1: 49.4\n",
      "\t\ttp 465\tfp 535\n",
      "\t\tfn 419\ttn 581\n",
      "Bias (F/M): 1.03\n",
      "\n"
     ]
    }
   ],
   "source": [
    "!python gap_scorer.py --gold_ts=gap-test.tsv --system_tsv=tf.tsv"
   ]
  },
  {
   "source": [
    "**closer.tsv**\n",
    "\n",
    "Predict closer coreference to pronoun as True"
   ],
   "cell_type": "markdown",
   "metadata": {}
  },
  {
   "cell_type": "code",
   "execution_count": 7,
   "metadata": {
    "tags": []
   },
   "outputs": [],
   "source": [
    "f_test = open(\"gap-test.tsv\", \"r\")\n",
    "result = open(\"closer.tsv\", 'w')\n",
    "test_data = f_test.readlines()\n",
    "\n",
    "for line in test_data[1:]:\n",
    "    attrs = line.split('\\t')\n",
    "    tf = ['True', 'False']\n",
    "    if abs(int(attrs[3]) - int(attrs[5])) > abs(int(attrs[3]) - int(attrs[8])):\n",
    "        tf = ['False', 'True']\n",
    "\n",
    "    result.write(\"\\t\".join([attrs[0]] + tf) + \"\\n\")\n",
    "\n",
    "f_test.close()\n",
    "result.close()"
   ]
  },
  {
   "cell_type": "code",
   "execution_count": 8,
   "metadata": {},
   "outputs": [
    {
     "output_type": "stream",
     "name": "stdout",
     "text": [
      "gap_scorer.py:126: DeprecationWarning: 'U' mode is deprecated\n",
      "  with open(filename, 'rU') as f:\n",
      "Overall recall: 50.1 precision: 44.4 f1: 47.1\n",
      "\t\ttp 888\tfp 1112\n",
      "\t\tfn 885\ttn 1115\n",
      "Masculine recall: 51.6 precision: 45.9 f1: 48.6\n",
      "\t\ttp 459\tfp 541\n",
      "\t\tfn 430\ttn 570\n",
      "Feminine recall: 48.5 precision: 42.9 f1: 45.5\n",
      "\t\ttp 429\tfp 571\n",
      "\t\tfn 455\ttn 545\n",
      "Bias (F/M): 0.94\n",
      "\n"
     ]
    }
   ],
   "source": [
    "!python gap_scorer.py --gold_ts=gap-test.tsv --system_tsv=closer.tsv"
   ]
  },
  {
   "cell_type": "code",
   "execution_count": 9,
   "metadata": {
    "tags": []
   },
   "outputs": [
    {
     "output_type": "stream",
     "name": "stdout",
     "text": [
      "development-853 Landrieu was reelected largely on the basis of her 79,000-vote plurality in Orleans Parish. She polled roughly 42,000 votes ahead of Terrell statewide, defeating her 52% to 48%. In a debate with \u001b[91mLandrieu\u001b[0m in 2002, the senator lashed out at \u001b[92mTerrell\u001b[0m and told \u001b[94mher\u001b[0m the Senate race would be ``her last campaign'', but it was not.\n",
      "\n",
      "development-448 He inadvertently confronted a crowd of people gathered around a preacher, Nazir Ahmad Ali, who was to later become a pioneering missionary in Sierra Leone. Whilst Ali was preaching, a chief requested Salih to judge the message brought by \u001b[91mAli\u001b[0m. With the exception of two things, which ``held \u001b[94mhis\u001b[0m throat'', \u001b[92mSalih\u001b[0m found that the message coincided with the teachings of the Quran.\n",
      "\n",
      "development-1055 Five rooms from her Park Avenue apartment were installed in a memorial building after her death in 1960, bringing Webb's collection of works by Monet, Manet, and Degas to the museum grounds. A large pastel by \u001b[91mMary Cassatt\u001b[0m, showing a young \u001b[92mElectra Havemeyer\u001b[0m with \u001b[94mher\u001b[0m mother Louisine, enjoys a place of honor in the entry hall.\n",
      "\n",
      "development-886 In this episode, his character's last name is Peters (later Hale). With Becky going back to work, Jesse becomes ``Mr. Mom'', while also trying to pursue a record deal. Meanwhile, Danny deals with \u001b[91mVicki\u001b[0m leaving, and \u001b[91mStephanie\u001b[0m accidentally stains D.J's sweater, which \u001b[94mshe\u001b[0m had told her not to wear.\n",
      "\n",
      "development-778 Rosemary admits to Philip Martin (Ian Rawlings) that she feels guilty about not coming back sooner, but Philip tells her that Helen knew how much she loved her. On the eve of \u001b[91mHelen\u001b[0m's funeral, \u001b[92mRosemary\u001b[0m makes \u001b[94mher\u001b[0m peace with Debbie.\n",
      "\n",
      "development-1017 Pontianak Harum Sundal Malam, also known as Pontianak Scent of the Tuber Rose or Fragrant Night Vampire, is a 2004 Malaysian horror film directed and written by Shuhaimi Baba. Starring \u001b[91mMaya Karin\u001b[0m, the film is about a restless spirit (pontianak) \u001b[92mMeriam\u001b[0m who seeks revenge upon those who killed \u001b[94mher\u001b[0m.\n",
      "\n",
      "development-1755 Irina Pruidze (Georgian: ***** ******, born 1976 in Tbilisi, Georgia) is Secretary General of the Georgian Organization of the Scout Movement and the outgoing Regional Chair of the Eurasia Regional Scout Committee of the World Organization of the Scout Movement (WOSM). \u001b[92mPruidze\u001b[0m is the daughter of physicist Vazha Pruidze and chemist \u001b[91mAida Dzvelaia\u001b[0m. \u001b[94mShe\u001b[0m studied medicine at Tbilisi State Medical University and psychology at Tbilisi Institute of Anthropology and Political Science.\n",
      "\n",
      "development-896 In a November 1994 special election, early favorite Gregory-Scocchi was defeated by Barbara Buono, after disclosures that a temporary employment firm owned by Gregory-Scocchi had hired illegal immigrants. \u001b[91mDerman\u001b[0m become \u001b[92mWhitman\u001b[0m's chief counsel in May 1996 and became \u001b[94mher\u001b[0m chief of staff a few weeks later when Peter Verniero was named as New Jersey Attorney General as part of a series of changes made after the resignation of New Jersey Supreme Court Chief Justice Robert Wilentz.\n",
      "\n",
      "development-1809 Her unusual appearance was also put memorable use in two off-beat television series, each featuring odd characters in quirky scenarios: the HBO series Dream On (1990) and David Lynch 's short-lived On the Air (1992), which was cancelled after only three episodes. Like Cry-Baby, the latter series was set in the 1950s; \u001b[92mMcGuire\u001b[0m played the role of \u001b[91mNicole Thorne\u001b[0m, a ``shrewish publicist'' to a television executive. Notwithstanding the quirkiness of the series, \u001b[94mshe\u001b[0m grasped the opportunity to break away from her Hatchetface image.\n",
      "\n",
      "development-677 After juniors, MacPhee remained on Birt's team, and would play second once again. The team won the provincial women's title in 2003 and would lose in the semi-final at the 2003 Scott Tournament of Hearts. \u001b[92mMacPhee\u001b[0m left \u001b[91mBirt\u001b[0m's team afterwards and joined up with \u001b[94mher\u001b[0m sister, Rebecca Jean MacDonald (n*e MacPhee) as her second.\n",
      "\n"
     ]
    }
   ],
   "source": [
    "print_sents(random=True)"
   ]
  },
  {
   "cell_type": "code",
   "execution_count": 10,
   "metadata": {},
   "outputs": [],
   "source": [
    "import pandas as pd"
   ]
  },
  {
   "cell_type": "code",
   "execution_count": 11,
   "metadata": {},
   "outputs": [
    {
     "output_type": "stream",
     "name": "stdout",
     "text": [
      "<class 'pandas.core.frame.DataFrame'>\nRangeIndex: 2000 entries, 0 to 1999\nData columns (total 11 columns):\n #   Column          Non-Null Count  Dtype \n---  ------          --------------  ----- \n 0   ID              2000 non-null   object\n 1   Text            2000 non-null   object\n 2   Pronoun         2000 non-null   object\n 3   Pronoun-offset  2000 non-null   int64 \n 4   A               2000 non-null   object\n 5   A-offset        2000 non-null   int64 \n 6   A-coref         2000 non-null   bool  \n 7   B               2000 non-null   object\n 8   B-offset        2000 non-null   int64 \n 9   B-coref         2000 non-null   bool  \n 10  URL             2000 non-null   object\ndtypes: bool(2), int64(3), object(6)\nmemory usage: 144.7+ KB\n"
     ]
    }
   ],
   "source": [
    "train_data = pd.read_csv('gap-development.tsv', sep='\\t')\n",
    "test_data = pd.read_csv('gap-test.tsv', sep='\\t')\n",
    "test_data.info()"
   ]
  },
  {
   "source": [
    "**subject_pronoun.tsv**\n",
    "\n",
    "Predict farther coreference pronoun as True when pronoun is subject pronoun (he, she).\n",
    "Predict closer coreference pronoun as True when pronoun is not subject pronoun, which is object or possessive pronoun(her, his, him)."
   ],
   "cell_type": "markdown",
   "metadata": {}
  },
  {
   "cell_type": "code",
   "execution_count": 12,
   "metadata": {},
   "outputs": [
    {
     "output_type": "execute_result",
     "data": {
      "text/plain": [
       "{'He', 'Her', 'His', 'She', 'he', 'her', 'him', 'his', 'she'}"
      ]
     },
     "metadata": {},
     "execution_count": 12
    }
   ],
   "source": [
    "pronouns = set(train_data['Pronoun'])\n",
    "pronouns"
   ]
  },
  {
   "cell_type": "code",
   "execution_count": 13,
   "metadata": {
    "tags": []
   },
   "outputs": [],
   "source": [
    "result = open(\"subject_pronoun.tsv\", 'w')\n",
    "\n",
    "for attrs in test_data.iloc:\n",
    "    pro, pro_id = attrs[2:4]\n",
    "    A, A_id = attrs[4:6]\n",
    "    B, B_id = attrs[7:9]\n",
    "\n",
    "    if pro.lower() in ['he', 'she']:\n",
    "        if abs(pro_id - A_id) > abs(pro_id - B_id):\n",
    "            tf = ['TRUE', 'FALSE']\n",
    "        else:\n",
    "            tf = ['FALSE', 'TRUE']\n",
    "    else:\n",
    "        if abs(pro_id - A_id) > abs(pro_id - B_id):\n",
    "            tf = ['FALSE', 'TRUE']\n",
    "        else:\n",
    "            tf = ['TRUE', 'FALSE']\n",
    "\n",
    "    result.write(\"\\t\".join([attrs[0]] + tf) + \"\\n\")\n",
    "\n",
    "f_test.close()\n",
    "result.close()"
   ]
  },
  {
   "cell_type": "code",
   "execution_count": 14,
   "metadata": {},
   "outputs": [
    {
     "output_type": "stream",
     "name": "stdout",
     "text": [
      "gap_scorer.py:126: DeprecationWarning: 'U' mode is deprecated\n",
      "  with open(filename, 'rU') as f:\n",
      "Overall recall: 58.3 precision: 51.6 f1: 54.8\n",
      "\t\ttp 1033\tfp 967\n",
      "\t\tfn 740\ttn 1260\n",
      "Masculine recall: 59.4 precision: 52.8 f1: 55.9\n",
      "\t\ttp 528\tfp 472\n",
      "\t\tfn 361\ttn 639\n",
      "Feminine recall: 57.1 precision: 50.5 f1: 53.6\n",
      "\t\ttp 505\tfp 495\n",
      "\t\tfn 379\ttn 621\n",
      "Bias (F/M): 0.96\n",
      "\n"
     ]
    }
   ],
   "source": [
    "!python gap_scorer.py --gold_ts=gap-test.tsv --system_tsv=subject_pronoun.tsv"
   ]
  },
  {
   "cell_type": "code",
   "execution_count": 15,
   "metadata": {},
   "outputs": [
    {
     "output_type": "execute_result",
     "data": {
      "text/plain": [
       "0.1135"
      ]
     },
     "metadata": {},
     "execution_count": 15
    }
   ],
   "source": [
    "false_case = 0\n",
    "for attrs in test_data.iloc:\n",
    "    if attrs[6] == attrs[9]:\n",
    "        false_case += 1\n",
    "\n",
    "false_case/len(test_data)"
   ]
  },
  {
   "source": [
    "# subject.tsv\n",
    "\n",
    "draw a relation between two proper nouns with sentence structure\n",
    "\n",
    "(e.g. Which one is the subject?)"
   ],
   "cell_type": "markdown",
   "metadata": {}
  },
  {
   "cell_type": "code",
   "execution_count": 16,
   "metadata": {},
   "outputs": [],
   "source": [
    "import nltk\n",
    "sent = \"In the next pair, Mikhaylov equalled Grishin's time and they shared Olympic gold.\"\n",
    "tagged_sent = nltk.pos_tag(nltk.word_tokenize(sent))"
   ]
  },
  {
   "source": [
    "Classify train_data into several categories\n",
    "\n",
    "1. When words are inside parenthesis\n",
    "2. When words appear after the pronoun\n",
    " * When the pronoun is subject pronoun\n",
    " * When the pronoun is object/possessive pronoun\n",
    "3. When the both coreferences are false\n",
    "4. When only one word is subject\n",
    "5. When the both words are subject\n",
    "6. When none of the words are subject\n",
    " * When a word appears multiple times\n",
    " * When both word appears same time\n",
    "    "
   ],
   "cell_type": "markdown",
   "metadata": {}
  },
  {
   "cell_type": "code",
   "execution_count": 17,
   "metadata": {},
   "outputs": [],
   "source": [
    "import pandas as pd \n",
    "\n",
    "train_data = pd.read_csv('gap-development.tsv', sep='\\t')\n",
    "test_data  = pd.read_csv('gap-test.tsv', sep='\\t')"
   ]
  },
  {
   "source": [
    "## 1. When words are inside parenthesis\n",
    "Assume when word is inside parenthesis, coreference is always false"
   ],
   "cell_type": "markdown",
   "metadata": {}
  },
  {
   "cell_type": "code",
   "execution_count": 18,
   "metadata": {
    "tags": []
   },
   "outputs": [],
   "source": [
    "def isparenthesis(row):\n",
    "    sent = row['Text']\n",
    "    A = row['A']\n",
    "    A_id = row['A-offset']\n",
    "    B = row['B']\n",
    "    B_id = row['B-offset']\n",
    "\n",
    "    return (not (sent[A_id-1] == \"(\" and sent[A_id+len(A)] == \")\"),\n",
    "            not (sent[B_id-1] == \"(\" and sent[B_id+len(B)] == \")\"))\n",
    "\n",
    "def only_parenthesis(row):\n",
    "    return sum(isparenthesis(row)) == 1"
   ]
  },
  {
   "cell_type": "code",
   "execution_count": 19,
   "metadata": {},
   "outputs": [],
   "source": [
    "parenthesis_data = train_data[train_data.apply(only_parenthesis, axis=1)]"
   ]
  },
  {
   "cell_type": "code",
   "execution_count": 20,
   "metadata": {},
   "outputs": [
    {
     "output_type": "stream",
     "name": "stdout",
     "text": [
      "development-562 He was named to the NCAA All-Tournament team in 1980, and two first All Star teams in 1981. He began his playing career with the Pittsburgh Penguins who drafted him in the 6th round of the 1979 NHL Entry Draft. \u001b[92mChorney\u001b[0m was traded to the Los Angeles Kings for a 6th round choice (\u001b[91mStuart Marston\u001b[0m) in the 1985 NHL Entry Draft. After spending a season with the Kings, \u001b[94mhe\u001b[0m was signed by the Washington Capitals but failed to earn a spot on the roster.\n\ndevelopment-373 Bea Binene as George (Campus Tomboy) - She plays the boyish character that caught up in the ``bestfriend syndrome'', she tries to hide her feelings for her best friend enemy and instead, helps him get closer to Chloe. \u001b[92mJake Vargas\u001b[0m as Jepoy (\u001b[91mGuitar Enthusiast\u001b[0m) - the group's resident rocker. \u001b[94mHe\u001b[0m is head-over-heals in love with Chloe (Lexi Fernandez) and tries to get closer to her through his best friend George.\n\ndevelopment-1765 During the restaurant's 1980s heyday at the top of the Zagat's survey, it was mentioned in Wall Street (1987) by Gordon's call girl when talking to Bud Fox (Charlie Sheen). Mentioned in Crossing Delancey by \u001b[92mIsabelle Grossman\u001b[0m (\u001b[91mAmy Irving\u001b[0m) as the place of \u001b[94mher\u001b[0m intended birthday dinner.\n\ndevelopment-1436 Gris exhibited with the painters of the Puteaux Group in the Salon de la Section d'Or in 1912. His preference for clarity and order influenced the Purist style of Am*d*e Ozenfant and Charles Edouard Jeanneret (\u001b[91mLe Corbusier\u001b[0m), and made \u001b[92mGris\u001b[0m an important exemplar of the post-war ``return to order'' movement. In 1915 \u001b[94mhe\u001b[0m was painted by his friend, Amedeo Modigliani.\n\ndevelopment-268 Drum grows up to be a fighter and is often forced to bare-knuckle-box other slaves for the entertainment of the owners, one of whom is a gay Frenchman named Bernard DeMarigny (Colicos). DeMarigny wants to sleep with Drum, but his advances are rejected by the slave and DeMarigny vows revenge against Drum. Drum and his friend Blaise (Kotto) are eventually sold to plantation owner \u001b[92mHammond Maxwell\u001b[0m (\u001b[91mOates\u001b[0m) and are both taken to \u001b[94mhis\u001b[0m plantation to work.\n\ndevelopment-176 When Herman and Fred are arrested and imprisoned for petty theft charges, Ma takes over the group and leads Arthur and Lloyd on a bank robbery spree to gain enough money to get her sons out of jail. The gang is joined by a gunman named Kevin (\u001b[91mBruce Dern\u001b[0m) who was \u001b[92mFred\u001b[0m's cellmate during \u001b[94mhis\u001b[0m incarceration (and his strongly implied lover).\n\ndevelopment-146 Rocky intervenes, and after seemingly beating the living daylights out of the supposed thugs (the scene is similar to Jean-Claude Van Damme's introductory action sequence from Hard Target (1993)), introduces himself to Natasha, and proceeds to show himself off as a charming professional with a heart of gold. Somewhat awed, Natasha offers Rocky an invitation for tea later in the evening, which he accepts. When Rocky arrives at \u001b[94mher\u001b[0m villa later in the evening, he is confronted by several obstacles, \u001b[92mNatasha\u001b[0m's sister Sweety (\u001b[91mSupriya Pilgaonkar\u001b[0m), the jealous Tommy and the family's pet dog.\n\ndevelopment-590 Roscoe and his wife had seven sons and three daughters, including William Stanley Roscoe (1782--1843), a poet, Thomas Roscoe (1791--1871), translator from Italian, and Henry (1800--1836), a legal writer who wrote his father's biography. Henry's wife, Maria Roscoe (\u001b[91mn*e Fletcher\u001b[0m) (1798-1885), was the author of \u001b[92mVittoria Colonna\u001b[0m: \u001b[94mHer\u001b[0m Life and Times, and their son Henry Enfield Roscoe (1833--1915) was a chemist and vice-chancellor of the University of London.\n\ndevelopment-954 Lance is in a non-committal relationship with a younger teacher named Claire (Alexie Gilmore), who is spending time with a fellow teacher named Mike (\u001b[91mHenry Simmons\u001b[0m), whose writing class is more successful than \u001b[92mLance\u001b[0m's. On nights when Claire cancels their dates and \u001b[94mhe\u001b[0m is alone, Lance bonds with his elderly neighbor Bonnie (Mitzi McCall).\n\ndevelopment-1297 While discussing Hodgson iIn December 1942, then General, Eisenhower stated, ``The four years we spent in the same room more than a quarter of a century ago are still one of my most treasured memories.'' While P.A., (\u001b[92mHodgson\u001b[0m), was talking with \u001b[91mEisenhower\u001b[0m about running in the 1948 US Presidential Election, \u001b[94mhe\u001b[0m said to Ike, ``I think you'd make an excellent President, but am not sure you'd be very happy doing it''.\n\n"
     ]
    }
   ],
   "source": [
    "print_sents(datas={'manual':True, 'data':parenthesis_data}, num_lines = 10)"
   ]
  },
  {
   "source": [
    "result : 22 out of 31 sentences are predicted correct --> accuracy : 71%"
   ],
   "cell_type": "markdown",
   "metadata": {}
  },
  {
   "source": [
    "## 2. When words appear after the pronoun\n",
    "Assume coreference of words coming after the pronoun is false"
   ],
   "cell_type": "markdown",
   "metadata": {}
  },
  {
   "cell_type": "code",
   "execution_count": 21,
   "metadata": {},
   "outputs": [],
   "source": [
    "after_pronoun = []\n",
    "\n",
    "for row in train_data.iloc:\n",
    "    if row['Pronoun-offset'] < row['A-offset'] or row['Pronoun-offset'] < row['B-offset']:\n",
    "        after_pronoun.append(row)\n",
    "\n",
    "after_pronoun = pd.DataFrame(after_pronoun, columns=train_data.columns)"
   ]
  },
  {
   "cell_type": "code",
   "execution_count": 22,
   "metadata": {},
   "outputs": [],
   "source": [
    "after_subject_pronoun = after_pronoun[after_pronoun['Pronoun'].isin(['he', 'she', 'He', 'She'])]\n",
    "after_other_pronoun = after_pronoun[after_pronoun['Pronoun'].isin(['his', 'her', 'him', 'His', 'Her', 'Him'])]"
   ]
  },
  {
   "cell_type": "code",
   "execution_count": 23,
   "metadata": {},
   "outputs": [
    {
     "output_type": "stream",
     "name": "stdout",
     "text": [
      "development-336 After the horrific plane crash of Wisteria Lane, the housewives think of their lives different ways. If Susan had stayed married to Karl and gotten fat; Bree imagines if Orson had died and Karl had taken her away; Angie imagines if Mona had survived and told the police everything she knows about the Bolen secret; Gabrielle thinks of Celia's future where \u001b[94mshe\u001b[0m turns up to be an old woman; and \u001b[91mLynette\u001b[0m imagines if Patrick had lived, but learns that Patrick died and \u001b[91mPaige\u001b[0m survived.\n\ndevelopment-1338 Tina is later annoyed when she discovers Shirley is allowing Sylvie to sleep all day to avoid caring for her, and when Shirley goes to prison to help alleviate Mick's debts, Tina accuses her of doing so just to avoid Sylvie. Tina then struggles on her own, and eventually decides to place her in care. The day before \u001b[94mshe\u001b[0m is due to be asseessed, \u001b[92mTina\u001b[0m throws \u001b[91mSylvie\u001b[0m a party.\n\ndevelopment-323 Following the death of Tewodros II's much loved first wife, Empress Tewabech Ali (who was Tiruwork's niece), his intimates began to discreetly look for an appropriate consort to provide him with an heir and to calm his more extreme moods as his late wife had done. Legend states that one of the Emperor's officers was attending Sunday services at a church at Derasge when \u001b[92mTewodros\u001b[0m was staying there, and was struck at the beauty, the aristocratic deportment, and the deep piety of a woman worshiping there. \u001b[94mHe\u001b[0m immediately went to the \u001b[91mEmperor\u001b[0m and told him he had seen the woman ``meant to be the wife of my sovereign''.\n\ndevelopment-498 Maxim Gvinjia ( ) is the current Minister of Foreign Affairs of Abkhazia. Before \u001b[94mhe\u001b[0m was appointed on 26 February 2010 to replace \u001b[91mSergei Shamba\u001b[0m, \u001b[92mGvinjia\u001b[0m had served as Deputy Minister for Foreign Affairs since 1 March 2004.\n\ndevelopment-177 The organization of the household was so efficient that it alone could fully satisfy the needs of the tsar's court. One of the biggest zoos in Europe at that time could also be found in Izmaylovo manor. Unfortunately, after the death of \u001b[91mAleksey Mikhailovich\u001b[0m the estates were abandoned and a lot of the buildings and facilities fell into decline. When \u001b[94mhe\u001b[0m was a child, \u001b[92mPeter the Great\u001b[0m used the territory and the gardens for his war games; the remains of the redoubts he built are still partially preserved.\n\ndevelopment-1210 All her force, and it is the more tremendous for being constricted, goes into the assertion, 'I love. I hate. I suffer. '''-- Virginia Woolf. The Daily Telegraph's, Lucy Hughes-Hallett argues that Villette is greater than Bront*'s most famous work \u001b[91mJane Eyre\u001b[0m. \u001b[94mShe\u001b[0m states that the novel is ``an astonishing piece of writing, a book in which phantasmagorical set pieces alternate with passages of minute psychological exploration, and in which \u001b[92mBront*\u001b[0m's marvellously flexible prose veers between sardonic wit and stream-of-consciousness, in which the syntax bends and flows and threatens to dissolve completely in the heat of madness, drug-induced hallucination and desperate desire.''\n\ndevelopment-60 According to a Rolling Stone interview (conducted in 1985), Lindsay left The Raiders because ``there was a contractual thing I didn't agree with, and I just stopped.'' \u001b[92mLindsay\u001b[0m continued to record solo singles for a few years (for Warner Bros., Elka and Greedy Records) before retiring from performing to serve as head of A&R for United Artists Records. \u001b[94mHe\u001b[0m contributed to the recordings of artists such as \u001b[91mGerry Rafferty\u001b[0m (on ``Baker Street''), Kenny Rogers, and others.\n\ndevelopment-119 Heightened political pressure and illness pushed Gordillo out from public life for about a year, though she did hold on to her post as the PRI secretary general. In early 2005 Gordillo returned to public life and Roberto Madrazo greeted her with open arms. According to PRI rules, Gordillo, as secretary general of the party, should have replaced Madrazo when \u001b[94mhe\u001b[0m stepped down; but, in a surprise move, \u001b[91mMariano Palacios Alcocer\u001b[0m took \u001b[92mMadrazo\u001b[0m's position instead of Gordillo, who publicly broke with Madrazo just few days before Palacios Alcocer's election.\n\ndevelopment-1370 Ian Law who held a splinter claim to the British Middleweight Championship at the time (the main lineage being held by Brian 'Goldbelt' Maxine) was helping his friend to run the show. One of the wrestlers had got himself seriously injured two weeks out from the show and his friend asked McDonald if he would stand in for the missing man, like nearly everyone, McDonald was convinced that wrestling was all show and that anyone could do it, but McDonald was in for a shock, \u001b[94mhe\u001b[0m had a two week crash course before first pro match against \u001b[91mWild Angus\u001b[0m, The match lasted 5 rounds with Angus beating \u001b[92mMcDonald\u001b[0m by the final bell.\n\ndevelopment-418 Alice went to live with Nick's sister Kathy, who desperatley tried to contact Elsa but was shocked to discover she'd moved to Australia without telling anyone. Relising \u001b[94mshe\u001b[0m was all \u001b[91mAlice\u001b[0m had left and just how selfish and uncaring \u001b[91mElsa\u001b[0m was, Kathy took custody of Alice.\n\n"
     ]
    }
   ],
   "source": [
    "print_sents(datas={'manual':True, 'data':after_subject_pronoun}, num_lines = 10)"
   ]
  },
  {
   "cell_type": "code",
   "execution_count": 24,
   "metadata": {},
   "outputs": [],
   "source": [
    "def after_pronoun_predict(data):\n",
    "    A_pred = []\n",
    "    B_pred = []\n",
    "    for row in data.iloc:\n",
    "        A_value = False if row['A-offset'] > row['Pronoun-offset'] else True\n",
    "        B_value = False if row['B-offset'] > row['Pronoun-offset'] else True\n",
    "\n",
    "        A_pred.append(A_value)\n",
    "        B_pred.append(B_value)\n",
    "\n",
    "    data['A-pred'] = A_pred\n",
    "    data['B-pred'] = B_pred"
   ]
  },
  {
   "cell_type": "code",
   "execution_count": 25,
   "metadata": {},
   "outputs": [
    {
     "output_type": "stream",
     "name": "stderr",
     "text": [
      "<ipython-input-24-ceb8dec2fe17>:11: SettingWithCopyWarning: \nA value is trying to be set on a copy of a slice from a DataFrame.\nTry using .loc[row_indexer,col_indexer] = value instead\n\nSee the caveats in the documentation: https://pandas.pydata.org/pandas-docs/stable/user_guide/indexing.html#returning-a-view-versus-a-copy\n  data['A-pred'] = A_pred\n<ipython-input-24-ceb8dec2fe17>:12: SettingWithCopyWarning: \nA value is trying to be set on a copy of a slice from a DataFrame.\nTry using .loc[row_indexer,col_indexer] = value instead\n\nSee the caveats in the documentation: https://pandas.pydata.org/pandas-docs/stable/user_guide/indexing.html#returning-a-view-versus-a-copy\n  data['B-pred'] = B_pred\n"
     ]
    }
   ],
   "source": [
    "after_pronoun_predict(after_subject_pronoun)\n",
    "after_pronoun_predict(after_other_pronoun)"
   ]
  },
  {
   "cell_type": "code",
   "execution_count": 26,
   "metadata": {},
   "outputs": [
    {
     "output_type": "stream",
     "name": "stdout",
     "text": [
      "0.411214953271028\n",
      "0.2133676092544987\n"
     ]
    }
   ],
   "source": [
    "print(accuracy(after_subject_pronoun))\n",
    "print(accuracy(after_other_pronoun))"
   ]
  },
  {
   "source": [
    "Result : It doesn't really matter whether a word comes after the pronoun or not"
   ],
   "cell_type": "markdown",
   "metadata": {}
  },
  {
   "source": [
    "## 3. When the both word coreference is false\n",
    "\n",
    "Let's find out what they have in common."
   ],
   "cell_type": "markdown",
   "metadata": {}
  },
  {
   "cell_type": "code",
   "execution_count": 27,
   "metadata": {},
   "outputs": [
    {
     "output_type": "stream",
     "name": "stdout",
     "text": [
      "0.1005\n201\n"
     ]
    }
   ],
   "source": [
    "false_cases = 0\n",
    "for row in train_data.iloc:\n",
    "    if row['A-coref'] == row['B-coref']:\n",
    "        false_cases += 1\n",
    "\n",
    "print(false_cases/len(train_data))\n",
    "print(false_cases)"
   ]
  },
  {
   "source": [
    "There are more than 10 percent of these kind of cases"
   ],
   "cell_type": "markdown",
   "metadata": {}
  },
  {
   "cell_type": "code",
   "execution_count": 28,
   "metadata": {},
   "outputs": [],
   "source": [
    "falses_data = train_data[(train_data['A-coref'] == False) & (train_data['B-coref'] == False)]"
   ]
  },
  {
   "cell_type": "code",
   "execution_count": 29,
   "metadata": {},
   "outputs": [
    {
     "output_type": "stream",
     "name": "stdout",
     "text": [
      "development-1747 On 21 October 1710, Ashburnham married Lady Mary Butler (died 1713), the second daughter of James Butler, 2nd Duke of Ormonde. After \u001b[94mher\u001b[0m death, he married, on 25 July 1714, \u001b[91mHenrietta\u001b[0m, \u001b[91mDowager Countess\u001b[0m of Anglesey and 4th Baroness Strange; they had one child, Henrietta (c.1716--1732), later 5th Baroness Strange.\n",
      "\n",
      "development-969 The second single, released on August 5, 2016, was Hollywoodn't. The music video was once again directed by Santiago Felipe and explores the dark side of Hollywood. In the video, Needles portrays Elizabeth Short a.k.a. 'The Black Dahlia', \u001b[91mSharon Tate\u001b[0m and \u001b[91mJayne Mansfield\u001b[0m. \u001b[94mHer\u001b[0m third studio album, Battle Axe, debuts on October 6, 2017, along with a video for the single of the same name.\n",
      "\n",
      "development-1271 Otto I (c. 1128 -- July 8, 1184) was the second Margrave of Brandenburg, from 1170 until his death. Otto I was born into the House of Ascania as the eldest son of Albert I (``Albert the Bear''), who founded the Margraviate of Brandenburg in 1157, and his wife Sophie of Winzenburg. \u001b[94mHe\u001b[0m had three sisters and six brothers, the best known of whom were Prince-Archbishop \u001b[91mSiegfried of Bremen\u001b[0m, and \u001b[91mCount Bernhard of Anhalt\u001b[0m, later Duke of Saxony.\n",
      "\n",
      "development-1577 As the Director of Authorities Unit, Paul worked as the New Jersey Governor's liaison to the State of New Jersey's 53 independent authorities, boards and commissions, which include the Port Authority of New York and New Jersey, the Sports and Exposition Authority, the Casino Reinvestment and Development Authority, and the Economic Development Authority. Paul superintended more than 44,000 employees, and an annual aggregate revenue stream exceeding $14 billion. In 2004, Paul was asked to serve as Chief Counsel to then Governor James E. McGreevey. Upon on the resignation of James E. McGreevey as Governor and \u001b[94mhis\u001b[0m replacement by \u001b[91mRichard J. Codey\u001b[0m as acting Governor of New Jersey, \u001b[91mPaul\u001b[0m was asked to serve as Codey's Chief Counsel and provide legal counsel to, and representation for, the Governor of the State of New Jersey on a daily basis pertaining to issues involving all aspects of state governance.\n",
      "\n",
      "development-413 Samuel Johnson and Topham Beauclerk debated whether Hackman had meant to kill only himself. Johnson believed that the two pistols Hackman took with him to Covent Garden meant that he intended there to be two deaths. \u001b[91mBoswell\u001b[0m himself (who had visited \u001b[91mHackman\u001b[0m in prison) wrote that the case showed ``the dreadful effects that the passion of Love may produce''. In \u001b[94mhis\u001b[0m Mind-Forg'd Manacles (1987), the social historian Roy Porter argues that Hackman was well aware of the madness of his passion.\n",
      "\n",
      "development-816 Moose has numerous television appearances and several magazine covers to his credit. There is an official Moose calendar and an ``autobiography'', My Life as a Dog, which was written by Brian Hargrove, husband of actor David Hyde Pierce who portrays Niles Crane in Frasier. Moose spent the last six and a half years of \u001b[94mhis\u001b[0m life in retirement in West Los Angeles with son \u001b[91mEnzo\u001b[0m, their trainer Mathilda DeCagny, her husband \u001b[91mMichael Halberg\u001b[0m and Jill, the dog from As Good as It Gets.\n",
      "\n",
      "development-1427 As part of his breeding and training programs he was part owner (with Harold Syner of Wajima fame) of Alamare Farm in Lexington, Kentucky and joint owner of Meadow Wood Training Center in Ocala, Florida. DiMauro is responsible for mentoring and developing many of the horsemen involved in Thoroughbred racing today. His experience and insight into the sport has earned him much respect among many. \u001b[94mHe\u001b[0m gave \u001b[91mRichard Migliore\u001b[0m a chance, and \u001b[91mRichard ``The Mig\u001b[0m,'' was a well-known jockey for many years until his retirement in June 2010, and is still involved in the sport with the New York Racing Association.\n",
      "\n",
      "development-1926 However, Phil rejects Shirley so she apologises to Heather, who is staying with Minty, but she refuses to forgive her friend. Heather is upset when she hears Minty plans to marry Sam Mitchell (Danniella Westbrook), but offers to help buy a ring. However, when Sam reveals \u001b[94mshe\u001b[0m only agreed to marry \u001b[91mMinty\u001b[0m in order to shut him up, Minty apologises to \u001b[91mHeather\u001b[0m, and she says when they married it gave her the confidence to stand up for herself.\n",
      "\n",
      "development-918 The doctors all working together for a perfect plan, all based on perfect timing, is intense and powerful.'' The season was praised for bringing the focus back on the central character \u001b[91mMeredith Grey\u001b[0m portrayed by \u001b[91mEllen Pompeo\u001b[0m. The A.V. Club wrote, ``when it comes to creating disasters and accidents and catastrophes to weave \u001b[94mher\u001b[0m cast around, no one does it better than Shonda Rhimes.\n",
      "\n",
      "development-395 More reliable sources suggest that the ``Santa Cruz'' in actuality refers to the crossroads located in the Meadow of Mudela (so called for its proximity to the pass of Muradal, one of the entrances to the Central Meseta through the Andalusian Plain). On January 30, 1538, Don *lvaro the Elder bought off from Carlos I the towns of Santa Cruz de Mudela and Viso del Puerto (Muradal), under \u001b[94mhis\u001b[0m own terms and along with civil and criminal jurisdiction, for 26,208,626 maraved*es (for comparison, \u001b[91mFerdinand Magellan\u001b[0m's epic voyage around the earth, financed by \u001b[91mCarlos I\u001b[0m in 1518, cost 8,751,125 maravedis).\n",
      "\n"
     ]
    }
   ],
   "source": [
    "print_sents(datas={'manual':True, 'data':falses_data}, num_lines = 10)"
   ]
  },
  {
   "source": [
    "We can see that there are some patterns in both false sentences\n",
    "\n",
    "1. There is another pronoun appeared before.\n",
    "2. when both word is behind the pronoun, and the subject of the sentence is NNP."
   ],
   "cell_type": "markdown",
   "metadata": {}
  },
  {
   "source": [
    "1. There is another pronoun appeared before"
   ],
   "cell_type": "markdown",
   "metadata": {}
  },
  {
   "cell_type": "code",
   "execution_count": 30,
   "metadata": {},
   "outputs": [],
   "source": [
    "def prior_pronoun(row):\n",
    "    token_dict = tokenized_index(row)\n",
    "\n",
    "    words = token_dict['words']\n",
    "    word_index = token_dict['word_index']\n",
    "\n",
    "    male = ['He', 'His', 'Him', 'he', 'his', 'him']\n",
    "    female = ['She', 'Her', 'she', 'her', 'hers']\n",
    "\n",
    "    pro_id = word_index[row['Pronoun-offset']]\n",
    "    A_id = word_index[row['A-offset']]\n",
    "    B_id = word_index[row['B-offset']]\n",
    "\n",
    "    if row['Pronoun'] in male:\n",
    "        for i, word in enumerate(words[:pro_id]):\n",
    "            if word in male and i < min(A_id, B_id):\n",
    "                return True\n",
    "        return False\n",
    "    elif row['Pronoun'] in female:\n",
    "        for i, word in enumerate(words[:pro_id]):\n",
    "            if word in female and i < min(A_id, B_id):\n",
    "                return True\n",
    "        return False\n",
    "\n",
    "    else:\n",
    "        print(\"Unexpected pronoun : {}\", row['Pronoun'])"
   ]
  },
  {
   "cell_type": "code",
   "execution_count": 31,
   "metadata": {},
   "outputs": [
    {
     "output_type": "stream",
     "name": "stdout",
     "text": [
      "1141 0.10429447852760736\n"
     ]
    }
   ],
   "source": [
    "prior_pronoun_data = apply_model(train_data, [prior_pronoun], lambda x: (False, False))"
   ]
  },
  {
   "cell_type": "code",
   "execution_count": 32,
   "metadata": {},
   "outputs": [],
   "source": [
    "def another_subject(row):\n",
    "    token_dict = tokenized_index(row)\n",
    "\n",
    "    tagged_sents = token_dict['tagged_sents']\n",
    "    sents = token_dict['sents']\n",
    "    word_index = token_dict['word_index']\n",
    "    sent_index = token_dict['sent_index']\n",
    "\n",
    "    pro_sent_id = sent_index[word_index[row['Pronoun-offset']]]\n",
    "\n",
    "    def first_noun(sent):\n",
    "        for word, tag in sent:\n",
    "            if tag.startswith('NN') or tag.startswith('PR'):\n",
    "                return (word, tag)\n",
    "\n",
    "    word, tag = first_noun(tagged_sents[pro_sent_id])\n",
    "    if tag.startswith('NNP') and not word in [row['A'].split()[0], row['B'].split()[0]]:\n",
    "        return True\n",
    "\n",
    "    return False"
   ]
  },
  {
   "cell_type": "code",
   "execution_count": 33,
   "metadata": {},
   "outputs": [],
   "source": [
    "def both_latter(row):\n",
    "    if row['A-offset'] > row['Pronoun-offset'] and row['B-offset'] > row['Pronoun-offset']:\n",
    "        return True\n",
    "\n",
    "    return False\n",
    "\n",
    "mask = train_data.apply(both_latter, axis=1)\n",
    "both_latter_data = train_data[mask]"
   ]
  },
  {
   "cell_type": "code",
   "execution_count": 34,
   "metadata": {},
   "outputs": [
    {
     "output_type": "stream",
     "name": "stdout",
     "text": [
      "48 0.5833333333333334\n"
     ]
    }
   ],
   "source": [
    "another_subject_data = apply_model(train_data, [both_latter, another_subject], lambda x: (False, False))"
   ]
  },
  {
   "cell_type": "code",
   "execution_count": 35,
   "metadata": {},
   "outputs": [
    {
     "output_type": "stream",
     "name": "stdout",
     "text": [
      "development-336 After the horrific plane crash of Wisteria Lane, the housewives think of their lives different ways. If Susan had stayed married to Karl and gotten fat; Bree imagines if Orson had died and Karl had taken her away; Angie imagines if Mona had survived and told the police everything she knows about the Bolen secret; Gabrielle thinks of Celia's future where \u001b[94mshe\u001b[0m turns up to be an old woman; and \u001b[91mLynette\u001b[0m imagines if Patrick had lived, but learns that Patrick died and \u001b[91mPaige\u001b[0m survived.\n\ndevelopment-46 The feature-length documentary traced the journey of the song, Hava Nagila, from the Ukraine to YouTube. Released theatrically and screened at 80 Jewish film festivals, Hava Nagila:The Movie was either opening or closing night at more than half of those festivals. Director Dyanna Taylor's film about \u001b[94mher\u001b[0m grandmother, the photographer \u001b[91mDorothea Lange\u001b[0m, Grab a Hunk of Lightning, aired on PBS's ``American Masters'' in 2014 and was produced by \u001b[91mGrossman\u001b[0m.\n\ndevelopment-1187 In 1997, he contended the WBO World Title fight in Nashville, narrowly losing to Henry Akinwande on points. In all, he had 26 professional fights, with 22 wins and an impressive 17 knock-outs. As Head Trainer at the Hove ABC, working alongside \u001b[94mhis\u001b[0m old coach \u001b[91mDave Brown\u001b[0m, \u001b[92mScott\u001b[0m has dedicated much of his time to training fighters since he retired in 1999.\n\ndevelopment-1236 After camping near Torvioll, Skanderbeg placed 3,000 men under five commanders, Hamza Kastrioti, Muzaka of Angelina, Zecharia Gropa, Peter Emanueli, and John Musachi, in the surrounding forests with orders to attack the Ottoman wings and rear only after a given signal. While Skanderbeg was preparing \u001b[94mhis\u001b[0m ambush, the \u001b[91mOttoman\u001b[0m Turks under \u001b[91mAli Pasha\u001b[0m arrived and encamped opposite his forces.\n\ndevelopment-848 Smear would usually play his parts on a baritone guitar, which would both contrast with Grohl and Shiflett and add a heavier sound - as Grohl declared, ``if we ever felt like a section wasn't heavy enough, we put the fuckin' baritone on it, and it became huge.'' Hawkins added many buzz rolls to \u001b[94mhis\u001b[0m drum fills at the suggestion of \u001b[91mVig\u001b[0m, as buzz rolls were a trademark of one of the producer's favorite drummers, \u001b[91mIan Paice\u001b[0m.\n\n"
     ]
    }
   ],
   "source": [
    "print_sents(datas={'manual':True, 'data':another_subject_data}, num_lines = 5)"
   ]
  },
  {
   "source": [
    "## 4. When only one word is subject\n",
    "Assume that subject word is always true, and other word is always false"
   ],
   "cell_type": "markdown",
   "metadata": {}
  },
  {
   "cell_type": "code",
   "execution_count": 36,
   "metadata": {},
   "outputs": [
    {
     "output_type": "stream",
     "name": "stdout",
     "text": [
      "801\n1199\n"
     ]
    }
   ],
   "source": [
    "subject_data = train_data[train_data['Pronoun'].isin(['he', 'she', 'He', 'She'])]\n",
    "other_data = train_data[train_data['Pronoun'].isin(['his', 'him', 'her', 'His', 'Him', 'Her'])]\n",
    "print(len(subject_data))\n",
    "print(len(other_data))"
   ]
  },
  {
   "cell_type": "code",
   "execution_count": 13,
   "metadata": {},
   "outputs": [],
   "source": []
  },
  {
   "cell_type": "code",
   "execution_count": 37,
   "metadata": {},
   "outputs": [
    {
     "output_type": "stream",
     "name": "stdout",
     "text": [
      "The status of the show itself is unknown as it was originally expected to premiere in late 2008, but production has since been pushed back indefinitely. In 2011, Berkley published Ask-Elizabeth, a self-help book for teenage girls which drew from the workshops she conducted for the Ask-Elizabeth program. Berkley Elizabeth\n"
     ]
    }
   ],
   "source": [
    "row = test_data.iloc[1716]\n",
    "print(row['Text'], row['A'], row['B'])"
   ]
  },
  {
   "cell_type": "code",
   "execution_count": 38,
   "metadata": {},
   "outputs": [
    {
     "output_type": "stream",
     "name": "stderr",
     "text": [
      "100%|██████████| 10/10 [01:16<00:00,  7.62s/it]\n"
     ]
    },
    {
     "output_type": "execute_result",
     "data": {
      "text/plain": [
       "   Pronoun  Length  Accuracy0  Accuracy1\n",
       "0       He      87   0.885057   0.241379\n",
       "1      She     115   0.921739   0.208696\n",
       "2      His      18   0.777778   0.388889\n",
       "3      Her      19   0.736842   0.210526\n",
       "4       he     139   0.791367   0.374101\n",
       "5      she     147   0.768707   0.435374\n",
       "6      his     306   0.767974   0.535948\n",
       "7      him      58   0.431034   0.534483\n",
       "8      her     270   0.648148   0.607407\n",
       "9     hers       0   0.000000   0.000000\n",
       "10   total    1159   0.749784   0.458154"
      ],
      "text/html": "<div>\n<style scoped>\n    .dataframe tbody tr th:only-of-type {\n        vertical-align: middle;\n    }\n\n    .dataframe tbody tr th {\n        vertical-align: top;\n    }\n\n    .dataframe thead th {\n        text-align: right;\n    }\n</style>\n<table border=\"1\" class=\"dataframe\">\n  <thead>\n    <tr style=\"text-align: right;\">\n      <th></th>\n      <th>Pronoun</th>\n      <th>Length</th>\n      <th>Accuracy0</th>\n      <th>Accuracy1</th>\n    </tr>\n  </thead>\n  <tbody>\n    <tr>\n      <th>0</th>\n      <td>He</td>\n      <td>87</td>\n      <td>0.885057</td>\n      <td>0.241379</td>\n    </tr>\n    <tr>\n      <th>1</th>\n      <td>She</td>\n      <td>115</td>\n      <td>0.921739</td>\n      <td>0.208696</td>\n    </tr>\n    <tr>\n      <th>2</th>\n      <td>His</td>\n      <td>18</td>\n      <td>0.777778</td>\n      <td>0.388889</td>\n    </tr>\n    <tr>\n      <th>3</th>\n      <td>Her</td>\n      <td>19</td>\n      <td>0.736842</td>\n      <td>0.210526</td>\n    </tr>\n    <tr>\n      <th>4</th>\n      <td>he</td>\n      <td>139</td>\n      <td>0.791367</td>\n      <td>0.374101</td>\n    </tr>\n    <tr>\n      <th>5</th>\n      <td>she</td>\n      <td>147</td>\n      <td>0.768707</td>\n      <td>0.435374</td>\n    </tr>\n    <tr>\n      <th>6</th>\n      <td>his</td>\n      <td>306</td>\n      <td>0.767974</td>\n      <td>0.535948</td>\n    </tr>\n    <tr>\n      <th>7</th>\n      <td>him</td>\n      <td>58</td>\n      <td>0.431034</td>\n      <td>0.534483</td>\n    </tr>\n    <tr>\n      <th>8</th>\n      <td>her</td>\n      <td>270</td>\n      <td>0.648148</td>\n      <td>0.607407</td>\n    </tr>\n    <tr>\n      <th>9</th>\n      <td>hers</td>\n      <td>0</td>\n      <td>0.000000</td>\n      <td>0.000000</td>\n    </tr>\n    <tr>\n      <th>10</th>\n      <td>total</td>\n      <td>1159</td>\n      <td>0.749784</td>\n      <td>0.458154</td>\n    </tr>\n  </tbody>\n</table>\n</div>"
     },
     "metadata": {},
     "execution_count": 38
    }
   ],
   "source": [
    "overall_analysis(train_data, [only_subject], [word_subject, latter_word])"
   ]
  },
  {
   "source": [
    "## 5. When both words are subject\n",
    "Assume that latter word is True, while the other is False"
   ],
   "cell_type": "markdown",
   "metadata": {}
  },
  {
   "cell_type": "code",
   "execution_count": 39,
   "metadata": {},
   "outputs": [
    {
     "output_type": "execute_result",
     "data": {
      "text/plain": [
       "202"
      ]
     },
     "metadata": {},
     "execution_count": 39
    }
   ],
   "source": [
    "both_subject_data = train_data.apply(both_subject, axis=1)\n",
    "both_subject_data = train_data[both_subject_data]\n",
    "len(both_subject_data)"
   ]
  },
  {
   "cell_type": "code",
   "execution_count": 40,
   "metadata": {
    "tags": []
   },
   "outputs": [
    {
     "output_type": "stream",
     "name": "stdout",
     "text": [
      "development-1515 On the 8th of May 1992, Compton was surprisingly appointed as manager of Torquay, shortly after their relegation back to the bottom flight of the Football League. The expected push for promotion did not materialise and Torquay found themselves in a relegation battle, which, only after \u001b[91mNeil Warnock\u001b[0m was brought in and \u001b[92mCompton\u001b[0m had reverted to \u001b[94mhis\u001b[0m old youth coach role, they survived.\n",
      "\n",
      "development-607 He returned to St. Louis in 1837. That year, his half-brother Tom Tobin, then 14 years old, left with Charles and his colleague Ceran St. Vrain to return to Taos. \u001b[91mTom\u001b[0m worked as a trapper and scout at Bent's Fort and in Taos. Along with \u001b[94mhis\u001b[0m brother, \u001b[92mTobin\u001b[0m worked at Simeon Turley's store, mill, and distillery at Arroyo Hondo.\n",
      "\n",
      "development-1269 Going into the season, manager Rogers Hornsby was optimistic that they would have a better club with more power overall, citing Landrith as one of the new players that could help the 1953 Reds be a success. Hornsby made it clear that veteran \u001b[91mAndy Seminick\u001b[0m would be the number one catcher on the depth chart for the Reds, but also said that \u001b[92mLandrith\u001b[0m would get a ``good look'' after witnessing \u001b[94mhis\u001b[0m performance with the Reds at the end of the 1952 season, praising that he liked his ``hustle.''\n",
      "\n",
      "development-544 The man threatened Elizabeth with a knife (which Mary Katherine thought was a gun at the time) When Elizabeth said ``ouch'' after stubbing her toe on a chair, Mitchell said something that sounded like: ``You better be quiet, and I won't hurt you.'' \u001b[94mShe\u001b[0m heard \u001b[91mElizabeth\u001b[0m ask ``Why are you doing this?'' and though the answer was not clear, \u001b[92mMary Katherine\u001b[0m thought the answer might have been ``for ransom.''\n",
      "\n",
      "development-1048 \u001b[92mEve Brent\u001b[0m (September 11, 1929 -- August 27, 2011) was a \u001b[91mSaturn Award\u001b[0m -winning American actress. \u001b[94mShe\u001b[0m was often billed as Jean Lewis.\n",
      "\n",
      "development-1199 Upon confronting him, she realizes that the man (Philippe Nicaud) is not Lalemand, and she leaves soon afterwards to return to his residence. There, she finds out that the real Lalemand is an acquaintance to Flor*s and Daisy, who have given a false statement when Lalemand was still a suspect. \u001b[91mVirginie\u001b[0m is told that \u001b[92mAnita\u001b[0m was Lelemand's father's mistress and that \u001b[94mshe\u001b[0m had permission to profit from Lelemand's $50 million inheritance while she was still alive.\n",
      "\n",
      "development-1359 Porter worked to raise the standards of the US Navy in the position of superintendent of the Naval Academy when it was restored to Annapolis. He initiated reforms in the curriculum to increase professionalism. In the early days of President Grant's administration, Porter was de facto Secretary of the Navy. When his adoptive brother David G. Farragut was advanced from rank of vice-admiral to admiral, Porter took his previous position; likewise, when \u001b[91mFarragut\u001b[0m retired, \u001b[92mPorter\u001b[0m became the second man to hold the newly created rank of admiral. \u001b[94mHe\u001b[0m gathered a corps of like-minded officers devoted to naval reform.\n",
      "\n",
      "development-1361 Franky instantly let her affection clear to Karen but this disgusted Karen. who let Franky know exactly how to get on her nerves if she did not get what she wanted. Franky later allowed viewers to get their first sighting of solitary, when she was put there after trashing the Recreation Room (this was when Franky gave Vera Bennett the nickname made for her: Vinegar Tits). \u001b[92mDoreen\u001b[0m later ignored Franky while \u001b[91mBea\u001b[0m was with \u001b[94mher\u001b[0m to protect Doreen, but Franky soon won Doreen over.\n",
      "\n",
      "development-1895 As children, the Roberts siblings attended Jefferson School in Minneapolis. While attending Jefferson School, Roberts made a life long friendship with Jane ``Jennie'' Lyon Cleveland as well as Joseph and Susan Kingman. The friendship with Joseph and \u001b[91mSusan Kingman\u001b[0m was beneficial for \u001b[92mRoberts\u001b[0m later in life when \u001b[94mshe\u001b[0m needed funding for the Handicraft Guild.\n",
      "\n",
      "development-1137 She demands that the driver let her off, and he grudgingly does so, insisting that she won't get her money back. The walk back to the caf* takes 2 hours in the smoldering heat. When \u001b[92mNoreen\u001b[0m returns to the caf*, \u001b[91mLynda\u001b[0m is still furious with \u001b[94mher\u001b[0m but Del defends her, saying that it would have collapsed sooner or later because of the water damage.\n",
      "\n"
     ]
    }
   ],
   "source": [
    "print_sents(datas={'manual':True, 'data':both_subject_data}, num_lines = 10)"
   ]
  },
  {
   "cell_type": "code",
   "execution_count": 41,
   "metadata": {},
   "outputs": [
    {
     "output_type": "stream",
     "name": "stderr",
     "text": [
      "100%|██████████| 10/10 [00:28<00:00,  2.88s/it]\n"
     ]
    },
    {
     "output_type": "execute_result",
     "data": {
      "text/plain": [
       "   Pronoun  Length  Accuracy0  Accuracy1  Accuracy2  Accuracy3\n",
       "0       He      10   0.500000   0.400000   0.500000   0.400000\n",
       "1      She      14   0.571429   0.428571   0.500000   0.500000\n",
       "2      His       4   0.750000   0.250000   0.750000   0.250000\n",
       "3      Her       0   0.000000   0.000000   0.000000   0.000000\n",
       "4       he      18   0.833333   0.055556   0.833333   0.055556\n",
       "5      she      25   0.640000   0.200000   0.640000   0.200000\n",
       "6      his      42   0.690476   0.261905   0.690476   0.261905\n",
       "7      him      22   0.181818   0.681818   0.181818   0.681818\n",
       "8      her      67   0.597015   0.358209   0.611940   0.343284\n",
       "9     hers       0   0.000000   0.000000   0.000000   0.000000\n",
       "10   total     202   0.594059   0.331683   0.594059   0.331683"
      ],
      "text/html": "<div>\n<style scoped>\n    .dataframe tbody tr th:only-of-type {\n        vertical-align: middle;\n    }\n\n    .dataframe tbody tr th {\n        vertical-align: top;\n    }\n\n    .dataframe thead th {\n        text-align: right;\n    }\n</style>\n<table border=\"1\" class=\"dataframe\">\n  <thead>\n    <tr style=\"text-align: right;\">\n      <th></th>\n      <th>Pronoun</th>\n      <th>Length</th>\n      <th>Accuracy0</th>\n      <th>Accuracy1</th>\n      <th>Accuracy2</th>\n      <th>Accuracy3</th>\n    </tr>\n  </thead>\n  <tbody>\n    <tr>\n      <th>0</th>\n      <td>He</td>\n      <td>10</td>\n      <td>0.500000</td>\n      <td>0.400000</td>\n      <td>0.500000</td>\n      <td>0.400000</td>\n    </tr>\n    <tr>\n      <th>1</th>\n      <td>She</td>\n      <td>14</td>\n      <td>0.571429</td>\n      <td>0.428571</td>\n      <td>0.500000</td>\n      <td>0.500000</td>\n    </tr>\n    <tr>\n      <th>2</th>\n      <td>His</td>\n      <td>4</td>\n      <td>0.750000</td>\n      <td>0.250000</td>\n      <td>0.750000</td>\n      <td>0.250000</td>\n    </tr>\n    <tr>\n      <th>3</th>\n      <td>Her</td>\n      <td>0</td>\n      <td>0.000000</td>\n      <td>0.000000</td>\n      <td>0.000000</td>\n      <td>0.000000</td>\n    </tr>\n    <tr>\n      <th>4</th>\n      <td>he</td>\n      <td>18</td>\n      <td>0.833333</td>\n      <td>0.055556</td>\n      <td>0.833333</td>\n      <td>0.055556</td>\n    </tr>\n    <tr>\n      <th>5</th>\n      <td>she</td>\n      <td>25</td>\n      <td>0.640000</td>\n      <td>0.200000</td>\n      <td>0.640000</td>\n      <td>0.200000</td>\n    </tr>\n    <tr>\n      <th>6</th>\n      <td>his</td>\n      <td>42</td>\n      <td>0.690476</td>\n      <td>0.261905</td>\n      <td>0.690476</td>\n      <td>0.261905</td>\n    </tr>\n    <tr>\n      <th>7</th>\n      <td>him</td>\n      <td>22</td>\n      <td>0.181818</td>\n      <td>0.681818</td>\n      <td>0.181818</td>\n      <td>0.681818</td>\n    </tr>\n    <tr>\n      <th>8</th>\n      <td>her</td>\n      <td>67</td>\n      <td>0.597015</td>\n      <td>0.358209</td>\n      <td>0.611940</td>\n      <td>0.343284</td>\n    </tr>\n    <tr>\n      <th>9</th>\n      <td>hers</td>\n      <td>0</td>\n      <td>0.000000</td>\n      <td>0.000000</td>\n      <td>0.000000</td>\n      <td>0.000000</td>\n    </tr>\n    <tr>\n      <th>10</th>\n      <td>total</td>\n      <td>202</td>\n      <td>0.594059</td>\n      <td>0.331683</td>\n      <td>0.594059</td>\n      <td>0.331683</td>\n    </tr>\n  </tbody>\n</table>\n</div>"
     },
     "metadata": {},
     "execution_count": 41
    }
   ],
   "source": [
    "overall_analysis(train_data, [both_subject], [latter_word, former_word, closer_word, farther_word])"
   ]
  },
  {
   "source": [
    "## 6. When both words are not subject\n"
   ],
   "cell_type": "markdown",
   "metadata": {}
  },
  {
   "cell_type": "code",
   "execution_count": 42,
   "metadata": {},
   "outputs": [
    {
     "output_type": "execute_result",
     "data": {
      "text/plain": [
       "639"
      ]
     },
     "metadata": {},
     "execution_count": 42
    }
   ],
   "source": [
    "none_subject_data = train_data.apply(none_subject, axis=1)\n",
    "none_subject_data = train_data[none_subject_data]\n",
    "len(none_subject_data)"
   ]
  },
  {
   "cell_type": "code",
   "execution_count": 43,
   "metadata": {},
   "outputs": [
    {
     "output_type": "stream",
     "name": "stderr",
     "text": [
      "100%|██████████| 10/10 [00:30<00:00,  3.07s/it]\n"
     ]
    },
    {
     "output_type": "execute_result",
     "data": {
      "text/plain": [
       "   Pronoun  Length  Accuracy0  Accuracy1  Accuracy2  Accuracy3\n",
       "0       He      41   0.390244   0.463415   0.439024   0.414634\n",
       "1      She      50   0.280000   0.420000   0.240000   0.460000\n",
       "2      His      11   0.181818   0.454545   0.181818   0.454545\n",
       "3      Her      19   0.368421   0.368421   0.368421   0.368421\n",
       "4       he      78   0.423077   0.371795   0.423077   0.371795\n",
       "5      she      77   0.337662   0.402597   0.324675   0.415584\n",
       "6      his     148   0.452703   0.290541   0.506757   0.236486\n",
       "7      him      18   0.555556   0.222222   0.555556   0.222222\n",
       "8      her     197   0.502538   0.319797   0.507614   0.314721\n",
       "9     hers       0   0.000000   0.000000   0.000000   0.000000\n",
       "10   total     639   0.428795   0.347418   0.441315   0.334898"
      ],
      "text/html": "<div>\n<style scoped>\n    .dataframe tbody tr th:only-of-type {\n        vertical-align: middle;\n    }\n\n    .dataframe tbody tr th {\n        vertical-align: top;\n    }\n\n    .dataframe thead th {\n        text-align: right;\n    }\n</style>\n<table border=\"1\" class=\"dataframe\">\n  <thead>\n    <tr style=\"text-align: right;\">\n      <th></th>\n      <th>Pronoun</th>\n      <th>Length</th>\n      <th>Accuracy0</th>\n      <th>Accuracy1</th>\n      <th>Accuracy2</th>\n      <th>Accuracy3</th>\n    </tr>\n  </thead>\n  <tbody>\n    <tr>\n      <th>0</th>\n      <td>He</td>\n      <td>41</td>\n      <td>0.390244</td>\n      <td>0.463415</td>\n      <td>0.439024</td>\n      <td>0.414634</td>\n    </tr>\n    <tr>\n      <th>1</th>\n      <td>She</td>\n      <td>50</td>\n      <td>0.280000</td>\n      <td>0.420000</td>\n      <td>0.240000</td>\n      <td>0.460000</td>\n    </tr>\n    <tr>\n      <th>2</th>\n      <td>His</td>\n      <td>11</td>\n      <td>0.181818</td>\n      <td>0.454545</td>\n      <td>0.181818</td>\n      <td>0.454545</td>\n    </tr>\n    <tr>\n      <th>3</th>\n      <td>Her</td>\n      <td>19</td>\n      <td>0.368421</td>\n      <td>0.368421</td>\n      <td>0.368421</td>\n      <td>0.368421</td>\n    </tr>\n    <tr>\n      <th>4</th>\n      <td>he</td>\n      <td>78</td>\n      <td>0.423077</td>\n      <td>0.371795</td>\n      <td>0.423077</td>\n      <td>0.371795</td>\n    </tr>\n    <tr>\n      <th>5</th>\n      <td>she</td>\n      <td>77</td>\n      <td>0.337662</td>\n      <td>0.402597</td>\n      <td>0.324675</td>\n      <td>0.415584</td>\n    </tr>\n    <tr>\n      <th>6</th>\n      <td>his</td>\n      <td>148</td>\n      <td>0.452703</td>\n      <td>0.290541</td>\n      <td>0.506757</td>\n      <td>0.236486</td>\n    </tr>\n    <tr>\n      <th>7</th>\n      <td>him</td>\n      <td>18</td>\n      <td>0.555556</td>\n      <td>0.222222</td>\n      <td>0.555556</td>\n      <td>0.222222</td>\n    </tr>\n    <tr>\n      <th>8</th>\n      <td>her</td>\n      <td>197</td>\n      <td>0.502538</td>\n      <td>0.319797</td>\n      <td>0.507614</td>\n      <td>0.314721</td>\n    </tr>\n    <tr>\n      <th>9</th>\n      <td>hers</td>\n      <td>0</td>\n      <td>0.000000</td>\n      <td>0.000000</td>\n      <td>0.000000</td>\n      <td>0.000000</td>\n    </tr>\n    <tr>\n      <th>10</th>\n      <td>total</td>\n      <td>639</td>\n      <td>0.428795</td>\n      <td>0.347418</td>\n      <td>0.441315</td>\n      <td>0.334898</td>\n    </tr>\n  </tbody>\n</table>\n</div>"
     },
     "metadata": {},
     "execution_count": 43
    }
   ],
   "source": [
    "overall_analysis(train_data, [none_subject], [latter_word, former_word, closer_word, farther_word])"
   ]
  },
  {
   "cell_type": "code",
   "execution_count": 44,
   "metadata": {},
   "outputs": [
    {
     "output_type": "stream",
     "name": "stderr",
     "text": [
      "100%|██████████| 10/10 [00:31<00:00,  3.17s/it]\n"
     ]
    },
    {
     "output_type": "execute_result",
     "data": {
      "text/plain": [
       "   Pronoun  Length  Accuracy0\n",
       "0       He       0   0.000000\n",
       "1      She       0   0.000000\n",
       "2      His       0   0.000000\n",
       "3      Her       0   0.000000\n",
       "4       he       2   0.500000\n",
       "5      she       2   1.000000\n",
       "6      his      13   0.692308\n",
       "7      him       0   0.000000\n",
       "8      her       4   0.750000\n",
       "9     hers       0   0.000000\n",
       "10   total      21   0.714286"
      ],
      "text/html": "<div>\n<style scoped>\n    .dataframe tbody tr th:only-of-type {\n        vertical-align: middle;\n    }\n\n    .dataframe tbody tr th {\n        vertical-align: top;\n    }\n\n    .dataframe thead th {\n        text-align: right;\n    }\n</style>\n<table border=\"1\" class=\"dataframe\">\n  <thead>\n    <tr style=\"text-align: right;\">\n      <th></th>\n      <th>Pronoun</th>\n      <th>Length</th>\n      <th>Accuracy0</th>\n    </tr>\n  </thead>\n  <tbody>\n    <tr>\n      <th>0</th>\n      <td>He</td>\n      <td>0</td>\n      <td>0.000000</td>\n    </tr>\n    <tr>\n      <th>1</th>\n      <td>She</td>\n      <td>0</td>\n      <td>0.000000</td>\n    </tr>\n    <tr>\n      <th>2</th>\n      <td>His</td>\n      <td>0</td>\n      <td>0.000000</td>\n    </tr>\n    <tr>\n      <th>3</th>\n      <td>Her</td>\n      <td>0</td>\n      <td>0.000000</td>\n    </tr>\n    <tr>\n      <th>4</th>\n      <td>he</td>\n      <td>2</td>\n      <td>0.500000</td>\n    </tr>\n    <tr>\n      <th>5</th>\n      <td>she</td>\n      <td>2</td>\n      <td>1.000000</td>\n    </tr>\n    <tr>\n      <th>6</th>\n      <td>his</td>\n      <td>13</td>\n      <td>0.692308</td>\n    </tr>\n    <tr>\n      <th>7</th>\n      <td>him</td>\n      <td>0</td>\n      <td>0.000000</td>\n    </tr>\n    <tr>\n      <th>8</th>\n      <td>her</td>\n      <td>4</td>\n      <td>0.750000</td>\n    </tr>\n    <tr>\n      <th>9</th>\n      <td>hers</td>\n      <td>0</td>\n      <td>0.000000</td>\n    </tr>\n    <tr>\n      <th>10</th>\n      <td>total</td>\n      <td>21</td>\n      <td>0.714286</td>\n    </tr>\n  </tbody>\n</table>\n</div>"
     },
     "metadata": {},
     "execution_count": 44
    }
   ],
   "source": [
    "overall_analysis(train_data, [none_subject, both_latter, another_subject], [lambda x: (False, False)])"
   ]
  },
  {
   "cell_type": "code",
   "execution_count": 60,
   "metadata": {},
   "outputs": [
    {
     "output_type": "stream",
     "name": "stdout",
     "text": [
      "development-1488 Released in November 1987, the album was produced by Peter Cetera and would be her last for 17 years. Recorded mainly in Los Angeles and Malibu, California, I Stand Alone was produced by \u001b[92mPeter Cetera\u001b[0m, the former singer and bass guitar player with American rock band Chicago. \u001b[94mHe\u001b[0m duetted with F*ltskog on the track ``I Wasn't the One (Who Said Goodbye)'', (No.93 Billboard Hot 100 and No.19 Adult Contemporary in the U.S.) The co-producer of the album was \u001b[91mBruce Gaitsch\u001b[0m, with whom F*ltskog was in a relationship at the time.\n\ndevelopment-839 Rino Kawashima (PC), Kei Mizusawa (Drama CD/PSP/anime) Machi is a female teacher who teaches Japanese at Yuihime Girls' Academy. She is the homeroom teacher of Shingo's class, 2-T; Airi, \u001b[91mAngelina\u001b[0m, \u001b[91mSana\u001b[0m and Hayata are also in the same class. \u001b[94mShe\u001b[0m is shy and is not good at talking with young men, but she actually likes boys' love.\n\ndevelopment-225 \u001b[92mJohn Nixon\u001b[0m (May 10, 1815 - June 3, 1899), English mining engineer and colliery proprietor, was born at \u001b[91mBarlow\u001b[0m, Durham, the son of a farmer. \u001b[94mHe\u001b[0m was educated at the village school, and at an academy in Newcastle-on-Tyne, where he distinguished himself in mathematics.\n\ndevelopment-1908 Translations from the Poetry of Rainer Maria Rilke; Letters To a Young Poet; Sonnets To Orpheus; Rilke On Love and Other Difficulties; Duino Elegies; Stories of God. The cover designs feature original paintings by Baldock. Weaver, \u001b[92mKathleen\u001b[0m, Peruvian Rebel, The World of \u001b[91mMagda Portal\u001b[0m, With a Selection of \u001b[94mHer\u001b[0m Poems, Penn State University Press, 2009.\n\ndevelopment-590 Roscoe and his wife had seven sons and three daughters, including William Stanley Roscoe (1782--1843), a poet, Thomas Roscoe (1791--1871), translator from Italian, and Henry (1800--1836), a legal writer who wrote his father's biography. Henry's wife, Maria Roscoe (\u001b[91mn*e Fletcher\u001b[0m) (1798-1885), was the author of \u001b[92mVittoria Colonna\u001b[0m: \u001b[94mHer\u001b[0m Life and Times, and their son Henry Enfield Roscoe (1833--1915) was a chemist and vice-chancellor of the University of London.\n\ndevelopment-906 At the Top 24 round as part of Group 1, Jermaine sang ``Steal My Girl'' together with Vanessa Devi, \u001b[91mShanice Hedger\u001b[0m and \u001b[91mRuth Matthews\u001b[0m as the whole group, and ``Blank Space'' in the solo round, and was sent through to the next round. \u001b[94mShe\u001b[0m sang ``Lay Me Down'' in the Top 16 round and made it through to the finals, singing ``A Sky Full of Stars'' as a group of top 10 finalists and ``Almost Is Never Enough'' in the solo segment of the Identity round.\n\ndevelopment-173 On March 21, 2006, Murray was fired by the Kings and was replaced on an interim basis by John Torchetti. He provided colour commentary for the Canadian Broadcasting Corporation during their Hockey Night in Canada telecasts of the 2006 Stanley Cup playoffs. On December 11, 2006, the Blues hired \u001b[92mMurray\u001b[0m to replace \u001b[91mMike Kitchen\u001b[0m as head coach after a seven game losing streak. \u001b[94mHe\u001b[0m coached the Blues to a record of 33--36--13 in his first full season as coach in 2007--2008.\n\ndevelopment-409 Deanna graduated with a degree in graphic design. She had been working in this field for approximately a year and a half when she was asked to go on tour with a band. That band was ``Mask'', based in Willoughby, Ohio which featured \u001b[92mDeanna\u001b[0m in various costumes dressed as Madonna, Cher, \u001b[91mTina Turner\u001b[0m and others, and local drummer Steve Shutts, local male vocalist Dave Richards, and a couple of fellow Canadians. \u001b[94mShe\u001b[0m quit that gig after friends urged her to move on, and Deanna has never looked back.\n\ndevelopment-928 He is also the chairman of the Troy Aikman Foundation, a charity to benefit children that has recently focused on building playplaces for children's hospital s. Marketing handles Aikman's marketing activities, where Jordan Bazant is his lead agent. \u001b[92mAikman\u001b[0m, who in 1999 was ranked No. 95 on The Sporting News list of the 100 Greatest Football Players, has been the official Wing Stop spokesman for several years. \u001b[94mHe\u001b[0m appeared in the Simpsons episode ``Sunday, Cruddy Sunday'' alongside former Miami Dolphins quarterback \u001b[91mDan Marino\u001b[0m, he participated in a 2001 video honoring Billy Graham 's 83rd birthday, and was invited to be on Dancing with the Stars but turned it down.\n\ndevelopment-1386 \u001b[92mDu Xi\u001b[0m (fl. 190s--231), courtesy name Zixu, was an adviser to the warlord \u001b[91mCao Cao\u001b[0m in the late Eastern Han dynasty. \u001b[94mHe\u001b[0m was a subordinate of Cao Cao's general Xiahou Yuan.\n\n"
     ]
    }
   ],
   "source": [
    "print_sents(datas={'manual':True, 'data':none_subject_data[none_subject_data.apply(lambda row: row['Pronoun'] in ['He','She','His','Her'], axis=1)]}, num_lines = 10)"
   ]
  },
  {
   "source": [
    "1. when two words are close to each other, referred words are more likely to be coreferred word.\n",
    "\n",
    " * {True word} (,?) and {Pronoun}\n"
   ],
   "cell_type": "markdown",
   "metadata": {}
  },
  {
   "cell_type": "code",
   "execution_count": 46,
   "metadata": {},
   "outputs": [],
   "source": [
    "def CC_pronoun(row):\n",
    "    token_dict = tokenized_index(row)\n",
    "\n",
    "    tagged_words = token_dict['tagged_words']\n",
    "    word_index = token_dict['word_index']\n",
    "\n",
    "    pro_index = word_index[row['Pronoun-offset']]\n",
    "    A_index = word_index[row['A-offset']]\n",
    "    B_index = word_index[row['B-offset']]\n",
    "\n",
    "    def coref(index):\n",
    "        if index+5 >= len(tagged_words):\n",
    "            return False\n",
    "        return (tagged_words[index+1][1] == 'CC' and pro_index == index + 2) or \\\n",
    "               (tagged_words[index+2][1] == 'CC' and pro_index == index + 3)\n",
    "\n",
    "    return coref(A_index), coref(B_index)\n",
    "\n",
    "def exist_CC_pronoun(row):\n",
    "    return sum(CC_pronoun(row)) == 1"
   ]
  },
  {
   "cell_type": "code",
   "execution_count": 73,
   "metadata": {},
   "outputs": [
    {
     "output_type": "stream",
     "name": "stdout",
     "text": [
      "23 0.8695652173913043\ndevelopment-1622 She's a mum first and foremost and she's got her identity from being a mum. (...) She's a quiet person. (...) She's strong and she's way classier than I'll ever be!'' Gabby is also portrayed as being ``quiet''. In the same interview, \u001b[91mOruche\u001b[0m noted the differences between \u001b[92mGabby\u001b[0m and \u001b[94mher\u001b[0m character Liberty Baker in Footballers Wives.\n\ndevelopment-1321 However, Archie Mitchell uses Suzy to plant DNA results in a Christmas cracker, showing that Sean Slater is not the father of Roxy's baby. Suzy leaves before Sean finds the results. Phil discovers that *10,000 is missing and blames Suzy so he and Shirley go to find her. In the \u001b[91mQueen Victoria\u001b[0m, Shirley trips \u001b[92mSuzy\u001b[0m and \u001b[94mshe\u001b[0m is knocked out.\n\ndevelopment-757 Immediately after Blackwood's penalty, wide receiver Charlie Brown's 26-yard reception advanced the Redskins to the Dolphins 16-yard line. After calling their final timeout with 14 seconds left, Washington made one last attempt to score a touchdown before trying a field goal. \u001b[91mTheismann\u001b[0m's subsequent pass was caught by \u001b[92mGarrett\u001b[0m, but \u001b[94mhe\u001b[0m was tackled at the 9-yard line by defensive back Glenn Blackwood, preventing any possible field goal attempt as the Redskins were unable to stop the clock before time expired in the half.\n\ndevelopment-1977 ``Don't Cry Your Heart Out'' was radio-friendly pop, but songs such as ``Diamonds'' and ``No Regrets'' were arranged in a style reminiscent of musicals. Some reviews wondered about the song selections, but \u001b[91mDeasismont\u001b[0m's voice was praised nevertheless. The selected songs were alleged by some to be unsuitable for \u001b[92mAmy\u001b[0m and \u001b[94mher\u001b[0m audience, but on the other hand her potential was appreciated.\n\ndevelopment-695 They moved to Go**bki near Warsaw with their three children: Tadeusz (14), Krystyna (13) and Maria (9), and rented a farm called Osada not far from where Irena's parents lived. Soon they began to take in Jews who escaped from Nazi persecution. Among them: \u001b[91mKrystyna Izbicki\u001b[0m, \u001b[92mAnna Zofia\u001b[0m and \u001b[94mher\u001b[0m son Jozef Ettinger, Krystyna Radziejewski and her foster-daughter Larissa Sztorchan, Czeslawa Konko (children's instructor), Zofia Sidor, her sisters, Eliza Temler and Dr.\n\ndevelopment-1982 The Season Nine DVD contains a number of deleted scenes from this episode. Notable cut scenes include: more scenes from the Q&A panel; Pete discussing what he learned working at Dunder Mifflin; Angela's sister, \u001b[91mPhyllis\u001b[0m, and Andy giving toasts at the wedding; more scenes with \u001b[92mErin\u001b[0m and \u001b[94mher\u001b[0m biological parents in which they reconnect; further shots of the office members reminiscing about shared memories; and the office taking one of the potted plants outside and planting it in actual soil.\n\ndevelopment-1213 Truth or Dare by Madonna is a lifestyle brand by American recording artist Madonna. It is the second enterprise from MG Icon LLC, a joint venture between Madonna, her manager Guy Oseary and Iconix Brand Group. This is the second brand from the venture after \u001b[91mMaterial Girl\u001b[0m, which is a fashion line designed by \u001b[92mMadonna\u001b[0m and \u001b[94mher\u001b[0m daughter Lourdes and launched in 2010.\n\ndevelopment-536 The orchestra moved on to the Mound Club in St. Louis, Missouri where he signed with William Foor-Robinson Orchestra Corporation of America. The Tal Henry orchestra went on to Harrisburg, Pennsylvania. Ed Fishman introduced Bob Hope and \u001b[91mGeorge Burns\u001b[0m to \u001b[92mTal Henry\u001b[0m and \u001b[94mHis\u001b[0m North Carolinians and booked them into the Stanley in Pittsburgh.\n\ndevelopment-292 A woman comes to Mel's shop to sell antiques from a house she's moving from after the death of her daughter (from an illness). \u001b[92mMelinda\u001b[0m very quickly discovers that the house is haunted by violent spirits after Ned gets hurt there-which doesn't go down well with \u001b[91mDelia\u001b[0m- and \u001b[94mshe\u001b[0m realizes that the ghost of the little girl (Cassidy) is being trapped there.\n\ndevelopment-326 Her 2008 re-election was closer, with Boseman taking 51.7% of the vote and winning by a margin of about 3,000. In the 2008 presidential primaries, Boseman was an active supporter of Hillary Clinton. The North Carolina primary, coming late in the process, was unusually high-profile and \u001b[91mBoseman\u001b[0m travelled the state campaigning with \u001b[92mClinton\u001b[0m and \u001b[94mher\u001b[0m husband, former President Bill Clinton.\n\n"
     ]
    }
   ],
   "source": [
    "print_sents(datas={'manual':True, 'data':apply_model(train_data, [exist_CC_pronoun], CC_pronoun)}, num_lines = 10)"
   ]
  },
  {
   "cell_type": "code",
   "execution_count": 71,
   "metadata": {},
   "outputs": [
    {
     "output_type": "execute_result",
     "data": {
      "text/plain": [
       "\"Sarah Wadsworth (17 Mar 1649 - ) m. Jonathan Ashley Thomas Wadsworth (1651 -- Sep 1687) m. Elizabeth Rebecca Wadsworth (1653 - ) Some of William Wadsworth's Notable Descendants The following persons are the descendants of William's sons Hon. John Wadsworth or his half brother Capt. Joseph Wadsworth of Charter Oak fame.\""
      ]
     },
     "metadata": {},
     "execution_count": 71
    }
   ],
   "source": [
    "train_data.iloc[478]['Text']"
   ]
  },
  {
   "source": [
    "2. Located in the beggining of a sentence."
   ],
   "cell_type": "markdown",
   "metadata": {}
  },
  {
   "cell_type": "code",
   "execution_count": 48,
   "metadata": {},
   "outputs": [],
   "source": [
    "def begin_sentence(row):\n",
    "\n",
    "    token_dict = tokenized_index(row)\n",
    "    tagged_sents = token_dict['tagged_sents']\n",
    "\n",
    "    Subjects = []\n",
    "\n",
    "    def first_NP(sent):\n",
    "\n",
    "        first_np = \"\"\n",
    "        index=0\n",
    "        while sent[index][1].startswith('NN') or sent[index][1].startswith('W') or sent[index][1] in [\"'s\", 'DT', 'IN', 'CD']:\n",
    "            while sent[index][1].startswith('NNP'):\n",
    "                first_np += sent[index][0] + \" \"\n",
    "                if index < len(sent) - 1:\n",
    "                    index += 1\n",
    "                else:\n",
    "                    break\n",
    "\n",
    "            if len(first_np) > 0:\n",
    "                Subjects.append(first_np)\n",
    "\n",
    "            if index < len(sent) - 1:\n",
    "                index += 1\n",
    "            else:\n",
    "                break\n",
    "\n",
    "    def tagged_split(tagged_sent):\n",
    "        splitted = []\n",
    "        index = 0\n",
    "        \n",
    "        while(index < len(tagged_sent)):\n",
    "            try:\n",
    "                new_index = tagged_sent[index:].index((',',','))\n",
    "                splitted.append(tagged_sent[index:index+new_index])\n",
    "                index += new_index+1\n",
    "            except:\n",
    "                splitted.append(tagged_sent[index:])\n",
    "                return splitted\n",
    "\n",
    "    for sent in tagged_sents:\n",
    "        for sub_sent in tagged_split(sent):\n",
    "        \n",
    "            first_np = first_NP(sub_sent)\n",
    "\n",
    "    def exist(word):\n",
    "        for first_word in Subjects:\n",
    "            if word in first_word:\n",
    "                return True\n",
    "            elif first_word in word:\n",
    "                return True\n",
    "        return False\n",
    "\n",
    "    return (exist(row['A']), exist(row['B']))\n",
    "\n",
    "def begin_sentence_word(row):\n",
    "    return sum(begin_sentence(row)) == 1"
   ]
  },
  {
   "cell_type": "code",
   "execution_count": 49,
   "metadata": {},
   "outputs": [],
   "source": [
    "def most_occurance(row):\n",
    "\n",
    "    token_dict = tokenized_index(row)\n",
    "    tagged_words = token_dict['tagged_words']\n",
    "\n",
    "    index=0\n",
    "    NPs = []\n",
    "    NP_dict = {}\n",
    "\n",
    "    while index < len(tagged_words):\n",
    "        np = \"\"\n",
    "        while index < len(tagged_words) and tagged_words[index][1].startswith('NNP'):\n",
    "            np += tagged_words[index][0] + \" \"\n",
    "            index += 1\n",
    "        \n",
    "        if len(np) > 0:\n",
    "            NPs.append(np[:-1])\n",
    "\n",
    "        index += 1\n",
    "\n",
    "    def occurance(word):\n",
    "        occ = 0\n",
    "        for w in NPs:\n",
    "            if w in word:\n",
    "                occ += 1\n",
    "\n",
    "        return occ\n",
    "\n",
    "    for word in set(NPs):\n",
    "        NP_dict[word] = occurance(word)\n",
    "\n",
    "    max_occ = sorted(NP_dict.items(), key = (lambda x: x[1]), reverse=True)[0]\n",
    "\n",
    "    if max_occ[1] > 1:\n",
    "        return [NP for NP in NP_dict if NP_dict[NP] == max_occ[1]]\n",
    "    else:\n",
    "        return None\n",
    "\n",
    "def more_occurance(row):\n",
    "\n",
    "    most_occs = most_occurance(row)\n",
    "\n",
    "    if most_occs == None:\n",
    "        return (True, True)\n",
    "\n",
    "    def exist(word, words):\n",
    "        for w in words:\n",
    "            if word in w or w in word:\n",
    "                return True\n",
    "        return False\n",
    "\n",
    "    return (exist(row['A'], most_occs), exist(row['B'], most_occs))\n",
    "\n",
    "def only_most_occurance(row):\n",
    "    return sum(more_occurance(row)) == 1\n",
    "\n",
    "def none_most_occurance(row):\n",
    "    return sum(more_occurance(row)) == 0\n",
    "\n",
    "def both_most_occurance(row):\n",
    "    return more_occurance(row) == (True, True)"
   ]
  },
  {
   "cell_type": "code",
   "execution_count": 50,
   "metadata": {},
   "outputs": [
    {
     "output_type": "stream",
     "name": "stderr",
     "text": [
      "100%|██████████| 10/10 [00:45<00:00,  4.53s/it]\n"
     ]
    },
    {
     "output_type": "execute_result",
     "data": {
      "text/plain": [
       "   Pronoun  Length  Accuracy0\n",
       "0       He      20   0.700000\n",
       "1      She      16   0.562500\n",
       "2      His       4   0.750000\n",
       "3      Her       9   0.555556\n",
       "4       he      26   0.653846\n",
       "5      she      34   0.441176\n",
       "6      his      59   0.576271\n",
       "7      him       9   0.555556\n",
       "8      her      92   0.597826\n",
       "9     hers       0   0.000000\n",
       "10   total     269   0.583643"
      ],
      "text/html": "<div>\n<style scoped>\n    .dataframe tbody tr th:only-of-type {\n        vertical-align: middle;\n    }\n\n    .dataframe tbody tr th {\n        vertical-align: top;\n    }\n\n    .dataframe thead th {\n        text-align: right;\n    }\n</style>\n<table border=\"1\" class=\"dataframe\">\n  <thead>\n    <tr style=\"text-align: right;\">\n      <th></th>\n      <th>Pronoun</th>\n      <th>Length</th>\n      <th>Accuracy0</th>\n    </tr>\n  </thead>\n  <tbody>\n    <tr>\n      <th>0</th>\n      <td>He</td>\n      <td>20</td>\n      <td>0.700000</td>\n    </tr>\n    <tr>\n      <th>1</th>\n      <td>She</td>\n      <td>16</td>\n      <td>0.562500</td>\n    </tr>\n    <tr>\n      <th>2</th>\n      <td>His</td>\n      <td>4</td>\n      <td>0.750000</td>\n    </tr>\n    <tr>\n      <th>3</th>\n      <td>Her</td>\n      <td>9</td>\n      <td>0.555556</td>\n    </tr>\n    <tr>\n      <th>4</th>\n      <td>he</td>\n      <td>26</td>\n      <td>0.653846</td>\n    </tr>\n    <tr>\n      <th>5</th>\n      <td>she</td>\n      <td>34</td>\n      <td>0.441176</td>\n    </tr>\n    <tr>\n      <th>6</th>\n      <td>his</td>\n      <td>59</td>\n      <td>0.576271</td>\n    </tr>\n    <tr>\n      <th>7</th>\n      <td>him</td>\n      <td>9</td>\n      <td>0.555556</td>\n    </tr>\n    <tr>\n      <th>8</th>\n      <td>her</td>\n      <td>92</td>\n      <td>0.597826</td>\n    </tr>\n    <tr>\n      <th>9</th>\n      <td>hers</td>\n      <td>0</td>\n      <td>0.000000</td>\n    </tr>\n    <tr>\n      <th>10</th>\n      <td>total</td>\n      <td>269</td>\n      <td>0.583643</td>\n    </tr>\n  </tbody>\n</table>\n</div>"
     },
     "metadata": {},
     "execution_count": 50
    }
   ],
   "source": [
    "overall_analysis(train_data, [none_subject, only_most_occurance], [more_occurance])"
   ]
  },
  {
   "cell_type": "code",
   "execution_count": 51,
   "metadata": {},
   "outputs": [],
   "source": [
    "none_occurance_data = none_subject_data[none_subject_data.apply(none_most_occurance, axis=1)]"
   ]
  },
  {
   "cell_type": "code",
   "execution_count": 52,
   "metadata": {},
   "outputs": [],
   "source": [
    "both_occurance_data = none_subject_data[none_subject_data.apply(both_most_occurance, axis=1)]"
   ]
  },
  {
   "cell_type": "code",
   "execution_count": 53,
   "metadata": {},
   "outputs": [
    {
     "output_type": "stream",
     "name": "stdout",
     "text": [
      "200\n170\n"
     ]
    }
   ],
   "source": [
    "print(len(none_occurance_data))\n",
    "print(len(both_occurance_data))"
   ]
  },
  {
   "cell_type": "code",
   "execution_count": 54,
   "metadata": {},
   "outputs": [
    {
     "output_type": "stream",
     "name": "stdout",
     "text": [
      "development-839 Rino Kawashima (PC), Kei Mizusawa (Drama CD/PSP/anime) Machi is a female teacher who teaches Japanese at Yuihime Girls' Academy. She is the homeroom teacher of Shingo's class, 2-T; Airi, \u001b[91mAngelina\u001b[0m, \u001b[91mSana\u001b[0m and Hayata are also in the same class. \u001b[94mShe\u001b[0m is shy and is not good at talking with young men, but she actually likes boys' love.\n\ndevelopment-1068 She agrees, and as she's crossing the street to return home, a car barrels down the road towards her. Gideon stops the impending accident and allows Abbie to cross the street without incident. The next day, the Graingers visit \u001b[91mJack\u001b[0m's grandfather, \u001b[92mCaleb\u001b[0m. \u001b[94mHe\u001b[0m gives the children presents:\n\ndevelopment-1849 Kenney-Silver was born \u001b[92mKerri Kenney\u001b[0m in Westport, Connecticut, the daughter of \u001b[91mSharon\u001b[0m (McGaughey) and Larry Kenney, an actor who is known for his classic voice-over work. \u001b[94mShe\u001b[0m has a sister, Ashley, and a brother, Tanner.\n\ndevelopment-728 And often (what) adds a tremendous amount of comedy is the choosing to look over there and see what that person thinks and back and forth. He's definitely a hidden character on the show.'' In an April 2007 blog post for TV Guide, actress \u001b[92mKate Flannery\u001b[0m, who plays \u001b[91mMeredith Palmer\u001b[0m, called Jim's impression of Dwight ``one of the funniest scenes that I have ever witnessed.'' \u001b[94mShe\u001b[0m recalled that Krasinski and Wilson enjoyed filming the scene, and that the whole cast was laughing during it, necessitating many takes.\n\ndevelopment-1733 He wrote that ``I never knew a child who had so much influence on adults. Her inner personality was very strong, and she had a natural quality that protected her from being spoiled.'' In October 1901, after the death of Queen \u001b[91mVictoria\u001b[0m, \u001b[92mElisabeth\u001b[0m's parents finally divorced. \u001b[94mHer\u001b[0m mother had rekindled a previous romance with another cousin, her future husband, Grand Duke Cyril Vladimirovich of Russia.\n\ndevelopment-134 Alexander Windsor, Earl of Ulster, born 24 October 1974. He married Claire Booth on 22 June 2002. The couple have two children: Xan Richard Anders Windsor, Lord Culloden (born 12 March 2007) Lady \u001b[91mCosima Rose Alexandra Windsor\u001b[0m (born 20 May 2010) Lady \u001b[92mDavina Lewis\u001b[0m, born 19 November 1977. \u001b[94mShe\u001b[0m married Gary Lewis on 31 July 2004.\n\ndevelopment-565 Her most notable work includes featured vocals for Robin Schulz's ``Headlights'' and ``Disarm You'' for Kaskade, both of which she also co-wrote. Additionally, Juber co-wrote ``All Night'' by \u001b[91mBeyonc*\u001b[0m, as well as the 2015 single ``Powerful'' by Major Lazer featuring \u001b[91mEllie Goulding\u001b[0m. \u001b[94mShe\u001b[0m is presently signed to Sony ATV publishing.\n\ndevelopment-1986 Her personal best for long jump is 6.55 m set in Bangalore on 5 June 2010 during the second Indian Grand Prix. She became only the fourth Indian woman to cross 6.50 m, joining \u001b[91mAnju Bobby George\u001b[0m (6.83 m), J.J. Shobha (6.66 m), and \u001b[91mPramila Aiyappa\u001b[0m. \u001b[94mShe\u001b[0m won the gold medal for her effort.\n\ndevelopment-365 K38 Water Safety has been instrumental in setting the standards for these small boats for lifesaving and rescue use working closely with boating safety associations and government agencies. \u001b[92mJon Lee Anderson\u001b[0m, a writer for the New Yorker Magazine, rode along with \u001b[91mAlladio\u001b[0m on her Waverunner the week following the flooding in New Orleans after Hurricane Katrina. \u001b[94mHe\u001b[0m wrote a story called 'Leaving Desire --\n\ndevelopment-1683 She later played in The Little Princess, with Millie James, Lover's Lane on Broadway, with Mary Ryan and had a two-year run with Edwin Arden in Home Folks. She next appeared with Harry Brodribb Irving in \u001b[91mPaola\u001b[0m and \u001b[91mFrancesca\u001b[0m and Midsummer Night's Dream and in vaudeville with Robert Hilliard and William Harcourt as the boy, in Polly of the Circus. \u001b[94mShe\u001b[0m became the ingenue of the Edison Company at the age of 22, and in her short time before the camera made an enviable record for vivacious and appealing comedy.\n\n"
     ]
    }
   ],
   "source": [
    "print_sents(datas={'manual':True, 'data':both_occurance_data[both_occurance_data.apply(lambda row: row['Pronoun'] in ['He','She','His','Her'], axis=1)]}, num_lines = 10)"
   ]
  },
  {
   "cell_type": "code",
   "execution_count": 55,
   "metadata": {},
   "outputs": [
    {
     "output_type": "stream",
     "name": "stderr",
     "text": [
      "100%|██████████| 10/10 [00:32<00:00,  3.26s/it]\n"
     ]
    },
    {
     "output_type": "execute_result",
     "data": {
      "text/plain": [
       "   Pronoun  Length  Accuracy0  Accuracy1  Accuracy2  Accuracy3  Accuracy4\n",
       "0       He       9   0.555556   0.444444   0.444444   0.555556   0.000000\n",
       "1      She      21   0.428571   0.142857   0.142857   0.428571   0.428571\n",
       "2      His       2   0.500000   0.000000   0.000000   0.500000   0.500000\n",
       "3      Her       3   0.000000   1.000000   1.000000   0.000000   0.000000\n",
       "4       he      23   0.478261   0.217391   0.260870   0.434783   0.304348\n",
       "5      she      20   0.400000   0.400000   0.350000   0.450000   0.200000\n",
       "6      his      39   0.128205   0.615385   0.564103   0.179487   0.256410\n",
       "7      him       3   0.000000   0.666667   0.666667   0.000000   0.333333\n",
       "8      her      50   0.280000   0.560000   0.560000   0.280000   0.160000\n",
       "9     hers       0   0.000000   0.000000   0.000000   0.000000   0.000000\n",
       "10   total     170   0.311765   0.452941   0.441176   0.323529   0.235294"
      ],
      "text/html": "<div>\n<style scoped>\n    .dataframe tbody tr th:only-of-type {\n        vertical-align: middle;\n    }\n\n    .dataframe tbody tr th {\n        vertical-align: top;\n    }\n\n    .dataframe thead th {\n        text-align: right;\n    }\n</style>\n<table border=\"1\" class=\"dataframe\">\n  <thead>\n    <tr style=\"text-align: right;\">\n      <th></th>\n      <th>Pronoun</th>\n      <th>Length</th>\n      <th>Accuracy0</th>\n      <th>Accuracy1</th>\n      <th>Accuracy2</th>\n      <th>Accuracy3</th>\n      <th>Accuracy4</th>\n    </tr>\n  </thead>\n  <tbody>\n    <tr>\n      <th>0</th>\n      <td>He</td>\n      <td>9</td>\n      <td>0.555556</td>\n      <td>0.444444</td>\n      <td>0.444444</td>\n      <td>0.555556</td>\n      <td>0.000000</td>\n    </tr>\n    <tr>\n      <th>1</th>\n      <td>She</td>\n      <td>21</td>\n      <td>0.428571</td>\n      <td>0.142857</td>\n      <td>0.142857</td>\n      <td>0.428571</td>\n      <td>0.428571</td>\n    </tr>\n    <tr>\n      <th>2</th>\n      <td>His</td>\n      <td>2</td>\n      <td>0.500000</td>\n      <td>0.000000</td>\n      <td>0.000000</td>\n      <td>0.500000</td>\n      <td>0.500000</td>\n    </tr>\n    <tr>\n      <th>3</th>\n      <td>Her</td>\n      <td>3</td>\n      <td>0.000000</td>\n      <td>1.000000</td>\n      <td>1.000000</td>\n      <td>0.000000</td>\n      <td>0.000000</td>\n    </tr>\n    <tr>\n      <th>4</th>\n      <td>he</td>\n      <td>23</td>\n      <td>0.478261</td>\n      <td>0.217391</td>\n      <td>0.260870</td>\n      <td>0.434783</td>\n      <td>0.304348</td>\n    </tr>\n    <tr>\n      <th>5</th>\n      <td>she</td>\n      <td>20</td>\n      <td>0.400000</td>\n      <td>0.400000</td>\n      <td>0.350000</td>\n      <td>0.450000</td>\n      <td>0.200000</td>\n    </tr>\n    <tr>\n      <th>6</th>\n      <td>his</td>\n      <td>39</td>\n      <td>0.128205</td>\n      <td>0.615385</td>\n      <td>0.564103</td>\n      <td>0.179487</td>\n      <td>0.256410</td>\n    </tr>\n    <tr>\n      <th>7</th>\n      <td>him</td>\n      <td>3</td>\n      <td>0.000000</td>\n      <td>0.666667</td>\n      <td>0.666667</td>\n      <td>0.000000</td>\n      <td>0.333333</td>\n    </tr>\n    <tr>\n      <th>8</th>\n      <td>her</td>\n      <td>50</td>\n      <td>0.280000</td>\n      <td>0.560000</td>\n      <td>0.560000</td>\n      <td>0.280000</td>\n      <td>0.160000</td>\n    </tr>\n    <tr>\n      <th>9</th>\n      <td>hers</td>\n      <td>0</td>\n      <td>0.000000</td>\n      <td>0.000000</td>\n      <td>0.000000</td>\n      <td>0.000000</td>\n      <td>0.000000</td>\n    </tr>\n    <tr>\n      <th>10</th>\n      <td>total</td>\n      <td>170</td>\n      <td>0.311765</td>\n      <td>0.452941</td>\n      <td>0.441176</td>\n      <td>0.323529</td>\n      <td>0.235294</td>\n    </tr>\n  </tbody>\n</table>\n</div>"
     },
     "metadata": {},
     "execution_count": 55
    }
   ],
   "source": [
    "overall_analysis(train_data, [none_subject, both_most_occurance], [former_word, latter_word, closer_word, farther_word, lambda row: (False, False)])"
   ]
  },
  {
   "cell_type": "code",
   "execution_count": 74,
   "metadata": {},
   "outputs": [
    {
     "output_type": "stream",
     "name": "stdout",
     "text": [
      "development-542 Noteworthy projects that JESS3 has undertaken with \u001b[92mThomas\u001b[0m's leadership include the NASA website ``Buzzroom'' that tracks NASA-related tweets, videos and images, the C-SPAN Video Library, which was awarded a Peabody Award in March 2011, and the design of The Conversation Prism, an infographic poster produced in partnership with \u001b[91mBrian Solis\u001b[0m. In 2010, \u001b[94mhe\u001b[0m was approached by Facebook to develop the Facebook Stories application.\n\ndevelopment-1507 Frederick Magnus (13 January 1672 -- 24 February 1672) Frederica Augusta (21 June 1673 -- 24 July 1674) Christina Sophia (17 December 1674 -- 22 January 1676) Klaudia Magdalene Elisabeth (15 November 1675 -- 18 April 1676) Catherine (10 October 1677 -- 11 August 1746), in 1701 she married Count Johann Friedrich von Leiningen-Hartenburg Charles III William, Margrave of Baden-Durlach (17 January 1679 -- 12 May 1738), he married Magdalena Wilhelmine of W*rttemberg Johanna Elisabeth (3 October 1680 -- 2 July 1757), in 1697 she married Eberhard Louis, Duke of W*rttemberg Albertine Frederica (3 July 1682 -- 22 December 1755), in 1704 \u001b[94mshe\u001b[0m married Christian August of Holstein-Gottorp, Prince of Eutin Christopher (9 October 1684 -- 2 May 1723), he married \u001b[91mMarie Christine Felizitas\u001b[0m zu Leiningen-Dagsburg-Falkenburg-Heidesheim Charlotte Sophia (1 March 1686 -- 5 October 1689) \u001b[91mMarie Anna\u001b[0m (9 July 1688 -- 8 March 1689)\n\ndevelopment-963 She played multiple prominent roles in the gothic soap opera Dark Shadows (1966--71), and appeared on One Life to Live (1982--83). In 2006, a biography of her life was released titled Grayson Hall: A Hard Act to Follow. Hall was born \u001b[92mShirley Grossman\u001b[0m in Philadelphia, Pennsylvania in 1922, the only child of \u001b[91mEleanor\u001b[0m and Joseph Grossman. \u001b[94mHer\u001b[0m father was from Latvia and her mother, who had acted in the Yiddish theatre, was from South Africa.\n\ndevelopment-451 In the mid-1930s, Daisy Clover is a teenage tomboy, living in a ramshackle trailer on a California beach with her eccentric mother Lucile. She dreams about becoming a Hollywood actress and submits a recorded song to a well-known film producer, Raymond Swan. Swan puts her under contract for five years. Raymond's wife, \u001b[91mMelora\u001b[0m, counsels \u001b[92mDaisy\u001b[0m, forcing \u001b[94mher\u001b[0m to deal with her job and life.\n\ndevelopment-1438 According to Richard Pankhurst, Adwa derives its name from Adi Awa (or Wa), ``Village of the Awa''; the Awa are an ethnic group mentioned in the anonymous Monumentum Adulitanum that once stood at Adulis. \u001b[92mFrancisco Alvares\u001b[0m records that the Portuguese diplomatic mission passed \u001b[91mAdwa\u001b[0m, which \u001b[94mhe\u001b[0m called ``Houses of St. Michael,'' in August 1520.\n\ndevelopment-1538 In order to give the dragons Odjn, Dover, and Chetyre their own distinct identity, they were made to speak Russian during cutscenes and were named after the Russian numbers one (****, adeen), two (***, dva), and four (******, chyetirye), respectively. Unlike the protagonists of previous Breath of Fire games, each also named Ryu, the \u001b[92mRyu\u001b[0m in this game is a normal human being characterized by \u001b[91mYoshikawa\u001b[0m as ``an average person like you might find anywhere'' with \u001b[94mhis\u001b[0m only extraordinary ability being his strong will and sense of justice.\n\ndevelopment-1148 Judah Rosenthal (Martin Landau), a successful ophthalmologist, and Clifford Stern (Woody Allen), a small-time documentary filmmaker. Judah, a respectable family man, is having an affair with flight attendant Dolores Paley (Anjelica Huston). After it becomes clear to \u001b[94mher\u001b[0m that Judah will not end his marriage, \u001b[92mDolores\u001b[0m threatens to disclose the affair to Judah's wife, \u001b[91mMiriam\u001b[0m (Claire Bloom).\n\ndevelopment-450 Wade asks Daisy to marry him and the ceremony is held on the Swans' estate. On the first night of their honeymoon in Arizona, he drives off and leaves her. When she returns to Raymond's house, an extremely intoxicated \u001b[92mMelora\u001b[0m reveals to \u001b[91mDaisy\u001b[0m that \u001b[94mshe\u001b[0m had an affair with the closet homosexual Wade.\n\ndevelopment-46 The feature-length documentary traced the journey of the song, Hava Nagila, from the Ukraine to YouTube. Released theatrically and screened at 80 Jewish film festivals, Hava Nagila:The Movie was either opening or closing night at more than half of those festivals. Director Dyanna Taylor's film about \u001b[94mher\u001b[0m grandmother, the photographer \u001b[91mDorothea Lange\u001b[0m, Grab a Hunk of Lightning, aired on PBS's ``American Masters'' in 2014 and was produced by \u001b[91mGrossman\u001b[0m.\n\ndevelopment-245 Before Fanny knew Sasha was back, she hired a professional dancer from San Francisco, CA, ``The Ringer,'' to play ``Clara.'' This creates hostility between the two lead dancers. Michelle helps \u001b[91mGinny\u001b[0m, \u001b[91mMelanie\u001b[0m, and Boo make up from their argument. Boo is still pining for Carl, and Sasha meets a boy from the basketball team when \u001b[94mshe\u001b[0m was a cheerleader.\n\n"
     ]
    }
   ],
   "source": [
    "print_sents(datas={'manual':True, 'data':none_occurance_data}, num_lines = 10)"
   ]
  },
  {
   "cell_type": "code",
   "execution_count": 58,
   "metadata": {},
   "outputs": [
    {
     "output_type": "stream",
     "name": "stderr",
     "text": [
      "100%|██████████| 10/10 [00:30<00:00,  3.07s/it]\n"
     ]
    },
    {
     "output_type": "execute_result",
     "data": {
      "text/plain": [
       "   Pronoun  Length  Accuracy0  Accuracy1  Accuracy2  Accuracy3  Accuracy4\n",
       "0       He      12   0.333333   0.250000   0.250000   0.333333   0.416667\n",
       "1      She      13   0.461538   0.230769   0.153846   0.538462   0.307692\n",
       "2      His       5   0.600000   0.000000   0.000000   0.600000   0.400000\n",
       "3      Her       7   0.285714   0.142857   0.142857   0.285714   0.571429\n",
       "4       he      29   0.379310   0.379310   0.379310   0.379310   0.241379\n",
       "5      she      23   0.391304   0.304348   0.260870   0.434783   0.304348\n",
       "6      his      50   0.260000   0.340000   0.420000   0.180000   0.400000\n",
       "7      him       6   0.166667   0.500000   0.500000   0.166667   0.333333\n",
       "8      her      55   0.418182   0.345455   0.345455   0.418182   0.236364\n",
       "9     hers       0   0.000000   0.000000   0.000000   0.000000   0.000000\n",
       "10   total     200   0.360000   0.320000   0.330000   0.350000   0.320000"
      ],
      "text/html": "<div>\n<style scoped>\n    .dataframe tbody tr th:only-of-type {\n        vertical-align: middle;\n    }\n\n    .dataframe tbody tr th {\n        vertical-align: top;\n    }\n\n    .dataframe thead th {\n        text-align: right;\n    }\n</style>\n<table border=\"1\" class=\"dataframe\">\n  <thead>\n    <tr style=\"text-align: right;\">\n      <th></th>\n      <th>Pronoun</th>\n      <th>Length</th>\n      <th>Accuracy0</th>\n      <th>Accuracy1</th>\n      <th>Accuracy2</th>\n      <th>Accuracy3</th>\n      <th>Accuracy4</th>\n    </tr>\n  </thead>\n  <tbody>\n    <tr>\n      <th>0</th>\n      <td>He</td>\n      <td>12</td>\n      <td>0.333333</td>\n      <td>0.250000</td>\n      <td>0.250000</td>\n      <td>0.333333</td>\n      <td>0.416667</td>\n    </tr>\n    <tr>\n      <th>1</th>\n      <td>She</td>\n      <td>13</td>\n      <td>0.461538</td>\n      <td>0.230769</td>\n      <td>0.153846</td>\n      <td>0.538462</td>\n      <td>0.307692</td>\n    </tr>\n    <tr>\n      <th>2</th>\n      <td>His</td>\n      <td>5</td>\n      <td>0.600000</td>\n      <td>0.000000</td>\n      <td>0.000000</td>\n      <td>0.600000</td>\n      <td>0.400000</td>\n    </tr>\n    <tr>\n      <th>3</th>\n      <td>Her</td>\n      <td>7</td>\n      <td>0.285714</td>\n      <td>0.142857</td>\n      <td>0.142857</td>\n      <td>0.285714</td>\n      <td>0.571429</td>\n    </tr>\n    <tr>\n      <th>4</th>\n      <td>he</td>\n      <td>29</td>\n      <td>0.379310</td>\n      <td>0.379310</td>\n      <td>0.379310</td>\n      <td>0.379310</td>\n      <td>0.241379</td>\n    </tr>\n    <tr>\n      <th>5</th>\n      <td>she</td>\n      <td>23</td>\n      <td>0.391304</td>\n      <td>0.304348</td>\n      <td>0.260870</td>\n      <td>0.434783</td>\n      <td>0.304348</td>\n    </tr>\n    <tr>\n      <th>6</th>\n      <td>his</td>\n      <td>50</td>\n      <td>0.260000</td>\n      <td>0.340000</td>\n      <td>0.420000</td>\n      <td>0.180000</td>\n      <td>0.400000</td>\n    </tr>\n    <tr>\n      <th>7</th>\n      <td>him</td>\n      <td>6</td>\n      <td>0.166667</td>\n      <td>0.500000</td>\n      <td>0.500000</td>\n      <td>0.166667</td>\n      <td>0.333333</td>\n    </tr>\n    <tr>\n      <th>8</th>\n      <td>her</td>\n      <td>55</td>\n      <td>0.418182</td>\n      <td>0.345455</td>\n      <td>0.345455</td>\n      <td>0.418182</td>\n      <td>0.236364</td>\n    </tr>\n    <tr>\n      <th>9</th>\n      <td>hers</td>\n      <td>0</td>\n      <td>0.000000</td>\n      <td>0.000000</td>\n      <td>0.000000</td>\n      <td>0.000000</td>\n      <td>0.000000</td>\n    </tr>\n    <tr>\n      <th>10</th>\n      <td>total</td>\n      <td>200</td>\n      <td>0.360000</td>\n      <td>0.320000</td>\n      <td>0.330000</td>\n      <td>0.350000</td>\n      <td>0.320000</td>\n    </tr>\n  </tbody>\n</table>\n</div>"
     },
     "metadata": {},
     "execution_count": 58
    }
   ],
   "source": [
    "overall_analysis(train_data, [none_subject, none_most_occurance], [former_word, latter_word, closer_word, farther_word, lambda row: (False, False)])"
   ]
  },
  {
   "cell_type": "code",
   "execution_count": 59,
   "metadata": {},
   "outputs": [
    {
     "output_type": "stream",
     "name": "stdout",
     "text": [
      "200 0.35\n"
     ]
    }
   ],
   "source": [
    "rest = apply_model(train_data, [none_subject, none_most_occurance], begin_sentence)"
   ]
  },
  {
   "cell_type": "code",
   "execution_count": 61,
   "metadata": {},
   "outputs": [
    {
     "output_type": "stream",
     "name": "stderr",
     "text": [
      "100%|██████████| 10/10 [03:32<00:00, 21.21s/it]\n"
     ]
    },
    {
     "output_type": "execute_result",
     "data": {
      "text/plain": [
       "   Pronoun  Length  Accuracy0\n",
       "0       He     138   0.782609\n",
       "1      She     179   0.765363\n",
       "2      His      33   0.757576\n",
       "3      Her      38   0.578947\n",
       "4       he     235   0.689362\n",
       "5      she     249   0.654618\n",
       "6      his     496   0.699597\n",
       "7      him      98   0.571429\n",
       "8      her     534   0.602996\n",
       "9     hers       0   0.000000\n",
       "10   total    2000   0.671000"
      ],
      "text/html": "<div>\n<style scoped>\n    .dataframe tbody tr th:only-of-type {\n        vertical-align: middle;\n    }\n\n    .dataframe tbody tr th {\n        vertical-align: top;\n    }\n\n    .dataframe thead th {\n        text-align: right;\n    }\n</style>\n<table border=\"1\" class=\"dataframe\">\n  <thead>\n    <tr style=\"text-align: right;\">\n      <th></th>\n      <th>Pronoun</th>\n      <th>Length</th>\n      <th>Accuracy0</th>\n    </tr>\n  </thead>\n  <tbody>\n    <tr>\n      <th>0</th>\n      <td>He</td>\n      <td>138</td>\n      <td>0.782609</td>\n    </tr>\n    <tr>\n      <th>1</th>\n      <td>She</td>\n      <td>179</td>\n      <td>0.765363</td>\n    </tr>\n    <tr>\n      <th>2</th>\n      <td>His</td>\n      <td>33</td>\n      <td>0.757576</td>\n    </tr>\n    <tr>\n      <th>3</th>\n      <td>Her</td>\n      <td>38</td>\n      <td>0.578947</td>\n    </tr>\n    <tr>\n      <th>4</th>\n      <td>he</td>\n      <td>235</td>\n      <td>0.689362</td>\n    </tr>\n    <tr>\n      <th>5</th>\n      <td>she</td>\n      <td>249</td>\n      <td>0.654618</td>\n    </tr>\n    <tr>\n      <th>6</th>\n      <td>his</td>\n      <td>496</td>\n      <td>0.699597</td>\n    </tr>\n    <tr>\n      <th>7</th>\n      <td>him</td>\n      <td>98</td>\n      <td>0.571429</td>\n    </tr>\n    <tr>\n      <th>8</th>\n      <td>her</td>\n      <td>534</td>\n      <td>0.602996</td>\n    </tr>\n    <tr>\n      <th>9</th>\n      <td>hers</td>\n      <td>0</td>\n      <td>0.000000</td>\n    </tr>\n    <tr>\n      <th>10</th>\n      <td>total</td>\n      <td>2000</td>\n      <td>0.671000</td>\n    </tr>\n  </tbody>\n</table>\n</div>"
     },
     "metadata": {},
     "execution_count": 61
    }
   ],
   "source": [
    "overall_analysis(train_data, [], [subject])"
   ]
  },
  {
   "cell_type": "code",
   "execution_count": 62,
   "metadata": {},
   "outputs": [
    {
     "output_type": "stream",
     "name": "stderr",
     "text": [
      "100%|██████████| 10/10 [02:31<00:00, 15.12s/it]\n"
     ]
    },
    {
     "output_type": "execute_result",
     "data": {
      "text/plain": [
       "   Pronoun  Length  Accuracy0\n",
       "0       He     127   0.842520\n",
       "1      She     159   0.691824\n",
       "2      His      28   0.642857\n",
       "3      Her      37   0.675676\n",
       "4       he     221   0.674208\n",
       "5      she     237   0.687764\n",
       "6      his     528   0.662879\n",
       "7      him      96   0.468750\n",
       "8      her     566   0.597173\n",
       "9     hers       1   0.000000\n",
       "10   total    2000   0.652500"
      ],
      "text/html": "<div>\n<style scoped>\n    .dataframe tbody tr th:only-of-type {\n        vertical-align: middle;\n    }\n\n    .dataframe tbody tr th {\n        vertical-align: top;\n    }\n\n    .dataframe thead th {\n        text-align: right;\n    }\n</style>\n<table border=\"1\" class=\"dataframe\">\n  <thead>\n    <tr style=\"text-align: right;\">\n      <th></th>\n      <th>Pronoun</th>\n      <th>Length</th>\n      <th>Accuracy0</th>\n    </tr>\n  </thead>\n  <tbody>\n    <tr>\n      <th>0</th>\n      <td>He</td>\n      <td>127</td>\n      <td>0.842520</td>\n    </tr>\n    <tr>\n      <th>1</th>\n      <td>She</td>\n      <td>159</td>\n      <td>0.691824</td>\n    </tr>\n    <tr>\n      <th>2</th>\n      <td>His</td>\n      <td>28</td>\n      <td>0.642857</td>\n    </tr>\n    <tr>\n      <th>3</th>\n      <td>Her</td>\n      <td>37</td>\n      <td>0.675676</td>\n    </tr>\n    <tr>\n      <th>4</th>\n      <td>he</td>\n      <td>221</td>\n      <td>0.674208</td>\n    </tr>\n    <tr>\n      <th>5</th>\n      <td>she</td>\n      <td>237</td>\n      <td>0.687764</td>\n    </tr>\n    <tr>\n      <th>6</th>\n      <td>his</td>\n      <td>528</td>\n      <td>0.662879</td>\n    </tr>\n    <tr>\n      <th>7</th>\n      <td>him</td>\n      <td>96</td>\n      <td>0.468750</td>\n    </tr>\n    <tr>\n      <th>8</th>\n      <td>her</td>\n      <td>566</td>\n      <td>0.597173</td>\n    </tr>\n    <tr>\n      <th>9</th>\n      <td>hers</td>\n      <td>1</td>\n      <td>0.000000</td>\n    </tr>\n    <tr>\n      <th>10</th>\n      <td>total</td>\n      <td>2000</td>\n      <td>0.652500</td>\n    </tr>\n  </tbody>\n</table>\n</div>"
     },
     "metadata": {},
     "execution_count": 62
    }
   ],
   "source": [
    "overall_analysis(test_data, [], [subject])"
   ]
  },
  {
   "cell_type": "code",
   "execution_count": 63,
   "metadata": {},
   "outputs": [
    {
     "output_type": "stream",
     "name": "stdout",
     "text": [
      "2000 0.6525\n"
     ]
    }
   ],
   "source": [
    "subject_data = apply_model(test_data, [], subject)"
   ]
  },
  {
   "cell_type": "code",
   "execution_count": 68,
   "metadata": {},
   "outputs": [],
   "source": [
    "result = open(\"subject_word.tsv\", 'w')\n",
    "\n",
    "for row in subject_data.iloc:\n",
    "\n",
    "    result.write(\"\\t\".join([row['ID'], str(row['A-pred']), str(row['B-pred'])]) + \"\\n\")\n",
    "\n",
    "result.close()"
   ]
  },
  {
   "cell_type": "code",
   "execution_count": 69,
   "metadata": {},
   "outputs": [
    {
     "output_type": "stream",
     "name": "stdout",
     "text": [
      "gap_scorer.py:126: DeprecationWarning: 'U' mode is deprecated\n  with open(filename, 'rU') as f:\nOverall recall: 72.0 precision: 66.5 f1: 69.2\n\t\ttp 1277\tfp 642\n\t\tfn 496\ttn 1585\nMasculine recall: 73.3 precision: 68.6 f1: 70.9\n\t\ttp 652\tfp 299\n\t\tfn 237\ttn 812\nFeminine recall: 70.7 precision: 64.6 f1: 67.5\n\t\ttp 625\tfp 343\n\t\tfn 259\ttn 773\nBias (F/M): 0.95\n\n"
     ]
    }
   ],
   "source": [
    "!python gap_scorer.py --gold_ts=gap-test.tsv --system_tsv=subject_word.tsv"
   ]
  },
  {
   "cell_type": "code",
   "execution_count": null,
   "metadata": {},
   "outputs": [],
   "source": []
  }
 ]
}