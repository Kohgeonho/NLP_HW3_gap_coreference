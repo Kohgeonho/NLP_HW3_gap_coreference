{
 "metadata": {
  "language_info": {
   "codemirror_mode": {
    "name": "ipython",
    "version": 3
   },
   "file_extension": ".py",
   "mimetype": "text/x-python",
   "name": "python",
   "nbconvert_exporter": "python",
   "pygments_lexer": "ipython3",
   "version": "3.8.5"
  },
  "orig_nbformat": 2,
  "kernelspec": {
   "name": "python385jvsc74a57bd08235b21b7e4ccb1a631c75a86bc50b1a38dfb6faace30e871c40999987116d9b",
   "display_name": "Python 3.8.5 64-bit ('base': conda)"
  },
  "metadata": {
   "interpreter": {
    "hash": "38e31c96aac6b52bfd92a03a517d6944ec75782017e4445807e0cb0d41655b05"
   }
  }
 },
 "nbformat": 4,
 "nbformat_minor": 2,
 "cells": [
  {
   "cell_type": "code",
   "execution_count": 1,
   "metadata": {},
   "outputs": [],
   "source": [
    "from helper import *\n",
    "from funcs import *"
   ]
  },
  {
   "source": [
    "**tf.tsv**\n",
    "\n",
    "always predict A-coref as True and B-coref as False"
   ],
   "cell_type": "markdown",
   "metadata": {}
  },
  {
   "cell_type": "code",
   "execution_count": 2,
   "metadata": {},
   "outputs": [],
   "source": [
    "f_test = open(\"gap-test.tsv\", \"r\")\n",
    "result = open(\"tf.tsv\", 'w')\n",
    "test_data = f_test.readlines()\n",
    "\n",
    "for line in test_data[1:]:\n",
    "    attrs = line.split('\\t')\n",
    "    result.write(\"\\t\".join([attrs[0]] + ['True', 'False']) + \"\\n\")\n",
    "\n",
    "f_test.close()\n",
    "result.close()"
   ]
  },
  {
   "cell_type": "code",
   "execution_count": 3,
   "metadata": {},
   "outputs": [
    {
     "output_type": "stream",
     "name": "stdout",
     "text": [
      "gap_scorer.py:126: DeprecationWarning: 'U' mode is deprecated\n",
      "  with open(filename, 'rU') as f:\n",
      "Overall recall: 51.8 precision: 45.9 f1: 48.7\n",
      "\t\ttp 918\tfp 1082\n",
      "\t\tfn 855\ttn 1145\n",
      "Masculine recall: 51.0 precision: 45.3 f1: 48.0\n",
      "\t\ttp 453\tfp 547\n",
      "\t\tfn 436\ttn 564\n",
      "Feminine recall: 52.6 precision: 46.5 f1: 49.4\n",
      "\t\ttp 465\tfp 535\n",
      "\t\tfn 419\ttn 581\n",
      "Bias (F/M): 1.03\n",
      "\n"
     ]
    }
   ],
   "source": [
    "!python gap_scorer.py --gold_ts=gap-test.tsv --system_tsv=tf.tsv"
   ]
  },
  {
   "source": [
    "**closer.tsv**\n",
    "\n",
    "Predict closer coreference to pronoun as True"
   ],
   "cell_type": "markdown",
   "metadata": {}
  },
  {
   "cell_type": "code",
   "execution_count": 4,
   "metadata": {
    "tags": []
   },
   "outputs": [],
   "source": [
    "f_test = open(\"gap-test.tsv\", \"r\")\n",
    "result = open(\"closer.tsv\", 'w')\n",
    "test_data = f_test.readlines()\n",
    "\n",
    "for line in test_data[1:]:\n",
    "    attrs = line.split('\\t')\n",
    "    tf = ['True', 'False']\n",
    "    if abs(int(attrs[3]) - int(attrs[5])) > abs(int(attrs[3]) - int(attrs[8])):\n",
    "        tf = ['False', 'True']\n",
    "\n",
    "    result.write(\"\\t\".join([attrs[0]] + tf) + \"\\n\")\n",
    "\n",
    "f_test.close()\n",
    "result.close()"
   ]
  },
  {
   "cell_type": "code",
   "execution_count": 5,
   "metadata": {},
   "outputs": [
    {
     "output_type": "stream",
     "name": "stdout",
     "text": [
      "gap_scorer.py:126: DeprecationWarning: 'U' mode is deprecated\n",
      "  with open(filename, 'rU') as f:\n",
      "Overall recall: 50.1 precision: 44.4 f1: 47.1\n",
      "\t\ttp 888\tfp 1112\n",
      "\t\tfn 885\ttn 1115\n",
      "Masculine recall: 51.6 precision: 45.9 f1: 48.6\n",
      "\t\ttp 459\tfp 541\n",
      "\t\tfn 430\ttn 570\n",
      "Feminine recall: 48.5 precision: 42.9 f1: 45.5\n",
      "\t\ttp 429\tfp 571\n",
      "\t\tfn 455\ttn 545\n",
      "Bias (F/M): 0.94\n",
      "\n"
     ]
    }
   ],
   "source": [
    "!python gap_scorer.py --gold_ts=gap-test.tsv --system_tsv=closer.tsv"
   ]
  },
  {
   "cell_type": "code",
   "execution_count": 6,
   "metadata": {
    "tags": []
   },
   "outputs": [
    {
     "output_type": "stream",
     "name": "stdout",
     "text": [
      "However, Arjun manages to escape and is rescued by Guru Bahula,the royal priest of Bali. Bahula manages to escape with Arjun and hide in a cave. Arjun is found unconscious lying on a bed. He soon wakes up and addresses Bheem and friends as mere kids. Chutki and \u001b[91mRaju\u001b[0m feel that they shouldn't help \u001b[91mArjun\u001b[0m at all. Bheem explains \u001b[94mhis\u001b[0m friends to keep patience and asks them not to leave Arjun in this dangerous situation.\n",
      "\n",
      "Rocky travels to Dubai, where his friend Babloo (Vijay Raaz) has already tracked down Tanya, who has become Natasha, a successful singer and performer. Rocky and Babloo stakeout Natasha's villa to make sure they are on the right track, but as soon as \u001b[92mRocky\u001b[0m spots Natasha, it's love at first sight. While \u001b[94mhe\u001b[0m has Natasha under surveillance, \u001b[91mKaran\u001b[0m and Murugan arrive at the Dubai airport from India.\n",
      "\n",
      "After the 1980 elections he became Minister for Communications. In May 1982, he became Minister for Defence, a post he held until the defeat of the Fraser government at the 1983 election. In January 1984 \u001b[92mAnthony\u001b[0m resigned the leadership of the National Country Party (as the Country Party had been renamed in 1975), and \u001b[91mSinclair\u001b[0m succeeded \u001b[94mhim\u001b[0m.\n",
      "\n",
      "\u001b[92mAnastasia\u001b[0m (portrayed by Addison Holley) is first introduced in ``Welcome back Dusker'' as a little girl who is after Ethan and \u001b[91mSarah\u001b[0m because vampires are being attacked by an ominous green mist later identified by Benny as, ``The Breath of Death''. \u001b[94mShe\u001b[0m initially accuses Ethan of being the one behind the vampire attacks as he is a known vampire hunter and because vampires sent by the Council to retrieve his love interest Sarah were killed in his garden.\n",
      "\n",
      "In 1947 McCrae persuaded Bradley to run professionally, where he had his first run in the Powderhall sprint, winning his heat and attracting the attention of bookmaker William Murphy who offered to sponsor Bradley for a preparation at the famous New year sprint. In 1951, Bradley became a training partner for Eric Cumming, the champion Australian professional athlete who was on a 10 week preparation for the Powderhall sprint. \u001b[92mCumming\u001b[0m was beaten in the semi final and was ready to return to Australia before \u001b[91mBradley\u001b[0m convinced \u001b[94mhim\u001b[0m to stay in Scotland and have another go at Powderhall in 1952.\n",
      "\n",
      "New York Times writer Gerald Jonas asserts that the novel's plot summary resembles a ``grade Z, made-for-television, science-fiction rip-off movie'', but says that Card develops the elements well despite this ``unpromising material''. \u001b[91mJonas\u001b[0m further praises the development of the character \u001b[92mEnder Wiggin\u001b[0m: ``Alternately likable and insufferable, \u001b[94mhe\u001b[0m is a convincing little Napoleon in short pants.''\n",
      "\n",
      "He is best known as a longstanding member of Richard Thompson 's touring band, where he serves as backing vocalist and plays acoustic guitar, mandolin, saxophone, flute, and tin whistle. Although \u001b[94mhe\u001b[0m frequently tours with \u001b[91mThompson\u001b[0m, \u001b[92mZorn\u001b[0m has also played with many other singers and groups including Arizona Smoke Revue formed by older brother Bill Zorn, Show of Hands, the Phil Beer Band, Elaine Paige, Thomas Anders, Gerry Rafferty, Barbara Dickson and his band WAZ which currently features folk legend Steve Tilston.\n",
      "\n",
      "Morneau went on to hit four home runs in his rookie season while batting .226. However he spent the majority of the season with the Triple-A Rochester Red Wings. In 2004, after compiling impressive minor league numbers, the Twins dealt veteran first baseman \u001b[91mDoug Mientkiewicz\u001b[0m to the Boston Red Sox and \u001b[92mMorneau\u001b[0m became the Twins' starting first baseman. \u001b[94mHe\u001b[0m appeared in 74 games for the Twins in 2004, hitting 19 home runs and 58 RBI in 280 at bats while committing just three errors.\n",
      "\n",
      "Alongside Perri's slowed vocals and fitting lyrics a montage of Revenge``s last season is played. Directed by Elliott Sellers, \u001b[91mPerri\u001b[0m's music video was shot on the Revenge set in Los Angeles. With clips from the show, \u001b[92mEmily\u001b[0m's love triangle is showcased between \u001b[94mher\u001b[0m childhood friend Jack and Hamptons'' Daniel Grayson played by Joshua Bowman.\n",
      "\n",
      "From about the age seven, she says that she thought about dieting, having learned the word and the concept on the many television sets she worked on as a very busy child actress. She became preoccupied with the television movie The Best Little Girl in the World, starring actress \u001b[91mJennifer Jason Leigh\u001b[0m, about an anorexic teenager. In \u001b[94mher\u001b[0m autobiography, \u001b[92mGold\u001b[0m says that in an attempt to control her development into a woman, she began restricting what she ate.\n",
      "\n"
     ]
    }
   ],
   "source": [
    "print_sents(random=True)"
   ]
  },
  {
   "cell_type": "code",
   "execution_count": 7,
   "metadata": {},
   "outputs": [],
   "source": [
    "import pandas as pd"
   ]
  },
  {
   "cell_type": "code",
   "execution_count": 8,
   "metadata": {},
   "outputs": [
    {
     "output_type": "stream",
     "name": "stdout",
     "text": [
      "<class 'pandas.core.frame.DataFrame'>\nRangeIndex: 2000 entries, 0 to 1999\nData columns (total 11 columns):\n #   Column          Non-Null Count  Dtype \n---  ------          --------------  ----- \n 0   ID              2000 non-null   object\n 1   Text            2000 non-null   object\n 2   Pronoun         2000 non-null   object\n 3   Pronoun-offset  2000 non-null   int64 \n 4   A               2000 non-null   object\n 5   A-offset        2000 non-null   int64 \n 6   A-coref         2000 non-null   bool  \n 7   B               2000 non-null   object\n 8   B-offset        2000 non-null   int64 \n 9   B-coref         2000 non-null   bool  \n 10  URL             2000 non-null   object\ndtypes: bool(2), int64(3), object(6)\nmemory usage: 144.7+ KB\n"
     ]
    }
   ],
   "source": [
    "train_data = pd.read_csv('gap-development.tsv', sep='\\t')\n",
    "test_data = pd.read_csv('gap-test.tsv', sep='\\t')\n",
    "test_data.info()"
   ]
  },
  {
   "source": [
    "**subject.tsv**\n",
    "\n",
    "Predict farther coreference pronoun as True when pronoun is subject pronoun (he, she).\n",
    "Predict closer coreference pronoun as True when pronoun is not subject pronoun, which is object or possessive pronoun(her, his, him)."
   ],
   "cell_type": "markdown",
   "metadata": {}
  },
  {
   "cell_type": "code",
   "execution_count": 9,
   "metadata": {},
   "outputs": [
    {
     "output_type": "execute_result",
     "data": {
      "text/plain": [
       "{'He', 'Her', 'His', 'She', 'he', 'her', 'him', 'his', 'she'}"
      ]
     },
     "metadata": {},
     "execution_count": 9
    }
   ],
   "source": [
    "pronouns = set(train_data['Pronoun'])\n",
    "pronouns"
   ]
  },
  {
   "cell_type": "code",
   "execution_count": 10,
   "metadata": {
    "tags": []
   },
   "outputs": [],
   "source": [
    "result = open(\"subject.tsv\", 'w')\n",
    "\n",
    "for attrs in test_data.iloc:\n",
    "    pro, pro_id = attrs[2:4]\n",
    "    A, A_id = attrs[4:6]\n",
    "    B, B_id = attrs[7:9]\n",
    "\n",
    "    if pro.lower() in ['he', 'she']:\n",
    "        if abs(pro_id - A_id) > abs(pro_id - B_id):\n",
    "            tf = ['TRUE', 'FALSE']\n",
    "        else:\n",
    "            tf = ['FALSE', 'TRUE']\n",
    "    else:\n",
    "        if abs(pro_id - A_id) > abs(pro_id - B_id):\n",
    "            tf = ['FALSE', 'TRUE']\n",
    "        else:\n",
    "            tf = ['TRUE', 'FALSE']\n",
    "\n",
    "    result.write(\"\\t\".join([attrs[0]] + tf) + \"\\n\")\n",
    "\n",
    "f_test.close()\n",
    "result.close()"
   ]
  },
  {
   "cell_type": "code",
   "execution_count": 11,
   "metadata": {},
   "outputs": [
    {
     "output_type": "stream",
     "name": "stdout",
     "text": [
      "gap_scorer.py:126: DeprecationWarning: 'U' mode is deprecated\n",
      "  with open(filename, 'rU') as f:\n",
      "Overall recall: 58.3 precision: 51.6 f1: 54.8\n",
      "\t\ttp 1033\tfp 967\n",
      "\t\tfn 740\ttn 1260\n",
      "Masculine recall: 59.4 precision: 52.8 f1: 55.9\n",
      "\t\ttp 528\tfp 472\n",
      "\t\tfn 361\ttn 639\n",
      "Feminine recall: 57.1 precision: 50.5 f1: 53.6\n",
      "\t\ttp 505\tfp 495\n",
      "\t\tfn 379\ttn 621\n",
      "Bias (F/M): 0.96\n",
      "\n"
     ]
    }
   ],
   "source": [
    "!python gap_scorer.py --gold_ts=gap-test.tsv --system_tsv=subject.tsv"
   ]
  },
  {
   "cell_type": "code",
   "execution_count": 12,
   "metadata": {},
   "outputs": [
    {
     "output_type": "execute_result",
     "data": {
      "text/plain": [
       "0.1135"
      ]
     },
     "metadata": {},
     "execution_count": 12
    }
   ],
   "source": [
    "false_case = 0\n",
    "for attrs in test_data.iloc:\n",
    "    if attrs[6] == attrs[9]:\n",
    "        false_case += 1\n",
    "\n",
    "false_case/len(test_data)"
   ]
  },
  {
   "source": [
    "# subject.tsv\n",
    "\n",
    "draw a relation between two proper nouns with sentence structure\n",
    "\n",
    "(e.g. Which one is the subject?)"
   ],
   "cell_type": "markdown",
   "metadata": {}
  },
  {
   "cell_type": "code",
   "execution_count": 13,
   "metadata": {},
   "outputs": [],
   "source": [
    "import nltk\n",
    "sent = \"In the next pair, Mikhaylov equalled Grishin's time and they shared Olympic gold.\"\n",
    "tagged_sent = nltk.pos_tag(nltk.word_tokenize(sent))"
   ]
  },
  {
   "source": [
    "Classify train_data into several categories\n",
    "\n",
    "1. When words are inside parenthesis\n",
    "2. When words appear after the pronoun\n",
    " * When the pronoun is subject pronoun\n",
    " * When the pronoun is object/possessive pronoun\n",
    "3. When the both coreferences are false\n",
    "4. When only one word is subject\n",
    "5. When the both words are subject\n",
    "6. When none of the words are subject\n",
    "    "
   ],
   "cell_type": "markdown",
   "metadata": {}
  },
  {
   "cell_type": "code",
   "execution_count": 14,
   "metadata": {},
   "outputs": [],
   "source": [
    "import pandas as pd \n",
    "\n",
    "train_data = pd.read_csv('gap-development.tsv', sep='\\t')"
   ]
  },
  {
   "source": [
    "## 1. When words are inside parenthesis\n",
    "Assume when word is inside parenthesis, coreference is always false"
   ],
   "cell_type": "markdown",
   "metadata": {}
  },
  {
   "cell_type": "code",
   "execution_count": 15,
   "metadata": {
    "tags": []
   },
   "outputs": [],
   "source": [
    "parenthesis_data = []\n",
    "\n",
    "def isparenthesis(sent, word, offset):\n",
    "    if sent[offset-1] == \"(\" and sent[offset+len(word)] == \")\":\n",
    "        return True\n",
    "    else:\n",
    "        return False\n",
    "\n",
    "for row in train_data.iloc:\n",
    "    if isparenthesis(row['Text'], row['A'], row['A-offset']) or \\\n",
    "       isparenthesis(row['Text'], row['B'], row['B-offset']):\n",
    "            parenthesis_data.append(row)"
   ]
  },
  {
   "cell_type": "code",
   "execution_count": 16,
   "metadata": {},
   "outputs": [],
   "source": [
    "parenthesis_data = pd.DataFrame(parenthesis_data, columns=train_data.columns)"
   ]
  },
  {
   "cell_type": "code",
   "execution_count": 17,
   "metadata": {},
   "outputs": [
    {
     "output_type": "stream",
     "name": "stdout",
     "text": [
      "Donald (Kevin Dobson) and Maureen (Dee Wallace) are a married couple who get horrible news: their son was involved in a car accident and has died. Liddy (\u001b[92mTracey Gold\u001b[0m), his wife, has never met Donald and \u001b[91mMaureen\u001b[0m. Despite that, they take \u001b[94mher\u001b[0m in, because she is all alone.\n\nDuring the restaurant's 1980s heyday at the top of the Zagat's survey, it was mentioned in Wall Street (1987) by Gordon's call girl when talking to Bud Fox (Charlie Sheen). Mentioned in Crossing Delancey by \u001b[92mIsabelle Grossman\u001b[0m (\u001b[91mAmy Irving\u001b[0m) as the place of \u001b[94mher\u001b[0m intended birthday dinner.\n\nOnce believed lost, The Shakedown was discovered and restored by the staff of the George Eastman House in 1998. Director William Wyler made the move up to talking pictures with this blend of action and comedy. \u001b[92mDave Roberts\u001b[0m (\u001b[91mJames Murray\u001b[0m) is a professional boxer better at losing in fixed matches than in knocking out \u001b[94mhis\u001b[0m opponents.\n\nLady Xun (*, personal name unknown) (died 335), formally \u001b[92mLady\u001b[0m of Yuzhang (***), was a concubine of Emperor Yuan of Jin (\u001b[91mSima Rui\u001b[0m) while he was the Prince of Langye. Initially, he favored \u001b[94mher\u001b[0m greatly, and she bore him two sons --\n\nWhen Herman and Fred are arrested and imprisoned for petty theft charges, Ma takes over the group and leads Arthur and Lloyd on a bank robbery spree to gain enough money to get her sons out of jail. The gang is joined by a gunman named Kevin (\u001b[91mBruce Dern\u001b[0m) who was \u001b[92mFred\u001b[0m's cellmate during \u001b[94mhis\u001b[0m incarceration (and his strongly implied lover).\n\nLiam (Roberto Aguire) surprises Aria (Lucy Hale) in Rosewood and Aria admits to Liam the truth about Ezra's new book after he reveals to her the writing is too similar to her own. Alison (Sasha Pieterse) explains to Spencer that she and Elliott (Huw Collins) are more than just friends, but they cannot reveal their relationship as it would be deemed ``inappropriate''. Spencer confronts \u001b[92mMona\u001b[0m (\u001b[91mJanel Parrish\u001b[0m), who tells \u001b[94mher\u001b[0m that she had Yvonne leave her phone on purpose because she wanted Spencer to find the file.\n\nIt is the first film by independent superstar director Dan Garcia, who produced Death Toll and Sinners and Saints. Louisiana Governor Chip Majors (\u001b[92mJames DuMont\u001b[0m) is front in line to be North Carolina Senator Edmonds' (\u001b[91mSteven Bauer\u001b[0m) Vice Presidential nominee. The day \u001b[94mhe\u001b[0m is to be announced, Majors goes to a hotel, where he meets a prostitute.\n\nGris exhibited with the painters of the Puteaux Group in the Salon de la Section d'Or in 1912. His preference for clarity and order influenced the Purist style of Am*d*e Ozenfant and Charles Edouard Jeanneret (\u001b[91mLe Corbusier\u001b[0m), and made \u001b[92mGris\u001b[0m an important exemplar of the post-war ``return to order'' movement. In 1915 \u001b[94mhe\u001b[0m was painted by his friend, Amedeo Modigliani.\n\nWhen Averell's speech is over, the famous stage performer Kate Maxwell (O'Hara) arrives with a group of showgirls. Averell has arranged for Kate to operate both a cattle-buying business and a saloon. Duncan warns \u001b[92mKate\u001b[0m that he will kill anyone caught stealing cattle on his land, and Sheriff Stan Blaine (\u001b[91mNicol\u001b[0m) warns \u001b[94mher\u001b[0m of an impending war over the cattle business.\n\nUpon the albums release, the song ``Threshold Apprehension'' which Lemhouse also provided backing vocals to, was picked by Rolling Stone magazine as one of the Best 100 Songs of the year. In the fall of 2007, \u001b[92mLemhouse\u001b[0m entered school to pursue a degree in Visual Communications (\u001b[91mGraphic Design\u001b[0m). Upon finishing school \u001b[94mhe\u001b[0m started Lemhouse Design.\n\n"
     ]
    }
   ],
   "source": [
    "print_sents(datas={'manual':True, 'data':parenthesis_data}, num_lines = 10)"
   ]
  },
  {
   "source": [
    "result : 22 out of 31 sentences are predicted correct --> accuracy : 71%"
   ],
   "cell_type": "markdown",
   "metadata": {}
  },
  {
   "source": [
    "## 2. When words appear after the pronoun\n",
    "Assume coreference of words coming after the pronoun is false"
   ],
   "cell_type": "markdown",
   "metadata": {}
  },
  {
   "cell_type": "code",
   "execution_count": 18,
   "metadata": {},
   "outputs": [],
   "source": [
    "after_pronoun = []\n",
    "\n",
    "for row in train_data.iloc:\n",
    "    if row['Pronoun-offset'] < row['A-offset'] or row['Pronoun-offset'] < row['B-offset']:\n",
    "        after_pronoun.append(row)\n",
    "\n",
    "after_pronoun = pd.DataFrame(after_pronoun, columns=train_data.columns)"
   ]
  },
  {
   "cell_type": "code",
   "execution_count": 19,
   "metadata": {},
   "outputs": [],
   "source": [
    "after_subject_pronoun = after_pronoun[after_pronoun['Pronoun'].isin(['he', 'she', 'He', 'She'])]\n",
    "after_other_pronoun = after_pronoun[after_pronoun['Pronoun'].isin(['his', 'her', 'him', 'His', 'Her', 'Him'])]"
   ]
  },
  {
   "cell_type": "code",
   "execution_count": 20,
   "metadata": {},
   "outputs": [
    {
     "output_type": "stream",
     "name": "stdout",
     "text": [
      "Vladimir Anatolievich Khodov (Russian: ******** *********** *****; October 9, 1976 -- September 3, 2004) was one of the six leaders of the hostage-takers in the 2004 Beslan school hostage crisis. Vladimir was born by medical nurse Alexandra Samoshkina the Ukrainian town of Berdyansk. His father is unknown When \u001b[94mhe\u001b[0m was three years old, \u001b[92mVladimir\u001b[0m's mother married a North Ossetian military engineer, \u001b[91mAnatoly Khodov\u001b[0m, and moved to Elkhotovo, 40 km from Beslan, where she worked in the maternity ward of a hospital.\n\nBetween May 13 and May 26, 1952, Dunlop caught three no-hitters from Bristol pitchers, one from Ron Necciai in which Necciai struck out a record 27 batters in a nine- inning game, and two no-hitters from teammate Bill Bell. The Necciai game is regarded as one of the most outstanding achievements in baseball history. While \u001b[94mhe\u001b[0m recorded 27 strikeouts and one ground ball out, \u001b[92mNecciai\u001b[0m had to garner 28 outs in the game because of a passed ball by \u001b[91mDunlop\u001b[0m on a strikeout in the ninth inning.\n\nAs early as the age of six, he began watching Steve Rickard's NWA-affiliated promotion All Star Pro-Wrestling and its wrestling programme On the Mat. He became an avid fan of the show and was encouraged to begin drawing some of the wrestlers he saw such as Baron Von Krupp. After On the Mat was cancelled in 1984, Conlan started reading Pro Wrestling Illustrated and began following professional wrestling in the United States. Though \u001b[94mhe\u001b[0m enjoyed WWF Superstars of Wrestling when it debuted in New Zealand in 1987, the country's first regular American wrestling show, \u001b[92mConlan\u001b[0m favoured the National Wrestling Alliance, specifically Jim Crockett Promotions, partly due to being a fan of the NWA-friendly ``\u001b[91mApter\u001b[0m mags'' and found its wrestlers more interesting to draw.\n\nWill's sheep's milk gnudi scored over Carrie's chicken fried ribeye (as she put sugar in the mashed potato she used), Amanda's eggplant rollatini and Brendan's salmon both scored a point, Jennifer's pork scored over Jonathon's ``punch-drunk'' chicken (he was even threatened with elimination on the spot after he revealed to Ramsay that he used canned pineapple slices for his dish and claimed he had ``limited time''), Paul's eggplant involtini scored over Krupa's stuffed naan, neither Jamie's lamb lollipops nor Steven's seared diver scallops earned a point (Ramsay even compared Steven's scallops to dinosaur toenails), Elise's scallops scored over Chino's dish as \u001b[94mhe\u001b[0m used too much miso, Monterray's sea bass and Natalie's lamb both scored a point, both Elizabeth and \u001b[91mTommy\u001b[0m earned a point for their dishes, and finally Gina's pan-roasted pistachio scallops lost to \u001b[91mJason\u001b[0m's pork tacos as the scallops were burnt on the top.\n\nThe Aftermath is a collection of songs released following the 'aftermath' of the Thing a Week project by comedy rock musician Jonathan Coulton. The project was originally intended to be Coulton's eighth studio album. After \u001b[94mhe\u001b[0m was convinced to start recording in a professional studio by \u001b[91mJohn Flansburgh\u001b[0m, however, \u001b[92mCoulton\u001b[0m decided to scrap this project and start anew for his next album, which would later become Artificial Heart.\n\nSince EDS had its own stock, there was an inherent conflict of interest between the companies- an EDS employee working in Detroit at a GM plant was not primarily concerned about GM's performance, but about EDS performance, so they had a blank check to throw money at problems, bill GM, and watch their EDS stock go up. Finally, as Lee quotes Perot - ``GM doesn't honor its contracts'' - Smith had said \u001b[94mhe\u001b[0m would not interfere with \u001b[91mPerot\u001b[0m, but the relationship fractured from the start, with conflicts over promised compensation to EDS executives being rejected by \u001b[92mSmith\u001b[0m, who also sent auditors to EDS to irritate Perot.\n\nIsabel Walker is a twenty-something American film-school dropout who decides to visit her step-sister Roxanne, a poet who now lives in France. Isabel believes that she is there to help Roxanne during her pregnancy with her toddler infant, but later realizes that her father and step-mother sent her there so that Roxanne would help the shiftless Isabel gain some direction in life. Shortly after \u001b[94mshe\u001b[0m arrives, \u001b[92mRoxanne\u001b[0m confides in \u001b[91mIsabel\u001b[0m that her French husband, Claude-Henri has left her.\n\nIn addition to an endearingly rough guitar solo, its other outstanding feature is the moaned/whined/chanted repetition of ``Dough/Ray/Me, Do/Re/Mi'' over and over during a long and climactic finale``. In addition to the ``solo acoustic demo taped in (Cobain's) bedroom'' that \u001b[94mhe\u001b[0m heard and described in the article, \u001b[92mDeRogatis\u001b[0m stated that a four track version, featuring \u001b[91mCobain\u001b[0m on drums and vocals, Nirvana second guitarist Pat Smear on guitar, and Hole guitarist Eric Erlandson on bass, was also recorded.\n\nIn the summer of 2012, Maicon joined Shakhtar Donetsk on a free transfer. He signed a three-year contract. On 4 September it was announced that \u001b[92mMaicon\u001b[0m would join Zorya on loan for six months before joining up with Shakhtar again during the winter break. Because \u001b[94mhe\u001b[0m joined Shakhtar after the season had begun \u001b[91mMircea Lucescu\u001b[0m, the Shakhtar manager, decided to loan him to Zorya for the first half of the season.\n\nMaxim Gvinjia ( ) is the current Minister of Foreign Affairs of Abkhazia. Before \u001b[94mhe\u001b[0m was appointed on 26 February 2010 to replace \u001b[91mSergei Shamba\u001b[0m, \u001b[92mGvinjia\u001b[0m had served as Deputy Minister for Foreign Affairs since 1 March 2004.\n\n"
     ]
    }
   ],
   "source": [
    "print_sents(datas={'manual':True, 'data':after_subject_pronoun}, num_lines = 10)"
   ]
  },
  {
   "cell_type": "code",
   "execution_count": 21,
   "metadata": {},
   "outputs": [],
   "source": [
    "def after_pronoun_predict(data):\n",
    "    A_pred = []\n",
    "    B_pred = []\n",
    "    for row in data.iloc:\n",
    "        A_value = False if row['A-offset'] > row['Pronoun-offset'] else True\n",
    "        B_value = False if row['B-offset'] > row['Pronoun-offset'] else True\n",
    "\n",
    "        A_pred.append(A_value)\n",
    "        B_pred.append(B_value)\n",
    "\n",
    "    data['A-pred'] = A_pred\n",
    "    data['B-pred'] = B_pred"
   ]
  },
  {
   "cell_type": "code",
   "execution_count": 22,
   "metadata": {},
   "outputs": [
    {
     "output_type": "stream",
     "name": "stderr",
     "text": [
      "<ipython-input-21-ceb8dec2fe17>:11: SettingWithCopyWarning: \nA value is trying to be set on a copy of a slice from a DataFrame.\nTry using .loc[row_indexer,col_indexer] = value instead\n\nSee the caveats in the documentation: https://pandas.pydata.org/pandas-docs/stable/user_guide/indexing.html#returning-a-view-versus-a-copy\n  data['A-pred'] = A_pred\n<ipython-input-21-ceb8dec2fe17>:12: SettingWithCopyWarning: \nA value is trying to be set on a copy of a slice from a DataFrame.\nTry using .loc[row_indexer,col_indexer] = value instead\n\nSee the caveats in the documentation: https://pandas.pydata.org/pandas-docs/stable/user_guide/indexing.html#returning-a-view-versus-a-copy\n  data['B-pred'] = B_pred\n"
     ]
    }
   ],
   "source": [
    "after_pronoun_predict(after_subject_pronoun)\n",
    "after_pronoun_predict(after_other_pronoun)"
   ]
  },
  {
   "cell_type": "code",
   "execution_count": 23,
   "metadata": {},
   "outputs": [
    {
     "output_type": "stream",
     "name": "stdout",
     "text": [
      "0.411214953271028\n",
      "0.2133676092544987\n"
     ]
    }
   ],
   "source": [
    "print(accuracy(after_subject_pronoun))\n",
    "print(accuracy(after_other_pronoun))"
   ]
  },
  {
   "source": [
    "Result : It doesn't really matter whether a word comes after the pronoun or not"
   ],
   "cell_type": "markdown",
   "metadata": {}
  },
  {
   "source": [
    "## 3. When the both word coreference is false\n",
    "\n",
    "Let's find out what they have in common."
   ],
   "cell_type": "markdown",
   "metadata": {}
  },
  {
   "cell_type": "code",
   "execution_count": 24,
   "metadata": {},
   "outputs": [
    {
     "output_type": "stream",
     "name": "stdout",
     "text": [
      "0.1005\n201\n"
     ]
    }
   ],
   "source": [
    "false_cases = 0\n",
    "for row in train_data.iloc:\n",
    "    if row['A-coref'] == row['B-coref']:\n",
    "        false_cases += 1\n",
    "\n",
    "print(false_cases/len(train_data))\n",
    "print(false_cases)"
   ]
  },
  {
   "source": [
    "There are more than 10 percent of these kind of cases"
   ],
   "cell_type": "markdown",
   "metadata": {}
  },
  {
   "cell_type": "code",
   "execution_count": 25,
   "metadata": {},
   "outputs": [],
   "source": [
    "falses_data = train_data[(train_data['A-coref'] == False) & (train_data['B-coref'] == False)]"
   ]
  },
  {
   "cell_type": "code",
   "execution_count": 26,
   "metadata": {},
   "outputs": [
    {
     "output_type": "stream",
     "name": "stdout",
     "text": [
      "After Steve heard a recording of a telephone conversation between Jo and Kirsty where Jo vented her frustrations about Steve's behaviour, the two fell out but soon reconciled. Jo still felt that she had to move out in order to maintain their friendship and moved in with Stuart and \u001b[91mKirsty\u001b[0m after Leonard moved out to be with \u001b[91mGina\u001b[0m. However Jo felt lonely after Stuart was rude to \u001b[94mher\u001b[0m and Kirsty neglected her to spend time with Shane.\n",
      "\n",
      "To recover, Toto come on at the home of Paul, pretending to be the latter and creating other misunderstandings with his wife and with the busty maid of the same, but did not recover the money due to the arrival of the real Paul. Peter and Paul, respectively convinced that the other is joined at home by pretending to be \u001b[94mhim\u001b[0m, should be reported to the prosecutor, so she goes to stage a surreal process without rhyme or reason, Toto is kidnapped by the host \u001b[91mOreste\u001b[0m believing that \u001b[91mPaul\u001b[0m wants to do out of jealousy;\n",
      "\n",
      "Samuel Johnson and Topham Beauclerk debated whether Hackman had meant to kill only himself. Johnson believed that the two pistols Hackman took with him to Covent Garden meant that he intended there to be two deaths. \u001b[91mBoswell\u001b[0m himself (who had visited \u001b[91mHackman\u001b[0m in prison) wrote that the case showed ``the dreadful effects that the passion of Love may produce''. In \u001b[94mhis\u001b[0m Mind-Forg'd Manacles (1987), the social historian Roy Porter argues that Hackman was well aware of the madness of his passion.\n",
      "\n",
      "Lopes Cardoso ran a time of 55.08 seconds, a season's best for him, to finish last in the seven-man heat. He was 5.17 seconds behind the heat winner, \u001b[91mMatzinger\u001b[0m, and 3.56 seconds behind the second-last finisher, Russian \u001b[91mAlexey Kotlov\u001b[0m. Lopes Cardoso's was the slowest overall in the heat round and \u001b[94mhe\u001b[0m did not progress to the final.\n",
      "\n",
      "He is married to \u001b[91mLaura Drummond\u001b[0m and has a son and two daughters, Aidan, Brynna (pronounced BRIN-ah), and \u001b[91mAshlyn\u001b[0m, who have also begun to follow in their father's voice-over work. His daughter Brynna currently voices Babs Seed, the cousin of Apple Bloom and \u001b[94mher\u001b[0m siblings, on the television series My Little Pony: Friendship is Magic, a show which Drummond also appears in.\n",
      "\n",
      "Louisa Yeomans was born on 17 October 1863 in Washington, New Jersey, the third of five children of Alfred and \u001b[91mElizabeth Blythe\u001b[0m (Ramsay) \u001b[91mYeomans\u001b[0m. \u001b[94mHer\u001b[0m father was a Presbyterian minister.\n",
      "\n",
      "Meanwhile, Bruce investigates the disappearances and becomes suspicious of his brother. Vincent and Ida kill three victims and take them to the slaughterhouse. In removing the other three, the dirt around Bo loosens and he begins to escape. Bruce sneaks back to the motel to rescue Terry, but Ida returns. She ambushes Bruce and knocks \u001b[94mhim\u001b[0m out, then takes \u001b[91mTerry\u001b[0m at gunpoint to the meat processing plant where \u001b[91mVincent\u001b[0m tells her his secret.\n",
      "\n",
      "Sakamoto then married popular Japanese pianist and singer Akiko Yano in 1982, following several musical collaborations with her, including touring work with the Yellow Magic Orchestra. Sakamoto's second marriage ended in August 2006, 14 years after a mutual decision to live separately-- \u001b[91mYano\u001b[0m and Sakamoto raised one daughter, J-pop singer \u001b[91mMiu Sakamoto\u001b[0m. He has lived with his manager since around 1990 and has two children with \u001b[94mher\u001b[0m.\n",
      "\n",
      "On 21 October 1710, Ashburnham married Lady Mary Butler (died 1713), the second daughter of James Butler, 2nd Duke of Ormonde. After \u001b[94mher\u001b[0m death, he married, on 25 July 1714, \u001b[91mHenrietta\u001b[0m, \u001b[91mDowager Countess\u001b[0m of Anglesey and 4th Baroness Strange; they had one child, Henrietta (c.1716--1732), later 5th Baroness Strange.\n",
      "\n",
      "He died just over two months after arriving. Charismatic was a chestnut horse with four white stockings on his legs and a white stripe on his forehead. He was bred under a foal-sharing arrangement between \u001b[91mWilliam S. Farish\u001b[0m and the Parrish Hill Farm of Dr. Ben and \u001b[91mTom Roach\u001b[0m. \u001b[94mHis\u001b[0m sire was Summer Squall, who had won the 1990 Preakness Stakes.\n",
      "\n"
     ]
    }
   ],
   "source": [
    "print_sents(datas={'manual':True, 'data':falses_data}, num_lines = 10)"
   ]
  },
  {
   "source": [
    "We can see that there are some patterns in both false sentences\n",
    "\n",
    "1. There is another pronoun appeared before.\n",
    "2. when both word is behind the pronoun, and the subject of the sentence is NNP."
   ],
   "cell_type": "markdown",
   "metadata": {}
  },
  {
   "source": [
    "1. There is another pronoun appeared before"
   ],
   "cell_type": "markdown",
   "metadata": {}
  },
  {
   "cell_type": "code",
   "execution_count": 27,
   "metadata": {},
   "outputs": [],
   "source": [
    "def prior_pronoun(row):\n",
    "    token_dict = tokenized_index(row)\n",
    "\n",
    "    words = token_dict['words']\n",
    "    word_index = token_dict['word_index']\n",
    "\n",
    "    male = ['He', 'His', 'Him', 'he', 'his', 'him']\n",
    "    female = ['She', 'Her', 'she', 'her']\n",
    "\n",
    "    pro_id = word_index[row['Pronoun-offset']]\n",
    "\n",
    "    if row['Pronoun'] in male:\n",
    "        for word in words[:pro_id]:\n",
    "            if word in male:\n",
    "                return True\n",
    "        return False\n",
    "    elif row['Pronoun'] in female:\n",
    "        for word in words[:pro_id]:\n",
    "            if word in female:\n",
    "                return True\n",
    "        return False\n",
    "\n",
    "    else:\n",
    "        print(\"Unexpected pronoun : {}\", row['Pronoun'])"
   ]
  },
  {
   "cell_type": "code",
   "execution_count": 28,
   "metadata": {},
   "outputs": [
    {
     "output_type": "stream",
     "name": "stdout",
     "text": [
      "1141 0.10429447852760736\n"
     ]
    }
   ],
   "source": [
    "prior_pronoun_data = apply_model(train_data, [prior_pronoun], lambda x: (False, False))"
   ]
  },
  {
   "cell_type": "code",
   "execution_count": 37,
   "metadata": {},
   "outputs": [],
   "source": [
    "def another_subject(row):\n",
    "    token_dict = tokenized_index(row)\n",
    "\n",
    "    tagged_sents = token_dict['tagged_sents']\n",
    "    sents = token_dict['sents']\n",
    "    word_index = token_dict['word_index']\n",
    "    sent_index = token_dict['sent_index']\n",
    "\n",
    "    pro_sent_id = sent_index[word_index[row['Pronoun-offset']]]\n",
    "\n",
    "    def first_noun(sent):\n",
    "        for word, tag in sent:\n",
    "            if tag.startswith('NN') or tag.startswith('PR'):\n",
    "                return (word, tag)\n",
    "\n",
    "    word, tag = first_noun(tagged_sents[pro_sent_id])\n",
    "    if tag.startswith('NNP') and not word in [row['A'].split()[0], row['B'].split()[0]]:\n",
    "        return True\n",
    "\n",
    "    return False"
   ]
  },
  {
   "cell_type": "code",
   "execution_count": 38,
   "metadata": {},
   "outputs": [],
   "source": [
    "def both_latter(row):\n",
    "    if row['A-offset'] > row['Pronoun-offset'] and row['B-offset'] > row['Pronoun-offset']:\n",
    "        return True\n",
    "\n",
    "    return False\n",
    "\n",
    "mask = train_data.apply(both_latter, axis=1)\n",
    "both_latter_data = train_data[mask]"
   ]
  },
  {
   "cell_type": "code",
   "execution_count": 41,
   "metadata": {},
   "outputs": [
    {
     "output_type": "stream",
     "name": "stdout",
     "text": [
      "48 0.5833333333333334\n"
     ]
    }
   ],
   "source": [
    "another_subject_data = apply_model(train_data, [both_latter, another_subject], lambda x: (False, False))"
   ]
  },
  {
   "cell_type": "code",
   "execution_count": 40,
   "metadata": {},
   "outputs": [
    {
     "output_type": "stream",
     "name": "stdout",
     "text": [
      "The song also incorporates Hiaasen's character of former Governor Clinton ``Skink'' Tyree, a later creation of Hiaasen. Garcia comments that Las Noches crimes are making Richard Speck, a serial killer, look tame by comparison; likewise, when Jenna claims that Skip is a better man than Brian because \u001b[94mhe\u001b[0m ``makes things happen,'' \u001b[91mBrian\u001b[0m retorts, ``so did \u001b[91mJuan Corona\u001b[0m(.)\n",
      "\n",
      "J*rusalem (1847, Paris) composed by Giuseppe Verdi; libretto by Alphonse Royer and Gustave Va*z Aroldo (1857, Rimini) composed by Giuseppe Verdi; libretto by Francesco Maria Piave Il talismano (1874, London) composed by Michael Balfe as The Knight of the Leopard and completed after \u001b[94mhis\u001b[0m death by \u001b[91mMichael Costa\u001b[0m; libretto by \u001b[91mGiuseppe Zaffira\u001b[0m after Sir Walter Scott's novel, The Talisman Za*re (1887, Lille) composed by Charles Edouard Lefebvre; libretto by Paul Collin, after Voltaire's Za*re Za*re (1890, Paris), composed by Paul V*ronge de la Nux; libretto by *douard Blau and Louis Besson, after Voltaire's Za*re\n",
      "\n",
      "Claire finds herself enmeshed in a deep relationship with Gabe, but it may be shallower than she thinks when he lies to her about going to visit his father, who Claire later finds out died when Gabe was four. David fires Angela for breaking one of his mother's wine glasses, and on \u001b[94mher\u001b[0m way out, \u001b[92mAngela\u001b[0m reveals to \u001b[91mRuth\u001b[0m that her son is gay.\n",
      "\n",
      "Unders*kningar i germanisk mythologi (Investigations into Germanic Mythology) is a two-volume work by Viktor Rydberg, published in 1886 and 1889. Henrik Sch*ck wrote at the turn of the 20th century that \u001b[94mhe\u001b[0m considered \u001b[91mRydberg\u001b[0m the ``last --and poetically most gifted --of the mythological school founded by \u001b[91mJacob Grimm\u001b[0m and represented by such men as Adalbert Kuhn'' which is ``strongly synthetic'' in its understanding of myth.\n",
      "\n",
      "Moore's work was commented on by Byron's close friend, John Hobhouse, who noted that ``Moore had not the remotest guess at the real reason which induced Lord B. at that time to prefer having no Englishman immediately or constantly near him.'' Regardless of Moore's bias against the lower class and Byron's spending time with other boys during \u001b[94mhis\u001b[0m times in Greece, \u001b[92mByron\u001b[0m was close to \u001b[91mGiraud\u001b[0m while the two were together.\n",
      "\n"
     ]
    }
   ],
   "source": [
    "print_sents(datas={'manual':True, 'data':another_subject_data}, num_lines = 5)"
   ]
  },
  {
   "source": [
    "## 4. When only one word is subject\n",
    "Assume that subject word is always true, and other word is always false"
   ],
   "cell_type": "markdown",
   "metadata": {}
  },
  {
   "cell_type": "code",
   "execution_count": 28,
   "metadata": {},
   "outputs": [
    {
     "output_type": "stream",
     "name": "stdout",
     "text": [
      "801\n1199\n"
     ]
    }
   ],
   "source": [
    "subject_data = train_data[train_data['Pronoun'].isin(['he', 'she', 'He', 'She'])]\n",
    "other_data = train_data[train_data['Pronoun'].isin(['his', 'him', 'her', 'His', 'Him', 'Her'])]\n",
    "print(len(subject_data))\n",
    "print(len(other_data))"
   ]
  },
  {
   "cell_type": "code",
   "execution_count": 29,
   "metadata": {},
   "outputs": [
    {
     "output_type": "stream",
     "name": "stdout",
     "text": [
      "462 0.8246753246753247\n",
      "626 0.6773162939297125\n",
      "1088 0.7398897058823529\n"
     ]
    }
   ],
   "source": [
    "only_subject_data_s = apply_model(subject_data, [only_subject], word_subject)\n",
    "only_subject_data_o = apply_model(other_data, [only_subject], word_subject)\n",
    "only_subject_data_a = apply_model(train_data, [only_subject], word_subject)"
   ]
  },
  {
   "cell_type": "code",
   "execution_count": 30,
   "metadata": {},
   "outputs": [
    {
     "output_type": "stream",
     "name": "stdout",
     "text": [
      "G.K. Moopanar ( ; 1931-2001) was a senior Indian National Congress leader, a veteran Parliamentarian and a noted philanthropist. He was an All India Congress Committee general secretary from 1980 to 1988. \u001b[92mG.K. Moopanar\u001b[0m was a close associate of Veteran Congress leader and Tamil Nadu Chief Minister \u001b[91mLate Thiru.K Kamaraj\u001b[0m. \u001b[94mHe\u001b[0m was a very powerful Congress leader who was known to have turned down high-ranking cabinet positions multiple times.\n\nBecause of the close friendship between Marcie and Peppermint Patty, some have inferred a romantic relationship between them. Marcie is essentially the complete opposite of Peppermint Patty: where Peppermint Patty is more comfortable playing sports, the well-read Marcie prefers a quieter, more studious existence. Although Marcie repeatedly professes her dislike of sports, particularly baseball, \u001b[94mshe\u001b[0m will occasionally take part in whatever sport \u001b[91mPeppermint Patty\u001b[0m is involved in at the time, though more often than not, \u001b[92mMarcie\u001b[0m, upon showing her lack of athletic prowess and lack of knowledge of the game, usually only succeeds in frustrating Peppermint Patty.\n\nTullus Hostilius (r. 673--642 BC) was the legendary third king of Rome. He succeeded \u001b[91mNuma Pompilius\u001b[0m and was succeeded by Ancus Marcius. Unlike \u001b[94mhis\u001b[0m predecessor, \u001b[92mTullus\u001b[0m was known as a warlike king.\n\nOn the June 13 All-Star edition of Raw, Rosa Mendes lost a 7 on 7 divas tag team match teaming with fellow heels, The Bella Twins, Melina, Alicia Fox, Maryse and Tamina in a losing effort to Kelly Kelly, Beth Phoenix, Gail Kim, Eve Torres, Natalya, A.J and Kaitlyn. On the June 17, 2011 edition of SmackDown, \u001b[92mRosa Mendes\u001b[0m teamed up with Tamina and \u001b[91mAlicia Fox\u001b[0m, to pick up a victory against the team of Natalya, A.J, and Kaitlyn. On July 15 edition of SmackDown, \u001b[94mshe\u001b[0m lost to the Divas Champion Kelly Kelly, despite being accompanied by Fox.\n\nBollinger was listed as the third string QB, backing up starter Tony Romo and his backup Brad Johnson. During week 6 of the season, Romo injured a finger on his throwing hand, leaving him out for a few games. After some failed performances by the veteran \u001b[91mBrad Johnson\u001b[0m, \u001b[92mBollinger\u001b[0m made \u001b[94mhis\u001b[0m first appearance for the Cowboys in the second half of the week 9 game against the New York Giants.\n\n\u001b[92mMaria Scharnetzki\u001b[0m was born in Bochum, then a booming industrial town located between D*sseldorf and Dortmund, and after marrying a man named \u001b[91mBackenecker\u001b[0m, spent \u001b[94mher\u001b[0m early adulthood as a working class housewife.\n\n\u001b[92mAlice Perrers\u001b[0m is the protagonist of \u001b[91mEmma Campion\u001b[0m's novel, The King's Mistress. \u001b[94mShe\u001b[0m appears in Anya Seton's novel, Katherine.\n\nMary McDonagh, Irish poet, born 23 November 1849. The daughter of a Mr. McDonagh and a Ms. \u001b[91mMcGreal\u001b[0m, \u001b[92mMary\u001b[0m was educated at Kildare Place Training College, Dublin, and frequently contributed to the Church of Ireland Parochial Mazine. \u001b[94mShe\u001b[0m married a Mr. Pearle, and with their infant daughter, emigrated to the USA in 1881, after which date all her work was published in that country.\n\nHowever, before he was able to arrive Mr. Fontayne stopped by, to tell Margie how well she did on her latest paper. Margie, who did not know who was replacing Roy as her date, mistook Mr. Fontayne for being the substitute. When Fontayne explained he is merely stopping by for the compliment and that he is actually taking Miss \u001b[91mPalmer\u001b[0m, who works at the school library, to the dance, \u001b[92mMargie\u001b[0m burst out in tears. In the end, \u001b[94mshe\u001b[0m decided to attend the dance anyways, escorted by her father.\n\nHis North American appearances have included Hoffmann in The Tales of Hoffmann (Washington National Opera 2001), Gustavo in Un ballo in maschera (Boston Lyric Opera 2007), and Dick Johnson in La fanciulla del West (Op*ra de Montr*al 2008). In October 2010, he made his role debut as Radames in Verdi's Aida for Opera Queensland. The title role in Verdi's \u001b[91mDon Carlos\u001b[0m has been an important one in \u001b[92mGavin\u001b[0m's career. \u001b[94mHe\u001b[0m made his Royal Opera House debut in the role in 1996 when he took over from Roberto Alagna in Luc Bondy's production and sang it at the Edinburgh International Festival in 1998 as well as in productions at The New Israeli Opera, Opera North, and Minnesota Opera.\n\n"
     ]
    }
   ],
   "source": [
    "print_sents(datas={'manual':True, 'data':only_subject_data_a}, num_lines = 10)"
   ]
  },
  {
   "source": [
    "## 5. When both words are subject\n",
    "Assume that latter word is True, while the other is False"
   ],
   "cell_type": "markdown",
   "metadata": {}
  },
  {
   "cell_type": "code",
   "execution_count": 31,
   "metadata": {},
   "outputs": [
    {
     "output_type": "execute_result",
     "data": {
      "text/plain": [
       "172"
      ]
     },
     "metadata": {},
     "execution_count": 31
    }
   ],
   "source": [
    "both_subject_data = train_data.apply(both_subject, axis=1)\n",
    "both_subject_data = train_data[both_subject_data]\n",
    "len(both_subject_data)"
   ]
  },
  {
   "cell_type": "code",
   "execution_count": 32,
   "metadata": {
    "tags": []
   },
   "outputs": [
    {
     "output_type": "stream",
     "name": "stdout",
     "text": [
      "She was appointed by Richard Nixon but continued serving as Treasurer through Gerald Ford's term in office after Nixon resigned in August 1974. \u001b[92mNeff\u001b[0m took office at a time when the role of \u001b[91mTreasurer\u001b[0m was being reorganized. The Treasurer was named National Director of the Savings Bonds Division for the first time during \u001b[94mher\u001b[0m term.\n\nMr Telford was of the most genial disposition and a delightful companion, his laugh was the heartiest I ever heard; it was a pleasure to be in his society.'' \u001b[92mGeorge Turnbull\u001b[0m states that \u001b[91mTelford\u001b[0m wrote and gave \u001b[94mhim\u001b[0m a poem:\n\nHe directed the White House Climate Change Task Force and spent time as a senior member of various United States delegations, including the 1997 delegation that negotiated the Kyoto Protocol. \u001b[92mGardiner\u001b[0m served the Clinton administrator for almost the entire 8 years that \u001b[91mBill Clinton\u001b[0m was President. \u001b[94mHe\u001b[0m is currently the President of an environmental consultancy company, David Gardiner & Associates.\n\nOn Valentine's Day, Bud awaits his first Valentine (which he thinks is a trick cooked up by Kelly), Kelly must choose one Valentine from the many boys who are attracted to her, Steve plans to take Marcy to Hawaii, \u001b[91mMarcy\u001b[0m plans to pop out from a cake naked, and \u001b[92mPeg\u001b[0m wants Al to say ``I love you'' to \u001b[94mher\u001b[0m.\n\nThe next day, Peggy visits Stacey in hospital and asks her to confess to burning the pub, as a sentence for arson would be less than one for murder, but Stacey refuses. \u001b[91mPeggy\u001b[0m realises that \u001b[92mStacey\u001b[0m needs to look after \u001b[94mher\u001b[0m daughter so she leaves.\n\nShe agreed and Henry paid her the hefty sum of money. The next day Jane disappeared and Henry realized he had been conned. He linked it to Kieran and threatened him. \u001b[91mKieran\u001b[0m realised that \u001b[92mHenry\u001b[0m was making money off selling shares for \u001b[94mhis\u001b[0m horse to multiple people and keeping the race money for himself.\n\nIn a July 2012 interview, she stated: ``I've always said it's never been economically right for Britain to be part of the Euro, but I've always argued that Britain should be at the centre of Europe rather than on its fringes''. Although 60.36% of \u001b[94mher\u001b[0m Manchester constituents voted to Remain in the EU, on 1 February 2017 \u001b[92mLucy Powell\u001b[0m voted in favour of \u001b[91mTheresa May\u001b[0m triggering Article 50.\n\nFox pinned Maryse to win both the match and the championship for the first time. She successfully defended the championship for the first time on the July 5 episode of Raw, defeating Eve after feigning an ankle injury. As \u001b[94mshe\u001b[0m faked an injury to retain the championship, \u001b[92mEve\u001b[0m was granted a rematch at the Money in the Bank pay-per-view by Raw's anonymous General Manager, where \u001b[91mFox\u001b[0m was again able to successfully retain the championship.\n\nAbed Gubi Nadir (Arabic: **** ****** ****** ``*bid al-Q*b* N*dir; Danny Pudi) is a young, emotionally reserved, Palestinian-American pop-culture enthusiast who aspires to become a director and is currently taking film directing classes at Greendale. Paste ranked him first in their list of the 20 Best Characters of 2011, describing him as ``the show's emotional center'' and saying ``his pop-culture obsessions and antics with his buddy \u001b[91mTroy\u001b[0m have made for some of the show's finest moments.`` Abed Nadir is an alum of Greendale Community College. \u001b[92mAbed\u001b[0m had a troublesome life growing up due to a limited extent to \u001b[94mhis\u001b[0m folks.\n\nPorter worked to raise the standards of the US Navy in the position of superintendent of the Naval Academy when it was restored to Annapolis. He initiated reforms in the curriculum to increase professionalism. In the early days of President Grant's administration, Porter was de facto Secretary of the Navy. When his adoptive brother David G. Farragut was advanced from rank of vice-admiral to admiral, Porter took his previous position; likewise, when \u001b[91mFarragut\u001b[0m retired, \u001b[92mPorter\u001b[0m became the second man to hold the newly created rank of admiral. \u001b[94mHe\u001b[0m gathered a corps of like-minded officers devoted to naval reform.\n\n"
     ]
    }
   ],
   "source": [
    "print_sents(datas={'manual':True, 'data':both_subject_data}, num_lines = 10)"
   ]
  },
  {
   "cell_type": "code",
   "execution_count": null,
   "metadata": {},
   "outputs": [],
   "source": []
  },
  {
   "cell_type": "code",
   "execution_count": null,
   "metadata": {},
   "outputs": [],
   "source": []
  },
  {
   "cell_type": "code",
   "execution_count": 40,
   "metadata": {},
   "outputs": [
    {
     "output_type": "execute_result",
     "data": {
      "text/plain": [
       "285"
      ]
     },
     "metadata": {},
     "execution_count": 40
    }
   ],
   "source": [
    "none_subject_data = subject_data.apply(none_subject, axis=1)\n",
    "none_subject_data = subject_data[none_subject_data]\n",
    "len(none_subject_data)"
   ]
  },
  {
   "cell_type": "code",
   "execution_count": 41,
   "metadata": {},
   "outputs": [
    {
     "output_type": "stream",
     "name": "stdout",
     "text": [
      "She is a loving heart trapped beneath an ugly facade, ignored and unappreciated by those who fail to see beyond what is skin-deep. Bakekang is a woman whose only desire is to feel a little affection from the world that has deprived her of everything she has always longed for. Through \u001b[91mKristal\u001b[0m, \u001b[92mBakekang\u001b[0m will feel the kind of attention \u001b[94mshe\u001b[0m longs for.\n\nCatherine Marshall, the widow of Dr. Peter Marshall when she wrote the book, following up on her best seller ``A Man Called Peter,'' has been quoted as saying the book was about 75% percent historical, although the main characters (the physician) and mountain woman descended from ancient royalty, are fictionalized. While in the book it is implied \u001b[94mshe\u001b[0m ends up with the doctor, the real ``\u001b[92mChristy\u001b[0m,'' \u001b[91mCatherine Marshall\u001b[0m's mother, married a minister.\n\nHer personal best for long jump is 6.55 m set in Bangalore on 5 June 2010 during the second Indian Grand Prix. She became only the fourth Indian woman to cross 6.50 m, joining \u001b[91mAnju Bobby George\u001b[0m (6.83 m), J.J. Shobha (6.66 m), and \u001b[91mPramila Aiyappa\u001b[0m. \u001b[94mShe\u001b[0m won the gold medal for her effort.\n\nAccording to Richard Pankhurst, Adwa derives its name from Adi Awa (or Wa), ``Village of the Awa''; the Awa are an ethnic group mentioned in the anonymous Monumentum Adulitanum that once stood at Adulis. \u001b[92mFrancisco Alvares\u001b[0m records that the Portuguese diplomatic mission passed \u001b[91mAdwa\u001b[0m, which \u001b[94mhe\u001b[0m called ``Houses of St. Michael,'' in August 1520.\n\nAkin was married three times. He married his first wife, \u001b[92mMarinda Cecil\u001b[0m, in 1859; they had three children, but only one daughter, \u001b[91mBettie Jones\u001b[0m, survived to adulthood; \u001b[94mshe\u001b[0m died in 1867.\n\nGallagher's business is shut down by union officials who are now suspicious of him since he has been implicated in Diaz's murder. Local crime boss Malderone, Gallagher's uncle, has him followed, just in case he talks to the government. Teresa Peron (Melinda Dillon), a lifelong friend of Gallagher, tells the reporter that \u001b[92mGallagher\u001b[0m could not have killed \u001b[91mDiaz\u001b[0m because \u001b[94mhe\u001b[0m was taking her out of town for an abortion on that weekend.\n\nShe was nominated for a ``Queen of Teen'' award in 2010. In Running in Heels (2011), she featured a new character, Daisy Davenport. \u001b[92mBailey\u001b[0m also wrote books for younger children, including the \u001b[91mWillow\u001b[0m the Woodsprite series, the Topaz series, and the Felicity Wishes series. In all, \u001b[94mshe\u001b[0m had 22 books of short stories, picture books and young-adult fiction published.\n\nPaula photographs them all with her Polaroid camera. Paula finds a magic marker and they write words on Nick's chest and back like ``pig'' and ``rapist''. They are nearly discovered by a security guard, but he leaves without seeing them. \u001b[92mPaula\u001b[0m eventually confesses to \u001b[91mJulie\u001b[0m that it was \u001b[94mshe\u001b[0m who was raped, not her friend -- which Julie had already guessed.\n\nA special department of state looked after his brood mares and stallions. The magnificence of his plate astonished the French ambassador, and the diamonds of his duchess were the envy of princes. The climax of his elevation occurred when, on the extinction of the line of \u001b[91mKettler\u001b[0m, the estates of Courland, in June 1737, elected \u001b[92mBiron\u001b[0m their reigning duke. \u001b[94mHe\u001b[0m was almost as unpopular in Courland as in Russia, but the will of the empress was the law of the land, and large sums of money, smuggled into Courland in the shape of bills payable in Amsterdam to bearer, speedily convinced the electors.\n\nIt starred Academy Award winners Forest Whitaker and Jennifer Hudson, as well as Academy Award nominee Angela Bassett. Lemmons is also attached to direct the Apartheid-set drama Agaat, based on \u001b[91mMarlene van Niekerk\u001b[0m's novel, in addition to an adaptation of \u001b[91mZadie Smith\u001b[0m's best-selling novel On Beauty. Lemmons explained during an interview that \u001b[94mshe\u001b[0m considered writing to be central to her task as a director:\n\n"
     ]
    }
   ],
   "source": [
    "print_sents(datas={'manual':True, 'data':none_subject_data}, num_lines = 10)"
   ]
  }
 ]
}