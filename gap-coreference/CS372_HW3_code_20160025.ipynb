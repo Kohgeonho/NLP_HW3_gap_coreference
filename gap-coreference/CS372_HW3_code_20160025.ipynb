{
 "metadata": {
  "language_info": {
   "codemirror_mode": {
    "name": "ipython",
    "version": 3
   },
   "file_extension": ".py",
   "mimetype": "text/x-python",
   "name": "python",
   "nbconvert_exporter": "python",
   "pygments_lexer": "ipython3",
   "version": "3.8.5"
  },
  "orig_nbformat": 2,
  "kernelspec": {
   "name": "python385jvsc74a57bd08235b21b7e4ccb1a631c75a86bc50b1a38dfb6faace30e871c40999987116d9b",
   "display_name": "Python 3.8.5 64-bit ('base': conda)"
  },
  "metadata": {
   "interpreter": {
    "hash": "38e31c96aac6b52bfd92a03a517d6944ec75782017e4445807e0cb0d41655b05"
   }
  }
 },
 "nbformat": 4,
 "nbformat_minor": 2,
 "cells": [
  {
   "cell_type": "code",
   "execution_count": 50,
   "metadata": {},
   "outputs": [],
   "source": [
    "from helper import print_sents, accuracy, tokenized_word_sets"
   ]
  },
  {
   "source": [
    "**tf.tsv**\n",
    "\n",
    "always predict A-coref as True and B-coref as False"
   ],
   "cell_type": "markdown",
   "metadata": {}
  },
  {
   "cell_type": "code",
   "execution_count": 51,
   "metadata": {},
   "outputs": [],
   "source": [
    "f_test = open(\"gap-test.tsv\", \"r\")\n",
    "result = open(\"tf.tsv\", 'w')\n",
    "test_data = f_test.readlines()\n",
    "\n",
    "for line in test_data[1:]:\n",
    "    attrs = line.split('\\t')\n",
    "    result.write(\"\\t\".join([attrs[0]] + ['True', 'False']) + \"\\n\")\n",
    "\n",
    "f_test.close()\n",
    "result.close()"
   ]
  },
  {
   "cell_type": "code",
   "execution_count": 52,
   "metadata": {},
   "outputs": [
    {
     "output_type": "stream",
     "name": "stdout",
     "text": [
      "gap_scorer.py:126: DeprecationWarning: 'U' mode is deprecated\n",
      "  with open(filename, 'rU') as f:\n",
      "Overall recall: 51.8 precision: 45.9 f1: 48.7\n",
      "\t\ttp 918\tfp 1082\n",
      "\t\tfn 855\ttn 1145\n",
      "Masculine recall: 51.0 precision: 45.3 f1: 48.0\n",
      "\t\ttp 453\tfp 547\n",
      "\t\tfn 436\ttn 564\n",
      "Feminine recall: 52.6 precision: 46.5 f1: 49.4\n",
      "\t\ttp 465\tfp 535\n",
      "\t\tfn 419\ttn 581\n",
      "Bias (F/M): 1.03\n",
      "\n"
     ]
    }
   ],
   "source": [
    "!python gap_scorer.py --gold_ts=gap-test.tsv --system_tsv=tf.tsv"
   ]
  },
  {
   "source": [
    "**closer.tsv**\n",
    "\n",
    "Predict closer coreference to pronoun as True"
   ],
   "cell_type": "markdown",
   "metadata": {}
  },
  {
   "cell_type": "code",
   "execution_count": 53,
   "metadata": {
    "tags": []
   },
   "outputs": [],
   "source": [
    "f_test = open(\"gap-test.tsv\", \"r\")\n",
    "result = open(\"closer.tsv\", 'w')\n",
    "test_data = f_test.readlines()\n",
    "\n",
    "for line in test_data[1:]:\n",
    "    attrs = line.split('\\t')\n",
    "    tf = ['True', 'False']\n",
    "    if abs(int(attrs[3]) - int(attrs[5])) > abs(int(attrs[3]) - int(attrs[8])):\n",
    "        tf = ['False', 'True']\n",
    "\n",
    "    result.write(\"\\t\".join([attrs[0]] + tf) + \"\\n\")\n",
    "\n",
    "f_test.close()\n",
    "result.close()"
   ]
  },
  {
   "cell_type": "code",
   "execution_count": 54,
   "metadata": {},
   "outputs": [
    {
     "output_type": "stream",
     "name": "stdout",
     "text": [
      "gap_scorer.py:126: DeprecationWarning: 'U' mode is deprecated\n",
      "  with open(filename, 'rU') as f:\n",
      "Overall recall: 50.1 precision: 44.4 f1: 47.1\n",
      "\t\ttp 888\tfp 1112\n",
      "\t\tfn 885\ttn 1115\n",
      "Masculine recall: 51.6 precision: 45.9 f1: 48.6\n",
      "\t\ttp 459\tfp 541\n",
      "\t\tfn 430\ttn 570\n",
      "Feminine recall: 48.5 precision: 42.9 f1: 45.5\n",
      "\t\ttp 429\tfp 571\n",
      "\t\tfn 455\ttn 545\n",
      "Bias (F/M): 0.94\n",
      "\n"
     ]
    }
   ],
   "source": [
    "!python gap_scorer.py --gold_ts=gap-test.tsv --system_tsv=closer.tsv"
   ]
  },
  {
   "cell_type": "code",
   "execution_count": 55,
   "metadata": {
    "tags": []
   },
   "outputs": [
    {
     "output_type": "stream",
     "name": "stdout",
     "text": [
      "She became nationally famous following her 1923 victory in the U.S. Women's Amateur. On August 25, 1924, she became the first golfer and first female athlete to appear on the cover of Time magazine. \u001b[92mEdith Cummings\u001b[0m was born on March 26, 1899 to David Cummings and \u001b[91mRuth Dexter\u001b[0m. \u001b[94mShe\u001b[0m had a younger brother, Dexter.\n",
      "\n",
      "Ferrari also cast doubt on ``the arrival of technicians'' with Alonso. At the first race in Bahrain, Alonso qualified third behind team mate Massa and pole sitter Sebastian Vettel. At the start, Alonso got ahead of Massa to move up to second and later on in the race, leader \u001b[91mVettel\u001b[0m had an engine problem and dropped to fourth and \u001b[92mAlonso\u001b[0m won the race, becoming the fifth man to win on \u001b[94mhis\u001b[0m debut for Ferrari after Juan Manuel Fangio in 1956, Mario Andretti in 1971, Nigel Mansell in 1989, and Kimi R*ikk*nen in 2007.\n",
      "\n",
      "She begins a relationship with him, unaware he is also seeing Gloria Todd (Sue Jenkins), a barmaid at the Rovers Return Inn. When Rita discovers his infidelity, she issues him an ultimatum. Although Alan chooses Gloria over \u001b[91mRita\u001b[0m, \u001b[92mGloria\u001b[0m changes \u001b[94mher\u001b[0m mind about being with him and ends their affair.\n",
      "\n",
      "\u001b[91mRalph Inzunza\u001b[0m was a San Diego City Council District Eight representative elected in February 2001 who resigned in 2005 along with Councilman \u001b[91mMichael Zucchet\u001b[0m after being involved in a corruption scandal. They were convicted of extortion, wire fraud, and conspiracy to commit wire fraud for taking campaign contributions from a strip club owner and \u001b[94mhis\u001b[0m associates, allegedly in exchange for trying to repeal the city's ``no touch'' laws at strip clubs.\n",
      "\n",
      "Cinoman wrote her first play in 1991, and throughout the 1990s her works were produced by such theater companies as Ensemble Studio Theatre, The Miranda Theatre, Circle Repertory, Six Figures Theatre and Creative Voices Theatre. Many of \u001b[92mCinoman\u001b[0m's plays were directed by founder of the Actors Studio \u001b[91mJane Hoffman\u001b[0m and Temple University theater professor Jan Silverman. Recently \u001b[94mher\u001b[0m play Beds was produced in Los Angeles by the 'Secret Rose Theatre' starring Paige Howard, and subsequently at Miami, Florida's nationally recognized summer play festival.\n",
      "\n",
      "In 2014 Dean played the lead role in The Long Road South alongside Michael Brandon, a new play by Paul Minx. The press said of Deans performance ``Felicity Dean, playing the best drunk ma in her nightdress since Lindsay Duncan in That Face.'' ``\u001b[91mFelicity Dean\u001b[0m's \u001b[92mCarol Ann\u001b[0m marks the play's standout performance as \u001b[94mshe\u001b[0m quakes about the stage in sliver heels, brimming with morose longing.''.\n",
      "\n",
      "In 1994, he began to study the neural basis of creativity and the aesthetic appreciation of art. In 2001, he founded the Institute of Neuroesthetics, based mainly in Berkeley, California. When at school, \u001b[91mZeki\u001b[0m got acquainted with work on the brain, especially from \u001b[92mJohn Zachary Young\u001b[0m and vowed to work with \u001b[94mhim\u001b[0m, which he did, at University College London.\n",
      "\n",
      "\u001b[92mAnne Sewell Young\u001b[0m was born in Bloomington, Wisconsin on January 2, 1871 to Reverend Albert Adams Young and \u001b[91mMary Sewell\u001b[0m. \u001b[94mShe\u001b[0m earned a B.L. from Minnesota's Carleton College in 1892.\n",
      "\n",
      "After leaving the Eisenhower administration, Walsh resumed the private practice of law in New York City, where he practiced from 1961 to 1981 as a partner at Davis Polk & Wardwell, where he worked on the Bendectin litigation and represented companies such as General Motors and AT&T. In 1969, on the recommendation of \u001b[94mhis\u001b[0m former boss, Secretary of State and former Attorney General \u001b[91mWilliam P. Rogers\u001b[0m, \u001b[92mWalsh\u001b[0m was named as an ambassador in the U.S. Delegation to the Paris Peace Talks in 1969, but held the position for only a short period of time.\n",
      "\n",
      "``Harlan Coben'' - Harlan Coben's two New York Times #1 bestsellers, Long Lost and Caught feature girls who disappear and a community's quest for answers -- themes that are found in the true story of Brianna Denison's abduction and the questions that echoed as a result in the community of Reno, Nevada. ``\u001b[91mKathy Reichs\u001b[0m'' - When freelance writer \u001b[92mLouise Ellis\u001b[0m disappears on a routine weekend getaway, investigators narrow in on two key suspects: \u001b[94mher\u001b[0m new husband and her ex-boyfriend.\n",
      "\n"
     ]
    }
   ],
   "source": [
    "print_sents(random=True)"
   ]
  },
  {
   "cell_type": "code",
   "execution_count": 56,
   "metadata": {},
   "outputs": [],
   "source": [
    "import pandas as pd"
   ]
  },
  {
   "cell_type": "code",
   "execution_count": 57,
   "metadata": {},
   "outputs": [
    {
     "output_type": "stream",
     "name": "stdout",
     "text": [
      "<class 'pandas.core.frame.DataFrame'>\nRangeIndex: 2000 entries, 0 to 1999\nData columns (total 11 columns):\n #   Column          Non-Null Count  Dtype \n---  ------          --------------  ----- \n 0   ID              2000 non-null   object\n 1   Text            2000 non-null   object\n 2   Pronoun         2000 non-null   object\n 3   Pronoun-offset  2000 non-null   int64 \n 4   A               2000 non-null   object\n 5   A-offset        2000 non-null   int64 \n 6   A-coref         2000 non-null   bool  \n 7   B               2000 non-null   object\n 8   B-offset        2000 non-null   int64 \n 9   B-coref         2000 non-null   bool  \n 10  URL             2000 non-null   object\ndtypes: bool(2), int64(3), object(6)\nmemory usage: 144.7+ KB\n"
     ]
    }
   ],
   "source": [
    "train_data = pd.read_csv('gap-development.tsv', sep='\\t')\n",
    "test_data = pd.read_csv('gap-test.tsv', sep='\\t')\n",
    "test_data.info()"
   ]
  },
  {
   "source": [
    "**subject.tsv**\n",
    "\n",
    "Predict farther coreference pronoun as True when pronoun is subject pronoun (he, she).\n",
    "Predict closer coreference pronoun as True when pronoun is not subject pronoun, which is object or possessive pronoun(her, his, him)."
   ],
   "cell_type": "markdown",
   "metadata": {}
  },
  {
   "cell_type": "code",
   "execution_count": 58,
   "metadata": {},
   "outputs": [
    {
     "output_type": "execute_result",
     "data": {
      "text/plain": [
       "{'He', 'Her', 'His', 'She', 'he', 'her', 'him', 'his', 'she'}"
      ]
     },
     "metadata": {},
     "execution_count": 58
    }
   ],
   "source": [
    "pronouns = set(train_data['Pronoun'])\n",
    "pronouns"
   ]
  },
  {
   "cell_type": "code",
   "execution_count": 59,
   "metadata": {
    "tags": []
   },
   "outputs": [],
   "source": [
    "result = open(\"subject.tsv\", 'w')\n",
    "\n",
    "for attrs in test_data.iloc:\n",
    "    pro, pro_id = attrs[2:4]\n",
    "    A, A_id = attrs[4:6]\n",
    "    B, B_id = attrs[7:9]\n",
    "\n",
    "    if pro.lower() in ['he', 'she']:\n",
    "        if abs(pro_id - A_id) > abs(pro_id - B_id):\n",
    "            tf = ['TRUE', 'FALSE']\n",
    "        else:\n",
    "            tf = ['FALSE', 'TRUE']\n",
    "    else:\n",
    "        if abs(pro_id - A_id) > abs(pro_id - B_id):\n",
    "            tf = ['FALSE', 'TRUE']\n",
    "        else:\n",
    "            tf = ['TRUE', 'FALSE']\n",
    "\n",
    "    result.write(\"\\t\".join([attrs[0]] + tf) + \"\\n\")\n",
    "\n",
    "f_test.close()\n",
    "result.close()"
   ]
  },
  {
   "cell_type": "code",
   "execution_count": 60,
   "metadata": {},
   "outputs": [
    {
     "output_type": "stream",
     "name": "stdout",
     "text": [
      "gap_scorer.py:126: DeprecationWarning: 'U' mode is deprecated\n",
      "  with open(filename, 'rU') as f:\n",
      "Overall recall: 58.3 precision: 51.6 f1: 54.8\n",
      "\t\ttp 1033\tfp 967\n",
      "\t\tfn 740\ttn 1260\n",
      "Masculine recall: 59.4 precision: 52.8 f1: 55.9\n",
      "\t\ttp 528\tfp 472\n",
      "\t\tfn 361\ttn 639\n",
      "Feminine recall: 57.1 precision: 50.5 f1: 53.6\n",
      "\t\ttp 505\tfp 495\n",
      "\t\tfn 379\ttn 621\n",
      "Bias (F/M): 0.96\n",
      "\n"
     ]
    }
   ],
   "source": [
    "!python gap_scorer.py --gold_ts=gap-test.tsv --system_tsv=subject.tsv"
   ]
  },
  {
   "cell_type": "code",
   "execution_count": 61,
   "metadata": {},
   "outputs": [
    {
     "output_type": "execute_result",
     "data": {
      "text/plain": [
       "0.1135"
      ]
     },
     "metadata": {},
     "execution_count": 61
    }
   ],
   "source": [
    "false_case = 0\n",
    "for attrs in test_data.iloc:\n",
    "    if attrs[6] == attrs[9]:\n",
    "        false_case += 1\n",
    "\n",
    "false_case/len(test_data)"
   ]
  },
  {
   "source": [
    "# subject.tsv\n",
    "\n",
    "draw a relation between two proper nouns with sentence structure\n",
    "\n",
    "(e.g. Which one is the subject?)"
   ],
   "cell_type": "markdown",
   "metadata": {}
  },
  {
   "cell_type": "code",
   "execution_count": 62,
   "metadata": {},
   "outputs": [],
   "source": [
    "import nltk\n",
    "sent = \"In the next pair, Mikhaylov equalled Grishin's time and they shared Olympic gold.\"\n",
    "tagged_sent = nltk.pos_tag(nltk.word_tokenize(sent))"
   ]
  },
  {
   "source": [
    "Classify train_data into several categories\n",
    "\n",
    "1. When words are inside parenthesis\n",
    "2. When words appear after the pronoun\n",
    " * When the pronoun is subject pronoun\n",
    " * When the pronoun is object/possessive pronoun\n",
    "3. When the both coreferences are false\n",
    "4. When only one word is subject\n",
    "5. When the both words are subject\n",
    "6. When none of the words are subject\n",
    "    "
   ],
   "cell_type": "markdown",
   "metadata": {}
  },
  {
   "cell_type": "code",
   "execution_count": 63,
   "metadata": {},
   "outputs": [],
   "source": [
    "import pandas as pd \n",
    "\n",
    "train_data = pd.read_csv('gap-development.tsv', sep='\\t')"
   ]
  },
  {
   "source": [
    "## 1. When words are inside parenthesis\n",
    "Assume when word is inside parenthesis, coreference is always false"
   ],
   "cell_type": "markdown",
   "metadata": {}
  },
  {
   "cell_type": "code",
   "execution_count": 64,
   "metadata": {
    "tags": []
   },
   "outputs": [],
   "source": [
    "parenthesis_data = []\n",
    "\n",
    "def isparenthesis(sent, word, offset):\n",
    "    if sent[offset-1] == \"(\" and sent[offset+len(word)] == \")\":\n",
    "        return True\n",
    "    else:\n",
    "        return False\n",
    "\n",
    "for row in train_data.iloc:\n",
    "    if isparenthesis(row['Text'], row['A'], row['A-offset']) or \\\n",
    "       isparenthesis(row['Text'], row['B'], row['B-offset']):\n",
    "            parenthesis_data.append(row)"
   ]
  },
  {
   "cell_type": "code",
   "execution_count": 65,
   "metadata": {},
   "outputs": [],
   "source": [
    "parenthesis_data = pd.DataFrame(parenthesis_data, columns=train_data.columns)"
   ]
  },
  {
   "cell_type": "code",
   "execution_count": 66,
   "metadata": {},
   "outputs": [
    {
     "output_type": "stream",
     "name": "stdout",
     "text": [
      "Alf and Else's daughter Rita (Una Stubbs) now lives with her husband Mike in his hometown of Liverpool and often visits her parents, although Mike does not appear (as Antony Booth had no interest in reprising the role). Usually, Alf is seen drinking with his friend Arthur (\u001b[91mArthur English\u001b[0m) in the local pub. Although \u001b[94mhis\u001b[0m beloved Conservative Party has returned to power, \u001b[92mAlf\u001b[0m is not happy with Margaret Thatcher being Prime Minister because, according to him, ``a woman's place is in the home''.\n\nLiam (Roberto Aguire) surprises Aria (Lucy Hale) in Rosewood and Aria admits to Liam the truth about Ezra's new book after he reveals to her the writing is too similar to her own. Alison (Sasha Pieterse) explains to Spencer that she and Elliott (Huw Collins) are more than just friends, but they cannot reveal their relationship as it would be deemed ``inappropriate''. Spencer confronts \u001b[92mMona\u001b[0m (\u001b[91mJanel Parrish\u001b[0m), who tells \u001b[94mher\u001b[0m that she had Yvonne leave her phone on purpose because she wanted Spencer to find the file.\n\nThe family is financially supported by Cedric's late wife's domineering and nearsighted aunt Lady Adelaide Stitch, who demands custody over one of the children. She first wants Christianna (\u001b[91mChrissie\u001b[0m), one of the daughters, but \u001b[92mEvangeline\u001b[0m, Cedric's uneducated scullery maid, volunteers and Adelaide agrees, assuming \u001b[94mshe\u001b[0m is one of the daughters.\n\nDrum grows up to be a fighter and is often forced to bare-knuckle-box other slaves for the entertainment of the owners, one of whom is a gay Frenchman named Bernard DeMarigny (Colicos). DeMarigny wants to sleep with Drum, but his advances are rejected by the slave and DeMarigny vows revenge against Drum. Drum and his friend Blaise (Kotto) are eventually sold to plantation owner \u001b[92mHammond Maxwell\u001b[0m (\u001b[91mOates\u001b[0m) and are both taken to \u001b[94mhis\u001b[0m plantation to work.\n\nChallenge of the Masters (Chinese: *******) is a 1976 martial arts-action film released in Hong Kong by Shaw Brothers, and directed by Lau Kar Leung. After his father refuses to teach him kung fu and \u001b[94mhe\u001b[0m is constantly being beaten by rival school students, a young Wong Fei Hung (\u001b[92mGordon Liu\u001b[0m) must train under Luk Ah Choy (\u001b[91mChen Kuan Tai\u001b[0m) to avenge the evils being done by the rival school.\n\nDonald (Kevin Dobson) and Maureen (Dee Wallace) are a married couple who get horrible news: their son was involved in a car accident and has died. Liddy (\u001b[92mTracey Gold\u001b[0m), his wife, has never met Donald and \u001b[91mMaureen\u001b[0m. Despite that, they take \u001b[94mher\u001b[0m in, because she is all alone.\n\nJanet believes Mike may be having an affair with his assistant, Claire Hackett (Maura McGiveney). Janet's beliefs are fueled by the Harpers' busybody landlady, Vanessa Courtwright (\u001b[91mHermione Baddeley\u001b[0m), who thinks \u001b[92mJanet\u001b[0m can play Mike's game by entering into an affair of \u001b[94mher\u001b[0m own, whether it be real or made-up.\n\nRoscoe and his wife had seven sons and three daughters, including William Stanley Roscoe (1782--1843), a poet, Thomas Roscoe (1791--1871), translator from Italian, and Henry (1800--1836), a legal writer who wrote his father's biography. Henry's wife, Maria Roscoe (\u001b[91mn*e Fletcher\u001b[0m) (1798-1885), was the author of \u001b[92mVittoria Colonna\u001b[0m: \u001b[94mHer\u001b[0m Life and Times, and their son Henry Enfield Roscoe (1833--1915) was a chemist and vice-chancellor of the University of London.\n\nWhen Averell's speech is over, the famous stage performer Kate Maxwell (O'Hara) arrives with a group of showgirls. Averell has arranged for Kate to operate both a cattle-buying business and a saloon. Duncan warns \u001b[92mKate\u001b[0m that he will kill anyone caught stealing cattle on his land, and Sheriff Stan Blaine (\u001b[91mNicol\u001b[0m) warns \u001b[94mher\u001b[0m of an impending war over the cattle business.\n\nRinkie is about to get married to Vicky (Sharad Kapoor) but she is unaware of his drug dealings. Raju gives Rajesh eight days to break the news to his family and call Raju his son or he'll tell the family himself. After he leaves, Rajesh gets afraid, and hires gangsters to attack him. On \u001b[94mhis\u001b[0m way out, \u001b[92mRaju\u001b[0m gets beat up by the hired gangsters, though later rescued by Shera (\u001b[91mSanjay Dutt\u001b[0m), also an Indian living in London.\n\n"
     ]
    }
   ],
   "source": [
    "print_sents(datas={'manual':True, 'data':parenthesis_data}, num_lines = 10)"
   ]
  },
  {
   "source": [
    "result : 22 out of 31 sentences are predicted correct --> accuracy : 71%"
   ],
   "cell_type": "markdown",
   "metadata": {}
  },
  {
   "source": [
    "## 2. When words appear after the pronoun\n",
    "Assume coreference of words coming after the pronoun is false"
   ],
   "cell_type": "markdown",
   "metadata": {}
  },
  {
   "cell_type": "code",
   "execution_count": 67,
   "metadata": {},
   "outputs": [],
   "source": [
    "after_pronoun = []\n",
    "\n",
    "for row in train_data.iloc:\n",
    "    if row['Pronoun-offset'] < row['A-offset'] or row['Pronoun-offset'] < row['B-offset']:\n",
    "        after_pronoun.append(row)\n",
    "\n",
    "after_pronoun = pd.DataFrame(after_pronoun, columns=train_data.columns)"
   ]
  },
  {
   "cell_type": "code",
   "execution_count": 68,
   "metadata": {},
   "outputs": [],
   "source": [
    "after_subject_pronoun = after_pronoun[after_pronoun['Pronoun'].isin(['he', 'she', 'He', 'She'])]\n",
    "after_other_pronoun = after_pronoun[after_pronoun['Pronoun'].isin(['his', 'her', 'him', 'His', 'Her', 'Him'])]"
   ]
  },
  {
   "cell_type": "code",
   "execution_count": 69,
   "metadata": {},
   "outputs": [
    {
     "output_type": "stream",
     "name": "stdout",
     "text": [
      "Isabel Walker is a twenty-something American film-school dropout who decides to visit her step-sister Roxanne, a poet who now lives in France. Isabel believes that she is there to help Roxanne during her pregnancy with her toddler infant, but later realizes that her father and step-mother sent her there so that Roxanne would help the shiftless Isabel gain some direction in life. Shortly after \u001b[94mshe\u001b[0m arrives, \u001b[92mRoxanne\u001b[0m confides in \u001b[91mIsabel\u001b[0m that her French husband, Claude-Henri has left her.\n\nYuan Sijun (born 29 May 2000 in Fujian) is a Chinese snooker player. Yuan started to play snooker at the age of 10 and first drew attention in 2016 when, at the age of 15, \u001b[94mhe\u001b[0m defeated world number 13 \u001b[91mMartin Gould\u001b[0m in a 5--0 whitewash in the opening round of the 2016 China Open before losing 5--2 to \u001b[91mGraeme Dott.\u001b[0m In 2015, Yuan entered the 2015 ACBS Asian Under-21 Snooker Championship where he reached the final, but lost eventually to Akani Songsermsawad.\n\nThe audience feels the effects of the previous notes and can reflect on that moment intentionally. Silence does not hinder musical excellence but can enhance the sounds of instruments and vocals within the piece. In his book Sound and Silence (1970), the composer \u001b[92mJohn Paynter\u001b[0m says, ``the dramatic effect of silence has long been appreciated by composers.'' \u001b[94mHe\u001b[0m gives as an example, ``the general pause in the middle of the chorus ``Have lightnings and thunders ...'' in \u001b[91mBach\u001b[0m's St. Matthew Passion'':\n\nHomer's epics stand at the beginning of the western canon of literature, exerting enormous influence on the history of fiction and literature in general. Alexander the Great (356BC-323BC) was a Greek king of Macedon and the creator of one of the largest empires in ancient history. \u001b[94mHe\u001b[0m was tutored by the philosopher \u001b[91mAristotle\u001b[0m and, as ruler, broke the power of Persia, overthrew the Persian king \u001b[91mDarius III\u001b[0m and conquered the Persian Empire.\n\nRossetti's mother began teaching to keep the family out of poverty and Maria became a live-in governess, a prospect that Christina Rossetti dreaded. At this time her brother William was working for the Excise Office and Gabriel was at art school, leaving \u001b[91mChristina\u001b[0m's life at home to become one of increasing isolation. When \u001b[94mshe\u001b[0m was 14, \u001b[92mRossetti\u001b[0m suffered a nervous breakdown and left school.\n\nIan Law who held a splinter claim to the British Middleweight Championship at the time (the main lineage being held by Brian 'Goldbelt' Maxine) was helping his friend to run the show. One of the wrestlers had got himself seriously injured two weeks out from the show and his friend asked McDonald if he would stand in for the missing man, like nearly everyone, McDonald was convinced that wrestling was all show and that anyone could do it, but McDonald was in for a shock, \u001b[94mhe\u001b[0m had a two week crash course before first pro match against \u001b[91mWild Angus\u001b[0m, The match lasted 5 rounds with Angus beating \u001b[92mMcDonald\u001b[0m by the final bell.\n\nCatherine Marshall, the widow of Dr. Peter Marshall when she wrote the book, following up on her best seller ``A Man Called Peter,'' has been quoted as saying the book was about 75% percent historical, although the main characters (the physician) and mountain woman descended from ancient royalty, are fictionalized. While in the book it is implied \u001b[94mshe\u001b[0m ends up with the doctor, the real ``\u001b[92mChristy\u001b[0m,'' \u001b[91mCatherine Marshall\u001b[0m's mother, married a minister.\n\nLynn wrote a letter to the other woman, who promptly showed it to Doolittle, who confronted Lynn, telling her to stay out of his business and that any love he had for her was gone. Lynn wrote that his statement broke her heart, and the experience eventually led her to write ``Fist City'' and the similar ``You Ain't Woman Enough''. Admitting that \u001b[94mshe\u001b[0m was tenaciously jealous and \u001b[91mDoolittle\u001b[0m sometimes did not spurn the advances of other women, \u001b[92mLynn\u001b[0m penned the song as a warning, later reflecting in her 2001 autobiography, ``I've been in a couple of fights in my life.\n\nUnders*kningar i germanisk mythologi (Investigations into Germanic Mythology) is a two-volume work by Viktor Rydberg, published in 1886 and 1889. Henrik Sch*ck wrote at the turn of the 20th century that \u001b[94mhe\u001b[0m considered \u001b[91mRydberg\u001b[0m the ``last --and poetically most gifted --of the mythological school founded by \u001b[91mJacob Grimm\u001b[0m and represented by such men as Adalbert Kuhn'' which is ``strongly synthetic'' in its understanding of myth.\n\nHowever, Phil rejects Shirley so she apologises to Heather, who is staying with Minty, but she refuses to forgive her friend. Heather is upset when she hears Minty plans to marry Sam Mitchell (Danniella Westbrook), but offers to help buy a ring. However, when Sam reveals \u001b[94mshe\u001b[0m only agreed to marry \u001b[91mMinty\u001b[0m in order to shut him up, Minty apologises to \u001b[91mHeather\u001b[0m, and she says when they married it gave her the confidence to stand up for herself.\n\n"
     ]
    }
   ],
   "source": [
    "print_sents(datas={'manual':True, 'data':after_subject_pronoun}, num_lines = 10)"
   ]
  },
  {
   "cell_type": "code",
   "execution_count": 70,
   "metadata": {},
   "outputs": [],
   "source": [
    "def after_pronoun_predict(data):\n",
    "    A_pred = []\n",
    "    B_pred = []\n",
    "    for row in data.iloc:\n",
    "        A_value = False if row['A-offset'] > row['Pronoun-offset'] else True\n",
    "        B_value = False if row['B-offset'] > row['Pronoun-offset'] else True\n",
    "\n",
    "        A_pred.append(A_value)\n",
    "        B_pred.append(B_value)\n",
    "\n",
    "    data['A-pred'] = A_pred\n",
    "    data['B-pred'] = B_pred"
   ]
  },
  {
   "cell_type": "code",
   "execution_count": 71,
   "metadata": {},
   "outputs": [
    {
     "output_type": "stream",
     "name": "stderr",
     "text": [
      "<ipython-input-70-ceb8dec2fe17>:11: SettingWithCopyWarning: \nA value is trying to be set on a copy of a slice from a DataFrame.\nTry using .loc[row_indexer,col_indexer] = value instead\n\nSee the caveats in the documentation: https://pandas.pydata.org/pandas-docs/stable/user_guide/indexing.html#returning-a-view-versus-a-copy\n  data['A-pred'] = A_pred\n<ipython-input-70-ceb8dec2fe17>:12: SettingWithCopyWarning: \nA value is trying to be set on a copy of a slice from a DataFrame.\nTry using .loc[row_indexer,col_indexer] = value instead\n\nSee the caveats in the documentation: https://pandas.pydata.org/pandas-docs/stable/user_guide/indexing.html#returning-a-view-versus-a-copy\n  data['B-pred'] = B_pred\n"
     ]
    }
   ],
   "source": [
    "after_pronoun_predict(after_subject_pronoun)\n",
    "after_pronoun_predict(after_other_pronoun)"
   ]
  },
  {
   "cell_type": "code",
   "execution_count": 72,
   "metadata": {},
   "outputs": [
    {
     "output_type": "stream",
     "name": "stdout",
     "text": [
      "0.411214953271028\n",
      "0.2133676092544987\n"
     ]
    }
   ],
   "source": [
    "print(accuracy(after_subject_pronoun))\n",
    "print(accuracy(after_other_pronoun))"
   ]
  },
  {
   "source": [
    "Result : It doesn't really matter whether a word comes after the pronoun or not"
   ],
   "cell_type": "markdown",
   "metadata": {}
  },
  {
   "source": [
    "## 3. When the both word coreference is false\n",
    "\n",
    "Let's find out what they have in common."
   ],
   "cell_type": "markdown",
   "metadata": {}
  },
  {
   "cell_type": "code",
   "execution_count": 73,
   "metadata": {},
   "outputs": [
    {
     "output_type": "stream",
     "name": "stdout",
     "text": [
      "0.1005\n201\n"
     ]
    }
   ],
   "source": [
    "false_cases = 0\n",
    "for row in train_data.iloc:\n",
    "    if row['A-coref'] == row['B-coref']:\n",
    "        false_cases += 1\n",
    "\n",
    "print(false_cases/len(train_data))\n",
    "print(false_cases)"
   ]
  },
  {
   "source": [
    "There are more than 10 percent of these kind of cases"
   ],
   "cell_type": "markdown",
   "metadata": {}
  },
  {
   "cell_type": "code",
   "execution_count": null,
   "metadata": {},
   "outputs": [],
   "source": [
    "falses_data = train_data[(train_data['A-coref'] == False) & (train_data['B-coref'] == False)]"
   ]
  },
  {
   "cell_type": "code",
   "execution_count": 27,
   "metadata": {},
   "outputs": [
    {
     "output_type": "stream",
     "name": "stdout",
     "text": [
      "Licence to Kill is one of the best of the recent Bonds.'' Jack Kroll, writing in Newsweek described Licence to Kill as ``a pure, rousingly entertaining action movie''. Kroll was mixed in his appraisal of Dalton, calling him ``a fine actor who hasn't yet stamped Bond with \u001b[94mhis\u001b[0m own personality'', observing ``Director \u001b[91mJohn Glen\u001b[0m is the \u001b[91mBusby Berkeley\u001b[0m of action flicks, and his chorus line is the legendary team of Bond stunt-persons who are at their death-defying best here''.\n\nMany middle- and back-markers also made significant gains in the first lap, especially Verstappen, who overtook nine cars in the space of two minutes earning the title of ``Driver of the Day''. The early action was however soon neutralised following contact between \u001b[91mP*rez\u001b[0m and Stroll which left Stroll spun out and beached in a gravel trap with a ruined set of tyres. The removal of \u001b[94mhis\u001b[0m car warranted a virtual safety car during which \u001b[91mVettel\u001b[0m pitted for slicks.\n\nHer name, which means ``My friend'' in (French: mon ami), is given by Ry*ko after Junichiro misunderstands Marianne and Lucienne's pronunciation. She is known to the JPP as R-9. At the end of the anime series, she is found to be under Ry*ko's custody and even has \u001b[91mMarianne\u001b[0m and \u001b[91mLucienne\u001b[0m keep an eye on \u001b[94mher\u001b[0m while going to a school in France.\n\nHe drew obsessively from childhood obsessed, both from his own imagination and by copying images that particularly pleased him. 1913 after his return from Ascona, he attended painting school in Munich for a total of eight days. But doubt in his ability was so strong that he hid his work from all but \u001b[94mhis\u001b[0m friend, the writer \u001b[91mOskar Maria Graf\u001b[0m (as \u001b[91mSchrimpf\u001b[0m former baker).\n\nChen, who comes from the city of Xiangtan in Hunan, played on the WTA Tour in the 1990s and won one title, the doubles at the 1994 China Open, with Li Fang as her partner. In 1996 she was runner-up in the women's singles at the 1996 Nokia Open in Beijing. En route to the final, which she lost to Wang Shi-ting, she accounted for three seeded players, \u001b[91mFrancesca Lubiani\u001b[0m, Yayuk Basuki and \u001b[91mSandrine Testud\u001b[0m. \u001b[94mShe\u001b[0m competed as a wildcard at the 1997 Australian Open and was beaten in the first round by Natalia Medvedeva.\n\nChief Superintendent 'Farmer' Watson demands an explanation for Rebus's continued interest in the Central Fire, giving him twenty-four hours to come up with something concrete. Later that day, Rebus goes to Pat Calder and Eddie's flat to fill out an official missing person report. Calder reveals that Willie had cracked up trying to cope without \u001b[91mEddie\u001b[0m, making a scene before leaving the restaurant. With few options left open to \u001b[94mhim\u001b[0m, Rebus decides to talk to \u001b[91mMorris Gerald Cafferty\u001b[0m at his upmarket home in Duddingston.\n\nShe is a member of The Clark Sisters, an influential gospel vocal ensemble active since the late 1960s. Clack is the leader of the gospel group the Clark Sisters, which included Gospel musicians such as Dr. \u001b[91mKaren Clark-Sheard\u001b[0m, evangelist \u001b[91mDorinda Clark-Cole\u001b[0m and Nurse Jacky Clark-Chisholm. \u001b[94mShe\u001b[0m wrote much the music for the group.\n\nOn arrival *thelwald found her in company with her father Ordgar, whom she completely controlled by her personality, playing at chess, which they had learned from the Danes. *thelwald instead took *lfthryth for his own wife and married her in about 956. *thelwald died in 962, and Dunstan suspected that he was murdered by \u001b[94mhis\u001b[0m wife *lfthryth who thereafter, according to \u001b[91mDunstan\u001b[0m, seduced \u001b[91mKing Edgar\u001b[0m and murdered his son Prince Edward the Martyr in order to pave the way for the crowning of her son *thelred as king.\n\n`` Film historian Cari Beauchamp has stated, ''When you look at the top 10 actresses of the past 80 years, since sound came in, first you have Bette Davis, \u001b[91mKatharine Hepburn\u001b[0m and \u001b[91mMeryl Streep\u001b[0m -- but I think Glenn Close is definitely in that list, it's a combination of \u001b[94mher\u001b[0m guts, in the roles she chooses, and her perseverance.\n\nBut the Jewish men of letters who lived in Alexandria were by no means satisfied with the idea that Moses acquired the wisdom of the Egyptians; they claimed for him the merit of having given to Egypt, Phoenicia, and Hellas all their culture. He taught the Jews the letters, and they then became the teachers of the Phoenicians and, indirectly, of the Greeks, says Eupolemus. Artapanus of Alexandria, in \u001b[94mhis\u001b[0m history of the Jews, went so far as to identify \u001b[91mMoses\u001b[0m with Tot-Hermes (the Egyptian messenger and scribe of the gods, who invented the letters, the various arts of peace and of war, as well as philosophy), and with the Greek Musaeus, ``the teacher of \u001b[91mOrpheus\u001b[0m.''\n\n"
     ]
    }
   ],
   "source": [
    "print_sents(datas={'manual':True, 'data':falses_data}, num_lines = 10)"
   ]
  },
  {
   "source": [
    "## 4. When only one word is subject\n",
    "Assume that subject word is always true, and other word is always false"
   ],
   "cell_type": "markdown",
   "metadata": {}
  },
  {
   "cell_type": "code",
   "execution_count": 28,
   "metadata": {},
   "outputs": [
    {
     "output_type": "stream",
     "name": "stdout",
     "text": [
      "801\n1101\n"
     ]
    }
   ],
   "source": [
    "subject_data = train_data[train_data['Pronoun'].isin(['he', 'she', 'He', 'She'])]\n",
    "other_data = train_data[train_data['Pronoun'].isin(['his', 'hin', 'her', 'His', 'Him', 'Her'])]\n",
    "print(len(subject_data))\n",
    "print(len(other_data))"
   ]
  },
  {
   "cell_type": "code",
   "execution_count": 32,
   "metadata": {},
   "outputs": [],
   "source": [
    "def word_subject(row):\n",
    "    raw = row['Text']\n",
    "    words, tagged_words, word_index = tokenized_word_sets(row)\n",
    "\n",
    "    A_id = row['A-offset']\n",
    "    B_id = row['B-offset']\n",
    "\n",
    "    def next_word(word):\n",
    "\n",
    "        tokens = len(row[word].split())\n",
    "        id = row[word+'-offset']\n",
    "        index = word_index[id] + tokens\n",
    "\n",
    "        if tagged_words[index] == ('(', '('):\n",
    "            close = tagged_words[index:].index((')', ')'))\n",
    "            if index + close + 1 >= len(tagged_words):\n",
    "                return tagged_words[index]\n",
    "            return tagged_words[index + close + 1]\n",
    "        \n",
    "        return tagged_words[index]\n",
    "\n",
    "    if next_word('A')[1].startswith('V'):\n",
    "        if next_word('B')[1].startswith('V'):\n",
    "            return (True, True)\n",
    "        else:\n",
    "            return (True, False)\n",
    "    else:\n",
    "        if next_word('B')[1].startswith('V'):\n",
    "            return (False, True)\n",
    "        else:\n",
    "            return (False, False)\n",
    "\n",
    "def only_subject(row):\n",
    "    return sum(word_subject(row))%2 == 1"
   ]
  },
  {
   "cell_type": "code",
   "execution_count": 82,
   "metadata": {
    "tags": []
   },
   "outputs": [
    {
     "output_type": "execute_result",
     "data": {
      "text/plain": [
       "1088"
      ]
     },
     "metadata": {},
     "execution_count": 82
    }
   ],
   "source": [
    "only_subject_data = train_data.apply(only_subject, axis=1)\n",
    "only_subject_data = train_data[only_subject_data]\n",
    "len(only_subject_data)"
   ]
  },
  {
   "cell_type": "code",
   "execution_count": 83,
   "metadata": {},
   "outputs": [
    {
     "output_type": "stream",
     "name": "stderr",
     "text": [
      "<ipython-input-83-146d5bf28ab4>:1: SettingWithCopyWarning: \n",
      "A value is trying to be set on a copy of a slice from a DataFrame.\n",
      "Try using .loc[row_indexer,col_indexer] = value instead\n",
      "\n",
      "See the caveats in the documentation: https://pandas.pydata.org/pandas-docs/stable/user_guide/indexing.html#returning-a-view-versus-a-copy\n",
      "  only_subject_data['A-pred'] = only_subject_data.apply(lambda row: word_subject(row)[0], axis=1)\n",
      "<ipython-input-83-146d5bf28ab4>:2: SettingWithCopyWarning: \n",
      "A value is trying to be set on a copy of a slice from a DataFrame.\n",
      "Try using .loc[row_indexer,col_indexer] = value instead\n",
      "\n",
      "See the caveats in the documentation: https://pandas.pydata.org/pandas-docs/stable/user_guide/indexing.html#returning-a-view-versus-a-copy\n",
      "  only_subject_data['B-pred'] = only_subject_data.apply(lambda row: word_subject(row)[1], axis=1)\n"
     ]
    }
   ],
   "source": [
    "only_subject_data['A-pred'] = only_subject_data.apply(lambda row: word_subject(row)[0], axis=1)\n",
    "only_subject_data['B-pred'] = only_subject_data.apply(lambda row: word_subject(row)[1], axis=1)"
   ]
  },
  {
   "cell_type": "code",
   "execution_count": 84,
   "metadata": {},
   "outputs": [
    {
     "output_type": "execute_result",
     "data": {
      "text/plain": [
       "0.7398897058823529"
      ]
     },
     "metadata": {},
     "execution_count": 84
    }
   ],
   "source": [
    "accuracy(only_subject_data)"
   ]
  },
  {
   "source": [
    "## 5. When both words are subject\n",
    "Assume that latter word is True, while the other is False"
   ],
   "cell_type": "markdown",
   "metadata": {}
  },
  {
   "cell_type": "code",
   "execution_count": 90,
   "metadata": {},
   "outputs": [],
   "source": [
    "def former_word(row):\n",
    "    if row['A-offset'] < row['B-offset']:\n",
    "        return (True, False)\n",
    "    return (False, True)\n",
    "\n",
    "def latter_word(row):\n",
    "    if row['A-offset'] < row['B-offset']:\n",
    "        return (False, True)\n",
    "    return (True, False)"
   ]
  },
  {
   "cell_type": "code",
   "execution_count": 36,
   "metadata": {},
   "outputs": [],
   "source": [
    "def both_subject(row):\n",
    "    return word_subject(row) == (True, True)"
   ]
  },
  {
   "cell_type": "code",
   "execution_count": 85,
   "metadata": {},
   "outputs": [
    {
     "output_type": "execute_result",
     "data": {
      "text/plain": [
       "172"
      ]
     },
     "metadata": {},
     "execution_count": 85
    }
   ],
   "source": [
    "both_subject_data = train_data.apply(both_subject, axis=1)\n",
    "both_subject_data = train_data[both_subject_data]\n",
    "len(both_subject_data)"
   ]
  },
  {
   "cell_type": "code",
   "execution_count": 87,
   "metadata": {
    "tags": []
   },
   "outputs": [
    {
     "output_type": "stream",
     "name": "stdout",
     "text": [
      "In 1947 McCrae persuaded Bradley to run professionally, where he had his first run in the Powderhall sprint, winning his heat and attracting the attention of bookmaker William Murphy who offered to sponsor Bradley for a preparation at the famous New year sprint. In 1951, Bradley became a training partner for Eric Cumming, the champion Australian professional athlete who was on a 10 week preparation for the Powderhall sprint. \u001b[92mCumming\u001b[0m was beaten in the semi final and was ready to return to Australia before \u001b[91mBradley\u001b[0m convinced \u001b[94mhim\u001b[0m to stay in Scotland and have another go at Powderhall in 1952.\n\nShe also has fun tormenting Betty about her crush on Henry, calling him her ``Nerd Lover.'' In the episode ``Crush'd'' she becomes Betty's roommate and despite the ups and downs, both begin to bond slowly, \u001b[92mAmanda\u001b[0m taking the responsibility of paying half of the rent and \u001b[91mBetty\u001b[0m starting to take \u001b[94mher\u001b[0m advice seriously.\n\nHe directed the White House Climate Change Task Force and spent time as a senior member of various United States delegations, including the 1997 delegation that negotiated the Kyoto Protocol. \u001b[92mGardiner\u001b[0m served the Clinton administrator for almost the entire 8 years that \u001b[91mBill Clinton\u001b[0m was President. \u001b[94mHe\u001b[0m is currently the President of an environmental consultancy company, David Gardiner & Associates.\n\nBesides this, she amassed a World Record with a career 1,114 stolen bases, more than Ty Cobb (892), and later more than both Lou Brock (938) and Japanese star Yutaka Fukumoto (1,065), until her mark was surpassed by Rickey Henderson in 1994. Her 201 stolen bases in a single season still stands as a professional record, collecting 71 more than Henderson (130), who set the Major League Baseball single-season record in 1982. But like many of \u001b[94mher\u001b[0m colleagues, \u001b[92mKurys\u001b[0m was relatively unknown until the 1992 film A League of Their Own by filmmaker \u001b[91mPenny Marshall\u001b[0m was exhibited for the first time.\n\nOn January 26, 1913, 18 year-old waitress Jennie Canady Parker shot and killed her old boyfriend, Dan Danielson. According to Glenn Snow, an Arizona historian, Danielson and \u001b[91mParker\u001b[0m had gotten into an argument about another woman in the former's saloon, during which \u001b[92mDanielson\u001b[0m pulled out \u001b[94mhis\u001b[0m revolver and fired it at the corner of a liquor cabinet Parker was standing near.\n\nThe song is about leaving the Northern Lights of England... and Roy Wood behind, when I was working over in the U.S. Wood is known for having been a founding member of The Move, the Electric Light Orchestra (ELO), and Wizzard. Haslam and Wood had a four-year relationship. Lyricist \u001b[91mBetty Thatcher-Newsinger\u001b[0m wrote about the feelings of loneliness and separation \u001b[92mHaslam\u001b[0m was experiencing whilst \u001b[94mshe\u001b[0m was on tour, based on the personal conversations between the two.\n\nWillie's younger brother, Tad, cried for nearly a month because he and Willie were very close brothers. Lincoln generated no official correspondence for four days. \u001b[92mMary\u001b[0m was so distraught that \u001b[91mLincoln\u001b[0m feared for \u001b[94mher\u001b[0m sanity.\n\nOverhearing Rito's denial of Nemesis' harem proclamation as student council president in chapter 75, Haruna defends him from the mob and while hiding in a gym storage she finally spoken her love to him, which he returns them. In the end of chapter 76, as \u001b[92mRito\u001b[0m decides not to go forward on this, \u001b[91mHaruna\u001b[0m accepts and decides to wait for \u001b[94mhis\u001b[0m answer.\n\nEmery asks Sophia for tips on how to impress her mother.Vega tells Drake that with Zoe missing, they've tapped him to be their new undercover operative, which means he'll be leaving town and getting his markings removed.When Roman goes to Vega and asks her to reconsider sending Drake away, she offers him a way out. Meanwhile, Eva approaches Julia with an offer. When \u001b[91mJulia\u001b[0m refuses, \u001b[92mEva\u001b[0m takes \u001b[94mher\u001b[0m mission to a dangerous place.\n\nThey initially called themselves ``Kristin Hersh and the Muses'', in which band they were accompanied by bass player Elaine Adamedes and drummer Becca Blumen who were later replaced by Leslie Langston and David Narcizo, respectively. \u001b[92mNarcizo\u001b[0m did not originally know how to play the drums but when \u001b[91mHersh\u001b[0m told \u001b[94mhim\u001b[0m that Becca Blumen had left the band and he could join, Narcizo said on the subject ``I had never played a drum kit before -- all I'd played was marching drums and concert drums.\n\n"
     ]
    }
   ],
   "source": [
    "print_sents(datas={'manual':True, 'data':both_subject_data}, num_lines = 10)"
   ]
  },
  {
   "cell_type": "code",
   "execution_count": 91,
   "metadata": {},
   "outputs": [
    {
     "output_type": "stream",
     "name": "stderr",
     "text": [
      "<ipython-input-91-b3ccc41bfd35>:1: SettingWithCopyWarning: \nA value is trying to be set on a copy of a slice from a DataFrame.\nTry using .loc[row_indexer,col_indexer] = value instead\n\nSee the caveats in the documentation: https://pandas.pydata.org/pandas-docs/stable/user_guide/indexing.html#returning-a-view-versus-a-copy\n  both_subject_data['A-pred'] = both_subject_data.apply(lambda row: latter_word(row)[0], axis=1)\n<ipython-input-91-b3ccc41bfd35>:2: SettingWithCopyWarning: \nA value is trying to be set on a copy of a slice from a DataFrame.\nTry using .loc[row_indexer,col_indexer] = value instead\n\nSee the caveats in the documentation: https://pandas.pydata.org/pandas-docs/stable/user_guide/indexing.html#returning-a-view-versus-a-copy\n  both_subject_data['B-pred'] = both_subject_data.apply(lambda row: latter_word(row)[1], axis=1)\n"
     ]
    }
   ],
   "source": [
    "both_subject_data['A-pred'] = both_subject_data.apply(lambda row: latter_word(row)[0], axis=1)\n",
    "both_subject_data['B-pred'] = both_subject_data.apply(lambda row: latter_word(row)[1], axis=1)"
   ]
  },
  {
   "cell_type": "code",
   "execution_count": 92,
   "metadata": {},
   "outputs": [
    {
     "output_type": "execute_result",
     "data": {
      "text/plain": [
       "0.5988372093023255"
      ]
     },
     "metadata": {},
     "execution_count": 92
    }
   ],
   "source": [
    "accuracy(both_subject_data)"
   ]
  },
  {
   "source": [
    "### * And when both words are not subject"
   ],
   "cell_type": "markdown",
   "metadata": {}
  },
  {
   "cell_type": "code",
   "execution_count": 39,
   "metadata": {},
   "outputs": [],
   "source": [
    "def none_subject(row):\n",
    "    return word_subject(row) == (False, False)"
   ]
  },
  {
   "cell_type": "code",
   "execution_count": 40,
   "metadata": {},
   "outputs": [
    {
     "output_type": "execute_result",
     "data": {
      "text/plain": [
       "285"
      ]
     },
     "metadata": {},
     "execution_count": 40
    }
   ],
   "source": [
    "none_subject_data = subject_data.apply(none_subject, axis=1)\n",
    "none_subject_data = subject_data[none_subject_data]\n",
    "len(none_subject_data)"
   ]
  },
  {
   "cell_type": "code",
   "execution_count": 95,
   "metadata": {},
   "outputs": [
    {
     "output_type": "stream",
     "name": "stdout",
     "text": [
      "As described by Brittany Spanos of Rolling Stone, ``The video opens on an art gallery filled with photos of Bieber's silhouette before shifting to the singer offering an emotional delivery of the track in a dark room. Bieber eventually becomes covered in animated paint, drawings and caricatures. Back in the gallery, \u001b[91mJack *\u001b[0m fans are providing the illustrations that are appearing over or surrounding \u001b[92mBieber\u001b[0m's body as \u001b[94mhe\u001b[0m sings and dances to the track.''\n\nIn the summer of 2012, Maicon joined Shakhtar Donetsk on a free transfer. He signed a three-year contract. On 4 September it was announced that \u001b[92mMaicon\u001b[0m would join Zorya on loan for six months before joining up with Shakhtar again during the winter break. Because \u001b[94mhe\u001b[0m joined Shakhtar after the season had begun \u001b[91mMircea Lucescu\u001b[0m, the Shakhtar manager, decided to loan him to Zorya for the first half of the season.\n\nFinally, Tish marks April 29 Again, Really April 30 Very Early in her journal ``DO read this, Mrs. Dunphrey.'' In this last entry, she tells her teacher to read the entire journal and asks for help, so long as she and Matt can stay together. In an aftermath letter, \u001b[92mTish\u001b[0m writes to \u001b[91mMrs\u001b[0m. Dunphrey explaining that \u001b[94mshe\u001b[0m and Matt were placed with her paternal grandparents in Florida, her parents were found and are now in counseling, and life is beginning to get better for her and Matt.\n\nMaster Cape Breton Fiddler was a major influence on younger Cape Breton fiddlers such as Howie MacDonald. Jerry released thirteen albums and appeared as a guest musician on over 25 more. http://www.jerryholland.com/discolist.htm He published two collections of fiddle tunes: Jerry Holland's Collection of Fiddle Tunes and \u001b[92mJerry Holland\u001b[0m's Second Collection of Fiddle Tunes, both edited by \u001b[91mPaul Cranford\u001b[0m. \u001b[94mHe\u001b[0m was also noted as a composer of fiddle tunes, most famously ``Brenda Stubbert's Reel'' (named for his friend and fellow Cape Breton fiddler Brenda Stubbert) and ``My Cape Breton Home''.\n\nJane Seymour, m. August 1750 Adm. Thomas Lynn \u001b[91mAnne Seymour\u001b[0m (d. 10 May 1752), married 8 January 1707/1708 William Berkeley (who in 1735 changed his name to William Portman and was thereafter also known as William Berkeley-Portman), of Pylle and Orchard Portman, Somerset (d. 1737), son of Edward Berkeley, of Pylle, Somerset (d. 1707) and wife \u001b[92mElizabeth Ryves\u001b[0m (d. 1724), by whom \u001b[94mshe\u001b[0m had a son Henry Seymour, died without male issue Alexander Seymour, died without male issue John Seymour, died young\n\nShe co-wrote ten of the thirteen songs on the album's standard edition. Harvey Mason, Jr. served as the creative director for Beautiful and co-wrote and produced a number of songs. \u001b[92mMauboy\u001b[0m's exclusive interview with \u001b[91mMelissa Doyle\u001b[0m in Darwin was broadcast on Sunday Night on 15 September 2013. On 26 September 2013, \u001b[94mshe\u001b[0m co-hosted The Footy Show and performed a medley of ``Inescapable'', ``To the End of the Earth'' and ``Saturday Night''.\n\nAnd often (what) adds a tremendous amount of comedy is the choosing to look over there and see what that person thinks and back and forth. He's definitely a hidden character on the show.'' In an April 2007 blog post for TV Guide, actress \u001b[92mKate Flannery\u001b[0m, who plays \u001b[91mMeredith Palmer\u001b[0m, called Jim's impression of Dwight ``one of the funniest scenes that I have ever witnessed.'' \u001b[94mShe\u001b[0m recalled that Krasinski and Wilson enjoyed filming the scene, and that the whole cast was laughing during it, necessitating many takes.\n\nRoger Ebert of the Chicago Sun-Times gave the film three stars and noted ``The movie's interest is not in the plot, which is episodic and 'colorful,' but in the performances. Sarandon bravely makes Adele into a person who is borderline insufferable. \u001b[91mSarandon\u001b[0m's role is trickier and more difficult, but \u001b[92mPortman\u001b[0m's will get the attention. In 'Anywhere But Here,' \u001b[94mshe\u001b[0m gets yanked along by her out of control mother, and her best scenes are when she fights back, not emotionally, but with incisive observations.''\n\nReleased in November 1987, the album was produced by Peter Cetera and would be her last for 17 years. Recorded mainly in Los Angeles and Malibu, California, I Stand Alone was produced by \u001b[92mPeter Cetera\u001b[0m, the former singer and bass guitar player with American rock band Chicago. \u001b[94mHe\u001b[0m duetted with F*ltskog on the track ``I Wasn't the One (Who Said Goodbye)'', (No.93 Billboard Hot 100 and No.19 Adult Contemporary in the U.S.) The co-producer of the album was \u001b[91mBruce Gaitsch\u001b[0m, with whom F*ltskog was in a relationship at the time.\n\nShe was born in Paris, the non-marital daughter of the Mexican artist Diego Rivera and his mistress, the Russian-born painter Marie Vorobieff-Stebelska (``Marevna''). \u001b[91mRivera\u001b[0m, who was married to \u001b[91mAngelina Beloff\u001b[0m at the time, did not accept his daughter. So \u001b[94mshe\u001b[0m grew up under the care of her mother.\n\n"
     ]
    }
   ],
   "source": [
    "print_sents(datas={'manual':True, 'data':none_subject_data}, num_lines = 10)"
   ]
  },
  {
   "cell_type": "code",
   "execution_count": 93,
   "metadata": {},
   "outputs": [
    {
     "output_type": "stream",
     "name": "stderr",
     "text": [
      "<ipython-input-93-d76347394a96>:1: SettingWithCopyWarning: \nA value is trying to be set on a copy of a slice from a DataFrame.\nTry using .loc[row_indexer,col_indexer] = value instead\n\nSee the caveats in the documentation: https://pandas.pydata.org/pandas-docs/stable/user_guide/indexing.html#returning-a-view-versus-a-copy\n  none_subject_data['A-pred'] = none_subject_data.apply(lambda row: former_word(row)[0], axis=1)\n<ipython-input-93-d76347394a96>:2: SettingWithCopyWarning: \nA value is trying to be set on a copy of a slice from a DataFrame.\nTry using .loc[row_indexer,col_indexer] = value instead\n\nSee the caveats in the documentation: https://pandas.pydata.org/pandas-docs/stable/user_guide/indexing.html#returning-a-view-versus-a-copy\n  none_subject_data['B-pred'] = none_subject_data.apply(lambda row: former_word(row)[1], axis=1)\n"
     ]
    }
   ],
   "source": [
    "none_subject_data['A-pred'] = none_subject_data.apply(lambda row: former_word(row)[0], axis=1)\n",
    "none_subject_data['B-pred'] = none_subject_data.apply(lambda row: former_word(row)[1], axis=1)"
   ]
  },
  {
   "cell_type": "code",
   "execution_count": 94,
   "metadata": {},
   "outputs": [
    {
     "output_type": "execute_result",
     "data": {
      "text/plain": [
       "0.44912280701754387"
      ]
     },
     "metadata": {},
     "execution_count": 94
    }
   ],
   "source": [
    "accuracy(none_subject_data)"
   ]
  },
  {
   "source": [
    "## 5. When the pronoun is object/possessive pronoun\n",
    "\n",
    "### * And when all words are in different sentence with the pronoun\n",
    "\n",
    "Assume subject words are true, other is false"
   ],
   "cell_type": "markdown",
   "metadata": {}
  },
  {
   "cell_type": "code",
   "execution_count": 42,
   "metadata": {},
   "outputs": [],
   "source": [
    "def different_sents(row):\n",
    "    raw = row['Text']\n",
    "    words, tagged_words, word_index = tokenized_word_sets(row)\n",
    "\n",
    "    dots = [i for i, w in enumerate(words) if w == '.']\n",
    "\n",
    "    pro_id = word_index[row['Pronoun-offset']]\n",
    "    A_id = word_index[row['A-offset']]\n",
    "    B_id = word_index[row['B-offset']]\n",
    "\n",
    "    def between(id1, id2):\n",
    "        if id1 > id2:\n",
    "            id1, id2 = id2, id1\n",
    "        dots = [i for i, w in enumerate(words[id1:id2]) if w == '.']\n",
    "        if len(dots) > 0:\n",
    "            return True\n",
    "        else:\n",
    "            return False\n",
    "\n",
    "    return (between(pro_id, A_id), between(pro_id, B_id))\n",
    "\n",
    "def both_different_sents(row):\n",
    "    return different_sents(row) == (True, True)\n",
    "    "
   ]
  },
  {
   "cell_type": "code",
   "execution_count": 43,
   "metadata": {},
   "outputs": [
    {
     "output_type": "execute_result",
     "data": {
      "text/plain": [
       "205"
      ]
     },
     "metadata": {},
     "execution_count": 43
    }
   ],
   "source": [
    "both_different = other_data.apply(both_different_sents, axis=1)\n",
    "both_different = other_data[both_different]\n",
    "len(both_different)"
   ]
  },
  {
   "cell_type": "code",
   "execution_count": 44,
   "metadata": {},
   "outputs": [
    {
     "output_type": "stream",
     "name": "stdout",
     "text": [
      "Shortly after announcing she would be candidate, a poll for the RTL 4 News estimated that 56% of the people preferred Verdonk as the leader of the VVD. \u001b[92mRita Verdonk\u001b[0m was advised by \u001b[91mKay van de Linde\u001b[0m, who also played a part in anti-immigration politician Pim Fortuyn 's 2002 election campaign, which was cut short by his assassination on May 6. Several of \u001b[94mher\u001b[0m statements and policies seem to exploit xenophobic emotions in the country, according to her opponents.\n\n\u001b[92mViolet Winifred Leslie Henry Anderson\u001b[0m was from Blairgowrie, Perthshire, the daughter of Isaac Henry-Anderson and \u001b[91mKatherine Blyth\u001b[0m. \u001b[94mHer\u001b[0m father was a solicitor and secretary of the Blairgowrie Golf Club before he went bankrupt in 1904 and left his family.\n\nHer triumvirate of conductors--Levi, Richter and Felix Mottl--shared the musical direction until 1894, when Levi left. \u001b[91mRichter\u001b[0m and Mottl served throughout \u001b[92mCosima\u001b[0m's years, joined by several of the leading conductors of the day, although B*low resisted all offers to participate. In the course of \u001b[94mher\u001b[0m long stewardship Cosima overcame the misgivings of the hardline Wagnerites patrons who believed, like Nietzsche in his early years, that Wagner's works should not be entrusted to a non-German.\n\n\u001b[91mMarguerite Feitlowitz\u001b[0m, Professor of literature at Bennington College, author of ``A Lexicon of Terror: Argentina and the Legacies of torture'' is quoted in the back cover of ``Golpes bajos/Low Blows'' Madison: The University of Wisconsin Press, March 2007 saying that ``No one working today writes like \u001b[92mAlicia Borinsky\u001b[0m, whose words explode off the page. The voices in \u001b[94mher\u001b[0m work arise organically, and their accents and articulations, textures and quirks, are integral, authentic.\n\nOn March 12, 2003, just over nine months after the abduction, Mitchell, who was now wanted by police for questioning, was spotted traveling with two people in Sandy, Utah, by a couple, who saw photos on the news and called 911. The people were \u001b[92mElizabeth Smart\u001b[0m--disguised in a gray wig, sunglasses, and veil -- and \u001b[91mWanda Ileen Barzee\u001b[0m. Smart was finally recognized by the officers during questioning, and was promptly reunited with \u001b[94mher\u001b[0m family.\n\n1959 also saw the release of the Hollywood film Green Mansions, set in a South American jungle and based on a 1904 best seller by the writer and naturalist, W. H. Hudson. It was directed by Mel Ferrer and starred Anthony Perkins and Audrey Hepburn as Rima the bird girl. The credits list ``Primitive music courtesy of \u001b[92mPierre Gaisseau\u001b[0m and \u001b[91mAlan Lomax\u001b[0m.'' In 1959-60 Gaisseau embarked on the New Guinea expedition documented in \u001b[94mhis\u001b[0m most celebrated film, Le Ciel et la boue (The Sky Above and the Mud Below).\n\nJohnny, enraged at being betrayed and deceived again by Lyja, broke things off with her again. However, still in love with Johnny, \u001b[92mLyja\u001b[0m stalked him while as a human, \u001b[91mLaura Green\u001b[0m. Johnny was initially interested in a fellow college student but when he realized nothing was going to materialize with \u001b[94mher\u001b[0m his focus shifted to Laura/Lyja.\n\nHe wrote that ``I never knew a child who had so much influence on adults. Her inner personality was very strong, and she had a natural quality that protected her from being spoiled.'' In October 1901, after the death of Queen \u001b[91mVictoria\u001b[0m, \u001b[92mElisabeth\u001b[0m's parents finally divorced. \u001b[94mHer\u001b[0m mother had rekindled a previous romance with another cousin, her future husband, Grand Duke Cyril Vladimirovich of Russia.\n\nBased on DNA and historical evidence, Thomas Jefferson is widely believed to have fathered the six mixed-race children of his slave Sally Hemings; four survived to adulthood. \u001b[92mHemings\u001b[0m was three-quarters white by ancestry and a half-sister of \u001b[91mMartha Wayles Jefferson.\u001b[0m Their children were born into slavery because of \u001b[94mher\u001b[0m status; as they were seven-eighths European in ancestry, they were legally white under Virginia law of the time.\n\nReb Chaim Yaakov's wife is the sister of Rabbi Moishe Sternbuch, as is the wife of Rabbi Meshulam Dovid Soloveitchik, making the two Rabbis his uncles. \u001b[91mReb Asher\u001b[0m's brother Rabbi Shlomo Arieli is the author of a critical edition of the novallae of Rabbi \u001b[91mAkiva Eiger\u001b[0m. Before \u001b[94mhis\u001b[0m marriage, Rabbi Arieli studied in the Ponevezh Yeshiva headed by Rabbi Shmuel Rozovsky, and he later studied under his father-in-law in the Mirrer Yeshiva.\n\n"
     ]
    }
   ],
   "source": [
    "print_sents(datas={'manual':True, 'data':both_different}, num_lines = 10)"
   ]
  },
  {
   "cell_type": "code",
   "execution_count": 45,
   "metadata": {},
   "outputs": [
    {
     "output_type": "execute_result",
     "data": {
      "text/plain": [
       "185"
      ]
     },
     "metadata": {},
     "execution_count": 45
    }
   ],
   "source": [
    "def only_different_sents(row):\n",
    "    return sum(different_sents(row)) == 1\n",
    "    \n",
    "only_different = other_data.apply(only_different_sents, axis=1)\n",
    "only_different = other_data[only_different]\n",
    "len(only_different)"
   ]
  },
  {
   "cell_type": "code",
   "execution_count": 46,
   "metadata": {},
   "outputs": [
    {
     "output_type": "stream",
     "name": "stdout",
     "text": [
      "Clay's group was chosen to maintain electronic equipment during the planned invasion of Japan. After separation from the Army, \u001b[92mClay\u001b[0m completed both the Bachelor's (1947) and Masters (1948) degrees in Physics at Kansas State University. At the University of Wisconsin-Madison, \u001b[94mhis\u001b[0m doctoral dissertation under \u001b[91mProfessor Gibson Winas\u001b[0m was entitled, ``Field Strengths and Spectra of High Frequency Gas Discharges.''\n\nThe exhibition will display works of Mr. Kwan, many are shown on a loan basis with the kind consent of galleries and friends, as well as related articles, photos and information. It will not only provide a broad view of the creations of Mr. \u001b[91mKwan\u001b[0m, a core figure of our art scene, but also an opportunity to look at the life of an enthusiastic and committed artist. Dedicated to \u001b[94mhis\u001b[0m life to art making, \u001b[92mJerry\u001b[0m used oil painting as his major medium of expression in his artwork.\n\nCarl Alexander Clerck (1709 -- 22 July 1765) was a Swedish entomologist and arachnologist. \u001b[92mClerck\u001b[0m came from a family in the petty nobility and entered the University of Uppsala in 1726. Little is known of \u001b[94mhis\u001b[0m studies; although a contemporary of \u001b[91mLinnaeus\u001b[0m, it is unknown whether he had any contact with him during his time in Uppsala.\n\n\u001b[92mWilliam Landay\u001b[0m (born 1963, in Boston, Massachusetts ) is an American novelist. \u001b[94mHis\u001b[0m first novel, Mission Flats, was awarded the \u001b[91mJohn Creasey\u001b[0m Dagger (now called the New Blood Dagger) as the best debut crime novel of 2003 by the British Crime Writers Association.\n\nDonald P. Kanak is non-executive Chairman of Prudential Corporation Asia, the Asian division of Prudential plc. Until 2006 he was a senior executive at American International Group, and was at one time considered to succeed \u001b[91mHank Greenberg\u001b[0m as CEO. After beginning \u001b[94mhis\u001b[0m career in management consulting, \u001b[92mKanak\u001b[0m entered the insurance and financial services industry in 1986.\n\nLate Night with Jimmy Fallon premiered in March 2009 to mixed reviews. Producer Michael Shoemaker felt that the show's style solidified when it used \u001b[92mSusan Boyle\u001b[0m as a joke. While other late-night programs had centered on \u001b[94mher\u001b[0m appearance, \u001b[91mFallon\u001b[0m's Late Night debuted a sketch in which Boyle's emotional performances could ``salve any affliction.''\n\nIn 2009 he opened a small chain of luxury kitchen supply stores in Northern California and developed three new restaurant concepts for the area: Wayfare Tavern in downtown San Francisco (formerly, Rubicon restaurant); Rotisserie & Wine, a fast food restaurant in downtown Napa, California; and with \u001b[91mSammy Hagar\u001b[0m, El Paseo in downtown Mill Valley, California, an American tavern featuring ingredients only from Marin County. With \u001b[94mhis\u001b[0m wife Tolan Clark, \u001b[92mFlorence\u001b[0m has a son Hayden, (b. 2007), and a daughter Dorothy Tyler (b. 2008).\n\nPotter was following the pattern of fairy tales by dwelling on the theme of pursuit and prey and, if there is a moral to Potter's interpretation of the theme, it tells us that an innocent, helpless, simple, or rash animal may become someone else's meal. Potter often pointed out that the tale of Jemima was a retelling of ``Little Red Riding Hood''. Perrault's tale ends with the death of the heroine, but \u001b[92mPotter\u001b[0m understood children will not tolerate tragedy. The prey in \u001b[94mher\u001b[0m books survive for better or worse (Peter returns home for a dose of chamomile tea, for example) and, though \u001b[91mJemima\u001b[0m loses her eggs to her hungry rescuers, she lives to return to the farm to raise a brood of ducklings.\n\nIt is documented that Charlemagne's court exploited the rose as a perfume. The rose was also appreciated for its medical value and was utilized in countless medical remedies. The Red Rose of Lancaster derives from the gold rose badge of \u001b[92mEdward I of England\u001b[0m. Other members of \u001b[94mhis\u001b[0m family used variants of the royal badge, with the king's brother, the \u001b[91mEarl of Lancaster\u001b[0m, using a red rose.\n\nElected to the first German Parliament when 40 years old, Loew resisted the separatist longings of the Poles from his outpost (Posen) near the frontier of Poland. He belonged to \u001b[91mHeinrich von Gagern\u001b[0m's Imperial Party, a grouping which fostered Liberalism in Germany and pursued a policy of fusion for the German states. Disillusioned by failure to realise German unity and distressed by the death of \u001b[94mhis\u001b[0m 21-year-old daughter from the plague, in 1850, \u001b[92mLoew\u001b[0m left politics.\n\n"
     ]
    }
   ],
   "source": [
    "print_sents(datas={'manual':True, 'data':only_different}, num_lines = 10)"
   ]
  },
  {
   "cell_type": "code",
   "execution_count": 77,
   "metadata": {},
   "outputs": [
    {
     "output_type": "execute_result",
     "data": {
      "text/plain": [
       "574"
      ]
     },
     "metadata": {},
     "execution_count": 77
    }
   ],
   "source": [
    "only_other_data = other_data.apply(only_subject, axis=1)\n",
    "only_other_data = other_data[only_other_data]\n",
    "len(only_other_data)"
   ]
  },
  {
   "cell_type": "code",
   "execution_count": 78,
   "metadata": {},
   "outputs": [
    {
     "output_type": "stream",
     "name": "stderr",
     "text": [
      "<ipython-input-78-5dc47d9aa78e>:1: SettingWithCopyWarning: \n",
      "A value is trying to be set on a copy of a slice from a DataFrame.\n",
      "Try using .loc[row_indexer,col_indexer] = value instead\n",
      "\n",
      "See the caveats in the documentation: https://pandas.pydata.org/pandas-docs/stable/user_guide/indexing.html#returning-a-view-versus-a-copy\n",
      "  only_other_data['A-pred'] = only_other_data.apply(lambda row: word_subject(row)[0], axis=1)\n",
      "<ipython-input-78-5dc47d9aa78e>:2: SettingWithCopyWarning: \n",
      "A value is trying to be set on a copy of a slice from a DataFrame.\n",
      "Try using .loc[row_indexer,col_indexer] = value instead\n",
      "\n",
      "See the caveats in the documentation: https://pandas.pydata.org/pandas-docs/stable/user_guide/indexing.html#returning-a-view-versus-a-copy\n",
      "  only_other_data['B-pred'] = only_other_data.apply(lambda row: word_subject(row)[1], axis=1)\n"
     ]
    }
   ],
   "source": [
    "only_other_data['A-pred'] = only_other_data.apply(lambda row: word_subject(row)[0], axis=1)\n",
    "only_other_data['B-pred'] = only_other_data.apply(lambda row: word_subject(row)[1], axis=1)"
   ]
  },
  {
   "cell_type": "code",
   "execution_count": 79,
   "metadata": {},
   "outputs": [
    {
     "output_type": "execute_result",
     "data": {
      "text/plain": [
       "0.7003484320557491"
      ]
     },
     "metadata": {},
     "execution_count": 79
    }
   ],
   "source": [
    "accuracy(only_other_data)"
   ]
  },
  {
   "cell_type": "code",
   "execution_count": 80,
   "metadata": {},
   "outputs": [
    {
     "output_type": "execute_result",
     "data": {
      "text/plain": [
       "100"
      ]
     },
     "metadata": {},
     "execution_count": 80
    }
   ],
   "source": [
    "both_other_data = other_data.apply(both_subject, axis=1)\n",
    "both_other_data = other_data[both_other_data]\n",
    "len(both_other_data)"
   ]
  },
  {
   "cell_type": "code",
   "execution_count": 81,
   "metadata": {},
   "outputs": [
    {
     "output_type": "stream",
     "name": "stdout",
     "text": [
      "He brings her to his small hometown, where she is not exactly greeted with open arms. Hubbell's overbearing mother, Fanny, is appalled by the news of their marriage and frowns upon the idea of Michelle's moving in with them. \u001b[91mFanny\u001b[0m hosts a wedding reception, where \u001b[92mMichelle\u001b[0m interacts with the colorful locals, who all seem to despise \u001b[94mher\u001b[0m.\n\nThe next day, Peggy visits Stacey in hospital and asks her to confess to burning the pub, as a sentence for arson would be less than one for murder, but Stacey refuses. \u001b[91mPeggy\u001b[0m realises that \u001b[92mStacey\u001b[0m needs to look after \u001b[94mher\u001b[0m daughter so she leaves.\n\nSuspecting Cilla was having another affair, Les kicked her out and Cilla came clean to Fiz about her illness, who told Chesney and Les. The family were reunited by Cilla's hospital bed, and Cilla then returned home. On finding out that husband Les and best mate \u001b[91mYana\u001b[0m had slept together, \u001b[92mCilla\u001b[0m hatched a plan to get \u001b[94mher\u001b[0m own back.\n\nBy the time the new councilmembers were sworn in, the Robles majority on the City Council had completely depleted the eight million dollars in the city's reserve. According to the Los Angeles Times, Albert Robles was indicted ``on 39 counts of money laundering, bribery, wire fraud and public corruption. '' Prosecutors argued that ``he used \u001b[94mhis\u001b[0m elected office and political influence to funnel money from city projects to family and friends between 1998 and 2003.`` \u001b[91mDe La Torre\u001b[0m testified in the trial against the former city treasurer. \u001b[92mRobles\u001b[0m was sentenced to 10 years in federal prison.\n\nThey had to love music, hanging around in tracksuits and most important, they had to look as if they could be twins. And for Clyde, we needed someone who looked as though he'd been a boxer but also seemed thoughtful.'' Writer \u001b[91mKate Lock\u001b[0m has suggested that ``\u001b[92mHattie\u001b[0m was an intelligent girl with a promising future.'' Of \u001b[94mher\u001b[0m demeanour upon her introduction, author Rupert Smith has surmised that of the Taverniers, only Hattie seemed to be a happy child, but added that ``her time would come'', later referencing Hattie's misfortune with men as evidence of his classification of her as an ``eternal victim''.\n\nIt is around this time that Lily is visited by Heidi at the center; Carol and Brian are arguing, and Heidi has learned that Lily is her birth mother. The two begin to form a relationship, but Isabelle becomes distressed at the sight of Heidi. \u001b[91mLily\u001b[0m is later told by Brian that \u001b[92mHeidi\u001b[0m is now in hospital after \u001b[94mher\u001b[0m spleen ruptured, though she is recovering and asking to see Lily.\n\n(from Vol. 3- ``Don't call me Bell! You only call me that when you want something.``) She speaks very much like a pirate but she is much too clean to be one. Despite the awkward reunion between her and her mother, Arabella loves \u001b[94mher\u001b[0m mother very much, and when it was still believed that \u001b[91mLaura\u001b[0m was dead, \u001b[92mArabella\u001b[0m threw herself overboard in an attempted suicide so that she would be with her mother.\n\nAbed Gubi Nadir (Arabic: **** ****** ****** ``*bid al-Q*b* N*dir; Danny Pudi) is a young, emotionally reserved, Palestinian-American pop-culture enthusiast who aspires to become a director and is currently taking film directing classes at Greendale. Paste ranked him first in their list of the 20 Best Characters of 2011, describing him as ``the show's emotional center'' and saying ``his pop-culture obsessions and antics with his buddy \u001b[91mTroy\u001b[0m have made for some of the show's finest moments.`` Abed Nadir is an alum of Greendale Community College. \u001b[92mAbed\u001b[0m had a troublesome life growing up due to a limited extent to \u001b[94mhis\u001b[0m folks.\n\nOn January 26, 1913, 18 year-old waitress Jennie Canady Parker shot and killed her old boyfriend, Dan Danielson. According to Glenn Snow, an Arizona historian, Danielson and \u001b[91mParker\u001b[0m had gotten into an argument about another woman in the former's saloon, during which \u001b[92mDanielson\u001b[0m pulled out \u001b[94mhis\u001b[0m revolver and fired it at the corner of a liquor cabinet Parker was standing near.\n\nEverest Disaster, Jon Krakauer describes the effects of HACE upon Dale Kruse, a forty-four-year-old dentist and one of the members of Scott Fischer's team: ``Kruse was having an incredibly difficult time simply trying to dress himself. He put his climbing harness on inside out, threaded it through the fly of \u001b[94mhis\u001b[0m wind suit, and failed to fasten the buckle; fortunately, Fisher and \u001b[91mNeal Beidleman\u001b[0m noticed the screwup before \u001b[92mKruse\u001b[0m started to descend.\n\n"
     ]
    }
   ],
   "source": [
    "print_sents(datas={'manual':True, 'data':both_other_data}, num_lines = 10)"
   ]
  },
  {
   "cell_type": "code",
   "execution_count": null,
   "metadata": {},
   "outputs": [],
   "source": []
  }
 ]
}