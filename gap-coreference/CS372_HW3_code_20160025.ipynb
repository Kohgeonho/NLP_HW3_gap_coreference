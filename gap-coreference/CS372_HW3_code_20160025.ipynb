{
 "metadata": {
  "language_info": {
   "codemirror_mode": {
    "name": "ipython",
    "version": 3
   },
   "file_extension": ".py",
   "mimetype": "text/x-python",
   "name": "python",
   "nbconvert_exporter": "python",
   "pygments_lexer": "ipython3",
   "version": "3.8.10"
  },
  "orig_nbformat": 2,
  "kernelspec": {
   "name": "python3810jvsc74a57bd038e31c96aac6b52bfd92a03a517d6944ec75782017e4445807e0cb0d41655b05",
   "display_name": "Python 3.8.10 64-bit (windows store)"
  },
  "metadata": {
   "interpreter": {
    "hash": "38e31c96aac6b52bfd92a03a517d6944ec75782017e4445807e0cb0d41655b05"
   }
  }
 },
 "nbformat": 4,
 "nbformat_minor": 2,
 "cells": [
  {
   "cell_type": "code",
   "execution_count": 1,
   "metadata": {},
   "outputs": [],
   "source": [
    "from helper import *\n",
    "from funcs import *"
   ]
  },
  {
   "cell_type": "code",
   "execution_count": 2,
   "metadata": {},
   "outputs": [],
   "source": [
    "import pandas as pd \n",
    "\n",
    "train_data = pd.read_csv('gap-development.tsv', sep='\\t')\n",
    "test_data  = pd.read_csv('gap-test.tsv', sep='\\t')"
   ]
  },
  {
   "source": [
    "**tf.tsv**\n",
    "\n",
    "always predict A-coref as True and B-coref as False"
   ],
   "cell_type": "markdown",
   "metadata": {}
  },
  {
   "cell_type": "code",
   "execution_count": 3,
   "metadata": {},
   "outputs": [],
   "source": [
    "f_test = open(\"gap-test.tsv\", \"r\")\n",
    "result = open(\"tf.tsv\", 'w')\n",
    "test_data = f_test.readlines()\n",
    "\n",
    "for line in test_data[1:]:\n",
    "    attrs = line.split('\\t')\n",
    "    result.write(\"\\t\".join([attrs[0]] + ['True', 'False']) + \"\\n\")\n",
    "\n",
    "f_test.close()\n",
    "result.close()"
   ]
  },
  {
   "cell_type": "code",
   "execution_count": 4,
   "metadata": {},
   "outputs": [
    {
     "output_type": "stream",
     "name": "stdout",
     "text": [
      "Overall recall: 51.8 precision: 45.9 f1: 48.7\n",
      "\t\ttp 918\tfp 1082\n",
      "\t\tfn 855\ttn 1145\n",
      "Masculine recall: 51.0 precision: 45.3 f1: 48.0\n",
      "\t\ttp 453\tfp 547\n",
      "\t\tfn 436\ttn 564\n",
      "Feminine recall: 52.6 precision: 46.5 f1: 49.4\n",
      "\t\ttp 465\tfp 535\n",
      "\t\tfn 419\ttn 581\n",
      "Bias (F/M): 1.03\n",
      "\n",
      "gap_scorer.py:126: DeprecationWarning: 'U' mode is deprecated\n",
      "  with open(filename, 'rU') as f:\n"
     ]
    }
   ],
   "source": [
    "!python gap_scorer.py --gold_ts=gap-test.tsv --system_tsv=tf.tsv"
   ]
  },
  {
   "source": [
    "**closer.tsv**\n",
    "\n",
    "Predict closer coreference to pronoun as True"
   ],
   "cell_type": "markdown",
   "metadata": {}
  },
  {
   "cell_type": "code",
   "execution_count": 5,
   "metadata": {
    "tags": []
   },
   "outputs": [],
   "source": [
    "f_test = open(\"gap-test.tsv\", \"r\")\n",
    "result = open(\"closer.tsv\", 'w')\n",
    "test_data = f_test.readlines()\n",
    "\n",
    "for line in test_data[1:]:\n",
    "    attrs = line.split('\\t')\n",
    "    tf = ['True', 'False']\n",
    "    if abs(int(attrs[3]) - int(attrs[5])) > abs(int(attrs[3]) - int(attrs[8])):\n",
    "        tf = ['False', 'True']\n",
    "\n",
    "    result.write(\"\\t\".join([attrs[0]] + tf) + \"\\n\")\n",
    "\n",
    "f_test.close()\n",
    "result.close()"
   ]
  },
  {
   "cell_type": "code",
   "execution_count": 6,
   "metadata": {},
   "outputs": [
    {
     "output_type": "stream",
     "name": "stdout",
     "text": [
      "Overall recall: 50.1 precision: 44.4 f1: 47.1\n",
      "\t\ttp 888\tfp 1112\n",
      "\t\tfn 885\ttn 1115\n",
      "Masculine recall: 51.6 precision: 45.9 f1: 48.6\n",
      "\t\ttp 459\tfp 541\n",
      "\t\tfn 430\ttn 570\n",
      "Feminine recall: 48.5 precision: 42.9 f1: 45.5\n",
      "\t\ttp 429\tfp 571\n",
      "\t\tfn 455\ttn 545\n",
      "Bias (F/M): 0.94\n",
      "\n",
      "gap_scorer.py:126: DeprecationWarning: 'U' mode is deprecated\n",
      "  with open(filename, 'rU') as f:\n"
     ]
    }
   ],
   "source": [
    "!python gap_scorer.py --gold_ts=gap-test.tsv --system_tsv=closer.tsv"
   ]
  },
  {
   "cell_type": "code",
   "execution_count": 20,
   "metadata": {
    "tags": []
   },
   "outputs": [
    {
     "output_type": "stream",
     "name": "stdout",
     "text": [
      "development-1590 Hughes captained England for every one of Mercer's seven games in charge, and initially maintained the role when Don Revie was appointed as Ramsey's permanent successor. However, after the first two qualifiers for the 1976 European Championships, \u001b[92mRevie\u001b[0m decided to drop \u001b[91mHughes\u001b[0m from the team. \u001b[94mHe\u001b[0m gave the captaincy to his former Blackpool team-mate Alan Ball, and Hughes appeared only twice for England in 1975.\n\ndevelopment-524 The late 1950s to mid-1970s is viewed as the ``golden age'' for New Zealand in the sport and saw Denny Hulme crowned as World Drivers' Championship in 1967. New Zealand drivers have been absent from Formula One events from 1984 with \u001b[91mMike Thackwell\u001b[0m to 2017 when \u001b[92mBrendon Hartley\u001b[0m is expected to make \u001b[94mhis\u001b[0m F1 debut in the 2017 United States Grand Prix.\n\ndevelopment-502 He served as flag officer (ashore), Orkney Islands and Shetland Islands, Scotland, and was made Admiral in 1942. He then served as flag officer-in-charge, in Cardiff before retiring from the navy in 1945. Following his retirement from the navy, \u001b[92mHugh Binney\u001b[0m was chosen to replace \u001b[91mErnest Clark\u001b[0m as Governor of Tasmania, a post \u001b[94mhe\u001b[0m took up on 24 December 1945.\n\ndevelopment-894 Maya confesses her love to Yash, but Yash refutes her advances, as he does not want her to become his weakness in his professional life. However, Swati (\u001b[91mSandhya Mridul\u001b[0m), the wife of Yash's coworker and good friend, convinces Yash that he is in love with \u001b[92mMaya\u001b[0m as well and Yash decides to get married to \u001b[94mher\u001b[0m.\n\ndevelopment-1169 Both men denied taking the badge. When Jude and the others stayed inside Antonessen's truck, the mob threatened them, saying ``Nigger, we can kill you.'' During this confrontation, \u001b[91mRyan Packard\u001b[0m took \u001b[92mJude\u001b[0m to the ground, where other off-duty officers held \u001b[94mhim\u001b[0m down and searched him for the badge.\n\ndevelopment-1352 In The New York Times, Michiko Kakutani characterized Prozac Nation as ``by turns wrenching and comical, self-indulgent and self-aware,'' comparing it with the ``raw candor of Joan Didion's essays, the irritating emotional exhibitionism of Sylvia Plath's The Bell Jar and the wry, dark humor of a Bob Dylan song.'' While praising \u001b[92mWurtzel\u001b[0m's prose style as ``sparkling'' and ``luminescent,'' \u001b[91mKakutani\u001b[0m thought the memoir ``would have benefited enormously from some strict editing'' and said that its ``self-pitying passages make the reader want to shake the author, and remind \u001b[94mher\u001b[0m that there are far worse fates than growing up during the '70s in New York and going to Harvard.''\n\ndevelopment-1659 Nina began to displace all her aggression toward her father's former wife. Even after Donna exonerated Daisy for Zach's murder, Nina could not waive her intense feelings of hate towards her. At \u001b[91mDonna\u001b[0m's wedding to Benny Sago, \u001b[92mNina\u001b[0m came with a gun. \u001b[94mShe\u001b[0m tried to shoot Donna, but luckily missed.\n\ndevelopment-1792 In France it was not until the Third Republic that an actual women's movement arose, a radical section of which, ``La Fronde'' (paraphrasing an older aristocratic-royal civil war), took part in the first revolution. From the start the Social-Democratic party incorporated in its programme the ``equality of all rights''. Consequently, the Social-Democratic women regarded themselves as forming one body with the men of their party, while they kept contemptuously separated from the radical movement among the middle-class women. August \u001b[91mBebel\u001b[0m's book ``Die Frau und der Sozialismus'' went through fifty editions in 1879-1910, and was translated into fourteen languages. In this work the position of woman in the Socialistic state of the future is described. In general the radical middle-class emancipation agrees with the Social-Democratic both in the political and in the ethical spheres. A proof of this is furnished by the works of the Swedish writer \u001b[92mEllen Key\u001b[0m, especially by \u001b[94mher\u001b[0m book ``*ber Ehe und Liebe'' 'On marriage and love', which enjoy a very large circulation throughout the world.\n\ndevelopment-1566 Additionally, they can't move because of the cold. They are surrounded by the enemy, and don't know what to do anymore. Ken, Jinpei and Ryu run to their aid. Through the actions of \u001b[91mKen\u001b[0m and the others, the magma mega cannon is destroyed. With the warm friendship of \u001b[94mhis\u001b[0m comrades, \u001b[92mJoe\u001b[0m has been freed from his pain.\n\ndevelopment-638 She was appointed by Richard Nixon but continued serving as Treasurer through Gerald Ford's term in office after Nixon resigned in August 1974. \u001b[92mNeff\u001b[0m took office at a time when the role of \u001b[91mTreasurer\u001b[0m was being reorganized. The Treasurer was named National Director of the Savings Bonds Division for the first time during \u001b[94mher\u001b[0m term.\n\n"
     ]
    }
   ],
   "source": [
    "print_sents(random=True)"
   ]
  },
  {
   "cell_type": "code",
   "execution_count": 8,
   "metadata": {},
   "outputs": [],
   "source": [
    "import pandas as pd"
   ]
  },
  {
   "cell_type": "code",
   "execution_count": 9,
   "metadata": {},
   "outputs": [
    {
     "output_type": "stream",
     "name": "stdout",
     "text": [
      "<class 'pandas.core.frame.DataFrame'>\nRangeIndex: 2000 entries, 0 to 1999\nData columns (total 11 columns):\n #   Column          Non-Null Count  Dtype \n---  ------          --------------  ----- \n 0   ID              2000 non-null   object\n 1   Text            2000 non-null   object\n 2   Pronoun         2000 non-null   object\n 3   Pronoun-offset  2000 non-null   int64 \n 4   A               2000 non-null   object\n 5   A-offset        2000 non-null   int64 \n 6   A-coref         2000 non-null   bool  \n 7   B               2000 non-null   object\n 8   B-offset        2000 non-null   int64 \n 9   B-coref         2000 non-null   bool  \n 10  URL             2000 non-null   object\ndtypes: bool(2), int64(3), object(6)\nmemory usage: 144.7+ KB\n"
     ]
    }
   ],
   "source": [
    "train_data = pd.read_csv('gap-development.tsv', sep='\\t')\n",
    "test_data = pd.read_csv('gap-test.tsv', sep='\\t')\n",
    "test_data.info()"
   ]
  },
  {
   "source": [
    "**subject_pronoun.tsv**\n",
    "\n",
    "Predict farther coreference pronoun as True when pronoun is subject pronoun (he, she).\n",
    "Predict closer coreference pronoun as True when pronoun is not subject pronoun, which is object or possessive pronoun(her, his, him)."
   ],
   "cell_type": "markdown",
   "metadata": {}
  },
  {
   "cell_type": "code",
   "execution_count": 10,
   "metadata": {},
   "outputs": [
    {
     "output_type": "execute_result",
     "data": {
      "text/plain": [
       "{'He', 'Her', 'His', 'She', 'he', 'her', 'him', 'his', 'she'}"
      ]
     },
     "metadata": {},
     "execution_count": 10
    }
   ],
   "source": [
    "pronouns = set(train_data['Pronoun'])\n",
    "pronouns"
   ]
  },
  {
   "cell_type": "code",
   "execution_count": 11,
   "metadata": {
    "tags": []
   },
   "outputs": [],
   "source": [
    "result = open(\"subject_pronoun.tsv\", 'w')\n",
    "\n",
    "for attrs in test_data.iloc:\n",
    "    pro, pro_id = attrs[2:4]\n",
    "    A, A_id = attrs[4:6]\n",
    "    B, B_id = attrs[7:9]\n",
    "\n",
    "    if pro.lower() in ['he', 'she']:\n",
    "        if abs(pro_id - A_id) > abs(pro_id - B_id):\n",
    "            tf = ['TRUE', 'FALSE']\n",
    "        else:\n",
    "            tf = ['FALSE', 'TRUE']\n",
    "    else:\n",
    "        if abs(pro_id - A_id) > abs(pro_id - B_id):\n",
    "            tf = ['FALSE', 'TRUE']\n",
    "        else:\n",
    "            tf = ['TRUE', 'FALSE']\n",
    "\n",
    "    result.write(\"\\t\".join([attrs[0]] + tf) + \"\\n\")\n",
    "\n",
    "f_test.close()\n",
    "result.close()"
   ]
  },
  {
   "cell_type": "code",
   "execution_count": 12,
   "metadata": {},
   "outputs": [
    {
     "output_type": "stream",
     "name": "stdout",
     "text": [
      "Overall recall: 58.3 precision: 51.6 f1: 54.8\n",
      "\t\ttp 1033\tfp 967\n",
      "\t\tfn 740\ttn 1260\n",
      "Masculine recall: 59.4 precision: 52.8 f1: 55.9\n",
      "\t\ttp 528\tfp 472\n",
      "\t\tfn 361\ttn 639\n",
      "Feminine recall: 57.1 precision: 50.5 f1: 53.6\n",
      "\t\ttp 505\tfp 495\n",
      "\t\tfn 379\ttn 621\n",
      "Bias (F/M): 0.96\n",
      "\n",
      "gap_scorer.py:126: DeprecationWarning: 'U' mode is deprecated\n",
      "  with open(filename, 'rU') as f:\n"
     ]
    }
   ],
   "source": [
    "!python gap_scorer.py --gold_ts=gap-test.tsv --system_tsv=subject_pronoun.tsv"
   ]
  },
  {
   "cell_type": "code",
   "execution_count": 13,
   "metadata": {},
   "outputs": [
    {
     "output_type": "execute_result",
     "data": {
      "text/plain": [
       "0.1135"
      ]
     },
     "metadata": {},
     "execution_count": 13
    }
   ],
   "source": [
    "false_case = 0\n",
    "for attrs in test_data.iloc:\n",
    "    if attrs[6] == attrs[9]:\n",
    "        false_case += 1\n",
    "\n",
    "false_case/len(test_data)"
   ]
  },
  {
   "source": [
    "# subject.tsv\n",
    "\n",
    "draw a relation between two proper nouns with sentence structure\n",
    "\n",
    "(e.g. Which one is the subject?)"
   ],
   "cell_type": "markdown",
   "metadata": {}
  },
  {
   "cell_type": "code",
   "execution_count": 14,
   "metadata": {},
   "outputs": [],
   "source": [
    "import nltk\n",
    "sent = \"In the next pair, Mikhaylov equalled Grishin's time and they shared Olympic gold.\"\n",
    "tagged_sent = nltk.pos_tag(nltk.word_tokenize(sent))"
   ]
  },
  {
   "source": [
    "Classify train_data into several categories\n",
    "\n",
    "1. When words are inside parenthesis\n",
    "2. When words appear after the pronoun\n",
    " * When the pronoun is subject pronoun\n",
    " * When the pronoun is object/possessive pronoun\n",
    "3. When the both coreferences are false\n",
    "4. When only one word is subject\n",
    "5. When the both words are subject\n",
    "6. When none of the words are subject\n",
    " * When a word appears multiple times\n",
    " * When both word appears same time\n",
    "    "
   ],
   "cell_type": "markdown",
   "metadata": {}
  },
  {
   "cell_type": "code",
   "execution_count": 15,
   "metadata": {},
   "outputs": [],
   "source": [
    "import pandas as pd \n",
    "\n",
    "train_data = pd.read_csv('gap-development.tsv', sep='\\t')\n",
    "test_data  = pd.read_csv('gap-test.tsv', sep='\\t')"
   ]
  },
  {
   "source": [
    "## 1. When words are inside parenthesis\n",
    "Assume when word is inside parenthesis, coreference is always false"
   ],
   "cell_type": "markdown",
   "metadata": {}
  },
  {
   "cell_type": "code",
   "execution_count": 16,
   "metadata": {
    "tags": []
   },
   "outputs": [],
   "source": [
    "def isparenthesis(row):\n",
    "    sent = row['Text']\n",
    "    A = row['A']\n",
    "    A_id = row['A-offset']\n",
    "    B = row['B']\n",
    "    B_id = row['B-offset']\n",
    "\n",
    "    return (not (sent[A_id-1] == \"(\" and sent[A_id+len(A)] == \")\"),\n",
    "            not (sent[B_id-1] == \"(\" and sent[B_id+len(B)] == \")\"))\n",
    "\n",
    "def only_parenthesis(row):\n",
    "    return sum(isparenthesis(row)) == 1"
   ]
  },
  {
   "cell_type": "code",
   "execution_count": 22,
   "metadata": {},
   "outputs": [],
   "source": [
    "parenthesis_data = train_data[train_data.apply(only_parenthesis, axis=1)]"
   ]
  },
  {
   "cell_type": "code",
   "execution_count": 23,
   "metadata": {},
   "outputs": [
    {
     "output_type": "stream",
     "name": "stdout",
     "text": [
      "development-946 The Kit*b al-Hayaw*n (**** *******, English: Book of Animals) is a 9th-century Arabic translation of History of Animals: 1--10, On the Parts of Animals: 11--14, and Generation of Animals: 15--19. The book was mentioned by \u001b[91mAl-Kind*\u001b[0m (d. 850), and commented on by Avicenna (\u001b[92mIbn S*n*\u001b[0m) in \u001b[94mhis\u001b[0m The Book of Healing.\n\ndevelopment-1765 During the restaurant's 1980s heyday at the top of the Zagat's survey, it was mentioned in Wall Street (1987) by Gordon's call girl when talking to Bud Fox (Charlie Sheen). Mentioned in Crossing Delancey by \u001b[92mIsabelle Grossman\u001b[0m (\u001b[91mAmy Irving\u001b[0m) as the place of \u001b[94mher\u001b[0m intended birthday dinner.\n\ndevelopment-1540 Rinkie is about to get married to Vicky (Sharad Kapoor) but she is unaware of his drug dealings. Raju gives Rajesh eight days to break the news to his family and call Raju his son or he'll tell the family himself. After he leaves, Rajesh gets afraid, and hires gangsters to attack him. On \u001b[94mhis\u001b[0m way out, \u001b[92mRaju\u001b[0m gets beat up by the hired gangsters, though later rescued by Shera (\u001b[91mSanjay Dutt\u001b[0m), also an Indian living in London.\n\ndevelopment-1564 Liam (Roberto Aguire) surprises Aria (Lucy Hale) in Rosewood and Aria admits to Liam the truth about Ezra's new book after he reveals to her the writing is too similar to her own. Alison (Sasha Pieterse) explains to Spencer that she and Elliott (Huw Collins) are more than just friends, but they cannot reveal their relationship as it would be deemed ``inappropriate''. Spencer confronts \u001b[92mMona\u001b[0m (\u001b[91mJanel Parrish\u001b[0m), who tells \u001b[94mher\u001b[0m that she had Yvonne leave her phone on purpose because she wanted Spencer to find the file.\n\ndevelopment-1282 Upon the albums release, the song ``Threshold Apprehension'' which Lemhouse also provided backing vocals to, was picked by Rolling Stone magazine as one of the Best 100 Songs of the year. In the fall of 2007, \u001b[92mLemhouse\u001b[0m entered school to pursue a degree in Visual Communications (\u001b[91mGraphic Design\u001b[0m). Upon finishing school \u001b[94mhe\u001b[0m started Lemhouse Design.\n\ndevelopment-562 He was named to the NCAA All-Tournament team in 1980, and two first All Star teams in 1981. He began his playing career with the Pittsburgh Penguins who drafted him in the 6th round of the 1979 NHL Entry Draft. \u001b[92mChorney\u001b[0m was traded to the Los Angeles Kings for a 6th round choice (\u001b[91mStuart Marston\u001b[0m) in the 1985 NHL Entry Draft. After spending a season with the Kings, \u001b[94mhe\u001b[0m was signed by the Washington Capitals but failed to earn a spot on the roster.\n\ndevelopment-954 Lance is in a non-committal relationship with a younger teacher named Claire (Alexie Gilmore), who is spending time with a fellow teacher named Mike (\u001b[91mHenry Simmons\u001b[0m), whose writing class is more successful than \u001b[92mLance\u001b[0m's. On nights when Claire cancels their dates and \u001b[94mhe\u001b[0m is alone, Lance bonds with his elderly neighbor Bonnie (Mitzi McCall).\n\ndevelopment-146 Rocky intervenes, and after seemingly beating the living daylights out of the supposed thugs (the scene is similar to Jean-Claude Van Damme's introductory action sequence from Hard Target (1993)), introduces himself to Natasha, and proceeds to show himself off as a charming professional with a heart of gold. Somewhat awed, Natasha offers Rocky an invitation for tea later in the evening, which he accepts. When Rocky arrives at \u001b[94mher\u001b[0m villa later in the evening, he is confronted by several obstacles, \u001b[92mNatasha\u001b[0m's sister Sweety (\u001b[91mSupriya Pilgaonkar\u001b[0m), the jealous Tommy and the family's pet dog.\n\ndevelopment-1571 And the Lord said to him, ``How can you say, 'I have fulfilled the Law and the Prophets', when it is written in the Law: 'You shall love your neighbor as yourself', and many of your brothers, sons of \u001b[91mAbraham\u001b[0m, are covered with filth, dying of hunger, and your house is full of many good things, none of which goes out to them?'' And \u001b[94mhe\u001b[0m (\u001b[92mJesus\u001b[0m) turned and said to Simon his disciple, who was sitting by him, ``Simon son of John, it is easier for a camel to go through the eye of a needle than for the rich to enter into the Kingdom of Heaven.''(\n\ndevelopment-894 Maya confesses her love to Yash, but Yash refutes her advances, as he does not want her to become his weakness in his professional life. However, Swati (\u001b[91mSandhya Mridul\u001b[0m), the wife of Yash's coworker and good friend, convinces Yash that he is in love with \u001b[92mMaya\u001b[0m as well and Yash decides to get married to \u001b[94mher\u001b[0m.\n\n"
     ]
    }
   ],
   "source": [
    "print_sents(datas={'manual':True, 'data':parenthesis_data}, num_lines = 10)"
   ]
  },
  {
   "source": [
    "result : 22 out of 31 sentences are predicted correct --> accuracy : 71%"
   ],
   "cell_type": "markdown",
   "metadata": {}
  },
  {
   "source": [
    "## 2. When words appear after the pronoun\n",
    "Assume coreference of words coming after the pronoun is false"
   ],
   "cell_type": "markdown",
   "metadata": {}
  },
  {
   "cell_type": "code",
   "execution_count": 19,
   "metadata": {},
   "outputs": [],
   "source": [
    "after_pronoun = []\n",
    "\n",
    "for row in train_data.iloc:\n",
    "    if row['Pronoun-offset'] < row['A-offset'] or row['Pronoun-offset'] < row['B-offset']:\n",
    "        after_pronoun.append(row)\n",
    "\n",
    "after_pronoun = pd.DataFrame(after_pronoun, columns=train_data.columns)"
   ]
  },
  {
   "cell_type": "code",
   "execution_count": 20,
   "metadata": {},
   "outputs": [],
   "source": [
    "after_subject_pronoun = after_pronoun[after_pronoun['Pronoun'].isin(['he', 'she', 'He', 'She'])]\n",
    "after_other_pronoun = after_pronoun[after_pronoun['Pronoun'].isin(['his', 'her', 'him', 'His', 'Her', 'Him'])]"
   ]
  },
  {
   "cell_type": "code",
   "execution_count": 21,
   "metadata": {},
   "outputs": [
    {
     "output_type": "stream",
     "name": "stdout",
     "text": [
      "development-1603 Amy arrives at the house looking for Esme to find Frank poring over various books and documents, Evelyn sleeping across the room in a wheelchair. Esme arrives not long after Amy, but is surprised to see her. It seems clear that they have not spoken for quite some time, and Esme is so glad to finally see her daughter again that she begins to weep as she hugs \u001b[91mAmy\u001b[0m. Once \u001b[94mshe\u001b[0m has recovered, we learn that \u001b[92mEsme\u001b[0m has been acting as a nurse on a television show, and that Frank had been trying to marry Esme practically since the last time Amy had visited.\n\ndevelopment-1926 However, Phil rejects Shirley so she apologises to Heather, who is staying with Minty, but she refuses to forgive her friend. Heather is upset when she hears Minty plans to marry Sam Mitchell (Danniella Westbrook), but offers to help buy a ring. However, when Sam reveals \u001b[94mshe\u001b[0m only agreed to marry \u001b[91mMinty\u001b[0m in order to shut him up, Minty apologises to \u001b[91mHeather\u001b[0m, and she says when they married it gave her the confidence to stand up for herself.\n\ndevelopment-798 Five-light Apse window for the Cathedral depicts ``The Annunciation'', ``The Visitation'', ``Virgin and Child in Majesty'', ``The Nativity'' and ``The Presentation at the Temple.'' The architect of the Cathedral was Francis Leonard Hodgson Fleming (1875--1950). Fleming had first met Parsons when Fleming worked in the office of \u001b[91mHerbert Baker\u001b[0m. \u001b[94mHe\u001b[0m was an assistant there and later a partner, \u001b[92mFleming\u001b[0m became a good friend of Parsons and gave him several South African commissions.\n\ndevelopment-119 Heightened political pressure and illness pushed Gordillo out from public life for about a year, though she did hold on to her post as the PRI secretary general. In early 2005 Gordillo returned to public life and Roberto Madrazo greeted her with open arms. According to PRI rules, Gordillo, as secretary general of the party, should have replaced Madrazo when \u001b[94mhe\u001b[0m stepped down; but, in a surprise move, \u001b[91mMariano Palacios Alcocer\u001b[0m took \u001b[92mMadrazo\u001b[0m's position instead of Gordillo, who publicly broke with Madrazo just few days before Palacios Alcocer's election.\n\ndevelopment-840 He was renamed Don Charles to avoid potential confusion with Tony Bennett, and released his biggest seller ``Walk With Me My Angel'' in January 1962. Written by Geoff Goddard, and produced by Meek, the single just made the Top 40 in the UK Singles Chart. Not that he knew it at the time, but lack of further chart activity, would leave \u001b[92mCharles\u001b[0m with the one-hit wonder tag. \u001b[94mHe\u001b[0m appeared on several teen based television program mes, and released a cover version of \u001b[91mBen E. King\u001b[0m 's hit ``The Hermit of Misty Mountain'' in 1962, and the country music influenced novelty ``It's My Way of Loving You'' the same year.\n\ndevelopment-188 Attempting to drown his sorrows, Peter visits his local bar, The Drunken Clam, with his guide dog, unaware that the bar is on fire (caused by God trying to impress a woman). Discovering the bartender Horace trapped under debris, Peter saves his life and is proclaimed a hero by local newsman Tom Tucker. When told that \u001b[94mhe\u001b[0m saved \u001b[91mHorace\u001b[0m from a burning building, \u001b[92mPeter\u001b[0m replied with disbelief, ``That freakin' place was on fire?!''\n\ndevelopment-1581 Jenkins then joined the Reform Party, but Endean was selected as the party's candidate instead. Endean represented the Auckland electorates of Parnell from 1930 to 1938, and then Remuera from 1938 to 1943. When the Reform Party merged with United to form the National Party in 1936, \u001b[92mEndean\u001b[0m became a National Party member. \u001b[94mHe\u001b[0m was controversial within the National Party and in the party's 50-year history written by \u001b[91mBarry Gustafson\u001b[0m, it is remarked that in 1938, there was ``some resistance to the National MP'' in the Remuera electorate.\n\ndevelopment-1799 Peters sings four songs on the CD accompanying a 2005 children's picture book Dewey Doo-it Helps Owlie Fly Again, the proceeds of which benefit the Christopher Reeve Foundation. Her co-star from Sunday in the Park with George, Mandy Patinkin, also sings on the CD. To support Broadway Barks, the animal adoption charity that \u001b[94mshe\u001b[0m co-founded with \u001b[91mMary Tyler Moore\u001b[0m, \u001b[92mPeters\u001b[0m has written three children's books, illustrated by Liz Murphy.\n\ndevelopment-1692 She has also worked in the opera world. She is the director and co-librettist of the 2002 opera Galileo Galilei, music by Philip Glass, commissioned by the Goodman Theatre. In 2007, \u001b[92mZimmerman\u001b[0m directed the first of a series of new productions for the Metropolitan Opera. \u001b[94mShe\u001b[0m was engaged to stage a new production of Donizetti 's Lucia di Lammermoor starring \u001b[91mNatalie Dessay\u001b[0m, which opened the company's 2007-2008 season.\n\ndevelopment-933 Vladimir Anatolievich Khodov (Russian: ******** *********** *****; October 9, 1976 -- September 3, 2004) was one of the six leaders of the hostage-takers in the 2004 Beslan school hostage crisis. Vladimir was born by medical nurse Alexandra Samoshkina the Ukrainian town of Berdyansk. His father is unknown When \u001b[94mhe\u001b[0m was three years old, \u001b[92mVladimir\u001b[0m's mother married a North Ossetian military engineer, \u001b[91mAnatoly Khodov\u001b[0m, and moved to Elkhotovo, 40 km from Beslan, where she worked in the maternity ward of a hospital.\n\n"
     ]
    }
   ],
   "source": [
    "print_sents(datas={'manual':True, 'data':after_subject_pronoun}, num_lines = 10)"
   ]
  },
  {
   "cell_type": "code",
   "execution_count": 22,
   "metadata": {},
   "outputs": [],
   "source": [
    "def after_pronoun_predict(data):\n",
    "    A_pred = []\n",
    "    B_pred = []\n",
    "    for row in data.iloc:\n",
    "        A_value = False if row['A-offset'] > row['Pronoun-offset'] else True\n",
    "        B_value = False if row['B-offset'] > row['Pronoun-offset'] else True\n",
    "\n",
    "        A_pred.append(A_value)\n",
    "        B_pred.append(B_value)\n",
    "\n",
    "    data['A-pred'] = A_pred\n",
    "    data['B-pred'] = B_pred"
   ]
  },
  {
   "cell_type": "code",
   "execution_count": 23,
   "metadata": {},
   "outputs": [
    {
     "output_type": "stream",
     "name": "stderr",
     "text": [
      "<ipython-input-22-ceb8dec2fe17>:11: SettingWithCopyWarning: \nA value is trying to be set on a copy of a slice from a DataFrame.\nTry using .loc[row_indexer,col_indexer] = value instead\n\nSee the caveats in the documentation: https://pandas.pydata.org/pandas-docs/stable/user_guide/indexing.html#returning-a-view-versus-a-copy\n  data['A-pred'] = A_pred\n<ipython-input-22-ceb8dec2fe17>:12: SettingWithCopyWarning: \nA value is trying to be set on a copy of a slice from a DataFrame.\nTry using .loc[row_indexer,col_indexer] = value instead\n\nSee the caveats in the documentation: https://pandas.pydata.org/pandas-docs/stable/user_guide/indexing.html#returning-a-view-versus-a-copy\n  data['B-pred'] = B_pred\n"
     ]
    }
   ],
   "source": [
    "after_pronoun_predict(after_subject_pronoun)\n",
    "after_pronoun_predict(after_other_pronoun)"
   ]
  },
  {
   "cell_type": "code",
   "execution_count": 24,
   "metadata": {},
   "outputs": [
    {
     "output_type": "stream",
     "name": "stdout",
     "text": [
      "0.411214953271028\n",
      "0.2133676092544987\n"
     ]
    }
   ],
   "source": [
    "print(accuracy(after_subject_pronoun))\n",
    "print(accuracy(after_other_pronoun))"
   ]
  },
  {
   "source": [
    "Result : It doesn't really matter whether a word comes after the pronoun or not"
   ],
   "cell_type": "markdown",
   "metadata": {}
  },
  {
   "source": [
    "## 3. When the both word coreference is false\n",
    "\n",
    "Let's find out what they have in common."
   ],
   "cell_type": "markdown",
   "metadata": {}
  },
  {
   "cell_type": "code",
   "execution_count": 25,
   "metadata": {},
   "outputs": [
    {
     "output_type": "stream",
     "name": "stdout",
     "text": [
      "0.1005\n201\n"
     ]
    }
   ],
   "source": [
    "false_cases = 0\n",
    "for row in train_data.iloc:\n",
    "    if row['A-coref'] == row['B-coref']:\n",
    "        false_cases += 1\n",
    "\n",
    "print(false_cases/len(train_data))\n",
    "print(false_cases)"
   ]
  },
  {
   "source": [
    "There are more than 10 percent of these kind of cases"
   ],
   "cell_type": "markdown",
   "metadata": {}
  },
  {
   "cell_type": "code",
   "execution_count": 32,
   "metadata": {},
   "outputs": [],
   "source": [
    "falses_data = train_data[(train_data['A-coref'] == False) & (train_data['B-coref'] == False)]"
   ]
  },
  {
   "cell_type": "code",
   "execution_count": 33,
   "metadata": {},
   "outputs": [
    {
     "output_type": "stream",
     "name": "stdout",
     "text": [
      "development-662 Tom's father, Warwick, turns up and asks his son to lease the family's wine vineyard to a mining company. Maggie tries to stay out of it, but ends up telling Warwick a few home truths. Carlos and \u001b[91mGrace\u001b[0m each try to help Rob and \u001b[91mColette\u001b[0m. Rob meets a surfer on the South Coast and almost has sex with \u001b[94mher\u001b[0m, before returning home.\n\ndevelopment-1642 Elena Blaramberg was born in Orenburg to her Belgian father, a military geodesist Ivan Fyodorovich Blaramberg, who served as a general in the Russian army, and her Greek mother \u001b[91mElena Pavlovna\u001b[0m, n*e \u001b[91mMavromikhali\u001b[0m. In 1854, \u001b[94mher\u001b[0m parents moved Elena and her two brothers from Orenburg to Saint Petersburg.\n\ndevelopment-245 Before Fanny knew Sasha was back, she hired a professional dancer from San Francisco, CA, ``The Ringer,'' to play ``Clara.'' This creates hostility between the two lead dancers. Michelle helps \u001b[91mGinny\u001b[0m, \u001b[91mMelanie\u001b[0m, and Boo make up from their argument. Boo is still pining for Carl, and Sasha meets a boy from the basketball team when \u001b[94mshe\u001b[0m was a cheerleader.\n\ndevelopment-351 After Steve heard a recording of a telephone conversation between Jo and Kirsty where Jo vented her frustrations about Steve's behaviour, the two fell out but soon reconciled. Jo still felt that she had to move out in order to maintain their friendship and moved in with Stuart and \u001b[91mKirsty\u001b[0m after Leonard moved out to be with \u001b[91mGina\u001b[0m. However Jo felt lonely after Stuart was rude to \u001b[94mher\u001b[0m and Kirsty neglected her to spend time with Shane.\n\ndevelopment-102 \u001b[91mRalph Inzunza\u001b[0m was a San Diego City Council District Eight representative elected in February 2001 who resigned in 2005 along with Councilman \u001b[91mMichael Zucchet\u001b[0m after being involved in a corruption scandal. They were convicted of extortion, wire fraud, and conspiracy to commit wire fraud for taking campaign contributions from a strip club owner and \u001b[94mhis\u001b[0m associates, allegedly in exchange for trying to repeal the city's ``no touch'' laws at strip clubs.\n\ndevelopment-1986 Her personal best for long jump is 6.55 m set in Bangalore on 5 June 2010 during the second Indian Grand Prix. She became only the fourth Indian woman to cross 6.50 m, joining \u001b[91mAnju Bobby George\u001b[0m (6.83 m), J.J. Shobha (6.66 m), and \u001b[91mPramila Aiyappa\u001b[0m. \u001b[94mShe\u001b[0m won the gold medal for her effort.\n\ndevelopment-1391 Unders*kningar i germanisk mythologi (Investigations into Germanic Mythology) is a two-volume work by Viktor Rydberg, published in 1886 and 1889. Henrik Sch*ck wrote at the turn of the 20th century that \u001b[94mhe\u001b[0m considered \u001b[91mRydberg\u001b[0m the ``last --and poetically most gifted --of the mythological school founded by \u001b[91mJacob Grimm\u001b[0m and represented by such men as Adalbert Kuhn'' which is ``strongly synthetic'' in its understanding of myth.\n\ndevelopment-1273 During King John of England's dispute with Pope Innocent III, Jocelin at first remained with the king, but after the excommunication of John in late 1209, Jocelin went into exile. He returned to England in 1213, and was mentioned in Magna Carta in 1215. Jocelin was one of the bishops that crowned \u001b[91mJohn\u001b[0m's son \u001b[91mHenry III\u001b[0m, and throughout the rest of Jocelin's life was involved in royal administration. \u001b[94mHe\u001b[0m was also active in his diocese, ordering construction on the cathedral at Wells, and issuing rules for his diocesan clergy.\n\ndevelopment-916 Judy Pace appeared in film and TV, appearing in the TV show The Young Lawyers and the film Frogs, and Cleavon Little made nightclub performances plus films afterwards: the most famous role he did was as \u001b[91mBart\u001b[0m in the \u001b[91mMel Brooks\u001b[0m comedy Blazing Saddles. Another person who debuted was Redd Foxx, and \u001b[94mhe\u001b[0m proved that even a veteran night club star up in age can do movies as well, leading him to be considered for the TV Show Sanford and Son.\n\ndevelopment-721 Ghurni clay models have won medals and certificates at international exhibitions. Some of the Ghurni artists have studied in art colleges in France and Italy, but theirs is a talent passed down through generations. Kartik Chandra Pal prepared clay models of statues of Mahatma Gandhi and \u001b[91mRabindranath Tagore\u001b[0m. Based on \u001b[94mhis\u001b[0m clay models bronze castings were made and have found pride of place in Washington DC and Moscow and were inaugurated by \u001b[91mBill Clinton\u001b[0m and Mikhail Gorbachev, respectively.\n\n"
     ]
    }
   ],
   "source": [
    "print_sents(datas={'manual':True, 'data':falses_data}, num_lines = 10)"
   ]
  },
  {
   "source": [
    "We can see that there are some patterns in both false sentences\n",
    "\n",
    "1. There is another pronoun appeared before.\n",
    "2. when both word is behind the pronoun, and the subject of the sentence is NNP."
   ],
   "cell_type": "markdown",
   "metadata": {}
  },
  {
   "source": [
    "1. There is another pronoun appeared before"
   ],
   "cell_type": "markdown",
   "metadata": {}
  },
  {
   "cell_type": "code",
   "execution_count": 24,
   "metadata": {},
   "outputs": [],
   "source": [
    "def prior_pronoun(row):\n",
    "    token_dict = tokenized_index(row)\n",
    "\n",
    "    words = token_dict['words']\n",
    "    word_index = token_dict['word_index']\n",
    "\n",
    "    male = ['He', 'His', 'Him', 'he', 'his', 'him']\n",
    "    female = ['She', 'Her', 'she', 'her', 'hers']\n",
    "\n",
    "    pro_id = word_index[row['Pronoun-offset']]\n",
    "    A_id = word_index[row['A-offset']]\n",
    "    B_id = word_index[row['B-offset']]\n",
    "\n",
    "    if row['Pronoun'] in male:\n",
    "        for i, word in enumerate(words[:pro_id]):\n",
    "            if word in male and i < min(A_id, B_id):\n",
    "                return True\n",
    "        return False\n",
    "    elif row['Pronoun'] in female:\n",
    "        for i, word in enumerate(words[:pro_id]):\n",
    "            if word in female and i < min(A_id, B_id):\n",
    "                return True\n",
    "        return False\n",
    "\n",
    "    else:\n",
    "        print(\"Unexpected pronoun : {}\", row['Pronoun'])"
   ]
  },
  {
   "cell_type": "code",
   "execution_count": 25,
   "metadata": {},
   "outputs": [
    {
     "output_type": "stream",
     "name": "stdout",
     "text": [
      "1141 0.10429447852760736\n"
     ]
    }
   ],
   "source": [
    "prior_pronoun_data = apply_model(train_data, [prior_pronoun], lambda x: (False, False))"
   ]
  },
  {
   "cell_type": "code",
   "execution_count": 30,
   "metadata": {},
   "outputs": [],
   "source": [
    "def another_subject(row):\n",
    "    token_dict = tokenized_index(row)\n",
    "\n",
    "    tagged_sents = token_dict['tagged_sents']\n",
    "    sents = token_dict['sents']\n",
    "    word_index = token_dict['word_index']\n",
    "    sent_index = token_dict['sent_index']\n",
    "\n",
    "    pro_sent_id = sent_index[word_index[row['Pronoun-offset']]]\n",
    "\n",
    "    def first_noun(sent):\n",
    "        for word, tag in sent:\n",
    "            if tag.startswith('NN') or tag.startswith('PR'):\n",
    "                return (word, tag)\n",
    "\n",
    "    word, tag = first_noun(tagged_sents[pro_sent_id])\n",
    "    if tag.startswith('NNP') and not word in [row['A'].split()[0], row['B'].split()[0]]:\n",
    "        return True\n",
    "\n",
    "    return False"
   ]
  },
  {
   "cell_type": "code",
   "execution_count": 31,
   "metadata": {},
   "outputs": [],
   "source": [
    "def both_latter(row):\n",
    "    if row['A-offset'] > row['Pronoun-offset'] and row['B-offset'] > row['Pronoun-offset']:\n",
    "        return True\n",
    "\n",
    "    return False\n",
    "\n",
    "mask = train_data.apply(both_latter, axis=1)\n",
    "both_latter_data = train_data[mask]"
   ]
  },
  {
   "cell_type": "code",
   "execution_count": 29,
   "metadata": {},
   "outputs": [
    {
     "output_type": "stream",
     "name": "stdout",
     "text": [
      "48 0.5833333333333334\n"
     ]
    }
   ],
   "source": [
    "another_subject_data = apply_model(train_data, [both_latter, another_subject], lambda x: (False, False))"
   ]
  },
  {
   "cell_type": "code",
   "execution_count": 33,
   "metadata": {},
   "outputs": [
    {
     "output_type": "stream",
     "name": "stdout",
     "text": [
      "development-46 The feature-length documentary traced the journey of the song, Hava Nagila, from the Ukraine to YouTube. Released theatrically and screened at 80 Jewish film festivals, Hava Nagila:The Movie was either opening or closing night at more than half of those festivals. Director Dyanna Taylor's film about \u001b[94mher\u001b[0m grandmother, the photographer \u001b[91mDorothea Lange\u001b[0m, Grab a Hunk of Lightning, aired on PBS's ``American Masters'' in 2014 and was produced by \u001b[91mGrossman\u001b[0m.\n",
      "\n",
      "development-1891 We're getting a lot of press for our gay storyline and we like that, but it's nice to think we'll soon see the day when this is no longer a big deal. Meanwhile, on the heels of the announcement of the pending gay storyline in June 2009, Mauceri was replaced as long-running character Carlotta Vega. According to Michael Logan of TV Guide, based on \u001b[94mher\u001b[0m religious beliefs \u001b[92mMauceri\u001b[0m had taken issue with upcoming scenes that would have \u001b[91mCarlotta\u001b[0m finding a book called How To Tell Your Parents That You're Gay.\n",
      "\n",
      "development-431 Since EDS had its own stock, there was an inherent conflict of interest between the companies- an EDS employee working in Detroit at a GM plant was not primarily concerned about GM's performance, but about EDS performance, so they had a blank check to throw money at problems, bill GM, and watch their EDS stock go up. Finally, as Lee quotes Perot - ``GM doesn't honor its contracts'' - Smith had said \u001b[94mhe\u001b[0m would not interfere with \u001b[91mPerot\u001b[0m, but the relationship fractured from the start, with conflicts over promised compensation to EDS executives being rejected by \u001b[92mSmith\u001b[0m, who also sent auditors to EDS to irritate Perot.\n",
      "\n",
      "development-142 Learning the news they return home only to find from Roxanne that Claude-Henri has decided to agree with Roxanne's wishes that the painting be left out of the divorce and instead be willed to their children. The rest of the family is incensed at Roxanne and demand she sell the painting. Shortly after Isabel joins \u001b[94mher\u001b[0m step-mother, Margeeve, \u001b[91mRoxanne\u001b[0m's mother-in-law \u001b[91mSuzanne\u001b[0m and their grandchildren take a trip to Euro Disney where Isabel is accosted by Magda's husband.\n",
      "\n",
      "development-986 Batman is forced to fight his beloved sidekick and cures him back at the Batcave, following Two Face to the casino where he is in fact revealed to be Dent, having suppressed his bad side (* la Dr Jekyll and Mr. Hyde). Once the Dynamic Duo are strapped to a large silver dollar, \u001b[94mhe\u001b[0m unmasks \u001b[91mBatman\u001b[0m and deduces Robin's true identity, then \u001b[92mTwo Face\u001b[0m invites the Joker, Penguin, Riddler, Mr. Freeze, Egghead, Shame, Clock King and Catwoman to an auction for the highest bidder of Batman's true identity.\n",
      "\n"
     ]
    }
   ],
   "source": [
    "print_sents(datas={'manual':True, 'data':another_subject_data}, num_lines = 5)"
   ]
  },
  {
   "source": [
    "## 4. When only one word is subject\n",
    "Assume that subject word is always true, and other word is always false"
   ],
   "cell_type": "markdown",
   "metadata": {}
  },
  {
   "cell_type": "code",
   "execution_count": 34,
   "metadata": {},
   "outputs": [
    {
     "output_type": "stream",
     "name": "stdout",
     "text": [
      "801\n1199\n"
     ]
    }
   ],
   "source": [
    "subject_data = train_data[train_data['Pronoun'].isin(['he', 'she', 'He', 'She'])]\n",
    "other_data = train_data[train_data['Pronoun'].isin(['his', 'him', 'her', 'His', 'Him', 'Her'])]\n",
    "print(len(subject_data))\n",
    "print(len(other_data))"
   ]
  },
  {
   "cell_type": "code",
   "execution_count": 13,
   "metadata": {},
   "outputs": [],
   "source": []
  },
  {
   "cell_type": "code",
   "execution_count": 12,
   "metadata": {},
   "outputs": [
    {
     "output_type": "stream",
     "name": "stdout",
     "text": [
      "The status of the show itself is unknown as it was originally expected to premiere in late 2008, but production has since been pushed back indefinitely. In 2011, Berkley published Ask-Elizabeth, a self-help book for teenage girls which drew from the workshops she conducted for the Ask-Elizabeth program. Berkley Elizabeth\n"
     ]
    }
   ],
   "source": [
    "row = test_data.iloc[1716]\n",
    "print(row['Text'], row['A'], row['B'])"
   ]
  },
  {
   "cell_type": "code",
   "execution_count": 35,
   "metadata": {},
   "outputs": [
    {
     "output_type": "stream",
     "name": "stderr",
     "text": [
      "100%|██████████| 9/9 [01:31<00:00, 10.17s/it]\n"
     ]
    },
    {
     "output_type": "execute_result",
     "data": {
      "text/plain": [
       "  Pronoun  Length  Accuracy0  Accuracy1\n",
       "0      He      87   0.885057   0.241379\n",
       "1     She     115   0.921739   0.208696\n",
       "2     His      18   0.777778   0.388889\n",
       "3     Her      19   0.736842   0.210526\n",
       "4      he     139   0.791367   0.374101\n",
       "5     she     147   0.768707   0.435374\n",
       "6     his     306   0.767974   0.535948\n",
       "7     him      58   0.431034   0.534483\n",
       "8     her     270   0.648148   0.607407\n",
       "9   total    1159   0.749784   0.458154"
      ],
      "text/html": "<div>\n<style scoped>\n    .dataframe tbody tr th:only-of-type {\n        vertical-align: middle;\n    }\n\n    .dataframe tbody tr th {\n        vertical-align: top;\n    }\n\n    .dataframe thead th {\n        text-align: right;\n    }\n</style>\n<table border=\"1\" class=\"dataframe\">\n  <thead>\n    <tr style=\"text-align: right;\">\n      <th></th>\n      <th>Pronoun</th>\n      <th>Length</th>\n      <th>Accuracy0</th>\n      <th>Accuracy1</th>\n    </tr>\n  </thead>\n  <tbody>\n    <tr>\n      <th>0</th>\n      <td>He</td>\n      <td>87</td>\n      <td>0.885057</td>\n      <td>0.241379</td>\n    </tr>\n    <tr>\n      <th>1</th>\n      <td>She</td>\n      <td>115</td>\n      <td>0.921739</td>\n      <td>0.208696</td>\n    </tr>\n    <tr>\n      <th>2</th>\n      <td>His</td>\n      <td>18</td>\n      <td>0.777778</td>\n      <td>0.388889</td>\n    </tr>\n    <tr>\n      <th>3</th>\n      <td>Her</td>\n      <td>19</td>\n      <td>0.736842</td>\n      <td>0.210526</td>\n    </tr>\n    <tr>\n      <th>4</th>\n      <td>he</td>\n      <td>139</td>\n      <td>0.791367</td>\n      <td>0.374101</td>\n    </tr>\n    <tr>\n      <th>5</th>\n      <td>she</td>\n      <td>147</td>\n      <td>0.768707</td>\n      <td>0.435374</td>\n    </tr>\n    <tr>\n      <th>6</th>\n      <td>his</td>\n      <td>306</td>\n      <td>0.767974</td>\n      <td>0.535948</td>\n    </tr>\n    <tr>\n      <th>7</th>\n      <td>him</td>\n      <td>58</td>\n      <td>0.431034</td>\n      <td>0.534483</td>\n    </tr>\n    <tr>\n      <th>8</th>\n      <td>her</td>\n      <td>270</td>\n      <td>0.648148</td>\n      <td>0.607407</td>\n    </tr>\n    <tr>\n      <th>9</th>\n      <td>total</td>\n      <td>1159</td>\n      <td>0.749784</td>\n      <td>0.458154</td>\n    </tr>\n  </tbody>\n</table>\n</div>"
     },
     "metadata": {},
     "execution_count": 35
    }
   ],
   "source": [
    "overall_analysis(train_data, [only_subject], [word_subject, latter_word])"
   ]
  },
  {
   "source": [
    "## 5. When both words are subject\n",
    "Assume that latter word is True, while the other is False"
   ],
   "cell_type": "markdown",
   "metadata": {}
  },
  {
   "cell_type": "code",
   "execution_count": 36,
   "metadata": {},
   "outputs": [
    {
     "output_type": "execute_result",
     "data": {
      "text/plain": [
       "202"
      ]
     },
     "metadata": {},
     "execution_count": 36
    }
   ],
   "source": [
    "both_subject_data = train_data.apply(both_subject, axis=1)\n",
    "both_subject_data = train_data[both_subject_data]\n",
    "len(both_subject_data)"
   ]
  },
  {
   "cell_type": "code",
   "execution_count": 37,
   "metadata": {
    "tags": []
   },
   "outputs": [
    {
     "output_type": "stream",
     "name": "stdout",
     "text": [
      "development-191 In order to get hold of Bobby Z after all, Don Huertero takes a colleague of Tad Gruzsa as hostage and proposes an exchange. Bobby Z knows Don Huertero won't rest until he believes him dead. Being worried sick, he bribes Tad Gruzsa. Now Tad Gruzsa conceives a plan to deceive Don Huertero. \u001b[94mHe\u001b[0m wants to make \u001b[91mDon Huertero\u001b[0m believe \u001b[91mBobby Z\u001b[0m was dead without harming the real Bobby Z. When the exchange is supposed to take place, Tad Gruzsa replaces Bobby Z. In his stead the clueless doppelg*nger Tim Kearney (Paul Walker) crosses the border.\n\ndevelopment-1076 Fans were appalled by the commercials that ABC put out calling Budig the ``Real'' Greenlee, as well as the clock counting the days until Rebecca's return, which watermarked the screen during Singh's final month of airing. Singh last aired on All My Children on January 15, 2008. \u001b[91mBudig\u001b[0m returned the next day. After \u001b[94mher\u001b[0m exit from All My Children, \u001b[92mSingh\u001b[0m returned to theatre work and appeared in the one woman play The Euthanasiast -- Liza Lentini's exploration of care-givers and the right to die -- at PS 122 in New York City.\n\ndevelopment-907 Gloucestershire Gladiators crashed back into the relegation zone with a defeat against Glamorgan Dragons at Sophia Gardens, succumbing to medium pace bowler David Harrison, who bowled four maiden overs to end with bowling figures of 9-4-16-2. Despite half-centuries from Kabir Ali and Alex Gidman, who looked to give the visitors a comfortable target after moving to 103 for 3, \u001b[91mDean Cosker\u001b[0m ripped out three quick wickets, and \u001b[92mGidman\u001b[0m was forced to consolidate. \u001b[94mHe\u001b[0m did top score with 62, but Glamorgan were set a rather modest target of 195 to win.\n\ndevelopment-833 He used a traditional guitar style to play modern-based compositions in an extended way. And his liner notes were way cool. ' The press garnered by Death Chants was enough to get Fahey his first paying gig--a weeklong engagement at Boston's Odyssey Coffeehouse in the summer of '65.'' In \u001b[94mhis\u001b[0m 1992 article ``Reinventing the Steel'' for Acoustic Guitar, \u001b[92mDale Miller\u001b[0m described the liner notes that \u001b[91mFahey\u001b[0m began including on his releases as ``hilarious yet profound and somewhat disturbing phony folklorical ramblings that spoofed the pedantic notes on many folk releases of the day.''\n\ndevelopment-1359 Porter worked to raise the standards of the US Navy in the position of superintendent of the Naval Academy when it was restored to Annapolis. He initiated reforms in the curriculum to increase professionalism. In the early days of President Grant's administration, Porter was de facto Secretary of the Navy. When his adoptive brother David G. Farragut was advanced from rank of vice-admiral to admiral, Porter took his previous position; likewise, when \u001b[91mFarragut\u001b[0m retired, \u001b[92mPorter\u001b[0m became the second man to hold the newly created rank of admiral. \u001b[94mHe\u001b[0m gathered a corps of like-minded officers devoted to naval reform.\n\ndevelopment-73 Pinter wrote The Room over two or four days in 1957, depending on the account, at the suggestion of his friend Henry Woolf for his production as part of a postgraduate program in directing at the University of Bristol, Bristol, England. In their published interviews, Pinter and \u001b[91mWoolf\u001b[0m vary in describing how many days \u001b[92mPinter\u001b[0m took to write The Room. According to Billington, in \u001b[94mhis\u001b[0m official biography Harold Pinter, Woolf asked Pinter to write the play in a letter that Pinter received in the autumn of 1956, when he ``was newly married'' to actress Vivien Merchant ``and in the middle of a season at Torquay''; ``(Pinter) replied that he couldn't possibly deliver anything in under six months.\n\ndevelopment-838 The principal expresses her concern that more pets will be abandoned at the Nuko Club, and makes sure the club is taking responsibility for the animals. Shingo tells Miu she should go home after school and get some rest because she has been pushing herself for the animals. When he arrives at the club room, \u001b[91mSana\u001b[0m informs Shingo that \u001b[92mMiu\u001b[0m was suddenly called by \u001b[94mher\u001b[0m part-time job to fill in for someone else.\n\ndevelopment-642 After the 1980 elections he became Minister for Communications. In May 1982, he became Minister for Defence, a post he held until the defeat of the Fraser government at the 1983 election. In January 1984 \u001b[92mAnthony\u001b[0m resigned the leadership of the National Country Party (as the Country Party had been renamed in 1975), and \u001b[91mSinclair\u001b[0m succeeded \u001b[94mhim\u001b[0m.\n\ndevelopment-1269 Going into the season, manager Rogers Hornsby was optimistic that they would have a better club with more power overall, citing Landrith as one of the new players that could help the 1953 Reds be a success. Hornsby made it clear that veteran \u001b[91mAndy Seminick\u001b[0m would be the number one catcher on the depth chart for the Reds, but also said that \u001b[92mLandrith\u001b[0m would get a ``good look'' after witnessing \u001b[94mhis\u001b[0m performance with the Reds at the end of the 1952 season, praising that he liked his ``hustle.''\n\ndevelopment-886 In this episode, his character's last name is Peters (later Hale). With Becky going back to work, Jesse becomes ``Mr. Mom'', while also trying to pursue a record deal. Meanwhile, Danny deals with \u001b[91mVicki\u001b[0m leaving, and \u001b[91mStephanie\u001b[0m accidentally stains D.J's sweater, which \u001b[94mshe\u001b[0m had told her not to wear.\n\n"
     ]
    }
   ],
   "source": [
    "print_sents(datas={'manual':True, 'data':both_subject_data}, num_lines = 10)"
   ]
  },
  {
   "cell_type": "code",
   "execution_count": 38,
   "metadata": {},
   "outputs": [
    {
     "output_type": "stream",
     "name": "stderr",
     "text": [
      "100%|██████████| 9/9 [00:35<00:00,  3.94s/it]\n"
     ]
    },
    {
     "output_type": "execute_result",
     "data": {
      "text/plain": [
       "  Pronoun  Length  Accuracy0  Accuracy1  Accuracy2  Accuracy3\n",
       "0      He      10   0.500000   0.400000   0.500000   0.400000\n",
       "1     She      14   0.571429   0.428571   0.500000   0.500000\n",
       "2     His       4   0.750000   0.250000   0.750000   0.250000\n",
       "3     Her       0   0.000000   0.000000   0.000000   0.000000\n",
       "4      he      18   0.833333   0.055556   0.833333   0.055556\n",
       "5     she      25   0.640000   0.200000   0.640000   0.200000\n",
       "6     his      42   0.690476   0.261905   0.690476   0.261905\n",
       "7     him      22   0.181818   0.681818   0.181818   0.681818\n",
       "8     her      67   0.597015   0.358209   0.611940   0.343284\n",
       "9   total     202   0.594059   0.331683   0.594059   0.331683"
      ],
      "text/html": "<div>\n<style scoped>\n    .dataframe tbody tr th:only-of-type {\n        vertical-align: middle;\n    }\n\n    .dataframe tbody tr th {\n        vertical-align: top;\n    }\n\n    .dataframe thead th {\n        text-align: right;\n    }\n</style>\n<table border=\"1\" class=\"dataframe\">\n  <thead>\n    <tr style=\"text-align: right;\">\n      <th></th>\n      <th>Pronoun</th>\n      <th>Length</th>\n      <th>Accuracy0</th>\n      <th>Accuracy1</th>\n      <th>Accuracy2</th>\n      <th>Accuracy3</th>\n    </tr>\n  </thead>\n  <tbody>\n    <tr>\n      <th>0</th>\n      <td>He</td>\n      <td>10</td>\n      <td>0.500000</td>\n      <td>0.400000</td>\n      <td>0.500000</td>\n      <td>0.400000</td>\n    </tr>\n    <tr>\n      <th>1</th>\n      <td>She</td>\n      <td>14</td>\n      <td>0.571429</td>\n      <td>0.428571</td>\n      <td>0.500000</td>\n      <td>0.500000</td>\n    </tr>\n    <tr>\n      <th>2</th>\n      <td>His</td>\n      <td>4</td>\n      <td>0.750000</td>\n      <td>0.250000</td>\n      <td>0.750000</td>\n      <td>0.250000</td>\n    </tr>\n    <tr>\n      <th>3</th>\n      <td>Her</td>\n      <td>0</td>\n      <td>0.000000</td>\n      <td>0.000000</td>\n      <td>0.000000</td>\n      <td>0.000000</td>\n    </tr>\n    <tr>\n      <th>4</th>\n      <td>he</td>\n      <td>18</td>\n      <td>0.833333</td>\n      <td>0.055556</td>\n      <td>0.833333</td>\n      <td>0.055556</td>\n    </tr>\n    <tr>\n      <th>5</th>\n      <td>she</td>\n      <td>25</td>\n      <td>0.640000</td>\n      <td>0.200000</td>\n      <td>0.640000</td>\n      <td>0.200000</td>\n    </tr>\n    <tr>\n      <th>6</th>\n      <td>his</td>\n      <td>42</td>\n      <td>0.690476</td>\n      <td>0.261905</td>\n      <td>0.690476</td>\n      <td>0.261905</td>\n    </tr>\n    <tr>\n      <th>7</th>\n      <td>him</td>\n      <td>22</td>\n      <td>0.181818</td>\n      <td>0.681818</td>\n      <td>0.181818</td>\n      <td>0.681818</td>\n    </tr>\n    <tr>\n      <th>8</th>\n      <td>her</td>\n      <td>67</td>\n      <td>0.597015</td>\n      <td>0.358209</td>\n      <td>0.611940</td>\n      <td>0.343284</td>\n    </tr>\n    <tr>\n      <th>9</th>\n      <td>total</td>\n      <td>202</td>\n      <td>0.594059</td>\n      <td>0.331683</td>\n      <td>0.594059</td>\n      <td>0.331683</td>\n    </tr>\n  </tbody>\n</table>\n</div>"
     },
     "metadata": {},
     "execution_count": 38
    }
   ],
   "source": [
    "overall_analysis(train_data, [both_subject], [latter_word, former_word, closer_word, farther_word])"
   ]
  },
  {
   "source": [
    "## 6. When both words are not subject\n"
   ],
   "cell_type": "markdown",
   "metadata": {}
  },
  {
   "cell_type": "code",
   "execution_count": 39,
   "metadata": {},
   "outputs": [
    {
     "output_type": "execute_result",
     "data": {
      "text/plain": [
       "639"
      ]
     },
     "metadata": {},
     "execution_count": 39
    }
   ],
   "source": [
    "none_subject_data = train_data.apply(none_subject, axis=1)\n",
    "none_subject_data = train_data[none_subject_data]\n",
    "len(none_subject_data)"
   ]
  },
  {
   "cell_type": "code",
   "execution_count": 40,
   "metadata": {},
   "outputs": [
    {
     "output_type": "stream",
     "name": "stderr",
     "text": [
      "100%|██████████| 9/9 [00:34<00:00,  3.86s/it]\n"
     ]
    },
    {
     "output_type": "execute_result",
     "data": {
      "text/plain": [
       "  Pronoun  Length  Accuracy0  Accuracy1  Accuracy2  Accuracy3\n",
       "0      He      41   0.390244   0.463415   0.439024   0.414634\n",
       "1     She      50   0.280000   0.420000   0.240000   0.460000\n",
       "2     His      11   0.181818   0.454545   0.181818   0.454545\n",
       "3     Her      19   0.368421   0.368421   0.368421   0.368421\n",
       "4      he      78   0.423077   0.371795   0.423077   0.371795\n",
       "5     she      77   0.337662   0.402597   0.324675   0.415584\n",
       "6     his     148   0.452703   0.290541   0.506757   0.236486\n",
       "7     him      18   0.555556   0.222222   0.555556   0.222222\n",
       "8     her     197   0.502538   0.319797   0.507614   0.314721\n",
       "9   total     639   0.428795   0.347418   0.441315   0.334898"
      ],
      "text/html": "<div>\n<style scoped>\n    .dataframe tbody tr th:only-of-type {\n        vertical-align: middle;\n    }\n\n    .dataframe tbody tr th {\n        vertical-align: top;\n    }\n\n    .dataframe thead th {\n        text-align: right;\n    }\n</style>\n<table border=\"1\" class=\"dataframe\">\n  <thead>\n    <tr style=\"text-align: right;\">\n      <th></th>\n      <th>Pronoun</th>\n      <th>Length</th>\n      <th>Accuracy0</th>\n      <th>Accuracy1</th>\n      <th>Accuracy2</th>\n      <th>Accuracy3</th>\n    </tr>\n  </thead>\n  <tbody>\n    <tr>\n      <th>0</th>\n      <td>He</td>\n      <td>41</td>\n      <td>0.390244</td>\n      <td>0.463415</td>\n      <td>0.439024</td>\n      <td>0.414634</td>\n    </tr>\n    <tr>\n      <th>1</th>\n      <td>She</td>\n      <td>50</td>\n      <td>0.280000</td>\n      <td>0.420000</td>\n      <td>0.240000</td>\n      <td>0.460000</td>\n    </tr>\n    <tr>\n      <th>2</th>\n      <td>His</td>\n      <td>11</td>\n      <td>0.181818</td>\n      <td>0.454545</td>\n      <td>0.181818</td>\n      <td>0.454545</td>\n    </tr>\n    <tr>\n      <th>3</th>\n      <td>Her</td>\n      <td>19</td>\n      <td>0.368421</td>\n      <td>0.368421</td>\n      <td>0.368421</td>\n      <td>0.368421</td>\n    </tr>\n    <tr>\n      <th>4</th>\n      <td>he</td>\n      <td>78</td>\n      <td>0.423077</td>\n      <td>0.371795</td>\n      <td>0.423077</td>\n      <td>0.371795</td>\n    </tr>\n    <tr>\n      <th>5</th>\n      <td>she</td>\n      <td>77</td>\n      <td>0.337662</td>\n      <td>0.402597</td>\n      <td>0.324675</td>\n      <td>0.415584</td>\n    </tr>\n    <tr>\n      <th>6</th>\n      <td>his</td>\n      <td>148</td>\n      <td>0.452703</td>\n      <td>0.290541</td>\n      <td>0.506757</td>\n      <td>0.236486</td>\n    </tr>\n    <tr>\n      <th>7</th>\n      <td>him</td>\n      <td>18</td>\n      <td>0.555556</td>\n      <td>0.222222</td>\n      <td>0.555556</td>\n      <td>0.222222</td>\n    </tr>\n    <tr>\n      <th>8</th>\n      <td>her</td>\n      <td>197</td>\n      <td>0.502538</td>\n      <td>0.319797</td>\n      <td>0.507614</td>\n      <td>0.314721</td>\n    </tr>\n    <tr>\n      <th>9</th>\n      <td>total</td>\n      <td>639</td>\n      <td>0.428795</td>\n      <td>0.347418</td>\n      <td>0.441315</td>\n      <td>0.334898</td>\n    </tr>\n  </tbody>\n</table>\n</div>"
     },
     "metadata": {},
     "execution_count": 40
    }
   ],
   "source": [
    "overall_analysis(train_data, [none_subject], [latter_word, former_word, closer_word, farther_word])"
   ]
  },
  {
   "cell_type": "code",
   "execution_count": 41,
   "metadata": {},
   "outputs": [
    {
     "output_type": "stream",
     "name": "stderr",
     "text": [
      "100%|██████████| 9/9 [00:41<00:00,  4.60s/it]\n"
     ]
    },
    {
     "output_type": "execute_result",
     "data": {
      "text/plain": [
       "  Pronoun  Length  Accuracy0\n",
       "0      He       0   0.000000\n",
       "1     She       0   0.000000\n",
       "2     His       0   0.000000\n",
       "3     Her       0   0.000000\n",
       "4      he       2   0.500000\n",
       "5     she       2   1.000000\n",
       "6     his      13   0.692308\n",
       "7     him       0   0.000000\n",
       "8     her       4   0.750000\n",
       "9   total      21   0.714286"
      ],
      "text/html": "<div>\n<style scoped>\n    .dataframe tbody tr th:only-of-type {\n        vertical-align: middle;\n    }\n\n    .dataframe tbody tr th {\n        vertical-align: top;\n    }\n\n    .dataframe thead th {\n        text-align: right;\n    }\n</style>\n<table border=\"1\" class=\"dataframe\">\n  <thead>\n    <tr style=\"text-align: right;\">\n      <th></th>\n      <th>Pronoun</th>\n      <th>Length</th>\n      <th>Accuracy0</th>\n    </tr>\n  </thead>\n  <tbody>\n    <tr>\n      <th>0</th>\n      <td>He</td>\n      <td>0</td>\n      <td>0.000000</td>\n    </tr>\n    <tr>\n      <th>1</th>\n      <td>She</td>\n      <td>0</td>\n      <td>0.000000</td>\n    </tr>\n    <tr>\n      <th>2</th>\n      <td>His</td>\n      <td>0</td>\n      <td>0.000000</td>\n    </tr>\n    <tr>\n      <th>3</th>\n      <td>Her</td>\n      <td>0</td>\n      <td>0.000000</td>\n    </tr>\n    <tr>\n      <th>4</th>\n      <td>he</td>\n      <td>2</td>\n      <td>0.500000</td>\n    </tr>\n    <tr>\n      <th>5</th>\n      <td>she</td>\n      <td>2</td>\n      <td>1.000000</td>\n    </tr>\n    <tr>\n      <th>6</th>\n      <td>his</td>\n      <td>13</td>\n      <td>0.692308</td>\n    </tr>\n    <tr>\n      <th>7</th>\n      <td>him</td>\n      <td>0</td>\n      <td>0.000000</td>\n    </tr>\n    <tr>\n      <th>8</th>\n      <td>her</td>\n      <td>4</td>\n      <td>0.750000</td>\n    </tr>\n    <tr>\n      <th>9</th>\n      <td>total</td>\n      <td>21</td>\n      <td>0.714286</td>\n    </tr>\n  </tbody>\n</table>\n</div>"
     },
     "metadata": {},
     "execution_count": 41
    }
   ],
   "source": [
    "overall_analysis(train_data, [none_subject, both_latter, another_subject], [lambda x: (False, False)])"
   ]
  },
  {
   "cell_type": "code",
   "execution_count": 42,
   "metadata": {},
   "outputs": [
    {
     "output_type": "stream",
     "name": "stdout",
     "text": [
      "development-156 Homer's epics stand at the beginning of the western canon of literature, exerting enormous influence on the history of fiction and literature in general. Alexander the Great (356BC-323BC) was a Greek king of Macedon and the creator of one of the largest empires in ancient history. \u001b[94mHe\u001b[0m was tutored by the philosopher \u001b[91mAristotle\u001b[0m and, as ruler, broke the power of Persia, overthrew the Persian king \u001b[91mDarius III\u001b[0m and conquered the Persian Empire.\n\ndevelopment-906 At the Top 24 round as part of Group 1, Jermaine sang ``Steal My Girl'' together with Vanessa Devi, \u001b[91mShanice Hedger\u001b[0m and \u001b[91mRuth Matthews\u001b[0m as the whole group, and ``Blank Space'' in the solo round, and was sent through to the next round. \u001b[94mShe\u001b[0m sang ``Lay Me Down'' in the Top 16 round and made it through to the finals, singing ``A Sky Full of Stars'' as a group of top 10 finalists and ``Almost Is Never Enough'' in the solo segment of the Identity round.\n\ndevelopment-590 Roscoe and his wife had seven sons and three daughters, including William Stanley Roscoe (1782--1843), a poet, Thomas Roscoe (1791--1871), translator from Italian, and Henry (1800--1836), a legal writer who wrote his father's biography. Henry's wife, Maria Roscoe (\u001b[91mn*e Fletcher\u001b[0m) (1798-1885), was the author of \u001b[92mVittoria Colonna\u001b[0m: \u001b[94mHer\u001b[0m Life and Times, and their son Henry Enfield Roscoe (1833--1915) was a chemist and vice-chancellor of the University of London.\n\ndevelopment-610 In the older records, the village is known as Bukovinka and so is named in 1543 when it appeared in the records regarding the sale of the estate in Desky zemsk* (State property records). In 1628, \u001b[92mVald*tejn\u001b[0m acquired Bukovina from \u001b[91mKarel Kapoun\u001b[0m from Svojkov. \u001b[94mHe\u001b[0m also purchased other manors in the surrounding area and together they were later attached to his Hostinn* estate.\n\ndevelopment-1427 As part of his breeding and training programs he was part owner (with Harold Syner of Wajima fame) of Alamare Farm in Lexington, Kentucky and joint owner of Meadow Wood Training Center in Ocala, Florida. DiMauro is responsible for mentoring and developing many of the horsemen involved in Thoroughbred racing today. His experience and insight into the sport has earned him much respect among many. \u001b[94mHe\u001b[0m gave \u001b[91mRichard Migliore\u001b[0m a chance, and \u001b[91mRichard ``The Mig\u001b[0m,'' was a well-known jockey for many years until his retirement in June 2010, and is still involved in the sport with the New York Racing Association.\n\ndevelopment-1306 Like many other religious houses, they profited by the embarrassment of lesser barons and knights, and in 1232 were able to purchase the greater part of the manor of Alvingham from John de Melsa, his father and mother, by paying off their debt of 871*2 marks to certain Jews. Their claim to two parts of the church of St. Andrew, Market Stainton, involved them in a struggle with \u001b[92mRobert Grosteste\u001b[0m, bishop of Lincoln, in the reign of \u001b[91mHenry III\u001b[0m. \u001b[94mHe\u001b[0m revoked the appropriation made by his predecessor, but in 1245 the priory's appeal to Pope Innocent IV was finally successful.\n\ndevelopment-536 The orchestra moved on to the Mound Club in St. Louis, Missouri where he signed with William Foor-Robinson Orchestra Corporation of America. The Tal Henry orchestra went on to Harrisburg, Pennsylvania. Ed Fishman introduced Bob Hope and \u001b[91mGeorge Burns\u001b[0m to \u001b[92mTal Henry\u001b[0m and \u001b[94mHis\u001b[0m North Carolinians and booked them into the Stanley in Pittsburgh.\n\ndevelopment-779 Not only was it the first scholarly edition of Austen's works, it was also the first scholarly edition of any English novelist. The Chapman text has remained the basis for all subsequent published editions of Austen's works. With the publication in 1939 of \u001b[92mMary Lascelles\u001b[0m's \u001b[91mJane Austen\u001b[0m and \u001b[94mHer\u001b[0m Art, the academic study of Austen took hold.\n\ndevelopment-1210 All her force, and it is the more tremendous for being constricted, goes into the assertion, 'I love. I hate. I suffer. '''-- Virginia Woolf. The Daily Telegraph's, Lucy Hughes-Hallett argues that Villette is greater than Bront*'s most famous work \u001b[91mJane Eyre\u001b[0m. \u001b[94mShe\u001b[0m states that the novel is ``an astonishing piece of writing, a book in which phantasmagorical set pieces alternate with passages of minute psychological exploration, and in which \u001b[92mBront*\u001b[0m's marvellously flexible prose veers between sardonic wit and stream-of-consciousness, in which the syntax bends and flows and threatens to dissolve completely in the heat of madness, drug-induced hallucination and desperate desire.''\n\ndevelopment-171 He was born in New York City, studied in Paris, and after returning to the United States worked for Leslie's, Harper's Weekly and similar publications. He also contributed to the humorous weekly magazine Vanity Fair. The \u001b[92mMark Twain\u001b[0m book A Tramp Abroad contains more than 20 pictures by \u001b[91mDay\u001b[0m. \u001b[94mHe\u001b[0m married Maria Theresa Miller around 1859, who died in 1875.\n\n"
     ]
    }
   ],
   "source": [
    "print_sents(datas={'manual':True, 'data':none_subject_data[none_subject_data.apply(lambda row: row['Pronoun'] in ['He','She','His','Her'], axis=1)]}, num_lines = 10)"
   ]
  },
  {
   "source": [
    "1. when two words are close to each other, referred words are more likely to be coreferred word.\n",
    "\n",
    " * {True word} (,?) and {Pronoun}\n"
   ],
   "cell_type": "markdown",
   "metadata": {}
  },
  {
   "cell_type": "code",
   "execution_count": 43,
   "metadata": {},
   "outputs": [],
   "source": [
    "def CC_pronoun(row):\n",
    "    token_dict = tokenized_index(row)\n",
    "\n",
    "    tagged_words = token_dict['tagged_words']\n",
    "    word_index = token_dict['word_index']\n",
    "\n",
    "    pro_index = word_index[row['Pronoun-offset']]\n",
    "    A_index = word_index[row['A-offset']]\n",
    "    B_index = word_index[row['B-offset']]\n",
    "\n",
    "    def coref(index):\n",
    "        if index+5 >= len(tagged_words):\n",
    "            return False\n",
    "        return (tagged_words[index+1][1] == 'CC' and pro_index == index + 2) or \\\n",
    "               (tagged_words[index+2][1] == 'CC' and pro_index == index + 3)\n",
    "\n",
    "    return coref(A_index), coref(B_index)\n",
    "\n",
    "def exist_CC_pronoun(row):\n",
    "    return sum(CC_pronoun(row)) == 1"
   ]
  },
  {
   "cell_type": "code",
   "execution_count": 44,
   "metadata": {},
   "outputs": [
    {
     "output_type": "stream",
     "name": "stdout",
     "text": [
      "15 0.9333333333333333\n"
     ]
    },
    {
     "output_type": "execute_result",
     "data": {
      "text/plain": [
       "                    ID                                               Text  \\\n",
       "478    development-479  Sarah Wadsworth (17 Mar 1649 - ) m. Jonathan A...   \n",
       "535    development-536  The orchestra moved on to the Mound Club in St...   \n",
       "607    development-608  Little Fish is a 2005 Australian film directed...   \n",
       "633    development-634  The royalties from the performances of the wor...   \n",
       "694    development-695  They moved to Go**bki near Warsaw with their t...   \n",
       "756    development-757  Immediately after Blackwood's penalty, wide re...   \n",
       "778    development-779  Not only was it the first scholarly edition of...   \n",
       "1212  development-1213  Truth or Dare by Madonna is a lifestyle brand ...   \n",
       "1320  development-1321  However, Archie Mitchell uses Suzy to plant DN...   \n",
       "1468  development-1469  He declared that if James were dead, he would ...   \n",
       "1511  development-1512  He is a well known expert, consultant and auth...   \n",
       "1873  development-1874  The novel is set in Bath, Somerset and centres...   \n",
       "1902  development-1903  William A. Tudor (born 1964) and ex- wife Moni...   \n",
       "1976  development-1977  ``Don't Cry Your Heart Out'' was radio-friendl...   \n",
       "1981  development-1982  The Season Nine DVD contains a number of delet...   \n",
       "\n",
       "     Pronoun  Pronoun-offset                     A  A-offset  A-coref  \\\n",
       "478      his             260               William       222    False   \n",
       "535      His             267          George Burns       237    False   \n",
       "607      her             276             Liz Watts       222    False   \n",
       "633      his             310         Frankie Laine       277    False   \n",
       "694      her             289      Krystyna Izbicki       256    False   \n",
       "756       he             332             Theismann       277    False   \n",
       "778      Her             290        Mary Lascelles       257     True   \n",
       "1212     her             321         Material Girl       258    False   \n",
       "1320     she             317        Queen Victoria       278    False   \n",
       "1468     his             313                 James       232    False   \n",
       "1511     his             593       Rodolfo de Anda       506    False   \n",
       "1873     her             225      Abigail Wendover        76    False   \n",
       "1902     her             310  Michelle H. Jennings       167    False   \n",
       "1976     her             320            Deasismont       206    False   \n",
       "1981     her             285               Phyllis       211    False   \n",
       "\n",
       "                    B  B-offset  B-coref  \\\n",
       "478    John Wadsworth       242     True   \n",
       "535         Tal Henry       253     True   \n",
       "607    Cate Blanchett       257     True   \n",
       "633       Paul Weston       296     True   \n",
       "694        Anna Zofia       274     True   \n",
       "756           Garrett       319     True   \n",
       "778       Jane Austen       274    False   \n",
       "1212          Madonna       309     True   \n",
       "1320             Suzy       308     True   \n",
       "1468         Brokesby       300     True   \n",
       "1511  Antonio Aguilar       573     True   \n",
       "1873           Stacey       213     True   \n",
       "1902    Holly Hathorn       292     True   \n",
       "1976              Amy       312     True   \n",
       "1981             Erin       276     True   \n",
       "\n",
       "                                                    URL  A-pred  B-pred  \n",
       "478   http://en.wikipedia.org/wiki/William_Wadsworth...   False    True  \n",
       "535              http://en.wikipedia.org/wiki/Tal_Henry   False    True  \n",
       "607     http://en.wikipedia.org/wiki/Little_Fish_(film)   False    True  \n",
       "633   http://en.wikipedia.org/wiki/Jalousie_'Tango_T...   False    True  \n",
       "694   http://en.wikipedia.org/wiki/Jerzy_and_Irena_K...   False    True  \n",
       "756        http://en.wikipedia.org/wiki/Super_Bowl_XVII   False    True  \n",
       "778            http://en.wikipedia.org/wiki/Jane_Austen   False    True  \n",
       "1212  http://en.wikipedia.org/wiki/Truth_or_Dare_by_...   False    True  \n",
       "1320         http://en.wikipedia.org/wiki/Suzy_Branning   False    True  \n",
       "1468      http://en.wikipedia.org/wiki/Francis_Brokesby   False    True  \n",
       "1511  http://en.wikipedia.org/wiki/Million_Dollar_Th...   False    True  \n",
       "1873   http://en.wikipedia.org/wiki/Black_Sheep_(novel)   False    True  \n",
       "1902           http://en.wikipedia.org/wiki/Buddy_Tudor   False    True  \n",
       "1976        http://en.wikipedia.org/wiki/Amy_Deasismont   False    True  \n",
       "1981   http://en.wikipedia.org/wiki/Finale_(The_Office)   False    True  "
      ],
      "text/html": "<div>\n<style scoped>\n    .dataframe tbody tr th:only-of-type {\n        vertical-align: middle;\n    }\n\n    .dataframe tbody tr th {\n        vertical-align: top;\n    }\n\n    .dataframe thead th {\n        text-align: right;\n    }\n</style>\n<table border=\"1\" class=\"dataframe\">\n  <thead>\n    <tr style=\"text-align: right;\">\n      <th></th>\n      <th>ID</th>\n      <th>Text</th>\n      <th>Pronoun</th>\n      <th>Pronoun-offset</th>\n      <th>A</th>\n      <th>A-offset</th>\n      <th>A-coref</th>\n      <th>B</th>\n      <th>B-offset</th>\n      <th>B-coref</th>\n      <th>URL</th>\n      <th>A-pred</th>\n      <th>B-pred</th>\n    </tr>\n  </thead>\n  <tbody>\n    <tr>\n      <th>478</th>\n      <td>development-479</td>\n      <td>Sarah Wadsworth (17 Mar 1649 - ) m. Jonathan A...</td>\n      <td>his</td>\n      <td>260</td>\n      <td>William</td>\n      <td>222</td>\n      <td>False</td>\n      <td>John Wadsworth</td>\n      <td>242</td>\n      <td>True</td>\n      <td>http://en.wikipedia.org/wiki/William_Wadsworth...</td>\n      <td>False</td>\n      <td>True</td>\n    </tr>\n    <tr>\n      <th>535</th>\n      <td>development-536</td>\n      <td>The orchestra moved on to the Mound Club in St...</td>\n      <td>His</td>\n      <td>267</td>\n      <td>George Burns</td>\n      <td>237</td>\n      <td>False</td>\n      <td>Tal Henry</td>\n      <td>253</td>\n      <td>True</td>\n      <td>http://en.wikipedia.org/wiki/Tal_Henry</td>\n      <td>False</td>\n      <td>True</td>\n    </tr>\n    <tr>\n      <th>607</th>\n      <td>development-608</td>\n      <td>Little Fish is a 2005 Australian film directed...</td>\n      <td>her</td>\n      <td>276</td>\n      <td>Liz Watts</td>\n      <td>222</td>\n      <td>False</td>\n      <td>Cate Blanchett</td>\n      <td>257</td>\n      <td>True</td>\n      <td>http://en.wikipedia.org/wiki/Little_Fish_(film)</td>\n      <td>False</td>\n      <td>True</td>\n    </tr>\n    <tr>\n      <th>633</th>\n      <td>development-634</td>\n      <td>The royalties from the performances of the wor...</td>\n      <td>his</td>\n      <td>310</td>\n      <td>Frankie Laine</td>\n      <td>277</td>\n      <td>False</td>\n      <td>Paul Weston</td>\n      <td>296</td>\n      <td>True</td>\n      <td>http://en.wikipedia.org/wiki/Jalousie_'Tango_T...</td>\n      <td>False</td>\n      <td>True</td>\n    </tr>\n    <tr>\n      <th>694</th>\n      <td>development-695</td>\n      <td>They moved to Go**bki near Warsaw with their t...</td>\n      <td>her</td>\n      <td>289</td>\n      <td>Krystyna Izbicki</td>\n      <td>256</td>\n      <td>False</td>\n      <td>Anna Zofia</td>\n      <td>274</td>\n      <td>True</td>\n      <td>http://en.wikipedia.org/wiki/Jerzy_and_Irena_K...</td>\n      <td>False</td>\n      <td>True</td>\n    </tr>\n    <tr>\n      <th>756</th>\n      <td>development-757</td>\n      <td>Immediately after Blackwood's penalty, wide re...</td>\n      <td>he</td>\n      <td>332</td>\n      <td>Theismann</td>\n      <td>277</td>\n      <td>False</td>\n      <td>Garrett</td>\n      <td>319</td>\n      <td>True</td>\n      <td>http://en.wikipedia.org/wiki/Super_Bowl_XVII</td>\n      <td>False</td>\n      <td>True</td>\n    </tr>\n    <tr>\n      <th>778</th>\n      <td>development-779</td>\n      <td>Not only was it the first scholarly edition of...</td>\n      <td>Her</td>\n      <td>290</td>\n      <td>Mary Lascelles</td>\n      <td>257</td>\n      <td>True</td>\n      <td>Jane Austen</td>\n      <td>274</td>\n      <td>False</td>\n      <td>http://en.wikipedia.org/wiki/Jane_Austen</td>\n      <td>False</td>\n      <td>True</td>\n    </tr>\n    <tr>\n      <th>1212</th>\n      <td>development-1213</td>\n      <td>Truth or Dare by Madonna is a lifestyle brand ...</td>\n      <td>her</td>\n      <td>321</td>\n      <td>Material Girl</td>\n      <td>258</td>\n      <td>False</td>\n      <td>Madonna</td>\n      <td>309</td>\n      <td>True</td>\n      <td>http://en.wikipedia.org/wiki/Truth_or_Dare_by_...</td>\n      <td>False</td>\n      <td>True</td>\n    </tr>\n    <tr>\n      <th>1320</th>\n      <td>development-1321</td>\n      <td>However, Archie Mitchell uses Suzy to plant DN...</td>\n      <td>she</td>\n      <td>317</td>\n      <td>Queen Victoria</td>\n      <td>278</td>\n      <td>False</td>\n      <td>Suzy</td>\n      <td>308</td>\n      <td>True</td>\n      <td>http://en.wikipedia.org/wiki/Suzy_Branning</td>\n      <td>False</td>\n      <td>True</td>\n    </tr>\n    <tr>\n      <th>1468</th>\n      <td>development-1469</td>\n      <td>He declared that if James were dead, he would ...</td>\n      <td>his</td>\n      <td>313</td>\n      <td>James</td>\n      <td>232</td>\n      <td>False</td>\n      <td>Brokesby</td>\n      <td>300</td>\n      <td>True</td>\n      <td>http://en.wikipedia.org/wiki/Francis_Brokesby</td>\n      <td>False</td>\n      <td>True</td>\n    </tr>\n    <tr>\n      <th>1511</th>\n      <td>development-1512</td>\n      <td>He is a well known expert, consultant and auth...</td>\n      <td>his</td>\n      <td>593</td>\n      <td>Rodolfo de Anda</td>\n      <td>506</td>\n      <td>False</td>\n      <td>Antonio Aguilar</td>\n      <td>573</td>\n      <td>True</td>\n      <td>http://en.wikipedia.org/wiki/Million_Dollar_Th...</td>\n      <td>False</td>\n      <td>True</td>\n    </tr>\n    <tr>\n      <th>1873</th>\n      <td>development-1874</td>\n      <td>The novel is set in Bath, Somerset and centres...</td>\n      <td>her</td>\n      <td>225</td>\n      <td>Abigail Wendover</td>\n      <td>76</td>\n      <td>False</td>\n      <td>Stacey</td>\n      <td>213</td>\n      <td>True</td>\n      <td>http://en.wikipedia.org/wiki/Black_Sheep_(novel)</td>\n      <td>False</td>\n      <td>True</td>\n    </tr>\n    <tr>\n      <th>1902</th>\n      <td>development-1903</td>\n      <td>William A. Tudor (born 1964) and ex- wife Moni...</td>\n      <td>her</td>\n      <td>310</td>\n      <td>Michelle H. Jennings</td>\n      <td>167</td>\n      <td>False</td>\n      <td>Holly Hathorn</td>\n      <td>292</td>\n      <td>True</td>\n      <td>http://en.wikipedia.org/wiki/Buddy_Tudor</td>\n      <td>False</td>\n      <td>True</td>\n    </tr>\n    <tr>\n      <th>1976</th>\n      <td>development-1977</td>\n      <td>``Don't Cry Your Heart Out'' was radio-friendl...</td>\n      <td>her</td>\n      <td>320</td>\n      <td>Deasismont</td>\n      <td>206</td>\n      <td>False</td>\n      <td>Amy</td>\n      <td>312</td>\n      <td>True</td>\n      <td>http://en.wikipedia.org/wiki/Amy_Deasismont</td>\n      <td>False</td>\n      <td>True</td>\n    </tr>\n    <tr>\n      <th>1981</th>\n      <td>development-1982</td>\n      <td>The Season Nine DVD contains a number of delet...</td>\n      <td>her</td>\n      <td>285</td>\n      <td>Phyllis</td>\n      <td>211</td>\n      <td>False</td>\n      <td>Erin</td>\n      <td>276</td>\n      <td>True</td>\n      <td>http://en.wikipedia.org/wiki/Finale_(The_Office)</td>\n      <td>False</td>\n      <td>True</td>\n    </tr>\n  </tbody>\n</table>\n</div>"
     },
     "metadata": {},
     "execution_count": 44
    }
   ],
   "source": [
    "apply_model(train_data, [none_subject, exist_CC_pronoun], CC_pronoun)"
   ]
  },
  {
   "source": [
    "2. Located in the beggining of a sentence."
   ],
   "cell_type": "markdown",
   "metadata": {}
  },
  {
   "cell_type": "code",
   "execution_count": 45,
   "metadata": {},
   "outputs": [],
   "source": [
    "def begin_sentence(row):\n",
    "\n",
    "    token_dict = tokenized_index(row)\n",
    "    tagged_sents = token_dict['tagged_sents']\n",
    "\n",
    "    Subjects = []\n",
    "\n",
    "    def first_NP(sent):\n",
    "\n",
    "        first_np = \"\"\n",
    "        index=0\n",
    "        while sent[index][1].startswith('NN') or sent[index][1].startswith('W') or sent[index][1] in [\"'s\", 'DT', 'IN', 'CD']:\n",
    "            while sent[index][1].startswith('NNP'):\n",
    "                first_np += sent[index][0] + \" \"\n",
    "                if index < len(sent) - 1:\n",
    "                    index += 1\n",
    "                else:\n",
    "                    break\n",
    "\n",
    "            if len(first_np) > 0:\n",
    "                Subjects.append(first_np)\n",
    "\n",
    "            if index < len(sent) - 1:\n",
    "                index += 1\n",
    "            else:\n",
    "                break\n",
    "\n",
    "    def tagged_split(tagged_sent):\n",
    "        splitted = []\n",
    "        index = 0\n",
    "        \n",
    "        while(index < len(tagged_sent)):\n",
    "            try:\n",
    "                new_index = tagged_sent[index:].index((',',','))\n",
    "                splitted.append(tagged_sent[index:index+new_index])\n",
    "                index += new_index+1\n",
    "            except:\n",
    "                splitted.append(tagged_sent[index:])\n",
    "                return splitted\n",
    "\n",
    "    for sent in tagged_sents:\n",
    "        for sub_sent in tagged_split(sent):\n",
    "        \n",
    "            first_np = first_NP(sub_sent)\n",
    "\n",
    "    def exist(word):\n",
    "        for first_word in Subjects:\n",
    "            if word in first_word:\n",
    "                return True\n",
    "            elif first_word in word:\n",
    "                return True\n",
    "        return False\n",
    "\n",
    "    return (exist(row['A']), exist(row['B']))\n",
    "\n",
    "def begin_sentence_word(row):\n",
    "    return sum(begin_sentence(row)) == 1"
   ]
  },
  {
   "cell_type": "code",
   "execution_count": 64,
   "metadata": {},
   "outputs": [],
   "source": [
    "def most_occurance(row):\n",
    "\n",
    "    token_dict = tokenized_index(row)\n",
    "    tagged_words = token_dict['tagged_words']\n",
    "\n",
    "    index=0\n",
    "    NPs = []\n",
    "    NP_dict = {}\n",
    "\n",
    "    while index < len(tagged_words):\n",
    "        np = \"\"\n",
    "        while index < len(tagged_words) and tagged_words[index][1].startswith('NNP'):\n",
    "            np += tagged_words[index][0] + \" \"\n",
    "            index += 1\n",
    "        \n",
    "        if len(np) > 0:\n",
    "            NPs.append(np[:-1])\n",
    "\n",
    "        index += 1\n",
    "\n",
    "    def occurance(word):\n",
    "        occ = 0\n",
    "        for w in NPs:\n",
    "            if w in word:\n",
    "                occ += 1\n",
    "\n",
    "        return occ\n",
    "\n",
    "    for word in set(NPs):\n",
    "        NP_dict[word] = occurance(word)\n",
    "\n",
    "    max_occ = sorted(NP_dict.items(), key = (lambda x: x[1]), reverse=True)[0]\n",
    "\n",
    "    if max_occ[1] > 1:\n",
    "        return [NP for NP in NP_dict if NP_dict[NP] == max_occ[1]]\n",
    "    else:\n",
    "        return None\n",
    "\n",
    "def more_occurance(row):\n",
    "\n",
    "    most_occs = most_occurance(row)\n",
    "\n",
    "    if most_occs == None:\n",
    "        return (True, True)\n",
    "\n",
    "    def exist(word, words):\n",
    "        for w in words:\n",
    "            if word in w or w in word:\n",
    "                return True\n",
    "        return False\n",
    "\n",
    "    return (exist(row['A'], most_occs), exist(row['B'], most_occs))\n",
    "\n",
    "def only_most_occurance(row):\n",
    "    return sum(more_occurance(row)) == 1\n",
    "\n",
    "def none_most_occurance(row):\n",
    "    return sum(more_occurance(row)) == 0\n",
    "\n",
    "def both_most_occurance(row):\n",
    "    return more_occurance(row) == (True, True)"
   ]
  },
  {
   "cell_type": "code",
   "execution_count": 46,
   "metadata": {},
   "outputs": [
    {
     "output_type": "stream",
     "name": "stderr",
     "text": [
      "100%|██████████| 9/9 [00:22<00:00,  2.51s/it]\n"
     ]
    },
    {
     "output_type": "execute_result",
     "data": {
      "text/plain": [
       "  Pronoun  Length  Accuracy0\n",
       "0      He      20   0.700000\n",
       "1     She      16   0.562500\n",
       "2     His       4   0.750000\n",
       "3     Her       9   0.555556\n",
       "4      he      26   0.653846\n",
       "5     she      34   0.441176\n",
       "6     his      59   0.576271\n",
       "7     him       9   0.555556\n",
       "8     her      92   0.597826\n",
       "9   total     269   0.583643"
      ],
      "text/html": "<div>\n<style scoped>\n    .dataframe tbody tr th:only-of-type {\n        vertical-align: middle;\n    }\n\n    .dataframe tbody tr th {\n        vertical-align: top;\n    }\n\n    .dataframe thead th {\n        text-align: right;\n    }\n</style>\n<table border=\"1\" class=\"dataframe\">\n  <thead>\n    <tr style=\"text-align: right;\">\n      <th></th>\n      <th>Pronoun</th>\n      <th>Length</th>\n      <th>Accuracy0</th>\n    </tr>\n  </thead>\n  <tbody>\n    <tr>\n      <th>0</th>\n      <td>He</td>\n      <td>20</td>\n      <td>0.700000</td>\n    </tr>\n    <tr>\n      <th>1</th>\n      <td>She</td>\n      <td>16</td>\n      <td>0.562500</td>\n    </tr>\n    <tr>\n      <th>2</th>\n      <td>His</td>\n      <td>4</td>\n      <td>0.750000</td>\n    </tr>\n    <tr>\n      <th>3</th>\n      <td>Her</td>\n      <td>9</td>\n      <td>0.555556</td>\n    </tr>\n    <tr>\n      <th>4</th>\n      <td>he</td>\n      <td>26</td>\n      <td>0.653846</td>\n    </tr>\n    <tr>\n      <th>5</th>\n      <td>she</td>\n      <td>34</td>\n      <td>0.441176</td>\n    </tr>\n    <tr>\n      <th>6</th>\n      <td>his</td>\n      <td>59</td>\n      <td>0.576271</td>\n    </tr>\n    <tr>\n      <th>7</th>\n      <td>him</td>\n      <td>9</td>\n      <td>0.555556</td>\n    </tr>\n    <tr>\n      <th>8</th>\n      <td>her</td>\n      <td>92</td>\n      <td>0.597826</td>\n    </tr>\n    <tr>\n      <th>9</th>\n      <td>total</td>\n      <td>269</td>\n      <td>0.583643</td>\n    </tr>\n  </tbody>\n</table>\n</div>"
     },
     "metadata": {},
     "execution_count": 46
    }
   ],
   "source": [
    "overall_analysis(train_data, [none_subject, only_most_occurance], [more_occurance])"
   ]
  },
  {
   "cell_type": "code",
   "execution_count": 47,
   "metadata": {},
   "outputs": [],
   "source": [
    "none_occurance_data = none_subject_data[none_subject_data.apply(none_most_occurance, axis=1)]"
   ]
  },
  {
   "cell_type": "code",
   "execution_count": 48,
   "metadata": {},
   "outputs": [],
   "source": [
    "both_occurance_data = none_subject_data[none_subject_data.apply(both_most_occurance, axis=1)]"
   ]
  },
  {
   "cell_type": "code",
   "execution_count": 49,
   "metadata": {},
   "outputs": [
    {
     "output_type": "stream",
     "name": "stdout",
     "text": [
      "200\n170\n"
     ]
    }
   ],
   "source": [
    "print(len(none_occurance_data))\n",
    "print(len(both_occurance_data))"
   ]
  },
  {
   "cell_type": "code",
   "execution_count": 103,
   "metadata": {},
   "outputs": [
    {
     "output_type": "stream",
     "name": "stdout",
     "text": [
      "development-1487 New York Times. May 7, 1947. Retrieved 2014-12-02. Mme. \u001b[92mLouise Homer\u001b[0m, noted contralto, who thrilled Metropolitan Opera audiences as Amneris in '\u001b[91mAida\u001b[0m' and in other famous roles, died here this afternoon of a heart ailment at the age of 76. \u001b[94mShe\u001b[0m had been in ill health since the death of her youngest daughter, Joy, on Oct.\n\ndevelopment-962 After Dark Shadows ended in 1971, she had a brief stint as reporter Marge Grey on All My Children (1973). She continued acting on stage as \u001b[92mWarda\u001b[0m in Jean Genet's The Screens (1971--72) and The Lady in Gray/The Fly in Happy End (1977) which co-starred \u001b[91mMeryl Streep\u001b[0m and Christopher Lloyd. \u001b[94mShe\u001b[0m appeared in the Broadway premiere of The Suicide (1980) with Derek Jacobi, and appeared opposite Geraldine Page, Carrie Nye and Madeline Sherwood in an off-Broadway revival of The Madwoman of Chaillot.\n\ndevelopment-1230 Ang Lalaking Nagmahal Sa Akin by \u001b[91mVanessa\u001b[0m, a romance writer from PHR, is the story of \u001b[92mFlor\u001b[0m who moves from the province to the city to in a hotel. \u001b[94mShe\u001b[0m falls in love with the owner of the hotel, Zephy.\n\ndevelopment-35 Kevin John Coyne of Country Universe gave the song a B rating, saying that ``does breakup about as good as anybody'' and that he doesn't believe Keith is ``capable of turning in a weak vocal performance.'' \u001b[92mBobby Peacock\u001b[0m of Roughstock gave the song a 3.5/5 rating, saying that the production is ``looser and funkier'' than on \u001b[91mKeith\u001b[0m's other songs. \u001b[94mHe\u001b[0m goes on to say that it ``contrasts with the more downbeat lyrics of a fairly standard broken-heart song.''\n\ndevelopment-160 He was promoted to major on 14 August 1790, and to lieutenant-colonel on 9 December 1793. On 4 July 1785 at Barnes in Surrey, he married \u001b[92mHenrietta Anne Hoare\u001b[0m, a daughter of Sir Richard Hoare, 1st Baronet of Barn Elms, a partner in the City of London banking firm C. Hoare & Co, and \u001b[91mFrances Anne Acland\u001b[0m. \u001b[94mShe\u001b[0m survived him and in 1795 remarried to Captain the Hon. Matthew Fortescue (1754--1842), Royal Navy, younger brother of Hugh Fortescue, 1st Earl Fortescue of Castle Hill, Filleigh, Devon.\n\ndevelopment-1259 Close starred in Things You Can Tell Just by Looking at Her in the same year, this would be one of many future collaborations with director Rodrigo Garcia. In 2004, she played \u001b[92mClaire Wellington\u001b[0m, an uptight socialite in the comedy The Stepford Wives opposite \u001b[91mNicole Kidman\u001b[0m and Christopher Walken. \u001b[94mShe\u001b[0m provided the voice of the Blue Fairy in the English version of Pinocchio (2002) and Granny in the animated film Hoodwinked (2005).\n\ndevelopment-837 Lawrence asks Nefarious for his employ again and the two take the ship, flying off into space. A clear parody of \u001b[91mBritney Spears\u001b[0m, Courtney Gears (voiced by \u001b[92mMelissa Disney\u001b[0m in Up Your Arsenal, Nika Futterman in Ratchet: Deadlocked) is a female pop star robot who occasionally gives out prizes on the show, Annihilation Nation. \u001b[94mHer\u001b[0m music and videos are popular in the Solana Galaxy.\n\ndevelopment-529 In 1927, she won a cash prize for her designs, from the Rondith Corporation. Muir focused on designing modern private homes, especially for clients in Malibu, Pacific Palisades, and other affluent Southern California communities. Among her celebrity clients were \u001b[91mShirley Temple\u001b[0m, Robert Taylor and \u001b[91mBarbara Stanwyck\u001b[0m. \u001b[94mShe\u001b[0m earned her architecture license in 1934, and continued at the Byers office until 1942.\n\ndevelopment-1066 Alessandro Turchi worked briefly under him. As the most talented member of his father's workshop, he undoubtedly executed many works that are attributed to his father. Works that have been clearly isolated as \u001b[92mCarlo\u001b[0m's own are more precise and delicate, both technically and in the physical types; they lack \u001b[91mVeronese\u001b[0m's bravura, whether in the line and wash of a chiaroscuro drawing or in the richly layered pigments that make an embroidered drape. \u001b[94mHis\u001b[0m early signed works show the influence of both his father and the Bassano family by whom he was trained.\n\ndevelopment-1986 Her personal best for long jump is 6.55 m set in Bangalore on 5 June 2010 during the second Indian Grand Prix. She became only the fourth Indian woman to cross 6.50 m, joining \u001b[91mAnju Bobby George\u001b[0m (6.83 m), J.J. Shobha (6.66 m), and \u001b[91mPramila Aiyappa\u001b[0m. \u001b[94mShe\u001b[0m won the gold medal for her effort.\n\n"
     ]
    }
   ],
   "source": [
    "print_sents(datas={'manual':True, 'data':both_occurance_data[both_occurance_data.apply(lambda row: row['Pronoun'] in ['He','She','His','Her'], axis=1)]}, num_lines = 10)"
   ]
  },
  {
   "cell_type": "code",
   "execution_count": 106,
   "metadata": {},
   "outputs": [
    {
     "output_type": "stream",
     "name": "stderr",
     "text": [
      "100%|██████████| 9/9 [00:18<00:00,  2.10s/it]\n"
     ]
    },
    {
     "output_type": "execute_result",
     "data": {
      "text/plain": [
       "  Pronoun  Length  Accuracy0  Accuracy1  Accuracy2  Accuracy3  Accuracy4\n",
       "0      He       9   0.555556   0.444444   0.444444   0.555556   0.000000\n",
       "1     She      21   0.428571   0.142857   0.142857   0.428571   0.428571\n",
       "2     His       2   0.500000   0.000000   0.000000   0.500000   0.500000\n",
       "3     Her       3   0.000000   1.000000   1.000000   0.000000   0.000000\n",
       "4      he      23   0.478261   0.217391   0.260870   0.434783   0.304348\n",
       "5     she      20   0.400000   0.400000   0.350000   0.450000   0.200000\n",
       "6     his      39   0.128205   0.615385   0.564103   0.179487   0.256410\n",
       "7     him       3   0.000000   0.666667   0.666667   0.000000   0.333333\n",
       "8     her      50   0.280000   0.560000   0.560000   0.280000   0.160000\n",
       "9   total     170   0.311765   0.452941   0.441176   0.323529   0.235294"
      ],
      "text/html": "<div>\n<style scoped>\n    .dataframe tbody tr th:only-of-type {\n        vertical-align: middle;\n    }\n\n    .dataframe tbody tr th {\n        vertical-align: top;\n    }\n\n    .dataframe thead th {\n        text-align: right;\n    }\n</style>\n<table border=\"1\" class=\"dataframe\">\n  <thead>\n    <tr style=\"text-align: right;\">\n      <th></th>\n      <th>Pronoun</th>\n      <th>Length</th>\n      <th>Accuracy0</th>\n      <th>Accuracy1</th>\n      <th>Accuracy2</th>\n      <th>Accuracy3</th>\n      <th>Accuracy4</th>\n    </tr>\n  </thead>\n  <tbody>\n    <tr>\n      <th>0</th>\n      <td>He</td>\n      <td>9</td>\n      <td>0.555556</td>\n      <td>0.444444</td>\n      <td>0.444444</td>\n      <td>0.555556</td>\n      <td>0.000000</td>\n    </tr>\n    <tr>\n      <th>1</th>\n      <td>She</td>\n      <td>21</td>\n      <td>0.428571</td>\n      <td>0.142857</td>\n      <td>0.142857</td>\n      <td>0.428571</td>\n      <td>0.428571</td>\n    </tr>\n    <tr>\n      <th>2</th>\n      <td>His</td>\n      <td>2</td>\n      <td>0.500000</td>\n      <td>0.000000</td>\n      <td>0.000000</td>\n      <td>0.500000</td>\n      <td>0.500000</td>\n    </tr>\n    <tr>\n      <th>3</th>\n      <td>Her</td>\n      <td>3</td>\n      <td>0.000000</td>\n      <td>1.000000</td>\n      <td>1.000000</td>\n      <td>0.000000</td>\n      <td>0.000000</td>\n    </tr>\n    <tr>\n      <th>4</th>\n      <td>he</td>\n      <td>23</td>\n      <td>0.478261</td>\n      <td>0.217391</td>\n      <td>0.260870</td>\n      <td>0.434783</td>\n      <td>0.304348</td>\n    </tr>\n    <tr>\n      <th>5</th>\n      <td>she</td>\n      <td>20</td>\n      <td>0.400000</td>\n      <td>0.400000</td>\n      <td>0.350000</td>\n      <td>0.450000</td>\n      <td>0.200000</td>\n    </tr>\n    <tr>\n      <th>6</th>\n      <td>his</td>\n      <td>39</td>\n      <td>0.128205</td>\n      <td>0.615385</td>\n      <td>0.564103</td>\n      <td>0.179487</td>\n      <td>0.256410</td>\n    </tr>\n    <tr>\n      <th>7</th>\n      <td>him</td>\n      <td>3</td>\n      <td>0.000000</td>\n      <td>0.666667</td>\n      <td>0.666667</td>\n      <td>0.000000</td>\n      <td>0.333333</td>\n    </tr>\n    <tr>\n      <th>8</th>\n      <td>her</td>\n      <td>50</td>\n      <td>0.280000</td>\n      <td>0.560000</td>\n      <td>0.560000</td>\n      <td>0.280000</td>\n      <td>0.160000</td>\n    </tr>\n    <tr>\n      <th>9</th>\n      <td>total</td>\n      <td>170</td>\n      <td>0.311765</td>\n      <td>0.452941</td>\n      <td>0.441176</td>\n      <td>0.323529</td>\n      <td>0.235294</td>\n    </tr>\n  </tbody>\n</table>\n</div>"
     },
     "metadata": {},
     "execution_count": 106
    }
   ],
   "source": [
    "overall_analysis(train_data, [none_subject, both_most_occurance], [former_word, latter_word, closer_word, farther_word, lambda row: (False, False)])"
   ]
  },
  {
   "cell_type": "code",
   "execution_count": 56,
   "metadata": {},
   "outputs": [
    {
     "output_type": "stream",
     "name": "stdout",
     "text": [
      "95 0.6\n"
     ]
    },
    {
     "output_type": "execute_result",
     "data": {
      "text/plain": [
       "                    ID                                               Text  \\\n",
       "3        development-4  The current members of Crime have also perform...   \n",
       "6        development-7  Reb Chaim Yaakov's wife is the sister of Rabbi...   \n",
       "10      development-11  William Shatner portraying writer Mark Twain; ...   \n",
       "13      development-14  ARTA driver Vitantonio Liuzzi will be replaced...   \n",
       "25      development-26  They were broadly positive, though they stoppe...   \n",
       "...                ...                                                ...   \n",
       "1923  development-1924  The concept of WAS is an adult parallel to the...   \n",
       "1935  development-1936  He also wrote and produced several songs for i...   \n",
       "1976  development-1977  ``Don't Cry Your Heart Out'' was radio-friendl...   \n",
       "1988  development-1989  Burnett Stone (Peter Fonda) is Lily's grandfat...   \n",
       "1996  development-1997  The plot of the film focuses on the life of a ...   \n",
       "\n",
       "     Pronoun  Pronoun-offset                   A  A-offset  A-coref  \\\n",
       "3        his             321                Hell       174    False   \n",
       "6        his             273           Reb Asher       152    False   \n",
       "10       his             300    Peter Mansbridge       168    False   \n",
       "13       his             340     Kazuki Nakajima       275     True   \n",
       "25       his             299  Michael Billington        92    False   \n",
       "...      ...             ...                 ...       ...      ...   \n",
       "1923     her             267        Dorothy Gael       169     True   \n",
       "1935     her             266             Estelle       162    False   \n",
       "1976     her             320          Deasismont       206    False   \n",
       "1988     her              81                Lily        31     True   \n",
       "1996     her             246           Doris Chu       111    False   \n",
       "\n",
       "                    B  B-offset  B-coref  \\\n",
       "3     Henry Rosenthal       336     True   \n",
       "6         Akiva Eiger       253    False   \n",
       "10        David Onley       212     True   \n",
       "13      Oliver Jarvis       297    False   \n",
       "25             Martin       266     True   \n",
       "...               ...       ...      ...   \n",
       "1923       Aunt Emily       234    False   \n",
       "1935    Nelly Furtado       190     True   \n",
       "1976              Amy       312     True   \n",
       "1988             Lady        54    False   \n",
       "1996              Mei       215     True   \n",
       "\n",
       "                                                    URL  A-pred  B-pred  \n",
       "3             http://en.wikipedia.org/wiki/Crime_(band)   False    True  \n",
       "6             http://en.wikipedia.org/wiki/Asher_Arieli   False    True  \n",
       "10       http://en.wikipedia.org/wiki/Murdoch_Mysteries   False    True  \n",
       "13    http://en.wikipedia.org/wiki/2015_Super_GT_Series   False    True  \n",
       "25           http://en.wikipedia.org/wiki/Life_and_Beth   False    True  \n",
       "...                                                 ...     ...     ...  \n",
       "1923           http://en.wikipedia.org/wiki/Was_(novel)   False    True  \n",
       "1935             http://en.wikipedia.org/wiki/Di_Genius   False    True  \n",
       "1976        http://en.wikipedia.org/wiki/Amy_Deasismont   False    True  \n",
       "1988  http://en.wikipedia.org/wiki/Thomas_the_Tank_E...   False    True  \n",
       "1996              http://en.wikipedia.org/wiki/Two_Lies   False    True  \n",
       "\n",
       "[95 rows x 13 columns]"
      ],
      "text/html": "<div>\n<style scoped>\n    .dataframe tbody tr th:only-of-type {\n        vertical-align: middle;\n    }\n\n    .dataframe tbody tr th {\n        vertical-align: top;\n    }\n\n    .dataframe thead th {\n        text-align: right;\n    }\n</style>\n<table border=\"1\" class=\"dataframe\">\n  <thead>\n    <tr style=\"text-align: right;\">\n      <th></th>\n      <th>ID</th>\n      <th>Text</th>\n      <th>Pronoun</th>\n      <th>Pronoun-offset</th>\n      <th>A</th>\n      <th>A-offset</th>\n      <th>A-coref</th>\n      <th>B</th>\n      <th>B-offset</th>\n      <th>B-coref</th>\n      <th>URL</th>\n      <th>A-pred</th>\n      <th>B-pred</th>\n    </tr>\n  </thead>\n  <tbody>\n    <tr>\n      <th>3</th>\n      <td>development-4</td>\n      <td>The current members of Crime have also perform...</td>\n      <td>his</td>\n      <td>321</td>\n      <td>Hell</td>\n      <td>174</td>\n      <td>False</td>\n      <td>Henry Rosenthal</td>\n      <td>336</td>\n      <td>True</td>\n      <td>http://en.wikipedia.org/wiki/Crime_(band)</td>\n      <td>False</td>\n      <td>True</td>\n    </tr>\n    <tr>\n      <th>6</th>\n      <td>development-7</td>\n      <td>Reb Chaim Yaakov's wife is the sister of Rabbi...</td>\n      <td>his</td>\n      <td>273</td>\n      <td>Reb Asher</td>\n      <td>152</td>\n      <td>False</td>\n      <td>Akiva Eiger</td>\n      <td>253</td>\n      <td>False</td>\n      <td>http://en.wikipedia.org/wiki/Asher_Arieli</td>\n      <td>False</td>\n      <td>True</td>\n    </tr>\n    <tr>\n      <th>10</th>\n      <td>development-11</td>\n      <td>William Shatner portraying writer Mark Twain; ...</td>\n      <td>his</td>\n      <td>300</td>\n      <td>Peter Mansbridge</td>\n      <td>168</td>\n      <td>False</td>\n      <td>David Onley</td>\n      <td>212</td>\n      <td>True</td>\n      <td>http://en.wikipedia.org/wiki/Murdoch_Mysteries</td>\n      <td>False</td>\n      <td>True</td>\n    </tr>\n    <tr>\n      <th>13</th>\n      <td>development-14</td>\n      <td>ARTA driver Vitantonio Liuzzi will be replaced...</td>\n      <td>his</td>\n      <td>340</td>\n      <td>Kazuki Nakajima</td>\n      <td>275</td>\n      <td>True</td>\n      <td>Oliver Jarvis</td>\n      <td>297</td>\n      <td>False</td>\n      <td>http://en.wikipedia.org/wiki/2015_Super_GT_Series</td>\n      <td>False</td>\n      <td>True</td>\n    </tr>\n    <tr>\n      <th>25</th>\n      <td>development-26</td>\n      <td>They were broadly positive, though they stoppe...</td>\n      <td>his</td>\n      <td>299</td>\n      <td>Michael Billington</td>\n      <td>92</td>\n      <td>False</td>\n      <td>Martin</td>\n      <td>266</td>\n      <td>True</td>\n      <td>http://en.wikipedia.org/wiki/Life_and_Beth</td>\n      <td>False</td>\n      <td>True</td>\n    </tr>\n    <tr>\n      <th>...</th>\n      <td>...</td>\n      <td>...</td>\n      <td>...</td>\n      <td>...</td>\n      <td>...</td>\n      <td>...</td>\n      <td>...</td>\n      <td>...</td>\n      <td>...</td>\n      <td>...</td>\n      <td>...</td>\n      <td>...</td>\n      <td>...</td>\n    </tr>\n    <tr>\n      <th>1923</th>\n      <td>development-1924</td>\n      <td>The concept of WAS is an adult parallel to the...</td>\n      <td>her</td>\n      <td>267</td>\n      <td>Dorothy Gael</td>\n      <td>169</td>\n      <td>True</td>\n      <td>Aunt Emily</td>\n      <td>234</td>\n      <td>False</td>\n      <td>http://en.wikipedia.org/wiki/Was_(novel)</td>\n      <td>False</td>\n      <td>True</td>\n    </tr>\n    <tr>\n      <th>1935</th>\n      <td>development-1936</td>\n      <td>He also wrote and produced several songs for i...</td>\n      <td>her</td>\n      <td>266</td>\n      <td>Estelle</td>\n      <td>162</td>\n      <td>False</td>\n      <td>Nelly Furtado</td>\n      <td>190</td>\n      <td>True</td>\n      <td>http://en.wikipedia.org/wiki/Di_Genius</td>\n      <td>False</td>\n      <td>True</td>\n    </tr>\n    <tr>\n      <th>1976</th>\n      <td>development-1977</td>\n      <td>``Don't Cry Your Heart Out'' was radio-friendl...</td>\n      <td>her</td>\n      <td>320</td>\n      <td>Deasismont</td>\n      <td>206</td>\n      <td>False</td>\n      <td>Amy</td>\n      <td>312</td>\n      <td>True</td>\n      <td>http://en.wikipedia.org/wiki/Amy_Deasismont</td>\n      <td>False</td>\n      <td>True</td>\n    </tr>\n    <tr>\n      <th>1988</th>\n      <td>development-1989</td>\n      <td>Burnett Stone (Peter Fonda) is Lily's grandfat...</td>\n      <td>her</td>\n      <td>81</td>\n      <td>Lily</td>\n      <td>31</td>\n      <td>True</td>\n      <td>Lady</td>\n      <td>54</td>\n      <td>False</td>\n      <td>http://en.wikipedia.org/wiki/Thomas_the_Tank_E...</td>\n      <td>False</td>\n      <td>True</td>\n    </tr>\n    <tr>\n      <th>1996</th>\n      <td>development-1997</td>\n      <td>The plot of the film focuses on the life of a ...</td>\n      <td>her</td>\n      <td>246</td>\n      <td>Doris Chu</td>\n      <td>111</td>\n      <td>False</td>\n      <td>Mei</td>\n      <td>215</td>\n      <td>True</td>\n      <td>http://en.wikipedia.org/wiki/Two_Lies</td>\n      <td>False</td>\n      <td>True</td>\n    </tr>\n  </tbody>\n</table>\n<p>95 rows × 13 columns</p>\n</div>"
     },
     "metadata": {},
     "execution_count": 56
    }
   ],
   "source": [
    "apply_model(train_data, [none_subject, both_most_occurance, lambda row: row['Pronoun'] in ['Her','his','him','her']], latter_word)"
   ]
  },
  {
   "cell_type": "code",
   "execution_count": 113,
   "metadata": {},
   "outputs": [
    {
     "output_type": "stream",
     "name": "stdout",
     "text": [
      "development-1474 Later Glenn helps Michonne cut off Tyreese's arm when he is bitten and tries to haul him to safety, briefly being delayed by a truck opening and letting out numerous walker bodies with no arms and legs with ``w''s cut into their foreheads, but Tyreese dies from blood loss and Glenn stands over his service. In the episode ``Them,'' Glenn tries to comfort a grieving \u001b[92mMaggie\u001b[0m, still distraught over \u001b[91mBeth\u001b[0m's death, after \u001b[94mshe\u001b[0m begins to doubt if she wants to live anymore.\n\ndevelopment-1299 In 1920, Jakac returned to Novo Mesto and became the bearer of The Spring of Novo Mesto, an avant-garde movement in literature and fine arts, which included also the poets Miran Jarc and \u001b[91mAnton Podbev*ek\u001b[0m, the painter \u001b[91mIvan *argo\u001b[0m and the composer Marij Kogoj. In 1924, \u001b[94mhe\u001b[0m settled in Ljubljana.\n\ndevelopment-1619 St John's Church has special association with the activity of individuals within the South Sea Islander community and Anglican Church whose activities have been significant within the history of the region and state of Queensland, including Bishop George Halford, consecrated as Anglican Bishop of Rockhampton in 1909, who was greatly respected for \u001b[94mhis\u001b[0m long and active support of the South Sea Islander community; and \u001b[91mFrank Solomon\u001b[0m, the South Sea Islander community's \u001b[91mVicar\u001b[0m's representative on the first St John's Mission Church Committee, who dedicated his life to this church.\n\ndevelopment-1858 One More Drifter in the Snow is the sixth album and first Christmas album by Aimee Mann, released by SuperEgo Records in the United States on October 31, 2006 (see 2006 in music). It was produced by Paul Bryan and comprises covers of ``standard great Christmas classics'' and two original compositions: ``Christmastime'', written by \u001b[92mMann\u001b[0m's husband Michael Penn, and ``Calling on \u001b[91mMary\u001b[0m''. Grant-Lee Phillips sings with \u001b[94mher\u001b[0m on the track ``You're a Mean One, Mr. Grinch''.\n\ndevelopment-1507 Frederick Magnus (13 January 1672 -- 24 February 1672) Frederica Augusta (21 June 1673 -- 24 July 1674) Christina Sophia (17 December 1674 -- 22 January 1676) Klaudia Magdalene Elisabeth (15 November 1675 -- 18 April 1676) Catherine (10 October 1677 -- 11 August 1746), in 1701 she married Count Johann Friedrich von Leiningen-Hartenburg Charles III William, Margrave of Baden-Durlach (17 January 1679 -- 12 May 1738), he married Magdalena Wilhelmine of W*rttemberg Johanna Elisabeth (3 October 1680 -- 2 July 1757), in 1697 she married Eberhard Louis, Duke of W*rttemberg Albertine Frederica (3 July 1682 -- 22 December 1755), in 1704 \u001b[94mshe\u001b[0m married Christian August of Holstein-Gottorp, Prince of Eutin Christopher (9 October 1684 -- 2 May 1723), he married \u001b[91mMarie Christine Felizitas\u001b[0m zu Leiningen-Dagsburg-Falkenburg-Heidesheim Charlotte Sophia (1 March 1686 -- 5 October 1689) \u001b[91mMarie Anna\u001b[0m (9 July 1688 -- 8 March 1689)\n\ndevelopment-1766 In the fifth season, following a five-year time jump, Karl reveals that Marissa has left him and their son, Evan (Sawyer Church), because of the stresses of motherhood. \u001b[92mBree Hodge\u001b[0m (Marcia Cross), \u001b[91mSusan\u001b[0m's friend and neighbor, hires Karl as \u001b[94mher\u001b[0m divorce lawyer.\n\ndevelopment-1870 As well he reported that she ``admitted to Bersih receiving some money from two US organisations -- the National Democratic Institute (NDI) and Open Society Institute (OSI) -- for other projects, which she stressed were unrelated to the July 9 march.'' It is believed that former US ambassador to Malaysia had lobbied strongly the Neo Cons including Al Gore, Paul Wolfowitz and Madeline Albright to award Sreenevasan the 'Woman of Courage' award from \u001b[91mHillary Clinton\u001b[0m and First Lady \u001b[91mMichelle Obama\u001b[0m. \u001b[94mShe\u001b[0m is a member of the Malaysian Intellectual Property Association, the International Association for the Protection of Intellectual Property (AIPPI), as well as the Asian Patent Attorneys Association (APPA).\n\ndevelopment-1923 Cops arrested Gore and rescued Martin, who was found in the attic naked, handcuffed, and with electrical cords tied around her legs. On December 7, 1983, Gore led police to the remains of three of his six murder victims. These victims were \u001b[91mBarbara Ann Byer\u001b[0m, \u001b[92mHsiang Huang Ling\u001b[0m and \u001b[94mher\u001b[0m daughter, Ying Hua Ling.\n\ndevelopment-1640 On 9 April, Kralji* performed during the Eurovision in Concert event which was held at the Melkweg venue in Amsterdam, Netherlands and hosted by Cornald Maas and Hera Bj*rk. On 17 April, \u001b[92mKralji*\u001b[0m performed during the London Eurovision Party, which was held at the Caf* de Paris venue in London, United Kingdom and hosted by \u001b[91mNicki French\u001b[0m and Paddy O'Connell. In addition to \u001b[94mher\u001b[0m international appearances, Nina Kralji* performed ``Lighthouse'' as a musical guest during the 2016 Miss Universe Croatia pageant in Zagreb on 15 April and she also performed the song as a guest during the HRT 1 programme The Voice --\n\ndevelopment-2000 Watkins was a close friend of Hess' first wife, Katherine Hawley. She was one of the first to send sympathy when Hawley was thrown from a horse and killed. Watkins and Hess had a son, Adam Hess, who was an attorney and secretary for the Aetna until his death in 1969; he left three daughters, \u001b[91mElizabeth\u001b[0m, Faye, and Emily, the only grandchildren of \u001b[92mWatkins\u001b[0m. Watkins obtained \u001b[94mher\u001b[0m release from Fox prior to her marriage.\n\n"
     ]
    }
   ],
   "source": [
    "print_sents(datas={'manual':True, 'data':none_occurance_data}, num_lines = 10)"
   ]
  },
  {
   "cell_type": "code",
   "execution_count": 105,
   "metadata": {},
   "outputs": [
    {
     "output_type": "stream",
     "name": "stderr",
     "text": [
      "100%|██████████| 9/9 [00:19<00:00,  2.12s/it]\n"
     ]
    },
    {
     "output_type": "execute_result",
     "data": {
      "text/plain": [
       "  Pronoun  Length  Accuracy0  Accuracy1  Accuracy2  Accuracy3  Accuracy4\n",
       "0      He      12   0.333333   0.250000   0.250000   0.333333   0.416667\n",
       "1     She      13   0.461538   0.230769   0.153846   0.538462   0.307692\n",
       "2     His       5   0.600000   0.000000   0.000000   0.600000   0.400000\n",
       "3     Her       7   0.285714   0.142857   0.142857   0.285714   0.571429\n",
       "4      he      29   0.379310   0.379310   0.379310   0.379310   0.241379\n",
       "5     she      23   0.391304   0.304348   0.260870   0.434783   0.304348\n",
       "6     his      50   0.260000   0.340000   0.420000   0.180000   0.400000\n",
       "7     him       6   0.166667   0.500000   0.500000   0.166667   0.333333\n",
       "8     her      55   0.418182   0.345455   0.345455   0.418182   0.236364\n",
       "9   total     200   0.360000   0.320000   0.330000   0.350000   0.320000"
      ],
      "text/html": "<div>\n<style scoped>\n    .dataframe tbody tr th:only-of-type {\n        vertical-align: middle;\n    }\n\n    .dataframe tbody tr th {\n        vertical-align: top;\n    }\n\n    .dataframe thead th {\n        text-align: right;\n    }\n</style>\n<table border=\"1\" class=\"dataframe\">\n  <thead>\n    <tr style=\"text-align: right;\">\n      <th></th>\n      <th>Pronoun</th>\n      <th>Length</th>\n      <th>Accuracy0</th>\n      <th>Accuracy1</th>\n      <th>Accuracy2</th>\n      <th>Accuracy3</th>\n      <th>Accuracy4</th>\n    </tr>\n  </thead>\n  <tbody>\n    <tr>\n      <th>0</th>\n      <td>He</td>\n      <td>12</td>\n      <td>0.333333</td>\n      <td>0.250000</td>\n      <td>0.250000</td>\n      <td>0.333333</td>\n      <td>0.416667</td>\n    </tr>\n    <tr>\n      <th>1</th>\n      <td>She</td>\n      <td>13</td>\n      <td>0.461538</td>\n      <td>0.230769</td>\n      <td>0.153846</td>\n      <td>0.538462</td>\n      <td>0.307692</td>\n    </tr>\n    <tr>\n      <th>2</th>\n      <td>His</td>\n      <td>5</td>\n      <td>0.600000</td>\n      <td>0.000000</td>\n      <td>0.000000</td>\n      <td>0.600000</td>\n      <td>0.400000</td>\n    </tr>\n    <tr>\n      <th>3</th>\n      <td>Her</td>\n      <td>7</td>\n      <td>0.285714</td>\n      <td>0.142857</td>\n      <td>0.142857</td>\n      <td>0.285714</td>\n      <td>0.571429</td>\n    </tr>\n    <tr>\n      <th>4</th>\n      <td>he</td>\n      <td>29</td>\n      <td>0.379310</td>\n      <td>0.379310</td>\n      <td>0.379310</td>\n      <td>0.379310</td>\n      <td>0.241379</td>\n    </tr>\n    <tr>\n      <th>5</th>\n      <td>she</td>\n      <td>23</td>\n      <td>0.391304</td>\n      <td>0.304348</td>\n      <td>0.260870</td>\n      <td>0.434783</td>\n      <td>0.304348</td>\n    </tr>\n    <tr>\n      <th>6</th>\n      <td>his</td>\n      <td>50</td>\n      <td>0.260000</td>\n      <td>0.340000</td>\n      <td>0.420000</td>\n      <td>0.180000</td>\n      <td>0.400000</td>\n    </tr>\n    <tr>\n      <th>7</th>\n      <td>him</td>\n      <td>6</td>\n      <td>0.166667</td>\n      <td>0.500000</td>\n      <td>0.500000</td>\n      <td>0.166667</td>\n      <td>0.333333</td>\n    </tr>\n    <tr>\n      <th>8</th>\n      <td>her</td>\n      <td>55</td>\n      <td>0.418182</td>\n      <td>0.345455</td>\n      <td>0.345455</td>\n      <td>0.418182</td>\n      <td>0.236364</td>\n    </tr>\n    <tr>\n      <th>9</th>\n      <td>total</td>\n      <td>200</td>\n      <td>0.360000</td>\n      <td>0.320000</td>\n      <td>0.330000</td>\n      <td>0.350000</td>\n      <td>0.320000</td>\n    </tr>\n  </tbody>\n</table>\n</div>"
     },
     "metadata": {},
     "execution_count": 105
    }
   ],
   "source": [
    "overall_analysis(train_data, [none_subject, none_most_occurance], [former_word, latter_word, closer_word, farther_word, lambda row: (False, False)])"
   ]
  },
  {
   "cell_type": "code",
   "execution_count": 112,
   "metadata": {},
   "outputs": [
    {
     "output_type": "stream",
     "name": "stdout",
     "text": [
      "200 0.35\n"
     ]
    }
   ],
   "source": [
    "rest = apply_model(train_data, [none_subject, none_most_occurance], begin_sentence)"
   ]
  },
  {
   "cell_type": "code",
   "execution_count": 5,
   "metadata": {},
   "outputs": [
    {
     "output_type": "stream",
     "name": "stderr",
     "text": [
      "100%|██████████| 9/9 [02:59<00:00, 19.91s/it]\n"
     ]
    },
    {
     "output_type": "execute_result",
     "data": {
      "text/plain": [
       "  Pronoun  Length  Accuracy0\n",
       "0      He     138   0.775362\n",
       "1     She     179   0.754190\n",
       "2     His      33   0.696970\n",
       "3     Her      38   0.578947\n",
       "4      he     235   0.629787\n",
       "5     she     249   0.610442\n",
       "6     his     496   0.663306\n",
       "7     him      98   0.459184\n",
       "8     her     534   0.573034\n",
       "9   total    2000   0.633500"
      ],
      "text/html": "<div>\n<style scoped>\n    .dataframe tbody tr th:only-of-type {\n        vertical-align: middle;\n    }\n\n    .dataframe tbody tr th {\n        vertical-align: top;\n    }\n\n    .dataframe thead th {\n        text-align: right;\n    }\n</style>\n<table border=\"1\" class=\"dataframe\">\n  <thead>\n    <tr style=\"text-align: right;\">\n      <th></th>\n      <th>Pronoun</th>\n      <th>Length</th>\n      <th>Accuracy0</th>\n    </tr>\n  </thead>\n  <tbody>\n    <tr>\n      <th>0</th>\n      <td>He</td>\n      <td>138</td>\n      <td>0.775362</td>\n    </tr>\n    <tr>\n      <th>1</th>\n      <td>She</td>\n      <td>179</td>\n      <td>0.754190</td>\n    </tr>\n    <tr>\n      <th>2</th>\n      <td>His</td>\n      <td>33</td>\n      <td>0.696970</td>\n    </tr>\n    <tr>\n      <th>3</th>\n      <td>Her</td>\n      <td>38</td>\n      <td>0.578947</td>\n    </tr>\n    <tr>\n      <th>4</th>\n      <td>he</td>\n      <td>235</td>\n      <td>0.629787</td>\n    </tr>\n    <tr>\n      <th>5</th>\n      <td>she</td>\n      <td>249</td>\n      <td>0.610442</td>\n    </tr>\n    <tr>\n      <th>6</th>\n      <td>his</td>\n      <td>496</td>\n      <td>0.663306</td>\n    </tr>\n    <tr>\n      <th>7</th>\n      <td>him</td>\n      <td>98</td>\n      <td>0.459184</td>\n    </tr>\n    <tr>\n      <th>8</th>\n      <td>her</td>\n      <td>534</td>\n      <td>0.573034</td>\n    </tr>\n    <tr>\n      <th>9</th>\n      <td>total</td>\n      <td>2000</td>\n      <td>0.633500</td>\n    </tr>\n  </tbody>\n</table>\n</div>"
     },
     "metadata": {},
     "execution_count": 5
    }
   ],
   "source": [
    "overall_analysis(train_data, [], [subject])"
   ]
  },
  {
   "cell_type": "code",
   "execution_count": 4,
   "metadata": {},
   "outputs": [
    {
     "output_type": "stream",
     "name": "stderr",
     "text": [
      "100%|██████████| 10/10 [03:22<00:00, 20.24s/it]\n"
     ]
    },
    {
     "output_type": "execute_result",
     "data": {
      "text/plain": [
       "   Pronoun  Length  Accuracy0\n",
       "0       He     127   0.811024\n",
       "1      She     159   0.716981\n",
       "2      His      28   0.535714\n",
       "3      Her      37   0.648649\n",
       "4       he     221   0.633484\n",
       "5      she     237   0.649789\n",
       "6      his     528   0.619318\n",
       "7      him      96   0.447917\n",
       "8      her     566   0.570671\n",
       "9     hers       1   0.000000\n",
       "10   total    2000   0.621500"
      ],
      "text/html": "<div>\n<style scoped>\n    .dataframe tbody tr th:only-of-type {\n        vertical-align: middle;\n    }\n\n    .dataframe tbody tr th {\n        vertical-align: top;\n    }\n\n    .dataframe thead th {\n        text-align: right;\n    }\n</style>\n<table border=\"1\" class=\"dataframe\">\n  <thead>\n    <tr style=\"text-align: right;\">\n      <th></th>\n      <th>Pronoun</th>\n      <th>Length</th>\n      <th>Accuracy0</th>\n    </tr>\n  </thead>\n  <tbody>\n    <tr>\n      <th>0</th>\n      <td>He</td>\n      <td>127</td>\n      <td>0.811024</td>\n    </tr>\n    <tr>\n      <th>1</th>\n      <td>She</td>\n      <td>159</td>\n      <td>0.716981</td>\n    </tr>\n    <tr>\n      <th>2</th>\n      <td>His</td>\n      <td>28</td>\n      <td>0.535714</td>\n    </tr>\n    <tr>\n      <th>3</th>\n      <td>Her</td>\n      <td>37</td>\n      <td>0.648649</td>\n    </tr>\n    <tr>\n      <th>4</th>\n      <td>he</td>\n      <td>221</td>\n      <td>0.633484</td>\n    </tr>\n    <tr>\n      <th>5</th>\n      <td>she</td>\n      <td>237</td>\n      <td>0.649789</td>\n    </tr>\n    <tr>\n      <th>6</th>\n      <td>his</td>\n      <td>528</td>\n      <td>0.619318</td>\n    </tr>\n    <tr>\n      <th>7</th>\n      <td>him</td>\n      <td>96</td>\n      <td>0.447917</td>\n    </tr>\n    <tr>\n      <th>8</th>\n      <td>her</td>\n      <td>566</td>\n      <td>0.570671</td>\n    </tr>\n    <tr>\n      <th>9</th>\n      <td>hers</td>\n      <td>1</td>\n      <td>0.000000</td>\n    </tr>\n    <tr>\n      <th>10</th>\n      <td>total</td>\n      <td>2000</td>\n      <td>0.621500</td>\n    </tr>\n  </tbody>\n</table>\n</div>"
     },
     "metadata": {},
     "execution_count": 4
    }
   ],
   "source": [
    "overall_analysis(test_data, [], [subject])"
   ]
  },
  {
   "cell_type": "code",
   "execution_count": 5,
   "metadata": {},
   "outputs": [
    {
     "output_type": "stream",
     "name": "stdout",
     "text": [
      "2000 0.6215\n"
     ]
    }
   ],
   "source": [
    "subject_data = apply_model(test_data, [], subject)"
   ]
  },
  {
   "cell_type": "code",
   "execution_count": null,
   "metadata": {},
   "outputs": [],
   "source": [
    "result = open(\"subject_word.tsv\", 'w')\n",
    "\n",
    "for row in subject_data.iloc:\n",
    "\n",
    "    result.write(\"\\t\".join([attrs[0]] + row['A-pred'] + row['B-pred']) + \"\\n\")\n",
    "\n",
    "f_test.close()\n",
    "result.close()"
   ]
  },
  {
   "cell_type": "code",
   "execution_count": 21,
   "metadata": {},
   "outputs": [
    {
     "output_type": "stream",
     "name": "stdout",
     "text": [
      "Overall recall: 68.5 precision: 63.3 f1: 65.8\n",
      "\t\ttp 1215\tfp 704\n",
      "\t\tfn 558\ttn 1523\n",
      "Masculine recall: 68.7 precision: 64.2 f1: 66.4\n",
      "\t\ttp 611\tfp 340\n",
      "\t\tfn 278\ttn 771\n",
      "Feminine recall: 68.3 precision: 62.4 f1: 65.2\n",
      "\t\ttp 604\tfp 364\n",
      "\t\tfn 280\ttn 752\n",
      "Bias (F/M): 0.98\n",
      "\n",
      "gap_scorer.py:126: DeprecationWarning: 'U' mode is deprecated\n",
      "  with open(filename, 'rU') as f:\n"
     ]
    }
   ],
   "source": [
    "!python gap_scorer.py --gold_ts=gap-test.tsv --system_tsv=subject_word.tsv"
   ]
  },
  {
   "cell_type": "code",
   "execution_count": null,
   "metadata": {},
   "outputs": [],
   "source": []
  }
 ]
}