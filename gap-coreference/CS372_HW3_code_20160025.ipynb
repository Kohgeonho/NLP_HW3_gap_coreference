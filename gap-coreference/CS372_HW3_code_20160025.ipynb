{
 "metadata": {
  "language_info": {
   "codemirror_mode": {
    "name": "ipython",
    "version": 3
   },
   "file_extension": ".py",
   "mimetype": "text/x-python",
   "name": "python",
   "nbconvert_exporter": "python",
   "pygments_lexer": "ipython3",
   "version": "3.8.10"
  },
  "orig_nbformat": 2,
  "kernelspec": {
   "name": "python3810jvsc74a57bd038e31c96aac6b52bfd92a03a517d6944ec75782017e4445807e0cb0d41655b05",
   "display_name": "Python 3.8.10 64-bit (windows store)"
  },
  "metadata": {
   "interpreter": {
    "hash": "38e31c96aac6b52bfd92a03a517d6944ec75782017e4445807e0cb0d41655b05"
   }
  }
 },
 "nbformat": 4,
 "nbformat_minor": 2,
 "cells": [
  {
   "cell_type": "code",
   "execution_count": 98,
   "metadata": {},
   "outputs": [],
   "source": [
    "from helper import *\n",
    "from funcs import *"
   ]
  },
  {
   "source": [
    "**tf.tsv**\n",
    "\n",
    "always predict A-coref as True and B-coref as False"
   ],
   "cell_type": "markdown",
   "metadata": {}
  },
  {
   "cell_type": "code",
   "execution_count": 2,
   "metadata": {},
   "outputs": [],
   "source": [
    "f_test = open(\"gap-test.tsv\", \"r\")\n",
    "result = open(\"tf.tsv\", 'w')\n",
    "test_data = f_test.readlines()\n",
    "\n",
    "for line in test_data[1:]:\n",
    "    attrs = line.split('\\t')\n",
    "    result.write(\"\\t\".join([attrs[0]] + ['True', 'False']) + \"\\n\")\n",
    "\n",
    "f_test.close()\n",
    "result.close()"
   ]
  },
  {
   "cell_type": "code",
   "execution_count": 3,
   "metadata": {},
   "outputs": [
    {
     "output_type": "stream",
     "name": "stdout",
     "text": [
      "Overall recall: 51.8 precision: 45.9 f1: 48.7\n",
      "\t\ttp 918\tfp 1082\n",
      "\t\tfn 855\ttn 1145\n",
      "Masculine recall: 51.0 precision: 45.3 f1: 48.0\n",
      "\t\ttp 453\tfp 547\n",
      "\t\tfn 436\ttn 564\n",
      "Feminine recall: 52.6 precision: 46.5 f1: 49.4\n",
      "\t\ttp 465\tfp 535\n",
      "\t\tfn 419\ttn 581\n",
      "Bias (F/M): 1.03\n",
      "\n",
      "gap_scorer.py:126: DeprecationWarning: 'U' mode is deprecated\n",
      "  with open(filename, 'rU') as f:\n"
     ]
    }
   ],
   "source": [
    "!python gap_scorer.py --gold_ts=gap-test.tsv --system_tsv=tf.tsv"
   ]
  },
  {
   "source": [
    "**closer.tsv**\n",
    "\n",
    "Predict closer coreference to pronoun as True"
   ],
   "cell_type": "markdown",
   "metadata": {}
  },
  {
   "cell_type": "code",
   "execution_count": 4,
   "metadata": {
    "tags": []
   },
   "outputs": [],
   "source": [
    "f_test = open(\"gap-test.tsv\", \"r\")\n",
    "result = open(\"closer.tsv\", 'w')\n",
    "test_data = f_test.readlines()\n",
    "\n",
    "for line in test_data[1:]:\n",
    "    attrs = line.split('\\t')\n",
    "    tf = ['True', 'False']\n",
    "    if abs(int(attrs[3]) - int(attrs[5])) > abs(int(attrs[3]) - int(attrs[8])):\n",
    "        tf = ['False', 'True']\n",
    "\n",
    "    result.write(\"\\t\".join([attrs[0]] + tf) + \"\\n\")\n",
    "\n",
    "f_test.close()\n",
    "result.close()"
   ]
  },
  {
   "cell_type": "code",
   "execution_count": 5,
   "metadata": {},
   "outputs": [
    {
     "output_type": "stream",
     "name": "stdout",
     "text": [
      "Overall recall: 50.1 precision: 44.4 f1: 47.1\n",
      "\t\ttp 888\tfp 1112\n",
      "\t\tfn 885\ttn 1115\n",
      "Masculine recall: 51.6 precision: 45.9 f1: 48.6\n",
      "\t\ttp 459\tfp 541\n",
      "\t\tfn 430\ttn 570\n",
      "Feminine recall: 48.5 precision: 42.9 f1: 45.5\n",
      "\t\ttp 429\tfp 571\n",
      "\t\tfn 455\ttn 545\n",
      "Bias (F/M): 0.94\n",
      "\n",
      "gap_scorer.py:126: DeprecationWarning: 'U' mode is deprecated\n",
      "  with open(filename, 'rU') as f:\n"
     ]
    }
   ],
   "source": [
    "!python gap_scorer.py --gold_ts=gap-test.tsv --system_tsv=closer.tsv"
   ]
  },
  {
   "cell_type": "code",
   "execution_count": 6,
   "metadata": {
    "tags": []
   },
   "outputs": [
    {
     "output_type": "stream",
     "name": "stdout",
     "text": [
      "Among the mourners were major politicians from both the blue and green camps such as Wang Jin-pyng of the Kuomintang and Ker Chien-Ming of the Democratic Progressive Party, as well as various celebrities of whom the most prominent was popular singer Jay Chou; they suffered harsh criticism for their attendance, including a Taipei Times editorial, which characterised the politicians' presence as ``revolting'' and stated that Chou ``should be ashamed, but we are not sure if he has the depth of character to feel it.'' \u001b[91mChou\u001b[0m, who showed up wearing sunglasses and left after only 20 minutes, had become acquainted with \u001b[92mChen\u001b[0m through \u001b[94mhis\u001b[0m son Baron Chen, with whom Chou had previously worked in the filming of Kung Fu Dunk.\n\nDue to their father's long-lasting sexual and emotional relationship with his uncle Valdemar, Peter and his sister Eug*nie referred to Valdemar as ``Papa Two''. As customary, Princess George took no part in her son's upbringing, and when he reached adolescence, only the counsels of the psychoanalyst Sigmund Freud helped them suppress their incestuous feelings for each other. Following the restoration of \u001b[94mhis\u001b[0m cousin, \u001b[91mKing George II\u001b[0m, Prince \u001b[92mPeter\u001b[0m travelled to the Kingdom to take part in the ceremonial reinterment of the remains of his uncle, King Constantine I, and the queens Olga Constantinovna of Russia and Sophia of Prussia, his grandmother and aunt respectively.\n\nProduction was scheduled to start in early 2001 with a budget of $75 million and Johnny Depp expressing interest in the lead role. The following August, Dimension Films joined Crystal Sky to co-finance the film, which would be directed by Stephen Norrington. Producer \u001b[91mAvi Arad\u001b[0m approached \u001b[92mEric Bana\u001b[0m on the possibility of playing Ghost Rider, but opted to cast \u001b[94mhim\u001b[0m in Hulk instead.\n\nA six-floor Grade II 18th-century house at 57 Wimpole Street is where Paul McCartney resided from 1964--66, staying on the top floor of girlfriend \u001b[91mJane Asher\u001b[0m's family home in a room overlooking Browning Mews in the back, and with John Lennon writing ``I Want to Hold Your Hand'' on a piano in the basement. At \u001b[94mher\u001b[0m father's house at number 50 lived for some time between 1840 and 1845, \u001b[92mElizabeth Barrett\u001b[0m, then known as the author of a volume of poems, and who afterwards escaped and was better known as Elizabeth Barrett Browning.\n\nMr Telford was of the most genial disposition and a delightful companion, his laugh was the heartiest I ever heard; it was a pleasure to be in his society.'' \u001b[92mGeorge Turnbull\u001b[0m states that \u001b[91mTelford\u001b[0m wrote and gave \u001b[94mhim\u001b[0m a poem:\n\nEl*bieta (Teresa Marczewska), a woman in her forties, who is from New York but speaks excellent Polish and is clearly of Polish descent, is visiting the University of Warsaw. She goes to Zofia's ethics lecture. El*bieta and Zofia are professional acquaintances from the USA, \u001b[91mEl*bieta\u001b[0m having translated \u001b[92mZofia\u001b[0m's works, and the latter is glad to introduce \u001b[94mher\u001b[0m friend to the students.\n\nHe was born in New York City, studied in Paris, and after returning to the United States worked for Leslie's, Harper's Weekly and similar publications. He also contributed to the humorous weekly magazine Vanity Fair. The \u001b[92mMark Twain\u001b[0m book A Tramp Abroad contains more than 20 pictures by \u001b[91mDay\u001b[0m. \u001b[94mHe\u001b[0m married Maria Theresa Miller around 1859, who died in 1875.\n\nAfterward, Sally tells Jimmy she likes him, but he is in love with Angela, who in turn is infatuated with Army surgeon Major Hilary Jarret. Angela is certain that Jimmy's father, Dr. Plum, will arrange a deferment so that Jimmy can follow in his footsteps and go to medical school, but Jimmy insists he is going to enlist. While gazing at a sleeping \u001b[91mHilary\u001b[0m, \u001b[92mAngela\u001b[0m fantasizes that \u001b[94mshe\u001b[0m is serenading him with ``Ciri-Biri-Bin''.\n\nKenya started off solidly in their big chase, with openers Morris Ouma and Seren Waters adding 37 for the first wicket until a direct hit from Umar Akmal had the latter run out. The Kenyans fought during the first half of their innings, getting to 73/2 before \u001b[91mShahid Afridi\u001b[0m bowled \u001b[91mSteve Tikolo\u001b[0m. \u001b[94mHe\u001b[0m then ran through the lower middle order and the tail with ease, and ended up with figures of 5/16 from 8 overs as Kenya collapsed to 112 all out, with the only resistance offered by Collins Obuya's 47.\n\nNoteworthy projects that JESS3 has undertaken with \u001b[92mThomas\u001b[0m's leadership include the NASA website ``Buzzroom'' that tracks NASA-related tweets, videos and images, the C-SPAN Video Library, which was awarded a Peabody Award in March 2011, and the design of The Conversation Prism, an infographic poster produced in partnership with \u001b[91mBrian Solis\u001b[0m. In 2010, \u001b[94mhe\u001b[0m was approached by Facebook to develop the Facebook Stories application.\n\n"
     ]
    }
   ],
   "source": [
    "print_sents(random=True)"
   ]
  },
  {
   "cell_type": "code",
   "execution_count": 7,
   "metadata": {},
   "outputs": [],
   "source": [
    "import pandas as pd"
   ]
  },
  {
   "cell_type": "code",
   "execution_count": 8,
   "metadata": {},
   "outputs": [
    {
     "output_type": "stream",
     "name": "stdout",
     "text": [
      "<class 'pandas.core.frame.DataFrame'>\nRangeIndex: 2000 entries, 0 to 1999\nData columns (total 11 columns):\n #   Column          Non-Null Count  Dtype \n---  ------          --------------  ----- \n 0   ID              2000 non-null   object\n 1   Text            2000 non-null   object\n 2   Pronoun         2000 non-null   object\n 3   Pronoun-offset  2000 non-null   int64 \n 4   A               2000 non-null   object\n 5   A-offset        2000 non-null   int64 \n 6   A-coref         2000 non-null   bool  \n 7   B               2000 non-null   object\n 8   B-offset        2000 non-null   int64 \n 9   B-coref         2000 non-null   bool  \n 10  URL             2000 non-null   object\ndtypes: bool(2), int64(3), object(6)\nmemory usage: 144.7+ KB\n"
     ]
    }
   ],
   "source": [
    "train_data = pd.read_csv('gap-development.tsv', sep='\\t')\n",
    "test_data = pd.read_csv('gap-test.tsv', sep='\\t')\n",
    "test_data.info()"
   ]
  },
  {
   "source": [
    "**subject.tsv**\n",
    "\n",
    "Predict farther coreference pronoun as True when pronoun is subject pronoun (he, she).\n",
    "Predict closer coreference pronoun as True when pronoun is not subject pronoun, which is object or possessive pronoun(her, his, him)."
   ],
   "cell_type": "markdown",
   "metadata": {}
  },
  {
   "cell_type": "code",
   "execution_count": 9,
   "metadata": {},
   "outputs": [
    {
     "output_type": "execute_result",
     "data": {
      "text/plain": [
       "{'He', 'Her', 'His', 'She', 'he', 'her', 'him', 'his', 'she'}"
      ]
     },
     "metadata": {},
     "execution_count": 9
    }
   ],
   "source": [
    "pronouns = set(train_data['Pronoun'])\n",
    "pronouns"
   ]
  },
  {
   "cell_type": "code",
   "execution_count": 10,
   "metadata": {
    "tags": []
   },
   "outputs": [],
   "source": [
    "result = open(\"subject.tsv\", 'w')\n",
    "\n",
    "for attrs in test_data.iloc:\n",
    "    pro, pro_id = attrs[2:4]\n",
    "    A, A_id = attrs[4:6]\n",
    "    B, B_id = attrs[7:9]\n",
    "\n",
    "    if pro.lower() in ['he', 'she']:\n",
    "        if abs(pro_id - A_id) > abs(pro_id - B_id):\n",
    "            tf = ['TRUE', 'FALSE']\n",
    "        else:\n",
    "            tf = ['FALSE', 'TRUE']\n",
    "    else:\n",
    "        if abs(pro_id - A_id) > abs(pro_id - B_id):\n",
    "            tf = ['FALSE', 'TRUE']\n",
    "        else:\n",
    "            tf = ['TRUE', 'FALSE']\n",
    "\n",
    "    result.write(\"\\t\".join([attrs[0]] + tf) + \"\\n\")\n",
    "\n",
    "f_test.close()\n",
    "result.close()"
   ]
  },
  {
   "cell_type": "code",
   "execution_count": 11,
   "metadata": {},
   "outputs": [
    {
     "output_type": "stream",
     "name": "stdout",
     "text": [
      "Overall recall: 58.3 precision: 51.6 f1: 54.8\n",
      "\t\ttp 1033\tfp 967\n",
      "\t\tfn 740\ttn 1260\n",
      "Masculine recall: 59.4 precision: 52.8 f1: 55.9\n",
      "\t\ttp 528\tfp 472\n",
      "\t\tfn 361\ttn 639\n",
      "Feminine recall: 57.1 precision: 50.5 f1: 53.6\n",
      "\t\ttp 505\tfp 495\n",
      "\t\tfn 379\ttn 621\n",
      "Bias (F/M): 0.96\n",
      "\n",
      "gap_scorer.py:126: DeprecationWarning: 'U' mode is deprecated\n",
      "  with open(filename, 'rU') as f:\n"
     ]
    }
   ],
   "source": [
    "!python gap_scorer.py --gold_ts=gap-test.tsv --system_tsv=subject.tsv"
   ]
  },
  {
   "cell_type": "code",
   "execution_count": 12,
   "metadata": {},
   "outputs": [
    {
     "output_type": "execute_result",
     "data": {
      "text/plain": [
       "0.1135"
      ]
     },
     "metadata": {},
     "execution_count": 12
    }
   ],
   "source": [
    "false_case = 0\n",
    "for attrs in test_data.iloc:\n",
    "    if attrs[6] == attrs[9]:\n",
    "        false_case += 1\n",
    "\n",
    "false_case/len(test_data)"
   ]
  },
  {
   "source": [
    "# subject.tsv\n",
    "\n",
    "draw a relation between two proper nouns with sentence structure\n",
    "\n",
    "(e.g. Which one is the subject?)"
   ],
   "cell_type": "markdown",
   "metadata": {}
  },
  {
   "cell_type": "code",
   "execution_count": 13,
   "metadata": {},
   "outputs": [],
   "source": [
    "import nltk\n",
    "sent = \"In the next pair, Mikhaylov equalled Grishin's time and they shared Olympic gold.\"\n",
    "tagged_sent = nltk.pos_tag(nltk.word_tokenize(sent))"
   ]
  },
  {
   "source": [
    "Classify train_data into several categories\n",
    "\n",
    "1. When words are inside parenthesis\n",
    "2. When words appear after the pronoun\n",
    " * When the pronoun is subject pronoun\n",
    " * When the pronoun is object/possessive pronoun\n",
    "3. When the both coreferences are false\n",
    "4. When only one word is subject\n",
    "5. When the both words are subject\n",
    "6. When none of the words are subject\n",
    "    "
   ],
   "cell_type": "markdown",
   "metadata": {}
  },
  {
   "cell_type": "code",
   "execution_count": 14,
   "metadata": {},
   "outputs": [],
   "source": [
    "import pandas as pd \n",
    "\n",
    "train_data = pd.read_csv('gap-development.tsv', sep='\\t')"
   ]
  },
  {
   "source": [
    "## 1. When words are inside parenthesis\n",
    "Assume when word is inside parenthesis, coreference is always false"
   ],
   "cell_type": "markdown",
   "metadata": {}
  },
  {
   "cell_type": "code",
   "execution_count": 15,
   "metadata": {
    "tags": []
   },
   "outputs": [],
   "source": [
    "parenthesis_data = []\n",
    "\n",
    "def isparenthesis(sent, word, offset):\n",
    "    if sent[offset-1] == \"(\" and sent[offset+len(word)] == \")\":\n",
    "        return True\n",
    "    else:\n",
    "        return False\n",
    "\n",
    "for row in train_data.iloc:\n",
    "    if isparenthesis(row['Text'], row['A'], row['A-offset']) or \\\n",
    "       isparenthesis(row['Text'], row['B'], row['B-offset']):\n",
    "            parenthesis_data.append(row)"
   ]
  },
  {
   "cell_type": "code",
   "execution_count": 16,
   "metadata": {},
   "outputs": [],
   "source": [
    "parenthesis_data = pd.DataFrame(parenthesis_data, columns=train_data.columns)"
   ]
  },
  {
   "cell_type": "code",
   "execution_count": 17,
   "metadata": {},
   "outputs": [
    {
     "output_type": "stream",
     "name": "stdout",
     "text": [
      "He was named to the NCAA All-Tournament team in 1980, and two first All Star teams in 1981. He began his playing career with the Pittsburgh Penguins who drafted him in the 6th round of the 1979 NHL Entry Draft. \u001b[92mChorney\u001b[0m was traded to the Los Angeles Kings for a 6th round choice (\u001b[91mStuart Marston\u001b[0m) in the 1985 NHL Entry Draft. After spending a season with the Kings, \u001b[94mhe\u001b[0m was signed by the Washington Capitals but failed to earn a spot on the roster.\n\nGrant played the part in Trevor Nunn's movie adaptation of Twelfth Night, dancing dreadfully in front of Mel Smith's Sir Toby, getting his sword caught in a branch of a tree and being kicked in the groin during his duel with ``Cesario'' (Imogen Stubbs). When \u001b[92mMaria\u001b[0m (\u001b[91mImelda Staunton\u001b[0m) tricks Malvolio (Nigel Hawthorne) into wearing yellow stockings, \u001b[94mshe\u001b[0m reveals to her fellow conspirators that ``'tis a colour (my lady Olivia) abhors''.\n\nWhen Herman and Fred are arrested and imprisoned for petty theft charges, Ma takes over the group and leads Arthur and Lloyd on a bank robbery spree to gain enough money to get her sons out of jail. The gang is joined by a gunman named Kevin (\u001b[91mBruce Dern\u001b[0m) who was \u001b[92mFred\u001b[0m's cellmate during \u001b[94mhis\u001b[0m incarceration (and his strongly implied lover).\n\nAlf and Else's daughter Rita (Una Stubbs) now lives with her husband Mike in his hometown of Liverpool and often visits her parents, although Mike does not appear (as Antony Booth had no interest in reprising the role). Usually, Alf is seen drinking with his friend Arthur (\u001b[91mArthur English\u001b[0m) in the local pub. Although \u001b[94mhis\u001b[0m beloved Conservative Party has returned to power, \u001b[92mAlf\u001b[0m is not happy with Margaret Thatcher being Prime Minister because, according to him, ``a woman's place is in the home''.\n\nMaya confesses her love to Yash, but Yash refutes her advances, as he does not want her to become his weakness in his professional life. However, Swati (\u001b[91mSandhya Mridul\u001b[0m), the wife of Yash's coworker and good friend, convinces Yash that he is in love with \u001b[92mMaya\u001b[0m as well and Yash decides to get married to \u001b[94mher\u001b[0m.\n\nGris exhibited with the painters of the Puteaux Group in the Salon de la Section d'Or in 1912. His preference for clarity and order influenced the Purist style of Am*d*e Ozenfant and Charles Edouard Jeanneret (\u001b[91mLe Corbusier\u001b[0m), and made \u001b[92mGris\u001b[0m an important exemplar of the post-war ``return to order'' movement. In 1915 \u001b[94mhe\u001b[0m was painted by his friend, Amedeo Modigliani.\n\nLady Xun (*, personal name unknown) (died 335), formally \u001b[92mLady\u001b[0m of Yuzhang (***), was a concubine of Emperor Yuan of Jin (\u001b[91mSima Rui\u001b[0m) while he was the Prince of Langye. Initially, he favored \u001b[94mher\u001b[0m greatly, and she bore him two sons --\n\nDrum grows up to be a fighter and is often forced to bare-knuckle-box other slaves for the entertainment of the owners, one of whom is a gay Frenchman named Bernard DeMarigny (Colicos). DeMarigny wants to sleep with Drum, but his advances are rejected by the slave and DeMarigny vows revenge against Drum. Drum and his friend Blaise (Kotto) are eventually sold to plantation owner \u001b[92mHammond Maxwell\u001b[0m (\u001b[91mOates\u001b[0m) and are both taken to \u001b[94mhis\u001b[0m plantation to work.\n\nWhen Averell's speech is over, the famous stage performer Kate Maxwell (O'Hara) arrives with a group of showgirls. Averell has arranged for Kate to operate both a cattle-buying business and a saloon. Duncan warns \u001b[92mKate\u001b[0m that he will kill anyone caught stealing cattle on his land, and Sheriff Stan Blaine (\u001b[91mNicol\u001b[0m) warns \u001b[94mher\u001b[0m of an impending war over the cattle business.\n\nRoscoe and his wife had seven sons and three daughters, including William Stanley Roscoe (1782--1843), a poet, Thomas Roscoe (1791--1871), translator from Italian, and Henry (1800--1836), a legal writer who wrote his father's biography. Henry's wife, Maria Roscoe (\u001b[91mn*e Fletcher\u001b[0m) (1798-1885), was the author of \u001b[92mVittoria Colonna\u001b[0m: \u001b[94mHer\u001b[0m Life and Times, and their son Henry Enfield Roscoe (1833--1915) was a chemist and vice-chancellor of the University of London.\n\n"
     ]
    }
   ],
   "source": [
    "print_sents(datas={'manual':True, 'data':parenthesis_data}, num_lines = 10)"
   ]
  },
  {
   "source": [
    "result : 22 out of 31 sentences are predicted correct --> accuracy : 71%"
   ],
   "cell_type": "markdown",
   "metadata": {}
  },
  {
   "source": [
    "## 2. When words appear after the pronoun\n",
    "Assume coreference of words coming after the pronoun is false"
   ],
   "cell_type": "markdown",
   "metadata": {}
  },
  {
   "cell_type": "code",
   "execution_count": 18,
   "metadata": {},
   "outputs": [],
   "source": [
    "after_pronoun = []\n",
    "\n",
    "for row in train_data.iloc:\n",
    "    if row['Pronoun-offset'] < row['A-offset'] or row['Pronoun-offset'] < row['B-offset']:\n",
    "        after_pronoun.append(row)\n",
    "\n",
    "after_pronoun = pd.DataFrame(after_pronoun, columns=train_data.columns)"
   ]
  },
  {
   "cell_type": "code",
   "execution_count": 19,
   "metadata": {},
   "outputs": [],
   "source": [
    "after_subject_pronoun = after_pronoun[after_pronoun['Pronoun'].isin(['he', 'she', 'He', 'She'])]\n",
    "after_other_pronoun = after_pronoun[after_pronoun['Pronoun'].isin(['his', 'her', 'him', 'His', 'Her', 'Him'])]"
   ]
  },
  {
   "cell_type": "code",
   "execution_count": 20,
   "metadata": {},
   "outputs": [
    {
     "output_type": "stream",
     "name": "stdout",
     "text": [
      "Lynn wrote a letter to the other woman, who promptly showed it to Doolittle, who confronted Lynn, telling her to stay out of his business and that any love he had for her was gone. Lynn wrote that his statement broke her heart, and the experience eventually led her to write ``Fist City'' and the similar ``You Ain't Woman Enough''. Admitting that \u001b[94mshe\u001b[0m was tenaciously jealous and \u001b[91mDoolittle\u001b[0m sometimes did not spurn the advances of other women, \u001b[92mLynn\u001b[0m penned the song as a warning, later reflecting in her 2001 autobiography, ``I've been in a couple of fights in my life.\n\nHowever, as he skids across the ``rink'', he crashes into a closet and comes across a pair of ice skates. The chase resumes as Tom stumbles across many kitchen obstacles, including an ironing board, a door and some stools, before sliding up a table-come-ramp and falling down into the cellar. Tom emerges from the cellar and just as \u001b[94mhe\u001b[0m is about to catch \u001b[91mJerry\u001b[0m, Nibbles defrosts the ice, causing \u001b[92mTom\u001b[0m to slip over on the watery floor.\n\nMike Karr's final installment, on October 10, had the intrepid lawyer departing for the state capital to organize a crime commission. For the next two months, the plotlines centered around supporting character Ed Gibson, another crime-fighting attorney, played by Larry Hagman, until Mike Karr, now portrayed by \u001b[91mLaurence Hugo\u001b[0m, returned in mid-December. Although \u001b[94mhe\u001b[0m was born in the San Francisco Bay area, \u001b[92mLarkin\u001b[0m had spent his entire career in other venues and was now, shortly before his fiftieth birthday, returning to his native state of California.\n\nHe sold off the boy's brothers and sisters in preparation for moving to Pennsylvania; he traded 10-year-old Hayden for two carriage horses to a man who traveled the state selling clocks. The travels with his new master allowed \u001b[91mHayden\u001b[0m to hear varying opinions of slavery, including its classification as a crime by some people. When \u001b[94mhe\u001b[0m was 14, the American Revolutionary War soldier \u001b[92mMarquis de Lafayette\u001b[0m tipped his hat to Hayden while visiting Kentucky, which helped inspire Hayden to believe he was worthy of respect and to hate slavery.\n\nHer roles at the Met included Juliette, Marguerite, Marguerite de Valois in Les Huguenots, Micaela in Carmen, Cherubino in Le nozze di Figaro, Donna Elvira in Don Giovanni, Philine in Mignon, Berthe in Le proph*te, the Forest Bird in Siegfried, Nedda in Pagliacci, Gilda in Rigoletto, Infanta in Le Cid, In*s in L'Africaine, and Mim* in La boh*me among others. In 1898, Adams married Leo Stern, a British cellist, who died in 1904. Following Stern's death, \u001b[92mAdams\u001b[0m soon retired from the stage and settled in London. \u001b[94mShe\u001b[0m appeared at Covent Garden in a few performances of \u001b[91mCarmen\u001b[0m in November 1906 (presumably as Micaela), these may have been among her last appearances in opera.\n\nA complete filmography of John Wayne from 1926 to 1976, which also includes those films that Wayne only produced, and results pertaining to his long-running box office popularity between 1949 and 1973, during the height of his career after a decade of starring in a succession of low-budget B-movies. \u001b[92mJohn Wayne\u001b[0m began working in films in 1926 as an extra, prop man, and stuntman, mainly for the Fox Film Corporation. \u001b[94mHe\u001b[0m frequently worked in minor roles with director \u001b[91mJohn Ford\u001b[0m and when Raoul Walsh suggested him for the lead in The Big Trail (1930), an epic Western shot in an early widescreen process called Fox Grandeur, Ford vouched for him.\n\nAfter the horrific plane crash of Wisteria Lane, the housewives think of their lives different ways. If Susan had stayed married to Karl and gotten fat; Bree imagines if Orson had died and Karl had taken her away; Angie imagines if Mona had survived and told the police everything she knows about the Bolen secret; Gabrielle thinks of Celia's future where \u001b[94mshe\u001b[0m turns up to be an old woman; and \u001b[91mLynette\u001b[0m imagines if Patrick had lived, but learns that Patrick died and \u001b[91mPaige\u001b[0m survived.\n\nShe defeated ODB in a singles match at another Six Flags show at the end of June but the two continued to feud, exchanging victories in mixed tag team and six-man tag team matches. Eventually, ODB declared herself the inaugural Women's Champion after winning a fictitious tournament in Rio De Janeiro. ODB retained the title in an eight-woman Battle Royal on the September 6 television tapings but in a four-way match, Deeb finally managed to win the Women's Championship during the main event of the September 13 episode of OVW TV involving ODB, Beth Phoenix and \u001b[91mKatie Lea\u001b[0m. When \u001b[94mshe\u001b[0m became champion, \u001b[92mDeeb\u001b[0m became the target of Beth Phoenix and managed to defend her belt successfully against her once on September 16's house show but lost a televised rematch on October 4.\n\nKaori tells him that the reason she does not want to get close with Shiori is that she does not want to feel the intense pain that will result from Shiori's death. Kaori breaks down after saying this, crying on Yuichi and lamenting the pointlessness of Shiori's birth. After this point, Kaori starts to avoid \u001b[91mShiori\u001b[0m even more than usual. When confronted by Yuichi about how \u001b[94mshe\u001b[0m has been acting, \u001b[92mKaori\u001b[0m tells him that she has no younger sister.\n\nHe kisses her goodbye and leaves in a cab. As Lily walks away, Gerri confronts her, having overheard their conversation. Gerri is furious at Lily for 'playing God. ' Lily makes amends with her father, confiding in him about her affair. As \u001b[94mshe\u001b[0m is about to leave for Yale, \u001b[91mGerri\u001b[0m comes over with a photograph of \u001b[92mLily\u001b[0m which David sent her to make sure the girls meet each other.\n\n"
     ]
    }
   ],
   "source": [
    "print_sents(datas={'manual':True, 'data':after_subject_pronoun}, num_lines = 10)"
   ]
  },
  {
   "cell_type": "code",
   "execution_count": 21,
   "metadata": {},
   "outputs": [],
   "source": [
    "def after_pronoun_predict(data):\n",
    "    A_pred = []\n",
    "    B_pred = []\n",
    "    for row in data.iloc:\n",
    "        A_value = False if row['A-offset'] > row['Pronoun-offset'] else True\n",
    "        B_value = False if row['B-offset'] > row['Pronoun-offset'] else True\n",
    "\n",
    "        A_pred.append(A_value)\n",
    "        B_pred.append(B_value)\n",
    "\n",
    "    data['A-pred'] = A_pred\n",
    "    data['B-pred'] = B_pred"
   ]
  },
  {
   "cell_type": "code",
   "execution_count": 22,
   "metadata": {},
   "outputs": [
    {
     "output_type": "stream",
     "name": "stderr",
     "text": [
      "<ipython-input-21-ceb8dec2fe17>:11: SettingWithCopyWarning: \nA value is trying to be set on a copy of a slice from a DataFrame.\nTry using .loc[row_indexer,col_indexer] = value instead\n\nSee the caveats in the documentation: https://pandas.pydata.org/pandas-docs/stable/user_guide/indexing.html#returning-a-view-versus-a-copy\n  data['A-pred'] = A_pred\n<ipython-input-21-ceb8dec2fe17>:12: SettingWithCopyWarning: \nA value is trying to be set on a copy of a slice from a DataFrame.\nTry using .loc[row_indexer,col_indexer] = value instead\n\nSee the caveats in the documentation: https://pandas.pydata.org/pandas-docs/stable/user_guide/indexing.html#returning-a-view-versus-a-copy\n  data['B-pred'] = B_pred\n"
     ]
    }
   ],
   "source": [
    "after_pronoun_predict(after_subject_pronoun)\n",
    "after_pronoun_predict(after_other_pronoun)"
   ]
  },
  {
   "cell_type": "code",
   "execution_count": 23,
   "metadata": {},
   "outputs": [
    {
     "output_type": "stream",
     "name": "stdout",
     "text": [
      "0.411214953271028\n0.2133676092544987\n"
     ]
    }
   ],
   "source": [
    "print(accuracy(after_subject_pronoun))\n",
    "print(accuracy(after_other_pronoun))"
   ]
  },
  {
   "source": [
    "Result : It doesn't really matter whether a word comes after the pronoun or not"
   ],
   "cell_type": "markdown",
   "metadata": {}
  },
  {
   "source": [
    "## 3. When the both word coreference is false\n",
    "\n",
    "Let's find out what they have in common."
   ],
   "cell_type": "markdown",
   "metadata": {}
  },
  {
   "cell_type": "code",
   "execution_count": 24,
   "metadata": {},
   "outputs": [
    {
     "output_type": "stream",
     "name": "stdout",
     "text": [
      "0.1005\n201\n"
     ]
    }
   ],
   "source": [
    "false_cases = 0\n",
    "for row in train_data.iloc:\n",
    "    if row['A-coref'] == row['B-coref']:\n",
    "        false_cases += 1\n",
    "\n",
    "print(false_cases/len(train_data))\n",
    "print(false_cases)"
   ]
  },
  {
   "source": [
    "There are more than 10 percent of these kind of cases"
   ],
   "cell_type": "markdown",
   "metadata": {}
  },
  {
   "cell_type": "code",
   "execution_count": 25,
   "metadata": {},
   "outputs": [],
   "source": [
    "falses_data = train_data[(train_data['A-coref'] == False) & (train_data['B-coref'] == False)]"
   ]
  },
  {
   "cell_type": "code",
   "execution_count": 26,
   "metadata": {},
   "outputs": [
    {
     "output_type": "stream",
     "name": "stdout",
     "text": [
      "When Gao received this news, he became even more respectful of Liang. In the aftermaths of Emperor Zhuangzong's death, Emperor Zhuangzong's adoptive brother Li Siyuan claimed imperial title (as Emperor Mingzong). Meanwhile, Gao Jixing prepared his fleet and wanted to attack \u001b[91mChu\u001b[0m. \u001b[94mHis\u001b[0m official \u001b[91mSun Guangxian\u001b[0m, whom Liang Zhen had recommended to him to be his scribe, pointed out that Jingnan had barely recovered from the wars, and if it were engaged in a war with Chu, other states might take advantage and attack Jingnan.\n\nIn order to get hold of Bobby Z after all, Don Huertero takes a colleague of Tad Gruzsa as hostage and proposes an exchange. Bobby Z knows Don Huertero won't rest until he believes him dead. Being worried sick, he bribes Tad Gruzsa. Now Tad Gruzsa conceives a plan to deceive Don Huertero. \u001b[94mHe\u001b[0m wants to make \u001b[91mDon Huertero\u001b[0m believe \u001b[91mBobby Z\u001b[0m was dead without harming the real Bobby Z. When the exchange is supposed to take place, Tad Gruzsa replaces Bobby Z. In his stead the clueless doppelg*nger Tim Kearney (Paul Walker) crosses the border.\n\nJudy Pace appeared in film and TV, appearing in the TV show The Young Lawyers and the film Frogs, and Cleavon Little made nightclub performances plus films afterwards: the most famous role he did was as \u001b[91mBart\u001b[0m in the \u001b[91mMel Brooks\u001b[0m comedy Blazing Saddles. Another person who debuted was Redd Foxx, and \u001b[94mhe\u001b[0m proved that even a veteran night club star up in age can do movies as well, leading him to be considered for the TV Show Sanford and Son.\n\nThe Trussell Trust was founded in 1997, by Paddy and Carol Henderson while working with street children in Bulgaria at Sofia Central Railway Station. Named for \u001b[91mCarol\u001b[0m's mother \u001b[91mBetty Trussell\u001b[0m from whom they had received a legacy, the couple's work spread to the United Kingdom after the couple were contacted by a British mother who was struggling to feed \u001b[94mher\u001b[0m children.\n\nThey circled back east in Spring of 1999 and moved into a farmhouse on Beech Mountain, near Boone, North Carolina. They were embraced by the Appalachian community, and their repertoire of old-time songs grew as they played with local musicians. `` After being discovered busking in Boone, North Carolina by \u001b[91mDoc Watson\u001b[0m--while ''playing on \u001b[91mDoc\u001b[0m's old corner`` where \u001b[94mhe\u001b[0m'd ''started playing in the 1950s`` on King Street.\n\nIsidore was a reader of Edgar Allan Poe and particularly favored Percy Bysshe Shelley and Byron, as well as Adam Mickiewicz, Milton, Robert Southey, Alfred de Musset and Baudelaire. During school he was fascinated by Racine and Corneille, and by the scene of the blinding in \u001b[91mSophocles\u001b[0m' Oedipus Rex. According to \u001b[94mhis\u001b[0m schoolmate \u001b[91mPaul Lesp*s\u001b[0m, he displayed obvious folly ``by self-indulgent use of adjectives and an accumulation of terrible death images'' in an essay.\n\nThe Washington Post's \u001b[91mGrace Lichtenstein\u001b[0m stated that ``The only thing wrong with this readable, funny memoir of a magazine writer's yearlong travels across the world in search of pleasure and balance is that it seems so much like a \u001b[91mJennifer Aniston\u001b[0m movie.'' Lev Grossman of Time, however, praised the spiritual aspect of the book, stating that ``To read about \u001b[94mher\u001b[0m struggles with a 182-verse Sanskrit chant, or her (successful) attempt to meditate while being feasted on by mosquitoes, is to come about as close as you can to enlightenment-by-proxy.''\n\nIn the drama series Underbelly Tony Mokbel is played by actor Robert Mammone. It has been alleged that in late 2002 there was a meeting of more than 10 organised criminals in Carlton. At that meeting it is said that \u001b[91mMokbel\u001b[0m was beaten, nearly to death, by Nik 'The Russian' Radev 's bodyguard, West Australian \u001b[91mTroy Mercanti\u001b[0m, who was a member of the Coffin Cheater motorcycle gang. Andrew 'Benji' Veniamin was ordered by \u001b[94mhis\u001b[0m then close associate, Dominic 'Mick' Gatto, to take Mokbel to a friendly doctor.\n\nIn 1774, a Virginian militia group even attacked and captured the Westmoreland County seat at Hannastown and arrested three Westmoreland County justices who refused to acknowledge the jurisdiction of Virginia. Similar conflicts between Maryland and Pennsylvania had been resolved earlier, by 1767, through the work of two men chosen by Cecil Calvert, brother of Charles Calvert, 5th Baron Baltimore, proprietor of Maryland, and Thomas Penn and \u001b[94mhis\u001b[0m brother \u001b[91mRichard\u001b[0m, sons of \u001b[91mWilliam Penn\u001b[0m and proprietors of Pennsylvania.\n\nSamuel Johnson and Topham Beauclerk debated whether Hackman had meant to kill only himself. Johnson believed that the two pistols Hackman took with him to Covent Garden meant that he intended there to be two deaths. \u001b[91mBoswell\u001b[0m himself (who had visited \u001b[91mHackman\u001b[0m in prison) wrote that the case showed ``the dreadful effects that the passion of Love may produce''. In \u001b[94mhis\u001b[0m Mind-Forg'd Manacles (1987), the social historian Roy Porter argues that Hackman was well aware of the madness of his passion.\n\n"
     ]
    }
   ],
   "source": [
    "print_sents(datas={'manual':True, 'data':falses_data}, num_lines = 10)"
   ]
  },
  {
   "source": [
    "## 4. When only one word is subject\n",
    "Assume that subject word is always true, and other word is always false"
   ],
   "cell_type": "markdown",
   "metadata": {}
  },
  {
   "cell_type": "code",
   "execution_count": 27,
   "metadata": {},
   "outputs": [
    {
     "output_type": "stream",
     "name": "stdout",
     "text": [
      "801\n1199\n"
     ]
    }
   ],
   "source": [
    "subject_data = train_data[train_data['Pronoun'].isin(['he', 'she', 'He', 'She'])]\n",
    "other_data = train_data[train_data['Pronoun'].isin(['his', 'him', 'her', 'His', 'Him', 'Her'])]\n",
    "print(len(subject_data))\n",
    "print(len(other_data))"
   ]
  },
  {
   "cell_type": "code",
   "execution_count": 97,
   "metadata": {},
   "outputs": [
    {
     "output_type": "stream",
     "name": "stdout",
     "text": [
      "462 0.8246753246753247\n"
     ]
    }
   ],
   "source": [
    "only_subject_data = apply_model(subject_data, [only_subject], word_subject)"
   ]
  },
  {
   "cell_type": "code",
   "execution_count": 95,
   "metadata": {},
   "outputs": [
    {
     "output_type": "stream",
     "name": "stdout",
     "text": [
      "27 0.7037037037037037\n"
     ]
    }
   ],
   "source": [
    "none_subject_data = apply_model(subject_data, [both_subject, none_different_sents], latter_word)"
   ]
  },
  {
   "cell_type": "code",
   "execution_count": 96,
   "metadata": {},
   "outputs": [
    {
     "output_type": "stream",
     "name": "stdout",
     "text": [
      "Although she publicly supported the policy of VVD minister Rita Verdonk to limit immigration, privately she was not supportive, as she explained in a June 2006 interview for Opzij. This was given after she resigned from Parliament and shortly after she had moved to the United States of America. In parliament, \u001b[92mHirsi Ali\u001b[0m had supported the way \u001b[91mVerdonk\u001b[0m handled the Pasic case, although privately \u001b[94mshe\u001b[0m felt that Pasic should have been allowed to stay.\n\nHis various girlfriends have tried to change his outfits: \u001b[91mPenny\u001b[0m had no success while \u001b[91mStephanie\u001b[0m got him to wear dress shirts and sweaters (which he found uncomfortable), and Priya got him to briefly switch to dress shirts, waistcoats and dark slacks; he reverted to his original outfits after \u001b[94mshe\u001b[0m left for India, but started eschewing his hoodies in favor of unbuttoned safari shirts and non-hooded jackets towards the end of the seventh season, a trend that continued into successive seasons.\n\nThe song is about leaving the Northern Lights of England... and Roy Wood behind, when I was working over in the U.S. Wood is known for having been a founding member of The Move, the Electric Light Orchestra (ELO), and Wizzard. Haslam and Wood had a four-year relationship. Lyricist \u001b[91mBetty Thatcher-Newsinger\u001b[0m wrote about the feelings of loneliness and separation \u001b[92mHaslam\u001b[0m was experiencing whilst \u001b[94mshe\u001b[0m was on tour, based on the personal conversations between the two.\n\nShe stated that she had arranged for her husband to get a better job and then she offered to take Mary Agnes to a nearby store and buy her some clothes and shoes. Eventually, Catherine gave her consent. Later, \u001b[91mCatherine\u001b[0m commented that \u001b[92mMary Agnes\u001b[0m sobbed and refused to go with the woman, but \u001b[94mshe\u001b[0m was taken anyway.\n\nMary Poppins also had a very similar attitude while actively encouraging positive imagination (Susan tends to say things like ``Real children don't go hoppity-skip unless they're on drugs''), took children on magical adventures (Susan does so to teach geography), introduced children to supernatural creatures (Susan employs such beings as guest speakers, including her own grandfather), and had a magic umbrella (which, while not used as a blunt object, was magical much like Death's scythe). Neither character openly acknowledges her magical powers. Both tend toward being actively insulted when reminded of their use. The link between Susan and \u001b[91mMary Poppins\u001b[0m is explicitly alluded to in Hogfather, when \u001b[92mSusan\u001b[0m states that ``\u001b[94mShe\u001b[0m'd sworn that if she did indeed ever find herself dancing on rooftops with chimney sweeps, she'd beat herself to death with her own umbrella.''\n\nThe scene was first intended for the season's twenty-second episode, ``Women's Appreciation'', before it was moved to ``Product Recall'' due to time constraints. The third season DVD contains several scenes that were deleted from the final cut of the episode. These include Kelly annoyingly answering calls with the same response, \u001b[91mDwight\u001b[0m contacting CNN, Kelly training the accountants, \u001b[92mCreed\u001b[0m admitting that \u001b[94mhe\u001b[0m faked his own death for tax reasons, Michael explaining his apology to angry business owner Barbara Allen, Angela Martin (Angela Kinsey) and Kelly arguing, Jim talking to a high school student, and more scenes of Michael filming his apology video.\n\nRangers played a total of 52 competitive matches during the 1997--98 season. They went into the season in pursuit of a record tenth consecutive league title. The early season form of new signing \u001b[91mMarco Negri\u001b[0m gave the team fresh imputous but when the then manager \u001b[92mWalter Smith\u001b[0m announced that \u001b[94mhe\u001b[0m would leave the club at the end of the season the side's form dipped.\n\nFox pinned Maryse to win both the match and the championship for the first time. She successfully defended the championship for the first time on the July 5 episode of Raw, defeating Eve after feigning an ankle injury. As \u001b[94mshe\u001b[0m faked an injury to retain the championship, \u001b[92mEve\u001b[0m was granted a rematch at the Money in the Bank pay-per-view by Raw's anonymous General Manager, where \u001b[91mFox\u001b[0m was again able to successfully retain the championship.\n\n``Kruse was having an incredibly difficult time simply trying to dress himself. He put his climbing harness on inside out, threaded it through the fly of his wind suit, and failed to fasten the buckle; fortunately, Fisher and Neal Beidleman noticed the screwup before Kruse started to descend. ``If he'd tried to rappel down the ropes like that,'' says Beidleman, ``he would have immediately popped out of his harness and fallen to the bottom of the Lhotse Face.`` ``''It was like I was very drunk,`` Kruse recollects. ''I couldn't walk without stumbling, and completely lost the ability to think or speak. It was a really strange feeling. I'd have some word in my mind, but I couldn't figure out how to bring it to my lips. So Scott and Neal had to get me dressed and make sure my harness was on correctly, then \u001b[91mScott\u001b[0m lowered me down the fixed ropes.`` By the time \u001b[92mKruse\u001b[0m arrived in Base Camp, \u001b[94mhe\u001b[0m says, ''it was still another three or four days before I could walk from my tent to the mess tent without stumbling all over the place.``''\n\nSmith it has a new purpose: to safeguard planet Earth. The Moon returns to its original position, K-9 goes back to the safe to guard the black hole and the Slitheen return to Raxacoricofallapatorius. As Sarah Jane, Maria, Luke, Clyde, Alan and \u001b[91mChrissie\u001b[0m watch the ship leave, \u001b[92mSarah Jane\u001b[0m reflects how \u001b[94mshe\u001b[0m never thought she could be part of a family.\n\n"
     ]
    }
   ],
   "source": [
    "print_sents(datas={'manual':True, 'data':both_subject_data}, num_lines = 10)"
   ]
  },
  {
   "source": [
    "## 5. When both words are subject\n",
    "Assume that latter word is True, while the other is False"
   ],
   "cell_type": "markdown",
   "metadata": {}
  },
  {
   "cell_type": "code",
   "execution_count": 33,
   "metadata": {},
   "outputs": [
    {
     "output_type": "execute_result",
     "data": {
      "text/plain": [
       "172"
      ]
     },
     "metadata": {},
     "execution_count": 33
    }
   ],
   "source": [
    "both_subject_data = train_data.apply(both_subject, axis=1)\n",
    "both_subject_data = train_data[both_subject_data]\n",
    "len(both_subject_data)"
   ]
  },
  {
   "cell_type": "code",
   "execution_count": 34,
   "metadata": {
    "tags": []
   },
   "outputs": [
    {
     "output_type": "stream",
     "name": "stdout",
     "text": [
      "The next day, Peggy visits Stacey in hospital and asks her to confess to burning the pub, as a sentence for arson would be less than one for murder, but Stacey refuses. \u001b[91mPeggy\u001b[0m realises that \u001b[92mStacey\u001b[0m needs to look after \u001b[94mher\u001b[0m daughter so she leaves.\n\nHe walks the streets of the ancient cities, try's a food specialty of the region, Giant Spiders, and goes to see old museum full of war memories from the past. Matt travels to America to be taught wrestling for another of his sporting challenges, \u001b[91mKonnie\u001b[0m spins some plates on sticks with guest, Andrew, and \u001b[92mZoe\u001b[0m takes \u001b[94mher\u001b[0m first pancake challenge!\n\nClay's group was chosen to maintain electronic equipment during the planned invasion of Japan. After separation from the Army, \u001b[92mClay\u001b[0m completed both the Bachelor's (1947) and Masters (1948) degrees in Physics at Kansas State University. At the University of Wisconsin-Madison, \u001b[94mhis\u001b[0m doctoral dissertation under \u001b[91mProfessor Gibson Winas\u001b[0m was entitled, ``Field Strengths and Spectra of High Frequency Gas Discharges.''\n\nWhilst Lynette Porter thought that Gwen became a ``fallen woman'' through her affair with Owen, she observed that this made Gwen's role in relation to Jack in ``End of Days'', analogous to that of Mary Magdalene to Jesus, reinforcing a prevalent biblical subtext. \u001b[91mGwen\u001b[0m keeps a vigil at Jack's ``Torchwood tomb'' and like \u001b[92mMagdalene\u001b[0m is rewarded for \u001b[94mher\u001b[0m loyalty by being the first to lay eyes upon the risen saviour.\n\nDalton noted flaws in the film but said that beside them, A Field in England is a rich, strange, hauntingly intense work from a highly original writer-director team.'' Peter Debruge of Variety called A Field in England ``a defiantly unclassifiable cross-genre experiment... that simultaneously reinvents and regurgitates low-budget British cinema as it goes''. \u001b[91mDebruge\u001b[0m said of the director's approach, ``Clearly, \u001b[92mWheatley\u001b[0m is bored with the paint-by-numbers approach of \u001b[94mhis\u001b[0m horror contemporaries, but has swung so far in the opposite direction here, the result feels almost amateurishly avant garde at times, guilty of the sort of indulgences one barely tolerates in student films.''\n\n\u001b[92mEve Brent\u001b[0m (September 11, 1929 -- August 27, 2011) was a \u001b[91mSaturn Award\u001b[0m -winning American actress. \u001b[94mShe\u001b[0m was often billed as Jean Lewis.\n\nShe demands that the driver let her off, and he grudgingly does so, insisting that she won't get her money back. The walk back to the caf* takes 2 hours in the smoldering heat. When \u001b[92mNoreen\u001b[0m returns to the caf*, \u001b[91mLynda\u001b[0m is still furious with \u001b[94mher\u001b[0m but Del defends her, saying that it would have collapsed sooner or later because of the water damage.\n\nOn the October 5, 2009 edition of Raw, Cena challenged Orton to one last rematch for the title, this time a 60-minute Iron Man match where the competitor with the most decisions at the end of that time would be named the victor. In order to accept the challenge, \u001b[91mOrton\u001b[0m added two more conditions to the match--if \u001b[92mCena\u001b[0m loses, \u001b[94mhe\u001b[0m would leave Raw and that the match would be ``anything goes''.\n\nThompson used the slogan ``Make a Change for Progress'' and called Merritt a ``do-nothing mayor'' who engaged in ``bossism'' and ``machine politics''. He called Merritt ``a desperate man who will do anything to stay in office'' and a ``flip-flopper like his ideal, Lyndon Johnson.'' When Merritt reminded voters that \u001b[94mhe\u001b[0m had served on Eisenhower's staff during World War II, \u001b[91mThompson\u001b[0m replied: ``It is true that \u001b[91mPresident Eisenhower\u001b[0m doesn't know me.\n\nIn 1947 McCrae persuaded Bradley to run professionally, where he had his first run in the Powderhall sprint, winning his heat and attracting the attention of bookmaker William Murphy who offered to sponsor Bradley for a preparation at the famous New year sprint. In 1951, Bradley became a training partner for Eric Cumming, the champion Australian professional athlete who was on a 10 week preparation for the Powderhall sprint. \u001b[92mCumming\u001b[0m was beaten in the semi final and was ready to return to Australia before \u001b[91mBradley\u001b[0m convinced \u001b[94mhim\u001b[0m to stay in Scotland and have another go at Powderhall in 1952.\n\n"
     ]
    }
   ],
   "source": [
    "print_sents(datas={'manual':True, 'data':both_subject_data}, num_lines = 10)"
   ]
  },
  {
   "cell_type": "code",
   "execution_count": 44,
   "metadata": {},
   "outputs": [
    {
     "output_type": "execute_result",
     "data": {
      "text/plain": [
       "False"
      ]
     },
     "metadata": {},
     "execution_count": 44
    }
   ],
   "source": [
    "both_subject_data.apply(lambda row: latter_word(row)[0], axis=1).iloc[0]\n"
   ]
  },
  {
   "cell_type": "code",
   "execution_count": 36,
   "metadata": {},
   "outputs": [
    {
     "output_type": "error",
     "ename": "KeyError",
     "evalue": "'A-pred'",
     "traceback": [
      "\u001b[1;31m---------------------------------------------------------------------------\u001b[0m",
      "\u001b[1;31mKeyError\u001b[0m                                  Traceback (most recent call last)",
      "\u001b[1;32m~\\AppData\\Local\\Packages\\PythonSoftwareFoundation.Python.3.8_qbz5n2kfra8p0\\LocalCache\\local-packages\\Python38\\site-packages\\pandas\\core\\indexes\\base.py\u001b[0m in \u001b[0;36mget_loc\u001b[1;34m(self, key, method, tolerance)\u001b[0m\n\u001b[0;32m   3079\u001b[0m             \u001b[1;32mtry\u001b[0m\u001b[1;33m:\u001b[0m\u001b[1;33m\u001b[0m\u001b[1;33m\u001b[0m\u001b[0m\n\u001b[1;32m-> 3080\u001b[1;33m                 \u001b[1;32mreturn\u001b[0m \u001b[0mself\u001b[0m\u001b[1;33m.\u001b[0m\u001b[0m_engine\u001b[0m\u001b[1;33m.\u001b[0m\u001b[0mget_loc\u001b[0m\u001b[1;33m(\u001b[0m\u001b[0mcasted_key\u001b[0m\u001b[1;33m)\u001b[0m\u001b[1;33m\u001b[0m\u001b[1;33m\u001b[0m\u001b[0m\n\u001b[0m\u001b[0;32m   3081\u001b[0m             \u001b[1;32mexcept\u001b[0m \u001b[0mKeyError\u001b[0m \u001b[1;32mas\u001b[0m \u001b[0merr\u001b[0m\u001b[1;33m:\u001b[0m\u001b[1;33m\u001b[0m\u001b[1;33m\u001b[0m\u001b[0m\n",
      "\u001b[1;32mpandas\\_libs\\index.pyx\u001b[0m in \u001b[0;36mpandas._libs.index.IndexEngine.get_loc\u001b[1;34m()\u001b[0m\n",
      "\u001b[1;32mpandas\\_libs\\index.pyx\u001b[0m in \u001b[0;36mpandas._libs.index.IndexEngine.get_loc\u001b[1;34m()\u001b[0m\n",
      "\u001b[1;32mpandas\\_libs\\hashtable_class_helper.pxi\u001b[0m in \u001b[0;36mpandas._libs.hashtable.PyObjectHashTable.get_item\u001b[1;34m()\u001b[0m\n",
      "\u001b[1;32mpandas\\_libs\\hashtable_class_helper.pxi\u001b[0m in \u001b[0;36mpandas._libs.hashtable.PyObjectHashTable.get_item\u001b[1;34m()\u001b[0m\n",
      "\u001b[1;31mKeyError\u001b[0m: 'A-pred'",
      "\nThe above exception was the direct cause of the following exception:\n",
      "\u001b[1;31mKeyError\u001b[0m                                  Traceback (most recent call last)",
      "\u001b[1;32m<ipython-input-36-1d9fb39476b6>\u001b[0m in \u001b[0;36m<module>\u001b[1;34m\u001b[0m\n\u001b[1;32m----> 1\u001b[1;33m \u001b[0maccuracy\u001b[0m\u001b[1;33m(\u001b[0m\u001b[0mboth_subject_data\u001b[0m\u001b[1;33m)\u001b[0m\u001b[1;33m\u001b[0m\u001b[1;33m\u001b[0m\u001b[0m\n\u001b[0m",
      "\u001b[1;32mc:\\Users\\ghkoh\\Documents\\NLP project\\NLP_HW3_gap_coreference\\gap-coreference\\helper.py\u001b[0m in \u001b[0;36maccuracy\u001b[1;34m(data)\u001b[0m\n\u001b[0;32m     83\u001b[0m \u001b[1;33m\u001b[0m\u001b[0m\n\u001b[0;32m     84\u001b[0m     \u001b[1;32mfor\u001b[0m \u001b[0mrow\u001b[0m \u001b[1;32min\u001b[0m \u001b[0mdata\u001b[0m\u001b[1;33m.\u001b[0m\u001b[0miloc\u001b[0m\u001b[1;33m:\u001b[0m\u001b[1;33m\u001b[0m\u001b[1;33m\u001b[0m\u001b[0m\n\u001b[1;32m---> 85\u001b[1;33m         \u001b[1;32mif\u001b[0m \u001b[0mrow\u001b[0m\u001b[1;33m[\u001b[0m\u001b[1;34m'A-pred'\u001b[0m\u001b[1;33m]\u001b[0m \u001b[1;33m==\u001b[0m \u001b[0mrow\u001b[0m\u001b[1;33m[\u001b[0m\u001b[1;34m'A-coref'\u001b[0m\u001b[1;33m]\u001b[0m \u001b[1;32mand\u001b[0m \u001b[0mrow\u001b[0m\u001b[1;33m[\u001b[0m\u001b[1;34m'B-pred'\u001b[0m\u001b[1;33m]\u001b[0m \u001b[1;33m==\u001b[0m \u001b[0mrow\u001b[0m\u001b[1;33m[\u001b[0m\u001b[1;34m'B-coref'\u001b[0m\u001b[1;33m]\u001b[0m\u001b[1;33m:\u001b[0m\u001b[1;33m\u001b[0m\u001b[1;33m\u001b[0m\u001b[0m\n\u001b[0m\u001b[0;32m     86\u001b[0m             \u001b[0mright_count\u001b[0m \u001b[1;33m+=\u001b[0m \u001b[1;36m1\u001b[0m\u001b[1;33m\u001b[0m\u001b[1;33m\u001b[0m\u001b[0m\n\u001b[0;32m     87\u001b[0m \u001b[1;33m\u001b[0m\u001b[0m\n",
      "\u001b[1;32m~\\AppData\\Local\\Packages\\PythonSoftwareFoundation.Python.3.8_qbz5n2kfra8p0\\LocalCache\\local-packages\\Python38\\site-packages\\pandas\\core\\series.py\u001b[0m in \u001b[0;36m__getitem__\u001b[1;34m(self, key)\u001b[0m\n\u001b[0;32m    849\u001b[0m \u001b[1;33m\u001b[0m\u001b[0m\n\u001b[0;32m    850\u001b[0m         \u001b[1;32melif\u001b[0m \u001b[0mkey_is_scalar\u001b[0m\u001b[1;33m:\u001b[0m\u001b[1;33m\u001b[0m\u001b[1;33m\u001b[0m\u001b[0m\n\u001b[1;32m--> 851\u001b[1;33m             \u001b[1;32mreturn\u001b[0m \u001b[0mself\u001b[0m\u001b[1;33m.\u001b[0m\u001b[0m_get_value\u001b[0m\u001b[1;33m(\u001b[0m\u001b[0mkey\u001b[0m\u001b[1;33m)\u001b[0m\u001b[1;33m\u001b[0m\u001b[1;33m\u001b[0m\u001b[0m\n\u001b[0m\u001b[0;32m    852\u001b[0m \u001b[1;33m\u001b[0m\u001b[0m\n\u001b[0;32m    853\u001b[0m         \u001b[1;32mif\u001b[0m \u001b[0mis_hashable\u001b[0m\u001b[1;33m(\u001b[0m\u001b[0mkey\u001b[0m\u001b[1;33m)\u001b[0m\u001b[1;33m:\u001b[0m\u001b[1;33m\u001b[0m\u001b[1;33m\u001b[0m\u001b[0m\n",
      "\u001b[1;32m~\\AppData\\Local\\Packages\\PythonSoftwareFoundation.Python.3.8_qbz5n2kfra8p0\\LocalCache\\local-packages\\Python38\\site-packages\\pandas\\core\\series.py\u001b[0m in \u001b[0;36m_get_value\u001b[1;34m(self, label, takeable)\u001b[0m\n\u001b[0;32m    957\u001b[0m \u001b[1;33m\u001b[0m\u001b[0m\n\u001b[0;32m    958\u001b[0m         \u001b[1;31m# Similar to Index.get_value, but we do not fall back to positional\u001b[0m\u001b[1;33m\u001b[0m\u001b[1;33m\u001b[0m\u001b[1;33m\u001b[0m\u001b[0m\n\u001b[1;32m--> 959\u001b[1;33m         \u001b[0mloc\u001b[0m \u001b[1;33m=\u001b[0m \u001b[0mself\u001b[0m\u001b[1;33m.\u001b[0m\u001b[0mindex\u001b[0m\u001b[1;33m.\u001b[0m\u001b[0mget_loc\u001b[0m\u001b[1;33m(\u001b[0m\u001b[0mlabel\u001b[0m\u001b[1;33m)\u001b[0m\u001b[1;33m\u001b[0m\u001b[1;33m\u001b[0m\u001b[0m\n\u001b[0m\u001b[0;32m    960\u001b[0m         \u001b[1;32mreturn\u001b[0m \u001b[0mself\u001b[0m\u001b[1;33m.\u001b[0m\u001b[0mindex\u001b[0m\u001b[1;33m.\u001b[0m\u001b[0m_get_values_for_loc\u001b[0m\u001b[1;33m(\u001b[0m\u001b[0mself\u001b[0m\u001b[1;33m,\u001b[0m \u001b[0mloc\u001b[0m\u001b[1;33m,\u001b[0m \u001b[0mlabel\u001b[0m\u001b[1;33m)\u001b[0m\u001b[1;33m\u001b[0m\u001b[1;33m\u001b[0m\u001b[0m\n\u001b[0;32m    961\u001b[0m \u001b[1;33m\u001b[0m\u001b[0m\n",
      "\u001b[1;32m~\\AppData\\Local\\Packages\\PythonSoftwareFoundation.Python.3.8_qbz5n2kfra8p0\\LocalCache\\local-packages\\Python38\\site-packages\\pandas\\core\\indexes\\base.py\u001b[0m in \u001b[0;36mget_loc\u001b[1;34m(self, key, method, tolerance)\u001b[0m\n\u001b[0;32m   3080\u001b[0m                 \u001b[1;32mreturn\u001b[0m \u001b[0mself\u001b[0m\u001b[1;33m.\u001b[0m\u001b[0m_engine\u001b[0m\u001b[1;33m.\u001b[0m\u001b[0mget_loc\u001b[0m\u001b[1;33m(\u001b[0m\u001b[0mcasted_key\u001b[0m\u001b[1;33m)\u001b[0m\u001b[1;33m\u001b[0m\u001b[1;33m\u001b[0m\u001b[0m\n\u001b[0;32m   3081\u001b[0m             \u001b[1;32mexcept\u001b[0m \u001b[0mKeyError\u001b[0m \u001b[1;32mas\u001b[0m \u001b[0merr\u001b[0m\u001b[1;33m:\u001b[0m\u001b[1;33m\u001b[0m\u001b[1;33m\u001b[0m\u001b[0m\n\u001b[1;32m-> 3082\u001b[1;33m                 \u001b[1;32mraise\u001b[0m \u001b[0mKeyError\u001b[0m\u001b[1;33m(\u001b[0m\u001b[0mkey\u001b[0m\u001b[1;33m)\u001b[0m \u001b[1;32mfrom\u001b[0m \u001b[0merr\u001b[0m\u001b[1;33m\u001b[0m\u001b[1;33m\u001b[0m\u001b[0m\n\u001b[0m\u001b[0;32m   3083\u001b[0m \u001b[1;33m\u001b[0m\u001b[0m\n\u001b[0;32m   3084\u001b[0m         \u001b[1;32mif\u001b[0m \u001b[0mtolerance\u001b[0m \u001b[1;32mis\u001b[0m \u001b[1;32mnot\u001b[0m \u001b[1;32mNone\u001b[0m\u001b[1;33m:\u001b[0m\u001b[1;33m\u001b[0m\u001b[1;33m\u001b[0m\u001b[0m\n",
      "\u001b[1;31mKeyError\u001b[0m: 'A-pred'"
     ]
    }
   ],
   "source": [
    "accuracy(both_subject_data)"
   ]
  },
  {
   "source": [
    "### * And when both words are not subject"
   ],
   "cell_type": "markdown",
   "metadata": {}
  },
  {
   "cell_type": "code",
   "execution_count": 39,
   "metadata": {},
   "outputs": [],
   "source": [
    "def none_subject(row):\n",
    "    return word_subject(row) == (False, False)"
   ]
  },
  {
   "cell_type": "code",
   "execution_count": 40,
   "metadata": {},
   "outputs": [
    {
     "output_type": "execute_result",
     "data": {
      "text/plain": [
       "285"
      ]
     },
     "metadata": {},
     "execution_count": 40
    }
   ],
   "source": [
    "none_subject_data = subject_data.apply(none_subject, axis=1)\n",
    "none_subject_data = subject_data[none_subject_data]\n",
    "len(none_subject_data)"
   ]
  },
  {
   "cell_type": "code",
   "execution_count": 41,
   "metadata": {},
   "outputs": [
    {
     "output_type": "stream",
     "name": "stdout",
     "text": [
      "She is a loving heart trapped beneath an ugly facade, ignored and unappreciated by those who fail to see beyond what is skin-deep. Bakekang is a woman whose only desire is to feel a little affection from the world that has deprived her of everything she has always longed for. Through \u001b[91mKristal\u001b[0m, \u001b[92mBakekang\u001b[0m will feel the kind of attention \u001b[94mshe\u001b[0m longs for.\n\nCatherine Marshall, the widow of Dr. Peter Marshall when she wrote the book, following up on her best seller ``A Man Called Peter,'' has been quoted as saying the book was about 75% percent historical, although the main characters (the physician) and mountain woman descended from ancient royalty, are fictionalized. While in the book it is implied \u001b[94mshe\u001b[0m ends up with the doctor, the real ``\u001b[92mChristy\u001b[0m,'' \u001b[91mCatherine Marshall\u001b[0m's mother, married a minister.\n\nHer personal best for long jump is 6.55 m set in Bangalore on 5 June 2010 during the second Indian Grand Prix. She became only the fourth Indian woman to cross 6.50 m, joining \u001b[91mAnju Bobby George\u001b[0m (6.83 m), J.J. Shobha (6.66 m), and \u001b[91mPramila Aiyappa\u001b[0m. \u001b[94mShe\u001b[0m won the gold medal for her effort.\n\nAccording to Richard Pankhurst, Adwa derives its name from Adi Awa (or Wa), ``Village of the Awa''; the Awa are an ethnic group mentioned in the anonymous Monumentum Adulitanum that once stood at Adulis. \u001b[92mFrancisco Alvares\u001b[0m records that the Portuguese diplomatic mission passed \u001b[91mAdwa\u001b[0m, which \u001b[94mhe\u001b[0m called ``Houses of St. Michael,'' in August 1520.\n\nAkin was married three times. He married his first wife, \u001b[92mMarinda Cecil\u001b[0m, in 1859; they had three children, but only one daughter, \u001b[91mBettie Jones\u001b[0m, survived to adulthood; \u001b[94mshe\u001b[0m died in 1867.\n\nGallagher's business is shut down by union officials who are now suspicious of him since he has been implicated in Diaz's murder. Local crime boss Malderone, Gallagher's uncle, has him followed, just in case he talks to the government. Teresa Peron (Melinda Dillon), a lifelong friend of Gallagher, tells the reporter that \u001b[92mGallagher\u001b[0m could not have killed \u001b[91mDiaz\u001b[0m because \u001b[94mhe\u001b[0m was taking her out of town for an abortion on that weekend.\n\nShe was nominated for a ``Queen of Teen'' award in 2010. In Running in Heels (2011), she featured a new character, Daisy Davenport. \u001b[92mBailey\u001b[0m also wrote books for younger children, including the \u001b[91mWillow\u001b[0m the Woodsprite series, the Topaz series, and the Felicity Wishes series. In all, \u001b[94mshe\u001b[0m had 22 books of short stories, picture books and young-adult fiction published.\n\nPaula photographs them all with her Polaroid camera. Paula finds a magic marker and they write words on Nick's chest and back like ``pig'' and ``rapist''. They are nearly discovered by a security guard, but he leaves without seeing them. \u001b[92mPaula\u001b[0m eventually confesses to \u001b[91mJulie\u001b[0m that it was \u001b[94mshe\u001b[0m who was raped, not her friend -- which Julie had already guessed.\n\nA special department of state looked after his brood mares and stallions. The magnificence of his plate astonished the French ambassador, and the diamonds of his duchess were the envy of princes. The climax of his elevation occurred when, on the extinction of the line of \u001b[91mKettler\u001b[0m, the estates of Courland, in June 1737, elected \u001b[92mBiron\u001b[0m their reigning duke. \u001b[94mHe\u001b[0m was almost as unpopular in Courland as in Russia, but the will of the empress was the law of the land, and large sums of money, smuggled into Courland in the shape of bills payable in Amsterdam to bearer, speedily convinced the electors.\n\nIt starred Academy Award winners Forest Whitaker and Jennifer Hudson, as well as Academy Award nominee Angela Bassett. Lemmons is also attached to direct the Apartheid-set drama Agaat, based on \u001b[91mMarlene van Niekerk\u001b[0m's novel, in addition to an adaptation of \u001b[91mZadie Smith\u001b[0m's best-selling novel On Beauty. Lemmons explained during an interview that \u001b[94mshe\u001b[0m considered writing to be central to her task as a director:\n\n"
     ]
    }
   ],
   "source": [
    "print_sents(datas={'manual':True, 'data':none_subject_data}, num_lines = 10)"
   ]
  },
  {
   "cell_type": "code",
   "execution_count": 42,
   "metadata": {},
   "outputs": [
    {
     "output_type": "stream",
     "name": "stderr",
     "text": [
      "<ipython-input-42-d76347394a96>:1: SettingWithCopyWarning: \nA value is trying to be set on a copy of a slice from a DataFrame.\nTry using .loc[row_indexer,col_indexer] = value instead\n\nSee the caveats in the documentation: https://pandas.pydata.org/pandas-docs/stable/user_guide/indexing.html#returning-a-view-versus-a-copy\n  none_subject_data['A-pred'] = none_subject_data.apply(lambda row: former_word(row)[0], axis=1)\n<ipython-input-42-d76347394a96>:2: SettingWithCopyWarning: \nA value is trying to be set on a copy of a slice from a DataFrame.\nTry using .loc[row_indexer,col_indexer] = value instead\n\nSee the caveats in the documentation: https://pandas.pydata.org/pandas-docs/stable/user_guide/indexing.html#returning-a-view-versus-a-copy\n  none_subject_data['B-pred'] = none_subject_data.apply(lambda row: former_word(row)[1], axis=1)\n"
     ]
    }
   ],
   "source": [
    "none_subject_data['A-pred'] = none_subject_data.apply(lambda row: former_word(row)[0], axis=1)\n",
    "none_subject_data['B-pred'] = none_subject_data.apply(lambda row: former_word(row)[1], axis=1)"
   ]
  },
  {
   "cell_type": "code",
   "execution_count": 43,
   "metadata": {},
   "outputs": [
    {
     "output_type": "execute_result",
     "data": {
      "text/plain": [
       "0.44912280701754387"
      ]
     },
     "metadata": {},
     "execution_count": 43
    }
   ],
   "source": [
    "accuracy(none_subject_data)"
   ]
  },
  {
   "source": [
    "## 5. When the pronoun is object/possessive pronoun\n",
    "\n",
    "### * And when all words are in different sentence with the pronoun\n",
    "\n",
    "Assume subject words are true, other is false"
   ],
   "cell_type": "markdown",
   "metadata": {}
  }
 ]
}