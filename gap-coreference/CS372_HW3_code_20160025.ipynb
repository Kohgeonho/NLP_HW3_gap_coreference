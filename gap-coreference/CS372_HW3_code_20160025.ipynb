{
 "metadata": {
  "language_info": {
   "codemirror_mode": {
    "name": "ipython",
    "version": 3
   },
   "file_extension": ".py",
   "mimetype": "text/x-python",
   "name": "python",
   "nbconvert_exporter": "python",
   "pygments_lexer": "ipython3",
   "version": "3.8.5"
  },
  "orig_nbformat": 2,
  "kernelspec": {
   "name": "python385jvsc74a57bd08235b21b7e4ccb1a631c75a86bc50b1a38dfb6faace30e871c40999987116d9b",
   "display_name": "Python 3.8.5 64-bit ('base': conda)"
  },
  "metadata": {
   "interpreter": {
    "hash": "38e31c96aac6b52bfd92a03a517d6944ec75782017e4445807e0cb0d41655b05"
   }
  }
 },
 "nbformat": 4,
 "nbformat_minor": 2,
 "cells": [
  {
   "cell_type": "code",
   "execution_count": 6,
   "metadata": {},
   "outputs": [],
   "source": [
    "from helper import *\n",
    "from funcs import *"
   ]
  },
  {
   "source": [
    "**tf.tsv**\n",
    "\n",
    "always predict A-coref as True and B-coref as False"
   ],
   "cell_type": "markdown",
   "metadata": {}
  },
  {
   "cell_type": "code",
   "execution_count": 7,
   "metadata": {},
   "outputs": [],
   "source": [
    "f_test = open(\"gap-test.tsv\", \"r\")\n",
    "result = open(\"tf.tsv\", 'w')\n",
    "test_data = f_test.readlines()\n",
    "\n",
    "for line in test_data[1:]:\n",
    "    attrs = line.split('\\t')\n",
    "    result.write(\"\\t\".join([attrs[0]] + ['True', 'False']) + \"\\n\")\n",
    "\n",
    "f_test.close()\n",
    "result.close()"
   ]
  },
  {
   "cell_type": "code",
   "execution_count": 8,
   "metadata": {},
   "outputs": [
    {
     "output_type": "stream",
     "name": "stdout",
     "text": [
      "gap_scorer.py:126: DeprecationWarning: 'U' mode is deprecated\n",
      "  with open(filename, 'rU') as f:\n",
      "Overall recall: 51.8 precision: 45.9 f1: 48.7\n",
      "\t\ttp 918\tfp 1082\n",
      "\t\tfn 855\ttn 1145\n",
      "Masculine recall: 51.0 precision: 45.3 f1: 48.0\n",
      "\t\ttp 453\tfp 547\n",
      "\t\tfn 436\ttn 564\n",
      "Feminine recall: 52.6 precision: 46.5 f1: 49.4\n",
      "\t\ttp 465\tfp 535\n",
      "\t\tfn 419\ttn 581\n",
      "Bias (F/M): 1.03\n",
      "\n"
     ]
    }
   ],
   "source": [
    "!python gap_scorer.py --gold_ts=gap-test.tsv --system_tsv=tf.tsv"
   ]
  },
  {
   "source": [
    "**closer.tsv**\n",
    "\n",
    "Predict closer coreference to pronoun as True"
   ],
   "cell_type": "markdown",
   "metadata": {}
  },
  {
   "cell_type": "code",
   "execution_count": 9,
   "metadata": {
    "tags": []
   },
   "outputs": [],
   "source": [
    "f_test = open(\"gap-test.tsv\", \"r\")\n",
    "result = open(\"closer.tsv\", 'w')\n",
    "test_data = f_test.readlines()\n",
    "\n",
    "for line in test_data[1:]:\n",
    "    attrs = line.split('\\t')\n",
    "    tf = ['True', 'False']\n",
    "    if abs(int(attrs[3]) - int(attrs[5])) > abs(int(attrs[3]) - int(attrs[8])):\n",
    "        tf = ['False', 'True']\n",
    "\n",
    "    result.write(\"\\t\".join([attrs[0]] + tf) + \"\\n\")\n",
    "\n",
    "f_test.close()\n",
    "result.close()"
   ]
  },
  {
   "cell_type": "code",
   "execution_count": 10,
   "metadata": {},
   "outputs": [
    {
     "output_type": "stream",
     "name": "stdout",
     "text": [
      "gap_scorer.py:126: DeprecationWarning: 'U' mode is deprecated\n",
      "  with open(filename, 'rU') as f:\n",
      "Overall recall: 50.1 precision: 44.4 f1: 47.1\n",
      "\t\ttp 888\tfp 1112\n",
      "\t\tfn 885\ttn 1115\n",
      "Masculine recall: 51.6 precision: 45.9 f1: 48.6\n",
      "\t\ttp 459\tfp 541\n",
      "\t\tfn 430\ttn 570\n",
      "Feminine recall: 48.5 precision: 42.9 f1: 45.5\n",
      "\t\ttp 429\tfp 571\n",
      "\t\tfn 455\ttn 545\n",
      "Bias (F/M): 0.94\n",
      "\n"
     ]
    }
   ],
   "source": [
    "!python gap_scorer.py --gold_ts=gap-test.tsv --system_tsv=closer.tsv"
   ]
  },
  {
   "cell_type": "code",
   "execution_count": 11,
   "metadata": {
    "tags": []
   },
   "outputs": [
    {
     "output_type": "stream",
     "name": "stdout",
     "text": [
      "development-1937 Edward E. Miller, U.S. Representative from Illinois Frosty Peters, American football player Frank Phillips, founder of the Phillips Petroleum Company \u001b[91mAmy Higgins\u001b[0m, screenwriter John JR Robinson (born 1954), one of the most recorded drummers in history \u001b[92mPhyllis Thede\u001b[0m (born 1954), lived here as a child; since 2009 \u001b[94mshe\u001b[0m has served as an Iowa state representative Marcia Wallace (1942--2013), actress\n\ndevelopment-1833 `` Alexander's writing and photo features have been recognized with several awards from the Society of Professional Journalists. Her portraits of Alice Walker and Gloria Steinem were featured on the cover of the Fall 2009 issue of Ms. magazine, commemorating Steinem's 75th birthday. A second portrait of Walker by \u001b[91mAlexander\u001b[0m was the cover photograph of the October 2010 Writer's Digest, and discussed by \u001b[92mWalker\u001b[0m on \u001b[94mher\u001b[0m personal blog.\n\ndevelopment-1765 During the restaurant's 1980s heyday at the top of the Zagat's survey, it was mentioned in Wall Street (1987) by Gordon's call girl when talking to Bud Fox (Charlie Sheen). Mentioned in Crossing Delancey by \u001b[92mIsabelle Grossman\u001b[0m (\u001b[91mAmy Irving\u001b[0m) as the place of \u001b[94mher\u001b[0m intended birthday dinner.\n\ndevelopment-329 He succeeded to his father's lands because his older brother Michael Komnenos had been abducted and imprisoned in Constantinople. After succeeding his father in or shortly before 1289, Constantine ruled Thessaly and Central Greece from Neopatras. He was assisted by his younger brother \u001b[91mTheodore Angelos\u001b[0m, who died c. 1300. Early in \u001b[94mhis\u001b[0m reign, \u001b[92mConstantine\u001b[0m's mother entered into negotiations with the Byzantine Empire and, in exchange for recognizing nominal Byzantine suzerainty, Constantine was invested with the court title of sebastokrat*r.\n\ndevelopment-1739 Alexandra Byrne is a costume designer. \u001b[92mAlexandra Byrne\u001b[0m trained on the Motley Theatre Design Course under \u001b[91mMargaret Harris\u001b[0m before embarking on \u001b[94mher\u001b[0m career as a costume designer in film.\n\ndevelopment-144 When her husband, Henry II, died in 1559, she forced his mistress, Diane de Poitiers, to exchange Ch*teau de Chaumont for Ch*teau de Chenonceau, which Henry had given to de Poitiers. Diane de Poitiers only lived at Chaumont for a short while. In 1594, at the death of \u001b[91mDiane\u001b[0m's granddaughter \u001b[92mCharlotte de la Marck\u001b[0m, the ch*teau passed to \u001b[94mher\u001b[0m husband, Henri de La Tour d'Auvergne, Duke of Bouillon, who sold it to a tax farmer Largentier, who had grown rich on gathering in the salt tax called the gabelle.\n\ndevelopment-1672 ``Come Clean'' is a song recorded by American recording artist Hilary Duff. The song was written by \u001b[91mKara DioGuardi\u001b[0m and John Shanks, and produced by latter for \u001b[92mDuff\u001b[0m's second studio album, Metamorphosis (2003). The song contains influences of electronica, with the lyrics chronicling the protagonist wanting to ``come clean'' with \u001b[94mher\u001b[0m love interest, from a strained relationship.\n\ndevelopment-1176 Donaldson disputed the CWT fuel-air vapor explosion scenario, stating that ``In the history of aviation, there has never been an in-flight explosion in any Boeing airliner of a Jet-A kerosene fuel vapor/air mixture in any tank, caused by mechanical failure.'' Eyewitness, debris field, metallurgical, and victim injury evidence were all cited by Donaldson as proof of the missile-attack scenario. \u001b[92mDonaldson\u001b[0m acknowledged \u001b[91mJames Sanders\u001b[0m' theory of an accidental shoot-down, and did not rule out U.S. Navy involvement; however, \u001b[94mhe\u001b[0m viewed circumstantial evidence of a terrorist attack ``more compelling''.\n\ndevelopment-1067 Gideon stops the impending accident and allows Abbie to cross the street without incident. The next day, the Graingers visit Jack's grandfather, Caleb. He gives the children presents: Cal a Christmas book and Abbie a snow globe of the North Pole. That night Gideon visits Abbie in \u001b[94mher\u001b[0m room only to learn that \u001b[91mGinny\u001b[0m did not mail \u001b[92mAbbie\u001b[0m's letter to Santa Claus.\n\ndevelopment-1181 The new court was moved first to Neuburg, then to Heidelberg, and finally to Mannheim. The D*sseldorf court orchestra was dissolved in the process, but in 1718, many of its musicians were reinstated in the Innsbruck court orchestra headed by Greber. In 1723, after Charles Philip moved \u001b[94mhis\u001b[0m court to Mannheim, \u001b[91mJohann von Wilderer\u001b[0m was appointed to serve jointly with \u001b[91mGreber\u001b[0m as Kapellmeister.\n\n"
     ]
    }
   ],
   "source": [
    "print_sents(random=True)"
   ]
  },
  {
   "cell_type": "code",
   "execution_count": 12,
   "metadata": {},
   "outputs": [],
   "source": [
    "import pandas as pd"
   ]
  },
  {
   "cell_type": "code",
   "execution_count": 13,
   "metadata": {},
   "outputs": [
    {
     "output_type": "stream",
     "name": "stdout",
     "text": [
      "<class 'pandas.core.frame.DataFrame'>\nRangeIndex: 2000 entries, 0 to 1999\nData columns (total 11 columns):\n #   Column          Non-Null Count  Dtype \n---  ------          --------------  ----- \n 0   ID              2000 non-null   object\n 1   Text            2000 non-null   object\n 2   Pronoun         2000 non-null   object\n 3   Pronoun-offset  2000 non-null   int64 \n 4   A               2000 non-null   object\n 5   A-offset        2000 non-null   int64 \n 6   A-coref         2000 non-null   bool  \n 7   B               2000 non-null   object\n 8   B-offset        2000 non-null   int64 \n 9   B-coref         2000 non-null   bool  \n 10  URL             2000 non-null   object\ndtypes: bool(2), int64(3), object(6)\nmemory usage: 144.7+ KB\n"
     ]
    }
   ],
   "source": [
    "train_data = pd.read_csv('gap-development.tsv', sep='\\t')\n",
    "test_data = pd.read_csv('gap-test.tsv', sep='\\t')\n",
    "test_data.info()"
   ]
  },
  {
   "source": [
    "**subject.tsv**\n",
    "\n",
    "Predict farther coreference pronoun as True when pronoun is subject pronoun (he, she).\n",
    "Predict closer coreference pronoun as True when pronoun is not subject pronoun, which is object or possessive pronoun(her, his, him)."
   ],
   "cell_type": "markdown",
   "metadata": {}
  },
  {
   "cell_type": "code",
   "execution_count": 14,
   "metadata": {},
   "outputs": [
    {
     "output_type": "execute_result",
     "data": {
      "text/plain": [
       "{'He', 'Her', 'His', 'She', 'he', 'her', 'him', 'his', 'she'}"
      ]
     },
     "metadata": {},
     "execution_count": 14
    }
   ],
   "source": [
    "pronouns = set(train_data['Pronoun'])\n",
    "pronouns"
   ]
  },
  {
   "cell_type": "code",
   "execution_count": 15,
   "metadata": {
    "tags": []
   },
   "outputs": [],
   "source": [
    "result = open(\"subject.tsv\", 'w')\n",
    "\n",
    "for attrs in test_data.iloc:\n",
    "    pro, pro_id = attrs[2:4]\n",
    "    A, A_id = attrs[4:6]\n",
    "    B, B_id = attrs[7:9]\n",
    "\n",
    "    if pro.lower() in ['he', 'she']:\n",
    "        if abs(pro_id - A_id) > abs(pro_id - B_id):\n",
    "            tf = ['TRUE', 'FALSE']\n",
    "        else:\n",
    "            tf = ['FALSE', 'TRUE']\n",
    "    else:\n",
    "        if abs(pro_id - A_id) > abs(pro_id - B_id):\n",
    "            tf = ['FALSE', 'TRUE']\n",
    "        else:\n",
    "            tf = ['TRUE', 'FALSE']\n",
    "\n",
    "    result.write(\"\\t\".join([attrs[0]] + tf) + \"\\n\")\n",
    "\n",
    "f_test.close()\n",
    "result.close()"
   ]
  },
  {
   "cell_type": "code",
   "execution_count": 16,
   "metadata": {},
   "outputs": [
    {
     "output_type": "stream",
     "name": "stdout",
     "text": [
      "gap_scorer.py:126: DeprecationWarning: 'U' mode is deprecated\n",
      "  with open(filename, 'rU') as f:\n",
      "Overall recall: 58.3 precision: 51.6 f1: 54.8\n",
      "\t\ttp 1033\tfp 967\n",
      "\t\tfn 740\ttn 1260\n",
      "Masculine recall: 59.4 precision: 52.8 f1: 55.9\n",
      "\t\ttp 528\tfp 472\n",
      "\t\tfn 361\ttn 639\n",
      "Feminine recall: 57.1 precision: 50.5 f1: 53.6\n",
      "\t\ttp 505\tfp 495\n",
      "\t\tfn 379\ttn 621\n",
      "Bias (F/M): 0.96\n",
      "\n"
     ]
    }
   ],
   "source": [
    "!python gap_scorer.py --gold_ts=gap-test.tsv --system_tsv=subject.tsv"
   ]
  },
  {
   "cell_type": "code",
   "execution_count": 17,
   "metadata": {},
   "outputs": [
    {
     "output_type": "execute_result",
     "data": {
      "text/plain": [
       "0.1135"
      ]
     },
     "metadata": {},
     "execution_count": 17
    }
   ],
   "source": [
    "false_case = 0\n",
    "for attrs in test_data.iloc:\n",
    "    if attrs[6] == attrs[9]:\n",
    "        false_case += 1\n",
    "\n",
    "false_case/len(test_data)"
   ]
  },
  {
   "source": [
    "# subject.tsv\n",
    "\n",
    "draw a relation between two proper nouns with sentence structure\n",
    "\n",
    "(e.g. Which one is the subject?)"
   ],
   "cell_type": "markdown",
   "metadata": {}
  },
  {
   "cell_type": "code",
   "execution_count": 18,
   "metadata": {},
   "outputs": [],
   "source": [
    "import nltk\n",
    "sent = \"In the next pair, Mikhaylov equalled Grishin's time and they shared Olympic gold.\"\n",
    "tagged_sent = nltk.pos_tag(nltk.word_tokenize(sent))"
   ]
  },
  {
   "source": [
    "Classify train_data into several categories\n",
    "\n",
    "1. When words are inside parenthesis\n",
    "2. When words appear after the pronoun\n",
    " * When the pronoun is subject pronoun\n",
    " * When the pronoun is object/possessive pronoun\n",
    "3. When the both coreferences are false\n",
    "4. When only one word is subject\n",
    "5. When the both words are subject\n",
    "6. When none of the words are subject\n",
    "    "
   ],
   "cell_type": "markdown",
   "metadata": {}
  },
  {
   "cell_type": "code",
   "execution_count": 19,
   "metadata": {},
   "outputs": [],
   "source": [
    "import pandas as pd \n",
    "\n",
    "train_data = pd.read_csv('gap-development.tsv', sep='\\t')"
   ]
  },
  {
   "source": [
    "## 1. When words are inside parenthesis\n",
    "Assume when word is inside parenthesis, coreference is always false"
   ],
   "cell_type": "markdown",
   "metadata": {}
  },
  {
   "cell_type": "code",
   "execution_count": 20,
   "metadata": {
    "tags": []
   },
   "outputs": [],
   "source": [
    "parenthesis_data = []\n",
    "\n",
    "def isparenthesis(row):\n",
    "    sent = row['Text']\n",
    "    A = row['A']\n",
    "    A_id = row['A-offset']\n",
    "    B = row['B']\n",
    "    B_id = row['B-offset']\n",
    "\n",
    "    return (not (sent[A_id-1] == \"(\" and sent[A_id+len(A)] == \")\"),\n",
    "            not (sent[B_id-1] == \"(\" and sent[B_id+len(B)] == \")\"))\n",
    "\n",
    "def only_parenthesis(row):\n",
    "    return sum(isparenthesis(row)) == 1"
   ]
  },
  {
   "cell_type": "code",
   "execution_count": 21,
   "metadata": {},
   "outputs": [],
   "source": [
    "parenthesis_data = pd.DataFrame(parenthesis_data, columns=train_data.columns)"
   ]
  },
  {
   "cell_type": "code",
   "execution_count": 22,
   "metadata": {},
   "outputs": [],
   "source": [
    "print_sents(datas={'manual':True, 'data':parenthesis_data}, num_lines = 10)"
   ]
  },
  {
   "source": [
    "result : 22 out of 31 sentences are predicted correct --> accuracy : 71%"
   ],
   "cell_type": "markdown",
   "metadata": {}
  },
  {
   "source": [
    "## 2. When words appear after the pronoun\n",
    "Assume coreference of words coming after the pronoun is false"
   ],
   "cell_type": "markdown",
   "metadata": {}
  },
  {
   "cell_type": "code",
   "execution_count": 23,
   "metadata": {},
   "outputs": [],
   "source": [
    "after_pronoun = []\n",
    "\n",
    "for row in train_data.iloc:\n",
    "    if row['Pronoun-offset'] < row['A-offset'] or row['Pronoun-offset'] < row['B-offset']:\n",
    "        after_pronoun.append(row)\n",
    "\n",
    "after_pronoun = pd.DataFrame(after_pronoun, columns=train_data.columns)"
   ]
  },
  {
   "cell_type": "code",
   "execution_count": 24,
   "metadata": {},
   "outputs": [],
   "source": [
    "after_subject_pronoun = after_pronoun[after_pronoun['Pronoun'].isin(['he', 'she', 'He', 'She'])]\n",
    "after_other_pronoun = after_pronoun[after_pronoun['Pronoun'].isin(['his', 'her', 'him', 'His', 'Her', 'Him'])]"
   ]
  },
  {
   "cell_type": "code",
   "execution_count": 25,
   "metadata": {},
   "outputs": [
    {
     "output_type": "stream",
     "name": "stdout",
     "text": [
      "development-1581 Jenkins then joined the Reform Party, but Endean was selected as the party's candidate instead. Endean represented the Auckland electorates of Parnell from 1930 to 1938, and then Remuera from 1938 to 1943. When the Reform Party merged with United to form the National Party in 1936, \u001b[92mEndean\u001b[0m became a National Party member. \u001b[94mHe\u001b[0m was controversial within the National Party and in the party's 50-year history written by \u001b[91mBarry Gustafson\u001b[0m, it is remarked that in 1938, there was ``some resistance to the National MP'' in the Remuera electorate.\n\ndevelopment-501 In the prequel comic to Injustice: Gods Among Us, Helena is a member of Batman's insurgency , that combats Superman's One-Earth regime, \u001b[94mshe\u001b[0m was very close to \u001b[91mKate Kane\u001b[0m and \u001b[91mRenee Montoya\u001b[0m , Helena is killed in a battle against Wonder Woman , thus angering Kate and strengthening her resolve to fight the regime.\n\ndevelopment-1840 Livsey eventually cracks under the pressure and insists that she will reveal the truth to anyone other than Jasper Pine. Archie convinces her to accompany him to the brownstone for her protection, where Wolfe summons Cecily Pine by informing her that he knows who the murderer is. When \u001b[94mshe\u001b[0m arrives, \u001b[92mCecily Pine\u001b[0m confirms \u001b[91mWolfe\u001b[0m's suspicions--the murderer was her husband, Jasper Pine.\n\ndevelopment-1869 Her mother gave different ages for Pauline depending on the requirements of the role, leaving her confused about her actual age, which she only learned in 1998. Curley's first motion picture was Tangled Relations (1912). She played one of the children in a movie which starred Florence Lawrence and Owen Moore. For an audition for The Straight Road in 1914, \u001b[92mPauline\u001b[0m was dressed as a boy to land a part as an orphan; a variety of such roles followed, ``cornering the market in orphans and waifs''. In 1915 \u001b[94mshe\u001b[0m played the ingenue \u001b[91mClaudia Frawley\u001b[0m in Life Without Soul, an adaptation of Mary Shelley 's Frankenstein.\n\ndevelopment-336 After the horrific plane crash of Wisteria Lane, the housewives think of their lives different ways. If Susan had stayed married to Karl and gotten fat; Bree imagines if Orson had died and Karl had taken her away; Angie imagines if Mona had survived and told the police everything she knows about the Bolen secret; Gabrielle thinks of Celia's future where \u001b[94mshe\u001b[0m turns up to be an old woman; and \u001b[91mLynette\u001b[0m imagines if Patrick had lived, but learns that Patrick died and \u001b[91mPaige\u001b[0m survived.\n\ndevelopment-1138 She tells him that she will make sure that the baby is never born. Dolores convinces Wesley to go for a drive with her to Tiger Lily Hill, where there is good deep spirit and where answers can be found. Dolores ends up calming him down and tells him that someone will need to be a father. When \u001b[94mshe\u001b[0m returns to the caf*, \u001b[92mDolores\u001b[0m notices that \u001b[91mTessie\u001b[0m, the dog, has been sick all over the yard.\n\ndevelopment-933 Vladimir Anatolievich Khodov (Russian: ******** *********** *****; October 9, 1976 -- September 3, 2004) was one of the six leaders of the hostage-takers in the 2004 Beslan school hostage crisis. Vladimir was born by medical nurse Alexandra Samoshkina the Ukrainian town of Berdyansk. His father is unknown When \u001b[94mhe\u001b[0m was three years old, \u001b[92mVladimir\u001b[0m's mother married a North Ossetian military engineer, \u001b[91mAnatoly Khodov\u001b[0m, and moved to Elkhotovo, 40 km from Beslan, where she worked in the maternity ward of a hospital.\n\ndevelopment-141 Isabel Walker is a twenty-something American film-school dropout who decides to visit her step-sister Roxanne, a poet who now lives in France. Isabel believes that she is there to help Roxanne during her pregnancy with her toddler infant, but later realizes that her father and step-mother sent her there so that Roxanne would help the shiftless Isabel gain some direction in life. Shortly after \u001b[94mshe\u001b[0m arrives, \u001b[92mRoxanne\u001b[0m confides in \u001b[91mIsabel\u001b[0m that her French husband, Claude-Henri has left her.\n\ndevelopment-1105 Vermont's 2008 state general election was held on November 4, 2008 and coincided with the 2008 US Presidential Elections. The state's primary election was held on September 9, 2008. In 2008, the Democrats, in charge of the House, appointed \u001b[92mRichard Westman\u001b[0m, a Republican, to chair the Transportation Committee. When \u001b[94mhe\u001b[0m resigned in 2009 to accept a post elsewhere, the leadership appointed another Republican, \u001b[91mPatrick M. Brennan\u001b[0m to that chair.\n\ndevelopment-498 Maxim Gvinjia ( ) is the current Minister of Foreign Affairs of Abkhazia. Before \u001b[94mhe\u001b[0m was appointed on 26 February 2010 to replace \u001b[91mSergei Shamba\u001b[0m, \u001b[92mGvinjia\u001b[0m had served as Deputy Minister for Foreign Affairs since 1 March 2004.\n\n"
     ]
    }
   ],
   "source": [
    "print_sents(datas={'manual':True, 'data':after_subject_pronoun}, num_lines = 10)"
   ]
  },
  {
   "cell_type": "code",
   "execution_count": 26,
   "metadata": {},
   "outputs": [],
   "source": [
    "def after_pronoun_predict(data):\n",
    "    A_pred = []\n",
    "    B_pred = []\n",
    "    for row in data.iloc:\n",
    "        A_value = False if row['A-offset'] > row['Pronoun-offset'] else True\n",
    "        B_value = False if row['B-offset'] > row['Pronoun-offset'] else True\n",
    "\n",
    "        A_pred.append(A_value)\n",
    "        B_pred.append(B_value)\n",
    "\n",
    "    data['A-pred'] = A_pred\n",
    "    data['B-pred'] = B_pred"
   ]
  },
  {
   "cell_type": "code",
   "execution_count": 27,
   "metadata": {},
   "outputs": [
    {
     "output_type": "stream",
     "name": "stderr",
     "text": [
      "<ipython-input-26-ceb8dec2fe17>:11: SettingWithCopyWarning: \nA value is trying to be set on a copy of a slice from a DataFrame.\nTry using .loc[row_indexer,col_indexer] = value instead\n\nSee the caveats in the documentation: https://pandas.pydata.org/pandas-docs/stable/user_guide/indexing.html#returning-a-view-versus-a-copy\n  data['A-pred'] = A_pred\n<ipython-input-26-ceb8dec2fe17>:12: SettingWithCopyWarning: \nA value is trying to be set on a copy of a slice from a DataFrame.\nTry using .loc[row_indexer,col_indexer] = value instead\n\nSee the caveats in the documentation: https://pandas.pydata.org/pandas-docs/stable/user_guide/indexing.html#returning-a-view-versus-a-copy\n  data['B-pred'] = B_pred\n"
     ]
    }
   ],
   "source": [
    "after_pronoun_predict(after_subject_pronoun)\n",
    "after_pronoun_predict(after_other_pronoun)"
   ]
  },
  {
   "cell_type": "code",
   "execution_count": 28,
   "metadata": {},
   "outputs": [
    {
     "output_type": "stream",
     "name": "stdout",
     "text": [
      "0.411214953271028\n",
      "0.2133676092544987\n"
     ]
    }
   ],
   "source": [
    "print(accuracy(after_subject_pronoun))\n",
    "print(accuracy(after_other_pronoun))"
   ]
  },
  {
   "source": [
    "Result : It doesn't really matter whether a word comes after the pronoun or not"
   ],
   "cell_type": "markdown",
   "metadata": {}
  },
  {
   "source": [
    "## 3. When the both word coreference is false\n",
    "\n",
    "Let's find out what they have in common."
   ],
   "cell_type": "markdown",
   "metadata": {}
  },
  {
   "cell_type": "code",
   "execution_count": 29,
   "metadata": {},
   "outputs": [
    {
     "output_type": "stream",
     "name": "stdout",
     "text": [
      "0.1005\n201\n"
     ]
    }
   ],
   "source": [
    "false_cases = 0\n",
    "for row in train_data.iloc:\n",
    "    if row['A-coref'] == row['B-coref']:\n",
    "        false_cases += 1\n",
    "\n",
    "print(false_cases/len(train_data))\n",
    "print(false_cases)"
   ]
  },
  {
   "source": [
    "There are more than 10 percent of these kind of cases"
   ],
   "cell_type": "markdown",
   "metadata": {}
  },
  {
   "cell_type": "code",
   "execution_count": 30,
   "metadata": {},
   "outputs": [],
   "source": [
    "falses_data = train_data[(train_data['A-coref'] == False) & (train_data['B-coref'] == False)]"
   ]
  },
  {
   "cell_type": "code",
   "execution_count": 31,
   "metadata": {},
   "outputs": [
    {
     "output_type": "stream",
     "name": "stdout",
     "text": [
      "development-1006 Robert Lowth pronounced it 'the best edition of Horace ever yet delivered to the world. ' In 1788 Zeunius incorporated in an edition of Horace all Baxter's and Gesner's notes. \u001b[91mBaxter\u001b[0m's Horace includes abuse of \u001b[91mRichard Bentley\u001b[0m. In 1719 \u001b[94mhe\u001b[0m published his dictionary of British antiquities under the title of Glossarium Antiquitatum Britannicarum, sive Syllabus Etymologicus Antiquitatum Veteris Britanniae atque Iberniae temporibus Romanorum.\n",
      "\n",
      "development-924 Many middle- and back-markers also made significant gains in the first lap, especially Verstappen, who overtook nine cars in the space of two minutes earning the title of ``Driver of the Day''. The early action was however soon neutralised following contact between \u001b[91mP*rez\u001b[0m and Stroll which left Stroll spun out and beached in a gravel trap with a ruined set of tyres. The removal of \u001b[94mhis\u001b[0m car warranted a virtual safety car during which \u001b[91mVettel\u001b[0m pitted for slicks.\n",
      "\n",
      "development-1104 William Fane de Salis was an uncle, Lord Bishop Foster a great-grandfather, and John Francis Charles, 7th Count de Salis-Soglio was a first cousin once removed. His names Charles and Fane were derived from \u001b[94mhis\u001b[0m ancestor \u001b[91mCharles\u001b[0m, 1st \u001b[91mViscount Fane\u001b[0m.\n",
      "\n",
      "development-56 Many guests, both European and native, were invited. On approach of the May Frere at port of Bhavnagar, \u001b[91mColonel Barton\u001b[0m (the political Agent), Major Woodhouse (the Assistant Political Agent) and \u001b[91mDiwan Sahib Samaldas\u001b[0m went in a steam launch and brought the Governor and \u001b[94mhis\u001b[0m party ashore.\n",
      "\n",
      "development-916 Judy Pace appeared in film and TV, appearing in the TV show The Young Lawyers and the film Frogs, and Cleavon Little made nightclub performances plus films afterwards: the most famous role he did was as \u001b[91mBart\u001b[0m in the \u001b[91mMel Brooks\u001b[0m comedy Blazing Saddles. Another person who debuted was Redd Foxx, and \u001b[94mhe\u001b[0m proved that even a veteran night club star up in age can do movies as well, leading him to be considered for the TV Show Sanford and Son.\n",
      "\n",
      "development-1683 She later played in The Little Princess, with Millie James, Lover's Lane on Broadway, with Mary Ryan and had a two-year run with Edwin Arden in Home Folks. She next appeared with Harry Brodribb Irving in \u001b[91mPaola\u001b[0m and \u001b[91mFrancesca\u001b[0m and Midsummer Night's Dream and in vaudeville with Robert Hilliard and William Harcourt as the boy, in Polly of the Circus. \u001b[94mShe\u001b[0m became the ingenue of the Edison Company at the age of 22, and in her short time before the camera made an enviable record for vivacious and appealing comedy.\n",
      "\n",
      "development-942 Publisher Flores Raras published a compilation of poems that Sor Juana dedicated to the virreina entitled ``Un ardiente amor'' (An ardent love) edited by Sergio T*llez-Pon. Dona Maria Luisa also appears as a character in the movie ``Yo, la peor de todas'' (I, the worst of all) by \u001b[91mMaria Luisa Bemberg\u001b[0m and in the fiction ``\u001b[91mJuana Ines\u001b[0m'' aired on Canal Once. Sor Juana presented \u001b[94mher\u001b[0m play ``Los empe*os de una casa'' (The Pawns of a House) for Maria Luisa and her husband, as well as perhaps for Archbishop Francisco de Aguiar y Seijas.\n",
      "\n",
      "development-1753 She hosted Lancaster, California radio station KVVS's show, Maximum Rotation. She has performed all over the world, including, Detroit, Michigan, Cambridge, Singapore, Calgary, Hollywood, Montreal, and Omaha. She has been compared to \u001b[91mKylie Minogue\u001b[0m and \u001b[91mDeborah Harry\u001b[0m. \u001b[94mShe\u001b[0m's also been called Om Records' First Lady of House.\n",
      "\n",
      "development-1920 The film follows the four main characters from the TV series. Cheryl catches her husband cheating on \u001b[94mher\u001b[0m, \u001b[91mAnouk\u001b[0m half-accidentally commits art fraud, \u001b[91mClaire\u001b[0m leaves her fianc* at the altar, and Roelien fights with her family because of her pro-environment views.\n",
      "\n",
      "development-142 Learning the news they return home only to find from Roxanne that Claude-Henri has decided to agree with Roxanne's wishes that the painting be left out of the divorce and instead be willed to their children. The rest of the family is incensed at Roxanne and demand she sell the painting. Shortly after Isabel joins \u001b[94mher\u001b[0m step-mother, Margeeve, \u001b[91mRoxanne\u001b[0m's mother-in-law \u001b[91mSuzanne\u001b[0m and their grandchildren take a trip to Euro Disney where Isabel is accosted by Magda's husband.\n",
      "\n"
     ]
    }
   ],
   "source": [
    "print_sents(datas={'manual':True, 'data':falses_data}, num_lines = 10)"
   ]
  },
  {
   "source": [
    "We can see that there are some patterns in both false sentences\n",
    "\n",
    "1. There is another pronoun appeared before.\n",
    "2. when both word is behind the pronoun, and the subject of the sentence is NNP."
   ],
   "cell_type": "markdown",
   "metadata": {}
  },
  {
   "source": [
    "1. There is another pronoun appeared before"
   ],
   "cell_type": "markdown",
   "metadata": {}
  },
  {
   "cell_type": "code",
   "execution_count": 32,
   "metadata": {},
   "outputs": [],
   "source": [
    "def prior_pronoun(row):\n",
    "    token_dict = tokenized_index(row)\n",
    "\n",
    "    words = token_dict['words']\n",
    "    word_index = token_dict['word_index']\n",
    "\n",
    "    male = ['He', 'His', 'Him', 'he', 'his', 'him']\n",
    "    female = ['She', 'Her', 'she', 'her']\n",
    "\n",
    "    pro_id = word_index[row['Pronoun-offset']]\n",
    "\n",
    "    if row['Pronoun'] in male:\n",
    "        for word in words[:pro_id]:\n",
    "            if word in male:\n",
    "                return True\n",
    "        return False\n",
    "    elif row['Pronoun'] in female:\n",
    "        for word in words[:pro_id]:\n",
    "            if word in female:\n",
    "                return True\n",
    "        return False\n",
    "\n",
    "    else:\n",
    "        print(\"Unexpected pronoun : {}\", row['Pronoun'])"
   ]
  },
  {
   "cell_type": "code",
   "execution_count": 33,
   "metadata": {},
   "outputs": [
    {
     "output_type": "stream",
     "name": "stdout",
     "text": [
      "1141 0.10429447852760736\n"
     ]
    }
   ],
   "source": [
    "prior_pronoun_data = apply_model(train_data, [prior_pronoun], lambda x: (False, False))"
   ]
  },
  {
   "cell_type": "code",
   "execution_count": 34,
   "metadata": {},
   "outputs": [],
   "source": [
    "def another_subject(row):\n",
    "    token_dict = tokenized_index(row)\n",
    "\n",
    "    tagged_sents = token_dict['tagged_sents']\n",
    "    sents = token_dict['sents']\n",
    "    word_index = token_dict['word_index']\n",
    "    sent_index = token_dict['sent_index']\n",
    "\n",
    "    pro_sent_id = sent_index[word_index[row['Pronoun-offset']]]\n",
    "\n",
    "    def first_noun(sent):\n",
    "        for word, tag in sent:\n",
    "            if tag.startswith('NN') or tag.startswith('PR'):\n",
    "                return (word, tag)\n",
    "\n",
    "    word, tag = first_noun(tagged_sents[pro_sent_id])\n",
    "    if tag.startswith('NNP') and not word in [row['A'].split()[0], row['B'].split()[0]]:\n",
    "        return True\n",
    "\n",
    "    return False"
   ]
  },
  {
   "cell_type": "code",
   "execution_count": 35,
   "metadata": {},
   "outputs": [],
   "source": [
    "def both_latter(row):\n",
    "    if row['A-offset'] > row['Pronoun-offset'] and row['B-offset'] > row['Pronoun-offset']:\n",
    "        return True\n",
    "\n",
    "    return False\n",
    "\n",
    "mask = train_data.apply(both_latter, axis=1)\n",
    "both_latter_data = train_data[mask]"
   ]
  },
  {
   "cell_type": "code",
   "execution_count": 36,
   "metadata": {},
   "outputs": [
    {
     "output_type": "stream",
     "name": "stdout",
     "text": [
      "48 0.5833333333333334\n"
     ]
    }
   ],
   "source": [
    "another_subject_data = apply_model(train_data, [both_latter, another_subject], lambda x: (False, False))"
   ]
  },
  {
   "cell_type": "code",
   "execution_count": 37,
   "metadata": {},
   "outputs": [
    {
     "output_type": "stream",
     "name": "stdout",
     "text": [
      "development-1619 St John's Church has special association with the activity of individuals within the South Sea Islander community and Anglican Church whose activities have been significant within the history of the region and state of Queensland, including Bishop George Halford, consecrated as Anglican Bishop of Rockhampton in 1909, who was greatly respected for \u001b[94mhis\u001b[0m long and active support of the South Sea Islander community; and \u001b[91mFrank Solomon\u001b[0m, the South Sea Islander community's \u001b[91mVicar\u001b[0m's representative on the first St John's Mission Church Committee, who dedicated his life to this church.\n\ndevelopment-395 More reliable sources suggest that the ``Santa Cruz'' in actuality refers to the crossroads located in the Meadow of Mudela (so called for its proximity to the pass of Muradal, one of the entrances to the Central Meseta through the Andalusian Plain). On January 30, 1538, Don *lvaro the Elder bought off from Carlos I the towns of Santa Cruz de Mudela and Viso del Puerto (Muradal), under \u001b[94mhis\u001b[0m own terms and along with civil and criminal jurisdiction, for 26,208,626 maraved*es (for comparison, \u001b[91mFerdinand Magellan\u001b[0m's epic voyage around the earth, financed by \u001b[91mCarlos I\u001b[0m in 1518, cost 8,751,125 maravedis).\n\ndevelopment-209 Giggs played in a match for Salford Boys against a United Under-15s side at The Cliff and scored a hat trick, with Ferguson watching from his office window. On 29 November 1987 (\u001b[94mhis\u001b[0m 14th birthday), \u001b[91mFerguson\u001b[0m turned up at \u001b[92mGiggs\u001b[0m's house with United scout Joe Brown and offered him two years on associate schoolboy forms.\n\ndevelopment-431 Since EDS had its own stock, there was an inherent conflict of interest between the companies- an EDS employee working in Detroit at a GM plant was not primarily concerned about GM's performance, but about EDS performance, so they had a blank check to throw money at problems, bill GM, and watch their EDS stock go up. Finally, as Lee quotes Perot - ``GM doesn't honor its contracts'' - Smith had said \u001b[94mhe\u001b[0m would not interfere with \u001b[91mPerot\u001b[0m, but the relationship fractured from the start, with conflicts over promised compensation to EDS executives being rejected by \u001b[92mSmith\u001b[0m, who also sent auditors to EDS to irritate Perot.\n\ndevelopment-392 Moore's work was commented on by Byron's close friend, John Hobhouse, who noted that ``Moore had not the remotest guess at the real reason which induced Lord B. at that time to prefer having no Englishman immediately or constantly near him.'' Regardless of Moore's bias against the lower class and Byron's spending time with other boys during \u001b[94mhis\u001b[0m times in Greece, \u001b[92mByron\u001b[0m was close to \u001b[91mGiraud\u001b[0m while the two were together.\n\n"
     ]
    }
   ],
   "source": [
    "print_sents(datas={'manual':True, 'data':another_subject_data}, num_lines = 5)"
   ]
  },
  {
   "source": [
    "## 4. When only one word is subject\n",
    "Assume that subject word is always true, and other word is always false"
   ],
   "cell_type": "markdown",
   "metadata": {}
  },
  {
   "cell_type": "code",
   "execution_count": 38,
   "metadata": {},
   "outputs": [
    {
     "output_type": "stream",
     "name": "stdout",
     "text": [
      "801\n1199\n"
     ]
    }
   ],
   "source": [
    "subject_data = train_data[train_data['Pronoun'].isin(['he', 'she', 'He', 'She'])]\n",
    "other_data = train_data[train_data['Pronoun'].isin(['his', 'him', 'her', 'His', 'Him', 'Her'])]\n",
    "print(len(subject_data))\n",
    "print(len(other_data))"
   ]
  },
  {
   "cell_type": "code",
   "execution_count": 39,
   "metadata": {},
   "outputs": [
    {
     "output_type": "stream",
     "name": "stderr",
     "text": [
      "100%|██████████| 9/9 [01:23<00:00,  9.27s/it]\n"
     ]
    },
    {
     "output_type": "execute_result",
     "data": {
      "text/plain": [
       "  Pronoun  Length  Accuracy0\n",
       "0      He      87   0.885057\n",
       "1     She     115   0.921739\n",
       "2     His      18   0.777778\n",
       "3     Her      19   0.736842\n",
       "4      he     139   0.791367\n",
       "5     she     147   0.768707\n",
       "6     his     306   0.767974\n",
       "7     him      58   0.431034\n",
       "8     her     270   0.648148\n",
       "9   total    1159   0.749784"
      ],
      "text/html": "<div>\n<style scoped>\n    .dataframe tbody tr th:only-of-type {\n        vertical-align: middle;\n    }\n\n    .dataframe tbody tr th {\n        vertical-align: top;\n    }\n\n    .dataframe thead th {\n        text-align: right;\n    }\n</style>\n<table border=\"1\" class=\"dataframe\">\n  <thead>\n    <tr style=\"text-align: right;\">\n      <th></th>\n      <th>Pronoun</th>\n      <th>Length</th>\n      <th>Accuracy0</th>\n    </tr>\n  </thead>\n  <tbody>\n    <tr>\n      <th>0</th>\n      <td>He</td>\n      <td>87</td>\n      <td>0.885057</td>\n    </tr>\n    <tr>\n      <th>1</th>\n      <td>She</td>\n      <td>115</td>\n      <td>0.921739</td>\n    </tr>\n    <tr>\n      <th>2</th>\n      <td>His</td>\n      <td>18</td>\n      <td>0.777778</td>\n    </tr>\n    <tr>\n      <th>3</th>\n      <td>Her</td>\n      <td>19</td>\n      <td>0.736842</td>\n    </tr>\n    <tr>\n      <th>4</th>\n      <td>he</td>\n      <td>139</td>\n      <td>0.791367</td>\n    </tr>\n    <tr>\n      <th>5</th>\n      <td>she</td>\n      <td>147</td>\n      <td>0.768707</td>\n    </tr>\n    <tr>\n      <th>6</th>\n      <td>his</td>\n      <td>306</td>\n      <td>0.767974</td>\n    </tr>\n    <tr>\n      <th>7</th>\n      <td>him</td>\n      <td>58</td>\n      <td>0.431034</td>\n    </tr>\n    <tr>\n      <th>8</th>\n      <td>her</td>\n      <td>270</td>\n      <td>0.648148</td>\n    </tr>\n    <tr>\n      <th>9</th>\n      <td>total</td>\n      <td>1159</td>\n      <td>0.749784</td>\n    </tr>\n  </tbody>\n</table>\n</div>"
     },
     "metadata": {},
     "execution_count": 39
    }
   ],
   "source": [
    "overall_analysis(train_data, [only_subject], [word_subject])"
   ]
  },
  {
   "source": [
    "## 5. When both words are subject\n",
    "Assume that latter word is True, while the other is False"
   ],
   "cell_type": "markdown",
   "metadata": {}
  },
  {
   "cell_type": "code",
   "execution_count": 40,
   "metadata": {},
   "outputs": [
    {
     "output_type": "execute_result",
     "data": {
      "text/plain": [
       "202"
      ]
     },
     "metadata": {},
     "execution_count": 40
    }
   ],
   "source": [
    "both_subject_data = train_data.apply(both_subject, axis=1)\n",
    "both_subject_data = train_data[both_subject_data]\n",
    "len(both_subject_data)"
   ]
  },
  {
   "cell_type": "code",
   "execution_count": 41,
   "metadata": {
    "tags": []
   },
   "outputs": [
    {
     "output_type": "stream",
     "name": "stdout",
     "text": [
      "development-1428 Dudley's son, John H. Dean, also played football for Harvard and was captain of the 1933 team. Dudley became friends with Joseph P. Kennedy as the two men spent summers together in Cohasset, Massachusetts. In 1922, \u001b[92mDudley\u001b[0m led an unsuccessful campaign to have \u001b[91mKennedy\u001b[0m admitted to the Cohasset Golf Club, and several of \u001b[94mhis\u001b[0m letters lobbying for Kennedy's admission were published in the book, The Fitzgeralds and the Kennedys, by Doris Kearns Goodwin.\n\ndevelopment-1934 Whilst Lynette Porter thought that Gwen became a ``fallen woman'' through her affair with Owen, she observed that this made Gwen's role in relation to Jack in ``End of Days'', analogous to that of Mary Magdalene to Jesus, reinforcing a prevalent biblical subtext. \u001b[91mGwen\u001b[0m keeps a vigil at Jack's ``Torchwood tomb'' and like \u001b[92mMagdalene\u001b[0m is rewarded for \u001b[94mher\u001b[0m loyalty by being the first to lay eyes upon the risen saviour.\n\ndevelopment-1090 Just 2 months later at the Winston 500 at Talladega, racing to the checkered flag, Rusty was clipped by Dale Earnhardt, and flew into the air before violently flipping past the start-finish line, resulting in a broken wrist. \u001b[91mEarnhardt\u001b[0m was visibly shaken by the incident and did make sure \u001b[92mWallace\u001b[0m was okay by checking on \u001b[94mhim\u001b[0m after the race had concluded.\n\ndevelopment-1793 Meanwhile, Mary, having learned about Magicaloid's death, goes to confront Alice, quickly discovering she has powerful strength and regenerative abilities. Despite using various methods to try and kill her, \u001b[91mMary\u001b[0m finds that \u001b[92mAlice\u001b[0m has still somehow managed to survive following Fav's report. Later, Snow White once again comes across Alice, who reveals \u001b[94mshe\u001b[0m wanted her to have the Rabbit's Foot, while Winterprison and Nana go to meet with Swim Swim's group.\n\ndevelopment-1269 Going into the season, manager Rogers Hornsby was optimistic that they would have a better club with more power overall, citing Landrith as one of the new players that could help the 1953 Reds be a success. Hornsby made it clear that veteran \u001b[91mAndy Seminick\u001b[0m would be the number one catcher on the depth chart for the Reds, but also said that \u001b[92mLandrith\u001b[0m would get a ``good look'' after witnessing \u001b[94mhis\u001b[0m performance with the Reds at the end of the 1952 season, praising that he liked his ``hustle.''\n\ndevelopment-1430 Afraid that no one would believe her, Rita remained silent and she and Ed were married. A few months later, Roger also raped Holly and Rita became overcome with guilt at having not come forward herself. \u001b[91mHolly\u001b[0m did press charges, and when it looked like Roger would be acquitted, \u001b[92mRita\u001b[0m finally revealed that Roger had raped \u001b[94mher\u001b[0m too.\n\ndevelopment-1221 Ellen gets off on the wrong foot with her new neighbors, the Patels, an immigrant couple from India, when a variety of circumstances conspire to make Ellen look like a fool in front of them. After an accident, Spence imagines a parallel Earth in which gays are the norm. Spence rejects Joe's advances because he's straight. \u001b[92mEllen\u001b[0m goes to the hospital after getting the news \u001b[91mLaurie\u001b[0m was in an accident. There, \u001b[94mshe\u001b[0m meets Laurie's ex, Karen (Anne Heche).\n\ndevelopment-1199 Upon confronting him, she realizes that the man (Philippe Nicaud) is not Lalemand, and she leaves soon afterwards to return to his residence. There, she finds out that the real Lalemand is an acquaintance to Flor*s and Daisy, who have given a false statement when Lalemand was still a suspect. \u001b[91mVirginie\u001b[0m is told that \u001b[92mAnita\u001b[0m was Lelemand's father's mistress and that \u001b[94mshe\u001b[0m had permission to profit from Lelemand's $50 million inheritance while she was still alive.\n\ndevelopment-1651 Its follow-up, ``I Don't Need No Doctor'' was also a hit, and the trio of writers also had success with songs for Chuck Jackson, Maxine Brown and Tina Britt. After Ashford and \u001b[91mSimpson\u001b[0m joined Motown, \u001b[92mArmstead\u001b[0m moved to Chicago in 1967 with \u001b[94mher\u001b[0m husband, record producer Mel Collins, and formed Giant Productions.\n\ndevelopment-1854 Immediately hitting the blackjack tables, he begins to blow all his money, resulting in them breaking off in their own directions. While he tries to regain his money through the help of his cousin-in-law, Eddie, \u001b[91mEllen\u001b[0m becomes infatuated with Wayne Newton as Rusty wins big at the dice tables and \u001b[92mAudrey\u001b[0m turns to go-go dancing with \u001b[94mher\u001b[0m cousin, Vicki.\n\n"
     ]
    }
   ],
   "source": [
    "print_sents(datas={'manual':True, 'data':both_subject_data}, num_lines = 10)"
   ]
  },
  {
   "cell_type": "code",
   "execution_count": 42,
   "metadata": {},
   "outputs": [
    {
     "output_type": "stream",
     "name": "stderr",
     "text": [
      "100%|██████████| 9/9 [00:29<00:00,  3.24s/it]\n"
     ]
    },
    {
     "output_type": "execute_result",
     "data": {
      "text/plain": [
       "  Pronoun  Length  Accuracy0  Accuracy1  Accuracy2  Accuracy3\n",
       "0      He      10   0.500000   0.400000   0.500000   0.400000\n",
       "1     She      14   0.571429   0.428571   0.500000   0.500000\n",
       "2     His       4   0.750000   0.250000   0.750000   0.250000\n",
       "3     Her       0   0.000000   0.000000   0.000000   0.000000\n",
       "4      he      18   0.833333   0.055556   0.833333   0.055556\n",
       "5     she      25   0.640000   0.200000   0.640000   0.200000\n",
       "6     his      42   0.690476   0.261905   0.690476   0.261905\n",
       "7     him      22   0.181818   0.681818   0.181818   0.681818\n",
       "8     her      67   0.597015   0.358209   0.611940   0.343284\n",
       "9   total     202   0.594059   0.331683   0.594059   0.331683"
      ],
      "text/html": "<div>\n<style scoped>\n    .dataframe tbody tr th:only-of-type {\n        vertical-align: middle;\n    }\n\n    .dataframe tbody tr th {\n        vertical-align: top;\n    }\n\n    .dataframe thead th {\n        text-align: right;\n    }\n</style>\n<table border=\"1\" class=\"dataframe\">\n  <thead>\n    <tr style=\"text-align: right;\">\n      <th></th>\n      <th>Pronoun</th>\n      <th>Length</th>\n      <th>Accuracy0</th>\n      <th>Accuracy1</th>\n      <th>Accuracy2</th>\n      <th>Accuracy3</th>\n    </tr>\n  </thead>\n  <tbody>\n    <tr>\n      <th>0</th>\n      <td>He</td>\n      <td>10</td>\n      <td>0.500000</td>\n      <td>0.400000</td>\n      <td>0.500000</td>\n      <td>0.400000</td>\n    </tr>\n    <tr>\n      <th>1</th>\n      <td>She</td>\n      <td>14</td>\n      <td>0.571429</td>\n      <td>0.428571</td>\n      <td>0.500000</td>\n      <td>0.500000</td>\n    </tr>\n    <tr>\n      <th>2</th>\n      <td>His</td>\n      <td>4</td>\n      <td>0.750000</td>\n      <td>0.250000</td>\n      <td>0.750000</td>\n      <td>0.250000</td>\n    </tr>\n    <tr>\n      <th>3</th>\n      <td>Her</td>\n      <td>0</td>\n      <td>0.000000</td>\n      <td>0.000000</td>\n      <td>0.000000</td>\n      <td>0.000000</td>\n    </tr>\n    <tr>\n      <th>4</th>\n      <td>he</td>\n      <td>18</td>\n      <td>0.833333</td>\n      <td>0.055556</td>\n      <td>0.833333</td>\n      <td>0.055556</td>\n    </tr>\n    <tr>\n      <th>5</th>\n      <td>she</td>\n      <td>25</td>\n      <td>0.640000</td>\n      <td>0.200000</td>\n      <td>0.640000</td>\n      <td>0.200000</td>\n    </tr>\n    <tr>\n      <th>6</th>\n      <td>his</td>\n      <td>42</td>\n      <td>0.690476</td>\n      <td>0.261905</td>\n      <td>0.690476</td>\n      <td>0.261905</td>\n    </tr>\n    <tr>\n      <th>7</th>\n      <td>him</td>\n      <td>22</td>\n      <td>0.181818</td>\n      <td>0.681818</td>\n      <td>0.181818</td>\n      <td>0.681818</td>\n    </tr>\n    <tr>\n      <th>8</th>\n      <td>her</td>\n      <td>67</td>\n      <td>0.597015</td>\n      <td>0.358209</td>\n      <td>0.611940</td>\n      <td>0.343284</td>\n    </tr>\n    <tr>\n      <th>9</th>\n      <td>total</td>\n      <td>202</td>\n      <td>0.594059</td>\n      <td>0.331683</td>\n      <td>0.594059</td>\n      <td>0.331683</td>\n    </tr>\n  </tbody>\n</table>\n</div>"
     },
     "metadata": {},
     "execution_count": 42
    }
   ],
   "source": [
    "overall_analysis(train_data, [both_subject], [latter_word, former_word, closer_word, farther_word])"
   ]
  },
  {
   "source": [
    "## 6. When both words are not subject\n"
   ],
   "cell_type": "markdown",
   "metadata": {}
  },
  {
   "cell_type": "code",
   "execution_count": 43,
   "metadata": {},
   "outputs": [
    {
     "output_type": "execute_result",
     "data": {
      "text/plain": [
       "639"
      ]
     },
     "metadata": {},
     "execution_count": 43
    }
   ],
   "source": [
    "none_subject_data = train_data.apply(none_subject, axis=1)\n",
    "none_subject_data = train_data[none_subject_data]\n",
    "len(none_subject_data)"
   ]
  },
  {
   "cell_type": "code",
   "execution_count": 44,
   "metadata": {},
   "outputs": [
    {
     "output_type": "stream",
     "name": "stderr",
     "text": [
      "100%|██████████| 9/9 [00:39<00:00,  4.40s/it]\n"
     ]
    },
    {
     "output_type": "execute_result",
     "data": {
      "text/plain": [
       "  Pronoun  Length  Accuracy0  Accuracy1  Accuracy2  Accuracy3\n",
       "0      He      41   0.390244   0.463415   0.439024   0.414634\n",
       "1     She      50   0.280000   0.420000   0.240000   0.460000\n",
       "2     His      11   0.181818   0.454545   0.181818   0.454545\n",
       "3     Her      19   0.368421   0.368421   0.368421   0.368421\n",
       "4      he      78   0.423077   0.371795   0.423077   0.371795\n",
       "5     she      77   0.337662   0.402597   0.324675   0.415584\n",
       "6     his     148   0.452703   0.290541   0.506757   0.236486\n",
       "7     him      18   0.555556   0.222222   0.555556   0.222222\n",
       "8     her     197   0.502538   0.319797   0.507614   0.314721\n",
       "9   total     639   0.428795   0.347418   0.441315   0.334898"
      ],
      "text/html": "<div>\n<style scoped>\n    .dataframe tbody tr th:only-of-type {\n        vertical-align: middle;\n    }\n\n    .dataframe tbody tr th {\n        vertical-align: top;\n    }\n\n    .dataframe thead th {\n        text-align: right;\n    }\n</style>\n<table border=\"1\" class=\"dataframe\">\n  <thead>\n    <tr style=\"text-align: right;\">\n      <th></th>\n      <th>Pronoun</th>\n      <th>Length</th>\n      <th>Accuracy0</th>\n      <th>Accuracy1</th>\n      <th>Accuracy2</th>\n      <th>Accuracy3</th>\n    </tr>\n  </thead>\n  <tbody>\n    <tr>\n      <th>0</th>\n      <td>He</td>\n      <td>41</td>\n      <td>0.390244</td>\n      <td>0.463415</td>\n      <td>0.439024</td>\n      <td>0.414634</td>\n    </tr>\n    <tr>\n      <th>1</th>\n      <td>She</td>\n      <td>50</td>\n      <td>0.280000</td>\n      <td>0.420000</td>\n      <td>0.240000</td>\n      <td>0.460000</td>\n    </tr>\n    <tr>\n      <th>2</th>\n      <td>His</td>\n      <td>11</td>\n      <td>0.181818</td>\n      <td>0.454545</td>\n      <td>0.181818</td>\n      <td>0.454545</td>\n    </tr>\n    <tr>\n      <th>3</th>\n      <td>Her</td>\n      <td>19</td>\n      <td>0.368421</td>\n      <td>0.368421</td>\n      <td>0.368421</td>\n      <td>0.368421</td>\n    </tr>\n    <tr>\n      <th>4</th>\n      <td>he</td>\n      <td>78</td>\n      <td>0.423077</td>\n      <td>0.371795</td>\n      <td>0.423077</td>\n      <td>0.371795</td>\n    </tr>\n    <tr>\n      <th>5</th>\n      <td>she</td>\n      <td>77</td>\n      <td>0.337662</td>\n      <td>0.402597</td>\n      <td>0.324675</td>\n      <td>0.415584</td>\n    </tr>\n    <tr>\n      <th>6</th>\n      <td>his</td>\n      <td>148</td>\n      <td>0.452703</td>\n      <td>0.290541</td>\n      <td>0.506757</td>\n      <td>0.236486</td>\n    </tr>\n    <tr>\n      <th>7</th>\n      <td>him</td>\n      <td>18</td>\n      <td>0.555556</td>\n      <td>0.222222</td>\n      <td>0.555556</td>\n      <td>0.222222</td>\n    </tr>\n    <tr>\n      <th>8</th>\n      <td>her</td>\n      <td>197</td>\n      <td>0.502538</td>\n      <td>0.319797</td>\n      <td>0.507614</td>\n      <td>0.314721</td>\n    </tr>\n    <tr>\n      <th>9</th>\n      <td>total</td>\n      <td>639</td>\n      <td>0.428795</td>\n      <td>0.347418</td>\n      <td>0.441315</td>\n      <td>0.334898</td>\n    </tr>\n  </tbody>\n</table>\n</div>"
     },
     "metadata": {},
     "execution_count": 44
    }
   ],
   "source": [
    "overall_analysis(train_data, [none_subject], [latter_word, former_word, closer_word, farther_word])"
   ]
  },
  {
   "cell_type": "code",
   "execution_count": 45,
   "metadata": {},
   "outputs": [
    {
     "output_type": "stream",
     "name": "stderr",
     "text": [
      "100%|██████████| 9/9 [00:42<00:00,  4.74s/it]\n"
     ]
    },
    {
     "output_type": "execute_result",
     "data": {
      "text/plain": [
       "  Pronoun  Length  Accuracy0\n",
       "0      He       0   0.000000\n",
       "1     She       0   0.000000\n",
       "2     His       0   0.000000\n",
       "3     Her       0   0.000000\n",
       "4      he       2   0.500000\n",
       "5     she       2   1.000000\n",
       "6     his      13   0.692308\n",
       "7     him       0   0.000000\n",
       "8     her       4   0.750000\n",
       "9   total      21   0.714286"
      ],
      "text/html": "<div>\n<style scoped>\n    .dataframe tbody tr th:only-of-type {\n        vertical-align: middle;\n    }\n\n    .dataframe tbody tr th {\n        vertical-align: top;\n    }\n\n    .dataframe thead th {\n        text-align: right;\n    }\n</style>\n<table border=\"1\" class=\"dataframe\">\n  <thead>\n    <tr style=\"text-align: right;\">\n      <th></th>\n      <th>Pronoun</th>\n      <th>Length</th>\n      <th>Accuracy0</th>\n    </tr>\n  </thead>\n  <tbody>\n    <tr>\n      <th>0</th>\n      <td>He</td>\n      <td>0</td>\n      <td>0.000000</td>\n    </tr>\n    <tr>\n      <th>1</th>\n      <td>She</td>\n      <td>0</td>\n      <td>0.000000</td>\n    </tr>\n    <tr>\n      <th>2</th>\n      <td>His</td>\n      <td>0</td>\n      <td>0.000000</td>\n    </tr>\n    <tr>\n      <th>3</th>\n      <td>Her</td>\n      <td>0</td>\n      <td>0.000000</td>\n    </tr>\n    <tr>\n      <th>4</th>\n      <td>he</td>\n      <td>2</td>\n      <td>0.500000</td>\n    </tr>\n    <tr>\n      <th>5</th>\n      <td>she</td>\n      <td>2</td>\n      <td>1.000000</td>\n    </tr>\n    <tr>\n      <th>6</th>\n      <td>his</td>\n      <td>13</td>\n      <td>0.692308</td>\n    </tr>\n    <tr>\n      <th>7</th>\n      <td>him</td>\n      <td>0</td>\n      <td>0.000000</td>\n    </tr>\n    <tr>\n      <th>8</th>\n      <td>her</td>\n      <td>4</td>\n      <td>0.750000</td>\n    </tr>\n    <tr>\n      <th>9</th>\n      <td>total</td>\n      <td>21</td>\n      <td>0.714286</td>\n    </tr>\n  </tbody>\n</table>\n</div>"
     },
     "metadata": {},
     "execution_count": 45
    }
   ],
   "source": [
    "overall_analysis(train_data, [none_subject, both_latter, another_subject], [lambda x: (False, False)])"
   ]
  },
  {
   "cell_type": "code",
   "execution_count": 86,
   "metadata": {},
   "outputs": [
    {
     "output_type": "stream",
     "name": "stdout",
     "text": [
      "development-156 Homer's epics stand at the beginning of the western canon of literature, exerting enormous influence on the history of fiction and literature in general. Alexander the Great (356BC-323BC) was a Greek king of Macedon and the creator of one of the largest empires in ancient history. \u001b[94mHe\u001b[0m was tutored by the philosopher \u001b[91mAristotle\u001b[0m and, as ruler, broke the power of Persia, overthrew the Persian king \u001b[91mDarius III\u001b[0m and conquered the Persian Empire.\n\ndevelopment-291 Llewellyn failed to take a wicket in this first Test and was promptly omitted from the remainder of the series but responded by performing impressively in the 1897--98 and 1898--99 Currie Cups, which led to his recall to the national team for the first Test of the 1898--99 series against England. Llewellyn impressed by taking five wickets but was surprisingly left out of the second Test. At the end of the 1898--99 series \u001b[91mLlewellyn\u001b[0m, perturbed by the actions of the selectors and seeking financial security, left South Africa to play for English county side Hampshire County Cricket Club as a professional, on the recommendation of South African team-mate Major \u001b[92mRobert Poore\u001b[0m, an ex-Hampshire cricketer on military assignment. \u001b[94mHe\u001b[0m would star for Hampshire for over a decade, scoring 8772 runs at 27.58 and snaring 711 wickets at 24.66.\n\ndevelopment-234 He died just over two months after arriving. Charismatic was a chestnut horse with four white stockings on his legs and a white stripe on his forehead. He was bred under a foal-sharing arrangement between \u001b[91mWilliam S. Farish\u001b[0m and the Parrish Hill Farm of Dr. Ben and \u001b[91mTom Roach\u001b[0m. \u001b[94mHis\u001b[0m sire was Summer Squall, who had won the 1990 Preakness Stakes.\n\ndevelopment-47 The Movie was either opening or closing night at more than half of those festivals. Director Dyanna Taylor's film about her grandmother, the photographer \u001b[91mDorothea Lange\u001b[0m, Grab a Hunk of Lightning, aired on PBS's ``American Masters'' in 2014 and was produced by \u001b[91mGrossman\u001b[0m. \u001b[94mShe\u001b[0m directed Above and Beyond (2015) for producer Nancy Spielberg.\n\ndevelopment-1737 She was the inspiration for Sophie, the main character in her maternal grandfather's book The BFG. Dahl attended Bedales School, and was discovered by Isabella Blow, a Vogue stylist. Blow referred \u001b[92mDahl\u001b[0m to \u001b[91mSarah Doukas\u001b[0m of the Storm Model Agency in London. \u001b[94mShe\u001b[0m was able to succeed as a model in the 'mainstream' market, despite being heavy enough to be considered a 'Plus-size' model .\n\ndevelopment-1348 The historical context of creating a grotto in the Vatican Gardens is that on 8 December 1854 the dogma of the Immaculate Conception was proclaimed by Pope Pius IX at a column of the Piazza di Spagna adorned with a statue of the Madonna or Virgin Mary. The context of the dogma was further accentuated by the visionary message given by the \u001b[91mMadonna\u001b[0m to \u001b[92mBernadette Soubirous\u001b[0m, a young girl of 14, that ``\u001b[94mShe\u001b[0m'' was the ``Immaculate Conception'' and that a shrine should be established for her at Massabielle near Lourdes.\n\ndevelopment-49 Alice (19), Kathleen Mary (12), Gertrude (10) and Mabel (7). In the 1901 census Allen was living at Fox Lane in Leyland with his 2nd wife \u001b[92mMargaret\u001b[0m (Whittle), daughter of James Whittle, a coachman, & \u001b[91mAnn Mills\u001b[0m, whom he had married in 1900. \u001b[94mShe\u001b[0m was some 18 years his junior.\n\ndevelopment-1313 Since leaving the RCM in the late 1940s Anna has been a member of numerous chamber music ensembles including a string trio with Elisabeth Watson (viola), Georgian String Quartet, Leonardo Trio (first with David Roth, later with Maureen Smith, violin and with Ian Brown, piano), London Harpsichord Ensemble, Glickman Trio and Aulos Ensemble. When in London she knew \u001b[91mSylvia Cleaver\u001b[0m who in 1964 asked \u001b[92mAnna\u001b[0m to become the principal cellist of the Midland Sinfonia Orchestra (later renamed the English Sinfonia). \u001b[94mShe\u001b[0m held this post until she retired from the orchestra in 1996.\n\ndevelopment-1248 Susan Batson is an American producer, actress, author, acting coach, and a life member of the Actors Studio. \u001b[91mSusan\u001b[0m's mother, \u001b[92mRuth Batson\u001b[0m, was a noted civil rights activist. \u001b[94mShe\u001b[0m trained with Harold Clurman, Uta Hagen, Herbert Berghof, and Lee Strasberg.\n\ndevelopment-1894 The Sunday Times writes: ``The show belongs to Kurup's Reno, a cool wisecracking customer and a hot gospel singer: the evening builds to the euphoric release of her show stopper, ''Blow, Gabriel Blow``. '' \u001b[91mSusannah Clapp\u001b[0m of The Guardian wrote: ``\u001b[92mKurup\u001b[0m, is the star - and a gloriously varied one. \u001b[94mShe\u001b[0m belts out her numbers (she has all the biggest) and soars.\n\n"
     ]
    }
   ],
   "source": [
    "print_sents(datas={'manual':True, 'data':none_subject_data[none_subject_data.apply(lambda row: row['Pronoun'] in ['He','She','His','Her'], axis=1)]}, num_lines = 10)"
   ]
  },
  {
   "source": [
    "1. when two words are close to each other, referred words are more likely to be coreferred word.\n",
    "\n",
    " * {True word} (,?) and {Pronoun}\n"
   ],
   "cell_type": "markdown",
   "metadata": {}
  },
  {
   "cell_type": "code",
   "execution_count": 47,
   "metadata": {},
   "outputs": [],
   "source": [
    "def CC_pronoun(row):\n",
    "    token_dict = tokenized_index(row)\n",
    "\n",
    "    tagged_words = token_dict['tagged_words']\n",
    "    word_index = token_dict['word_index']\n",
    "\n",
    "    pro_index = word_index[row['Pronoun-offset']]\n",
    "    A_index = word_index[row['A-offset']]\n",
    "    B_index = word_index[row['B-offset']]\n",
    "\n",
    "    def coref(index):\n",
    "        if index+5 >= len(tagged_words):\n",
    "            return False\n",
    "        return (tagged_words[index+1][1] == 'CC' and pro_index == index + 2) or \\\n",
    "               (tagged_words[index+2][1] == 'CC' and pro_index == index + 3)\n",
    "\n",
    "    return coref(A_index), coref(B_index)\n",
    "\n",
    "def exist_CC_pronoun(row):\n",
    "    return sum(CC_pronoun(row)) == 1"
   ]
  },
  {
   "cell_type": "code",
   "execution_count": 48,
   "metadata": {},
   "outputs": [
    {
     "output_type": "stream",
     "name": "stdout",
     "text": [
      "15 0.9333333333333333\n"
     ]
    },
    {
     "output_type": "execute_result",
     "data": {
      "text/plain": [
       "                    ID                                               Text  \\\n",
       "478    development-479  Sarah Wadsworth (17 Mar 1649 - ) m. Jonathan A...   \n",
       "535    development-536  The orchestra moved on to the Mound Club in St...   \n",
       "607    development-608  Little Fish is a 2005 Australian film directed...   \n",
       "633    development-634  The royalties from the performances of the wor...   \n",
       "694    development-695  They moved to Go**bki near Warsaw with their t...   \n",
       "756    development-757  Immediately after Blackwood's penalty, wide re...   \n",
       "778    development-779  Not only was it the first scholarly edition of...   \n",
       "1212  development-1213  Truth or Dare by Madonna is a lifestyle brand ...   \n",
       "1320  development-1321  However, Archie Mitchell uses Suzy to plant DN...   \n",
       "1468  development-1469  He declared that if James were dead, he would ...   \n",
       "1511  development-1512  He is a well known expert, consultant and auth...   \n",
       "1873  development-1874  The novel is set in Bath, Somerset and centres...   \n",
       "1902  development-1903  William A. Tudor (born 1964) and ex- wife Moni...   \n",
       "1976  development-1977  ``Don't Cry Your Heart Out'' was radio-friendl...   \n",
       "1981  development-1982  The Season Nine DVD contains a number of delet...   \n",
       "\n",
       "     Pronoun  Pronoun-offset                     A  A-offset  A-coref  \\\n",
       "478      his             260               William       222    False   \n",
       "535      His             267          George Burns       237    False   \n",
       "607      her             276             Liz Watts       222    False   \n",
       "633      his             310         Frankie Laine       277    False   \n",
       "694      her             289      Krystyna Izbicki       256    False   \n",
       "756       he             332             Theismann       277    False   \n",
       "778      Her             290        Mary Lascelles       257     True   \n",
       "1212     her             321         Material Girl       258    False   \n",
       "1320     she             317        Queen Victoria       278    False   \n",
       "1468     his             313                 James       232    False   \n",
       "1511     his             593       Rodolfo de Anda       506    False   \n",
       "1873     her             225      Abigail Wendover        76    False   \n",
       "1902     her             310  Michelle H. Jennings       167    False   \n",
       "1976     her             320            Deasismont       206    False   \n",
       "1981     her             285               Phyllis       211    False   \n",
       "\n",
       "                    B  B-offset  B-coref  \\\n",
       "478    John Wadsworth       242     True   \n",
       "535         Tal Henry       253     True   \n",
       "607    Cate Blanchett       257     True   \n",
       "633       Paul Weston       296     True   \n",
       "694        Anna Zofia       274     True   \n",
       "756           Garrett       319     True   \n",
       "778       Jane Austen       274    False   \n",
       "1212          Madonna       309     True   \n",
       "1320             Suzy       308     True   \n",
       "1468         Brokesby       300     True   \n",
       "1511  Antonio Aguilar       573     True   \n",
       "1873           Stacey       213     True   \n",
       "1902    Holly Hathorn       292     True   \n",
       "1976              Amy       312     True   \n",
       "1981             Erin       276     True   \n",
       "\n",
       "                                                    URL  A-pred  B-pred  \n",
       "478   http://en.wikipedia.org/wiki/William_Wadsworth...   False    True  \n",
       "535              http://en.wikipedia.org/wiki/Tal_Henry   False    True  \n",
       "607     http://en.wikipedia.org/wiki/Little_Fish_(film)   False    True  \n",
       "633   http://en.wikipedia.org/wiki/Jalousie_'Tango_T...   False    True  \n",
       "694   http://en.wikipedia.org/wiki/Jerzy_and_Irena_K...   False    True  \n",
       "756        http://en.wikipedia.org/wiki/Super_Bowl_XVII   False    True  \n",
       "778            http://en.wikipedia.org/wiki/Jane_Austen   False    True  \n",
       "1212  http://en.wikipedia.org/wiki/Truth_or_Dare_by_...   False    True  \n",
       "1320         http://en.wikipedia.org/wiki/Suzy_Branning   False    True  \n",
       "1468      http://en.wikipedia.org/wiki/Francis_Brokesby   False    True  \n",
       "1511  http://en.wikipedia.org/wiki/Million_Dollar_Th...   False    True  \n",
       "1873   http://en.wikipedia.org/wiki/Black_Sheep_(novel)   False    True  \n",
       "1902           http://en.wikipedia.org/wiki/Buddy_Tudor   False    True  \n",
       "1976        http://en.wikipedia.org/wiki/Amy_Deasismont   False    True  \n",
       "1981   http://en.wikipedia.org/wiki/Finale_(The_Office)   False    True  "
      ],
      "text/html": "<div>\n<style scoped>\n    .dataframe tbody tr th:only-of-type {\n        vertical-align: middle;\n    }\n\n    .dataframe tbody tr th {\n        vertical-align: top;\n    }\n\n    .dataframe thead th {\n        text-align: right;\n    }\n</style>\n<table border=\"1\" class=\"dataframe\">\n  <thead>\n    <tr style=\"text-align: right;\">\n      <th></th>\n      <th>ID</th>\n      <th>Text</th>\n      <th>Pronoun</th>\n      <th>Pronoun-offset</th>\n      <th>A</th>\n      <th>A-offset</th>\n      <th>A-coref</th>\n      <th>B</th>\n      <th>B-offset</th>\n      <th>B-coref</th>\n      <th>URL</th>\n      <th>A-pred</th>\n      <th>B-pred</th>\n    </tr>\n  </thead>\n  <tbody>\n    <tr>\n      <th>478</th>\n      <td>development-479</td>\n      <td>Sarah Wadsworth (17 Mar 1649 - ) m. Jonathan A...</td>\n      <td>his</td>\n      <td>260</td>\n      <td>William</td>\n      <td>222</td>\n      <td>False</td>\n      <td>John Wadsworth</td>\n      <td>242</td>\n      <td>True</td>\n      <td>http://en.wikipedia.org/wiki/William_Wadsworth...</td>\n      <td>False</td>\n      <td>True</td>\n    </tr>\n    <tr>\n      <th>535</th>\n      <td>development-536</td>\n      <td>The orchestra moved on to the Mound Club in St...</td>\n      <td>His</td>\n      <td>267</td>\n      <td>George Burns</td>\n      <td>237</td>\n      <td>False</td>\n      <td>Tal Henry</td>\n      <td>253</td>\n      <td>True</td>\n      <td>http://en.wikipedia.org/wiki/Tal_Henry</td>\n      <td>False</td>\n      <td>True</td>\n    </tr>\n    <tr>\n      <th>607</th>\n      <td>development-608</td>\n      <td>Little Fish is a 2005 Australian film directed...</td>\n      <td>her</td>\n      <td>276</td>\n      <td>Liz Watts</td>\n      <td>222</td>\n      <td>False</td>\n      <td>Cate Blanchett</td>\n      <td>257</td>\n      <td>True</td>\n      <td>http://en.wikipedia.org/wiki/Little_Fish_(film)</td>\n      <td>False</td>\n      <td>True</td>\n    </tr>\n    <tr>\n      <th>633</th>\n      <td>development-634</td>\n      <td>The royalties from the performances of the wor...</td>\n      <td>his</td>\n      <td>310</td>\n      <td>Frankie Laine</td>\n      <td>277</td>\n      <td>False</td>\n      <td>Paul Weston</td>\n      <td>296</td>\n      <td>True</td>\n      <td>http://en.wikipedia.org/wiki/Jalousie_'Tango_T...</td>\n      <td>False</td>\n      <td>True</td>\n    </tr>\n    <tr>\n      <th>694</th>\n      <td>development-695</td>\n      <td>They moved to Go**bki near Warsaw with their t...</td>\n      <td>her</td>\n      <td>289</td>\n      <td>Krystyna Izbicki</td>\n      <td>256</td>\n      <td>False</td>\n      <td>Anna Zofia</td>\n      <td>274</td>\n      <td>True</td>\n      <td>http://en.wikipedia.org/wiki/Jerzy_and_Irena_K...</td>\n      <td>False</td>\n      <td>True</td>\n    </tr>\n    <tr>\n      <th>756</th>\n      <td>development-757</td>\n      <td>Immediately after Blackwood's penalty, wide re...</td>\n      <td>he</td>\n      <td>332</td>\n      <td>Theismann</td>\n      <td>277</td>\n      <td>False</td>\n      <td>Garrett</td>\n      <td>319</td>\n      <td>True</td>\n      <td>http://en.wikipedia.org/wiki/Super_Bowl_XVII</td>\n      <td>False</td>\n      <td>True</td>\n    </tr>\n    <tr>\n      <th>778</th>\n      <td>development-779</td>\n      <td>Not only was it the first scholarly edition of...</td>\n      <td>Her</td>\n      <td>290</td>\n      <td>Mary Lascelles</td>\n      <td>257</td>\n      <td>True</td>\n      <td>Jane Austen</td>\n      <td>274</td>\n      <td>False</td>\n      <td>http://en.wikipedia.org/wiki/Jane_Austen</td>\n      <td>False</td>\n      <td>True</td>\n    </tr>\n    <tr>\n      <th>1212</th>\n      <td>development-1213</td>\n      <td>Truth or Dare by Madonna is a lifestyle brand ...</td>\n      <td>her</td>\n      <td>321</td>\n      <td>Material Girl</td>\n      <td>258</td>\n      <td>False</td>\n      <td>Madonna</td>\n      <td>309</td>\n      <td>True</td>\n      <td>http://en.wikipedia.org/wiki/Truth_or_Dare_by_...</td>\n      <td>False</td>\n      <td>True</td>\n    </tr>\n    <tr>\n      <th>1320</th>\n      <td>development-1321</td>\n      <td>However, Archie Mitchell uses Suzy to plant DN...</td>\n      <td>she</td>\n      <td>317</td>\n      <td>Queen Victoria</td>\n      <td>278</td>\n      <td>False</td>\n      <td>Suzy</td>\n      <td>308</td>\n      <td>True</td>\n      <td>http://en.wikipedia.org/wiki/Suzy_Branning</td>\n      <td>False</td>\n      <td>True</td>\n    </tr>\n    <tr>\n      <th>1468</th>\n      <td>development-1469</td>\n      <td>He declared that if James were dead, he would ...</td>\n      <td>his</td>\n      <td>313</td>\n      <td>James</td>\n      <td>232</td>\n      <td>False</td>\n      <td>Brokesby</td>\n      <td>300</td>\n      <td>True</td>\n      <td>http://en.wikipedia.org/wiki/Francis_Brokesby</td>\n      <td>False</td>\n      <td>True</td>\n    </tr>\n    <tr>\n      <th>1511</th>\n      <td>development-1512</td>\n      <td>He is a well known expert, consultant and auth...</td>\n      <td>his</td>\n      <td>593</td>\n      <td>Rodolfo de Anda</td>\n      <td>506</td>\n      <td>False</td>\n      <td>Antonio Aguilar</td>\n      <td>573</td>\n      <td>True</td>\n      <td>http://en.wikipedia.org/wiki/Million_Dollar_Th...</td>\n      <td>False</td>\n      <td>True</td>\n    </tr>\n    <tr>\n      <th>1873</th>\n      <td>development-1874</td>\n      <td>The novel is set in Bath, Somerset and centres...</td>\n      <td>her</td>\n      <td>225</td>\n      <td>Abigail Wendover</td>\n      <td>76</td>\n      <td>False</td>\n      <td>Stacey</td>\n      <td>213</td>\n      <td>True</td>\n      <td>http://en.wikipedia.org/wiki/Black_Sheep_(novel)</td>\n      <td>False</td>\n      <td>True</td>\n    </tr>\n    <tr>\n      <th>1902</th>\n      <td>development-1903</td>\n      <td>William A. Tudor (born 1964) and ex- wife Moni...</td>\n      <td>her</td>\n      <td>310</td>\n      <td>Michelle H. Jennings</td>\n      <td>167</td>\n      <td>False</td>\n      <td>Holly Hathorn</td>\n      <td>292</td>\n      <td>True</td>\n      <td>http://en.wikipedia.org/wiki/Buddy_Tudor</td>\n      <td>False</td>\n      <td>True</td>\n    </tr>\n    <tr>\n      <th>1976</th>\n      <td>development-1977</td>\n      <td>``Don't Cry Your Heart Out'' was radio-friendl...</td>\n      <td>her</td>\n      <td>320</td>\n      <td>Deasismont</td>\n      <td>206</td>\n      <td>False</td>\n      <td>Amy</td>\n      <td>312</td>\n      <td>True</td>\n      <td>http://en.wikipedia.org/wiki/Amy_Deasismont</td>\n      <td>False</td>\n      <td>True</td>\n    </tr>\n    <tr>\n      <th>1981</th>\n      <td>development-1982</td>\n      <td>The Season Nine DVD contains a number of delet...</td>\n      <td>her</td>\n      <td>285</td>\n      <td>Phyllis</td>\n      <td>211</td>\n      <td>False</td>\n      <td>Erin</td>\n      <td>276</td>\n      <td>True</td>\n      <td>http://en.wikipedia.org/wiki/Finale_(The_Office)</td>\n      <td>False</td>\n      <td>True</td>\n    </tr>\n  </tbody>\n</table>\n</div>"
     },
     "metadata": {},
     "execution_count": 48
    }
   ],
   "source": [
    "apply_model(train_data, [none_subject, exist_CC_pronoun], CC_pronoun)"
   ]
  },
  {
   "source": [
    "2. Located in the beggining of a sentence."
   ],
   "cell_type": "markdown",
   "metadata": {}
  },
  {
   "cell_type": "code",
   "execution_count": 75,
   "metadata": {},
   "outputs": [],
   "source": [
    "def begin_sentence(row):\n",
    "\n",
    "    token_dict = tokenized_index(row)\n",
    "    tagged_sents = token_dict['tagged_sents']\n",
    "\n",
    "    Subjects = []\n",
    "\n",
    "    def first_NP(sent, index):\n",
    "\n",
    "        first_np = \"\"\n",
    "        while sent[index][1].startswith('NN') or sent[index][1].startswith('W') or sent[index][1] in [\"'s\", 'DT', 'IN', 'CD']:\n",
    "            while sent[index][1].startswith('NNP'):\n",
    "                first_np += sent[index][0] + \" \"\n",
    "                index += 1\n",
    "            if len(first_np) > 0:\n",
    "                Subjects.append(first_np)\n",
    "\n",
    "            if index < len(sent) - 1:\n",
    "                index += 1\n",
    "            else:\n",
    "                break\n",
    "\n",
    "    for sent in tagged_sents:\n",
    "        \n",
    "        index = 0\n",
    "        first_np = first_NP(sent, index)\n",
    "\n",
    "    def exist(word):\n",
    "        for first_word in Subjects:\n",
    "            if word in first_word:\n",
    "                return True\n",
    "            elif first_word in word:\n",
    "                return True\n",
    "        return False\n",
    "\n",
    "    return (exist(row['A']), exist(row['B']))\n",
    "\n",
    "def begin_sentence_word(row):\n",
    "    return sum(begin_sentence(row)) == 1"
   ]
  },
  {
   "cell_type": "code",
   "execution_count": 154,
   "metadata": {},
   "outputs": [],
   "source": [
    "def most_occurance(row):\n",
    "\n",
    "    token_dict = tokenized_index(row)\n",
    "    tagged_words = token_dict['tagged_words']\n",
    "\n",
    "    index=0\n",
    "    NPs = []\n",
    "    NP_dict = {}\n",
    "\n",
    "    while index < len(tagged_words):\n",
    "        np = \"\"\n",
    "        while index < len(tagged_words) and tagged_words[index][1].startswith('NNP'):\n",
    "            np += tagged_words[index][0] + \" \"\n",
    "            index += 1\n",
    "        \n",
    "        if len(np) > 0:\n",
    "            NPs.append(np[:-1])\n",
    "\n",
    "        index += 1\n",
    "\n",
    "    def occurance(word):\n",
    "        occ = 0\n",
    "        for w in NPs:\n",
    "            if w in word:\n",
    "                occ += 1\n",
    "\n",
    "        return occ\n",
    "\n",
    "    for word in set(NPs):\n",
    "        NP_dict[word] = occurance(word)\n",
    "\n",
    "    max_occ = sorted(NP_dict.items(), key = (lambda x: x[1]), reverse=True)[0]\n",
    "\n",
    "    if max_occ[1] > 1:\n",
    "        return [NP for NP in NP_dict if NP_dict[NP] == max_occ[1]]\n",
    "    else:\n",
    "        return None\n",
    "\n",
    "def more_occurance(row):\n",
    "\n",
    "    most_occs = most_occurance(row)\n",
    "\n",
    "    if most_occs == None:\n",
    "        return (True, True)\n",
    "\n",
    "    def exist(word, words):\n",
    "        for w in words:\n",
    "            if word in w or w in word:\n",
    "                return True\n",
    "        return False\n",
    "\n",
    "    return (exist(row['A'], most_occs), exist(row['B'], most_occs))\n",
    "\n",
    "def only_most_occurance(row):\n",
    "    return sum(more_occurance(row)) == 1\n",
    "\n",
    "def none_most_occurance(row):\n",
    "    return sum(more_occurance(row)) == 0\n",
    "\n",
    "def both_most_occurance(row):\n",
    "    return more_occurance(row) == (True, True)"
   ]
  },
  {
   "cell_type": "code",
   "execution_count": 141,
   "metadata": {},
   "outputs": [
    {
     "output_type": "stream",
     "name": "stderr",
     "text": [
      "100%|██████████| 9/9 [01:22<00:00,  9.20s/it]\n"
     ]
    },
    {
     "output_type": "execute_result",
     "data": {
      "text/plain": [
       "  Pronoun  Length  Accuracy0\n",
       "0      He      20   0.700000\n",
       "1     She      16   0.562500\n",
       "2     His       4   0.750000\n",
       "3     Her       9   0.555556\n",
       "4      he      26   0.653846\n",
       "5     she      34   0.441176\n",
       "6     his      59   0.576271\n",
       "7     him       9   0.555556\n",
       "8     her      92   0.597826\n",
       "9   total     269   0.583643"
      ],
      "text/html": "<div>\n<style scoped>\n    .dataframe tbody tr th:only-of-type {\n        vertical-align: middle;\n    }\n\n    .dataframe tbody tr th {\n        vertical-align: top;\n    }\n\n    .dataframe thead th {\n        text-align: right;\n    }\n</style>\n<table border=\"1\" class=\"dataframe\">\n  <thead>\n    <tr style=\"text-align: right;\">\n      <th></th>\n      <th>Pronoun</th>\n      <th>Length</th>\n      <th>Accuracy0</th>\n    </tr>\n  </thead>\n  <tbody>\n    <tr>\n      <th>0</th>\n      <td>He</td>\n      <td>20</td>\n      <td>0.700000</td>\n    </tr>\n    <tr>\n      <th>1</th>\n      <td>She</td>\n      <td>16</td>\n      <td>0.562500</td>\n    </tr>\n    <tr>\n      <th>2</th>\n      <td>His</td>\n      <td>4</td>\n      <td>0.750000</td>\n    </tr>\n    <tr>\n      <th>3</th>\n      <td>Her</td>\n      <td>9</td>\n      <td>0.555556</td>\n    </tr>\n    <tr>\n      <th>4</th>\n      <td>he</td>\n      <td>26</td>\n      <td>0.653846</td>\n    </tr>\n    <tr>\n      <th>5</th>\n      <td>she</td>\n      <td>34</td>\n      <td>0.441176</td>\n    </tr>\n    <tr>\n      <th>6</th>\n      <td>his</td>\n      <td>59</td>\n      <td>0.576271</td>\n    </tr>\n    <tr>\n      <th>7</th>\n      <td>him</td>\n      <td>9</td>\n      <td>0.555556</td>\n    </tr>\n    <tr>\n      <th>8</th>\n      <td>her</td>\n      <td>92</td>\n      <td>0.597826</td>\n    </tr>\n    <tr>\n      <th>9</th>\n      <td>total</td>\n      <td>269</td>\n      <td>0.583643</td>\n    </tr>\n  </tbody>\n</table>\n</div>"
     },
     "metadata": {},
     "execution_count": 141
    }
   ],
   "source": [
    "overall_analysis(train_data, [none_subject, only_most_occurance], [more_occurance])"
   ]
  },
  {
   "cell_type": "code",
   "execution_count": 147,
   "metadata": {},
   "outputs": [],
   "source": [
    "none_occurance_data = none_subject_data[none_subject_data.apply(none_most_occurance, axis=1)]"
   ]
  },
  {
   "cell_type": "code",
   "execution_count": 155,
   "metadata": {},
   "outputs": [],
   "source": [
    "both_occurance_data = none_subject_data[none_subject_data.apply(both_most_occurance, axis=1)]"
   ]
  },
  {
   "cell_type": "code",
   "execution_count": 156,
   "metadata": {},
   "outputs": [
    {
     "output_type": "stream",
     "name": "stdout",
     "text": [
      "200\n170\n"
     ]
    }
   ],
   "source": [
    "print(len(none_occurance_data))\n",
    "print(len(both_occurance_data))"
   ]
  },
  {
   "cell_type": "code",
   "execution_count": 157,
   "metadata": {},
   "outputs": [
    {
     "output_type": "stream",
     "name": "stdout",
     "text": [
      "development-1445 And it soon does. The name given him by the Department is that of \u001b[92mElizabeth Deveraux\u001b[0m; still he inquires further, not believing a woman can have carried the bodies of \u001b[91mJanice May Chapman\u001b[0m, the woman who was butchered and dumped in an alley; so he discovers \u001b[94mshe\u001b[0m had been framed by the Rileys themselves; Reed Riley - the senator's son- had been together with all the three women killed in town and when he had found out they were pregnant, he had killed them all.\n\ndevelopment-1051 The actress was in the cast of the Brazilian version of Desperate Housewives, Donas de Casa Desesperadas in partnership with the Disney with the RedeTV! ; her role was Elisa Fernandes, perfect mother and desperate housewife. In the original version, the role was \u001b[91mBree Van de Kamp\u001b[0m, played by \u001b[92mMarcia Cross\u001b[0m. In television, \u001b[94mshe\u001b[0m had roles in the Brazilian soap operas P*ginas da Vida, Um Anjo Caiu do C*u, Celebridade, Bel*ssima, Am*rica, Amor e *dio, Pequena Travessa and Seus Olhos.\n\ndevelopment-123 At the same time, Lady Elle secretly meets with the Council of Waya to tell them about her conviction that Lyka's the ``last protector'' they have been waiting for to save their clan when the next lunar eclipse occurs. As it is, some of the members are already tired of running away from their normal lives because of the curse. Unbeknownst to them, Lyka is slowly transforming into a wolf by then! After picking up her moonstone from \u001b[91mLady\u001b[0m's \u001b[91mElle\u001b[0m's office, \u001b[94mshe\u001b[0m suddenly feels a searing pain in her head and body.\n\ndevelopment-1792 In France it was not until the Third Republic that an actual women's movement arose, a radical section of which, ``La Fronde'' (paraphrasing an older aristocratic-royal civil war), took part in the first revolution. From the start the Social-Democratic party incorporated in its programme the ``equality of all rights''. Consequently, the Social-Democratic women regarded themselves as forming one body with the men of their party, while they kept contemptuously separated from the radical movement among the middle-class women. August \u001b[91mBebel\u001b[0m's book ``Die Frau und der Sozialismus'' went through fifty editions in 1879-1910, and was translated into fourteen languages. In this work the position of woman in the Socialistic state of the future is described. In general the radical middle-class emancipation agrees with the Social-Democratic both in the political and in the ethical spheres. A proof of this is furnished by the works of the Swedish writer \u001b[92mEllen Key\u001b[0m, especially by \u001b[94mher\u001b[0m book ``*ber Ehe und Liebe'' 'On marriage and love', which enjoy a very large circulation throughout the world.\n\ndevelopment-47 The Movie was either opening or closing night at more than half of those festivals. Director Dyanna Taylor's film about her grandmother, the photographer \u001b[91mDorothea Lange\u001b[0m, Grab a Hunk of Lightning, aired on PBS's ``American Masters'' in 2014 and was produced by \u001b[91mGrossman\u001b[0m. \u001b[94mShe\u001b[0m directed Above and Beyond (2015) for producer Nancy Spielberg.\n\ndevelopment-529 In 1927, she won a cash prize for her designs, from the Rondith Corporation. Muir focused on designing modern private homes, especially for clients in Malibu, Pacific Palisades, and other affluent Southern California communities. Among her celebrity clients were \u001b[91mShirley Temple\u001b[0m, Robert Taylor and \u001b[91mBarbara Stanwyck\u001b[0m. \u001b[94mShe\u001b[0m earned her architecture license in 1934, and continued at the Byers office until 1942.\n\ndevelopment-777 On 9 December 2010 Fern*ndez was questioned as a witness in relation to Operation Galgo, an investigation into a Spanish athletics doping ring being carried out by the Guardia Civil. She denied all charges of doping and was allowed to remain on the team that represented Spain at the European Cross Country Championships held in Albufeira, Portugal. \u001b[91mEl Pa*s\u001b[0m reported that her coach, \u001b[92mManuel Pascua\u001b[0m, admitted to police that \u001b[94mhe\u001b[0m organised doping schedules for his athletes.\n\ndevelopment-1873 In May 2013, ``Fire Starter'', a song co-written with Lindy Robbins and \u001b[91mJulia Michaels\u001b[0m, was released on the fourth studio album by \u001b[92mDemi Lovato\u001b[0m, on Hollywood Records. The album debuted at number three on the US Billboard 200 with first-week sales of 110,000 copies, becoming \u001b[94mher\u001b[0m best-selling debut week of her career.\n\ndevelopment-1803 When the judge asks her about her baby brother being ``different'' from her, the only thought that occurs to her is that her brother is a boy, while she is a girl. The judge recognizes that the family situation in the \u001b[91mRichards\u001b[0m home is superior for \u001b[92mEllen\u001b[0m in every way except for the fact that \u001b[94mshe\u001b[0m is white, growing up in a black household.\n\ndevelopment-1253 Isomgosiono, ``Queen Anne'', 1703 \u001b[91mTreaty Signer\u001b[0m for Pan NA Federation along with Sachem \u001b[91mGeorge Skipper\u001b[0m of the Nottoway/Chero-en-ha-ka/Iroquois. These pan Native American communities go back to what may be communities formed per the one reference on the Capt John Smith Map of 1656 listing a single Shawnee group in the Susquahanna Valley when \u001b[94mhe\u001b[0m mapped the area at that time.\n\n"
     ]
    }
   ],
   "source": [
    "print_sents(datas={'manual':True, 'data':both_occurance_data}, num_lines = 10)"
   ]
  },
  {
   "cell_type": "code",
   "execution_count": null,
   "metadata": {},
   "outputs": [],
   "source": []
  }
 ]
}