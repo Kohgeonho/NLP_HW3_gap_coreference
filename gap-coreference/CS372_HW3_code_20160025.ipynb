{
 "metadata": {
  "language_info": {
   "codemirror_mode": {
    "name": "ipython",
    "version": 3
   },
   "file_extension": ".py",
   "mimetype": "text/x-python",
   "name": "python",
   "nbconvert_exporter": "python",
   "pygments_lexer": "ipython3",
   "version": "3.8.5"
  },
  "orig_nbformat": 2,
  "kernelspec": {
   "name": "python385jvsc74a57bd08235b21b7e4ccb1a631c75a86bc50b1a38dfb6faace30e871c40999987116d9b",
   "display_name": "Python 3.8.5 64-bit ('base': conda)"
  }
 },
 "nbformat": 4,
 "nbformat_minor": 2,
 "cells": [
  {
   "source": [
    "**tf.tsv**\n",
    "\n",
    "always predict A-coref as True and B-coref as False"
   ],
   "cell_type": "markdown",
   "metadata": {}
  },
  {
   "cell_type": "code",
   "execution_count": 94,
   "metadata": {},
   "outputs": [],
   "source": [
    "f_test = open(\"gap-test.tsv\", \"r\")\n",
    "result = open(\"tf.tsv\", 'w')\n",
    "test_data = f_test.readlines()\n",
    "\n",
    "for line in test_data[1:]:\n",
    "    attrs = line.split('\\t')\n",
    "    result.write(\"\\t\".join([attrs[0]] + ['True', 'False']) + \"\\n\")\n",
    "\n",
    "f_test.close()\n",
    "result.close()"
   ]
  },
  {
   "cell_type": "code",
   "execution_count": 95,
   "metadata": {},
   "outputs": [
    {
     "output_type": "stream",
     "name": "stdout",
     "text": [
      "gap_scorer.py:126: DeprecationWarning: 'U' mode is deprecated\n",
      "  with open(filename, 'rU') as f:\n",
      "Overall recall: 51.8 precision: 45.9 f1: 48.7\n",
      "\t\ttp 918\tfp 1082\n",
      "\t\tfn 855\ttn 1145\n",
      "Masculine recall: 51.0 precision: 45.3 f1: 48.0\n",
      "\t\ttp 453\tfp 547\n",
      "\t\tfn 436\ttn 564\n",
      "Feminine recall: 52.6 precision: 46.5 f1: 49.4\n",
      "\t\ttp 465\tfp 535\n",
      "\t\tfn 419\ttn 581\n",
      "Bias (F/M): 1.03\n",
      "\n"
     ]
    }
   ],
   "source": [
    "!python gap_scorer.py --gold_ts=gap-test.tsv --system_tsv=tf.tsv"
   ]
  },
  {
   "source": [
    "**closer.tsv**\n",
    "\n",
    "Predict closer coreference to pronoun as True"
   ],
   "cell_type": "markdown",
   "metadata": {}
  },
  {
   "cell_type": "code",
   "execution_count": 22,
   "metadata": {
    "tags": []
   },
   "outputs": [],
   "source": [
    "f_test = open(\"gap-test.tsv\", \"r\")\n",
    "result = open(\"closer.tsv\", 'w')\n",
    "test_data = f_test.readlines()\n",
    "\n",
    "for line in test_data[1:]:\n",
    "    attrs = line.split('\\t')\n",
    "    tf = ['True', 'False']\n",
    "    if abs(int(attrs[3]) - int(attrs[5])) > abs(int(attrs[3]) - int(attrs[8])):\n",
    "        tf = ['False', 'True']\n",
    "\n",
    "    result.write(\"\\t\".join([attrs[0]] + tf) + \"\\n\")\n",
    "\n",
    "f_test.close()\n",
    "result.close()"
   ]
  },
  {
   "cell_type": "code",
   "execution_count": 23,
   "metadata": {},
   "outputs": [
    {
     "output_type": "stream",
     "name": "stdout",
     "text": [
      "gap_scorer.py:126: DeprecationWarning: 'U' mode is deprecated\n",
      "  with open(filename, 'rU') as f:\n",
      "Overall recall: 50.1 precision: 44.4 f1: 47.1\n",
      "\t\ttp 888\tfp 1112\n",
      "\t\tfn 885\ttn 1115\n",
      "Masculine recall: 51.6 precision: 45.9 f1: 48.6\n",
      "\t\ttp 459\tfp 541\n",
      "\t\tfn 430\ttn 570\n",
      "Feminine recall: 48.5 precision: 42.9 f1: 45.5\n",
      "\t\ttp 429\tfp 571\n",
      "\t\tfn 455\ttn 545\n",
      "Bias (F/M): 0.94\n",
      "\n"
     ]
    }
   ],
   "source": [
    "!python gap_scorer.py --gold_ts=gap-test.tsv --system_tsv=closer.tsv"
   ]
  },
  {
   "cell_type": "code",
   "execution_count": 103,
   "metadata": {},
   "outputs": [],
   "source": [
    "import pandas as pd\n",
    "\n",
    "def print_sents(num_lines=10, datatype='train', random=True, datas={'manual':False, 'data':None}):\n",
    "    \n",
    "    if datas['manual'] == False:\n",
    "        if datatype == 'train':\n",
    "            data = \"gap-development.tsv\"\n",
    "        elif datatype == 'validate':\n",
    "            data = \"gap-validation.tsv\"\n",
    "        elif datatype == 'test':\n",
    "            data = \"gap-test.tsv\"\n",
    "        else:\n",
    "            data = \"gap-development.tsv\"\n",
    "\n",
    "        lines = pd.read_csv('gap-development.tsv', sep='\\t')\n",
    "        if random:\n",
    "            lines.sample(frac=1)\n",
    "    else:\n",
    "        lines = datas['data']\n",
    "\n",
    "    count = 1\n",
    "    for row in lines.iloc:\n",
    "\n",
    "        sent = row['Text']\n",
    "        pn, pn_id = row[['Pronoun', 'Pronoun-offset']]\n",
    "        A, A_id = row[['A', 'A-offset']]\n",
    "        B, B_id = row[['B', 'B-offset']]\n",
    "\n",
    "        pn_len, A_len, B_len = len(pn), len(A), len(B)\n",
    "\n",
    "        pn = \"\\033[94m\" + pn + \"\\033[0m\"\n",
    "        A  = \"\\033[92m\" + A  + \"\\033[0m\" if row['A-coref'] else \\\n",
    "             \"\\033[91m\" + A  + \"\\033[0m\"\n",
    "        B  = \"\\033[92m\" + B  + \"\\033[0m\" if row['B-coref'] else \\\n",
    "             \"\\033[91m\" + B  + \"\\033[0m\"\n",
    "\n",
    "        indices = [(pn_id, pn, pn_len), (A_id, A, A_len), (B_id, B, B_len)]\n",
    "\n",
    "        for index, content, length in sorted(indices, reverse=True):\n",
    "            sent = sent[:index] + content + sent[index+length:]\n",
    "\n",
    "        print(sent, end='\\n\\n')\n",
    "\n",
    "        count += 1\n",
    "        if count > num_lines:\n",
    "            break\n",
    "        "
   ]
  },
  {
   "cell_type": "code",
   "execution_count": 104,
   "metadata": {
    "tags": []
   },
   "outputs": [
    {
     "output_type": "stream",
     "name": "stdout",
     "text": [
      "Zoe Telford -- played the police officer girlfriend of Simon, Maggie. Dumped by Simon in the final episode of series 1, after he slept with Jenny, and is not seen again. Phoebe Thomas played \u001b[92mCheryl Cassidy\u001b[0m, \u001b[91mPauline\u001b[0m's friend and also a year 11 pupil in Simon's class. Dumped \u001b[94mher\u001b[0m boyfriend following Simon's advice after he wouldn't have sex with her but later realised this was due to him catching crabs off her friend Pauline.\n\nHe grew up in Evanston, Illinois the second oldest of five children including his brothers, Fred and Gordon and sisters, Marge (Peppy) and Marilyn. His high school days were spent at New Trier High School in Winnetka, Illinois. \u001b[92mMacKenzie\u001b[0m studied with \u001b[91mBernard Leach\u001b[0m from 1949 to 1952. \u001b[94mHis\u001b[0m simple, wheel-thrown functional pottery is heavily influenced by the oriental aesthetic of Shoji Hamada and Kanjiro Kawai.\n\nHe had been reelected to Congress, but resigned in 1990 to accept a post as Ambassador to Brazil. De la Sota again ran for governor of C*rdoba in 1991. Defeated by Governor \u001b[91mAngeloz\u001b[0m by over 15%, this latter setback was significant because it cost \u001b[92mDe la Sota\u001b[0m much of \u001b[94mhis\u001b[0m support within the Justicialist Party (which was flush with victory in the 1991 mid-terms), leading to President Carlos Menem 's endorsement of a separate party list in C*rdoba for the 1993 mid-term elections, and to De la Sota's failure to regain a seat in Congress.\n\nThe current members of Crime have also performed in San Francisco under the band name ''Remote Viewers``. Strike has published two works of fiction in recent years: Ports of \u001b[91mHell\u001b[0m, which is listed in the Rock and Roll Hall of Fame Library, and A Loud Humming Sound Came from Above. Rank has produced numerous films (under \u001b[94mhis\u001b[0m real name, \u001b[92mHenry Rosenthal\u001b[0m) including the hit The Devil and Daniel Johnston.\n\nHer Santa Fe Opera debut in 2005 was as Nuria in the revised edition of Golijov's Ainadamar. She sang on the subsequent Deutsche Grammophon recording of the opera. For his opera Doctor Atomic, Adams rewrote the role of \u001b[91mKitty Oppenheimer\u001b[0m, originally a mezzo-soprano role, for soprano voice, and \u001b[92mRivera\u001b[0m sang the rewritten part of Kitty Oppenheimer at Lyric Opera of Chicago, De Nederlandse Opera, and the Metropolitan Opera., all in 2007. \u001b[94mShe\u001b[0m has since sung several parts and roles in John Adams' works, including the soprano part in El Ni*o, and the role of Kumudha in A Flowering Tree in the Peter Sellars production at the New Crowned Hope Festival in Vienna.\n\nSandra Collins is an American DJ. She got her start on the West Coast of the U.S. in Phoenix, Arizona and into residencies in Los Angeles, and eventually moved towards trance. She used American producers to give herself a unique sound. \u001b[92mCollins\u001b[0m performed for an estimated 80,000 people on the first night of Woodstock '99, and was the first female \u001b[91mDJ\u001b[0m featured in the Tranceport series of influential recordings. \u001b[94mShe\u001b[0m recently has released two CD mixes under Paul Oakenfold's Perfecto label.\n\nReb Chaim Yaakov's wife is the sister of Rabbi Moishe Sternbuch, as is the wife of Rabbi Meshulam Dovid Soloveitchik, making the two Rabbis his uncles. \u001b[91mReb Asher\u001b[0m's brother Rabbi Shlomo Arieli is the author of a critical edition of the novallae of Rabbi \u001b[91mAkiva Eiger\u001b[0m. Before \u001b[94mhis\u001b[0m marriage, Rabbi Arieli studied in the Ponevezh Yeshiva headed by Rabbi Shmuel Rozovsky, and he later studied under his father-in-law in the Mirrer Yeshiva.\n\nSlant Magazine's Sal Cinquemani viewed the album as formulaic and ``competently, often frustratingly more of the same from an artist who still seems capable of much more.'' \u001b[91mGreg Kot\u001b[0m of the Chicago Tribune perceived ``formula production and hack songwriting'', but complimented Pink's personality and its ``handful'' of worthy tracks. In \u001b[94mhis\u001b[0m list for The Barnes & Noble Review, \u001b[92mRobert Christgau\u001b[0m named The Truth About Love the fourth best album of 2012.\n\nHer father was an Englishman ``of rank and culture'' and her mother was a free woman of color, described as light-skinned. When Mary was six, her mother sent her to Alexandria (then part of the District of Columbia) to attend school. Living with \u001b[94mher\u001b[0m aunt \u001b[91mMary Paine\u001b[0m, \u001b[92mKelsey\u001b[0m studied for about ten years.\n\nShaftesbury's UK partners in the production of the series, British broadcaster UKTV and the international distributor ITV Studios Global Entertainment, were both interested in additional seasons. \u001b[92mChristina Jennings\u001b[0m approached \u001b[91mKirstine Stewart\u001b[0m, executive vice-president of CBC's English services, about continuing the series, and \u001b[94mshe\u001b[0m felt that ``a home at CBC made absolute sense''.\n\n"
     ]
    }
   ],
   "source": [
    "print_sents(random=True)"
   ]
  },
  {
   "cell_type": "code",
   "execution_count": 71,
   "metadata": {},
   "outputs": [
    {
     "output_type": "stream",
     "name": "stdout",
     "text": [
      "ID\nText\nPronoun\nPronoun-offset\nA\nA-offset\nA-coref\nB\nB-offset\nB-coref\nURL\n"
     ]
    }
   ],
   "source": [
    "for row in train_data.iloc:\n",
    "    print(row)"
   ]
  },
  {
   "cell_type": "code",
   "execution_count": 19,
   "metadata": {},
   "outputs": [],
   "source": [
    "import pandas as pd"
   ]
  },
  {
   "cell_type": "code",
   "execution_count": 96,
   "metadata": {},
   "outputs": [
    {
     "output_type": "stream",
     "name": "stdout",
     "text": [
      "<class 'pandas.core.frame.DataFrame'>\nRangeIndex: 2000 entries, 0 to 1999\nData columns (total 11 columns):\n #   Column          Non-Null Count  Dtype \n---  ------          --------------  ----- \n 0   ID              2000 non-null   object\n 1   Text            2000 non-null   object\n 2   Pronoun         2000 non-null   object\n 3   Pronoun-offset  2000 non-null   int64 \n 4   A               2000 non-null   object\n 5   A-offset        2000 non-null   int64 \n 6   A-coref         2000 non-null   bool  \n 7   B               2000 non-null   object\n 8   B-offset        2000 non-null   int64 \n 9   B-coref         2000 non-null   bool  \n 10  URL             2000 non-null   object\ndtypes: bool(2), int64(3), object(6)\nmemory usage: 144.7+ KB\n"
     ]
    }
   ],
   "source": [
    "train_data = pd.read_csv('gap-development.tsv', sep='\\t')\n",
    "test_data = pd.read_csv('gap-test.tsv', sep='\\t')\n",
    "test_data.info()"
   ]
  },
  {
   "source": [
    "**subject.tsv**\n",
    "\n",
    "Predict farther coreference pronoun as True when pronoun is subject pronoun (he, she).\n",
    "Predict closer coreference pronoun as True when pronoun is not subject pronoun, which is object or possessive pronoun(her, his, him)."
   ],
   "cell_type": "markdown",
   "metadata": {}
  },
  {
   "cell_type": "code",
   "execution_count": 61,
   "metadata": {},
   "outputs": [
    {
     "output_type": "execute_result",
     "data": {
      "text/plain": [
       "{'He', 'Her', 'His', 'She', 'he', 'her', 'him', 'his', 'she'}"
      ]
     },
     "metadata": {},
     "execution_count": 61
    }
   ],
   "source": [
    "pronouns = set(train_data['Pronoun'])\n",
    "pronouns"
   ]
  },
  {
   "cell_type": "code",
   "execution_count": 97,
   "metadata": {
    "tags": []
   },
   "outputs": [],
   "source": [
    "result = open(\"subject.tsv\", 'w')\n",
    "\n",
    "for attrs in test_data.iloc:\n",
    "    pro, pro_id = attrs[2:4]\n",
    "    A, A_id = attrs[4:6]\n",
    "    B, B_id = attrs[7:9]\n",
    "\n",
    "    if pro.lower() in ['he', 'she']:\n",
    "        if abs(pro_id - A_id) > abs(pro_id - B_id):\n",
    "            tf = ['TRUE', 'FALSE']\n",
    "        else:\n",
    "            tf = ['FALSE', 'TRUE']\n",
    "    else:\n",
    "        if abs(pro_id - A_id) > abs(pro_id - B_id):\n",
    "            tf = ['FALSE', 'TRUE']\n",
    "        else:\n",
    "            tf = ['TRUE', 'FALSE']\n",
    "\n",
    "    result.write(\"\\t\".join([attrs[0]] + tf) + \"\\n\")\n",
    "\n",
    "f_test.close()\n",
    "result.close()"
   ]
  },
  {
   "cell_type": "code",
   "execution_count": 98,
   "metadata": {},
   "outputs": [
    {
     "output_type": "stream",
     "name": "stdout",
     "text": [
      "gap_scorer.py:126: DeprecationWarning: 'U' mode is deprecated\n",
      "  with open(filename, 'rU') as f:\n",
      "Overall recall: 58.3 precision: 51.6 f1: 54.8\n",
      "\t\ttp 1033\tfp 967\n",
      "\t\tfn 740\ttn 1260\n",
      "Masculine recall: 59.4 precision: 52.8 f1: 55.9\n",
      "\t\ttp 528\tfp 472\n",
      "\t\tfn 361\ttn 639\n",
      "Feminine recall: 57.1 precision: 50.5 f1: 53.6\n",
      "\t\ttp 505\tfp 495\n",
      "\t\tfn 379\ttn 621\n",
      "Bias (F/M): 0.96\n",
      "\n"
     ]
    }
   ],
   "source": [
    "!python gap_scorer.py --gold_ts=gap-test.tsv --system_tsv=subject.tsv"
   ]
  },
  {
   "cell_type": "code",
   "execution_count": 99,
   "metadata": {},
   "outputs": [
    {
     "output_type": "execute_result",
     "data": {
      "text/plain": [
       "0.1135"
      ]
     },
     "metadata": {},
     "execution_count": 99
    }
   ],
   "source": [
    "false_case = 0\n",
    "for attrs in test_data.iloc:\n",
    "    if attrs[6] == attrs[9]:\n",
    "        false_case += 1\n",
    "\n",
    "false_case/len(test_data)"
   ]
  },
  {
   "source": [
    "**relation.tsv**\n",
    "\n",
    "draw a relation between two proper nouns with sentence structure\n",
    "\n",
    "(e.g. Which one is the subject?)"
   ],
   "cell_type": "markdown",
   "metadata": {}
  },
  {
   "cell_type": "code",
   "execution_count": 11,
   "metadata": {},
   "outputs": [],
   "source": [
    "import nltk\n",
    "sent = \"In the next pair, Mikhaylov equalled Grishin's time and they shared Olympic gold.\"\n",
    "tagged_sent = nltk.pos_tag(nltk.word_tokenize(sent))"
   ]
  },
  {
   "cell_type": "code",
   "execution_count": 12,
   "metadata": {},
   "outputs": [
    {
     "output_type": "execute_result",
     "data": {
      "text/plain": [
       "[('In', 'IN'),\n",
       " ('the', 'DT'),\n",
       " ('next', 'JJ'),\n",
       " ('pair', 'NN'),\n",
       " (',', ','),\n",
       " ('Mikhaylov', 'NNP'),\n",
       " ('equalled', 'VBD'),\n",
       " ('Grishin', 'NNP'),\n",
       " (\"'s\", 'POS'),\n",
       " ('time', 'NN'),\n",
       " ('and', 'CC'),\n",
       " ('they', 'PRP'),\n",
       " ('shared', 'VBD'),\n",
       " ('Olympic', 'NNP'),\n",
       " ('gold', 'NN'),\n",
       " ('.', '.')]"
      ]
     },
     "metadata": {},
     "execution_count": 12
    }
   ],
   "source": [
    "tagged_sent"
   ]
  },
  {
   "cell_type": "code",
   "execution_count": null,
   "metadata": {},
   "outputs": [],
   "source": [
    "from nltk.tree import Tree\n",
    "sent_tree = Tree('S', 'PP', [Tree('NP') ])"
   ]
  },
  {
   "cell_type": "code",
   "execution_count": 95,
   "metadata": {
    "tags": []
   },
   "outputs": [],
   "source": [
    "### word that is inside paranthesis is False\n",
    "train_data = pd.read_csv('gap-development.tsv', sep='\\t')\n",
    "parenthesis_data = []\n",
    "\n",
    "def isparenthesis(sent, word, offset):\n",
    "    if sent[offset-1] == \"(\" and sent[offset+len(word)] == \")\":\n",
    "        return True\n",
    "    else:\n",
    "        return False\n",
    "\n",
    "for row in train_data.iloc:\n",
    "    if isparenthesis(row['Text'], row['A'], row['A-offset']) or \\\n",
    "       isparenthesis(row['Text'], row['B'], row['B-offset']):\n",
    "            parenthesis_data.append(row)"
   ]
  },
  {
   "cell_type": "code",
   "execution_count": 101,
   "metadata": {},
   "outputs": [
    {
     "output_type": "execute_result",
     "data": {
      "text/plain": [
       "                  ID                                               Text  \\\n",
       "145  development-146  Rocky intervenes, and after seemingly beating ...   \n",
       "175  development-176  When Herman and Fred are arrested and imprison...   \n",
       "267  development-268  Drum grows up to be a fighter and is often for...   \n",
       "332  development-333  Challenge of the Masters (Chinese: *******) is...   \n",
       "365  development-366  The family is financially supported by Cedric'...   \n",
       "\n",
       "    Pronoun  Pronoun-offset                A  A-offset  A-coref  \\\n",
       "145     her             430          Natasha       501     True   \n",
       "175     his             286       Bruce Dern       243    False   \n",
       "267     his             427  Hammond Maxwell       381     True   \n",
       "332      he             200       Gordon Liu       279     True   \n",
       "365     she             315         Chrissie       190    False   \n",
       "\n",
       "                      B  B-offset  B-coref  \\\n",
       "145  Supriya Pilgaonkar       526    False   \n",
       "175                Fred       263     True   \n",
       "267               Oates       398    False   \n",
       "332       Chen Kuan Tai       321    False   \n",
       "365          Evangeline       227     True   \n",
       "\n",
       "                                                   URL  \n",
       "145   http://en.wikipedia.org/wiki/Deewane_Huye_Paagal  \n",
       "175           http://en.wikipedia.org/wiki/Bloody_Mama  \n",
       "267      http://en.wikipedia.org/wiki/Drum_(1976_film)  \n",
       "332  http://en.wikipedia.org/wiki/Challenge_of_the_...  \n",
       "365          http://en.wikipedia.org/wiki/Nanny_McPhee  "
      ],
      "text/html": "<div>\n<style scoped>\n    .dataframe tbody tr th:only-of-type {\n        vertical-align: middle;\n    }\n\n    .dataframe tbody tr th {\n        vertical-align: top;\n    }\n\n    .dataframe thead th {\n        text-align: right;\n    }\n</style>\n<table border=\"1\" class=\"dataframe\">\n  <thead>\n    <tr style=\"text-align: right;\">\n      <th></th>\n      <th>ID</th>\n      <th>Text</th>\n      <th>Pronoun</th>\n      <th>Pronoun-offset</th>\n      <th>A</th>\n      <th>A-offset</th>\n      <th>A-coref</th>\n      <th>B</th>\n      <th>B-offset</th>\n      <th>B-coref</th>\n      <th>URL</th>\n    </tr>\n  </thead>\n  <tbody>\n    <tr>\n      <th>145</th>\n      <td>development-146</td>\n      <td>Rocky intervenes, and after seemingly beating ...</td>\n      <td>her</td>\n      <td>430</td>\n      <td>Natasha</td>\n      <td>501</td>\n      <td>True</td>\n      <td>Supriya Pilgaonkar</td>\n      <td>526</td>\n      <td>False</td>\n      <td>http://en.wikipedia.org/wiki/Deewane_Huye_Paagal</td>\n    </tr>\n    <tr>\n      <th>175</th>\n      <td>development-176</td>\n      <td>When Herman and Fred are arrested and imprison...</td>\n      <td>his</td>\n      <td>286</td>\n      <td>Bruce Dern</td>\n      <td>243</td>\n      <td>False</td>\n      <td>Fred</td>\n      <td>263</td>\n      <td>True</td>\n      <td>http://en.wikipedia.org/wiki/Bloody_Mama</td>\n    </tr>\n    <tr>\n      <th>267</th>\n      <td>development-268</td>\n      <td>Drum grows up to be a fighter and is often for...</td>\n      <td>his</td>\n      <td>427</td>\n      <td>Hammond Maxwell</td>\n      <td>381</td>\n      <td>True</td>\n      <td>Oates</td>\n      <td>398</td>\n      <td>False</td>\n      <td>http://en.wikipedia.org/wiki/Drum_(1976_film)</td>\n    </tr>\n    <tr>\n      <th>332</th>\n      <td>development-333</td>\n      <td>Challenge of the Masters (Chinese: *******) is...</td>\n      <td>he</td>\n      <td>200</td>\n      <td>Gordon Liu</td>\n      <td>279</td>\n      <td>True</td>\n      <td>Chen Kuan Tai</td>\n      <td>321</td>\n      <td>False</td>\n      <td>http://en.wikipedia.org/wiki/Challenge_of_the_...</td>\n    </tr>\n    <tr>\n      <th>365</th>\n      <td>development-366</td>\n      <td>The family is financially supported by Cedric'...</td>\n      <td>she</td>\n      <td>315</td>\n      <td>Chrissie</td>\n      <td>190</td>\n      <td>False</td>\n      <td>Evangeline</td>\n      <td>227</td>\n      <td>True</td>\n      <td>http://en.wikipedia.org/wiki/Nanny_McPhee</td>\n    </tr>\n  </tbody>\n</table>\n</div>"
     },
     "metadata": {},
     "execution_count": 101
    }
   ],
   "source": [
    "parenthesis_data = pd.DataFrame(parenthesis_data, columns=train_data.columns)\n",
    "parenthesis_data.head()"
   ]
  },
  {
   "cell_type": "code",
   "execution_count": 114,
   "metadata": {},
   "outputs": [
    {
     "output_type": "stream",
     "name": "stdout",
     "text": [
      "Rocky intervenes, and after seemingly beating the living daylights out of the supposed thugs (the scene is similar to Jean-Claude Van Damme's introductory action sequence from Hard Target (1993)), introduces himself to Natasha, and proceeds to show himself off as a charming professional with a heart of gold. Somewhat awed, Natasha offers Rocky an invitation for tea later in the evening, which he accepts. When Rocky arrives at \u001b[94mher\u001b[0m villa later in the evening, he is confronted by several obstacles, \u001b[92mNatasha\u001b[0m's sister Sweety (\u001b[91mSupriya Pilgaonkar\u001b[0m), the jealous Tommy and the family's pet dog.\n\nWhen Herman and Fred are arrested and imprisoned for petty theft charges, Ma takes over the group and leads Arthur and Lloyd on a bank robbery spree to gain enough money to get her sons out of jail. The gang is joined by a gunman named Kevin (\u001b[91mBruce Dern\u001b[0m) who was \u001b[92mFred\u001b[0m's cellmate during \u001b[94mhis\u001b[0m incarceration (and his strongly implied lover).\n\nDrum grows up to be a fighter and is often forced to bare-knuckle-box other slaves for the entertainment of the owners, one of whom is a gay Frenchman named Bernard DeMarigny (Colicos). DeMarigny wants to sleep with Drum, but his advances are rejected by the slave and DeMarigny vows revenge against Drum. Drum and his friend Blaise (Kotto) are eventually sold to plantation owner \u001b[92mHammond Maxwell\u001b[0m (\u001b[91mOates\u001b[0m) and are both taken to \u001b[94mhis\u001b[0m plantation to work.\n\nChallenge of the Masters (Chinese: *******) is a 1976 martial arts-action film released in Hong Kong by Shaw Brothers, and directed by Lau Kar Leung. After his father refuses to teach him kung fu and \u001b[94mhe\u001b[0m is constantly being beaten by rival school students, a young Wong Fei Hung (\u001b[92mGordon Liu\u001b[0m) must train under Luk Ah Choy (\u001b[91mChen Kuan Tai\u001b[0m) to avenge the evils being done by the rival school.\n\nThe family is financially supported by Cedric's late wife's domineering and nearsighted aunt Lady Adelaide Stitch, who demands custody over one of the children. She first wants Christianna (\u001b[91mChrissie\u001b[0m), one of the daughters, but \u001b[92mEvangeline\u001b[0m, Cedric's uneducated scullery maid, volunteers and Adelaide agrees, assuming \u001b[94mshe\u001b[0m is one of the daughters.\n\nBea Binene as George (Campus Tomboy) - She plays the boyish character that caught up in the ``bestfriend syndrome'', she tries to hide her feelings for her best friend enemy and instead, helps him get closer to Chloe. \u001b[92mJake Vargas\u001b[0m as Jepoy (\u001b[91mGuitar Enthusiast\u001b[0m) - the group's resident rocker. \u001b[94mHe\u001b[0m is head-over-heals in love with Chloe (Lexi Fernandez) and tries to get closer to her through his best friend George.\n\nIt is the first film by independent superstar director Dan Garcia, who produced Death Toll and Sinners and Saints. Louisiana Governor Chip Majors (\u001b[92mJames DuMont\u001b[0m) is front in line to be North Carolina Senator Edmonds' (\u001b[91mSteven Bauer\u001b[0m) Vice Presidential nominee. The day \u001b[94mhe\u001b[0m is to be announced, Majors goes to a hotel, where he meets a prostitute.\n\nHe was named to the NCAA All-Tournament team in 1980, and two first All Star teams in 1981. He began his playing career with the Pittsburgh Penguins who drafted him in the 6th round of the 1979 NHL Entry Draft. \u001b[92mChorney\u001b[0m was traded to the Los Angeles Kings for a 6th round choice (\u001b[91mStuart Marston\u001b[0m) in the 1985 NHL Entry Draft. After spending a season with the Kings, \u001b[94mhe\u001b[0m was signed by the Washington Capitals but failed to earn a spot on the roster.\n\nAlf and Else's daughter Rita (Una Stubbs) now lives with her husband Mike in his hometown of Liverpool and often visits her parents, although Mike does not appear (as Antony Booth had no interest in reprising the role). Usually, Alf is seen drinking with his friend Arthur (\u001b[91mArthur English\u001b[0m) in the local pub. Although \u001b[94mhis\u001b[0m beloved Conservative Party has returned to power, \u001b[92mAlf\u001b[0m is not happy with Margaret Thatcher being Prime Minister because, according to him, ``a woman's place is in the home''.\n\nRoscoe and his wife had seven sons and three daughters, including William Stanley Roscoe (1782--1843), a poet, Thomas Roscoe (1791--1871), translator from Italian, and Henry (1800--1836), a legal writer who wrote his father's biography. Henry's wife, Maria Roscoe (\u001b[91mn*e Fletcher\u001b[0m) (1798-1885), was the author of \u001b[92mVittoria Colonna\u001b[0m: \u001b[94mHer\u001b[0m Life and Times, and their son Henry Enfield Roscoe (1833--1915) was a chemist and vice-chancellor of the University of London.\n\n"
     ]
    }
   ],
   "source": [
    "print_sents(datas={'manual':True, 'data':parenthesis_data}, num_lines = 10)"
   ]
  },
  {
   "cell_type": "code",
   "execution_count": 115,
   "metadata": {},
   "outputs": [],
   "source": [
    "subject_data = train_data[train_data['Pronoun'].isin(['he', 'she', 'He', 'She'])]"
   ]
  },
  {
   "cell_type": "code",
   "execution_count": 116,
   "metadata": {},
   "outputs": [
    {
     "output_type": "stream",
     "name": "stdout",
     "text": [
      "Her Santa Fe Opera debut in 2005 was as Nuria in the revised edition of Golijov's Ainadamar. She sang on the subsequent Deutsche Grammophon recording of the opera. For his opera Doctor Atomic, Adams rewrote the role of \u001b[91mKitty Oppenheimer\u001b[0m, originally a mezzo-soprano role, for soprano voice, and \u001b[92mRivera\u001b[0m sang the rewritten part of Kitty Oppenheimer at Lyric Opera of Chicago, De Nederlandse Opera, and the Metropolitan Opera., all in 2007. \u001b[94mShe\u001b[0m has since sung several parts and roles in John Adams' works, including the soprano part in El Ni*o, and the role of Kumudha in A Flowering Tree in the Peter Sellars production at the New Crowned Hope Festival in Vienna.\n\nSandra Collins is an American DJ. She got her start on the West Coast of the U.S. in Phoenix, Arizona and into residencies in Los Angeles, and eventually moved towards trance. She used American producers to give herself a unique sound. \u001b[92mCollins\u001b[0m performed for an estimated 80,000 people on the first night of Woodstock '99, and was the first female \u001b[91mDJ\u001b[0m featured in the Tranceport series of influential recordings. \u001b[94mShe\u001b[0m recently has released two CD mixes under Paul Oakenfold's Perfecto label.\n\nShaftesbury's UK partners in the production of the series, British broadcaster UKTV and the international distributor ITV Studios Global Entertainment, were both interested in additional seasons. \u001b[92mChristina Jennings\u001b[0m approached \u001b[91mKirstine Stewart\u001b[0m, executive vice-president of CBC's English services, about continuing the series, and \u001b[94mshe\u001b[0m felt that ``a home at CBC made absolute sense''.\n\nHis maternal great-grandfather was Henry Percy, 4th Earl of Northumberland, whose wife was Maud Herbert, Countess of Northumberland. His maternal grandmother was a daughter of Sir Robert Spencer and Eleanor Beaufort. \u001b[92mEleanor\u001b[0m was a daughter of Edmund Beaufort, 2nd Duke of Somerset and \u001b[91mEleanor Beauchamp\u001b[0m. \u001b[94mShe\u001b[0m was a granddaughter of Richard de Beauchamp, 13th Earl of Warwick and Elizabeth Berkeley.\n\nA colleague in the department run by Erwin Frink Smith, she also collaborated with botanist Nellie Adalesa Brown. McCulloch was born in Cincinnati, Ohio. She was the daughter of Robert S. and \u001b[91mAlma Taggart\u001b[0m (n*e Eveleth) \u001b[91mMcCulloch\u001b[0m. In 1898, while studying biology at Florida Agricultural College, \u001b[94mshe\u001b[0m was appointed head of the library, now part of the George A. Smathers Libraries.\n\nBen Severson is a pioneer in the sport of bodyboarding and Sandy Beach local. Oahu lifeguard and former rival of \u001b[91mMike Stewart\u001b[0m for more than 15 years, \u001b[92mBen\u001b[0m is a fast, perfectly trained and precise prone rider who excels at tube riding. \u001b[94mHe\u001b[0m quickly gained recognition by winning a world title at the beginning of his career.\n\nNicholas Rogers as Tarabas role also caused problems, as has declared during his audition that he was able to ride horses but as soon as the shooting began, he could not even mount a horse. It was then soon realized he was also not good at acting; \u001b[91mBava\u001b[0m said that for the scene where \u001b[92mRogers\u001b[0m has to say ``I love you'', they had to make three shots and then combine them later. \u001b[94mHe\u001b[0m also injured himself on the set and had to be taken to hospital while still wearing his costume.\n\nChristine eventually got out of the street when she was promoted at Miami Modes and butted heads with Elsie and Dot, who didn't like the way she used her newfound authority. Christine was transferred, and moved out of Weatherfield for good. Christine sent a telegram to congratulate Elsie and Steve Tanner on their wedding day in 1967. In 1984, \u001b[91mElsie Tanner\u001b[0m informed Ken Barlow that \u001b[92mChristine\u001b[0m had died of liver failure after becoming an alcoholic in the late 1970s. \u001b[94mShe\u001b[0m has never been mentioned again.\n\nEventually she overheard the ``off-button'' code of the monster Three-Willied Seth and proceeded to free herself. She literally took the heads of the television mogul and his software billionaire co-conspirator. She also saved her friend \u001b[91mAngela Spica\u001b[0m, the Engineer, and killed the man who had been abusing \u001b[91mAngela\u001b[0m. Originally drawn flat-chested, as a plot point in the series \u001b[94mshe\u001b[0m rapidly ``developed'' a more pronounced, archetypal superheroine bust size.\n\nKevin John Coyne of Country Universe gave the song a B rating, saying that ``does breakup about as good as anybody'' and that he doesn't believe Keith is ``capable of turning in a weak vocal performance.'' \u001b[92mBobby Peacock\u001b[0m of Roughstock gave the song a 3.5/5 rating, saying that the production is ``looser and funkier'' than on \u001b[91mKeith\u001b[0m's other songs. \u001b[94mHe\u001b[0m goes on to say that it ``contrasts with the more downbeat lyrics of a fairly standard broken-heart song.''\n\n"
     ]
    }
   ],
   "source": [
    "print_sents(datas={'manual':True, 'data':subject_data}, num_lines = 10)"
   ]
  },
  {
   "cell_type": "code",
   "execution_count": 138,
   "metadata": {},
   "outputs": [
    {
     "output_type": "execute_result",
     "data": {
      "text/plain": [
       "ID                                                   development-16\n",
       "Text              A colleague in the department run by Erwin Fri...\n",
       "Pronoun                                                         she\n",
       "Pronoun-offset                                                  295\n",
       "A                                                      Alma Taggart\n",
       "A-offset                                                        192\n",
       "A-coref                                                       False\n",
       "B                                                         McCulloch\n",
       "B-offset                                                        219\n",
       "B-coref                                                       False\n",
       "URL                    http://en.wikipedia.org/wiki/Lucia_McCulloch\n",
       "Name: 15, dtype: object"
      ]
     },
     "metadata": {},
     "execution_count": 138
    }
   ],
   "source": [
    "subject_data.iloc[4]"
   ]
  },
  {
   "cell_type": "code",
   "execution_count": 139,
   "metadata": {},
   "outputs": [],
   "source": [
    "raw = subject_data.iloc[4]['Text']\n",
    "words = nltk.word_tokenize(raw)\n",
    "word_index = {}\n",
    "index = 0\n",
    "for i, word in enumerate(words):\n",
    "    word_index[index] = i\n",
    "    index += len(word)\n",
    "    if not word in ['.', ',', \"'s\", '(', ')', \"''\", '``']:\n",
    "        index += 1\n",
    "    \n",
    "    if word in ['*']:\n",
    "        index -= 2"
   ]
  },
  {
   "cell_type": "code",
   "execution_count": 142,
   "metadata": {},
   "outputs": [
    {
     "output_type": "stream",
     "name": "stdout",
     "text": [
      "A colleague in the department run by Erwin Frink Smith, she also collaborated with botanist Nellie Adalesa Brown. McCulloch was born in Cincinnati, Ohio. She was the daughter of Robert S. and Alma Taggart (n*e Eveleth) McCulloch. In 1898, while studying biology at Florida Agricultural College, she was appointed head of the library, now part of the George A. Smathers Libraries.\n['A', 'colleague', 'in', 'the', 'department', 'run', 'by', 'Erwin', 'Frink', 'Smith', ',', 'she', 'also', 'collaborated', 'with', 'botanist', 'Nellie', 'Adalesa', 'Brown', '.', 'McCulloch', 'was', 'born', 'in', 'Cincinnati', ',', 'Ohio', '.', 'She', 'was', 'the', 'daughter', 'of', 'Robert', 'S.', 'and', 'Alma', 'Taggart', '(', 'n', '*', 'e', 'Eveleth', ')', 'McCulloch', '.', 'In', '1898', ',', 'while', 'studying', 'biology', 'at', 'Florida', 'Agricultural', 'College', ',', 'she', 'was', 'appointed', 'head', 'of', 'the', 'library', ',', 'now', 'part', 'of', 'the', 'George', 'A.', 'Smathers', 'Libraries', '.']\n{0: 0, 2: 1, 12: 2, 15: 3, 19: 4, 30: 5, 34: 6, 37: 7, 43: 8, 49: 9, 55: 10, 56: 11, 60: 12, 65: 13, 78: 14, 83: 15, 92: 16, 99: 17, 107: 18, 113: 19, 114: 20, 124: 21, 128: 22, 133: 23, 136: 24, 147: 25, 148: 26, 153: 27, 154: 28, 158: 29, 162: 30, 166: 31, 175: 32, 178: 33, 185: 34, 188: 35, 192: 36, 197: 37, 205: 38, 206: 39, 208: 40, 210: 41, 212: 42, 220: 43, 221: 44, 231: 45, 232: 46, 235: 47, 240: 48, 241: 49, 247: 50, 256: 51, 264: 52, 267: 53, 275: 54, 288: 55, 296: 56, 297: 57, 301: 58, 305: 59, 315: 60, 320: 61, 323: 62, 327: 63, 335: 64, 336: 65, 340: 66, 345: 67, 348: 68, 352: 69, 359: 70, 362: 71, 371: 72, 381: 73}\n"
     ]
    }
   ],
   "source": [
    "print(raw)\n",
    "print(words)\n",
    "print(word_index)"
   ]
  },
  {
   "cell_type": "code",
   "execution_count": 137,
   "metadata": {},
   "outputs": [
    {
     "output_type": "stream",
     "name": "stdout",
     "text": [
      "ID                                                    development-5\nText              Her Santa Fe Opera debut in 2005 was as Nuria ...\nPronoun                                                         She\nPronoun-offset                                                  437\nA                                                 Kitty Oppenheimer\nA-offset                                                        219\nA-coref                                                       False\nB                                                            Rivera\nB-offset                                                        294\nB-coref                                                        True\nURL                     http://en.wikipedia.org/wiki/Jessica_Rivera\nName: 4, dtype: object\nID                                                    development-6\nText              Sandra Collins is an American DJ. She got her ...\nPronoun                                                         She\nPronoun-offset                                                  411\nA                                                           Collins\nA-offset                                                        236\nA-coref                                                        True\nB                                                                DJ\nB-offset                                                        347\nB-coref                                                       False\nURL                     http://en.wikipedia.org/wiki/Sandra_Collins\nName: 5, dtype: object\nID                                                   development-10\nText              Shaftesbury's UK partners in the production of...\nPronoun                                                         she\nPronoun-offset                                                  329\nA                                                Christina Jennings\nA-offset                                                        196\nA-coref                                                        True\nB                                                  Kirstine Stewart\nB-offset                                                        226\nB-coref                                                       False\nURL                  http://en.wikipedia.org/wiki/Murdoch_Mysteries\nName: 9, dtype: object\nID                                                   development-12\nText              His maternal great-grandfather was Henry Percy...\nPronoun                                                         She\nPronoun-offset                                                  304\nA                                                           Eleanor\nA-offset                                                        217\nA-coref                                                        True\nB                                                 Eleanor Beauchamp\nB-offset                                                        285\nB-coref                                                       False\nURL               http://en.wikipedia.org/wiki/Henry_Clifford,_2...\nName: 11, dtype: object\nID                                                   development-16\nText              A colleague in the department run by Erwin Fri...\nPronoun                                                         she\nPronoun-offset                                                  295\nA                                                      Alma Taggart\nA-offset                                                        192\nA-coref                                                       False\nB                                                         McCulloch\nB-offset                                                        219\nB-coref                                                       False\nURL                    http://en.wikipedia.org/wiki/Lucia_McCulloch\nName: 15, dtype: object\n"
     ]
    },
    {
     "output_type": "error",
     "ename": "KeyError",
     "evalue": "219",
     "traceback": [
      "\u001b[0;31m---------------------------------------------------------------------------\u001b[0m",
      "\u001b[0;31mKeyError\u001b[0m                                  Traceback (most recent call last)",
      "\u001b[0;32m<ipython-input-137-f03c730ca91c>\u001b[0m in \u001b[0;36m<module>\u001b[0;34m\u001b[0m\n\u001b[1;32m     26\u001b[0m     \u001b[0mprint\u001b[0m\u001b[0;34m(\u001b[0m\u001b[0mrow\u001b[0m\u001b[0;34m)\u001b[0m\u001b[0;34m\u001b[0m\u001b[0;34m\u001b[0m\u001b[0m\n\u001b[1;32m     27\u001b[0m     \u001b[0;32mif\u001b[0m \u001b[0mis_subject\u001b[0m\u001b[0;34m(\u001b[0m\u001b[0mrow\u001b[0m\u001b[0;34m[\u001b[0m\u001b[0;34m'Text'\u001b[0m\u001b[0;34m]\u001b[0m\u001b[0;34m,\u001b[0m \u001b[0mrow\u001b[0m\u001b[0;34m[\u001b[0m\u001b[0;34m'A'\u001b[0m\u001b[0;34m]\u001b[0m\u001b[0;34m,\u001b[0m \u001b[0mrow\u001b[0m\u001b[0;34m[\u001b[0m\u001b[0;34m'A-offset'\u001b[0m\u001b[0;34m]\u001b[0m\u001b[0;34m)\u001b[0m \u001b[0;32mor\u001b[0m\u001b[0;31m \u001b[0m\u001b[0;31m\\\u001b[0m\u001b[0;34m\u001b[0m\u001b[0;34m\u001b[0m\u001b[0m\n\u001b[0;32m---> 28\u001b[0;31m        \u001b[0mis_subject\u001b[0m\u001b[0;34m(\u001b[0m\u001b[0mrow\u001b[0m\u001b[0;34m[\u001b[0m\u001b[0;34m'Text'\u001b[0m\u001b[0;34m]\u001b[0m\u001b[0;34m,\u001b[0m \u001b[0mrow\u001b[0m\u001b[0;34m[\u001b[0m\u001b[0;34m'B'\u001b[0m\u001b[0;34m]\u001b[0m\u001b[0;34m,\u001b[0m \u001b[0mrow\u001b[0m\u001b[0;34m[\u001b[0m\u001b[0;34m'B-offset'\u001b[0m\u001b[0;34m]\u001b[0m\u001b[0;34m)\u001b[0m\u001b[0;34m:\u001b[0m\u001b[0;34m\u001b[0m\u001b[0;34m\u001b[0m\u001b[0m\n\u001b[0m\u001b[1;32m     29\u001b[0m             \u001b[0msubjects_data\u001b[0m\u001b[0;34m.\u001b[0m\u001b[0mappend\u001b[0m\u001b[0;34m(\u001b[0m\u001b[0mrow\u001b[0m\u001b[0;34m)\u001b[0m\u001b[0;34m\u001b[0m\u001b[0;34m\u001b[0m\u001b[0m\n\u001b[1;32m     30\u001b[0m \u001b[0;34m\u001b[0m\u001b[0m\n",
      "\u001b[0;32m<ipython-input-137-f03c730ca91c>\u001b[0m in \u001b[0;36mis_subject\u001b[0;34m(text, word, word_id)\u001b[0m\n\u001b[1;32m     18\u001b[0m     \u001b[0;32mdef\u001b[0m \u001b[0mis_subject\u001b[0m\u001b[0;34m(\u001b[0m\u001b[0mtext\u001b[0m\u001b[0;34m,\u001b[0m \u001b[0mword\u001b[0m\u001b[0;34m,\u001b[0m \u001b[0mword_id\u001b[0m\u001b[0;34m)\u001b[0m\u001b[0;34m:\u001b[0m\u001b[0;34m\u001b[0m\u001b[0;34m\u001b[0m\u001b[0m\n\u001b[1;32m     19\u001b[0m         \u001b[0mword_length\u001b[0m \u001b[0;34m=\u001b[0m \u001b[0mlen\u001b[0m\u001b[0;34m(\u001b[0m\u001b[0mword\u001b[0m\u001b[0;34m.\u001b[0m\u001b[0msplit\u001b[0m\u001b[0;34m(\u001b[0m\u001b[0;34m)\u001b[0m\u001b[0;34m)\u001b[0m\u001b[0;34m\u001b[0m\u001b[0;34m\u001b[0m\u001b[0m\n\u001b[0;32m---> 20\u001b[0;31m         \u001b[0mword\u001b[0m \u001b[0;34m,\u001b[0m\u001b[0mtag\u001b[0m \u001b[0;34m=\u001b[0m \u001b[0mtagged_words\u001b[0m\u001b[0;34m[\u001b[0m\u001b[0mword_index\u001b[0m\u001b[0;34m[\u001b[0m\u001b[0mword_id\u001b[0m\u001b[0;34m]\u001b[0m\u001b[0;34m+\u001b[0m\u001b[0mword_length\u001b[0m\u001b[0;34m]\u001b[0m\u001b[0;34m\u001b[0m\u001b[0;34m\u001b[0m\u001b[0m\n\u001b[0m\u001b[1;32m     21\u001b[0m         \u001b[0;32mif\u001b[0m \u001b[0mtag\u001b[0m\u001b[0;34m.\u001b[0m\u001b[0mstartswith\u001b[0m\u001b[0;34m(\u001b[0m\u001b[0;34m'V'\u001b[0m\u001b[0;34m)\u001b[0m\u001b[0;34m:\u001b[0m\u001b[0;34m\u001b[0m\u001b[0;34m\u001b[0m\u001b[0m\n\u001b[1;32m     22\u001b[0m             \u001b[0;32mreturn\u001b[0m \u001b[0;32mTrue\u001b[0m\u001b[0;34m\u001b[0m\u001b[0;34m\u001b[0m\u001b[0m\n",
      "\u001b[0;31mKeyError\u001b[0m: 219"
     ]
    }
   ],
   "source": [
    "subjects_data = []\n",
    "for row in subject_data.iloc:\n",
    "\n",
    "    def id2word_index(words):\n",
    "        word_index = {}\n",
    "        index = 0\n",
    "        for i, word in enumerate(words):\n",
    "            word_index[index] = i\n",
    "            index += len(word)\n",
    "            if not word in ['.', ',', \"'s\", '(', ')', '\"', '``']:\n",
    "                index += 1\n",
    "            if word in ['*']:\n",
    "                index -= 2\n",
    "        return word_index\n",
    "\n",
    "    words = nltk.word_tokenize(row['Text'])\n",
    "    tagged_words = nltk.pos_tag(words)\n",
    "    word_index = id2word_index(words)\n",
    "    \n",
    "    def is_subject(text, word, word_id):\n",
    "        word_length = len(word.split())\n",
    "        word ,tag = tagged_words[word_index[word_id]+word_length]\n",
    "        if tag.startswith('V'):\n",
    "            return True\n",
    "        else:\n",
    "            return False\n",
    "\n",
    "    print(row)\n",
    "    if is_subject(row['Text'], row['A'], row['A-offset']) or \\\n",
    "       is_subject(row['Text'], row['B'], row['B-offset']):\n",
    "            subjects_data.append(row)\n",
    "\n",
    "subjects_data = pd.DataFrame(subjects_data, columns= subject_data.columns)"
   ]
  },
  {
   "cell_type": "code",
   "execution_count": null,
   "metadata": {},
   "outputs": [],
   "source": []
  }
 ]
}